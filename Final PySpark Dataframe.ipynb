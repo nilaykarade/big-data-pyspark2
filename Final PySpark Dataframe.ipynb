{
 "cells": [
  {
   "cell_type": "code",
   "execution_count": 0,
   "metadata": {
    "application/vnd.databricks.v1+cell": {
     "cellMetadata": {
      "byteLimit": 2048000,
      "rowLimit": 10000
     },
     "inputWidgets": {},
     "nuid": "73016072-e50d-42a0-9771-3c5603cbc2da",
     "showTitle": true,
     "title": "read csv"
    }
   },
   "outputs": [
    {
     "output_type": "stream",
     "name": "stdout",
     "output_type": "stream",
     "text": [
      "+---+------+----------------+------+------+-----+--------------------+\n|age|gender|            name|course|  roll|marks|               email|\n+---+------+----------------+------+------+-----+--------------------+\n| 28|Female| Hubert Oliveras|    DB| 02984|   59|Annika Hoffman_Na...|\n| 29|Female|Toshiko Hillyard| Cloud| 12899|   62|Margene Moores_Ma...|\n| 28|  Male|  Celeste Lollis|    PF| 21267|   45|Jeannetta Golden_...|\n| 29|Female|    Elenore Choy|    DB| 32877|   29|Billi Clore_Mitzi...|\n| 28|  Male|  Sheryll Towler|   DSA| 41487|   41|Claude Panos_Judi...|\n| 28|  Male|  Margene Moores|   MVC| 52771|   32|Toshiko Hillyard_...|\n| 28|  Male|     Neda Briski|   OOP| 61973|   69|Alberta Freund_El...|\n| 28|Female|    Claude Panos| Cloud| 72409|   85|Sheryll Towler_Al...|\n| 28|  Male|  Celeste Lollis|   MVC| 81492|   64|Nicole Harwood_Cl...|\n| 29|  Male|  Cordie Harnois|   OOP| 92882|   51|Judie Chipps_Clem...|\n| 29|Female|       Kena Wild|   DSA|102285|   35|Dustin Feagins_Ma...|\n| 29|  Male| Ernest Rossbach|    DB|111449|   53|Maybell Duguay_Ab...|\n| 28|Female|  Latia Vanhoose|    DB|122502|   27|Latia Vanhoose_Mi...|\n| 29|Female|  Latia Vanhoose|   MVC|132110|   55|Eda Neathery_Nico...|\n| 29|  Male|     Neda Briski|    PF|141770|   42|Margene Moores_Mi...|\n| 29|Female|  Latia Vanhoose|    DB|152159|   27|Claude Panos_Sant...|\n| 29|  Male|  Loris Crossett|   MVC|161771|   36|Mitzi Seldon_Jenn...|\n| 29|  Male|  Annika Hoffman|   OOP|171660|   22|Taryn Brownlee_Mi...|\n| 29|  Male|   Santa Kerfien|    PF|182129|   56|Judie Chipps_Tary...|\n| 28|Female|Mickey Cortright|    DB|192537|   62|Ernest Rossbach_M...|\n+---+------+----------------+------+------+-----+--------------------+\nonly showing top 20 rows\n\n"
     ]
    }
   ],
   "source": [
    "df = spark.read.format(\"csv\").option(\"header\", \"true\").load(\"dbfs:/FileStore/shared_uploads/nilay.k.meera@gmail.com/StudentData-2.csv\")\n",
    "df.show()"
   ]
  },
  {
   "cell_type": "code",
   "execution_count": 0,
   "metadata": {
    "application/vnd.databricks.v1+cell": {
     "cellMetadata": {
      "byteLimit": 2048000,
      "rowLimit": 10000
     },
     "inputWidgets": {},
     "nuid": "0c5de8af-76c1-4c2b-841e-83e5d2d3eb9e",
     "showTitle": false,
     "title": ""
    }
   },
   "outputs": [
    {
     "output_type": "display_data",
     "data": {
      "text/plain": [
       "\u001B[0;31m---------------------------------------------------------------------------\u001B[0m\n",
       "\u001B[0;31mAnalysisException\u001B[0m                         Traceback (most recent call last)\n",
       "File \u001B[0;32m<command-3563007807652913>:1\u001B[0m\n",
       "\u001B[0;32m----> 1\u001B[0m df\u001B[38;5;241m=\u001B[39mspark\u001B[38;5;241m.\u001B[39mread\u001B[38;5;241m.\u001B[39moption(\u001B[38;5;124m'\u001B[39m\u001B[38;5;124mheader\u001B[39m\u001B[38;5;124m'\u001B[39m,\u001B[38;5;28;01mTrue\u001B[39;00m)\u001B[38;5;241m.\u001B[39moption(\u001B[38;5;124m'\u001B[39m\u001B[38;5;124minferSchema\u001B[39m\u001B[38;5;124m'\u001B[39m,\u001B[38;5;28;01mTrue\u001B[39;00m)\u001B[38;5;241m.\u001B[39mcsv(\u001B[38;5;124m'\u001B[39m\u001B[38;5;124m/FileStore/shared_uploads/oshiotserowland@gmail.com/StudentData-1.csv\u001B[39m\u001B[38;5;124m'\u001B[39m)\n",
       "\u001B[1;32m      2\u001B[0m df\u001B[38;5;241m.\u001B[39mshow()\n",
       "\n",
       "File \u001B[0;32m/databricks/spark/python/pyspark/instrumentation_utils.py:48\u001B[0m, in \u001B[0;36m_wrap_function.<locals>.wrapper\u001B[0;34m(*args, **kwargs)\u001B[0m\n",
       "\u001B[1;32m     46\u001B[0m start \u001B[38;5;241m=\u001B[39m time\u001B[38;5;241m.\u001B[39mperf_counter()\n",
       "\u001B[1;32m     47\u001B[0m \u001B[38;5;28;01mtry\u001B[39;00m:\n",
       "\u001B[0;32m---> 48\u001B[0m     res \u001B[38;5;241m=\u001B[39m \u001B[43mfunc\u001B[49m\u001B[43m(\u001B[49m\u001B[38;5;241;43m*\u001B[39;49m\u001B[43margs\u001B[49m\u001B[43m,\u001B[49m\u001B[43m \u001B[49m\u001B[38;5;241;43m*\u001B[39;49m\u001B[38;5;241;43m*\u001B[39;49m\u001B[43mkwargs\u001B[49m\u001B[43m)\u001B[49m\n",
       "\u001B[1;32m     49\u001B[0m     logger\u001B[38;5;241m.\u001B[39mlog_success(\n",
       "\u001B[1;32m     50\u001B[0m         module_name, class_name, function_name, time\u001B[38;5;241m.\u001B[39mperf_counter() \u001B[38;5;241m-\u001B[39m start, signature\n",
       "\u001B[1;32m     51\u001B[0m     )\n",
       "\u001B[1;32m     52\u001B[0m     \u001B[38;5;28;01mreturn\u001B[39;00m res\n",
       "\n",
       "File \u001B[0;32m/databricks/spark/python/pyspark/sql/readwriter.py:729\u001B[0m, in \u001B[0;36mDataFrameReader.csv\u001B[0;34m(self, path, schema, sep, encoding, quote, escape, comment, header, inferSchema, ignoreLeadingWhiteSpace, ignoreTrailingWhiteSpace, nullValue, nanValue, positiveInf, negativeInf, dateFormat, timestampFormat, maxColumns, maxCharsPerColumn, maxMalformedLogPerPartition, mode, columnNameOfCorruptRecord, multiLine, charToEscapeQuoteEscaping, samplingRatio, enforceSchema, emptyValue, locale, lineSep, pathGlobFilter, recursiveFileLookup, modifiedBefore, modifiedAfter, unescapedQuoteHandling)\u001B[0m\n",
       "\u001B[1;32m    727\u001B[0m \u001B[38;5;28;01mif\u001B[39;00m \u001B[38;5;28mtype\u001B[39m(path) \u001B[38;5;241m==\u001B[39m \u001B[38;5;28mlist\u001B[39m:\n",
       "\u001B[1;32m    728\u001B[0m     \u001B[38;5;28;01massert\u001B[39;00m \u001B[38;5;28mself\u001B[39m\u001B[38;5;241m.\u001B[39m_spark\u001B[38;5;241m.\u001B[39m_sc\u001B[38;5;241m.\u001B[39m_jvm \u001B[38;5;129;01mis\u001B[39;00m \u001B[38;5;129;01mnot\u001B[39;00m \u001B[38;5;28;01mNone\u001B[39;00m\n",
       "\u001B[0;32m--> 729\u001B[0m     \u001B[38;5;28;01mreturn\u001B[39;00m \u001B[38;5;28mself\u001B[39m\u001B[38;5;241m.\u001B[39m_df(\u001B[38;5;28;43mself\u001B[39;49m\u001B[38;5;241;43m.\u001B[39;49m\u001B[43m_jreader\u001B[49m\u001B[38;5;241;43m.\u001B[39;49m\u001B[43mcsv\u001B[49m\u001B[43m(\u001B[49m\u001B[38;5;28;43mself\u001B[39;49m\u001B[38;5;241;43m.\u001B[39;49m\u001B[43m_spark\u001B[49m\u001B[38;5;241;43m.\u001B[39;49m\u001B[43m_sc\u001B[49m\u001B[38;5;241;43m.\u001B[39;49m\u001B[43m_jvm\u001B[49m\u001B[38;5;241;43m.\u001B[39;49m\u001B[43mPythonUtils\u001B[49m\u001B[38;5;241;43m.\u001B[39;49m\u001B[43mtoSeq\u001B[49m\u001B[43m(\u001B[49m\u001B[43mpath\u001B[49m\u001B[43m)\u001B[49m\u001B[43m)\u001B[49m)\n",
       "\u001B[1;32m    730\u001B[0m \u001B[38;5;28;01melif\u001B[39;00m \u001B[38;5;28misinstance\u001B[39m(path, RDD):\n",
       "\u001B[1;32m    732\u001B[0m     \u001B[38;5;28;01mdef\u001B[39;00m \u001B[38;5;21mfunc\u001B[39m(iterator):\n",
       "\n",
       "File \u001B[0;32m/databricks/spark/python/lib/py4j-0.10.9.5-src.zip/py4j/java_gateway.py:1321\u001B[0m, in \u001B[0;36mJavaMember.__call__\u001B[0;34m(self, *args)\u001B[0m\n",
       "\u001B[1;32m   1315\u001B[0m command \u001B[38;5;241m=\u001B[39m proto\u001B[38;5;241m.\u001B[39mCALL_COMMAND_NAME \u001B[38;5;241m+\u001B[39m\\\n",
       "\u001B[1;32m   1316\u001B[0m     \u001B[38;5;28mself\u001B[39m\u001B[38;5;241m.\u001B[39mcommand_header \u001B[38;5;241m+\u001B[39m\\\n",
       "\u001B[1;32m   1317\u001B[0m     args_command \u001B[38;5;241m+\u001B[39m\\\n",
       "\u001B[1;32m   1318\u001B[0m     proto\u001B[38;5;241m.\u001B[39mEND_COMMAND_PART\n",
       "\u001B[1;32m   1320\u001B[0m answer \u001B[38;5;241m=\u001B[39m \u001B[38;5;28mself\u001B[39m\u001B[38;5;241m.\u001B[39mgateway_client\u001B[38;5;241m.\u001B[39msend_command(command)\n",
       "\u001B[0;32m-> 1321\u001B[0m return_value \u001B[38;5;241m=\u001B[39m \u001B[43mget_return_value\u001B[49m\u001B[43m(\u001B[49m\n",
       "\u001B[1;32m   1322\u001B[0m \u001B[43m    \u001B[49m\u001B[43manswer\u001B[49m\u001B[43m,\u001B[49m\u001B[43m \u001B[49m\u001B[38;5;28;43mself\u001B[39;49m\u001B[38;5;241;43m.\u001B[39;49m\u001B[43mgateway_client\u001B[49m\u001B[43m,\u001B[49m\u001B[43m \u001B[49m\u001B[38;5;28;43mself\u001B[39;49m\u001B[38;5;241;43m.\u001B[39;49m\u001B[43mtarget_id\u001B[49m\u001B[43m,\u001B[49m\u001B[43m \u001B[49m\u001B[38;5;28;43mself\u001B[39;49m\u001B[38;5;241;43m.\u001B[39;49m\u001B[43mname\u001B[49m\u001B[43m)\u001B[49m\n",
       "\u001B[1;32m   1324\u001B[0m \u001B[38;5;28;01mfor\u001B[39;00m temp_arg \u001B[38;5;129;01min\u001B[39;00m temp_args:\n",
       "\u001B[1;32m   1325\u001B[0m     temp_arg\u001B[38;5;241m.\u001B[39m_detach()\n",
       "\n",
       "File \u001B[0;32m/databricks/spark/python/pyspark/errors/exceptions.py:234\u001B[0m, in \u001B[0;36mcapture_sql_exception.<locals>.deco\u001B[0;34m(*a, **kw)\u001B[0m\n",
       "\u001B[1;32m    230\u001B[0m converted \u001B[38;5;241m=\u001B[39m convert_exception(e\u001B[38;5;241m.\u001B[39mjava_exception)\n",
       "\u001B[1;32m    231\u001B[0m \u001B[38;5;28;01mif\u001B[39;00m \u001B[38;5;129;01mnot\u001B[39;00m \u001B[38;5;28misinstance\u001B[39m(converted, UnknownException):\n",
       "\u001B[1;32m    232\u001B[0m     \u001B[38;5;66;03m# Hide where the exception came from that shows a non-Pythonic\u001B[39;00m\n",
       "\u001B[1;32m    233\u001B[0m     \u001B[38;5;66;03m# JVM exception message.\u001B[39;00m\n",
       "\u001B[0;32m--> 234\u001B[0m     \u001B[38;5;28;01mraise\u001B[39;00m converted \u001B[38;5;28;01mfrom\u001B[39;00m \u001B[38;5;28mNone\u001B[39m\n",
       "\u001B[1;32m    235\u001B[0m \u001B[38;5;28;01melse\u001B[39;00m:\n",
       "\u001B[1;32m    236\u001B[0m     \u001B[38;5;28;01mraise\u001B[39;00m\n",
       "\n",
       "\u001B[0;31mAnalysisException\u001B[0m: [PATH_NOT_FOUND] Path does not exist: dbfs:/FileStore/shared_uploads/oshiotserowland@gmail.com/StudentData-1.csv."
      ]
     },
     "metadata": {
      "application/vnd.databricks.v1+output": {
       "arguments": {},
       "data": "\u001B[0;31m---------------------------------------------------------------------------\u001B[0m\n\u001B[0;31mAnalysisException\u001B[0m                         Traceback (most recent call last)\nFile \u001B[0;32m<command-3563007807652913>:1\u001B[0m\n\u001B[0;32m----> 1\u001B[0m df\u001B[38;5;241m=\u001B[39mspark\u001B[38;5;241m.\u001B[39mread\u001B[38;5;241m.\u001B[39moption(\u001B[38;5;124m'\u001B[39m\u001B[38;5;124mheader\u001B[39m\u001B[38;5;124m'\u001B[39m,\u001B[38;5;28;01mTrue\u001B[39;00m)\u001B[38;5;241m.\u001B[39moption(\u001B[38;5;124m'\u001B[39m\u001B[38;5;124minferSchema\u001B[39m\u001B[38;5;124m'\u001B[39m,\u001B[38;5;28;01mTrue\u001B[39;00m)\u001B[38;5;241m.\u001B[39mcsv(\u001B[38;5;124m'\u001B[39m\u001B[38;5;124m/FileStore/shared_uploads/oshiotserowland@gmail.com/StudentData-1.csv\u001B[39m\u001B[38;5;124m'\u001B[39m)\n\u001B[1;32m      2\u001B[0m df\u001B[38;5;241m.\u001B[39mshow()\n\nFile \u001B[0;32m/databricks/spark/python/pyspark/instrumentation_utils.py:48\u001B[0m, in \u001B[0;36m_wrap_function.<locals>.wrapper\u001B[0;34m(*args, **kwargs)\u001B[0m\n\u001B[1;32m     46\u001B[0m start \u001B[38;5;241m=\u001B[39m time\u001B[38;5;241m.\u001B[39mperf_counter()\n\u001B[1;32m     47\u001B[0m \u001B[38;5;28;01mtry\u001B[39;00m:\n\u001B[0;32m---> 48\u001B[0m     res \u001B[38;5;241m=\u001B[39m \u001B[43mfunc\u001B[49m\u001B[43m(\u001B[49m\u001B[38;5;241;43m*\u001B[39;49m\u001B[43margs\u001B[49m\u001B[43m,\u001B[49m\u001B[43m \u001B[49m\u001B[38;5;241;43m*\u001B[39;49m\u001B[38;5;241;43m*\u001B[39;49m\u001B[43mkwargs\u001B[49m\u001B[43m)\u001B[49m\n\u001B[1;32m     49\u001B[0m     logger\u001B[38;5;241m.\u001B[39mlog_success(\n\u001B[1;32m     50\u001B[0m         module_name, class_name, function_name, time\u001B[38;5;241m.\u001B[39mperf_counter() \u001B[38;5;241m-\u001B[39m start, signature\n\u001B[1;32m     51\u001B[0m     )\n\u001B[1;32m     52\u001B[0m     \u001B[38;5;28;01mreturn\u001B[39;00m res\n\nFile \u001B[0;32m/databricks/spark/python/pyspark/sql/readwriter.py:729\u001B[0m, in \u001B[0;36mDataFrameReader.csv\u001B[0;34m(self, path, schema, sep, encoding, quote, escape, comment, header, inferSchema, ignoreLeadingWhiteSpace, ignoreTrailingWhiteSpace, nullValue, nanValue, positiveInf, negativeInf, dateFormat, timestampFormat, maxColumns, maxCharsPerColumn, maxMalformedLogPerPartition, mode, columnNameOfCorruptRecord, multiLine, charToEscapeQuoteEscaping, samplingRatio, enforceSchema, emptyValue, locale, lineSep, pathGlobFilter, recursiveFileLookup, modifiedBefore, modifiedAfter, unescapedQuoteHandling)\u001B[0m\n\u001B[1;32m    727\u001B[0m \u001B[38;5;28;01mif\u001B[39;00m \u001B[38;5;28mtype\u001B[39m(path) \u001B[38;5;241m==\u001B[39m \u001B[38;5;28mlist\u001B[39m:\n\u001B[1;32m    728\u001B[0m     \u001B[38;5;28;01massert\u001B[39;00m \u001B[38;5;28mself\u001B[39m\u001B[38;5;241m.\u001B[39m_spark\u001B[38;5;241m.\u001B[39m_sc\u001B[38;5;241m.\u001B[39m_jvm \u001B[38;5;129;01mis\u001B[39;00m \u001B[38;5;129;01mnot\u001B[39;00m \u001B[38;5;28;01mNone\u001B[39;00m\n\u001B[0;32m--> 729\u001B[0m     \u001B[38;5;28;01mreturn\u001B[39;00m \u001B[38;5;28mself\u001B[39m\u001B[38;5;241m.\u001B[39m_df(\u001B[38;5;28;43mself\u001B[39;49m\u001B[38;5;241;43m.\u001B[39;49m\u001B[43m_jreader\u001B[49m\u001B[38;5;241;43m.\u001B[39;49m\u001B[43mcsv\u001B[49m\u001B[43m(\u001B[49m\u001B[38;5;28;43mself\u001B[39;49m\u001B[38;5;241;43m.\u001B[39;49m\u001B[43m_spark\u001B[49m\u001B[38;5;241;43m.\u001B[39;49m\u001B[43m_sc\u001B[49m\u001B[38;5;241;43m.\u001B[39;49m\u001B[43m_jvm\u001B[49m\u001B[38;5;241;43m.\u001B[39;49m\u001B[43mPythonUtils\u001B[49m\u001B[38;5;241;43m.\u001B[39;49m\u001B[43mtoSeq\u001B[49m\u001B[43m(\u001B[49m\u001B[43mpath\u001B[49m\u001B[43m)\u001B[49m\u001B[43m)\u001B[49m)\n\u001B[1;32m    730\u001B[0m \u001B[38;5;28;01melif\u001B[39;00m \u001B[38;5;28misinstance\u001B[39m(path, RDD):\n\u001B[1;32m    732\u001B[0m     \u001B[38;5;28;01mdef\u001B[39;00m \u001B[38;5;21mfunc\u001B[39m(iterator):\n\nFile \u001B[0;32m/databricks/spark/python/lib/py4j-0.10.9.5-src.zip/py4j/java_gateway.py:1321\u001B[0m, in \u001B[0;36mJavaMember.__call__\u001B[0;34m(self, *args)\u001B[0m\n\u001B[1;32m   1315\u001B[0m command \u001B[38;5;241m=\u001B[39m proto\u001B[38;5;241m.\u001B[39mCALL_COMMAND_NAME \u001B[38;5;241m+\u001B[39m\\\n\u001B[1;32m   1316\u001B[0m     \u001B[38;5;28mself\u001B[39m\u001B[38;5;241m.\u001B[39mcommand_header \u001B[38;5;241m+\u001B[39m\\\n\u001B[1;32m   1317\u001B[0m     args_command \u001B[38;5;241m+\u001B[39m\\\n\u001B[1;32m   1318\u001B[0m     proto\u001B[38;5;241m.\u001B[39mEND_COMMAND_PART\n\u001B[1;32m   1320\u001B[0m answer \u001B[38;5;241m=\u001B[39m \u001B[38;5;28mself\u001B[39m\u001B[38;5;241m.\u001B[39mgateway_client\u001B[38;5;241m.\u001B[39msend_command(command)\n\u001B[0;32m-> 1321\u001B[0m return_value \u001B[38;5;241m=\u001B[39m \u001B[43mget_return_value\u001B[49m\u001B[43m(\u001B[49m\n\u001B[1;32m   1322\u001B[0m \u001B[43m    \u001B[49m\u001B[43manswer\u001B[49m\u001B[43m,\u001B[49m\u001B[43m \u001B[49m\u001B[38;5;28;43mself\u001B[39;49m\u001B[38;5;241;43m.\u001B[39;49m\u001B[43mgateway_client\u001B[49m\u001B[43m,\u001B[49m\u001B[43m \u001B[49m\u001B[38;5;28;43mself\u001B[39;49m\u001B[38;5;241;43m.\u001B[39;49m\u001B[43mtarget_id\u001B[49m\u001B[43m,\u001B[49m\u001B[43m \u001B[49m\u001B[38;5;28;43mself\u001B[39;49m\u001B[38;5;241;43m.\u001B[39;49m\u001B[43mname\u001B[49m\u001B[43m)\u001B[49m\n\u001B[1;32m   1324\u001B[0m \u001B[38;5;28;01mfor\u001B[39;00m temp_arg \u001B[38;5;129;01min\u001B[39;00m temp_args:\n\u001B[1;32m   1325\u001B[0m     temp_arg\u001B[38;5;241m.\u001B[39m_detach()\n\nFile \u001B[0;32m/databricks/spark/python/pyspark/errors/exceptions.py:234\u001B[0m, in \u001B[0;36mcapture_sql_exception.<locals>.deco\u001B[0;34m(*a, **kw)\u001B[0m\n\u001B[1;32m    230\u001B[0m converted \u001B[38;5;241m=\u001B[39m convert_exception(e\u001B[38;5;241m.\u001B[39mjava_exception)\n\u001B[1;32m    231\u001B[0m \u001B[38;5;28;01mif\u001B[39;00m \u001B[38;5;129;01mnot\u001B[39;00m \u001B[38;5;28misinstance\u001B[39m(converted, UnknownException):\n\u001B[1;32m    232\u001B[0m     \u001B[38;5;66;03m# Hide where the exception came from that shows a non-Pythonic\u001B[39;00m\n\u001B[1;32m    233\u001B[0m     \u001B[38;5;66;03m# JVM exception message.\u001B[39;00m\n\u001B[0;32m--> 234\u001B[0m     \u001B[38;5;28;01mraise\u001B[39;00m converted \u001B[38;5;28;01mfrom\u001B[39;00m \u001B[38;5;28mNone\u001B[39m\n\u001B[1;32m    235\u001B[0m \u001B[38;5;28;01melse\u001B[39;00m:\n\u001B[1;32m    236\u001B[0m     \u001B[38;5;28;01mraise\u001B[39;00m\n\n\u001B[0;31mAnalysisException\u001B[0m: [PATH_NOT_FOUND] Path does not exist: dbfs:/FileStore/shared_uploads/oshiotserowland@gmail.com/StudentData-1.csv.",
       "errorSummary": "<span class='ansi-red-fg'>AnalysisException</span>: [PATH_NOT_FOUND] Path does not exist: dbfs:/FileStore/shared_uploads/oshiotserowland@gmail.com/StudentData-1.csv.",
       "errorTraceType": "ansi",
       "metadata": {},
       "type": "ipynbError"
      }
     },
     "output_type": "display_data"
    }
   ],
   "source": [
    "df=spark.read.option('header',True).option('inferSchema',True).csv('/FileStore/shared_uploads/oshiotserowland@gmail.com/StudentData-1.csv')\n",
    "df.show()"
   ]
  },
  {
   "cell_type": "code",
   "execution_count": 0,
   "metadata": {
    "application/vnd.databricks.v1+cell": {
     "cellMetadata": {
      "byteLimit": 2048000,
      "rowLimit": 10000
     },
     "inputWidgets": {},
     "nuid": "c0118e19-c60f-4bd7-97a0-770a2140d904",
     "showTitle": false,
     "title": ""
    }
   },
   "outputs": [
    {
     "output_type": "stream",
     "name": "stdout",
     "output_type": "stream",
     "text": [
      "root\n |-- age: string (nullable = true)\n |-- gender: string (nullable = true)\n |-- name: string (nullable = true)\n |-- course: string (nullable = true)\n |-- roll: string (nullable = true)\n |-- marks: string (nullable = true)\n |-- email: string (nullable = true)\n\n"
     ]
    }
   ],
   "source": [
    "#displays structure of dataframe\n",
    "df.printSchema()"
   ]
  },
  {
   "cell_type": "code",
   "execution_count": 0,
   "metadata": {
    "application/vnd.databricks.v1+cell": {
     "cellMetadata": {
      "byteLimit": 2048000,
      "rowLimit": 10000
     },
     "inputWidgets": {},
     "nuid": "fdb862f1-e4fe-414e-a9c8-7e02a7de0ffe",
     "showTitle": false,
     "title": ""
    }
   },
   "outputs": [
    {
     "output_type": "stream",
     "name": "stdout",
     "output_type": "stream",
     "text": [
      "root\n |-- age: integer (nullable = true)\n |-- gender: string (nullable = true)\n |-- name: string (nullable = true)\n |-- course: string (nullable = true)\n |-- roll: integer (nullable = true)\n |-- marks: integer (nullable = true)\n |-- email: string (nullable = true)\n\n"
     ]
    }
   ],
   "source": [
    "df=spark.read.options(header=True,inferSchema=True).csv('dbfs:/FileStore/shared_uploads/nilay.k.meera@gmail.com/StudentData-2.csv')\n",
    "df.printSchema()"
   ]
  },
  {
   "cell_type": "code",
   "execution_count": 0,
   "metadata": {
    "application/vnd.databricks.v1+cell": {
     "cellMetadata": {
      "byteLimit": 2048000,
      "rowLimit": 10000
     },
     "inputWidgets": {},
     "nuid": "173bcf16-92f1-486b-9bca-5009d843b439",
     "showTitle": false,
     "title": ""
    }
   },
   "outputs": [],
   "source": [
    "from pyspark.sql.types import StructType, StructField, StringType, IntegerType\n",
    " \n",
    "my_schema = StructType([\n",
    "                    StructField(\"age\", IntegerType(), True),\n",
    "                    StructField(\"gender\", StringType(), True),\n",
    "                    StructField(\"name\", StringType(), True),\n",
    "                    StructField(\"course\", StringType(), True),\n",
    "                    StructField(\"roll\", StringType(), True),\n",
    "                    StructField(\"marks\", IntegerType(), True),\n",
    "                    StructField(\"email\", StringType(), True)\n",
    "])"
   ]
  },
  {
   "cell_type": "code",
   "execution_count": 0,
   "metadata": {
    "application/vnd.databricks.v1+cell": {
     "cellMetadata": {
      "byteLimit": 2048000,
      "rowLimit": 10000
     },
     "inputWidgets": {},
     "nuid": "c4903451-6f30-4a88-b6f3-9bb2ae0dc578",
     "showTitle": false,
     "title": ""
    }
   },
   "outputs": [
    {
     "output_type": "stream",
     "name": "stdout",
     "output_type": "stream",
     "text": [
      "root\n |-- age: integer (nullable = true)\n |-- gender: string (nullable = true)\n |-- name: string (nullable = true)\n |-- course: string (nullable = true)\n |-- roll: string (nullable = true)\n |-- marks: integer (nullable = true)\n |-- email: string (nullable = true)\n\n"
     ]
    }
   ],
   "source": [
    "df=spark.read.options(header=True).schema(my_schema).csv('dbfs:/FileStore/shared_uploads/nilay.k.meera@gmail.com/StudentData-2.csv')\n",
    "df.printSchema()"
   ]
  },
  {
   "cell_type": "code",
   "execution_count": 0,
   "metadata": {
    "application/vnd.databricks.v1+cell": {
     "cellMetadata": {
      "byteLimit": 2048000,
      "rowLimit": 10000
     },
     "inputWidgets": {},
     "nuid": "b77bde9c-06ad-408f-acaa-1141811539f7",
     "showTitle": false,
     "title": ""
    }
   },
   "outputs": [],
   "source": [
    "from pyspark.sql.functions import col, lit"
   ]
  },
  {
   "cell_type": "code",
   "execution_count": 0,
   "metadata": {
    "application/vnd.databricks.v1+cell": {
     "cellMetadata": {
      "byteLimit": 2048000,
      "rowLimit": 10000
     },
     "inputWidgets": {},
     "nuid": "d17b4e68-8dd3-4dd6-a38a-5bda8de6551d",
     "showTitle": false,
     "title": ""
    }
   },
   "outputs": [
    {
     "output_type": "stream",
     "name": "stdout",
     "output_type": "stream",
     "text": [
      "root\n |-- age: string (nullable = true)\n |-- gender: string (nullable = true)\n |-- name: string (nullable = true)\n |-- course: string (nullable = true)\n |-- roll: string (nullable = true)\n |-- marks: string (nullable = true)\n |-- email: string (nullable = true)\n\n"
     ]
    }
   ],
   "source": [
    " \n",
    "# COMMAND ----------\n",
    " \n",
    "df = df.withColumn(\"roll\", col(\"roll\").cast(\"String\"))\n",
    "\n",
    "# COMMAND ----------\n",
    " \n",
    "df.printSchema()\n",
    " "
   ]
  },
  {
   "cell_type": "code",
   "execution_count": 0,
   "metadata": {
    "application/vnd.databricks.v1+cell": {
     "cellMetadata": {
      "byteLimit": 2048000,
      "rowLimit": 10000
     },
     "inputWidgets": {},
     "nuid": "fcdcf47a-1e94-44da-9301-9648d0622b13",
     "showTitle": false,
     "title": ""
    }
   },
   "outputs": [
    {
     "output_type": "stream",
     "name": "stdout",
     "output_type": "stream",
     "text": [
      "+---+------+----------------+------+-----+-----+--------------------+\n|age|gender|            name|course| roll|marks|               email|\n+---+------+----------------+------+-----+-----+--------------------+\n| 28|Female| Hubert Oliveras|    DB|02984|   59|Annika Hoffman_Na...|\n| 29|Female|Toshiko Hillyard| Cloud|12899|   62|Margene Moores_Ma...|\n| 28|  Male|  Celeste Lollis|    PF|21267|   45|Jeannetta Golden_...|\n| 29|Female|    Elenore Choy|    DB|32877|   29|Billi Clore_Mitzi...|\n| 28|  Male|  Sheryll Towler|   DSA|41487|   41|Claude Panos_Judi...|\n+---+------+----------------+------+-----+-----+--------------------+\nonly showing top 5 rows\n\n"
     ]
    }
   ],
   "source": [
    "df.show(5)"
   ]
  },
  {
   "cell_type": "code",
   "execution_count": 0,
   "metadata": {
    "application/vnd.databricks.v1+cell": {
     "cellMetadata": {
      "byteLimit": 2048000,
      "rowLimit": 10000
     },
     "inputWidgets": {},
     "nuid": "d585bf47-4f9d-45fc-83c2-5ff75c262ce5",
     "showTitle": false,
     "title": ""
    }
   },
   "outputs": [
    {
     "output_type": "stream",
     "name": "stdout",
     "output_type": "stream",
     "text": [
      "+---+------+----------------+------+-----+-----+--------------------+\n|age|gender|            name|course| roll|marks|               email|\n+---+------+----------------+------+-----+-----+--------------------+\n| 28|Female| Hubert Oliveras|    DB|02984| 69.0|Annika Hoffman_Na...|\n| 29|Female|Toshiko Hillyard| Cloud|12899| 72.0|Margene Moores_Ma...|\n| 28|  Male|  Celeste Lollis|    PF|21267| 55.0|Jeannetta Golden_...|\n| 29|Female|    Elenore Choy|    DB|32877| 39.0|Billi Clore_Mitzi...|\n| 28|  Male|  Sheryll Towler|   DSA|41487| 51.0|Claude Panos_Judi...|\n+---+------+----------------+------+-----+-----+--------------------+\nonly showing top 5 rows\n\n"
     ]
    }
   ],
   "source": [
    "# COMMAND ----------\n",
    "\n",
    "df = df.withColumn(\"marks\", col('marks') + 10)\n",
    "df.show(5)\n",
    " "
   ]
  },
  {
   "cell_type": "code",
   "execution_count": 0,
   "metadata": {
    "application/vnd.databricks.v1+cell": {
     "cellMetadata": {
      "byteLimit": 2048000,
      "rowLimit": 10000
     },
     "inputWidgets": {},
     "nuid": "5c1b51ec-5fd2-456a-8fa3-cec09fda471b",
     "showTitle": false,
     "title": ""
    }
   },
   "outputs": [
    {
     "output_type": "stream",
     "name": "stdout",
     "output_type": "stream",
     "text": [
      "+---+------+----------------+------+-----+-----+--------------------+----------+\n|age|gender|            name|course| roll|marks|               email|percentage|\n+---+------+----------------+------+-----+-----+--------------------+----------+\n| 28|Female| Hubert Oliveras|    DB|02984| 69.0|Annika Hoffman_Na...|      0.69|\n| 29|Female|Toshiko Hillyard| Cloud|12899| 72.0|Margene Moores_Ma...|      0.72|\n| 28|  Male|  Celeste Lollis|    PF|21267| 55.0|Jeannetta Golden_...|      0.55|\n| 29|Female|    Elenore Choy|    DB|32877| 39.0|Billi Clore_Mitzi...|      0.39|\n| 28|  Male|  Sheryll Towler|   DSA|41487| 51.0|Claude Panos_Judi...|      0.51|\n+---+------+----------------+------+-----+-----+--------------------+----------+\nonly showing top 5 rows\n\n"
     ]
    }
   ],
   "source": [
    "# COMMAND ----------\n",
    " \n",
    "df = df.withColumn(\"percentage\", col('marks') / 100)\n",
    "df.show(5)\n",
    " "
   ]
  },
  {
   "cell_type": "code",
   "execution_count": 0,
   "metadata": {
    "application/vnd.databricks.v1+cell": {
     "cellMetadata": {
      "byteLimit": 2048000,
      "rowLimit": 10000
     },
     "inputWidgets": {},
     "nuid": "785ce239-834a-4a64-b10b-1840a171517c",
     "showTitle": false,
     "title": ""
    }
   },
   "outputs": [
    {
     "output_type": "stream",
     "name": "stdout",
     "output_type": "stream",
     "text": [
      "+---+------+----------------+------+------+-----+--------------------+----------+------------+\n|age|gender|            name|course|  roll|marks|               email|percentage|country name|\n+---+------+----------------+------+------+-----+--------------------+----------+------------+\n| 28|Female| Hubert Oliveras|    DB| 02984| 69.0|Annika Hoffman_Na...|      0.69|     Nigeria|\n| 29|Female|Toshiko Hillyard| Cloud| 12899| 72.0|Margene Moores_Ma...|      0.72|     Nigeria|\n| 28|  Male|  Celeste Lollis|    PF| 21267| 55.0|Jeannetta Golden_...|      0.55|     Nigeria|\n| 29|Female|    Elenore Choy|    DB| 32877| 39.0|Billi Clore_Mitzi...|      0.39|     Nigeria|\n| 28|  Male|  Sheryll Towler|   DSA| 41487| 51.0|Claude Panos_Judi...|      0.51|     Nigeria|\n| 28|  Male|  Margene Moores|   MVC| 52771| 42.0|Toshiko Hillyard_...|      0.42|     Nigeria|\n| 28|  Male|     Neda Briski|   OOP| 61973| 79.0|Alberta Freund_El...|      0.79|     Nigeria|\n| 28|Female|    Claude Panos| Cloud| 72409| 95.0|Sheryll Towler_Al...|      0.95|     Nigeria|\n| 28|  Male|  Celeste Lollis|   MVC| 81492| 74.0|Nicole Harwood_Cl...|      0.74|     Nigeria|\n| 29|  Male|  Cordie Harnois|   OOP| 92882| 61.0|Judie Chipps_Clem...|      0.61|     Nigeria|\n| 29|Female|       Kena Wild|   DSA|102285| 45.0|Dustin Feagins_Ma...|      0.45|     Nigeria|\n| 29|  Male| Ernest Rossbach|    DB|111449| 63.0|Maybell Duguay_Ab...|      0.63|     Nigeria|\n| 28|Female|  Latia Vanhoose|    DB|122502| 37.0|Latia Vanhoose_Mi...|      0.37|     Nigeria|\n| 29|Female|  Latia Vanhoose|   MVC|132110| 65.0|Eda Neathery_Nico...|      0.65|     Nigeria|\n| 29|  Male|     Neda Briski|    PF|141770| 52.0|Margene Moores_Mi...|      0.52|     Nigeria|\n| 29|Female|  Latia Vanhoose|    DB|152159| 37.0|Claude Panos_Sant...|      0.37|     Nigeria|\n| 29|  Male|  Loris Crossett|   MVC|161771| 46.0|Mitzi Seldon_Jenn...|      0.46|     Nigeria|\n| 29|  Male|  Annika Hoffman|   OOP|171660| 32.0|Taryn Brownlee_Mi...|      0.32|     Nigeria|\n| 29|  Male|   Santa Kerfien|    PF|182129| 66.0|Judie Chipps_Tary...|      0.66|     Nigeria|\n| 28|Female|Mickey Cortright|    DB|192537| 72.0|Ernest Rossbach_M...|      0.72|     Nigeria|\n+---+------+----------------+------+------+-----+--------------------+----------+------------+\nonly showing top 20 rows\n\n"
     ]
    }
   ],
   "source": [
    "\n",
    "\n",
    "# COMMAND ----------\n",
    " \n",
    "df = df.withColumn(\"country name\", lit(\"Nigeria\"))\n",
    "df.show()"
   ]
  },
  {
   "cell_type": "code",
   "execution_count": 0,
   "metadata": {
    "application/vnd.databricks.v1+cell": {
     "cellMetadata": {
      "byteLimit": 2048000,
      "rowLimit": 10000
     },
     "inputWidgets": {},
     "nuid": "1c2e4264-ccde-4057-bbf3-b22390a8a7d9",
     "showTitle": false,
     "title": ""
    }
   },
   "outputs": [
    {
     "output_type": "stream",
     "name": "stdout",
     "output_type": "stream",
     "text": [
      "+---+------+----------------+------+-----------+-----+--------------------+----------+------------+\n|age|   sex|            name|course|roll number|marks|               email|percentage|country name|\n+---+------+----------------+------+-----------+-----+--------------------+----------+------------+\n| 28|Female| Hubert Oliveras|    DB|      02984| 69.0|Annika Hoffman_Na...|      0.69|     Nigeria|\n| 29|Female|Toshiko Hillyard| Cloud|      12899| 72.0|Margene Moores_Ma...|      0.72|     Nigeria|\n| 28|  Male|  Celeste Lollis|    PF|      21267| 55.0|Jeannetta Golden_...|      0.55|     Nigeria|\n| 29|Female|    Elenore Choy|    DB|      32877| 39.0|Billi Clore_Mitzi...|      0.39|     Nigeria|\n| 28|  Male|  Sheryll Towler|   DSA|      41487| 51.0|Claude Panos_Judi...|      0.51|     Nigeria|\n+---+------+----------------+------+-----------+-----+--------------------+----------+------------+\nonly showing top 5 rows\n\n"
     ]
    }
   ],
   "source": [
    "df = df.withColumnRenamed(\"gender\",\"sex\").withColumnRenamed(\"roll\", \"roll number\")\n",
    "df.show(5)"
   ]
  },
  {
   "cell_type": "code",
   "execution_count": 0,
   "metadata": {
    "application/vnd.databricks.v1+cell": {
     "cellMetadata": {
      "byteLimit": 2048000,
      "rowLimit": 10000
     },
     "inputWidgets": {},
     "nuid": "5c92df05-1dac-4443-bccd-3c412c7926ff",
     "showTitle": false,
     "title": ""
    }
   },
   "outputs": [
    {
     "output_type": "stream",
     "name": "stdout",
     "output_type": "stream",
     "text": [
      "+----------------+\n|       Full Name|\n+----------------+\n| Hubert Oliveras|\n|Toshiko Hillyard|\n|  Celeste Lollis|\n|    Elenore Choy|\n|  Sheryll Towler|\n|  Margene Moores|\n|     Neda Briski|\n|    Claude Panos|\n|  Celeste Lollis|\n|  Cordie Harnois|\n|       Kena Wild|\n| Ernest Rossbach|\n|  Latia Vanhoose|\n|  Latia Vanhoose|\n|     Neda Briski|\n|  Latia Vanhoose|\n|  Loris Crossett|\n|  Annika Hoffman|\n|   Santa Kerfien|\n|Mickey Cortright|\n+----------------+\nonly showing top 20 rows\n\n"
     ]
    }
   ],
   "source": [
    "\n",
    "# COMMAND ----------\n",
    " \n",
    "df.select(col(\"name\").alias(\"Full Name\")).show()\n",
    " "
   ]
  },
  {
   "cell_type": "code",
   "execution_count": 0,
   "metadata": {
    "application/vnd.databricks.v1+cell": {
     "cellMetadata": {
      "byteLimit": 2048000,
      "rowLimit": 10000
     },
     "inputWidgets": {},
     "nuid": "62a6a138-d0d9-4253-ae11-6bb5165cfd16",
     "showTitle": false,
     "title": ""
    }
   },
   "outputs": [
    {
     "output_type": "stream",
     "name": "stdout",
     "output_type": "stream",
     "text": [
      "+---+------+----------------+------+-----------+-----+--------------------+----------+------------+\n|age|   sex|            name|course|roll number|marks|               email|percentage|country name|\n+---+------+----------------+------+-----------+-----+--------------------+----------+------------+\n| 28|Female| Hubert Oliveras|    DB|      02984| 69.0|Annika Hoffman_Na...|      0.69|     Nigeria|\n| 29|Female|Toshiko Hillyard| Cloud|      12899| 72.0|Margene Moores_Ma...|      0.72|     Nigeria|\n| 28|  Male|  Celeste Lollis|    PF|      21267| 55.0|Jeannetta Golden_...|      0.55|     Nigeria|\n| 29|Female|    Elenore Choy|    DB|      32877| 39.0|Billi Clore_Mitzi...|      0.39|     Nigeria|\n| 28|  Male|  Sheryll Towler|   DSA|      41487| 51.0|Claude Panos_Judi...|      0.51|     Nigeria|\n+---+------+----------------+------+-----------+-----+--------------------+----------+------------+\nonly showing top 5 rows\n\n"
     ]
    }
   ],
   "source": [
    "\n",
    "# COMMAND ----------\n",
    " \n",
    "df.show(5)"
   ]
  },
  {
   "cell_type": "code",
   "execution_count": 0,
   "metadata": {
    "application/vnd.databricks.v1+cell": {
     "cellMetadata": {
      "byteLimit": 2048000,
      "rowLimit": 10000
     },
     "inputWidgets": {},
     "nuid": "54611bd1-e836-4364-b357-1e7313fa94e1",
     "showTitle": true,
     "title": "Filter"
    }
   },
   "outputs": [
    {
     "output_type": "stream",
     "name": "stdout",
     "output_type": "stream",
     "text": [
      "+---+------+---------------+------+-----------+-----+--------------------+----------+------------+\n|age|   sex|           name|course|roll number|marks|               email|percentage|country name|\n+---+------+---------------+------+-----------+-----+--------------------+----------+------------+\n| 28|Female|Hubert Oliveras|    DB|      02984| 69.0|Annika Hoffman_Na...|      0.69|     Nigeria|\n| 29|Female|   Elenore Choy|    DB|      32877| 39.0|Billi Clore_Mitzi...|      0.39|     Nigeria|\n| 29|  Male|Ernest Rossbach|    DB|     111449| 63.0|Maybell Duguay_Ab...|      0.63|     Nigeria|\n| 28|Female| Latia Vanhoose|    DB|     122502| 37.0|Latia Vanhoose_Mi...|      0.37|     Nigeria|\n| 29|Female| Latia Vanhoose|    DB|     152159| 37.0|Claude Panos_Sant...|      0.37|     Nigeria|\n+---+------+---------------+------+-----------+-----+--------------------+----------+------------+\nonly showing top 5 rows\n\n"
     ]
    }
   ],
   "source": [
    "# COMMAND ----------\n",
    "df.filter(df.course == \"DB\").show(5) "
   ]
  },
  {
   "cell_type": "code",
   "execution_count": 0,
   "metadata": {
    "application/vnd.databricks.v1+cell": {
     "cellMetadata": {},
     "inputWidgets": {},
     "nuid": "325ad476-f7be-4922-83ea-bf3da86dabfb",
     "showTitle": false,
     "title": ""
    }
   },
   "outputs": [],
   "source": [
    "# COMMAND ----------\n",
    " \n",
    "df.filter(col(\"course\") == \"DB\").show()"
   ]
  },
  {
   "cell_type": "code",
   "execution_count": 0,
   "metadata": {
    "application/vnd.databricks.v1+cell": {
     "cellMetadata": {},
     "inputWidgets": {},
     "nuid": "0f4a1cc9-4dac-4ccd-981a-e4f1f58b1ae8",
     "showTitle": false,
     "title": ""
    }
   },
   "outputs": [],
   "source": [
    "\n",
    " \n",
    "# COMMAND ----------\n",
    " \n",
    "df.filter( (df.course == \"DB\") & (df.marks > 50) ).show()"
   ]
  },
  {
   "cell_type": "code",
   "execution_count": 0,
   "metadata": {
    "application/vnd.databricks.v1+cell": {
     "cellMetadata": {},
     "inputWidgets": {},
     "nuid": "f15ab46d-0289-4e93-9081-090850cba66b",
     "showTitle": false,
     "title": ""
    }
   },
   "outputs": [],
   "source": [
    "\n",
    "# COMMAND ----------\n",
    " \n",
    "courses = [\"DB\", \"Cloud\", \"OOP\"]\n",
    "df.filter(df.course.isin(courses)).show()"
   ]
  },
  {
   "cell_type": "code",
   "execution_count": 0,
   "metadata": {
    "application/vnd.databricks.v1+cell": {
     "cellMetadata": {
      "byteLimit": 2048000,
      "rowLimit": 10000
     },
     "inputWidgets": {},
     "nuid": "15050afb-0b8c-4fb1-8f34-9d2488065a70",
     "showTitle": false,
     "title": ""
    }
   },
   "outputs": [
    {
     "output_type": "stream",
     "name": "stdout",
     "output_type": "stream",
     "text": [
      "+---+------+----------------+------+-----------+-----+--------------------+----------+------------+\n|age|   sex|            name|course|roll number|marks|               email|percentage|country name|\n+---+------+----------------+------+-----------+-----+--------------------+----------+------------+\n| 28|Female| Hubert Oliveras|    DB|      02984| 69.0|Annika Hoffman_Na...|      0.69|     Nigeria|\n| 29|Female|    Elenore Choy|    DB|      32877| 39.0|Billi Clore_Mitzi...|      0.39|     Nigeria|\n| 28|  Male|  Sheryll Towler|   DSA|      41487| 51.0|Claude Panos_Judi...|      0.51|     Nigeria|\n| 29|Female|       Kena Wild|   DSA|     102285| 45.0|Dustin Feagins_Ma...|      0.45|     Nigeria|\n| 29|  Male| Ernest Rossbach|    DB|     111449| 63.0|Maybell Duguay_Ab...|      0.63|     Nigeria|\n| 28|Female|  Latia Vanhoose|    DB|     122502| 37.0|Latia Vanhoose_Mi...|      0.37|     Nigeria|\n| 29|Female|  Latia Vanhoose|    DB|     152159| 37.0|Claude Panos_Sant...|      0.37|     Nigeria|\n| 28|Female|Mickey Cortright|    DB|     192537| 72.0|Ernest Rossbach_M...|      0.72|     Nigeria|\n| 28|Female|    Jc Andrepont|   DSA|     232060| 68.0|Billi Clore_Abram...|      0.68|     Nigeria|\n| 29|Female|    Paris Hutton|   DSA|     271472|109.0|Sheryll Towler_Al...|      1.09|     Nigeria|\n| 28|Female|  Dustin Feagins|   DSA|     291984| 92.0|Abram Nagao_Kena ...|      0.92|     Nigeria|\n| 28|Female|     Anna Santos|    DB|     311589| 89.0|Celeste Lollis_Mi...|      0.89|     Nigeria|\n| 28|Female|Mickey Cortright|   DSA|     342003| 54.0|Mitzi Seldon_Jean...|      0.54|     Nigeria|\n| 28|  Male|   Kizzy Brenner|    DB|     381712| 46.0|Paris Hutton_Kena...|      0.46|     Nigeria|\n| 28|  Male|Toshiko Hillyard|    DB|     392218| 57.0|Leontine Phillips...|      0.57|     Nigeria|\n| 29|Female|     Anna Santos|   DSA|     411479| 52.0|Kena Wild_Mitzi S...|      0.52|     Nigeria|\n| 28|Female|  Maybell Duguay|   DSA|     452141| 39.0|Leontine Phillips...|      0.39|     Nigeria|\n| 29|  Male|    Paris Hutton|    DB|     481229| 67.0|Clementina Menke_...|      0.67|     Nigeria|\n| 29|Female|    Paris Hutton|   DSA|     492159| 70.0|Nicole Harwood_Ma...|       0.7|     Nigeria|\n| 28|Female|Mickey Cortright|    DB|     551389| 53.0|Tijuana Kropf_Jen...|      0.53|     Nigeria|\n+---+------+----------------+------+-----------+-----+--------------------+----------+------------+\nonly showing top 20 rows\n\n"
     ]
    }
   ],
   "source": [
    " \n",
    " \n",
    "# COMMAND ----------\n",
    " \n",
    "df.filter(df.course.startswith(\"D\")).show()\n",
    " "
   ]
  },
  {
   "cell_type": "code",
   "execution_count": 0,
   "metadata": {
    "application/vnd.databricks.v1+cell": {
     "cellMetadata": {},
     "inputWidgets": {},
     "nuid": "71045ac6-1e78-4ef8-be5c-7c76af6aaa8e",
     "showTitle": false,
     "title": ""
    }
   },
   "outputs": [],
   "source": [
    "\n",
    "\n",
    "# COMMAND ----------\n",
    " \n",
    "df.filter(df.name.endswith(\"se\")).show()\n",
    " "
   ]
  },
  {
   "cell_type": "code",
   "execution_count": 0,
   "metadata": {
    "application/vnd.databricks.v1+cell": {
     "cellMetadata": {},
     "inputWidgets": {},
     "nuid": "e85f617b-e18e-4917-8ce6-46cc7a9b6391",
     "showTitle": false,
     "title": ""
    }
   },
   "outputs": [],
   "source": [
    "\n",
    "\n",
    "# COMMAND ----------\n",
    " \n",
    "df.filter(df.name.contains(\"se\")).show()\n",
    " "
   ]
  },
  {
   "cell_type": "code",
   "execution_count": 0,
   "metadata": {
    "application/vnd.databricks.v1+cell": {
     "cellMetadata": {
      "byteLimit": 2048000,
      "rowLimit": 10000
     },
     "inputWidgets": {},
     "nuid": "60a674f8-3316-451e-a0c1-363947dc4590",
     "showTitle": false,
     "title": ""
    }
   },
   "outputs": [
    {
     "output_type": "stream",
     "name": "stdout",
     "output_type": "stream",
     "text": [
      "+---+------+-----------------+------+-----------+-----+--------------------+----------+------------+\n|age|   sex|             name|course|roll number|marks|               email|percentage|country name|\n+---+------+-----------------+------+-----------+-----+--------------------+----------+------------+\n| 28|Female|  Hubert Oliveras|    DB|       2984|   69|Annika Hoffman_Na...|      0.69|     Nigeria|\n| 29|Female|     Elenore Choy|    DB|      32877|   39|Billi Clore_Mitzi...|      0.39|     Nigeria|\n| 29|  Male|  Ernest Rossbach|    DB|     111449|   63|Maybell Duguay_Ab...|      0.63|     Nigeria|\n| 28|Female|   Latia Vanhoose|    DB|     122502|   37|Latia Vanhoose_Mi...|      0.37|     Nigeria|\n| 29|Female|   Latia Vanhoose|    DB|     152159|   37|Claude Panos_Sant...|      0.37|     Nigeria|\n| 28|Female| Mickey Cortright|    DB|     192537|   72|Ernest Rossbach_M...|      0.72|     Nigeria|\n| 28|Female|      Anna Santos|    DB|     311589|   89|Celeste Lollis_Mi...|      0.89|     Nigeria|\n| 28|  Male|    Kizzy Brenner|    DB|     381712|   46|Paris Hutton_Kena...|      0.46|     Nigeria|\n| 28|  Male| Toshiko Hillyard|    DB|     392218|   57|Leontine Phillips...|      0.57|     Nigeria|\n| 29|  Male|     Paris Hutton|    DB|     481229|   67|Clementina Menke_...|      0.67|     Nigeria|\n| 28|Female| Mickey Cortright|    DB|     551389|   53|Tijuana Kropf_Jen...|      0.53|     Nigeria|\n| 28|Female|Leontine Phillips|    DB|     602404|   58|Neda Briski_Cheri...|      0.58|     Nigeria|\n| 28|Female|  Hubert Oliveras|    DB|     771081|   89|Kizzy Brenner_Dus...|      0.89|     Nigeria|\n| 29|Female|     Elenore Choy|    DB|     811824|   65|Maybell Duguay_Me...|      0.65|     Nigeria|\n| 29|  Male| Clementina Menke|    DB|     882200|   86|Michelle Ruggiero...|      0.86|     Nigeria|\n| 29|Female|  Sebrina Maresca|    DB|     922210|   64|Toshiko Hillyard_...|      0.64|     Nigeria|\n| 29|  Male|     Naoma Fritts|    DB|     931295|   89|Hubert Oliveras_S...|      0.89|     Nigeria|\n| 28|  Male|   Annika Hoffman|    DB|    1031544|   54|Dustin Feagins_So...|      0.54|     Nigeria|\n| 28|  Male|   Nicole Harwood|    DB|    1211495|   38|Melani Engberg_Jc...|      0.38|     Nigeria|\n| 29|Female|     Claude Panos|    DB|    1222887|   85|Hubert Oliveras_S...|      0.85|     Nigeria|\n+---+------+-----------------+------+-----------+-----+--------------------+----------+------------+\nonly showing top 20 rows\n\n"
     ]
    }
   ],
   "source": [
    "df.filter(df.course == \"DB\").show()"
   ]
  },
  {
   "cell_type": "code",
   "execution_count": 0,
   "metadata": {
    "application/vnd.databricks.v1+cell": {
     "cellMetadata": {
      "byteLimit": 2048000,
      "rowLimit": 10000
     },
     "inputWidgets": {},
     "nuid": "f277c0b0-91d3-4136-a77a-e27145df0f69",
     "showTitle": false,
     "title": ""
    }
   },
   "outputs": [
    {
     "output_type": "stream",
     "name": "stdout",
     "output_type": "stream",
     "text": [
      "+---+------+-----------------+------+-----------+-----+--------------------+----------+------------+\n|age|   sex|             name|course|roll number|marks|               email|percentage|country name|\n+---+------+-----------------+------+-----------+-----+--------------------+----------+------------+\n| 28|Female|  Hubert Oliveras|    DB|       2984|   69|Annika Hoffman_Na...|      0.69|     Nigeria|\n| 29|  Male|  Ernest Rossbach|    DB|     111449|   63|Maybell Duguay_Ab...|      0.63|     Nigeria|\n| 28|Female| Mickey Cortright|    DB|     192537|   72|Ernest Rossbach_M...|      0.72|     Nigeria|\n| 28|Female|      Anna Santos|    DB|     311589|   89|Celeste Lollis_Mi...|      0.89|     Nigeria|\n| 28|  Male| Toshiko Hillyard|    DB|     392218|   57|Leontine Phillips...|      0.57|     Nigeria|\n| 29|  Male|     Paris Hutton|    DB|     481229|   67|Clementina Menke_...|      0.67|     Nigeria|\n| 28|Female| Mickey Cortright|    DB|     551389|   53|Tijuana Kropf_Jen...|      0.53|     Nigeria|\n| 28|Female|Leontine Phillips|    DB|     602404|   58|Neda Briski_Cheri...|      0.58|     Nigeria|\n| 28|Female|  Hubert Oliveras|    DB|     771081|   89|Kizzy Brenner_Dus...|      0.89|     Nigeria|\n| 29|Female|     Elenore Choy|    DB|     811824|   65|Maybell Duguay_Me...|      0.65|     Nigeria|\n| 29|  Male| Clementina Menke|    DB|     882200|   86|Michelle Ruggiero...|      0.86|     Nigeria|\n| 29|Female|  Sebrina Maresca|    DB|     922210|   64|Toshiko Hillyard_...|      0.64|     Nigeria|\n| 29|  Male|     Naoma Fritts|    DB|     931295|   89|Hubert Oliveras_S...|      0.89|     Nigeria|\n| 28|  Male|   Annika Hoffman|    DB|    1031544|   54|Dustin Feagins_So...|      0.54|     Nigeria|\n| 29|Female|     Claude Panos|    DB|    1222887|   85|Hubert Oliveras_S...|      0.85|     Nigeria|\n| 29|Female|Leontine Phillips|    DB|    1432252|   77|Billi Clore_Shery...|      0.77|     Nigeria|\n| 28|Female|  Gonzalo Ferebee|    DB|    1451513|   79|Claude Panos_Tame...|      0.79|     Nigeria|\n| 28|  Male|  Marylee Capasso|    DB|    1611411|  106|Annika Hoffman_Lo...|      1.06|     Nigeria|\n| 29|Female|Michelle Ruggiero|    DB|    1642509|   55|Hubert Oliveras_M...|      0.55|     Nigeria|\n| 29|  Male|   Alberta Freund|    DB|    1671638|  108|Clementina Menke_...|      1.08|     Nigeria|\n+---+------+-----------------+------+-----------+-----+--------------------+----------+------------+\nonly showing top 20 rows\n\n"
     ]
    }
   ],
   "source": [
    "df.filter( (df.course == \"DB\") & (df.marks > 50) ).show()"
   ]
  },
  {
   "cell_type": "code",
   "execution_count": 0,
   "metadata": {
    "application/vnd.databricks.v1+cell": {
     "cellMetadata": {
      "byteLimit": 2048000,
      "rowLimit": 10000
     },
     "inputWidgets": {},
     "nuid": "33e3617d-c9ea-4616-9f74-4f1ff6b6efae",
     "showTitle": false,
     "title": ""
    }
   },
   "outputs": [
    {
     "output_type": "stream",
     "name": "stdout",
     "output_type": "stream",
     "text": [
      "+---+------+----------------+------+-----------+-----+--------------------+----------+------------+\n|age|   sex|            name|course|roll number|marks|               email|percentage|country name|\n+---+------+----------------+------+-----------+-----+--------------------+----------+------------+\n| 28|Female| Hubert Oliveras|    DB|       2984|   69|Annika Hoffman_Na...|      0.69|     Nigeria|\n| 29|Female|Toshiko Hillyard| Cloud|      12899|   72|Margene Moores_Ma...|      0.72|     Nigeria|\n| 29|Female|    Elenore Choy|    DB|      32877|   39|Billi Clore_Mitzi...|      0.39|     Nigeria|\n| 28|  Male|  Sheryll Towler|   DSA|      41487|   51|Claude Panos_Judi...|      0.51|     Nigeria|\n| 28|  Male|     Neda Briski|   OOP|      61973|   79|Alberta Freund_El...|      0.79|     Nigeria|\n| 28|Female|    Claude Panos| Cloud|      72409|   95|Sheryll Towler_Al...|      0.95|     Nigeria|\n| 29|  Male|  Cordie Harnois|   OOP|      92882|   61|Judie Chipps_Clem...|      0.61|     Nigeria|\n| 29|Female|       Kena Wild|   DSA|     102285|   45|Dustin Feagins_Ma...|      0.45|     Nigeria|\n| 29|  Male| Ernest Rossbach|    DB|     111449|   63|Maybell Duguay_Ab...|      0.63|     Nigeria|\n| 28|Female|  Latia Vanhoose|    DB|     122502|   37|Latia Vanhoose_Mi...|      0.37|     Nigeria|\n| 29|Female|  Latia Vanhoose|    DB|     152159|   37|Claude Panos_Sant...|      0.37|     Nigeria|\n| 29|  Male|  Annika Hoffman|   OOP|     171660|   32|Taryn Brownlee_Mi...|      0.32|     Nigeria|\n| 28|Female|Mickey Cortright|    DB|     192537|   72|Ernest Rossbach_M...|      0.72|     Nigeria|\n| 28|Female|       Kena Wild| Cloud|     221750|   70|Mitzi Seldon_Jenn...|       0.7|     Nigeria|\n| 28|Female|    Jc Andrepont|   DSA|     232060|   68|Billi Clore_Abram...|      0.68|     Nigeria|\n| 29|Female|     Anna Santos| Cloud|     242254|   78|Jc Andrepont_Hube...|      0.78|     Nigeria|\n| 28|Female|  Alberta Freund|   OOP|     251805|   93|Annika Hoffman_Sh...|      0.93|     Nigeria|\n| 28|Female|  Maybell Duguay| Cloud|     261439|   30|Nicole Harwood_Ju...|       0.3|     Nigeria|\n| 29|Female|    Paris Hutton|   DSA|     271472|  109|Sheryll Towler_Al...|      1.09|     Nigeria|\n| 29|Female|    Cheri Kenney| Cloud|     281408|   53|Annika Hoffman_Me...|      0.53|     Nigeria|\n+---+------+----------------+------+-----------+-----+--------------------+----------+------------+\nonly showing top 20 rows\n\n"
     ]
    }
   ],
   "source": [
    "courses = [\"DB\", \"Cloud\", \"OOP\", \"DSA\"]\n",
    "df.filter(df.course.isin(courses)).show()"
   ]
  },
  {
   "cell_type": "code",
   "execution_count": 0,
   "metadata": {
    "application/vnd.databricks.v1+cell": {
     "cellMetadata": {
      "byteLimit": 2048000,
      "rowLimit": 10000
     },
     "inputWidgets": {},
     "nuid": "a975e8dd-2fc7-477b-ae58-78b1b58575f9",
     "showTitle": false,
     "title": ""
    }
   },
   "outputs": [
    {
     "output_type": "stream",
     "name": "stdout",
     "output_type": "stream",
     "text": [
      "+---+------+--------------+------+-----------+-----+--------------------+----------+------------+\n|age|   sex|          name|course|roll number|marks|               email|percentage|country name|\n+---+------+--------------+------+-----------+-----+--------------------+----------+------------+\n| 28|Female|Latia Vanhoose|    DB|     122502|   37|Latia Vanhoose_Mi...|      0.37|     Nigeria|\n| 29|Female|Latia Vanhoose|   MVC|     132110|   65|Eda Neathery_Nico...|      0.65|     Nigeria|\n| 29|Female|Latia Vanhoose|    DB|     152159|   37|Claude Panos_Sant...|      0.37|     Nigeria|\n| 29|  Male|Latia Vanhoose| Cloud|    1832268|   70|Marylee Capasso_S...|       0.7|     Nigeria|\n| 29|  Male|Latia Vanhoose|   OOP|    2372748|  104|Latia Vanhoose_La...|      1.04|     Nigeria|\n| 29|Female|Latia Vanhoose|    PF|    2861854|   52|Claude Panos_Nico...|      0.52|     Nigeria|\n| 29|  Male|Latia Vanhoose|   MVC|    2992281|  100|Elenore Choy_Cord...|       1.0|     Nigeria|\n| 29|Female|Latia Vanhoose|   MVC|    3091650|   40|Cordie Harnois_Se...|       0.4|     Nigeria|\n| 29|Female|Latia Vanhoose|   OOP|    3841395|   36|Kizzy Brenner_Eda...|      0.36|     Nigeria|\n| 29|  Male|Latia Vanhoose| Cloud|    4661276|   50|Jc Andrepont_Anni...|       0.5|     Nigeria|\n| 28|Female|Latia Vanhoose|   OOP|    4792828|   82|Tamera Blakley_Mi...|      0.82|     Nigeria|\n| 28|Female|Latia Vanhoose|    PF|    5222171|   83|Toshiko Hillyard_...|      0.83|     Nigeria|\n| 28|Female|Latia Vanhoose| Cloud|    6701628|   43|Abram Nagao_Cheri...|      0.43|     Nigeria|\n| 29|Female|Latia Vanhoose|   MVC|    6771882|   59|Alberta Freund_La...|      0.59|     Nigeria|\n| 28|Female|Latia Vanhoose|   MVC|    7381991|  104|Eda Neathery_Mich...|      1.04|     Nigeria|\n| 29|  Male|Latia Vanhoose| Cloud|    7721956|   55|Jalisa Swenson_An...|      0.55|     Nigeria|\n| 28|  Male|Latia Vanhoose|   OOP|    7741757|   76|Loris Crossett_Na...|      0.76|     Nigeria|\n| 28|  Male|Latia Vanhoose|   DSA|    7792270|   47|Eda Neathery_Donn...|      0.47|     Nigeria|\n| 28|  Male|Latia Vanhoose|   DSA|    9442974|   39|Jc Andrepont_Cele...|      0.39|     Nigeria|\n| 28|Female|Latia Vanhoose| Cloud|    9471888|   66|Naoma Fritts_Kena...|      0.66|     Nigeria|\n+---+------+--------------+------+-----------+-----+--------------------+----------+------------+\n\n"
     ]
    }
   ],
   "source": [
    "df.filter(df.name.endswith(\"se\")).show()"
   ]
  },
  {
   "cell_type": "code",
   "execution_count": 0,
   "metadata": {
    "application/vnd.databricks.v1+cell": {
     "cellMetadata": {
      "byteLimit": 2048000,
      "rowLimit": 10000
     },
     "inputWidgets": {},
     "nuid": "18d6404e-0131-4de2-9f5c-99496498f9c6",
     "showTitle": false,
     "title": ""
    }
   },
   "outputs": [
    {
     "output_type": "stream",
     "name": "stdout",
     "output_type": "stream",
     "text": [
      "+---+------+--------------+------+-----------+-----+--------------------+----------+------------+\n|age|   sex|          name|course|roll number|marks|               email|percentage|country name|\n+---+------+--------------+------+-----------+-----+--------------------+----------+------------+\n| 28|Female|Latia Vanhoose|    DB|     122502|   37|Latia Vanhoose_Mi...|      0.37|     Nigeria|\n| 29|Female|Latia Vanhoose|   MVC|     132110|   65|Eda Neathery_Nico...|      0.65|     Nigeria|\n| 29|Female|Latia Vanhoose|    DB|     152159|   37|Claude Panos_Sant...|      0.37|     Nigeria|\n| 29|  Male|Loris Crossett|   MVC|     161771|   46|Mitzi Seldon_Jenn...|      0.46|     Nigeria|\n| 29|Female|Loris Crossett|    PF|     201487|  106|Elenore Choy_Lati...|      1.06|     Nigeria|\n| 28|Female|Loris Crossett|    PF|     332739|   72|Michelle Ruggiero...|      0.72|     Nigeria|\n| 29|  Male|Loris Crossett|    PF|     911593|   56|Gonzalo Ferebee_M...|      0.56|     Nigeria|\n| 28|Female|Loris Crossett|   DSA|    1662549|   96|Paris Hutton_Lati...|      0.96|     Nigeria|\n| 29|  Male|Latia Vanhoose| Cloud|    1832268|   70|Marylee Capasso_S...|       0.7|     Nigeria|\n| 29|  Male|Latia Vanhoose|   OOP|    2372748|  104|Latia Vanhoose_La...|      1.04|     Nigeria|\n| 28|Female|Loris Crossett|   OOP|    2691881|   39|Maybell Duguay_Ni...|      0.39|     Nigeria|\n| 28|  Male|Loris Crossett|   OOP|    2852490|   35|Loris Crossett_Do...|      0.35|     Nigeria|\n| 29|Female|Latia Vanhoose|    PF|    2861854|   52|Claude Panos_Nico...|      0.52|     Nigeria|\n| 29|  Male|Latia Vanhoose|   MVC|    2992281|  100|Elenore Choy_Cord...|       1.0|     Nigeria|\n| 29|Female|Latia Vanhoose|   MVC|    3091650|   40|Cordie Harnois_Se...|       0.4|     Nigeria|\n| 28|Female|Loris Crossett|   OOP|    3502780|   40|Jenna Montague_Co...|       0.4|     Nigeria|\n| 28|Female|Loris Crossett|    PF|    3531684|   94|Dustin Feagins_Ta...|      0.94|     Nigeria|\n| 29|  Male|Loris Crossett|   OOP|    3592529|   90|Annika Hoffman_To...|       0.9|     Nigeria|\n| 29|Female|Latia Vanhoose|   OOP|    3841395|   36|Kizzy Brenner_Eda...|      0.36|     Nigeria|\n| 28|Female|Loris Crossett|    PF|    3861248|  104|Dustin Feagins_Ch...|      1.04|     Nigeria|\n+---+------+--------------+------+-----------+-----+--------------------+----------+------------+\nonly showing top 20 rows\n\n"
     ]
    }
   ],
   "source": [
    "df.filter(df.name.contains(\"se\")).show()"
   ]
  },
  {
   "cell_type": "code",
   "execution_count": 0,
   "metadata": {
    "application/vnd.databricks.v1+cell": {
     "cellMetadata": {
      "byteLimit": 2048000,
      "rowLimit": 10000
     },
     "inputWidgets": {},
     "nuid": "90faea02-bfa3-4552-bf80-eb818ad58d17",
     "showTitle": false,
     "title": ""
    }
   },
   "outputs": [
    {
     "output_type": "stream",
     "name": "stdout",
     "output_type": "stream",
     "text": [
      "+---+---+----+------+-----------+-----+-----+----------+------------+\n|age|sex|name|course|roll number|marks|email|percentage|country name|\n+---+---+----+------+-----------+-----+-----+----------+------------+\n+---+---+----+------+-----------+-----+-----+----------+------------+\n\n"
     ]
    }
   ],
   "source": [
    "df.filter(df.name.startswith(\"se\")).show()"
   ]
  },
  {
   "cell_type": "code",
   "execution_count": 0,
   "metadata": {
    "application/vnd.databricks.v1+cell": {
     "cellMetadata": {
      "byteLimit": 2048000,
      "rowLimit": 10000
     },
     "inputWidgets": {},
     "nuid": "192ba500-570e-4e0d-b0ab-46cbc73c2eaa",
     "showTitle": false,
     "title": ""
    }
   },
   "outputs": [
    {
     "output_type": "stream",
     "name": "stdout",
     "output_type": "stream",
     "text": [
      "+------+\n|   sex|\n+------+\n|Female|\n|  Male|\n+------+\n\n"
     ]
    }
   ],
   "source": [
    "df.select('sex').distinct().show()"
   ]
  },
  {
   "cell_type": "code",
   "execution_count": 0,
   "metadata": {
    "application/vnd.databricks.v1+cell": {
     "cellMetadata": {
      "byteLimit": 2048000,
      "rowLimit": 10000
     },
     "inputWidgets": {},
     "nuid": "bed40127-50be-4295-bc9c-776d41e2851c",
     "showTitle": false,
     "title": ""
    }
   },
   "outputs": [
    {
     "output_type": "stream",
     "name": "stdout",
     "output_type": "stream",
     "text": [
      "+---+\n|age|\n+---+\n| 28|\n| 29|\n+---+\n\n"
     ]
    }
   ],
   "source": [
    "df.select('age').distinct().show()"
   ]
  },
  {
   "cell_type": "code",
   "execution_count": 0,
   "metadata": {
    "application/vnd.databricks.v1+cell": {
     "cellMetadata": {
      "byteLimit": 2048000,
      "rowLimit": 10000
     },
     "inputWidgets": {},
     "nuid": "be2b91af-608b-4566-9ff9-89dd1d2d0291",
     "showTitle": false,
     "title": ""
    }
   },
   "outputs": [
    {
     "output_type": "stream",
     "name": "stdout",
     "output_type": "stream",
     "text": [
      "Out[58]: 157"
     ]
    }
   ],
   "source": [
    "df.filter(df.course == \"DB\").count()"
   ]
  },
  {
   "cell_type": "code",
   "execution_count": 0,
   "metadata": {
    "application/vnd.databricks.v1+cell": {
     "cellMetadata": {
      "byteLimit": 2048000,
      "rowLimit": 10000
     },
     "inputWidgets": {},
     "nuid": "076b7b92-7e8f-4075-b2c4-b5e4031d4472",
     "showTitle": false,
     "title": ""
    }
   },
   "outputs": [
    {
     "output_type": "stream",
     "name": "stdout",
     "output_type": "stream",
     "text": [
      "+---+------+-----------------+------+-----------+-----+--------------------+----------+------------+\n|age|   sex|             name|course|roll number|marks|               email|percentage|country name|\n+---+------+-----------------+------+-----------+-----+--------------------+----------+------------+\n| 28|Female|   Maybell Duguay| Cloud|     261439|   30|Nicole Harwood_Ju...|       0.3|     Nigeria|\n| 29|  Male|   Jalisa Swenson|   OOP|    4751515|   30|Annika Hoffman_Hu...|       0.3|     Nigeria|\n| 28|  Male|  Marylee Capasso|   DSA|    2081560|   30|Sheryll Towler_Do...|       0.3|     Nigeria|\n| 29|Female|  Gonzalo Ferebee|   DSA|    5631172|   30|Jeannetta Golden_...|       0.3|     Nigeria|\n| 29|  Male|Michelle Ruggiero|    PF|    6001585|   30|Paris Hutton_Marg...|       0.3|     Nigeria|\n| 29|  Male|     Elenore Choy|    DB|    3652057|   30|Jc Andrepont_Gonz...|       0.3|     Nigeria|\n| 29|Female|Michelle Ruggiero|    DB|    9232210|   30|Donna Yerby_Latia...|       0.3|     Nigeria|\n| 29|Female|   Tamera Blakley|   DSA|    3911247|   30|Donna Yerby_Bonit...|       0.3|     Nigeria|\n| 28|Female|     Jc Andrepont|    PF|     972733|   30|Eda Neathery_Eda ...|       0.3|     Nigeria|\n| 28|  Male|      Abram Nagao| Cloud|    2652463|   31|Eda Neathery_Anni...|      0.31|     Nigeria|\n| 29|  Male|   Tamera Blakley|   OOP|    7341268|   31|Anna Santos_Naoma...|      0.31|     Nigeria|\n| 29|Female|  Gonzalo Ferebee|   OOP|    2262603|   31|Bonita Higuera_Ch...|      0.31|     Nigeria|\n| 28|  Male|    Kizzy Brenner| Cloud|    4622328|   31|Leontine Phillips...|      0.31|     Nigeria|\n| 29|  Male|  Sebrina Maresca| Cloud|    5042394|   31|Donna Yerby_Miche...|      0.31|     Nigeria|\n| 28|  Male|   Bonita Higuera| Cloud|    7671835|   31|Taryn Brownlee_Se...|      0.31|     Nigeria|\n| 29|Female|   Nicole Harwood|    PF|    8121198|   31|Bonita Higuera_Pr...|      0.31|     Nigeria|\n| 29|Female|   Alberta Freund|   OOP|    4501424|   31|Toshiko Hillyard_...|      0.31|     Nigeria|\n| 28|Female|  Sebrina Maresca|    PF|    5742239|   31|Bonita Higuera_Se...|      0.31|     Nigeria|\n| 28|  Male|      Billi Clore|    DB|    9151306|   31|Latia Vanhoose_Er...|      0.31|     Nigeria|\n| 29|  Male|     Paris Hutton|   MVC|     752504|   32|Elenore Choy_Elen...|      0.32|     Nigeria|\n+---+------+-----------------+------+-----------+-----+--------------------+----------+------------+\nonly showing top 20 rows\n\n"
     ]
    }
   ],
   "source": [
    "df.sort(df.marks).show()"
   ]
  },
  {
   "cell_type": "code",
   "execution_count": 0,
   "metadata": {
    "application/vnd.databricks.v1+cell": {
     "cellMetadata": {
      "byteLimit": 2048000,
      "rowLimit": 10000
     },
     "inputWidgets": {},
     "nuid": "cdeb31c5-7b04-4a2e-98be-c40cd80b7958",
     "showTitle": false,
     "title": ""
    }
   },
   "outputs": [
    {
     "output_type": "stream",
     "name": "stdout",
     "output_type": "stream",
     "text": [
      "+---+------+------------------+------+-----------+-----+--------------------+----------+------------+\n|age|   sex|              name|course|roll number|marks|               email|percentage|country name|\n+---+------+------------------+------+-----------+-----+--------------------+----------+------------+\n| 28|Female|    Maybell Duguay| Cloud|     261439| 30.0|Nicole Harwood_Ju...|       0.3|     Nigeria|\n| 28|Female|      Jc Andrepont|    PF|     972733| 30.0|Eda Neathery_Eda ...|       0.3|     Nigeria|\n| 28|  Male|   Marylee Capasso|   DSA|    2081560| 30.0|Sheryll Towler_Do...|       0.3|     Nigeria|\n| 28|  Male|       Abram Nagao| Cloud|    2652463| 31.0|Eda Neathery_Anni...|      0.31|     Nigeria|\n| 28|  Male|     Kizzy Brenner| Cloud|    4622328| 31.0|Leontine Phillips...|      0.31|     Nigeria|\n| 28|Female|   Sebrina Maresca|    PF|    5742239| 31.0|Bonita Higuera_Se...|      0.31|     Nigeria|\n| 28|  Male|    Bonita Higuera| Cloud|    7671835| 31.0|Taryn Brownlee_Se...|      0.31|     Nigeria|\n| 28|  Male|       Billi Clore|    DB|    9151306| 31.0|Latia Vanhoose_Er...|      0.31|     Nigeria|\n| 28|Female|      Cheri Kenney| Cloud|    2281771| 32.0|Tamera Blakley_Ab...|      0.32|     Nigeria|\n| 28|Female|       Donna Yerby| Cloud|    4392575| 32.0|Leontine Phillips...|      0.32|     Nigeria|\n| 28|  Male|      Eda Neathery|    PF|    5082430| 32.0|Leontine Phillips...|      0.32|     Nigeria|\n| 28|  Male|       Anna Santos|    DB|    9772185| 32.0|Kizzy Brenner_Ann...|      0.32|     Nigeria|\n| 28|  Male|     Santa Kerfien|   MVC|    1992202| 33.0|Annika Hoffman_Ta...|      0.33|     Nigeria|\n| 28|Female|       Neda Briski|    PF|    3251377| 33.0|Kizzy Brenner_Mic...|      0.33|     Nigeria|\n| 28|Female|    Bonita Higuera| Cloud|    6061881| 33.0|Dustin Feagins_La...|      0.33|     Nigeria|\n| 28|  Male|   Gonzalo Ferebee|   OOP|    7162059| 33.0|Melani Engberg_Me...|      0.33|     Nigeria|\n| 28|Female|      Cheri Kenney|   MVC|     321816| 34.0|Kena Wild_Michell...|      0.34|     Nigeria|\n| 28|Female|       Niki Klimek|    PF|    1172784| 34.0|Jeannetta Golden_...|      0.34|     Nigeria|\n| 28|  Male|    Bonita Higuera| Cloud|    1401526| 34.0|Jc Andrepont_Cher...|      0.34|     Nigeria|\n| 28|  Male|       Anna Santos|   OOP|    1621905| 34.0|Elenore Choy_Sant...|      0.34|     Nigeria|\n| 28|  Male|    Alberta Freund| Cloud|    1802934| 34.0|Maybell Duguay_Pa...|      0.34|     Nigeria|\n| 28|Female|     Santa Kerfien|   OOP|    3931948| 34.0|Jeannetta Golden_...|      0.34|     Nigeria|\n| 28|Female|      Judie Chipps|    DB|    5872939| 34.0|Mitzi Seldon_Pari...|      0.34|     Nigeria|\n| 28|Female|         Kena Wild|   MVC|    9401194| 34.0|Niki Klimek_Miche...|      0.34|     Nigeria|\n| 28|Female|  Clementina Menke|   DSA|    9682190| 34.0|Clementina Menke_...|      0.34|     Nigeria|\n| 28|Female|    Jalisa Swenson|   OOP|     431352| 35.0|Gonzalo Ferebee_J...|      0.35|     Nigeria|\n| 28|Female|    Taryn Brownlee|   OOP|    5262828| 35.0|Elenore Choy_Gonz...|      0.35|     Nigeria|\n| 28|  Male|    Taryn Brownlee|    DB|    5311449| 35.0|Santa Kerfien_Law...|      0.35|     Nigeria|\n| 28|Female|       Abram Nagao|    DB|    2632057| 35.0|Margene Moores_So...|      0.35|     Nigeria|\n| 28|  Male|    Loris Crossett|   OOP|    2852490| 35.0|Loris Crossett_Do...|      0.35|     Nigeria|\n| 28|Female|    Dustin Feagins|   OOP|    6341113| 35.0|Latia Vanhoose_Je...|      0.35|     Nigeria|\n| 28|Female|    Melani Engberg| Cloud|    7531661| 35.0|Gonzalo Ferebee_D...|      0.35|     Nigeria|\n| 28|Female|     Santa Kerfien| Cloud|    2431828| 36.0|Margene Moores_So...|      0.36|     Nigeria|\n| 28|Female|    Jenna Montague|   DSA|     691564| 36.0|Mitzi Seldon_Sebr...|      0.36|     Nigeria|\n| 28|  Male|      Paris Hutton|   MVC|    1292279| 36.0|Paris Hutton_Eda ...|      0.36|     Nigeria|\n| 28|Female|       Neda Briski| Cloud|    3562470| 36.0|Gonzalo Ferebee_K...|      0.36|     Nigeria|\n| 28|Female|      Judie Chipps| Cloud|    4612245| 36.0|Somer Stoecker_Na...|      0.36|     Nigeria|\n| 28|  Male|       Donna Yerby|   MVC|    6752737| 36.0|Mickey Cortright_...|      0.36|     Nigeria|\n| 28|  Male|      Mitzi Seldon|    PF|    9362744| 36.0|Somer Stoecker_Sa...|      0.36|     Nigeria|\n| 28|  Male|    Tamera Blakley|   DSA|    9971217| 36.0|Anna Santos_Claud...|      0.36|     Nigeria|\n| 28|  Male|  Clementina Menke|   DSA|    5272838| 37.0|Clementina Menke_...|      0.37|     Nigeria|\n| 28|Female|    Latia Vanhoose|    DB|     122502| 37.0|Latia Vanhoose_Mi...|      0.37|     Nigeria|\n| 28|  Male|Priscila Tavernier|    PF|     642594| 37.0|Marylee Capasso_C...|      0.37|     Nigeria|\n| 28|  Male|    Sheryll Towler|   DSA|    2612360| 37.0|Celeste Lollis_Pa...|      0.37|     Nigeria|\n| 28|Female|   Sebrina Maresca|   MVC|    1681804| 37.0|Celeste Lollis_Er...|      0.37|     Nigeria|\n| 28|Female|     Kizzy Brenner| Cloud|     402409| 37.0|Ernest Rossbach_G...|      0.37|     Nigeria|\n| 28|Female|       Niki Klimek|    DB|    3361932| 37.0|Nicole Harwood_Bo...|      0.37|     Nigeria|\n| 28|Female|Priscila Tavernier| Cloud|    6542640| 37.0|Kizzy Brenner_Lor...|      0.37|     Nigeria|\n| 28|Female|       Niki Klimek|   DSA|    6971140| 37.0|Leontine Phillips...|      0.37|     Nigeria|\n| 28|  Male|    Taryn Brownlee|    PF|    7311546| 37.0|Clementina Menke_...|      0.37|     Nigeria|\n+---+------+------------------+------+-----------+-----+--------------------+----------+------------+\nonly showing top 50 rows\n\n"
     ]
    }
   ],
   "source": [
    "df.sort(df.age,df.marks).show(50)"
   ]
  },
  {
   "cell_type": "code",
   "execution_count": 0,
   "metadata": {
    "application/vnd.databricks.v1+cell": {
     "cellMetadata": {
      "byteLimit": 2048000,
      "rowLimit": 10000
     },
     "inputWidgets": {},
     "nuid": "41c11e09-baea-4b4b-bdae-a95bd1dd7b63",
     "showTitle": false,
     "title": ""
    }
   },
   "outputs": [
    {
     "output_type": "stream",
     "name": "stdout",
     "output_type": "stream",
     "text": [
      "+---+------+-----------------+------+-----------+-----+--------------------+----------+------------+\n|age|   sex|             name|course|roll number|marks|               email|percentage|country name|\n+---+------+-----------------+------+-----------+-----+--------------------+----------+------------+\n| 28|Female|   Maybell Duguay| Cloud|     261439|   30|Nicole Harwood_Ju...|       0.3|     Nigeria|\n| 29|  Male|   Jalisa Swenson|   OOP|    4751515|   30|Annika Hoffman_Hu...|       0.3|     Nigeria|\n| 28|  Male|  Marylee Capasso|   DSA|    2081560|   30|Sheryll Towler_Do...|       0.3|     Nigeria|\n| 29|Female|  Gonzalo Ferebee|   DSA|    5631172|   30|Jeannetta Golden_...|       0.3|     Nigeria|\n| 29|  Male|Michelle Ruggiero|    PF|    6001585|   30|Paris Hutton_Marg...|       0.3|     Nigeria|\n| 29|  Male|     Elenore Choy|    DB|    3652057|   30|Jc Andrepont_Gonz...|       0.3|     Nigeria|\n| 29|Female|Michelle Ruggiero|    DB|    9232210|   30|Donna Yerby_Latia...|       0.3|     Nigeria|\n| 29|Female|   Tamera Blakley|   DSA|    3911247|   30|Donna Yerby_Bonit...|       0.3|     Nigeria|\n| 28|Female|     Jc Andrepont|    PF|     972733|   30|Eda Neathery_Eda ...|       0.3|     Nigeria|\n| 28|  Male|      Abram Nagao| Cloud|    2652463|   31|Eda Neathery_Anni...|      0.31|     Nigeria|\n| 29|  Male|   Tamera Blakley|   OOP|    7341268|   31|Anna Santos_Naoma...|      0.31|     Nigeria|\n| 29|Female|  Gonzalo Ferebee|   OOP|    2262603|   31|Bonita Higuera_Ch...|      0.31|     Nigeria|\n| 28|  Male|    Kizzy Brenner| Cloud|    4622328|   31|Leontine Phillips...|      0.31|     Nigeria|\n| 29|  Male|  Sebrina Maresca| Cloud|    5042394|   31|Donna Yerby_Miche...|      0.31|     Nigeria|\n| 28|  Male|   Bonita Higuera| Cloud|    7671835|   31|Taryn Brownlee_Se...|      0.31|     Nigeria|\n| 29|Female|   Nicole Harwood|    PF|    8121198|   31|Bonita Higuera_Pr...|      0.31|     Nigeria|\n| 29|Female|   Alberta Freund|   OOP|    4501424|   31|Toshiko Hillyard_...|      0.31|     Nigeria|\n| 28|Female|  Sebrina Maresca|    PF|    5742239|   31|Bonita Higuera_Se...|      0.31|     Nigeria|\n| 28|  Male|      Billi Clore|    DB|    9151306|   31|Latia Vanhoose_Er...|      0.31|     Nigeria|\n| 29|  Male|     Paris Hutton|   MVC|     752504|   32|Elenore Choy_Elen...|      0.32|     Nigeria|\n+---+------+-----------------+------+-----------+-----+--------------------+----------+------------+\nonly showing top 20 rows\n\n"
     ]
    }
   ],
   "source": [
    "df.orderBy(df.marks).show()"
   ]
  },
  {
   "cell_type": "code",
   "execution_count": 0,
   "metadata": {
    "application/vnd.databricks.v1+cell": {
     "cellMetadata": {
      "byteLimit": 2048000,
      "rowLimit": 10000
     },
     "inputWidgets": {},
     "nuid": "47fc5af6-603b-4e57-a831-dbd3e886632d",
     "showTitle": false,
     "title": ""
    }
   },
   "outputs": [
    {
     "output_type": "stream",
     "name": "stdout",
     "output_type": "stream",
     "text": [
      "+---+------+-----------------+------+-----------+-----+--------------------+----------+------------+\n|age|   sex|             name|course|roll number|marks|               email|percentage|country name|\n+---+------+-----------------+------+-----------+-----+--------------------+----------+------------+\n| 29|Female|   Tamera Blakley|   DSA|    3911247|   30|Donna Yerby_Bonit...|       0.3|     Nigeria|\n| 28|Female|     Jc Andrepont|    PF|     972733|   30|Eda Neathery_Eda ...|       0.3|     Nigeria|\n| 29|Female|  Gonzalo Ferebee|   DSA|    5631172|   30|Jeannetta Golden_...|       0.3|     Nigeria|\n| 28|Female|   Maybell Duguay| Cloud|     261439|   30|Nicole Harwood_Ju...|       0.3|     Nigeria|\n| 29|Female|Michelle Ruggiero|    DB|    9232210|   30|Donna Yerby_Latia...|       0.3|     Nigeria|\n| 28|Female|  Sebrina Maresca|    PF|    5742239|   31|Bonita Higuera_Se...|      0.31|     Nigeria|\n| 29|Female|   Alberta Freund|   OOP|    4501424|   31|Toshiko Hillyard_...|      0.31|     Nigeria|\n| 29|Female|   Nicole Harwood|    PF|    8121198|   31|Bonita Higuera_Pr...|      0.31|     Nigeria|\n| 29|Female|  Gonzalo Ferebee|   OOP|    2262603|   31|Bonita Higuera_Ch...|      0.31|     Nigeria|\n| 28|Female|      Donna Yerby| Cloud|    4392575|   32|Leontine Phillips...|      0.32|     Nigeria|\n| 28|Female|     Cheri Kenney| Cloud|    2281771|   32|Tamera Blakley_Ab...|      0.32|     Nigeria|\n| 29|Female|   Maybell Duguay|   MVC|    1102536|   32|Somer Stoecker_Ma...|      0.32|     Nigeria|\n| 29|Female|      Niki Klimek|    PF|     211508|   33|Cordie Harnois_Ju...|      0.33|     Nigeria|\n| 28|Female|   Bonita Higuera| Cloud|    6061881|   33|Dustin Feagins_La...|      0.33|     Nigeria|\n| 29|Female|  Hubert Oliveras|   DSA|    5542363|   33|Priscila Tavernie...|      0.33|     Nigeria|\n| 29|Female|     Naoma Fritts|   DSA|    4582052|   33|Kena Wild_Jenna M...|      0.33|     Nigeria|\n| 28|Female|      Neda Briski|    PF|    3251377|   33|Kizzy Brenner_Mic...|      0.33|     Nigeria|\n| 29|Female|   Sheryll Towler|   OOP|    6672653|   33|Jenna Montague_Sa...|      0.33|     Nigeria|\n| 29|Female|   Jenna Montague|    PF|    9991617|   33|Anna Santos_Jenna...|      0.33|     Nigeria|\n| 29|Female|      Abram Nagao|    PF|    9711154|   33|Judie Chipps_Naom...|      0.33|     Nigeria|\n+---+------+-----------------+------+-----------+-----+--------------------+----------+------------+\nonly showing top 20 rows\n\n"
     ]
    }
   ],
   "source": [
    "df.orderBy(df.sex,df.marks).show()"
   ]
  },
  {
   "cell_type": "code",
   "execution_count": 0,
   "metadata": {
    "application/vnd.databricks.v1+cell": {
     "cellMetadata": {
      "byteLimit": 2048000,
      "rowLimit": 10000
     },
     "inputWidgets": {},
     "nuid": "14773959-f708-49a7-94f3-bc16ac6c6052",
     "showTitle": false,
     "title": ""
    }
   },
   "outputs": [
    {
     "output_type": "stream",
     "name": "stdout",
     "output_type": "stream",
     "text": [
      "+---+------+------------------+------+-----------+-----+--------------------+----------+------------+\n|age|   sex|              name|course|roll number|marks|               email|percentage|country name|\n+---+------+------------------+------+-----------+-----+--------------------+----------+------------+\n| 29|  Male|    Maybell Duguay|    PF|     701486|  109|Clementina Menke_...|      1.09|     Nigeria|\n| 28|  Male|    Loris Crossett|   OOP|    9692316|  109|Judie Chipps_Mich...|      1.09|     Nigeria|\n| 29|  Male|   Gonzalo Ferebee|   MVC|    5772006|  109|Niki Klimek_Marge...|      1.09|     Nigeria|\n| 29|Female|    Alberta Freund|   DSA|    6071316|  109|Dustin Feagins_Se...|      1.09|     Nigeria|\n| 29|Female|Priscila Tavernier|   OOP|    3902993|  109|Celeste Lollis_Bi...|      1.09|     Nigeria|\n| 29|Female|      Paris Hutton|   DSA|     271472|  109|Sheryll Towler_Al...|      1.09|     Nigeria|\n| 28|  Male|       Niki Klimek|   DSA|    5172507|  109|Marylee Capasso_E...|      1.09|     Nigeria|\n| 29|  Male| Michelle Ruggiero|   DSA|    1022971|  109|Cordie Harnois_Cl...|      1.09|     Nigeria|\n| 29|Female|      Eda Neathery|    PF|    9222608|  109|Kena Wild_Lawanda...|      1.09|     Nigeria|\n| 28|Female|    Melani Engberg| Cloud|    1872667|  109|Alberta Freund_Ni...|      1.09|     Nigeria|\n| 28|Female|    Jalisa Swenson|   MVC|    5712033|  109|Dustin Feagins_Hu...|      1.09|     Nigeria|\n| 28|Female|      Judie Chipps|   OOP|    5451977|  109|Tamera Blakley_Mi...|      1.09|     Nigeria|\n| 29|  Male|    Melani Engberg|    DB|    2941257|  108|Claude Panos_Kena...|      1.08|     Nigeria|\n| 28|  Male|  Clementina Menke|   DSA|    2772189|  108|Donna Yerby_Judie...|      1.08|     Nigeria|\n| 28|  Male|    Jenna Montague|   OOP|    3331161|  108|Leontine Phillips...|      1.08|     Nigeria|\n| 28|  Male|    Loris Crossett|   OOP|    8172914|  108|Paris Hutton_Pari...|      1.08|     Nigeria|\n| 29|  Male|    Alberta Freund|    DB|    1671638|  108|Clementina Menke_...|      1.08|     Nigeria|\n| 29|Female|  Lawanda Wohlwend| Cloud|    7222880|  108|Sheryll Towler_An...|      1.08|     Nigeria|\n| 28|Female|      Judie Chipps|   DSA|    4631068|  108|Toshiko Hillyard_...|      1.08|     Nigeria|\n| 28|Female|    Somer Stoecker|    PF|    5882098|  108|Judie Chipps_Clem...|      1.08|     Nigeria|\n+---+------+------------------+------+-----------+-----+--------------------+----------+------------+\nonly showing top 20 rows\n\n"
     ]
    }
   ],
   "source": [
    "df.orderBy(df.marks.desc()).show()"
   ]
  },
  {
   "cell_type": "code",
   "execution_count": 0,
   "metadata": {
    "application/vnd.databricks.v1+cell": {
     "cellMetadata": {
      "byteLimit": 2048000,
      "rowLimit": 10000
     },
     "inputWidgets": {},
     "nuid": "9d6d1c8a-77a1-4782-88de-f97d7e0143c8",
     "showTitle": false,
     "title": ""
    }
   },
   "outputs": [
    {
     "output_type": "stream",
     "name": "stdout",
     "output_type": "stream",
     "text": [
      "+---+----+-----------------+------+-----------+-----+--------------------+----------+------------+\n|age| sex|             name|course|roll number|marks|               email|percentage|country name|\n+---+----+-----------------+------+-----------+-----+--------------------+----------+------------+\n| 29|Male|   Jalisa Swenson|   OOP|    4751515|   30|Annika Hoffman_Hu...|       0.3|     Nigeria|\n| 29|Male|Michelle Ruggiero|    PF|    6001585|   30|Paris Hutton_Marg...|       0.3|     Nigeria|\n| 29|Male|     Elenore Choy|    DB|    3652057|   30|Jc Andrepont_Gonz...|       0.3|     Nigeria|\n| 28|Male|  Marylee Capasso|   DSA|    2081560|   30|Sheryll Towler_Do...|       0.3|     Nigeria|\n| 29|Male|   Tamera Blakley|   OOP|    7341268|   31|Anna Santos_Naoma...|      0.31|     Nigeria|\n| 28|Male|      Billi Clore|    DB|    9151306|   31|Latia Vanhoose_Er...|      0.31|     Nigeria|\n| 28|Male|      Abram Nagao| Cloud|    2652463|   31|Eda Neathery_Anni...|      0.31|     Nigeria|\n| 28|Male|   Bonita Higuera| Cloud|    7671835|   31|Taryn Brownlee_Se...|      0.31|     Nigeria|\n| 29|Male|  Sebrina Maresca| Cloud|    5042394|   31|Donna Yerby_Miche...|      0.31|     Nigeria|\n| 28|Male|    Kizzy Brenner| Cloud|    4622328|   31|Leontine Phillips...|      0.31|     Nigeria|\n| 29|Male|     Paris Hutton|   MVC|     752504|   32|Elenore Choy_Elen...|      0.32|     Nigeria|\n| 29|Male|   Margene Moores|   DSA|    3942449|   32|Tijuana Kropf_Nao...|      0.32|     Nigeria|\n| 28|Male|     Eda Neathery|    PF|    5082430|   32|Leontine Phillips...|      0.32|     Nigeria|\n| 29|Male|   Annika Hoffman|   OOP|     171660|   32|Taryn Brownlee_Mi...|      0.32|     Nigeria|\n| 29|Male|     Paris Hutton|   DSA|    9702829|   32|Hubert Oliveras_C...|      0.32|     Nigeria|\n| 28|Male|      Anna Santos|    DB|    9772185|   32|Kizzy Brenner_Ann...|      0.32|     Nigeria|\n| 29|Male|   Maybell Duguay|   DSA|    4441473|   33|Billi Clore_Cleme...|      0.33|     Nigeria|\n| 28|Male|    Santa Kerfien|   MVC|    1992202|   33|Annika Hoffman_Ta...|      0.33|     Nigeria|\n| 29|Male|   Tamera Blakley|   DSA|    2661934|   33|Alberta Freund_Ti...|      0.33|     Nigeria|\n| 29|Male|  Sebrina Maresca|    PF|    2712040|   33|Jeannetta Golden_...|      0.33|     Nigeria|\n+---+----+-----------------+------+-----------+-----+--------------------+----------+------------+\nonly showing top 20 rows\n\n"
     ]
    }
   ],
   "source": [
    "df.orderBy(df.sex.desc(),df.marks.asc()).show()"
   ]
  },
  {
   "cell_type": "code",
   "execution_count": 0,
   "metadata": {
    "application/vnd.databricks.v1+cell": {
     "cellMetadata": {
      "byteLimit": 2048000,
      "rowLimit": 10000
     },
     "inputWidgets": {},
     "nuid": "8ef20a5f-6d9c-42f4-9cfb-336fa45ffeb8",
     "showTitle": false,
     "title": ""
    }
   },
   "outputs": [
    {
     "output_type": "stream",
     "name": "stdout",
     "output_type": "stream",
     "text": [
      "Out[67]: <pyspark.sql.group.GroupedData at 0x7fd5d9e87fd0>"
     ]
    }
   ],
   "source": [
    "df.groupBy('sex')"
   ]
  },
  {
   "cell_type": "code",
   "execution_count": 0,
   "metadata": {
    "application/vnd.databricks.v1+cell": {
     "cellMetadata": {
      "byteLimit": 2048000,
      "rowLimit": 10000
     },
     "inputWidgets": {},
     "nuid": "d55bc7e5-878f-44f7-9dee-2dfaec11ef62",
     "showTitle": false,
     "title": ""
    }
   },
   "outputs": [
    {
     "output_type": "stream",
     "name": "stdout",
     "output_type": "stream",
     "text": [
      "+------+-----+\n|   sex|count|\n+------+-----+\n|Female|  501|\n|  Male|  499|\n+------+-----+\n\n"
     ]
    }
   ],
   "source": [
    "df.groupBy('sex').count().show()"
   ]
  },
  {
   "cell_type": "code",
   "execution_count": 0,
   "metadata": {
    "application/vnd.databricks.v1+cell": {
     "cellMetadata": {
      "byteLimit": 2048000,
      "rowLimit": 10000
     },
     "inputWidgets": {},
     "nuid": "eef8249e-68d7-486b-947c-5ee58829499e",
     "showTitle": false,
     "title": ""
    }
   },
   "outputs": [
    {
     "output_type": "stream",
     "name": "stdout",
     "output_type": "stream",
     "text": [
      "+------+-----+\n|course|count|\n+------+-----+\n|    PF|  166|\n|    DB|  157|\n|   MVC|  157|\n|   DSA|  176|\n| Cloud|  192|\n|   OOP|  152|\n+------+-----+\n\n"
     ]
    }
   ],
   "source": [
    "df.groupBy('course').count().show()"
   ]
  },
  {
   "cell_type": "code",
   "execution_count": 0,
   "metadata": {
    "application/vnd.databricks.v1+cell": {
     "cellMetadata": {
      "byteLimit": 2048000,
      "rowLimit": 10000
     },
     "inputWidgets": {},
     "nuid": "4acbf088-667b-4dd2-b098-6221ae1c9337",
     "showTitle": false,
     "title": ""
    }
   },
   "outputs": [
    {
     "output_type": "stream",
     "name": "stdout",
     "output_type": "stream",
     "text": [
      "+------+----------+\n|   sex|max(marks)|\n+------+----------+\n|Female|       109|\n|  Male|       109|\n+------+----------+\n\n"
     ]
    }
   ],
   "source": [
    "df.groupBy('sex').max('marks').show()"
   ]
  },
  {
   "cell_type": "code",
   "execution_count": 0,
   "metadata": {
    "application/vnd.databricks.v1+cell": {
     "cellMetadata": {
      "byteLimit": 2048000,
      "rowLimit": 10000
     },
     "inputWidgets": {},
     "nuid": "5b8ad0f1-6bed-47c1-b266-e6fc4137d892",
     "showTitle": false,
     "title": ""
    }
   },
   "outputs": [
    {
     "output_type": "stream",
     "name": "stdout",
     "output_type": "stream",
     "text": [
      "+------+----------+\n|   sex|min(marks)|\n+------+----------+\n|Female|        30|\n|  Male|        30|\n+------+----------+\n\n"
     ]
    }
   ],
   "source": [
    "df.groupBy('sex').min('marks').show()"
   ]
  },
  {
   "cell_type": "code",
   "execution_count": 0,
   "metadata": {
    "application/vnd.databricks.v1+cell": {
     "cellMetadata": {
      "byteLimit": 2048000,
      "rowLimit": 10000
     },
     "inputWidgets": {},
     "nuid": "60e72c61-fb2d-44cc-b9cf-8cb0afd0a145",
     "showTitle": false,
     "title": ""
    }
   },
   "outputs": [
    {
     "output_type": "stream",
     "name": "stdout",
     "output_type": "stream",
     "text": [
      "+------+-----------------+\n|   sex|       avg(marks)|\n+------+-----------------+\n|Female|69.15369261477046|\n|  Male| 71.0440881763527|\n+------+-----------------+\n\n"
     ]
    }
   ],
   "source": [
    "df.groupBy('sex').avg('marks').show()"
   ]
  },
  {
   "cell_type": "code",
   "execution_count": 0,
   "metadata": {
    "application/vnd.databricks.v1+cell": {
     "cellMetadata": {
      "byteLimit": 2048000,
      "rowLimit": 10000
     },
     "inputWidgets": {},
     "nuid": "12fb0558-179a-4a4b-8cc0-97a0c34fd3dc",
     "showTitle": false,
     "title": ""
    }
   },
   "outputs": [
    {
     "output_type": "stream",
     "name": "stdout",
     "output_type": "stream",
     "text": [
      "+---+------+----------------+------+-----------+-----+--------------------+----------+------------+\n|age|   sex|            name|course|roll number|marks|               email|percentage|country name|\n+---+------+----------------+------+-----------+-----+--------------------+----------+------------+\n| 28|Female| Hubert Oliveras|    DB|      02984| 69.0|Annika Hoffman_Na...|      0.69|     Nigeria|\n| 29|Female|Toshiko Hillyard| Cloud|      12899| 72.0|Margene Moores_Ma...|      0.72|     Nigeria|\n| 28|  Male|  Celeste Lollis|    PF|      21267| 55.0|Jeannetta Golden_...|      0.55|     Nigeria|\n| 29|Female|    Elenore Choy|    DB|      32877| 39.0|Billi Clore_Mitzi...|      0.39|     Nigeria|\n| 28|  Male|  Sheryll Towler|   DSA|      41487| 51.0|Claude Panos_Judi...|      0.51|     Nigeria|\n+---+------+----------------+------+-----------+-----+--------------------+----------+------------+\nonly showing top 5 rows\n\n"
     ]
    }
   ],
   "source": [
    "df.show(5)"
   ]
  },
  {
   "cell_type": "code",
   "execution_count": 0,
   "metadata": {
    "application/vnd.databricks.v1+cell": {
     "cellMetadata": {
      "byteLimit": 2048000,
      "rowLimit": 10000
     },
     "inputWidgets": {},
     "nuid": "431217c8-e919-451f-9708-4e672c929966",
     "showTitle": false,
     "title": ""
    }
   },
   "outputs": [],
   "source": [
    "from pyspark.sql.functions import *"
   ]
  },
  {
   "cell_type": "code",
   "execution_count": 0,
   "metadata": {
    "application/vnd.databricks.v1+cell": {
     "cellMetadata": {
      "byteLimit": 2048000,
      "rowLimit": 10000
     },
     "inputWidgets": {},
     "nuid": "b7c2facf-be22-45a1-8364-e1a52b1c6ab3",
     "showTitle": false,
     "title": ""
    }
   },
   "outputs": [],
   "source": [
    "df.createOrReplaceTempView(\"student_data\")"
   ]
  },
  {
   "cell_type": "code",
   "execution_count": 0,
   "metadata": {
    "application/vnd.databricks.v1+cell": {
     "cellMetadata": {
      "implicitDf": true
     },
     "inputWidgets": {},
     "nuid": "9ee23717-45cd-4a27-a9a2-e7a445e09282",
     "showTitle": false,
     "title": ""
    }
   },
   "outputs": [
    {
     "output_type": "display_data",
     "data": {
      "text/html": [
       "<style scoped>\n",
       "  .table-result-container {\n",
       "    max-height: 300px;\n",
       "    overflow: auto;\n",
       "  }\n",
       "  table, th, td {\n",
       "    border: 1px solid black;\n",
       "    border-collapse: collapse;\n",
       "  }\n",
       "  th, td {\n",
       "    padding: 5px;\n",
       "  }\n",
       "  th {\n",
       "    text-align: left;\n",
       "  }\n",
       "</style><div class='table-result-container'><table class='table-result'><thead style='background-color: white'><tr><th>age</th><th>sex</th><th>name</th><th>course</th><th>roll number</th><th>marks</th><th>email</th><th>percentage</th><th>country name</th></tr></thead><tbody><tr><td>28</td><td>Female</td><td>Hubert Oliveras</td><td>DB</td><td>02984</td><td>69.0</td><td>Annika Hoffman_Naoma Fritts@OOP.com</td><td>0.69</td><td>Nigeria</td></tr><tr><td>29</td><td>Female</td><td>Toshiko Hillyard</td><td>Cloud</td><td>12899</td><td>72.0</td><td>Margene Moores_Marylee Capasso@DB.com</td><td>0.72</td><td>Nigeria</td></tr><tr><td>28</td><td>Male</td><td>Celeste Lollis</td><td>PF</td><td>21267</td><td>55.0</td><td>Jeannetta Golden_Jenna Montague@DSA.com</td><td>0.55</td><td>Nigeria</td></tr><tr><td>29</td><td>Female</td><td>Elenore Choy</td><td>DB</td><td>32877</td><td>39.0</td><td>Billi Clore_Mitzi Seldon@DB.com</td><td>0.39</td><td>Nigeria</td></tr><tr><td>28</td><td>Male</td><td>Sheryll Towler</td><td>DSA</td><td>41487</td><td>51.0</td><td>Claude Panos_Judie Chipps@OOP.com</td><td>0.51</td><td>Nigeria</td></tr><tr><td>28</td><td>Male</td><td>Margene Moores</td><td>MVC</td><td>52771</td><td>42.0</td><td>Toshiko Hillyard_Clementina Menke@MVC.com</td><td>0.42</td><td>Nigeria</td></tr><tr><td>28</td><td>Male</td><td>Neda Briski</td><td>OOP</td><td>61973</td><td>79.0</td><td>Alberta Freund_Elenore Choy@DB.com</td><td>0.79</td><td>Nigeria</td></tr><tr><td>28</td><td>Female</td><td>Claude Panos</td><td>Cloud</td><td>72409</td><td>95.0</td><td>Sheryll Towler_Alberta Freund@Cloud.com</td><td>0.95</td><td>Nigeria</td></tr><tr><td>28</td><td>Male</td><td>Celeste Lollis</td><td>MVC</td><td>81492</td><td>74.0</td><td>Nicole Harwood_Claude Panos@MVC.com</td><td>0.74</td><td>Nigeria</td></tr><tr><td>29</td><td>Male</td><td>Cordie Harnois</td><td>OOP</td><td>92882</td><td>61.0</td><td>Judie Chipps_Clementina Menke@MVC.com</td><td>0.61</td><td>Nigeria</td></tr><tr><td>29</td><td>Female</td><td>Kena Wild</td><td>DSA</td><td>102285</td><td>45.0</td><td>Dustin Feagins_Margene Moores@OOP.com</td><td>0.45</td><td>Nigeria</td></tr><tr><td>29</td><td>Male</td><td>Ernest Rossbach</td><td>DB</td><td>111449</td><td>63.0</td><td>Maybell Duguay_Abram Nagao@OOP.com</td><td>0.63</td><td>Nigeria</td></tr><tr><td>28</td><td>Female</td><td>Latia Vanhoose</td><td>DB</td><td>122502</td><td>37.0</td><td>Latia Vanhoose_Mitzi Seldon@OOP.com</td><td>0.37</td><td>Nigeria</td></tr><tr><td>29</td><td>Female</td><td>Latia Vanhoose</td><td>MVC</td><td>132110</td><td>65.0</td><td>Eda Neathery_Nicole Harwood@Cloud.com</td><td>0.65</td><td>Nigeria</td></tr><tr><td>29</td><td>Male</td><td>Neda Briski</td><td>PF</td><td>141770</td><td>52.0</td><td>Margene Moores_Michelle Ruggiero@MVC.com</td><td>0.52</td><td>Nigeria</td></tr><tr><td>29</td><td>Female</td><td>Latia Vanhoose</td><td>DB</td><td>152159</td><td>37.0</td><td>Claude Panos_Santa Kerfien@DB.com</td><td>0.37</td><td>Nigeria</td></tr><tr><td>29</td><td>Male</td><td>Loris Crossett</td><td>MVC</td><td>161771</td><td>46.0</td><td>Mitzi Seldon_Jenna Montague@MVC.com</td><td>0.46</td><td>Nigeria</td></tr><tr><td>29</td><td>Male</td><td>Annika Hoffman</td><td>OOP</td><td>171660</td><td>32.0</td><td>Taryn Brownlee_Mitzi Seldon@MVC.com</td><td>0.32</td><td>Nigeria</td></tr><tr><td>29</td><td>Male</td><td>Santa Kerfien</td><td>PF</td><td>182129</td><td>66.0</td><td>Judie Chipps_Taryn Brownlee@Cloud.com</td><td>0.66</td><td>Nigeria</td></tr><tr><td>28</td><td>Female</td><td>Mickey Cortright</td><td>DB</td><td>192537</td><td>72.0</td><td>Ernest Rossbach_Marylee Capasso@Cloud.com</td><td>0.72</td><td>Nigeria</td></tr><tr><td>29</td><td>Female</td><td>Loris Crossett</td><td>PF</td><td>201487</td><td>106.0</td><td>Elenore Choy_Latia Vanhoose@Cloud.com</td><td>1.06</td><td>Nigeria</td></tr><tr><td>29</td><td>Female</td><td>Niki Klimek</td><td>PF</td><td>211508</td><td>33.0</td><td>Cordie Harnois_Judie Chipps@PF.com</td><td>0.33</td><td>Nigeria</td></tr><tr><td>28</td><td>Female</td><td>Kena Wild</td><td>Cloud</td><td>221750</td><td>70.0</td><td>Mitzi Seldon_Jenna Montague@DSA.com</td><td>0.7</td><td>Nigeria</td></tr><tr><td>28</td><td>Female</td><td>Jc Andrepont</td><td>DSA</td><td>232060</td><td>68.0</td><td>Billi Clore_Abram Nagao@MVC.com</td><td>0.68</td><td>Nigeria</td></tr><tr><td>29</td><td>Female</td><td>Anna Santos</td><td>Cloud</td><td>242254</td><td>78.0</td><td>Jc Andrepont_Hubert Oliveras@Cloud.com</td><td>0.78</td><td>Nigeria</td></tr><tr><td>28</td><td>Female</td><td>Alberta Freund</td><td>OOP</td><td>251805</td><td>93.0</td><td>Annika Hoffman_Sheryll Towler@MVC.com</td><td>0.93</td><td>Nigeria</td></tr><tr><td>28</td><td>Female</td><td>Maybell Duguay</td><td>Cloud</td><td>261439</td><td>30.0</td><td>Nicole Harwood_Judie Chipps@DB.com</td><td>0.3</td><td>Nigeria</td></tr><tr><td>29</td><td>Female</td><td>Paris Hutton</td><td>DSA</td><td>271472</td><td>109.0</td><td>Sheryll Towler_Alberta Freund@DSA.com</td><td>1.09</td><td>Nigeria</td></tr><tr><td>29</td><td>Female</td><td>Cheri Kenney</td><td>Cloud</td><td>281408</td><td>53.0</td><td>Annika Hoffman_Melani Engberg@Cloud.com</td><td>0.53</td><td>Nigeria</td></tr><tr><td>28</td><td>Female</td><td>Dustin Feagins</td><td>DSA</td><td>291984</td><td>92.0</td><td>Abram Nagao_Kena Wild@Cloud.com</td><td>0.92</td><td>Nigeria</td></tr><tr><td>29</td><td>Female</td><td>Claude Panos</td><td>Cloud</td><td>302130</td><td>69.0</td><td>Sheryll Towler_Leontine Phillips@PF.com</td><td>0.69</td><td>Nigeria</td></tr><tr><td>28</td><td>Female</td><td>Anna Santos</td><td>DB</td><td>311589</td><td>89.0</td><td>Celeste Lollis_Mickey Cortright@DSA.com</td><td>0.89</td><td>Nigeria</td></tr><tr><td>28</td><td>Female</td><td>Cheri Kenney</td><td>MVC</td><td>321816</td><td>34.0</td><td>Kena Wild_Michelle Ruggiero@DB.com</td><td>0.34</td><td>Nigeria</td></tr><tr><td>28</td><td>Female</td><td>Loris Crossett</td><td>PF</td><td>332739</td><td>72.0</td><td>Michelle Ruggiero_Clementina Menke@DB.com</td><td>0.72</td><td>Nigeria</td></tr><tr><td>28</td><td>Female</td><td>Mickey Cortright</td><td>DSA</td><td>342003</td><td>54.0</td><td>Mitzi Seldon_Jeannetta Golden@PF.com</td><td>0.54</td><td>Nigeria</td></tr><tr><td>28</td><td>Male</td><td>Hubert Oliveras</td><td>OOP</td><td>351719</td><td>73.0</td><td>Lawanda Wohlwend_Abram Nagao@MVC.com</td><td>0.73</td><td>Nigeria</td></tr><tr><td>28</td><td>Male</td><td>Sebrina Maresca</td><td>PF</td><td>361316</td><td>72.0</td><td>Nicole Harwood_Latia Vanhoose@DB.com</td><td>0.72</td><td>Nigeria</td></tr><tr><td>29</td><td>Male</td><td>Jalisa Swenson</td><td>PF</td><td>372873</td><td>55.0</td><td>Ernest Rossbach_Toshiko Hillyard@DB.com</td><td>0.55</td><td>Nigeria</td></tr><tr><td>28</td><td>Male</td><td>Kizzy Brenner</td><td>DB</td><td>381712</td><td>46.0</td><td>Paris Hutton_Kena Wild@MVC.com</td><td>0.46</td><td>Nigeria</td></tr><tr><td>28</td><td>Male</td><td>Toshiko Hillyard</td><td>DB</td><td>392218</td><td>57.0</td><td>Leontine Phillips_Billi Clore@MVC.com</td><td>0.57</td><td>Nigeria</td></tr><tr><td>28</td><td>Female</td><td>Kizzy Brenner</td><td>Cloud</td><td>402409</td><td>37.0</td><td>Ernest Rossbach_Gonzalo Ferebee@OOP.com</td><td>0.37</td><td>Nigeria</td></tr><tr><td>29</td><td>Female</td><td>Anna Santos</td><td>DSA</td><td>411479</td><td>52.0</td><td>Kena Wild_Mitzi Seldon@DB.com</td><td>0.52</td><td>Nigeria</td></tr><tr><td>28</td><td>Male</td><td>Elenore Choy</td><td>PF</td><td>422704</td><td>76.0</td><td>Marylee Capasso_Nicole Harwood@MVC.com</td><td>0.76</td><td>Nigeria</td></tr><tr><td>28</td><td>Female</td><td>Jalisa Swenson</td><td>OOP</td><td>431352</td><td>35.0</td><td>Gonzalo Ferebee_Judie Chipps@DB.com</td><td>0.35</td><td>Nigeria</td></tr><tr><td>29</td><td>Female</td><td>Somer Stoecker</td><td>Cloud</td><td>442028</td><td>44.0</td><td>Taryn Brownlee_Taryn Brownlee@MVC.com</td><td>0.44</td><td>Nigeria</td></tr><tr><td>28</td><td>Female</td><td>Maybell Duguay</td><td>DSA</td><td>452141</td><td>39.0</td><td>Leontine Phillips_Elenore Choy@Cloud.com</td><td>0.39</td><td>Nigeria</td></tr><tr><td>28</td><td>Male</td><td>Dustin Feagins</td><td>PF</td><td>461839</td><td>61.0</td><td>Neda Briski_Elenore Choy@Cloud.com</td><td>0.61</td><td>Nigeria</td></tr><tr><td>29</td><td>Male</td><td>Annika Hoffman</td><td>OOP</td><td>472550</td><td>45.0</td><td>Mitzi Seldon_Abram Nagao@DSA.com</td><td>0.45</td><td>Nigeria</td></tr><tr><td>29</td><td>Male</td><td>Paris Hutton</td><td>DB</td><td>481229</td><td>67.0</td><td>Clementina Menke_Paris Hutton@MVC.com</td><td>0.67</td><td>Nigeria</td></tr><tr><td>29</td><td>Female</td><td>Paris Hutton</td><td>DSA</td><td>492159</td><td>70.0</td><td>Nicole Harwood_Marylee Capasso@OOP.com</td><td>0.7</td><td>Nigeria</td></tr><tr><td>29</td><td>Female</td><td>Jenna Montague</td><td>MVC</td><td>502585</td><td>53.0</td><td>Hubert Oliveras_Jc Andrepont@DSA.com</td><td>0.53</td><td>Nigeria</td></tr><tr><td>29</td><td>Male</td><td>Billi Clore</td><td>Cloud</td><td>512047</td><td>86.0</td><td>Taryn Brownlee_Judie Chipps@DSA.com</td><td>0.86</td><td>Nigeria</td></tr><tr><td>29</td><td>Male</td><td>Toshiko Hillyard</td><td>OOP</td><td>521221</td><td>87.0</td><td>Hubert Oliveras_Latia Vanhoose@MVC.com</td><td>0.87</td><td>Nigeria</td></tr><tr><td>28</td><td>Male</td><td>Margene Moores</td><td>PF</td><td>531530</td><td>63.0</td><td>Cheri Kenney_Melani Engberg@OOP.com</td><td>0.63</td><td>Nigeria</td></tr><tr><td>29</td><td>Female</td><td>Claude Panos</td><td>OOP</td><td>542821</td><td>38.0</td><td>Hubert Oliveras_Priscila Tavernier@PF.com</td><td>0.38</td><td>Nigeria</td></tr><tr><td>28</td><td>Female</td><td>Mickey Cortright</td><td>DB</td><td>551389</td><td>53.0</td><td>Tijuana Kropf_Jenna Montague@DB.com</td><td>0.53</td><td>Nigeria</td></tr><tr><td>29</td><td>Male</td><td>Celeste Lollis</td><td>DSA</td><td>562065</td><td>95.0</td><td>Jc Andrepont_Melani Engberg@OOP.com</td><td>0.95</td><td>Nigeria</td></tr><tr><td>28</td><td>Female</td><td>Tijuana Kropf</td><td>PF</td><td>571047</td><td>51.0</td><td>Loris Crossett_Sebrina Maresca@PF.com</td><td>0.51</td><td>Nigeria</td></tr><tr><td>28</td><td>Male</td><td>Marylee Capasso</td><td>OOP</td><td>581756</td><td>62.0</td><td>Jeannetta Golden_Loris Crossett@MVC.com</td><td>0.62</td><td>Nigeria</td></tr><tr><td>29</td><td>Male</td><td>Maybell Duguay</td><td>DSA</td><td>592061</td><td>93.0</td><td>Eda Neathery_Jenna Montague@Cloud.com</td><td>0.93</td><td>Nigeria</td></tr><tr><td>28</td><td>Female</td><td>Leontine Phillips</td><td>DB</td><td>602404</td><td>58.0</td><td>Neda Briski_Cheri Kenney@PF.com</td><td>0.58</td><td>Nigeria</td></tr><tr><td>28</td><td>Female</td><td>Somer Stoecker</td><td>Cloud</td><td>612490</td><td>92.0</td><td>Sebrina Maresca_Gonzalo Ferebee@DSA.com</td><td>0.92</td><td>Nigeria</td></tr><tr><td>28</td><td>Male</td><td>Mitzi Seldon</td><td>DSA</td><td>622981</td><td>55.0</td><td>Lawanda Wohlwend_Loris Crossett@DSA.com</td><td>0.55</td><td>Nigeria</td></tr><tr><td>29</td><td>Female</td><td>Judie Chipps</td><td>Cloud</td><td>632793</td><td>85.0</td><td>Tijuana Kropf_Elenore Choy@PF.com</td><td>0.85</td><td>Nigeria</td></tr><tr><td>28</td><td>Male</td><td>Priscila Tavernier</td><td>PF</td><td>642594</td><td>37.0</td><td>Marylee Capasso_Claude Panos@DSA.com</td><td>0.37</td><td>Nigeria</td></tr><tr><td>29</td><td>Male</td><td>Tamera Blakley</td><td>MVC</td><td>651649</td><td>102.0</td><td>Latia Vanhoose_Toshiko Hillyard@MVC.com</td><td>1.02</td><td>Nigeria</td></tr><tr><td>28</td><td>Male</td><td>Sheryll Towler</td><td>MVC</td><td>661079</td><td>99.0</td><td>Tijuana Kropf_Mickey Cortright@DB.com</td><td>0.99</td><td>Nigeria</td></tr><tr><td>29</td><td>Male</td><td>Hubert Oliveras</td><td>MVC</td><td>672451</td><td>38.0</td><td>Annika Hoffman_Mickey Cortright@DSA.com</td><td>0.38</td><td>Nigeria</td></tr><tr><td>29</td><td>Male</td><td>Sheryll Towler</td><td>PF</td><td>682533</td><td>52.0</td><td>Billi Clore_Anna Santos@PF.com</td><td>0.52</td><td>Nigeria</td></tr><tr><td>28</td><td>Female</td><td>Jenna Montague</td><td>DSA</td><td>691564</td><td>36.0</td><td>Mitzi Seldon_Sebrina Maresca@Cloud.com</td><td>0.36</td><td>Nigeria</td></tr><tr><td>29</td><td>Male</td><td>Maybell Duguay</td><td>PF</td><td>701486</td><td>109.0</td><td>Clementina Menke_Latia Vanhoose@Cloud.com</td><td>1.09</td><td>Nigeria</td></tr><tr><td>29</td><td>Male</td><td>Jenna Montague</td><td>MVC</td><td>711153</td><td>55.0</td><td>Marylee Capasso_Hubert Oliveras@DB.com</td><td>0.55</td><td>Nigeria</td></tr><tr><td>28</td><td>Male</td><td>Annika Hoffman</td><td>Cloud</td><td>722193</td><td>65.0</td><td>Taryn Brownlee_Elenore Choy@DB.com</td><td>0.65</td><td>Nigeria</td></tr><tr><td>28</td><td>Female</td><td>Celeste Lollis</td><td>DSA</td><td>731879</td><td>86.0</td><td>Hubert Oliveras_Gonzalo Ferebee@DSA.com</td><td>0.86</td><td>Nigeria</td></tr><tr><td>29</td><td>Male</td><td>Jeannetta Golden</td><td>MVC</td><td>741875</td><td>67.0</td><td>Sheryll Towler_Cheri Kenney@DSA.com</td><td>0.67</td><td>Nigeria</td></tr><tr><td>29</td><td>Male</td><td>Paris Hutton</td><td>MVC</td><td>752504</td><td>32.0</td><td>Elenore Choy_Elenore Choy@DB.com</td><td>0.32</td><td>Nigeria</td></tr><tr><td>29</td><td>Female</td><td>Margene Moores</td><td>MVC</td><td>761843</td><td>58.0</td><td>Ernest Rossbach_Mickey Cortright@DSA.com</td><td>0.58</td><td>Nigeria</td></tr><tr><td>28</td><td>Female</td><td>Hubert Oliveras</td><td>DB</td><td>771081</td><td>89.0</td><td>Kizzy Brenner_Dustin Feagins@MVC.com</td><td>0.89</td><td>Nigeria</td></tr><tr><td>28</td><td>Male</td><td>Alberta Freund</td><td>PF</td><td>781061</td><td>85.0</td><td>Leontine Phillips_Bonita Higuera@PF.com</td><td>0.85</td><td>Nigeria</td></tr><tr><td>29</td><td>Female</td><td>Billi Clore</td><td>OOP</td><td>791519</td><td>103.0</td><td>Elenore Choy_Jalisa Swenson@MVC.com</td><td>1.03</td><td>Nigeria</td></tr><tr><td>28</td><td>Female</td><td>Billi Clore</td><td>Cloud</td><td>801693</td><td>48.0</td><td>Niki Klimek_Kizzy Brenner@DB.com</td><td>0.48</td><td>Nigeria</td></tr><tr><td>29</td><td>Female</td><td>Elenore Choy</td><td>DB</td><td>811824</td><td>65.0</td><td>Maybell Duguay_Melani Engberg@DB.com</td><td>0.65</td><td>Nigeria</td></tr><tr><td>28</td><td>Male</td><td>Anna Santos</td><td>OOP</td><td>822396</td><td>57.0</td><td>Leontine Phillips_Gonzalo Ferebee@Cloud.com</td><td>0.57</td><td>Nigeria</td></tr><tr><td>28</td><td>Male</td><td>Sheryll Towler</td><td>DSA</td><td>831562</td><td>69.0</td><td>Kena Wild_Gonzalo Ferebee@Cloud.com</td><td>0.69</td><td>Nigeria</td></tr><tr><td>29</td><td>Male</td><td>Neda Briski</td><td>PF</td><td>842515</td><td>78.0</td><td>Neda Briski_Hubert Oliveras@OOP.com</td><td>0.78</td><td>Nigeria</td></tr><tr><td>28</td><td>Female</td><td>Santa Kerfien</td><td>Cloud</td><td>851620</td><td>44.0</td><td>Melani Engberg_Sheryll Towler@PF.com</td><td>0.44</td><td>Nigeria</td></tr><tr><td>29</td><td>Female</td><td>Taryn Brownlee</td><td>MVC</td><td>861849</td><td>49.0</td><td>Billi Clore_Toshiko Hillyard@MVC.com</td><td>0.49</td><td>Nigeria</td></tr><tr><td>28</td><td>Female</td><td>Sheryll Towler</td><td>DSA</td><td>871967</td><td>74.0</td><td>Michelle Ruggiero_Billi Clore@Cloud.com</td><td>0.74</td><td>Nigeria</td></tr><tr><td>29</td><td>Male</td><td>Clementina Menke</td><td>DB</td><td>882200</td><td>86.0</td><td>Michelle Ruggiero_Jenna Montague@MVC.com</td><td>0.86</td><td>Nigeria</td></tr><tr><td>28</td><td>Male</td><td>Margene Moores</td><td>DSA</td><td>892010</td><td>103.0</td><td>Anna Santos_Naoma Fritts@DSA.com</td><td>1.03</td><td>Nigeria</td></tr><tr><td>28</td><td>Female</td><td>Somer Stoecker</td><td>DSA</td><td>901958</td><td>74.0</td><td>Kizzy Brenner_Jc Andrepont@DB.com</td><td>0.74</td><td>Nigeria</td></tr><tr><td>29</td><td>Male</td><td>Loris Crossett</td><td>PF</td><td>911593</td><td>56.0</td><td>Gonzalo Ferebee_Mitzi Seldon@PF.com</td><td>0.56</td><td>Nigeria</td></tr><tr><td>29</td><td>Female</td><td>Sebrina Maresca</td><td>DB</td><td>922210</td><td>64.0</td><td>Toshiko Hillyard_Santa Kerfien@MVC.com</td><td>0.64</td><td>Nigeria</td></tr><tr><td>29</td><td>Male</td><td>Naoma Fritts</td><td>DB</td><td>931295</td><td>89.0</td><td>Hubert Oliveras_Sheryll Towler@DSA.com</td><td>0.89</td><td>Nigeria</td></tr><tr><td>28</td><td>Female</td><td>Santa Kerfien</td><td>MVC</td><td>941783</td><td>104.0</td><td>Paris Hutton_Naoma Fritts@DB.com</td><td>1.04</td><td>Nigeria</td></tr><tr><td>28</td><td>Female</td><td>Lawanda Wohlwend</td><td>DSA</td><td>951686</td><td>70.0</td><td>Loris Crossett_Nicole Harwood@DSA.com</td><td>0.7</td><td>Nigeria</td></tr><tr><td>29</td><td>Male</td><td>Abram Nagao</td><td>MVC</td><td>962235</td><td>42.0</td><td>Jenna Montague_Gonzalo Ferebee@DSA.com</td><td>0.42</td><td>Nigeria</td></tr><tr><td>28</td><td>Female</td><td>Jc Andrepont</td><td>PF</td><td>972733</td><td>30.0</td><td>Eda Neathery_Eda Neathery@MVC.com</td><td>0.3</td><td>Nigeria</td></tr><tr><td>29</td><td>Male</td><td>Niki Klimek</td><td>PF</td><td>982443</td><td>104.0</td><td>Santa Kerfien_Kizzy Brenner@DB.com</td><td>1.04</td><td>Nigeria</td></tr><tr><td>28</td><td>Female</td><td>Marylee Capasso</td><td>OOP</td><td>991770</td><td>96.0</td><td>Margene Moores_Clementina Menke@DB.com</td><td>0.96</td><td>Nigeria</td></tr><tr><td>28</td><td>Male</td><td>Jenna Montague</td><td>DSA</td><td>1002103</td><td>46.0</td><td>Melani Engberg_Hubert Oliveras@PF.com</td><td>0.46</td><td>Nigeria</td></tr><tr><td>29</td><td>Female</td><td>Eda Neathery</td><td>Cloud</td><td>1011971</td><td>101.0</td><td>Margene Moores_Elenore Choy@MVC.com</td><td>1.01</td><td>Nigeria</td></tr><tr><td>29</td><td>Male</td><td>Michelle Ruggiero</td><td>DSA</td><td>1022971</td><td>109.0</td><td>Cordie Harnois_Clementina Menke@OOP.com</td><td>1.09</td><td>Nigeria</td></tr><tr><td>28</td><td>Male</td><td>Annika Hoffman</td><td>DB</td><td>1031544</td><td>54.0</td><td>Dustin Feagins_Somer Stoecker@DB.com</td><td>0.54</td><td>Nigeria</td></tr><tr><td>29</td><td>Female</td><td>Hubert Oliveras</td><td>DSA</td><td>1041483</td><td>38.0</td><td>Billi Clore_Santa Kerfien@DSA.com</td><td>0.38</td><td>Nigeria</td></tr><tr><td>28</td><td>Male</td><td>Billi Clore</td><td>MVC</td><td>1052566</td><td>88.0</td><td>Naoma Fritts_Margene Moores@DSA.com</td><td>0.88</td><td>Nigeria</td></tr><tr><td>28</td><td>Female</td><td>Nicole Harwood</td><td>MVC</td><td>1061068</td><td>92.0</td><td>Santa Kerfien_Hubert Oliveras@MVC.com</td><td>0.92</td><td>Nigeria</td></tr><tr><td>29</td><td>Male</td><td>Clementina Menke</td><td>PF</td><td>1071717</td><td>64.0</td><td>Celeste Lollis_Leontine Phillips@OOP.com</td><td>0.64</td><td>Nigeria</td></tr><tr><td>28</td><td>Female</td><td>Claude Panos</td><td>OOP</td><td>1081294</td><td>104.0</td><td>Kizzy Brenner_Anna Santos@OOP.com</td><td>1.04</td><td>Nigeria</td></tr><tr><td>29</td><td>Male</td><td>Donna Yerby</td><td>DSA</td><td>1092702</td><td>89.0</td><td>Marylee Capasso_Alberta Freund@OOP.com</td><td>0.89</td><td>Nigeria</td></tr><tr><td>29</td><td>Female</td><td>Maybell Duguay</td><td>MVC</td><td>1102536</td><td>32.0</td><td>Somer Stoecker_Marylee Capasso@OOP.com</td><td>0.32</td><td>Nigeria</td></tr><tr><td>29</td><td>Male</td><td>Abram Nagao</td><td>PF</td><td>1112161</td><td>52.0</td><td>Nicole Harwood_Niki Klimek@DB.com</td><td>0.52</td><td>Nigeria</td></tr><tr><td>28</td><td>Female</td><td>Bonita Higuera</td><td>DSA</td><td>1122348</td><td>61.0</td><td>Somer Stoecker_Jenna Montague@DB.com</td><td>0.61</td><td>Nigeria</td></tr><tr><td>29</td><td>Female</td><td>Melani Engberg</td><td>OOP</td><td>1132093</td><td>86.0</td><td>Kena Wild_Neda Briski@Cloud.com</td><td>0.86</td><td>Nigeria</td></tr><tr><td>29</td><td>Female</td><td>Marylee Capasso</td><td>OOP</td><td>1142653</td><td>71.0</td><td>Cordie Harnois_Alberta Freund@DSA.com</td><td>0.71</td><td>Nigeria</td></tr><tr><td>29</td><td>Male</td><td>Nicole Harwood</td><td>Cloud</td><td>1152571</td><td>72.0</td><td>Latia Vanhoose_Maybell Duguay@PF.com</td><td>0.72</td><td>Nigeria</td></tr><tr><td>29</td><td>Female</td><td>Dustin Feagins</td><td>OOP</td><td>1161607</td><td>47.0</td><td>Eda Neathery_Marylee Capasso@MVC.com</td><td>0.47</td><td>Nigeria</td></tr><tr><td>28</td><td>Female</td><td>Niki Klimek</td><td>PF</td><td>1172784</td><td>34.0</td><td>Jeannetta Golden_Abram Nagao@MVC.com</td><td>0.34</td><td>Nigeria</td></tr><tr><td>29</td><td>Female</td><td>Abram Nagao</td><td>DSA</td><td>1181007</td><td>67.0</td><td>Anna Santos_Anna Santos@DSA.com</td><td>0.67</td><td>Nigeria</td></tr><tr><td>28</td><td>Male</td><td>Jalisa Swenson</td><td>PF</td><td>1192555</td><td>87.0</td><td>Marylee Capasso_Celeste Lollis@Cloud.com</td><td>0.87</td><td>Nigeria</td></tr><tr><td>29</td><td>Female</td><td>Ernest Rossbach</td><td>MVC</td><td>1201427</td><td>90.0</td><td>Elenore Choy_Jenna Montague@OOP.com</td><td>0.9</td><td>Nigeria</td></tr><tr><td>28</td><td>Male</td><td>Nicole Harwood</td><td>DB</td><td>1211495</td><td>38.0</td><td>Melani Engberg_Jc Andrepont@Cloud.com</td><td>0.38</td><td>Nigeria</td></tr><tr><td>29</td><td>Female</td><td>Claude Panos</td><td>DB</td><td>1222887</td><td>85.0</td><td>Hubert Oliveras_Somer Stoecker@Cloud.com</td><td>0.85</td><td>Nigeria</td></tr><tr><td>28</td><td>Female</td><td>Cordie Harnois</td><td>OOP</td><td>1231943</td><td>78.0</td><td>Mickey Cortright_Kizzy Brenner@OOP.com</td><td>0.78</td><td>Nigeria</td></tr><tr><td>28</td><td>Male</td><td>Nicole Harwood</td><td>OOP</td><td>1242426</td><td>81.0</td><td>Billi Clore_Loris Crossett@Cloud.com</td><td>0.81</td><td>Nigeria</td></tr><tr><td>28</td><td>Male</td><td>Gonzalo Ferebee</td><td>Cloud</td><td>1251176</td><td>70.0</td><td>Santa Kerfien_Tamera Blakley@PF.com</td><td>0.7</td><td>Nigeria</td></tr><tr><td>29</td><td>Male</td><td>Jalisa Swenson</td><td>Cloud</td><td>1261533</td><td>80.0</td><td>Dustin Feagins_Nicole Harwood@PF.com</td><td>0.8</td><td>Nigeria</td></tr><tr><td>28</td><td>Female</td><td>Eda Neathery</td><td>Cloud</td><td>1272870</td><td>79.0</td><td>Somer Stoecker_Dustin Feagins@DB.com</td><td>0.79</td><td>Nigeria</td></tr><tr><td>28</td><td>Female</td><td>Toshiko Hillyard</td><td>DSA</td><td>1282835</td><td>89.0</td><td>Somer Stoecker_Toshiko Hillyard@OOP.com</td><td>0.89</td><td>Nigeria</td></tr><tr><td>28</td><td>Male</td><td>Paris Hutton</td><td>MVC</td><td>1292279</td><td>36.0</td><td>Paris Hutton_Eda Neathery@DSA.com</td><td>0.36</td><td>Nigeria</td></tr><tr><td>29</td><td>Female</td><td>Niki Klimek</td><td>DB</td><td>1301784</td><td>34.0</td><td>Celeste Lollis_Tamera Blakley@DB.com</td><td>0.34</td><td>Nigeria</td></tr><tr><td>28</td><td>Male</td><td>Bonita Higuera</td><td>Cloud</td><td>1312294</td><td>104.0</td><td>Eda Neathery_Priscila Tavernier@PF.com</td><td>1.04</td><td>Nigeria</td></tr><tr><td>28</td><td>Female</td><td>Leontine Phillips</td><td>MVC</td><td>1322629</td><td>97.0</td><td>Judie Chipps_Michelle Ruggiero@Cloud.com</td><td>0.97</td><td>Nigeria</td></tr><tr><td>29</td><td>Male</td><td>Jalisa Swenson</td><td>PF</td><td>1332072</td><td>98.0</td><td>Billi Clore_Kizzy Brenner@Cloud.com</td><td>0.98</td><td>Nigeria</td></tr><tr><td>28</td><td>Male</td><td>Clementina Menke</td><td>OOP</td><td>1341574</td><td>56.0</td><td>Elenore Choy_Mickey Cortright@DB.com</td><td>0.56</td><td>Nigeria</td></tr><tr><td>28</td><td>Male</td><td>Gonzalo Ferebee</td><td>PF</td><td>1352348</td><td>105.0</td><td>Neda Briski_Somer Stoecker@DB.com</td><td>1.05</td><td>Nigeria</td></tr><tr><td>29</td><td>Female</td><td>Jalisa Swenson</td><td>DSA</td><td>1362151</td><td>61.0</td><td>Lawanda Wohlwend_Jenna Montague@PF.com</td><td>0.61</td><td>Nigeria</td></tr><tr><td>28</td><td>Male</td><td>Lawanda Wohlwend</td><td>PF</td><td>1372552</td><td>98.0</td><td>Hubert Oliveras_Tijuana Kropf@DSA.com</td><td>0.98</td><td>Nigeria</td></tr><tr><td>28</td><td>Male</td><td>Abram Nagao</td><td>DSA</td><td>1382959</td><td>76.0</td><td>Michelle Ruggiero_Kena Wild@OOP.com</td><td>0.76</td><td>Nigeria</td></tr><tr><td>29</td><td>Female</td><td>Hubert Oliveras</td><td>Cloud</td><td>1392791</td><td>104.0</td><td>Anna Santos_Alberta Freund@Cloud.com</td><td>1.04</td><td>Nigeria</td></tr><tr><td>28</td><td>Male</td><td>Bonita Higuera</td><td>Cloud</td><td>1401526</td><td>34.0</td><td>Jc Andrepont_Cheri Kenney@Cloud.com</td><td>0.34</td><td>Nigeria</td></tr><tr><td>29</td><td>Female</td><td>Clementina Menke</td><td>OOP</td><td>1412376</td><td>75.0</td><td>Elenore Choy_Latia Vanhoose@DSA.com</td><td>0.75</td><td>Nigeria</td></tr><tr><td>29</td><td>Female</td><td>Mickey Cortright</td><td>Cloud</td><td>1421542</td><td>81.0</td><td>Latia Vanhoose_Kena Wild@OOP.com</td><td>0.81</td><td>Nigeria</td></tr><tr><td>29</td><td>Female</td><td>Leontine Phillips</td><td>DB</td><td>1432252</td><td>77.0</td><td>Billi Clore_Sheryll Towler@DB.com</td><td>0.77</td><td>Nigeria</td></tr><tr><td>28</td><td>Female</td><td>Nicole Harwood</td><td>PF</td><td>1441367</td><td>105.0</td><td>Jc Andrepont_Anna Santos@DSA.com</td><td>1.05</td><td>Nigeria</td></tr><tr><td>28</td><td>Female</td><td>Gonzalo Ferebee</td><td>DB</td><td>1451513</td><td>79.0</td><td>Claude Panos_Tamera Blakley@PF.com</td><td>0.79</td><td>Nigeria</td></tr><tr><td>29</td><td>Female</td><td>Judie Chipps</td><td>DB</td><td>1461078</td><td>41.0</td><td>Tijuana Kropf_Billi Clore@OOP.com</td><td>0.41</td><td>Nigeria</td></tr><tr><td>29</td><td>Male</td><td>Niki Klimek</td><td>MVC</td><td>1472917</td><td>46.0</td><td>Sebrina Maresca_Sheryll Towler@MVC.com</td><td>0.46</td><td>Nigeria</td></tr><tr><td>29</td><td>Female</td><td>Lawanda Wohlwend</td><td>MVC</td><td>1482889</td><td>75.0</td><td>Gonzalo Ferebee_Dustin Feagins@PF.com</td><td>0.75</td><td>Nigeria</td></tr><tr><td>28</td><td>Male</td><td>Jc Andrepont</td><td>DSA</td><td>1492828</td><td>88.0</td><td>Celeste Lollis_Kizzy Brenner@MVC.com</td><td>0.88</td><td>Nigeria</td></tr><tr><td>28</td><td>Female</td><td>Cordie Harnois</td><td>MVC</td><td>1501333</td><td>104.0</td><td>Gonzalo Ferebee_Tijuana Kropf@OOP.com</td><td>1.04</td><td>Nigeria</td></tr><tr><td>29</td><td>Female</td><td>Taryn Brownlee</td><td>OOP</td><td>1511213</td><td>82.0</td><td>Cheri Kenney_Donna Yerby@DSA.com</td><td>0.82</td><td>Nigeria</td></tr><tr><td>28</td><td>Male</td><td>Hubert Oliveras</td><td>PF</td><td>1521724</td><td>101.0</td><td>Eda Neathery_Jeannetta Golden@MVC.com</td><td>1.01</td><td>Nigeria</td></tr><tr><td>29</td><td>Female</td><td>Naoma Fritts</td><td>MVC</td><td>1532260</td><td>83.0</td><td>Elenore Choy_Judie Chipps@DSA.com</td><td>0.83</td><td>Nigeria</td></tr><tr><td>28</td><td>Female</td><td>Marylee Capasso</td><td>Cloud</td><td>1541030</td><td>68.0</td><td>Cordie Harnois_Celeste Lollis@PF.com</td><td>0.68</td><td>Nigeria</td></tr><tr><td>29</td><td>Female</td><td>Annika Hoffman</td><td>OOP</td><td>1551846</td><td>60.0</td><td>Paris Hutton_Melani Engberg@DB.com</td><td>0.6</td><td>Nigeria</td></tr><tr><td>28</td><td>Female</td><td>Jeannetta Golden</td><td>OOP</td><td>1562758</td><td>50.0</td><td>Jeannetta Golden_Billi Clore@Cloud.com</td><td>0.5</td><td>Nigeria</td></tr><tr><td>29</td><td>Female</td><td>Cheri Kenney</td><td>MVC</td><td>1571310</td><td>98.0</td><td>Cordie Harnois_Lawanda Wohlwend@MVC.com</td><td>0.98</td><td>Nigeria</td></tr><tr><td>29</td><td>Female</td><td>Jeannetta Golden</td><td>PF</td><td>1581770</td><td>49.0</td><td>Bonita Higuera_Santa Kerfien@OOP.com</td><td>0.49</td><td>Nigeria</td></tr><tr><td>28</td><td>Female</td><td>Tamera Blakley</td><td>PF</td><td>1591554</td><td>88.0</td><td>Sebrina Maresca_Tijuana Kropf@OOP.com</td><td>0.88</td><td>Nigeria</td></tr><tr><td>28</td><td>Male</td><td>Paris Hutton</td><td>MVC</td><td>1602777</td><td>63.0</td><td>Sheryll Towler_Loris Crossett@DSA.com</td><td>0.63</td><td>Nigeria</td></tr><tr><td>28</td><td>Male</td><td>Marylee Capasso</td><td>DB</td><td>1611411</td><td>106.0</td><td>Annika Hoffman_Loris Crossett@PF.com</td><td>1.06</td><td>Nigeria</td></tr><tr><td>28</td><td>Male</td><td>Anna Santos</td><td>OOP</td><td>1621905</td><td>34.0</td><td>Elenore Choy_Santa Kerfien@DB.com</td><td>0.34</td><td>Nigeria</td></tr><tr><td>28</td><td>Male</td><td>Neda Briski</td><td>DSA</td><td>1632185</td><td>103.0</td><td>Clementina Menke_Toshiko Hillyard@Cloud.com</td><td>1.03</td><td>Nigeria</td></tr><tr><td>29</td><td>Female</td><td>Michelle Ruggiero</td><td>DB</td><td>1642509</td><td>55.0</td><td>Hubert Oliveras_Marylee Capasso@DB.com</td><td>0.55</td><td>Nigeria</td></tr><tr><td>28</td><td>Female</td><td>Neda Briski</td><td>Cloud</td><td>1651303</td><td>84.0</td><td>Ernest Rossbach_Donna Yerby@OOP.com</td><td>0.84</td><td>Nigeria</td></tr><tr><td>28</td><td>Female</td><td>Loris Crossett</td><td>DSA</td><td>1662549</td><td>96.0</td><td>Paris Hutton_Latia Vanhoose@Cloud.com</td><td>0.96</td><td>Nigeria</td></tr><tr><td>29</td><td>Male</td><td>Alberta Freund</td><td>DB</td><td>1671638</td><td>108.0</td><td>Clementina Menke_Jalisa Swenson@Cloud.com</td><td>1.08</td><td>Nigeria</td></tr><tr><td>28</td><td>Female</td><td>Sebrina Maresca</td><td>MVC</td><td>1681804</td><td>37.0</td><td>Celeste Lollis_Ernest Rossbach@MVC.com</td><td>0.37</td><td>Nigeria</td></tr><tr><td>28</td><td>Male</td><td>Celeste Lollis</td><td>DB</td><td>1692106</td><td>46.0</td><td>Neda Briski_Abram Nagao@MVC.com</td><td>0.46</td><td>Nigeria</td></tr><tr><td>29</td><td>Female</td><td>Anna Santos</td><td>DSA</td><td>1702439</td><td>74.0</td><td>Naoma Fritts_Toshiko Hillyard@DB.com</td><td>0.74</td><td>Nigeria</td></tr><tr><td>28</td><td>Female</td><td>Margene Moores</td><td>DSA</td><td>1712967</td><td>51.0</td><td>Tijuana Kropf_Sheryll Towler@DB.com</td><td>0.51</td><td>Nigeria</td></tr><tr><td>28</td><td>Female</td><td>Priscila Tavernier</td><td>DB</td><td>1722388</td><td>96.0</td><td>Lawanda Wohlwend_Loris Crossett@DSA.com</td><td>0.96</td><td>Nigeria</td></tr><tr><td>29</td><td>Female</td><td>Jc Andrepont</td><td>MVC</td><td>1731652</td><td>84.0</td><td>Hubert Oliveras_Michelle Ruggiero@DSA.com</td><td>0.84</td><td>Nigeria</td></tr><tr><td>28</td><td>Female</td><td>Anna Santos</td><td>DSA</td><td>1741879</td><td>99.0</td><td>Nicole Harwood_Lawanda Wohlwend@DB.com</td><td>0.99</td><td>Nigeria</td></tr><tr><td>29</td><td>Female</td><td>Lawanda Wohlwend</td><td>MVC</td><td>1751381</td><td>85.0</td><td>Jalisa Swenson_Nicole Harwood@OOP.com</td><td>0.85</td><td>Nigeria</td></tr><tr><td>29</td><td>Male</td><td>Nicole Harwood</td><td>MVC</td><td>1761454</td><td>44.0</td><td>Taryn Brownlee_Billi Clore@DSA.com</td><td>0.44</td><td>Nigeria</td></tr><tr><td>29</td><td>Male</td><td>Claude Panos</td><td>DSA</td><td>1771605</td><td>60.0</td><td>Claude Panos_Tamera Blakley@OOP.com</td><td>0.6</td><td>Nigeria</td></tr><tr><td>29</td><td>Male</td><td>Dustin Feagins</td><td>DB</td><td>1782045</td><td>91.0</td><td>Cordie Harnois_Toshiko Hillyard@OOP.com</td><td>0.91</td><td>Nigeria</td></tr><tr><td>29</td><td>Male</td><td>Toshiko Hillyard</td><td>DSA</td><td>1791364</td><td>60.0</td><td>Jc Andrepont_Nicole Harwood@MVC.com</td><td>0.6</td><td>Nigeria</td></tr><tr><td>28</td><td>Male</td><td>Alberta Freund</td><td>Cloud</td><td>1802934</td><td>34.0</td><td>Maybell Duguay_Paris Hutton@PF.com</td><td>0.34</td><td>Nigeria</td></tr><tr><td>29</td><td>Female</td><td>Tijuana Kropf</td><td>MVC</td><td>1811192</td><td>61.0</td><td>Anna Santos_Latia Vanhoose@DSA.com</td><td>0.61</td><td>Nigeria</td></tr><tr><td>29</td><td>Female</td><td>Ernest Rossbach</td><td>Cloud</td><td>1821977</td><td>38.0</td><td>Annika Hoffman_Kizzy Brenner@DSA.com</td><td>0.38</td><td>Nigeria</td></tr><tr><td>29</td><td>Male</td><td>Latia Vanhoose</td><td>Cloud</td><td>1832268</td><td>70.0</td><td>Marylee Capasso_Santa Kerfien@MVC.com</td><td>0.7</td><td>Nigeria</td></tr><tr><td>29</td><td>Male</td><td>Alberta Freund</td><td>OOP</td><td>1841931</td><td>47.0</td><td>Jenna Montague_Taryn Brownlee@Cloud.com</td><td>0.47</td><td>Nigeria</td></tr><tr><td>28</td><td>Female</td><td>Lawanda Wohlwend</td><td>DB</td><td>1852072</td><td>40.0</td><td>Bonita Higuera_Jenna Montague@DB.com</td><td>0.4</td><td>Nigeria</td></tr><tr><td>29</td><td>Male</td><td>Celeste Lollis</td><td>PF</td><td>1861656</td><td>77.0</td><td>Niki Klimek_Lawanda Wohlwend@DB.com</td><td>0.77</td><td>Nigeria</td></tr><tr><td>28</td><td>Female</td><td>Melani Engberg</td><td>Cloud</td><td>1872667</td><td>109.0</td><td>Alberta Freund_Nicole Harwood@DB.com</td><td>1.09</td><td>Nigeria</td></tr><tr><td>29</td><td>Male</td><td>Tijuana Kropf</td><td>DB</td><td>1882795</td><td>102.0</td><td>Hubert Oliveras_Elenore Choy@Cloud.com</td><td>1.02</td><td>Nigeria</td></tr><tr><td>28</td><td>Male</td><td>Somer Stoecker</td><td>Cloud</td><td>1891261</td><td>40.0</td><td>Taryn Brownlee_Sheryll Towler@PF.com</td><td>0.4</td><td>Nigeria</td></tr><tr><td>28</td><td>Male</td><td>Ernest Rossbach</td><td>DB</td><td>1901492</td><td>64.0</td><td>Latia Vanhoose_Jc Andrepont@MVC.com</td><td>0.64</td><td>Nigeria</td></tr><tr><td>28</td><td>Female</td><td>Anna Santos</td><td>PF</td><td>1911870</td><td>102.0</td><td>Sebrina Maresca_Clementina Menke@OOP.com</td><td>1.02</td><td>Nigeria</td></tr><tr><td>28</td><td>Female</td><td>Melani Engberg</td><td>PF</td><td>1922525</td><td>93.0</td><td>Marylee Capasso_Celeste Lollis@PF.com</td><td>0.93</td><td>Nigeria</td></tr><tr><td>29</td><td>Male</td><td>Sebrina Maresca</td><td>PF</td><td>1932455</td><td>33.0</td><td>Tijuana Kropf_Naoma Fritts@Cloud.com</td><td>0.33</td><td>Nigeria</td></tr><tr><td>29</td><td>Male</td><td>Marylee Capasso</td><td>DSA</td><td>1942185</td><td>47.0</td><td>Tijuana Kropf_Latia Vanhoose@DSA.com</td><td>0.47</td><td>Nigeria</td></tr><tr><td>29</td><td>Male</td><td>Jeannetta Golden</td><td>Cloud</td><td>1952763</td><td>77.0</td><td>Jenna Montague_Jeannetta Golden@OOP.com</td><td>0.77</td><td>Nigeria</td></tr><tr><td>29</td><td>Male</td><td>Niki Klimek</td><td>MVC</td><td>1962371</td><td>88.0</td><td>Marylee Capasso_Mickey Cortright@PF.com</td><td>0.88</td><td>Nigeria</td></tr><tr><td>29</td><td>Female</td><td>Leontine Phillips</td><td>DB</td><td>1972893</td><td>74.0</td><td>Marylee Capasso_Elenore Choy@OOP.com</td><td>0.74</td><td>Nigeria</td></tr><tr><td>29</td><td>Male</td><td>Tamera Blakley</td><td>OOP</td><td>1981124</td><td>56.0</td><td>Taryn Brownlee_Eda Neathery@DB.com</td><td>0.56</td><td>Nigeria</td></tr><tr><td>28</td><td>Male</td><td>Santa Kerfien</td><td>MVC</td><td>1992202</td><td>33.0</td><td>Annika Hoffman_Tamera Blakley@OOP.com</td><td>0.33</td><td>Nigeria</td></tr><tr><td>29</td><td>Female</td><td>Donna Yerby</td><td>OOP</td><td>2002040</td><td>95.0</td><td>Jeannetta Golden_Clementina Menke@OOP.com</td><td>0.95</td><td>Nigeria</td></tr><tr><td>29</td><td>Male</td><td>Somer Stoecker</td><td>OOP</td><td>2011301</td><td>57.0</td><td>Somer Stoecker_Anna Santos@MVC.com</td><td>0.57</td><td>Nigeria</td></tr><tr><td>28</td><td>Male</td><td>Billi Clore</td><td>PF</td><td>2022282</td><td>87.0</td><td>Anna Santos_Claude Panos@Cloud.com</td><td>0.87</td><td>Nigeria</td></tr><tr><td>28</td><td>Male</td><td>Kena Wild</td><td>DB</td><td>2031530</td><td>103.0</td><td>Jc Andrepont_Jc Andrepont@PF.com</td><td>1.03</td><td>Nigeria</td></tr><tr><td>29</td><td>Female</td><td>Abram Nagao</td><td>DSA</td><td>2041248</td><td>82.0</td><td>Latia Vanhoose_Kena Wild@DSA.com</td><td>0.82</td><td>Nigeria</td></tr><tr><td>28</td><td>Female</td><td>Paris Hutton</td><td>Cloud</td><td>2051881</td><td>89.0</td><td>Melani Engberg_Marylee Capasso@PF.com</td><td>0.89</td><td>Nigeria</td></tr><tr><td>28</td><td>Female</td><td>Claude Panos</td><td>OOP</td><td>2061187</td><td>68.0</td><td>Cheri Kenney_Cordie Harnois@PF.com</td><td>0.68</td><td>Nigeria</td></tr><tr><td>28</td><td>Female</td><td>Eda Neathery</td><td>Cloud</td><td>2071302</td><td>105.0</td><td>Latia Vanhoose_Donna Yerby@Cloud.com</td><td>1.05</td><td>Nigeria</td></tr><tr><td>28</td><td>Male</td><td>Marylee Capasso</td><td>DSA</td><td>2081560</td><td>30.0</td><td>Sheryll Towler_Donna Yerby@Cloud.com</td><td>0.3</td><td>Nigeria</td></tr><tr><td>28</td><td>Male</td><td>Neda Briski</td><td>Cloud</td><td>2092176</td><td>91.0</td><td>Celeste Lollis_Maybell Duguay@PF.com</td><td>0.91</td><td>Nigeria</td></tr><tr><td>29</td><td>Male</td><td>Donna Yerby</td><td>DSA</td><td>2102495</td><td>107.0</td><td>Paris Hutton_Celeste Lollis@PF.com</td><td>1.07</td><td>Nigeria</td></tr><tr><td>29</td><td>Male</td><td>Judie Chipps</td><td>DB</td><td>2112234</td><td>104.0</td><td>Dustin Feagins_Tamera Blakley@PF.com</td><td>1.04</td><td>Nigeria</td></tr><tr><td>28</td><td>Female</td><td>Tijuana Kropf</td><td>Cloud</td><td>2121632</td><td>88.0</td><td>Michelle Ruggiero_Anna Santos@OOP.com</td><td>0.88</td><td>Nigeria</td></tr><tr><td>29</td><td>Male</td><td>Jeannetta Golden</td><td>MVC</td><td>2132781</td><td>103.0</td><td>Kizzy Brenner_Cheri Kenney@MVC.com</td><td>1.03</td><td>Nigeria</td></tr><tr><td>29</td><td>Male</td><td>Naoma Fritts</td><td>PF</td><td>2141246</td><td>101.0</td><td>Mitzi Seldon_Cordie Harnois@Cloud.com</td><td>1.01</td><td>Nigeria</td></tr><tr><td>29</td><td>Male</td><td>Somer Stoecker</td><td>MVC</td><td>2151024</td><td>46.0</td><td>Loris Crossett_Tamera Blakley@DB.com</td><td>0.46</td><td>Nigeria</td></tr><tr><td>28</td><td>Male</td><td>Toshiko Hillyard</td><td>PF</td><td>2162776</td><td>64.0</td><td>Jenna Montague_Niki Klimek@MVC.com</td><td>0.64</td><td>Nigeria</td></tr><tr><td>28</td><td>Male</td><td>Jeannetta Golden</td><td>DB</td><td>2171387</td><td>86.0</td><td>Cheri Kenney_Billi Clore@DB.com</td><td>0.86</td><td>Nigeria</td></tr><tr><td>28</td><td>Female</td><td>Billi Clore</td><td>DB</td><td>2181375</td><td>68.0</td><td>Latia Vanhoose_Eda Neathery@DSA.com</td><td>0.68</td><td>Nigeria</td></tr><tr><td>29</td><td>Female</td><td>Annika Hoffman</td><td>PF</td><td>2192313</td><td>59.0</td><td>Naoma Fritts_Tijuana Kropf@DB.com</td><td>0.59</td><td>Nigeria</td></tr><tr><td>29</td><td>Male</td><td>Mitzi Seldon</td><td>Cloud</td><td>2202649</td><td>53.0</td><td>Santa Kerfien_Loris Crossett@Cloud.com</td><td>0.53</td><td>Nigeria</td></tr><tr><td>29</td><td>Female</td><td>Niki Klimek</td><td>DB</td><td>2211319</td><td>71.0</td><td>Celeste Lollis_Sheryll Towler@DB.com</td><td>0.71</td><td>Nigeria</td></tr><tr><td>28</td><td>Male</td><td>Jalisa Swenson</td><td>DSA</td><td>2222704</td><td>101.0</td><td>Judie Chipps_Jalisa Swenson@Cloud.com</td><td>1.01</td><td>Nigeria</td></tr><tr><td>28</td><td>Male</td><td>Priscila Tavernier</td><td>OOP</td><td>2232863</td><td>70.0</td><td>Bonita Higuera_Lawanda Wohlwend@MVC.com</td><td>0.7</td><td>Nigeria</td></tr><tr><td>29</td><td>Male</td><td>Margene Moores</td><td>Cloud</td><td>2241434</td><td>81.0</td><td>Mitzi Seldon_Michelle Ruggiero@Cloud.com</td><td>0.81</td><td>Nigeria</td></tr><tr><td>28</td><td>Female</td><td>Jc Andrepont</td><td>MVC</td><td>2251960</td><td>106.0</td><td>Somer Stoecker_Melani Engberg@DSA.com</td><td>1.06</td><td>Nigeria</td></tr><tr><td>29</td><td>Female</td><td>Gonzalo Ferebee</td><td>OOP</td><td>2262603</td><td>31.0</td><td>Bonita Higuera_Cheri Kenney@PF.com</td><td>0.31</td><td>Nigeria</td></tr><tr><td>29</td><td>Female</td><td>Bonita Higuera</td><td>OOP</td><td>2272587</td><td>56.0</td><td>Gonzalo Ferebee_Toshiko Hillyard@DB.com</td><td>0.56</td><td>Nigeria</td></tr><tr><td>28</td><td>Female</td><td>Cheri Kenney</td><td>Cloud</td><td>2281771</td><td>32.0</td><td>Tamera Blakley_Abram Nagao@OOP.com</td><td>0.32</td><td>Nigeria</td></tr><tr><td>28</td><td>Female</td><td>Marylee Capasso</td><td>Cloud</td><td>2291595</td><td>46.0</td><td>Ernest Rossbach_Mickey Cortright@MVC.com</td><td>0.46</td><td>Nigeria</td></tr><tr><td>29</td><td>Male</td><td>Annika Hoffman</td><td>PF</td><td>2301940</td><td>91.0</td><td>Jenna Montague_Sheryll Towler@Cloud.com</td><td>0.91</td><td>Nigeria</td></tr><tr><td>29</td><td>Female</td><td>Bonita Higuera</td><td>DSA</td><td>2312783</td><td>87.0</td><td>Melani Engberg_Mitzi Seldon@DSA.com</td><td>0.87</td><td>Nigeria</td></tr><tr><td>28</td><td>Male</td><td>Kizzy Brenner</td><td>DB</td><td>2322537</td><td>66.0</td><td>Jenna Montague_Latia Vanhoose@MVC.com</td><td>0.66</td><td>Nigeria</td></tr><tr><td>29</td><td>Male</td><td>Michelle Ruggiero</td><td>Cloud</td><td>2332207</td><td>82.0</td><td>Gonzalo Ferebee_Melani Engberg@OOP.com</td><td>0.82</td><td>Nigeria</td></tr><tr><td>29</td><td>Male</td><td>Alberta Freund</td><td>DSA</td><td>2341989</td><td>78.0</td><td>Jeannetta Golden_Priscila Tavernier@PF.com</td><td>0.78</td><td>Nigeria</td></tr><tr><td>29</td><td>Female</td><td>Somer Stoecker</td><td>OOP</td><td>2352466</td><td>77.0</td><td>Jenna Montague_Mitzi Seldon@MVC.com</td><td>0.77</td><td>Nigeria</td></tr><tr><td>29</td><td>Male</td><td>Mickey Cortright</td><td>OOP</td><td>2361202</td><td>69.0</td><td>Kizzy Brenner_Eda Neathery@MVC.com</td><td>0.69</td><td>Nigeria</td></tr><tr><td>29</td><td>Male</td><td>Latia Vanhoose</td><td>OOP</td><td>2372748</td><td>104.0</td><td>Latia Vanhoose_Latia Vanhoose@OOP.com</td><td>1.04</td><td>Nigeria</td></tr><tr><td>29</td><td>Male</td><td>Naoma Fritts</td><td>OOP</td><td>2382829</td><td>47.0</td><td>Ernest Rossbach_Celeste Lollis@PF.com</td><td>0.47</td><td>Nigeria</td></tr><tr><td>28</td><td>Female</td><td>Taryn Brownlee</td><td>DSA</td><td>2392929</td><td>101.0</td><td>Sebrina Maresca_Jenna Montague@Cloud.com</td><td>1.01</td><td>Nigeria</td></tr><tr><td>28</td><td>Female</td><td>Jenna Montague</td><td>Cloud</td><td>2402240</td><td>106.0</td><td>Annika Hoffman_Dustin Feagins@Cloud.com</td><td>1.06</td><td>Nigeria</td></tr><tr><td>28</td><td>Male</td><td>Melani Engberg</td><td>MVC</td><td>2412019</td><td>64.0</td><td>Latia Vanhoose_Melani Engberg@DSA.com</td><td>0.64</td><td>Nigeria</td></tr><tr><td>29</td><td>Female</td><td>Dustin Feagins</td><td>Cloud</td><td>2421900</td><td>99.0</td><td>Niki Klimek_Latia Vanhoose@Cloud.com</td><td>0.99</td><td>Nigeria</td></tr><tr><td>28</td><td>Female</td><td>Santa Kerfien</td><td>Cloud</td><td>2431828</td><td>36.0</td><td>Margene Moores_Somer Stoecker@PF.com</td><td>0.36</td><td>Nigeria</td></tr><tr><td>28</td><td>Female</td><td>Jenna Montague</td><td>MVC</td><td>2441637</td><td>82.0</td><td>Cordie Harnois_Alberta Freund@OOP.com</td><td>0.82</td><td>Nigeria</td></tr><tr><td>28</td><td>Male</td><td>Sebrina Maresca</td><td>Cloud</td><td>2452108</td><td>51.0</td><td>Billi Clore_Loris Crossett@DSA.com</td><td>0.51</td><td>Nigeria</td></tr><tr><td>28</td><td>Male</td><td>Judie Chipps</td><td>DB</td><td>2461986</td><td>63.0</td><td>Niki Klimek_Judie Chipps@MVC.com</td><td>0.63</td><td>Nigeria</td></tr><tr><td>29</td><td>Male</td><td>Jenna Montague</td><td>DSA</td><td>2472773</td><td>91.0</td><td>Margene Moores_Bonita Higuera@DSA.com</td><td>0.91</td><td>Nigeria</td></tr><tr><td>29</td><td>Female</td><td>Nicole Harwood</td><td>MVC</td><td>2481418</td><td>101.0</td><td>Kizzy Brenner_Priscila Tavernier@DB.com</td><td>1.01</td><td>Nigeria</td></tr><tr><td>29</td><td>Male</td><td>Cheri Kenney</td><td>Cloud</td><td>2491705</td><td>74.0</td><td>Toshiko Hillyard_Mickey Cortright@PF.com</td><td>0.74</td><td>Nigeria</td></tr><tr><td>28</td><td>Female</td><td>Bonita Higuera</td><td>DSA</td><td>2501639</td><td>76.0</td><td>Paris Hutton_Naoma Fritts@PF.com</td><td>0.76</td><td>Nigeria</td></tr><tr><td>29</td><td>Female</td><td>Marylee Capasso</td><td>DSA</td><td>2512456</td><td>85.0</td><td>Mitzi Seldon_Donna Yerby@Cloud.com</td><td>0.85</td><td>Nigeria</td></tr><tr><td>28</td><td>Female</td><td>Jeannetta Golden</td><td>DB</td><td>2522775</td><td>93.0</td><td>Kizzy Brenner_Bonita Higuera@DB.com</td><td>0.93</td><td>Nigeria</td></tr><tr><td>29</td><td>Female</td><td>Annika Hoffman</td><td>PF</td><td>2532233</td><td>84.0</td><td>Somer Stoecker_Annika Hoffman@MVC.com</td><td>0.84</td><td>Nigeria</td></tr><tr><td>28</td><td>Female</td><td>Kizzy Brenner</td><td>OOP</td><td>2542257</td><td>106.0</td><td>Eda Neathery_Lawanda Wohlwend@Cloud.com</td><td>1.06</td><td>Nigeria</td></tr><tr><td>28</td><td>Male</td><td>Priscila Tavernier</td><td>Cloud</td><td>2552194</td><td>52.0</td><td>Jeannetta Golden_Abram Nagao@PF.com</td><td>0.52</td><td>Nigeria</td></tr><tr><td>28</td><td>Male</td><td>Claude Panos</td><td>OOP</td><td>2562357</td><td>60.0</td><td>Naoma Fritts_Anna Santos@Cloud.com</td><td>0.6</td><td>Nigeria</td></tr><tr><td>28</td><td>Male</td><td>Gonzalo Ferebee</td><td>MVC</td><td>2572197</td><td>53.0</td><td>Marylee Capasso_Jc Andrepont@DB.com</td><td>0.53</td><td>Nigeria</td></tr><tr><td>29</td><td>Male</td><td>Nicole Harwood</td><td>Cloud</td><td>2581369</td><td>36.0</td><td>Paris Hutton_Alberta Freund@MVC.com</td><td>0.36</td><td>Nigeria</td></tr><tr><td>28</td><td>Male</td><td>Paris Hutton</td><td>OOP</td><td>2592369</td><td>70.0</td><td>Taryn Brownlee_Sheryll Towler@OOP.com</td><td>0.7</td><td>Nigeria</td></tr><tr><td>28</td><td>Female</td><td>Ernest Rossbach</td><td>Cloud</td><td>2602027</td><td>93.0</td><td>Alberta Freund_Gonzalo Ferebee@MVC.com</td><td>0.93</td><td>Nigeria</td></tr><tr><td>28</td><td>Male</td><td>Sheryll Towler</td><td>DSA</td><td>2612360</td><td>37.0</td><td>Celeste Lollis_Paris Hutton@OOP.com</td><td>0.37</td><td>Nigeria</td></tr><tr><td>28</td><td>Male</td><td>Mitzi Seldon</td><td>DB</td><td>2622118</td><td>65.0</td><td>Mickey Cortright_Mitzi Seldon@MVC.com</td><td>0.65</td><td>Nigeria</td></tr><tr><td>28</td><td>Female</td><td>Abram Nagao</td><td>DB</td><td>2632057</td><td>35.0</td><td>Margene Moores_Somer Stoecker@DB.com</td><td>0.35</td><td>Nigeria</td></tr><tr><td>28</td><td>Male</td><td>Billi Clore</td><td>PF</td><td>2642909</td><td>68.0</td><td>Loris Crossett_Sebrina Maresca@OOP.com</td><td>0.68</td><td>Nigeria</td></tr><tr><td>28</td><td>Male</td><td>Abram Nagao</td><td>Cloud</td><td>2652463</td><td>31.0</td><td>Eda Neathery_Annika Hoffman@Cloud.com</td><td>0.31</td><td>Nigeria</td></tr><tr><td>29</td><td>Male</td><td>Tamera Blakley</td><td>DSA</td><td>2661934</td><td>33.0</td><td>Alberta Freund_Tijuana Kropf@Cloud.com</td><td>0.33</td><td>Nigeria</td></tr><tr><td>29</td><td>Female</td><td>Naoma Fritts</td><td>PF</td><td>2672130</td><td>59.0</td><td>Kizzy Brenner_Alberta Freund@Cloud.com</td><td>0.59</td><td>Nigeria</td></tr><tr><td>28</td><td>Female</td><td>Maybell Duguay</td><td>Cloud</td><td>2682466</td><td>46.0</td><td>Priscila Tavernier_Mitzi Seldon@PF.com</td><td>0.46</td><td>Nigeria</td></tr><tr><td>28</td><td>Female</td><td>Loris Crossett</td><td>OOP</td><td>2691881</td><td>39.0</td><td>Maybell Duguay_Niki Klimek@OOP.com</td><td>0.39</td><td>Nigeria</td></tr><tr><td>28</td><td>Male</td><td>Mitzi Seldon</td><td>PF</td><td>2701239</td><td>86.0</td><td>Alberta Freund_Cordie Harnois@Cloud.com</td><td>0.86</td><td>Nigeria</td></tr><tr><td>29</td><td>Male</td><td>Sebrina Maresca</td><td>PF</td><td>2712040</td><td>33.0</td><td>Jeannetta Golden_Judie Chipps@DB.com</td><td>0.33</td><td>Nigeria</td></tr><tr><td>29</td><td>Male</td><td>Somer Stoecker</td><td>PF</td><td>2721652</td><td>46.0</td><td>Tijuana Kropf_Michelle Ruggiero@Cloud.com</td><td>0.46</td><td>Nigeria</td></tr><tr><td>28</td><td>Male</td><td>Santa Kerfien</td><td>DB</td><td>2732421</td><td>89.0</td><td>Claude Panos_Alberta Freund@DB.com</td><td>0.89</td><td>Nigeria</td></tr><tr><td>28</td><td>Female</td><td>Billi Clore</td><td>MVC</td><td>2741290</td><td>42.0</td><td>Abram Nagao_Elenore Choy@MVC.com</td><td>0.42</td><td>Nigeria</td></tr><tr><td>29</td><td>Female</td><td>Nicole Harwood</td><td>DSA</td><td>2751838</td><td>57.0</td><td>Donna Yerby_Lawanda Wohlwend@MVC.com</td><td>0.57</td><td>Nigeria</td></tr><tr><td>29</td><td>Female</td><td>Sheryll Towler</td><td>DSA</td><td>2762045</td><td>98.0</td><td>Eda Neathery_Priscila Tavernier@DSA.com</td><td>0.98</td><td>Nigeria</td></tr><tr><td>28</td><td>Male</td><td>Clementina Menke</td><td>DSA</td><td>2772189</td><td>108.0</td><td>Donna Yerby_Judie Chipps@PF.com</td><td>1.08</td><td>Nigeria</td></tr><tr><td>29</td><td>Male</td><td>Tijuana Kropf</td><td>Cloud</td><td>2781801</td><td>78.0</td><td>Alberta Freund_Cordie Harnois@Cloud.com</td><td>0.78</td><td>Nigeria</td></tr><tr><td>28</td><td>Female</td><td>Billi Clore</td><td>PF</td><td>2792977</td><td>81.0</td><td>Jalisa Swenson_Nicole Harwood@MVC.com</td><td>0.81</td><td>Nigeria</td></tr><tr><td>29</td><td>Female</td><td>Eda Neathery</td><td>DB</td><td>2802988</td><td>82.0</td><td>Jenna Montague_Toshiko Hillyard@Cloud.com</td><td>0.82</td><td>Nigeria</td></tr><tr><td>28</td><td>Female</td><td>Abram Nagao</td><td>Cloud</td><td>2811189</td><td>64.0</td><td>Kena Wild_Donna Yerby@DSA.com</td><td>0.64</td><td>Nigeria</td></tr><tr><td>29</td><td>Female</td><td>Eda Neathery</td><td>MVC</td><td>2821243</td><td>107.0</td><td>Tamera Blakley_Eda Neathery@DB.com</td><td>1.07</td><td>Nigeria</td></tr><tr><td>29</td><td>Male</td><td>Leontine Phillips</td><td>PF</td><td>2832158</td><td>36.0</td><td>Margene Moores_Claude Panos@MVC.com</td><td>0.36</td><td>Nigeria</td></tr><tr><td>29</td><td>Male</td><td>Abram Nagao</td><td>DB</td><td>2841061</td><td>35.0</td><td>Leontine Phillips_Toshiko Hillyard@Cloud.com</td><td>0.35</td><td>Nigeria</td></tr><tr><td>28</td><td>Male</td><td>Loris Crossett</td><td>OOP</td><td>2852490</td><td>35.0</td><td>Loris Crossett_Donna Yerby@DSA.com</td><td>0.35</td><td>Nigeria</td></tr><tr><td>29</td><td>Female</td><td>Latia Vanhoose</td><td>PF</td><td>2861854</td><td>52.0</td><td>Claude Panos_Nicole Harwood@DSA.com</td><td>0.52</td><td>Nigeria</td></tr><tr><td>28</td><td>Female</td><td>Michelle Ruggiero</td><td>PF</td><td>2872130</td><td>80.0</td><td>Cheri Kenney_Lawanda Wohlwend@DSA.com</td><td>0.8</td><td>Nigeria</td></tr><tr><td>28</td><td>Female</td><td>Alberta Freund</td><td>OOP</td><td>2881304</td><td>72.0</td><td>Loris Crossett_Jc Andrepont@Cloud.com</td><td>0.72</td><td>Nigeria</td></tr><tr><td>28</td><td>Male</td><td>Michelle Ruggiero</td><td>DB</td><td>2891164</td><td>70.0</td><td>Gonzalo Ferebee_Priscila Tavernier@DSA.com</td><td>0.7</td><td>Nigeria</td></tr><tr><td>29</td><td>Female</td><td>Naoma Fritts</td><td>MVC</td><td>2902779</td><td>70.0</td><td>Sebrina Maresca_Niki Klimek@PF.com</td><td>0.7</td><td>Nigeria</td></tr><tr><td>29</td><td>Male</td><td>Niki Klimek</td><td>DB</td><td>2912538</td><td>77.0</td><td>Jc Andrepont_Mitzi Seldon@DSA.com</td><td>0.77</td><td>Nigeria</td></tr><tr><td>28</td><td>Male</td><td>Gonzalo Ferebee</td><td>Cloud</td><td>2922041</td><td>48.0</td><td>Clementina Menke_Taryn Brownlee@OOP.com</td><td>0.48</td><td>Nigeria</td></tr><tr><td>28</td><td>Female</td><td>Kena Wild</td><td>PF</td><td>2931712</td><td>62.0</td><td>Melani Engberg_Leontine Phillips@PF.com</td><td>0.62</td><td>Nigeria</td></tr><tr><td>29</td><td>Male</td><td>Melani Engberg</td><td>DB</td><td>2941257</td><td>108.0</td><td>Claude Panos_Kena Wild@DB.com</td><td>1.08</td><td>Nigeria</td></tr><tr><td>29</td><td>Male</td><td>Billi Clore</td><td>DSA</td><td>2952091</td><td>62.0</td><td>Jenna Montague_Mickey Cortright@DB.com</td><td>0.62</td><td>Nigeria</td></tr><tr><td>29</td><td>Male</td><td>Claude Panos</td><td>PF</td><td>2961015</td><td>43.0</td><td>Elenore Choy_Santa Kerfien@DSA.com</td><td>0.43</td><td>Nigeria</td></tr><tr><td>29</td><td>Female</td><td>Jenna Montague</td><td>DSA</td><td>2972673</td><td>81.0</td><td>Toshiko Hillyard_Naoma Fritts@DB.com</td><td>0.81</td><td>Nigeria</td></tr><tr><td>28</td><td>Female</td><td>Dustin Feagins</td><td>PF</td><td>2981342</td><td>96.0</td><td>Somer Stoecker_Neda Briski@Cloud.com</td><td>0.96</td><td>Nigeria</td></tr><tr><td>29</td><td>Male</td><td>Latia Vanhoose</td><td>MVC</td><td>2992281</td><td>100.0</td><td>Elenore Choy_Cordie Harnois@DSA.com</td><td>1.0</td><td>Nigeria</td></tr><tr><td>29</td><td>Male</td><td>Margene Moores</td><td>PF</td><td>3002277</td><td>42.0</td><td>Somer Stoecker_Maybell Duguay@DSA.com</td><td>0.42</td><td>Nigeria</td></tr><tr><td>28</td><td>Male</td><td>Leontine Phillips</td><td>Cloud</td><td>3011586</td><td>86.0</td><td>Dustin Feagins_Alberta Freund@DB.com</td><td>0.86</td><td>Nigeria</td></tr><tr><td>29</td><td>Male</td><td>Naoma Fritts</td><td>MVC</td><td>3021768</td><td>44.0</td><td>Bonita Higuera_Anna Santos@Cloud.com</td><td>0.44</td><td>Nigeria</td></tr><tr><td>29</td><td>Female</td><td>Neda Briski</td><td>DSA</td><td>3031196</td><td>37.0</td><td>Jc Andrepont_Abram Nagao@DSA.com</td><td>0.37</td><td>Nigeria</td></tr><tr><td>29</td><td>Female</td><td>Alberta Freund</td><td>DB</td><td>3041340</td><td>70.0</td><td>Celeste Lollis_Abram Nagao@PF.com</td><td>0.7</td><td>Nigeria</td></tr><tr><td>29</td><td>Male</td><td>Annika Hoffman</td><td>Cloud</td><td>3051363</td><td>67.0</td><td>Paris Hutton_Leontine Phillips@Cloud.com</td><td>0.67</td><td>Nigeria</td></tr><tr><td>29</td><td>Male</td><td>Anna Santos</td><td>Cloud</td><td>3061386</td><td>67.0</td><td>Michelle Ruggiero_Abram Nagao@Cloud.com</td><td>0.67</td><td>Nigeria</td></tr><tr><td>29</td><td>Female</td><td>Anna Santos</td><td>DSA</td><td>3072690</td><td>46.0</td><td>Sheryll Towler_Latia Vanhoose@PF.com</td><td>0.46</td><td>Nigeria</td></tr><tr><td>29</td><td>Female</td><td>Judie Chipps</td><td>MVC</td><td>3082254</td><td>88.0</td><td>Kena Wild_Anna Santos@MVC.com</td><td>0.88</td><td>Nigeria</td></tr><tr><td>29</td><td>Female</td><td>Latia Vanhoose</td><td>MVC</td><td>3091650</td><td>40.0</td><td>Cordie Harnois_Sebrina Maresca@PF.com</td><td>0.4</td><td>Nigeria</td></tr><tr><td>28</td><td>Female</td><td>Mitzi Seldon</td><td>Cloud</td><td>3101372</td><td>64.0</td><td>Gonzalo Ferebee_Cordie Harnois@MVC.com</td><td>0.64</td><td>Nigeria</td></tr><tr><td>28</td><td>Male</td><td>Tijuana Kropf</td><td>DB</td><td>3111175</td><td>80.0</td><td>Latia Vanhoose_Somer Stoecker@DSA.com</td><td>0.8</td><td>Nigeria</td></tr><tr><td>28</td><td>Male</td><td>Kizzy Brenner</td><td>MVC</td><td>3121184</td><td>39.0</td><td>Tijuana Kropf_Elenore Choy@DB.com</td><td>0.39</td><td>Nigeria</td></tr><tr><td>29</td><td>Male</td><td>Nicole Harwood</td><td>OOP</td><td>3132620</td><td>98.0</td><td>Jeannetta Golden_Lawanda Wohlwend@PF.com</td><td>0.98</td><td>Nigeria</td></tr><tr><td>29</td><td>Male</td><td>Gonzalo Ferebee</td><td>DSA</td><td>3141791</td><td>72.0</td><td>Ernest Rossbach_Sheryll Towler@MVC.com</td><td>0.72</td><td>Nigeria</td></tr><tr><td>29</td><td>Male</td><td>Billi Clore</td><td>MVC</td><td>3152247</td><td>106.0</td><td>Ernest Rossbach_Clementina Menke@PF.com</td><td>1.06</td><td>Nigeria</td></tr><tr><td>29</td><td>Male</td><td>Elenore Choy</td><td>Cloud</td><td>3161233</td><td>55.0</td><td>Dustin Feagins_Dustin Feagins@Cloud.com</td><td>0.55</td><td>Nigeria</td></tr><tr><td>29</td><td>Male</td><td>Judie Chipps</td><td>MVC</td><td>3172827</td><td>77.0</td><td>Eda Neathery_Eda Neathery@DSA.com</td><td>0.77</td><td>Nigeria</td></tr><tr><td>28</td><td>Male</td><td>Lawanda Wohlwend</td><td>Cloud</td><td>3181337</td><td>49.0</td><td>Sebrina Maresca_Billi Clore@MVC.com</td><td>0.49</td><td>Nigeria</td></tr><tr><td>29</td><td>Male</td><td>Jalisa Swenson</td><td>DB</td><td>3192192</td><td>84.0</td><td>Ernest Rossbach_Cordie Harnois@DB.com</td><td>0.84</td><td>Nigeria</td></tr><tr><td>29</td><td>Male</td><td>Cordie Harnois</td><td>PF</td><td>3201624</td><td>51.0</td><td>Maybell Duguay_Somer Stoecker@PF.com</td><td>0.51</td><td>Nigeria</td></tr><tr><td>28</td><td>Male</td><td>Tijuana Kropf</td><td>MVC</td><td>3212517</td><td>58.0</td><td>Somer Stoecker_Mickey Cortright@PF.com</td><td>0.58</td><td>Nigeria</td></tr><tr><td>28</td><td>Female</td><td>Billi Clore</td><td>DB</td><td>3221997</td><td>71.0</td><td>Taryn Brownlee_Santa Kerfien@PF.com</td><td>0.71</td><td>Nigeria</td></tr><tr><td>29</td><td>Female</td><td>Margene Moores</td><td>Cloud</td><td>3232893</td><td>34.0</td><td>Elenore Choy_Niki Klimek@MVC.com</td><td>0.34</td><td>Nigeria</td></tr><tr><td>29</td><td>Female</td><td>Paris Hutton</td><td>DB</td><td>3241324</td><td>82.0</td><td>Abram Nagao_Cordie Harnois@DSA.com</td><td>0.82</td><td>Nigeria</td></tr><tr><td>28</td><td>Female</td><td>Neda Briski</td><td>PF</td><td>3251377</td><td>33.0</td><td>Kizzy Brenner_Mickey Cortright@DSA.com</td><td>0.33</td><td>Nigeria</td></tr><tr><td>29</td><td>Female</td><td>Sebrina Maresca</td><td>Cloud</td><td>3261159</td><td>107.0</td><td>Maybell Duguay_Jalisa Swenson@Cloud.com</td><td>1.07</td><td>Nigeria</td></tr><tr><td>28</td><td>Female</td><td>Sebrina Maresca</td><td>PF</td><td>3272192</td><td>40.0</td><td>Jeannetta Golden_Cordie Harnois@PF.com</td><td>0.4</td><td>Nigeria</td></tr><tr><td>29</td><td>Male</td><td>Donna Yerby</td><td>PF</td><td>3282057</td><td>97.0</td><td>Kizzy Brenner_Loris Crossett@DB.com</td><td>0.97</td><td>Nigeria</td></tr><tr><td>28</td><td>Female</td><td>Kena Wild</td><td>PF</td><td>3291691</td><td>106.0</td><td>Tamera Blakley_Naoma Fritts@Cloud.com</td><td>1.06</td><td>Nigeria</td></tr><tr><td>29</td><td>Male</td><td>Tijuana Kropf</td><td>PF</td><td>3301891</td><td>70.0</td><td>Tamera Blakley_Neda Briski@DSA.com</td><td>0.7</td><td>Nigeria</td></tr><tr><td>28</td><td>Female</td><td>Marylee Capasso</td><td>MVC</td><td>3312606</td><td>67.0</td><td>Marylee Capasso_Gonzalo Ferebee@MVC.com</td><td>0.67</td><td>Nigeria</td></tr><tr><td>28</td><td>Male</td><td>Sheryll Towler</td><td>OOP</td><td>3322308</td><td>42.0</td><td>Clementina Menke_Naoma Fritts@OOP.com</td><td>0.42</td><td>Nigeria</td></tr><tr><td>28</td><td>Male</td><td>Jenna Montague</td><td>OOP</td><td>3331161</td><td>108.0</td><td>Leontine Phillips_Judie Chipps@DSA.com</td><td>1.08</td><td>Nigeria</td></tr><tr><td>28</td><td>Male</td><td>Mitzi Seldon</td><td>PF</td><td>3342819</td><td>78.0</td><td>Cheri Kenney_Naoma Fritts@PF.com</td><td>0.78</td><td>Nigeria</td></tr><tr><td>28</td><td>Male</td><td>Clementina Menke</td><td>Cloud</td><td>3352508</td><td>105.0</td><td>Naoma Fritts_Mickey Cortright@Cloud.com</td><td>1.05</td><td>Nigeria</td></tr><tr><td>28</td><td>Female</td><td>Niki Klimek</td><td>DB</td><td>3361932</td><td>37.0</td><td>Nicole Harwood_Bonita Higuera@DB.com</td><td>0.37</td><td>Nigeria</td></tr><tr><td>29</td><td>Male</td><td>Sebrina Maresca</td><td>DB</td><td>3371719</td><td>96.0</td><td>Marylee Capasso_Margene Moores@DSA.com</td><td>0.96</td><td>Nigeria</td></tr><tr><td>28</td><td>Male</td><td>Niki Klimek</td><td>PF</td><td>3381919</td><td>107.0</td><td>Hubert Oliveras_Latia Vanhoose@DB.com</td><td>1.07</td><td>Nigeria</td></tr><tr><td>29</td><td>Female</td><td>Cordie Harnois</td><td>MVC</td><td>3391820</td><td>65.0</td><td>Paris Hutton_Alberta Freund@DB.com</td><td>0.65</td><td>Nigeria</td></tr><tr><td>29</td><td>Female</td><td>Jenna Montague</td><td>DSA</td><td>3402028</td><td>50.0</td><td>Ernest Rossbach_Alberta Freund@DSA.com</td><td>0.5</td><td>Nigeria</td></tr><tr><td>29</td><td>Male</td><td>Dustin Feagins</td><td>OOP</td><td>3412915</td><td>72.0</td><td>Toshiko Hillyard_Priscila Tavernier@MVC.com</td><td>0.72</td><td>Nigeria</td></tr><tr><td>28</td><td>Female</td><td>Naoma Fritts</td><td>DSA</td><td>3422822</td><td>64.0</td><td>Nicole Harwood_Anna Santos@PF.com</td><td>0.64</td><td>Nigeria</td></tr><tr><td>29</td><td>Female</td><td>Celeste Lollis</td><td>MVC</td><td>3431117</td><td>94.0</td><td>Dustin Feagins_Melani Engberg@DSA.com</td><td>0.94</td><td>Nigeria</td></tr><tr><td>29</td><td>Female</td><td>Niki Klimek</td><td>DB</td><td>3441033</td><td>103.0</td><td>Hubert Oliveras_Tijuana Kropf@Cloud.com</td><td>1.03</td><td>Nigeria</td></tr><tr><td>29</td><td>Female</td><td>Dustin Feagins</td><td>PF</td><td>3451343</td><td>98.0</td><td>Cordie Harnois_Abram Nagao@Cloud.com</td><td>0.98</td><td>Nigeria</td></tr><tr><td>29</td><td>Female</td><td>Celeste Lollis</td><td>DSA</td><td>3461783</td><td>60.0</td><td>Loris Crossett_Ernest Rossbach@Cloud.com</td><td>0.6</td><td>Nigeria</td></tr><tr><td>29</td><td>Male</td><td>Annika Hoffman</td><td>DSA</td><td>3471063</td><td>52.0</td><td>Bonita Higuera_Cordie Harnois@Cloud.com</td><td>0.52</td><td>Nigeria</td></tr><tr><td>28</td><td>Female</td><td>Sebrina Maresca</td><td>PF</td><td>3481728</td><td>83.0</td><td>Billi Clore_Billi Clore@OOP.com</td><td>0.83</td><td>Nigeria</td></tr><tr><td>28</td><td>Male</td><td>Taryn Brownlee</td><td>PF</td><td>3491666</td><td>86.0</td><td>Neda Briski_Priscila Tavernier@DB.com</td><td>0.86</td><td>Nigeria</td></tr><tr><td>28</td><td>Female</td><td>Loris Crossett</td><td>OOP</td><td>3502780</td><td>40.0</td><td>Jenna Montague_Cordie Harnois@MVC.com</td><td>0.4</td><td>Nigeria</td></tr><tr><td>29</td><td>Male</td><td>Kizzy Brenner</td><td>PF</td><td>3512215</td><td>60.0</td><td>Naoma Fritts_Melani Engberg@Cloud.com</td><td>0.6</td><td>Nigeria</td></tr><tr><td>28</td><td>Female</td><td>Elenore Choy</td><td>OOP</td><td>3521960</td><td>100.0</td><td>Sebrina Maresca_Tijuana Kropf@PF.com</td><td>1.0</td><td>Nigeria</td></tr><tr><td>28</td><td>Female</td><td>Loris Crossett</td><td>PF</td><td>3531684</td><td>94.0</td><td>Dustin Feagins_Tamera Blakley@DSA.com</td><td>0.94</td><td>Nigeria</td></tr><tr><td>29</td><td>Female</td><td>Leontine Phillips</td><td>OOP</td><td>3541954</td><td>75.0</td><td>Margene Moores_Jeannetta Golden@MVC.com</td><td>0.75</td><td>Nigeria</td></tr><tr><td>29</td><td>Female</td><td>Billi Clore</td><td>OOP</td><td>3551532</td><td>91.0</td><td>Dustin Feagins_Annika Hoffman@PF.com</td><td>0.91</td><td>Nigeria</td></tr><tr><td>28</td><td>Female</td><td>Neda Briski</td><td>Cloud</td><td>3562470</td><td>36.0</td><td>Gonzalo Ferebee_Kizzy Brenner@DB.com</td><td>0.36</td><td>Nigeria</td></tr><tr><td>29</td><td>Female</td><td>Eda Neathery</td><td>MVC</td><td>3572648</td><td>87.0</td><td>Melani Engberg_Margene Moores@DB.com</td><td>0.87</td><td>Nigeria</td></tr><tr><td>28</td><td>Male</td><td>Kizzy Brenner</td><td>Cloud</td><td>3581303</td><td>90.0</td><td>Margene Moores_Tamera Blakley@PF.com</td><td>0.9</td><td>Nigeria</td></tr><tr><td>29</td><td>Male</td><td>Loris Crossett</td><td>OOP</td><td>3592529</td><td>90.0</td><td>Annika Hoffman_Toshiko Hillyard@PF.com</td><td>0.9</td><td>Nigeria</td></tr><tr><td>28</td><td>Female</td><td>Toshiko Hillyard</td><td>DB</td><td>3602005</td><td>64.0</td><td>Loris Crossett_Annika Hoffman@DB.com</td><td>0.64</td><td>Nigeria</td></tr><tr><td>28</td><td>Male</td><td>Mickey Cortright</td><td>Cloud</td><td>3612300</td><td>102.0</td><td>Cordie Harnois_Sheryll Towler@OOP.com</td><td>1.02</td><td>Nigeria</td></tr><tr><td>28</td><td>Female</td><td>Sebrina Maresca</td><td>OOP</td><td>3621436</td><td>91.0</td><td>Maybell Duguay_Marylee Capasso@DSA.com</td><td>0.91</td><td>Nigeria</td></tr><tr><td>28</td><td>Male</td><td>Hubert Oliveras</td><td>Cloud</td><td>3632954</td><td>44.0</td><td>Ernest Rossbach_Annika Hoffman@OOP.com</td><td>0.44</td><td>Nigeria</td></tr><tr><td>29</td><td>Female</td><td>Taryn Brownlee</td><td>MVC</td><td>3641757</td><td>57.0</td><td>Alberta Freund_Dustin Feagins@OOP.com</td><td>0.57</td><td>Nigeria</td></tr><tr><td>29</td><td>Male</td><td>Elenore Choy</td><td>DB</td><td>3652057</td><td>30.0</td><td>Jc Andrepont_Gonzalo Ferebee@DB.com</td><td>0.3</td><td>Nigeria</td></tr><tr><td>29</td><td>Female</td><td>Clementina Menke</td><td>Cloud</td><td>3662734</td><td>68.0</td><td>Jc Andrepont_Lawanda Wohlwend@MVC.com</td><td>0.68</td><td>Nigeria</td></tr><tr><td>29</td><td>Female</td><td>Donna Yerby</td><td>PF</td><td>3672856</td><td>44.0</td><td>Alberta Freund_Claude Panos@MVC.com</td><td>0.44</td><td>Nigeria</td></tr><tr><td>28</td><td>Male</td><td>Jalisa Swenson</td><td>PF</td><td>3681989</td><td>98.0</td><td>Toshiko Hillyard_Ernest Rossbach@DB.com</td><td>0.98</td><td>Nigeria</td></tr><tr><td>28</td><td>Female</td><td>Leontine Phillips</td><td>PF</td><td>3691377</td><td>38.0</td><td>Tamera Blakley_Alberta Freund@Cloud.com</td><td>0.38</td><td>Nigeria</td></tr><tr><td>29</td><td>Male</td><td>Marylee Capasso</td><td>MVC</td><td>3702018</td><td>98.0</td><td>Somer Stoecker_Latia Vanhoose@Cloud.com</td><td>0.98</td><td>Nigeria</td></tr><tr><td>29</td><td>Female</td><td>Bonita Higuera</td><td>Cloud</td><td>3711664</td><td>45.0</td><td>Sheryll Towler_Kizzy Brenner@OOP.com</td><td>0.45</td><td>Nigeria</td></tr><tr><td>28</td><td>Male</td><td>Jenna Montague</td><td>DSA</td><td>3721359</td><td>106.0</td><td>Naoma Fritts_Kizzy Brenner@MVC.com</td><td>1.06</td><td>Nigeria</td></tr><tr><td>28</td><td>Female</td><td>Gonzalo Ferebee</td><td>MVC</td><td>3732535</td><td>74.0</td><td>Somer Stoecker_Ernest Rossbach@DB.com</td><td>0.74</td><td>Nigeria</td></tr><tr><td>28</td><td>Male</td><td>Niki Klimek</td><td>OOP</td><td>3742031</td><td>92.0</td><td>Leontine Phillips_Toshiko Hillyard@Cloud.com</td><td>0.92</td><td>Nigeria</td></tr><tr><td>28</td><td>Male</td><td>Claude Panos</td><td>DB</td><td>3752819</td><td>88.0</td><td>Toshiko Hillyard_Mickey Cortright@DB.com</td><td>0.88</td><td>Nigeria</td></tr><tr><td>29</td><td>Male</td><td>Priscila Tavernier</td><td>PF</td><td>3762231</td><td>97.0</td><td>Celeste Lollis_Loris Crossett@Cloud.com</td><td>0.97</td><td>Nigeria</td></tr><tr><td>29</td><td>Female</td><td>Margene Moores</td><td>PF</td><td>3772294</td><td>39.0</td><td>Melani Engberg_Kizzy Brenner@PF.com</td><td>0.39</td><td>Nigeria</td></tr><tr><td>28</td><td>Male</td><td>Abram Nagao</td><td>DSA</td><td>3781521</td><td>55.0</td><td>Taryn Brownlee_Michelle Ruggiero@OOP.com</td><td>0.55</td><td>Nigeria</td></tr><tr><td>28</td><td>Male</td><td>Maybell Duguay</td><td>Cloud</td><td>3791855</td><td>43.0</td><td>Tijuana Kropf_Lawanda Wohlwend@PF.com</td><td>0.43</td><td>Nigeria</td></tr><tr><td>28</td><td>Male</td><td>Bonita Higuera</td><td>DB</td><td>3802569</td><td>87.0</td><td>Kena Wild_Kena Wild@OOP.com</td><td>0.87</td><td>Nigeria</td></tr><tr><td>28</td><td>Female</td><td>Gonzalo Ferebee</td><td>DSA</td><td>3811667</td><td>76.0</td><td>Neda Briski_Abram Nagao@OOP.com</td><td>0.76</td><td>Nigeria</td></tr><tr><td>29</td><td>Male</td><td>Tijuana Kropf</td><td>DB</td><td>3821650</td><td>70.0</td><td>Maybell Duguay_Donna Yerby@MVC.com</td><td>0.7</td><td>Nigeria</td></tr><tr><td>28</td><td>Male</td><td>Eda Neathery</td><td>Cloud</td><td>3831006</td><td>85.0</td><td>Donna Yerby_Loris Crossett@DSA.com</td><td>0.85</td><td>Nigeria</td></tr><tr><td>29</td><td>Female</td><td>Latia Vanhoose</td><td>OOP</td><td>3841395</td><td>36.0</td><td>Kizzy Brenner_Eda Neathery@Cloud.com</td><td>0.36</td><td>Nigeria</td></tr><tr><td>29</td><td>Female</td><td>Judie Chipps</td><td>DSA</td><td>3852601</td><td>102.0</td><td>Donna Yerby_Margene Moores@OOP.com</td><td>1.02</td><td>Nigeria</td></tr><tr><td>28</td><td>Female</td><td>Loris Crossett</td><td>PF</td><td>3861248</td><td>104.0</td><td>Dustin Feagins_Cheri Kenney@Cloud.com</td><td>1.04</td><td>Nigeria</td></tr><tr><td>29</td><td>Female</td><td>Donna Yerby</td><td>DSA</td><td>3872735</td><td>81.0</td><td>Eda Neathery_Latia Vanhoose@Cloud.com</td><td>0.81</td><td>Nigeria</td></tr><tr><td>29</td><td>Female</td><td>Paris Hutton</td><td>Cloud</td><td>3882188</td><td>98.0</td><td>Claude Panos_Loris Crossett@DB.com</td><td>0.98</td><td>Nigeria</td></tr><tr><td>29</td><td>Male</td><td>Jc Andrepont</td><td>MVC</td><td>3892788</td><td>104.0</td><td>Alberta Freund_Eda Neathery@DSA.com</td><td>1.04</td><td>Nigeria</td></tr><tr><td>29</td><td>Female</td><td>Priscila Tavernier</td><td>OOP</td><td>3902993</td><td>109.0</td><td>Celeste Lollis_Billi Clore@DB.com</td><td>1.09</td><td>Nigeria</td></tr><tr><td>29</td><td>Female</td><td>Tamera Blakley</td><td>DSA</td><td>3911247</td><td>30.0</td><td>Donna Yerby_Bonita Higuera@DB.com</td><td>0.3</td><td>Nigeria</td></tr><tr><td>29</td><td>Male</td><td>Dustin Feagins</td><td>PF</td><td>3921585</td><td>42.0</td><td>Dustin Feagins_Jalisa Swenson@OOP.com</td><td>0.42</td><td>Nigeria</td></tr><tr><td>28</td><td>Female</td><td>Santa Kerfien</td><td>OOP</td><td>3931948</td><td>34.0</td><td>Jeannetta Golden_Jenna Montague@DSA.com</td><td>0.34</td><td>Nigeria</td></tr><tr><td>29</td><td>Male</td><td>Margene Moores</td><td>DSA</td><td>3942449</td><td>32.0</td><td>Tijuana Kropf_Naoma Fritts@DSA.com</td><td>0.32</td><td>Nigeria</td></tr><tr><td>29</td><td>Female</td><td>Ernest Rossbach</td><td>DSA</td><td>3951575</td><td>84.0</td><td>Marylee Capasso_Kizzy Brenner@PF.com</td><td>0.84</td><td>Nigeria</td></tr><tr><td>28</td><td>Male</td><td>Santa Kerfien</td><td>PF</td><td>3961803</td><td>104.0</td><td>Jeannetta Golden_Latia Vanhoose@PF.com</td><td>1.04</td><td>Nigeria</td></tr><tr><td>29</td><td>Male</td><td>Jalisa Swenson</td><td>OOP</td><td>3972823</td><td>102.0</td><td>Tamera Blakley_Elenore Choy@Cloud.com</td><td>1.02</td><td>Nigeria</td></tr><tr><td>29</td><td>Female</td><td>Clementina Menke</td><td>DSA</td><td>3982381</td><td>108.0</td><td>Tamera Blakley_Kizzy Brenner@OOP.com</td><td>1.08</td><td>Nigeria</td></tr><tr><td>28</td><td>Male</td><td>Cordie Harnois</td><td>PF</td><td>3991186</td><td>79.0</td><td>Loris Crossett_Somer Stoecker@PF.com</td><td>0.79</td><td>Nigeria</td></tr><tr><td>29</td><td>Male</td><td>Bonita Higuera</td><td>Cloud</td><td>4001493</td><td>46.0</td><td>Priscila Tavernier_Niki Klimek@PF.com</td><td>0.46</td><td>Nigeria</td></tr><tr><td>29</td><td>Female</td><td>Annika Hoffman</td><td>Cloud</td><td>4012967</td><td>75.0</td><td>Santa Kerfien_Elenore Choy@OOP.com</td><td>0.75</td><td>Nigeria</td></tr><tr><td>28</td><td>Male</td><td>Jeannetta Golden</td><td>PF</td><td>4021336</td><td>73.0</td><td>Latia Vanhoose_Loris Crossett@PF.com</td><td>0.73</td><td>Nigeria</td></tr><tr><td>29</td><td>Female</td><td>Toshiko Hillyard</td><td>PF</td><td>4032043</td><td>38.0</td><td>Naoma Fritts_Cheri Kenney@DB.com</td><td>0.38</td><td>Nigeria</td></tr><tr><td>29</td><td>Male</td><td>Sheryll Towler</td><td>MVC</td><td>4041358</td><td>44.0</td><td>Sheryll Towler_Claude Panos@DSA.com</td><td>0.44</td><td>Nigeria</td></tr><tr><td>28</td><td>Female</td><td>Alberta Freund</td><td>OOP</td><td>4052753</td><td>52.0</td><td>Marylee Capasso_Jenna Montague@OOP.com</td><td>0.52</td><td>Nigeria</td></tr><tr><td>29</td><td>Female</td><td>Taryn Brownlee</td><td>PF</td><td>4062876</td><td>77.0</td><td>Claude Panos_Niki Klimek@OOP.com</td><td>0.77</td><td>Nigeria</td></tr><tr><td>28</td><td>Male</td><td>Margene Moores</td><td>DSA</td><td>4071164</td><td>52.0</td><td>Billi Clore_Lawanda Wohlwend@DB.com</td><td>0.52</td><td>Nigeria</td></tr><tr><td>29</td><td>Male</td><td>Ernest Rossbach</td><td>DB</td><td>4081940</td><td>51.0</td><td>Tamera Blakley_Abram Nagao@MVC.com</td><td>0.51</td><td>Nigeria</td></tr><tr><td>28</td><td>Female</td><td>Jenna Montague</td><td>PF</td><td>4092419</td><td>64.0</td><td>Donna Yerby_Taryn Brownlee@MVC.com</td><td>0.64</td><td>Nigeria</td></tr><tr><td>28</td><td>Female</td><td>Elenore Choy</td><td>OOP</td><td>4102729</td><td>45.0</td><td>Jenna Montague_Bonita Higuera@DB.com</td><td>0.45</td><td>Nigeria</td></tr><tr><td>29</td><td>Male</td><td>Maybell Duguay</td><td>Cloud</td><td>4112714</td><td>64.0</td><td>Cordie Harnois_Mitzi Seldon@DB.com</td><td>0.64</td><td>Nigeria</td></tr><tr><td>29</td><td>Female</td><td>Leontine Phillips</td><td>PF</td><td>4122317</td><td>41.0</td><td>Hubert Oliveras_Lawanda Wohlwend@PF.com</td><td>0.41</td><td>Nigeria</td></tr><tr><td>28</td><td>Female</td><td>Mickey Cortright</td><td>OOP</td><td>4132027</td><td>59.0</td><td>Santa Kerfien_Nicole Harwood@DSA.com</td><td>0.59</td><td>Nigeria</td></tr><tr><td>28</td><td>Male</td><td>Paris Hutton</td><td>OOP</td><td>4141149</td><td>92.0</td><td>Maybell Duguay_Marylee Capasso@DB.com</td><td>0.92</td><td>Nigeria</td></tr><tr><td>29</td><td>Female</td><td>Alberta Freund</td><td>DSA</td><td>4152288</td><td>88.0</td><td>Elenore Choy_Lawanda Wohlwend@MVC.com</td><td>0.88</td><td>Nigeria</td></tr><tr><td>28</td><td>Female</td><td>Annika Hoffman</td><td>DSA</td><td>4162718</td><td>73.0</td><td>Gonzalo Ferebee_Billi Clore@PF.com</td><td>0.73</td><td>Nigeria</td></tr><tr><td>28</td><td>Female</td><td>Jc Andrepont</td><td>Cloud</td><td>4171613</td><td>75.0</td><td>Somer Stoecker_Paris Hutton@Cloud.com</td><td>0.75</td><td>Nigeria</td></tr><tr><td>29</td><td>Female</td><td>Ernest Rossbach</td><td>Cloud</td><td>4182371</td><td>49.0</td><td>Jalisa Swenson_Cheri Kenney@DSA.com</td><td>0.49</td><td>Nigeria</td></tr><tr><td>29</td><td>Male</td><td>Anna Santos</td><td>DB</td><td>4192955</td><td>59.0</td><td>Clementina Menke_Judie Chipps@Cloud.com</td><td>0.59</td><td>Nigeria</td></tr><tr><td>28</td><td>Male</td><td>Celeste Lollis</td><td>DSA</td><td>4201845</td><td>56.0</td><td>Gonzalo Ferebee_Clementina Menke@MVC.com</td><td>0.56</td><td>Nigeria</td></tr><tr><td>28</td><td>Female</td><td>Tamera Blakley</td><td>MVC</td><td>4212111</td><td>89.0</td><td>Clementina Menke_Elenore Choy@PF.com</td><td>0.89</td><td>Nigeria</td></tr><tr><td>29</td><td>Male</td><td>Michelle Ruggiero</td><td>OOP</td><td>4222829</td><td>106.0</td><td>Kena Wild_Jalisa Swenson@Cloud.com</td><td>1.06</td><td>Nigeria</td></tr><tr><td>29</td><td>Male</td><td>Clementina Menke</td><td>DSA</td><td>4231581</td><td>76.0</td><td>Annika Hoffman_Tamera Blakley@DSA.com</td><td>0.76</td><td>Nigeria</td></tr><tr><td>28</td><td>Female</td><td>Michelle Ruggiero</td><td>DSA</td><td>4242536</td><td>51.0</td><td>Alberta Freund_Billi Clore@DSA.com</td><td>0.51</td><td>Nigeria</td></tr><tr><td>29</td><td>Female</td><td>Claude Panos</td><td>Cloud</td><td>4251762</td><td>60.0</td><td>Gonzalo Ferebee_Eda Neathery@OOP.com</td><td>0.6</td><td>Nigeria</td></tr><tr><td>28</td><td>Female</td><td>Mickey Cortright</td><td>OOP</td><td>4261803</td><td>80.0</td><td>Leontine Phillips_Melani Engberg@Cloud.com</td><td>0.8</td><td>Nigeria</td></tr><tr><td>28</td><td>Female</td><td>Bonita Higuera</td><td>Cloud</td><td>4271366</td><td>67.0</td><td>Elenore Choy_Gonzalo Ferebee@DB.com</td><td>0.67</td><td>Nigeria</td></tr><tr><td>29</td><td>Male</td><td>Hubert Oliveras</td><td>Cloud</td><td>4282001</td><td>80.0</td><td>Billi Clore_Elenore Choy@Cloud.com</td><td>0.8</td><td>Nigeria</td></tr><tr><td>29</td><td>Male</td><td>Elenore Choy</td><td>DB</td><td>4291907</td><td>101.0</td><td>Hubert Oliveras_Tamera Blakley@OOP.com</td><td>1.01</td><td>Nigeria</td></tr><tr><td>28</td><td>Female</td><td>Clementina Menke</td><td>OOP</td><td>4301606</td><td>87.0</td><td>Naoma Fritts_Leontine Phillips@MVC.com</td><td>0.87</td><td>Nigeria</td></tr><tr><td>28</td><td>Male</td><td>Santa Kerfien</td><td>DB</td><td>4311493</td><td>100.0</td><td>Tijuana Kropf_Anna Santos@PF.com</td><td>1.0</td><td>Nigeria</td></tr><tr><td>29</td><td>Female</td><td>Mitzi Seldon</td><td>Cloud</td><td>4321178</td><td>87.0</td><td>Kena Wild_Annika Hoffman@PF.com</td><td>0.87</td><td>Nigeria</td></tr><tr><td>29</td><td>Female</td><td>Kizzy Brenner</td><td>PF</td><td>4331609</td><td>79.0</td><td>Taryn Brownlee_Paris Hutton@DSA.com</td><td>0.79</td><td>Nigeria</td></tr><tr><td>28</td><td>Male</td><td>Clementina Menke</td><td>PF</td><td>4341575</td><td>99.0</td><td>Cordie Harnois_Marylee Capasso@DB.com</td><td>0.99</td><td>Nigeria</td></tr><tr><td>29</td><td>Male</td><td>Billi Clore</td><td>Cloud</td><td>4351588</td><td>86.0</td><td>Loris Crossett_Gonzalo Ferebee@DB.com</td><td>0.86</td><td>Nigeria</td></tr><tr><td>29</td><td>Female</td><td>Niki Klimek</td><td>DSA</td><td>4362808</td><td>79.0</td><td>Lawanda Wohlwend_Billi Clore@Cloud.com</td><td>0.79</td><td>Nigeria</td></tr><tr><td>29</td><td>Male</td><td>Celeste Lollis</td><td>PF</td><td>4372710</td><td>73.0</td><td>Latia Vanhoose_Loris Crossett@MVC.com</td><td>0.73</td><td>Nigeria</td></tr><tr><td>28</td><td>Male</td><td>Toshiko Hillyard</td><td>Cloud</td><td>4381862</td><td>65.0</td><td>Anna Santos_Melani Engberg@MVC.com</td><td>0.65</td><td>Nigeria</td></tr><tr><td>28</td><td>Female</td><td>Donna Yerby</td><td>Cloud</td><td>4392575</td><td>32.0</td><td>Leontine Phillips_Jenna Montague@DSA.com</td><td>0.32</td><td>Nigeria</td></tr><tr><td>29</td><td>Male</td><td>Margene Moores</td><td>OOP</td><td>4401841</td><td>55.0</td><td>Naoma Fritts_Eda Neathery@Cloud.com</td><td>0.55</td><td>Nigeria</td></tr><tr><td>29</td><td>Male</td><td>Ernest Rossbach</td><td>DB</td><td>4411585</td><td>60.0</td><td>Marylee Capasso_Lawanda Wohlwend@Cloud.com</td><td>0.6</td><td>Nigeria</td></tr><tr><td>28</td><td>Female</td><td>Paris Hutton</td><td>PF</td><td>4421530</td><td>99.0</td><td>Sebrina Maresca_Latia Vanhoose@MVC.com</td><td>0.99</td><td>Nigeria</td></tr><tr><td>28</td><td>Female</td><td>Kena Wild</td><td>DB</td><td>4431030</td><td>69.0</td><td>Paris Hutton_Cheri Kenney@Cloud.com</td><td>0.69</td><td>Nigeria</td></tr><tr><td>29</td><td>Male</td><td>Maybell Duguay</td><td>DSA</td><td>4441473</td><td>33.0</td><td>Billi Clore_Clementina Menke@OOP.com</td><td>0.33</td><td>Nigeria</td></tr><tr><td>29</td><td>Male</td><td>Cheri Kenney</td><td>Cloud</td><td>4451117</td><td>83.0</td><td>Jenna Montague_Kena Wild@Cloud.com</td><td>0.83</td><td>Nigeria</td></tr><tr><td>28</td><td>Female</td><td>Kizzy Brenner</td><td>Cloud</td><td>4462249</td><td>103.0</td><td>Naoma Fritts_Taryn Brownlee@PF.com</td><td>1.03</td><td>Nigeria</td></tr><tr><td>28</td><td>Female</td><td>Jeannetta Golden</td><td>Cloud</td><td>4472760</td><td>89.0</td><td>Clementina Menke_Tamera Blakley@OOP.com</td><td>0.89</td><td>Nigeria</td></tr><tr><td>28</td><td>Female</td><td>Mitzi Seldon</td><td>DSA</td><td>4481503</td><td>91.0</td><td>Jc Andrepont_Claude Panos@DB.com</td><td>0.91</td><td>Nigeria</td></tr><tr><td>29</td><td>Male</td><td>Paris Hutton</td><td>DB</td><td>4492478</td><td>94.0</td><td>Paris Hutton_Jenna Montague@PF.com</td><td>0.94</td><td>Nigeria</td></tr><tr><td>29</td><td>Female</td><td>Alberta Freund</td><td>OOP</td><td>4501424</td><td>31.0</td><td>Toshiko Hillyard_Celeste Lollis@MVC.com</td><td>0.31</td><td>Nigeria</td></tr><tr><td>29</td><td>Male</td><td>Melani Engberg</td><td>MVC</td><td>4511004</td><td>81.0</td><td>Nicole Harwood_Melani Engberg@Cloud.com</td><td>0.81</td><td>Nigeria</td></tr><tr><td>28</td><td>Female</td><td>Margene Moores</td><td>MVC</td><td>4521977</td><td>71.0</td><td>Jeannetta Golden_Jc Andrepont@MVC.com</td><td>0.71</td><td>Nigeria</td></tr><tr><td>29</td><td>Male</td><td>Abram Nagao</td><td>Cloud</td><td>4531204</td><td>60.0</td><td>Loris Crossett_Sebrina Maresca@DB.com</td><td>0.6</td><td>Nigeria</td></tr><tr><td>29</td><td>Male</td><td>Judie Chipps</td><td>DB</td><td>4542925</td><td>49.0</td><td>Jenna Montague_Priscila Tavernier@PF.com</td><td>0.49</td><td>Nigeria</td></tr><tr><td>29</td><td>Female</td><td>Ernest Rossbach</td><td>DSA</td><td>4551917</td><td>89.0</td><td>Somer Stoecker_Eda Neathery@PF.com</td><td>0.89</td><td>Nigeria</td></tr><tr><td>29</td><td>Female</td><td>Nicole Harwood</td><td>DSA</td><td>4562217</td><td>50.0</td><td>Anna Santos_Cheri Kenney@OOP.com</td><td>0.5</td><td>Nigeria</td></tr><tr><td>29</td><td>Female</td><td>Sheryll Towler</td><td>DB</td><td>4571866</td><td>77.0</td><td>Leontine Phillips_Kizzy Brenner@Cloud.com</td><td>0.77</td><td>Nigeria</td></tr><tr><td>29</td><td>Female</td><td>Naoma Fritts</td><td>DSA</td><td>4582052</td><td>33.0</td><td>Kena Wild_Jenna Montague@DSA.com</td><td>0.33</td><td>Nigeria</td></tr><tr><td>29</td><td>Female</td><td>Cheri Kenney</td><td>PF</td><td>4591235</td><td>76.0</td><td>Annika Hoffman_Annika Hoffman@OOP.com</td><td>0.76</td><td>Nigeria</td></tr><tr><td>28</td><td>Female</td><td>Celeste Lollis</td><td>OOP</td><td>4602002</td><td>71.0</td><td>Nicole Harwood_Abram Nagao@MVC.com</td><td>0.71</td><td>Nigeria</td></tr><tr><td>28</td><td>Female</td><td>Judie Chipps</td><td>Cloud</td><td>4612245</td><td>36.0</td><td>Somer Stoecker_Naoma Fritts@Cloud.com</td><td>0.36</td><td>Nigeria</td></tr><tr><td>28</td><td>Male</td><td>Kizzy Brenner</td><td>Cloud</td><td>4622328</td><td>31.0</td><td>Leontine Phillips_Marylee Capasso@PF.com</td><td>0.31</td><td>Nigeria</td></tr><tr><td>28</td><td>Female</td><td>Judie Chipps</td><td>DSA</td><td>4631068</td><td>108.0</td><td>Toshiko Hillyard_Abram Nagao@MVC.com</td><td>1.08</td><td>Nigeria</td></tr><tr><td>28</td><td>Male</td><td>Marylee Capasso</td><td>PF</td><td>4642202</td><td>104.0</td><td>Marylee Capasso_Elenore Choy@Cloud.com</td><td>1.04</td><td>Nigeria</td></tr><tr><td>28</td><td>Male</td><td>Eda Neathery</td><td>DB</td><td>4651622</td><td>53.0</td><td>Priscila Tavernier_Hubert Oliveras@DSA.com</td><td>0.53</td><td>Nigeria</td></tr><tr><td>29</td><td>Male</td><td>Latia Vanhoose</td><td>Cloud</td><td>4661276</td><td>50.0</td><td>Jc Andrepont_Annika Hoffman@DB.com</td><td>0.5</td><td>Nigeria</td></tr><tr><td>29</td><td>Male</td><td>Kizzy Brenner</td><td>Cloud</td><td>4671045</td><td>91.0</td><td>Lawanda Wohlwend_Judie Chipps@OOP.com</td><td>0.91</td><td>Nigeria</td></tr><tr><td>28</td><td>Male</td><td>Elenore Choy</td><td>MVC</td><td>4681842</td><td>98.0</td><td>Paris Hutton_Toshiko Hillyard@DB.com</td><td>0.98</td><td>Nigeria</td></tr><tr><td>29</td><td>Male</td><td>Dustin Feagins</td><td>MVC</td><td>4692399</td><td>42.0</td><td>Gonzalo Ferebee_Somer Stoecker@OOP.com</td><td>0.42</td><td>Nigeria</td></tr><tr><td>28</td><td>Female</td><td>Claude Panos</td><td>DB</td><td>4701534</td><td>57.0</td><td>Somer Stoecker_Naoma Fritts@DSA.com</td><td>0.57</td><td>Nigeria</td></tr><tr><td>28</td><td>Female</td><td>Elenore Choy</td><td>Cloud</td><td>4711825</td><td>64.0</td><td>Alberta Freund_Tijuana Kropf@DSA.com</td><td>0.64</td><td>Nigeria</td></tr><tr><td>28</td><td>Female</td><td>Mitzi Seldon</td><td>OOP</td><td>4722700</td><td>57.0</td><td>Naoma Fritts_Ernest Rossbach@DB.com</td><td>0.57</td><td>Nigeria</td></tr><tr><td>28</td><td>Female</td><td>Tijuana Kropf</td><td>DSA</td><td>4732921</td><td>62.0</td><td>Jenna Montague_Gonzalo Ferebee@DB.com</td><td>0.62</td><td>Nigeria</td></tr><tr><td>29</td><td>Male</td><td>Judie Chipps</td><td>OOP</td><td>4742632</td><td>104.0</td><td>Judie Chipps_Kena Wild@OOP.com</td><td>1.04</td><td>Nigeria</td></tr><tr><td>29</td><td>Male</td><td>Jalisa Swenson</td><td>OOP</td><td>4751515</td><td>30.0</td><td>Annika Hoffman_Hubert Oliveras@Cloud.com</td><td>0.3</td><td>Nigeria</td></tr><tr><td>29</td><td>Male</td><td>Marylee Capasso</td><td>MVC</td><td>4762368</td><td>90.0</td><td>Sebrina Maresca_Annika Hoffman@Cloud.com</td><td>0.9</td><td>Nigeria</td></tr><tr><td>28</td><td>Female</td><td>Niki Klimek</td><td>DSA</td><td>4772918</td><td>61.0</td><td>Loris Crossett_Leontine Phillips@MVC.com</td><td>0.61</td><td>Nigeria</td></tr><tr><td>28</td><td>Female</td><td>Priscila Tavernier</td><td>OOP</td><td>4781044</td><td>46.0</td><td>Dustin Feagins_Naoma Fritts@OOP.com</td><td>0.46</td><td>Nigeria</td></tr><tr><td>28</td><td>Female</td><td>Latia Vanhoose</td><td>OOP</td><td>4792828</td><td>82.0</td><td>Tamera Blakley_Mitzi Seldon@DSA.com</td><td>0.82</td><td>Nigeria</td></tr><tr><td>28</td><td>Male</td><td>Alberta Freund</td><td>DB</td><td>4802967</td><td>90.0</td><td>Naoma Fritts_Elenore Choy@DSA.com</td><td>0.9</td><td>Nigeria</td></tr><tr><td>28</td><td>Female</td><td>Santa Kerfien</td><td>DB</td><td>4811069</td><td>95.0</td><td>Dustin Feagins_Maybell Duguay@MVC.com</td><td>0.95</td><td>Nigeria</td></tr><tr><td>29</td><td>Male</td><td>Jalisa Swenson</td><td>OOP</td><td>4822653</td><td>80.0</td><td>Anna Santos_Abram Nagao@MVC.com</td><td>0.8</td><td>Nigeria</td></tr><tr><td>29</td><td>Male</td><td>Elenore Choy</td><td>DSA</td><td>4831059</td><td>34.0</td><td>Abram Nagao_Kena Wild@Cloud.com</td><td>0.34</td><td>Nigeria</td></tr><tr><td>28</td><td>Male</td><td>Cheri Kenney</td><td>PF</td><td>4841631</td><td>94.0</td><td>Abram Nagao_Naoma Fritts@MVC.com</td><td>0.94</td><td>Nigeria</td></tr><tr><td>29</td><td>Female</td><td>Lawanda Wohlwend</td><td>DSA</td><td>4851930</td><td>74.0</td><td>Jeannetta Golden_Sheryll Towler@OOP.com</td><td>0.74</td><td>Nigeria</td></tr><tr><td>28</td><td>Male</td><td>Cheri Kenney</td><td>OOP</td><td>4862694</td><td>78.0</td><td>Leontine Phillips_Taryn Brownlee@DB.com</td><td>0.78</td><td>Nigeria</td></tr><tr><td>28</td><td>Female</td><td>Jeannetta Golden</td><td>OOP</td><td>4872604</td><td>68.0</td><td>Somer Stoecker_Celeste Lollis@MVC.com</td><td>0.68</td><td>Nigeria</td></tr><tr><td>28</td><td>Female</td><td>Billi Clore</td><td>DSA</td><td>4881063</td><td>96.0</td><td>Eda Neathery_Cordie Harnois@MVC.com</td><td>0.96</td><td>Nigeria</td></tr><tr><td>28</td><td>Male</td><td>Clementina Menke</td><td>DSA</td><td>4891815</td><td>54.0</td><td>Kena Wild_Judie Chipps@PF.com</td><td>0.54</td><td>Nigeria</td></tr><tr><td>29</td><td>Male</td><td>Anna Santos</td><td>MVC</td><td>4901235</td><td>87.0</td><td>Gonzalo Ferebee_Sebrina Maresca@DB.com</td><td>0.87</td><td>Nigeria</td></tr><tr><td>29</td><td>Male</td><td>Elenore Choy</td><td>DSA</td><td>4911667</td><td>62.0</td><td>Priscila Tavernier_Sheryll Towler@PF.com</td><td>0.62</td><td>Nigeria</td></tr><tr><td>29</td><td>Female</td><td>Mitzi Seldon</td><td>DB</td><td>4922367</td><td>74.0</td><td>Annika Hoffman_Annika Hoffman@MVC.com</td><td>0.74</td><td>Nigeria</td></tr><tr><td>28</td><td>Male</td><td>Santa Kerfien</td><td>DB</td><td>4932764</td><td>86.0</td><td>Nicole Harwood_Loris Crossett@PF.com</td><td>0.86</td><td>Nigeria</td></tr><tr><td>28</td><td>Male</td><td>Mitzi Seldon</td><td>MVC</td><td>4942910</td><td>101.0</td><td>Tamera Blakley_Jenna Montague@DSA.com</td><td>1.01</td><td>Nigeria</td></tr><tr><td>29</td><td>Female</td><td>Dustin Feagins</td><td>Cloud</td><td>4952697</td><td>56.0</td><td>Annika Hoffman_Elenore Choy@MVC.com</td><td>0.56</td><td>Nigeria</td></tr><tr><td>29</td><td>Female</td><td>Paris Hutton</td><td>OOP</td><td>4962584</td><td>47.0</td><td>Anna Santos_Alberta Freund@DB.com</td><td>0.47</td><td>Nigeria</td></tr><tr><td>28</td><td>Female</td><td>Santa Kerfien</td><td>DB</td><td>4971408</td><td>50.0</td><td>Mitzi Seldon_Naoma Fritts@PF.com</td><td>0.5</td><td>Nigeria</td></tr><tr><td>28</td><td>Female</td><td>Toshiko Hillyard</td><td>Cloud</td><td>4982864</td><td>56.0</td><td>Michelle Ruggiero_Cordie Harnois@DB.com</td><td>0.56</td><td>Nigeria</td></tr><tr><td>28</td><td>Female</td><td>Donna Yerby</td><td>DB</td><td>4991657</td><td>63.0</td><td>Ernest Rossbach_Somer Stoecker@DSA.com</td><td>0.63</td><td>Nigeria</td></tr><tr><td>28</td><td>Female</td><td>Kena Wild</td><td>DB</td><td>5001412</td><td>63.0</td><td>Annika Hoffman_Jalisa Swenson@PF.com</td><td>0.63</td><td>Nigeria</td></tr><tr><td>29</td><td>Male</td><td>Jc Andrepont</td><td>DB</td><td>5012482</td><td>70.0</td><td>Jalisa Swenson_Somer Stoecker@Cloud.com</td><td>0.7</td><td>Nigeria</td></tr><tr><td>29</td><td>Male</td><td>Abram Nagao</td><td>DSA</td><td>5022738</td><td>52.0</td><td>Margene Moores_Latia Vanhoose@OOP.com</td><td>0.52</td><td>Nigeria</td></tr><tr><td>29</td><td>Female</td><td>Alberta Freund</td><td>OOP</td><td>5032356</td><td>76.0</td><td>Paris Hutton_Gonzalo Ferebee@MVC.com</td><td>0.76</td><td>Nigeria</td></tr><tr><td>29</td><td>Male</td><td>Sebrina Maresca</td><td>Cloud</td><td>5042394</td><td>31.0</td><td>Donna Yerby_Michelle Ruggiero@PF.com</td><td>0.31</td><td>Nigeria</td></tr><tr><td>29</td><td>Male</td><td>Jeannetta Golden</td><td>PF</td><td>5051485</td><td>85.0</td><td>Neda Briski_Annika Hoffman@Cloud.com</td><td>0.85</td><td>Nigeria</td></tr><tr><td>29</td><td>Male</td><td>Jalisa Swenson</td><td>OOP</td><td>5061737</td><td>94.0</td><td>Somer Stoecker_Latia Vanhoose@MVC.com</td><td>0.94</td><td>Nigeria</td></tr><tr><td>28</td><td>Male</td><td>Gonzalo Ferebee</td><td>MVC</td><td>5071004</td><td>82.0</td><td>Mitzi Seldon_Taryn Brownlee@DSA.com</td><td>0.82</td><td>Nigeria</td></tr><tr><td>28</td><td>Male</td><td>Eda Neathery</td><td>PF</td><td>5082430</td><td>32.0</td><td>Leontine Phillips_Lawanda Wohlwend@MVC.com</td><td>0.32</td><td>Nigeria</td></tr><tr><td>28</td><td>Male</td><td>Tijuana Kropf</td><td>DSA</td><td>5092243</td><td>95.0</td><td>Jenna Montague_Loris Crossett@OOP.com</td><td>0.95</td><td>Nigeria</td></tr><tr><td>29</td><td>Female</td><td>Leontine Phillips</td><td>OOP</td><td>5102782</td><td>96.0</td><td>Lawanda Wohlwend_Mitzi Seldon@Cloud.com</td><td>0.96</td><td>Nigeria</td></tr><tr><td>29</td><td>Male</td><td>Alberta Freund</td><td>PF</td><td>5112625</td><td>78.0</td><td>Abram Nagao_Celeste Lollis@DSA.com</td><td>0.78</td><td>Nigeria</td></tr><tr><td>29</td><td>Female</td><td>Niki Klimek</td><td>MVC</td><td>5122968</td><td>52.0</td><td>Jenna Montague_Hubert Oliveras@MVC.com</td><td>0.52</td><td>Nigeria</td></tr><tr><td>28</td><td>Female</td><td>Neda Briski</td><td>Cloud</td><td>5131604</td><td>68.0</td><td>Mickey Cortright_Niki Klimek@DB.com</td><td>0.68</td><td>Nigeria</td></tr><tr><td>29</td><td>Female</td><td>Anna Santos</td><td>DB</td><td>5142808</td><td>91.0</td><td>Donna Yerby_Naoma Fritts@DB.com</td><td>0.91</td><td>Nigeria</td></tr><tr><td>29</td><td>Male</td><td>Gonzalo Ferebee</td><td>Cloud</td><td>5151742</td><td>56.0</td><td>Jeannetta Golden_Ernest Rossbach@DSA.com</td><td>0.56</td><td>Nigeria</td></tr><tr><td>29</td><td>Male</td><td>Mickey Cortright</td><td>MVC</td><td>5162191</td><td>38.0</td><td>Eda Neathery_Tijuana Kropf@DB.com</td><td>0.38</td><td>Nigeria</td></tr><tr><td>28</td><td>Male</td><td>Niki Klimek</td><td>DSA</td><td>5172507</td><td>109.0</td><td>Marylee Capasso_Elenore Choy@MVC.com</td><td>1.09</td><td>Nigeria</td></tr><tr><td>29</td><td>Male</td><td>Elenore Choy</td><td>PF</td><td>5181004</td><td>68.0</td><td>Jc Andrepont_Loris Crossett@OOP.com</td><td>0.68</td><td>Nigeria</td></tr><tr><td>29</td><td>Male</td><td>Loris Crossett</td><td>MVC</td><td>5192208</td><td>88.0</td><td>Tamera Blakley_Abram Nagao@DB.com</td><td>0.88</td><td>Nigeria</td></tr><tr><td>28</td><td>Male</td><td>Jc Andrepont</td><td>Cloud</td><td>5202136</td><td>107.0</td><td>Jc Andrepont_Kena Wild@PF.com</td><td>1.07</td><td>Nigeria</td></tr><tr><td>29</td><td>Female</td><td>Marylee Capasso</td><td>PF</td><td>5212694</td><td>74.0</td><td>Loris Crossett_Niki Klimek@Cloud.com</td><td>0.74</td><td>Nigeria</td></tr><tr><td>28</td><td>Female</td><td>Latia Vanhoose</td><td>PF</td><td>5222171</td><td>83.0</td><td>Toshiko Hillyard_Mickey Cortright@Cloud.com</td><td>0.83</td><td>Nigeria</td></tr><tr><td>28</td><td>Male</td><td>Eda Neathery</td><td>MVC</td><td>5231777</td><td>66.0</td><td>Judie Chipps_Jalisa Swenson@OOP.com</td><td>0.66</td><td>Nigeria</td></tr><tr><td>28</td><td>Male</td><td>Elenore Choy</td><td>MVC</td><td>5241419</td><td>91.0</td><td>Sebrina Maresca_Taryn Brownlee@PF.com</td><td>0.91</td><td>Nigeria</td></tr><tr><td>29</td><td>Female</td><td>Marylee Capasso</td><td>OOP</td><td>5252441</td><td>57.0</td><td>Maybell Duguay_Mickey Cortright@MVC.com</td><td>0.57</td><td>Nigeria</td></tr><tr><td>28</td><td>Female</td><td>Taryn Brownlee</td><td>OOP</td><td>5262828</td><td>35.0</td><td>Elenore Choy_Gonzalo Ferebee@DB.com</td><td>0.35</td><td>Nigeria</td></tr><tr><td>28</td><td>Male</td><td>Clementina Menke</td><td>DSA</td><td>5272838</td><td>37.0</td><td>Clementina Menke_Eda Neathery@MVC.com</td><td>0.37</td><td>Nigeria</td></tr><tr><td>29</td><td>Male</td><td>Santa Kerfien</td><td>DB</td><td>5282657</td><td>91.0</td><td>Judie Chipps_Mickey Cortright@MVC.com</td><td>0.91</td><td>Nigeria</td></tr><tr><td>29</td><td>Female</td><td>Lawanda Wohlwend</td><td>OOP</td><td>5292220</td><td>56.0</td><td>Loris Crossett_Alberta Freund@MVC.com</td><td>0.56</td><td>Nigeria</td></tr><tr><td>28</td><td>Female</td><td>Abram Nagao</td><td>Cloud</td><td>5301859</td><td>60.0</td><td>Elenore Choy_Claude Panos@Cloud.com</td><td>0.6</td><td>Nigeria</td></tr><tr><td>28</td><td>Male</td><td>Taryn Brownlee</td><td>DB</td><td>5311449</td><td>35.0</td><td>Santa Kerfien_Lawanda Wohlwend@OOP.com</td><td>0.35</td><td>Nigeria</td></tr><tr><td>28</td><td>Male</td><td>Donna Yerby</td><td>DB</td><td>5321010</td><td>75.0</td><td>Jc Andrepont_Tijuana Kropf@DB.com</td><td>0.75</td><td>Nigeria</td></tr><tr><td>29</td><td>Female</td><td>Celeste Lollis</td><td>Cloud</td><td>5331415</td><td>85.0</td><td>Leontine Phillips_Kena Wild@DB.com</td><td>0.85</td><td>Nigeria</td></tr><tr><td>28</td><td>Female</td><td>Hubert Oliveras</td><td>DSA</td><td>5342918</td><td>92.0</td><td>Judie Chipps_Annika Hoffman@OOP.com</td><td>0.92</td><td>Nigeria</td></tr><tr><td>28</td><td>Male</td><td>Tamera Blakley</td><td>DSA</td><td>5352713</td><td>90.0</td><td>Jeannetta Golden_Neda Briski@Cloud.com</td><td>0.9</td><td>Nigeria</td></tr><tr><td>29</td><td>Male</td><td>Sheryll Towler</td><td>PF</td><td>5362217</td><td>46.0</td><td>Ernest Rossbach_Eda Neathery@Cloud.com</td><td>0.46</td><td>Nigeria</td></tr><tr><td>28</td><td>Female</td><td>Ernest Rossbach</td><td>PF</td><td>5372045</td><td>97.0</td><td>Maybell Duguay_Melani Engberg@PF.com</td><td>0.97</td><td>Nigeria</td></tr><tr><td>28</td><td>Male</td><td>Lawanda Wohlwend</td><td>OOP</td><td>5382684</td><td>44.0</td><td>Jc Andrepont_Kena Wild@Cloud.com</td><td>0.44</td><td>Nigeria</td></tr><tr><td>29</td><td>Male</td><td>Santa Kerfien</td><td>OOP</td><td>5391590</td><td>99.0</td><td>Somer Stoecker_Loris Crossett@DB.com</td><td>0.99</td><td>Nigeria</td></tr><tr><td>29</td><td>Female</td><td>Tamera Blakley</td><td>MVC</td><td>5401559</td><td>78.0</td><td>Alberta Freund_Jeannetta Golden@MVC.com</td><td>0.78</td><td>Nigeria</td></tr><tr><td>28</td><td>Female</td><td>Maybell Duguay</td><td>Cloud</td><td>5411090</td><td>63.0</td><td>Jeannetta Golden_Mickey Cortright@DB.com</td><td>0.63</td><td>Nigeria</td></tr><tr><td>28</td><td>Male</td><td>Jc Andrepont</td><td>DSA</td><td>5421958</td><td>43.0</td><td>Lawanda Wohlwend_Leontine Phillips@DB.com</td><td>0.43</td><td>Nigeria</td></tr><tr><td>28</td><td>Female</td><td>Somer Stoecker</td><td>DSA</td><td>5432767</td><td>105.0</td><td>Mitzi Seldon_Paris Hutton@MVC.com</td><td>1.05</td><td>Nigeria</td></tr><tr><td>29</td><td>Female</td><td>Jeannetta Golden</td><td>OOP</td><td>5442294</td><td>62.0</td><td>Elenore Choy_Sebrina Maresca@MVC.com</td><td>0.62</td><td>Nigeria</td></tr><tr><td>28</td><td>Female</td><td>Judie Chipps</td><td>OOP</td><td>5451977</td><td>109.0</td><td>Tamera Blakley_Mickey Cortright@PF.com</td><td>1.09</td><td>Nigeria</td></tr><tr><td>28</td><td>Female</td><td>Maybell Duguay</td><td>Cloud</td><td>5461402</td><td>39.0</td><td>Cheri Kenney_Annika Hoffman@Cloud.com</td><td>0.39</td><td>Nigeria</td></tr><tr><td>28</td><td>Female</td><td>Jeannetta Golden</td><td>Cloud</td><td>5472189</td><td>102.0</td><td>Naoma Fritts_Annika Hoffman@DB.com</td><td>1.02</td><td>Nigeria</td></tr><tr><td>29</td><td>Female</td><td>Lawanda Wohlwend</td><td>Cloud</td><td>5482981</td><td>47.0</td><td>Billi Clore_Eda Neathery@DB.com</td><td>0.47</td><td>Nigeria</td></tr><tr><td>29</td><td>Female</td><td>Eda Neathery</td><td>Cloud</td><td>5492989</td><td>53.0</td><td>Cordie Harnois_Latia Vanhoose@DB.com</td><td>0.53</td><td>Nigeria</td></tr><tr><td>28</td><td>Male</td><td>Anna Santos</td><td>DSA</td><td>5502368</td><td>94.0</td><td>Sebrina Maresca_Jc Andrepont@Cloud.com</td><td>0.94</td><td>Nigeria</td></tr><tr><td>28</td><td>Female</td><td>Neda Briski</td><td>MVC</td><td>5512387</td><td>64.0</td><td>Jenna Montague_Melani Engberg@Cloud.com</td><td>0.64</td><td>Nigeria</td></tr><tr><td>29</td><td>Female</td><td>Claude Panos</td><td>Cloud</td><td>5521752</td><td>104.0</td><td>Sebrina Maresca_Sheryll Towler@MVC.com</td><td>1.04</td><td>Nigeria</td></tr><tr><td>29</td><td>Female</td><td>Judie Chipps</td><td>Cloud</td><td>5532421</td><td>90.0</td><td>Sebrina Maresca_Donna Yerby@Cloud.com</td><td>0.9</td><td>Nigeria</td></tr><tr><td>29</td><td>Female</td><td>Hubert Oliveras</td><td>DSA</td><td>5542363</td><td>33.0</td><td>Priscila Tavernier_Niki Klimek@DSA.com</td><td>0.33</td><td>Nigeria</td></tr><tr><td>28</td><td>Male</td><td>Gonzalo Ferebee</td><td>PF</td><td>5552593</td><td>65.0</td><td>Jeannetta Golden_Dustin Feagins@Cloud.com</td><td>0.65</td><td>Nigeria</td></tr><tr><td>28</td><td>Female</td><td>Mickey Cortright</td><td>OOP</td><td>5561955</td><td>48.0</td><td>Jenna Montague_Hubert Oliveras@DSA.com</td><td>0.48</td><td>Nigeria</td></tr><tr><td>28</td><td>Male</td><td>Abram Nagao</td><td>OOP</td><td>5571082</td><td>95.0</td><td>Santa Kerfien_Jalisa Swenson@PF.com</td><td>0.95</td><td>Nigeria</td></tr><tr><td>29</td><td>Female</td><td>Dustin Feagins</td><td>DB</td><td>5581136</td><td>42.0</td><td>Alberta Freund_Celeste Lollis@Cloud.com</td><td>0.42</td><td>Nigeria</td></tr><tr><td>29</td><td>Male</td><td>Sheryll Towler</td><td>DSA</td><td>5591018</td><td>66.0</td><td>Tijuana Kropf_Dustin Feagins@DSA.com</td><td>0.66</td><td>Nigeria</td></tr><tr><td>28</td><td>Female</td><td>Mitzi Seldon</td><td>DB</td><td>5602986</td><td>75.0</td><td>Toshiko Hillyard_Elenore Choy@MVC.com</td><td>0.75</td><td>Nigeria</td></tr><tr><td>28</td><td>Male</td><td>Michelle Ruggiero</td><td>PF</td><td>5612879</td><td>74.0</td><td>Tijuana Kropf_Maybell Duguay@PF.com</td><td>0.74</td><td>Nigeria</td></tr><tr><td>29</td><td>Male</td><td>Margene Moores</td><td>OOP</td><td>5621072</td><td>107.0</td><td>Sheryll Towler_Margene Moores@MVC.com</td><td>1.07</td><td>Nigeria</td></tr><tr><td>29</td><td>Female</td><td>Gonzalo Ferebee</td><td>DSA</td><td>5631172</td><td>30.0</td><td>Jeannetta Golden_Hubert Oliveras@MVC.com</td><td>0.3</td><td>Nigeria</td></tr><tr><td>28</td><td>Male</td><td>Cheri Kenney</td><td>Cloud</td><td>5641528</td><td>104.0</td><td>Sebrina Maresca_Leontine Phillips@OOP.com</td><td>1.04</td><td>Nigeria</td></tr><tr><td>29</td><td>Female</td><td>Niki Klimek</td><td>DSA</td><td>5651181</td><td>48.0</td><td>Dustin Feagins_Naoma Fritts@OOP.com</td><td>0.48</td><td>Nigeria</td></tr><tr><td>28</td><td>Male</td><td>Tamera Blakley</td><td>DB</td><td>5661433</td><td>86.0</td><td>Abram Nagao_Leontine Phillips@MVC.com</td><td>0.86</td><td>Nigeria</td></tr><tr><td>28</td><td>Male</td><td>Annika Hoffman</td><td>OOP</td><td>5672977</td><td>48.0</td><td>Paris Hutton_Latia Vanhoose@DB.com</td><td>0.48</td><td>Nigeria</td></tr><tr><td>29</td><td>Male</td><td>Judie Chipps</td><td>OOP</td><td>5682469</td><td>34.0</td><td>Tamera Blakley_Maybell Duguay@DSA.com</td><td>0.34</td><td>Nigeria</td></tr><tr><td>29</td><td>Male</td><td>Cordie Harnois</td><td>PF</td><td>5691278</td><td>34.0</td><td>Paris Hutton_Hubert Oliveras@MVC.com</td><td>0.34</td><td>Nigeria</td></tr><tr><td>29</td><td>Male</td><td>Cheri Kenney</td><td>OOP</td><td>5702560</td><td>42.0</td><td>Lawanda Wohlwend_Naoma Fritts@Cloud.com</td><td>0.42</td><td>Nigeria</td></tr><tr><td>28</td><td>Female</td><td>Jalisa Swenson</td><td>MVC</td><td>5712033</td><td>109.0</td><td>Dustin Feagins_Hubert Oliveras@DSA.com</td><td>1.09</td><td>Nigeria</td></tr><tr><td>29</td><td>Male</td><td>Tamera Blakley</td><td>OOP</td><td>5722341</td><td>78.0</td><td>Jalisa Swenson_Santa Kerfien@OOP.com</td><td>0.78</td><td>Nigeria</td></tr><tr><td>29</td><td>Male</td><td>Bonita Higuera</td><td>OOP</td><td>5732408</td><td>92.0</td><td>Mitzi Seldon_Claude Panos@PF.com</td><td>0.92</td><td>Nigeria</td></tr><tr><td>28</td><td>Female</td><td>Sebrina Maresca</td><td>PF</td><td>5742239</td><td>31.0</td><td>Bonita Higuera_Sebrina Maresca@DB.com</td><td>0.31</td><td>Nigeria</td></tr><tr><td>29</td><td>Female</td><td>Leontine Phillips</td><td>OOP</td><td>5752610</td><td>40.0</td><td>Jeannetta Golden_Mitzi Seldon@MVC.com</td><td>0.4</td><td>Nigeria</td></tr><tr><td>28</td><td>Female</td><td>Sebrina Maresca</td><td>DSA</td><td>5761415</td><td>99.0</td><td>Margene Moores_Kena Wild@DSA.com</td><td>0.99</td><td>Nigeria</td></tr><tr><td>29</td><td>Male</td><td>Gonzalo Ferebee</td><td>MVC</td><td>5772006</td><td>109.0</td><td>Niki Klimek_Margene Moores@MVC.com</td><td>1.09</td><td>Nigeria</td></tr><tr><td>28</td><td>Female</td><td>Melani Engberg</td><td>Cloud</td><td>5782064</td><td>74.0</td><td>Ernest Rossbach_Ernest Rossbach@Cloud.com</td><td>0.74</td><td>Nigeria</td></tr><tr><td>28</td><td>Male</td><td>Naoma Fritts</td><td>OOP</td><td>5791890</td><td>55.0</td><td>Billi Clore_Jenna Montague@Cloud.com</td><td>0.55</td><td>Nigeria</td></tr><tr><td>28</td><td>Female</td><td>Somer Stoecker</td><td>MVC</td><td>5801302</td><td>44.0</td><td>Cheri Kenney_Bonita Higuera@OOP.com</td><td>0.44</td><td>Nigeria</td></tr><tr><td>28</td><td>Male</td><td>Mickey Cortright</td><td>PF</td><td>5812370</td><td>49.0</td><td>Jenna Montague_Sheryll Towler@OOP.com</td><td>0.49</td><td>Nigeria</td></tr><tr><td>29</td><td>Male</td><td>Eda Neathery</td><td>PF</td><td>5821087</td><td>65.0</td><td>Nicole Harwood_Paris Hutton@DSA.com</td><td>0.65</td><td>Nigeria</td></tr><tr><td>29</td><td>Male</td><td>Priscila Tavernier</td><td>OOP</td><td>5831872</td><td>73.0</td><td>Somer Stoecker_Kena Wild@OOP.com</td><td>0.73</td><td>Nigeria</td></tr><tr><td>28</td><td>Female</td><td>Alberta Freund</td><td>MVC</td><td>5842912</td><td>61.0</td><td>Cordie Harnois_Margene Moores@OOP.com</td><td>0.61</td><td>Nigeria</td></tr><tr><td>29</td><td>Female</td><td>Paris Hutton</td><td>PF</td><td>5852476</td><td>76.0</td><td>Loris Crossett_Mickey Cortright@MVC.com</td><td>0.76</td><td>Nigeria</td></tr><tr><td>28</td><td>Female</td><td>Nicole Harwood</td><td>DB</td><td>5862606</td><td>87.0</td><td>Clementina Menke_Donna Yerby@DB.com</td><td>0.87</td><td>Nigeria</td></tr><tr><td>28</td><td>Female</td><td>Judie Chipps</td><td>DB</td><td>5872939</td><td>34.0</td><td>Mitzi Seldon_Paris Hutton@OOP.com</td><td>0.34</td><td>Nigeria</td></tr><tr><td>28</td><td>Female</td><td>Somer Stoecker</td><td>PF</td><td>5882098</td><td>108.0</td><td>Judie Chipps_Clementina Menke@PF.com</td><td>1.08</td><td>Nigeria</td></tr><tr><td>29</td><td>Female</td><td>Jenna Montague</td><td>Cloud</td><td>5892993</td><td>96.0</td><td>Jeannetta Golden_Marylee Capasso@MVC.com</td><td>0.96</td><td>Nigeria</td></tr><tr><td>28</td><td>Male</td><td>Sebrina Maresca</td><td>PF</td><td>5902730</td><td>44.0</td><td>Michelle Ruggiero_Claude Panos@DSA.com</td><td>0.44</td><td>Nigeria</td></tr><tr><td>29</td><td>Female</td><td>Melani Engberg</td><td>DSA</td><td>5911007</td><td>64.0</td><td>Kizzy Brenner_Tamera Blakley@OOP.com</td><td>0.64</td><td>Nigeria</td></tr><tr><td>29</td><td>Female</td><td>Gonzalo Ferebee</td><td>MVC</td><td>5922869</td><td>90.0</td><td>Toshiko Hillyard_Naoma Fritts@OOP.com</td><td>0.9</td><td>Nigeria</td></tr><tr><td>29</td><td>Male</td><td>Donna Yerby</td><td>DB</td><td>5932345</td><td>88.0</td><td>Leontine Phillips_Sheryll Towler@PF.com</td><td>0.88</td><td>Nigeria</td></tr><tr><td>28</td><td>Female</td><td>Somer Stoecker</td><td>DSA</td><td>5942293</td><td>98.0</td><td>Nicole Harwood_Tamera Blakley@DB.com</td><td>0.98</td><td>Nigeria</td></tr><tr><td>28</td><td>Female</td><td>Anna Santos</td><td>OOP</td><td>5952812</td><td>66.0</td><td>Jeannetta Golden_Eda Neathery@DB.com</td><td>0.66</td><td>Nigeria</td></tr><tr><td>28</td><td>Female</td><td>Cheri Kenney</td><td>OOP</td><td>5961043</td><td>47.0</td><td>Bonita Higuera_Marylee Capasso@PF.com</td><td>0.47</td><td>Nigeria</td></tr><tr><td>28</td><td>Female</td><td>Tamera Blakley</td><td>DSA</td><td>5972030</td><td>38.0</td><td>Leontine Phillips_Annika Hoffman@DSA.com</td><td>0.38</td><td>Nigeria</td></tr><tr><td>29</td><td>Female</td><td>Dustin Feagins</td><td>Cloud</td><td>5982620</td><td>82.0</td><td>Kena Wild_Cheri Kenney@OOP.com</td><td>0.82</td><td>Nigeria</td></tr><tr><td>28</td><td>Male</td><td>Toshiko Hillyard</td><td>DSA</td><td>5992644</td><td>87.0</td><td>Jenna Montague_Tijuana Kropf@Cloud.com</td><td>0.87</td><td>Nigeria</td></tr><tr><td>29</td><td>Male</td><td>Michelle Ruggiero</td><td>PF</td><td>6001585</td><td>30.0</td><td>Paris Hutton_Margene Moores@PF.com</td><td>0.3</td><td>Nigeria</td></tr><tr><td>29</td><td>Male</td><td>Kizzy Brenner</td><td>DSA</td><td>6012402</td><td>81.0</td><td>Elenore Choy_Alberta Freund@PF.com</td><td>0.81</td><td>Nigeria</td></tr><tr><td>29</td><td>Female</td><td>Tijuana Kropf</td><td>Cloud</td><td>6021281</td><td>52.0</td><td>Alberta Freund_Sheryll Towler@PF.com</td><td>0.52</td><td>Nigeria</td></tr><tr><td>28</td><td>Male</td><td>Gonzalo Ferebee</td><td>MVC</td><td>6032264</td><td>81.0</td><td>Jeannetta Golden_Claude Panos@Cloud.com</td><td>0.81</td><td>Nigeria</td></tr><tr><td>29</td><td>Male</td><td>Cheri Kenney</td><td>DB</td><td>6041254</td><td>69.0</td><td>Gonzalo Ferebee_Margene Moores@PF.com</td><td>0.69</td><td>Nigeria</td></tr><tr><td>29</td><td>Female</td><td>Paris Hutton</td><td>DB</td><td>6052159</td><td>44.0</td><td>Priscila Tavernier_Maybell Duguay@PF.com</td><td>0.44</td><td>Nigeria</td></tr><tr><td>28</td><td>Female</td><td>Bonita Higuera</td><td>Cloud</td><td>6061881</td><td>33.0</td><td>Dustin Feagins_Lawanda Wohlwend@PF.com</td><td>0.33</td><td>Nigeria</td></tr><tr><td>29</td><td>Female</td><td>Alberta Freund</td><td>DSA</td><td>6071316</td><td>109.0</td><td>Dustin Feagins_Sebrina Maresca@DB.com</td><td>1.09</td><td>Nigeria</td></tr><tr><td>28</td><td>Male</td><td>Priscila Tavernier</td><td>DSA</td><td>6082520</td><td>99.0</td><td>Clementina Menke_Hubert Oliveras@DSA.com</td><td>0.99</td><td>Nigeria</td></tr><tr><td>29</td><td>Male</td><td>Kena Wild</td><td>DSA</td><td>6092008</td><td>86.0</td><td>Sheryll Towler_Anna Santos@PF.com</td><td>0.86</td><td>Nigeria</td></tr><tr><td>29</td><td>Female</td><td>Billi Clore</td><td>Cloud</td><td>6101096</td><td>37.0</td><td>Maybell Duguay_Claude Panos@PF.com</td><td>0.37</td><td>Nigeria</td></tr><tr><td>29</td><td>Female</td><td>Alberta Freund</td><td>PF</td><td>6111594</td><td>99.0</td><td>Celeste Lollis_Anna Santos@Cloud.com</td><td>0.99</td><td>Nigeria</td></tr><tr><td>29</td><td>Female</td><td>Jalisa Swenson</td><td>Cloud</td><td>6121309</td><td>69.0</td><td>Kizzy Brenner_Dustin Feagins@PF.com</td><td>0.69</td><td>Nigeria</td></tr><tr><td>28</td><td>Male</td><td>Paris Hutton</td><td>DB</td><td>6131084</td><td>82.0</td><td>Tijuana Kropf_Abram Nagao@MVC.com</td><td>0.82</td><td>Nigeria</td></tr><tr><td>29</td><td>Male</td><td>Jalisa Swenson</td><td>DB</td><td>6141407</td><td>107.0</td><td>Ernest Rossbach_Alberta Freund@DB.com</td><td>1.07</td><td>Nigeria</td></tr><tr><td>28</td><td>Female</td><td>Jenna Montague</td><td>DSA</td><td>6152830</td><td>91.0</td><td>Gonzalo Ferebee_Lawanda Wohlwend@DB.com</td><td>0.91</td><td>Nigeria</td></tr><tr><td>29</td><td>Female</td><td>Jalisa Swenson</td><td>Cloud</td><td>6161884</td><td>50.0</td><td>Bonita Higuera_Latia Vanhoose@OOP.com</td><td>0.5</td><td>Nigeria</td></tr><tr><td>29</td><td>Male</td><td>Jc Andrepont</td><td>Cloud</td><td>6171781</td><td>98.0</td><td>Gonzalo Ferebee_Claude Panos@DB.com</td><td>0.98</td><td>Nigeria</td></tr><tr><td>29</td><td>Female</td><td>Abram Nagao</td><td>PF</td><td>6182152</td><td>60.0</td><td>Santa Kerfien_Claude Panos@DB.com</td><td>0.6</td><td>Nigeria</td></tr><tr><td>28</td><td>Female</td><td>Cheri Kenney</td><td>Cloud</td><td>6192920</td><td>50.0</td><td>Maybell Duguay_Neda Briski@OOP.com</td><td>0.5</td><td>Nigeria</td></tr><tr><td>28</td><td>Female</td><td>Kena Wild</td><td>DSA</td><td>6201485</td><td>95.0</td><td>Niki Klimek_Clementina Menke@MVC.com</td><td>0.95</td><td>Nigeria</td></tr><tr><td>29</td><td>Female</td><td>Loris Crossett</td><td>DB</td><td>6212990</td><td>49.0</td><td>Melani Engberg_Paris Hutton@Cloud.com</td><td>0.49</td><td>Nigeria</td></tr><tr><td>29</td><td>Female</td><td>Kizzy Brenner</td><td>DB</td><td>6222425</td><td>79.0</td><td>Margene Moores_Sebrina Maresca@MVC.com</td><td>0.79</td><td>Nigeria</td></tr><tr><td>29</td><td>Male</td><td>Neda Briski</td><td>DSA</td><td>6231956</td><td>85.0</td><td>Nicole Harwood_Santa Kerfien@Cloud.com</td><td>0.85</td><td>Nigeria</td></tr><tr><td>28</td><td>Female</td><td>Billi Clore</td><td>DSA</td><td>6242097</td><td>107.0</td><td>Jeannetta Golden_Maybell Duguay@DSA.com</td><td>1.07</td><td>Nigeria</td></tr><tr><td>29</td><td>Male</td><td>Melani Engberg</td><td>PF</td><td>6252274</td><td>74.0</td><td>Latia Vanhoose_Paris Hutton@OOP.com</td><td>0.74</td><td>Nigeria</td></tr><tr><td>28</td><td>Female</td><td>Judie Chipps</td><td>Cloud</td><td>6261948</td><td>90.0</td><td>Eda Neathery_Priscila Tavernier@MVC.com</td><td>0.9</td><td>Nigeria</td></tr><tr><td>28</td><td>Female</td><td>Sheryll Towler</td><td>DB</td><td>6271754</td><td>53.0</td><td>Elenore Choy_Melani Engberg@MVC.com</td><td>0.53</td><td>Nigeria</td></tr><tr><td>28</td><td>Male</td><td>Tijuana Kropf</td><td>Cloud</td><td>6281730</td><td>93.0</td><td>Mickey Cortright_Celeste Lollis@Cloud.com</td><td>0.93</td><td>Nigeria</td></tr><tr><td>28</td><td>Male</td><td>Alberta Freund</td><td>PF</td><td>6291431</td><td>78.0</td><td>Clementina Menke_Billi Clore@PF.com</td><td>0.78</td><td>Nigeria</td></tr><tr><td>28</td><td>Female</td><td>Maybell Duguay</td><td>DB</td><td>6301666</td><td>98.0</td><td>Latia Vanhoose_Jc Andrepont@Cloud.com</td><td>0.98</td><td>Nigeria</td></tr><tr><td>29</td><td>Male</td><td>Eda Neathery</td><td>DB</td><td>6311969</td><td>93.0</td><td>Clementina Menke_Neda Briski@DB.com</td><td>0.93</td><td>Nigeria</td></tr><tr><td>29</td><td>Male</td><td>Claude Panos</td><td>OOP</td><td>6321119</td><td>45.0</td><td>Bonita Higuera_Eda Neathery@DSA.com</td><td>0.45</td><td>Nigeria</td></tr><tr><td>29</td><td>Female</td><td>Dustin Feagins</td><td>PF</td><td>6331469</td><td>61.0</td><td>Melani Engberg_Margene Moores@MVC.com</td><td>0.61</td><td>Nigeria</td></tr><tr><td>28</td><td>Female</td><td>Dustin Feagins</td><td>OOP</td><td>6341113</td><td>35.0</td><td>Latia Vanhoose_Jenna Montague@OOP.com</td><td>0.35</td><td>Nigeria</td></tr><tr><td>28</td><td>Male</td><td>Alberta Freund</td><td>PF</td><td>6352910</td><td>62.0</td><td>Judie Chipps_Maybell Duguay@Cloud.com</td><td>0.62</td><td>Nigeria</td></tr><tr><td>28</td><td>Female</td><td>Michelle Ruggiero</td><td>Cloud</td><td>6362263</td><td>76.0</td><td>Sheryll Towler_Donna Yerby@Cloud.com</td><td>0.76</td><td>Nigeria</td></tr><tr><td>29</td><td>Male</td><td>Toshiko Hillyard</td><td>DSA</td><td>6371328</td><td>101.0</td><td>Somer Stoecker_Maybell Duguay@OOP.com</td><td>1.01</td><td>Nigeria</td></tr><tr><td>28</td><td>Male</td><td>Annika Hoffman</td><td>MVC</td><td>6381719</td><td>58.0</td><td>Ernest Rossbach_Jc Andrepont@DSA.com</td><td>0.58</td><td>Nigeria</td></tr><tr><td>28</td><td>Male</td><td>Lawanda Wohlwend</td><td>Cloud</td><td>6391977</td><td>49.0</td><td>Marylee Capasso_Melani Engberg@MVC.com</td><td>0.49</td><td>Nigeria</td></tr><tr><td>28</td><td>Female</td><td>Eda Neathery</td><td>PF</td><td>6402146</td><td>88.0</td><td>Sheryll Towler_Somer Stoecker@PF.com</td><td>0.88</td><td>Nigeria</td></tr><tr><td>29</td><td>Female</td><td>Eda Neathery</td><td>DSA</td><td>6412002</td><td>105.0</td><td>Sebrina Maresca_Hubert Oliveras@Cloud.com</td><td>1.05</td><td>Nigeria</td></tr><tr><td>28</td><td>Male</td><td>Naoma Fritts</td><td>DB</td><td>6422790</td><td>105.0</td><td>Sheryll Towler_Ernest Rossbach@DSA.com</td><td>1.05</td><td>Nigeria</td></tr><tr><td>29</td><td>Male</td><td>Elenore Choy</td><td>PF</td><td>6431645</td><td>63.0</td><td>Loris Crossett_Kena Wild@MVC.com</td><td>0.63</td><td>Nigeria</td></tr><tr><td>28</td><td>Male</td><td>Leontine Phillips</td><td>PF</td><td>6442094</td><td>88.0</td><td>Michelle Ruggiero_Paris Hutton@OOP.com</td><td>0.88</td><td>Nigeria</td></tr><tr><td>29</td><td>Female</td><td>Maybell Duguay</td><td>MVC</td><td>6451082</td><td>43.0</td><td>Lawanda Wohlwend_Mitzi Seldon@DB.com</td><td>0.43</td><td>Nigeria</td></tr><tr><td>29</td><td>Female</td><td>Niki Klimek</td><td>PF</td><td>6462485</td><td>94.0</td><td>Tamera Blakley_Niki Klimek@Cloud.com</td><td>0.94</td><td>Nigeria</td></tr><tr><td>28</td><td>Male</td><td>Taryn Brownlee</td><td>PF</td><td>6471481</td><td>86.0</td><td>Annika Hoffman_Donna Yerby@OOP.com</td><td>0.86</td><td>Nigeria</td></tr><tr><td>29</td><td>Female</td><td>Claude Panos</td><td>Cloud</td><td>6482574</td><td>77.0</td><td>Eda Neathery_Billi Clore@Cloud.com</td><td>0.77</td><td>Nigeria</td></tr><tr><td>29</td><td>Male</td><td>Bonita Higuera</td><td>MVC</td><td>6491656</td><td>55.0</td><td>Neda Briski_Naoma Fritts@DB.com</td><td>0.55</td><td>Nigeria</td></tr><tr><td>28</td><td>Male</td><td>Jalisa Swenson</td><td>MVC</td><td>6501571</td><td>81.0</td><td>Naoma Fritts_Niki Klimek@MVC.com</td><td>0.81</td><td>Nigeria</td></tr><tr><td>29</td><td>Male</td><td>Judie Chipps</td><td>Cloud</td><td>6511826</td><td>84.0</td><td>Clementina Menke_Judie Chipps@DSA.com</td><td>0.84</td><td>Nigeria</td></tr><tr><td>28</td><td>Female</td><td>Nicole Harwood</td><td>DB</td><td>6522046</td><td>89.0</td><td>Naoma Fritts_Margene Moores@DSA.com</td><td>0.89</td><td>Nigeria</td></tr><tr><td>29</td><td>Male</td><td>Somer Stoecker</td><td>DSA</td><td>6531094</td><td>91.0</td><td>Dustin Feagins_Kena Wild@MVC.com</td><td>0.91</td><td>Nigeria</td></tr><tr><td>28</td><td>Female</td><td>Priscila Tavernier</td><td>Cloud</td><td>6542640</td><td>37.0</td><td>Kizzy Brenner_Loris Crossett@Cloud.com</td><td>0.37</td><td>Nigeria</td></tr><tr><td>29</td><td>Male</td><td>Neda Briski</td><td>MVC</td><td>6552886</td><td>93.0</td><td>Abram Nagao_Marylee Capasso@OOP.com</td><td>0.93</td><td>Nigeria</td></tr><tr><td>28</td><td>Male</td><td>Cheri Kenney</td><td>Cloud</td><td>6562808</td><td>102.0</td><td>Donna Yerby_Dustin Feagins@PF.com</td><td>1.02</td><td>Nigeria</td></tr><tr><td>29</td><td>Male</td><td>Tijuana Kropf</td><td>PF</td><td>6572639</td><td>81.0</td><td>Sheryll Towler_Latia Vanhoose@PF.com</td><td>0.81</td><td>Nigeria</td></tr><tr><td>28</td><td>Female</td><td>Kizzy Brenner</td><td>DB</td><td>6582931</td><td>67.0</td><td>Alberta Freund_Jc Andrepont@PF.com</td><td>0.67</td><td>Nigeria</td></tr><tr><td>29</td><td>Female</td><td>Melani Engberg</td><td>Cloud</td><td>6592152</td><td>40.0</td><td>Gonzalo Ferebee_Hubert Oliveras@MVC.com</td><td>0.4</td><td>Nigeria</td></tr><tr><td>28</td><td>Male</td><td>Tamera Blakley</td><td>Cloud</td><td>6601939</td><td>44.0</td><td>Jenna Montague_Clementina Menke@Cloud.com</td><td>0.44</td><td>Nigeria</td></tr><tr><td>29</td><td>Male</td><td>Gonzalo Ferebee</td><td>DSA</td><td>6611648</td><td>76.0</td><td>Tijuana Kropf_Elenore Choy@OOP.com</td><td>0.76</td><td>Nigeria</td></tr><tr><td>29</td><td>Female</td><td>Jeannetta Golden</td><td>DSA</td><td>6621600</td><td>42.0</td><td>Dustin Feagins_Sheryll Towler@MVC.com</td><td>0.42</td><td>Nigeria</td></tr><tr><td>28</td><td>Male</td><td>Neda Briski</td><td>DB</td><td>6632463</td><td>58.0</td><td>Sheryll Towler_Dustin Feagins@Cloud.com</td><td>0.58</td><td>Nigeria</td></tr><tr><td>28</td><td>Male</td><td>Maybell Duguay</td><td>MVC</td><td>6642438</td><td>66.0</td><td>Margene Moores_Bonita Higuera@DB.com</td><td>0.66</td><td>Nigeria</td></tr><tr><td>28</td><td>Male</td><td>Naoma Fritts</td><td>OOP</td><td>6652677</td><td>87.0</td><td>Lawanda Wohlwend_Billi Clore@MVC.com</td><td>0.87</td><td>Nigeria</td></tr><tr><td>29</td><td>Female</td><td>Margene Moores</td><td>OOP</td><td>6662414</td><td>70.0</td><td>Hubert Oliveras_Margene Moores@DSA.com</td><td>0.7</td><td>Nigeria</td></tr><tr><td>29</td><td>Female</td><td>Sheryll Towler</td><td>OOP</td><td>6672653</td><td>33.0</td><td>Jenna Montague_Santa Kerfien@PF.com</td><td>0.33</td><td>Nigeria</td></tr><tr><td>29</td><td>Male</td><td>Paris Hutton</td><td>PF</td><td>6682291</td><td>88.0</td><td>Margene Moores_Hubert Oliveras@PF.com</td><td>0.88</td><td>Nigeria</td></tr><tr><td>28</td><td>Female</td><td>Taryn Brownlee</td><td>Cloud</td><td>6692958</td><td>41.0</td><td>Cordie Harnois_Cheri Kenney@OOP.com</td><td>0.41</td><td>Nigeria</td></tr><tr><td>28</td><td>Female</td><td>Latia Vanhoose</td><td>Cloud</td><td>6701628</td><td>43.0</td><td>Abram Nagao_Cheri Kenney@DB.com</td><td>0.43</td><td>Nigeria</td></tr><tr><td>28</td><td>Female</td><td>Kizzy Brenner</td><td>Cloud</td><td>6711773</td><td>94.0</td><td>Leontine Phillips_Donna Yerby@DSA.com</td><td>0.94</td><td>Nigeria</td></tr><tr><td>28</td><td>Male</td><td>Paris Hutton</td><td>PF</td><td>6722224</td><td>100.0</td><td>Niki Klimek_Gonzalo Ferebee@Cloud.com</td><td>1.0</td><td>Nigeria</td></tr><tr><td>29</td><td>Female</td><td>Anna Santos</td><td>DB</td><td>6732334</td><td>55.0</td><td>Gonzalo Ferebee_Alberta Freund@DSA.com</td><td>0.55</td><td>Nigeria</td></tr><tr><td>29</td><td>Female</td><td>Judie Chipps</td><td>PF</td><td>6742197</td><td>72.0</td><td>Eda Neathery_Elenore Choy@MVC.com</td><td>0.72</td><td>Nigeria</td></tr><tr><td>28</td><td>Male</td><td>Donna Yerby</td><td>MVC</td><td>6752737</td><td>36.0</td><td>Mickey Cortright_Gonzalo Ferebee@DSA.com</td><td>0.36</td><td>Nigeria</td></tr><tr><td>28</td><td>Male</td><td>Anna Santos</td><td>OOP</td><td>6762411</td><td>91.0</td><td>Bonita Higuera_Annika Hoffman@Cloud.com</td><td>0.91</td><td>Nigeria</td></tr><tr><td>29</td><td>Female</td><td>Latia Vanhoose</td><td>MVC</td><td>6771882</td><td>59.0</td><td>Alberta Freund_Latia Vanhoose@DB.com</td><td>0.59</td><td>Nigeria</td></tr><tr><td>29</td><td>Female</td><td>Ernest Rossbach</td><td>PF</td><td>6782099</td><td>69.0</td><td>Claude Panos_Annika Hoffman@DSA.com</td><td>0.69</td><td>Nigeria</td></tr><tr><td>28</td><td>Male</td><td>Paris Hutton</td><td>MVC</td><td>6791398</td><td>73.0</td><td>Bonita Higuera_Billi Clore@OOP.com</td><td>0.73</td><td>Nigeria</td></tr><tr><td>29</td><td>Male</td><td>Billi Clore</td><td>Cloud</td><td>6802170</td><td>62.0</td><td>Dustin Feagins_Sebrina Maresca@DSA.com</td><td>0.62</td><td>Nigeria</td></tr><tr><td>29</td><td>Male</td><td>Tamera Blakley</td><td>DB</td><td>6811165</td><td>72.0</td><td>Annika Hoffman_Bonita Higuera@PF.com</td><td>0.72</td><td>Nigeria</td></tr><tr><td>29</td><td>Male</td><td>Tamera Blakley</td><td>Cloud</td><td>6822429</td><td>77.0</td><td>Donna Yerby_Cheri Kenney@DB.com</td><td>0.77</td><td>Nigeria</td></tr><tr><td>28</td><td>Female</td><td>Kena Wild</td><td>DSA</td><td>6831241</td><td>104.0</td><td>Loris Crossett_Leontine Phillips@OOP.com</td><td>1.04</td><td>Nigeria</td></tr><tr><td>29</td><td>Male</td><td>Neda Briski</td><td>OOP</td><td>6842985</td><td>90.0</td><td>Toshiko Hillyard_Cordie Harnois@MVC.com</td><td>0.9</td><td>Nigeria</td></tr><tr><td>29</td><td>Female</td><td>Donna Yerby</td><td>PF</td><td>6851744</td><td>69.0</td><td>Maybell Duguay_Hubert Oliveras@Cloud.com</td><td>0.69</td><td>Nigeria</td></tr><tr><td>29</td><td>Female</td><td>Mitzi Seldon</td><td>DB</td><td>6862019</td><td>88.0</td><td>Kena Wild_Celeste Lollis@DSA.com</td><td>0.88</td><td>Nigeria</td></tr><tr><td>29</td><td>Male</td><td>Margene Moores</td><td>DSA</td><td>6872276</td><td>99.0</td><td>Leontine Phillips_Annika Hoffman@PF.com</td><td>0.99</td><td>Nigeria</td></tr><tr><td>28</td><td>Female</td><td>Billi Clore</td><td>Cloud</td><td>6882495</td><td>56.0</td><td>Claude Panos_Latia Vanhoose@DSA.com</td><td>0.56</td><td>Nigeria</td></tr><tr><td>28</td><td>Female</td><td>Kizzy Brenner</td><td>DB</td><td>6892057</td><td>80.0</td><td>Priscila Tavernier_Judie Chipps@OOP.com</td><td>0.8</td><td>Nigeria</td></tr><tr><td>28</td><td>Male</td><td>Leontine Phillips</td><td>MVC</td><td>6902478</td><td>42.0</td><td>Melani Engberg_Ernest Rossbach@MVC.com</td><td>0.42</td><td>Nigeria</td></tr><tr><td>29</td><td>Female</td><td>Kena Wild</td><td>DB</td><td>6911600</td><td>83.0</td><td>Maybell Duguay_Latia Vanhoose@PF.com</td><td>0.83</td><td>Nigeria</td></tr><tr><td>28</td><td>Female</td><td>Paris Hutton</td><td>Cloud</td><td>6922359</td><td>56.0</td><td>Neda Briski_Dustin Feagins@DB.com</td><td>0.56</td><td>Nigeria</td></tr><tr><td>29</td><td>Female</td><td>Maybell Duguay</td><td>OOP</td><td>6931378</td><td>65.0</td><td>Toshiko Hillyard_Latia Vanhoose@DSA.com</td><td>0.65</td><td>Nigeria</td></tr><tr><td>29</td><td>Female</td><td>Sebrina Maresca</td><td>MVC</td><td>6941692</td><td>95.0</td><td>Billi Clore_Jc Andrepont@Cloud.com</td><td>0.95</td><td>Nigeria</td></tr><tr><td>28</td><td>Female</td><td>Tamera Blakley</td><td>DSA</td><td>6951836</td><td>91.0</td><td>Somer Stoecker_Donna Yerby@OOP.com</td><td>0.91</td><td>Nigeria</td></tr><tr><td>29</td><td>Male</td><td>Loris Crossett</td><td>MVC</td><td>6962740</td><td>105.0</td><td>Jeannetta Golden_Ernest Rossbach@OOP.com</td><td>1.05</td><td>Nigeria</td></tr><tr><td>28</td><td>Female</td><td>Niki Klimek</td><td>DSA</td><td>6971140</td><td>37.0</td><td>Leontine Phillips_Gonzalo Ferebee@MVC.com</td><td>0.37</td><td>Nigeria</td></tr><tr><td>28</td><td>Male</td><td>Elenore Choy</td><td>MVC</td><td>6982740</td><td>51.0</td><td>Latia Vanhoose_Leontine Phillips@PF.com</td><td>0.51</td><td>Nigeria</td></tr><tr><td>29</td><td>Male</td><td>Donna Yerby</td><td>DSA</td><td>6991370</td><td>101.0</td><td>Dustin Feagins_Abram Nagao@PF.com</td><td>1.01</td><td>Nigeria</td></tr><tr><td>29</td><td>Male</td><td>Santa Kerfien</td><td>OOP</td><td>7001706</td><td>87.0</td><td>Bonita Higuera_Nicole Harwood@DSA.com</td><td>0.87</td><td>Nigeria</td></tr><tr><td>28</td><td>Female</td><td>Judie Chipps</td><td>PF</td><td>7012144</td><td>98.0</td><td>Nicole Harwood_Tamera Blakley@PF.com</td><td>0.98</td><td>Nigeria</td></tr><tr><td>28</td><td>Female</td><td>Neda Briski</td><td>PF</td><td>7021987</td><td>72.0</td><td>Elenore Choy_Jenna Montague@DSA.com</td><td>0.72</td><td>Nigeria</td></tr><tr><td>29</td><td>Male</td><td>Tamera Blakley</td><td>DSA</td><td>7031305</td><td>67.0</td><td>Clementina Menke_Toshiko Hillyard@PF.com</td><td>0.67</td><td>Nigeria</td></tr><tr><td>29</td><td>Male</td><td>Cordie Harnois</td><td>DSA</td><td>7041544</td><td>107.0</td><td>Kizzy Brenner_Jalisa Swenson@OOP.com</td><td>1.07</td><td>Nigeria</td></tr><tr><td>28</td><td>Male</td><td>Leontine Phillips</td><td>Cloud</td><td>7051293</td><td>87.0</td><td>Bonita Higuera_Cheri Kenney@Cloud.com</td><td>0.87</td><td>Nigeria</td></tr><tr><td>29</td><td>Male</td><td>Margene Moores</td><td>MVC</td><td>7062262</td><td>69.0</td><td>Nicole Harwood_Michelle Ruggiero@Cloud.com</td><td>0.69</td><td>Nigeria</td></tr><tr><td>28</td><td>Female</td><td>Mickey Cortright</td><td>MVC</td><td>7071556</td><td>46.0</td><td>Priscila Tavernier_Nicole Harwood@OOP.com</td><td>0.46</td><td>Nigeria</td></tr><tr><td>29</td><td>Female</td><td>Annika Hoffman</td><td>MVC</td><td>7081972</td><td>105.0</td><td>Judie Chipps_Mitzi Seldon@OOP.com</td><td>1.05</td><td>Nigeria</td></tr><tr><td>28</td><td>Female</td><td>Ernest Rossbach</td><td>MVC</td><td>7091785</td><td>67.0</td><td>Loris Crossett_Billi Clore@PF.com</td><td>0.67</td><td>Nigeria</td></tr><tr><td>29</td><td>Male</td><td>Hubert Oliveras</td><td>OOP</td><td>7102834</td><td>54.0</td><td>Hubert Oliveras_Celeste Lollis@Cloud.com</td><td>0.54</td><td>Nigeria</td></tr><tr><td>29</td><td>Male</td><td>Eda Neathery</td><td>MVC</td><td>7111575</td><td>57.0</td><td>Anna Santos_Tamera Blakley@DSA.com</td><td>0.57</td><td>Nigeria</td></tr><tr><td>28</td><td>Female</td><td>Nicole Harwood</td><td>DSA</td><td>7121730</td><td>63.0</td><td>Michelle Ruggiero_Marylee Capasso@MVC.com</td><td>0.63</td><td>Nigeria</td></tr><tr><td>28</td><td>Female</td><td>Anna Santos</td><td>PF</td><td>7132856</td><td>40.0</td><td>Elenore Choy_Paris Hutton@DSA.com</td><td>0.4</td><td>Nigeria</td></tr><tr><td>29</td><td>Male</td><td>Cordie Harnois</td><td>Cloud</td><td>7141186</td><td>84.0</td><td>Paris Hutton_Marylee Capasso@PF.com</td><td>0.84</td><td>Nigeria</td></tr><tr><td>28</td><td>Female</td><td>Bonita Higuera</td><td>OOP</td><td>7151179</td><td>63.0</td><td>Taryn Brownlee_Sheryll Towler@Cloud.com</td><td>0.63</td><td>Nigeria</td></tr><tr><td>28</td><td>Male</td><td>Gonzalo Ferebee</td><td>OOP</td><td>7162059</td><td>33.0</td><td>Melani Engberg_Melani Engberg@DSA.com</td><td>0.33</td><td>Nigeria</td></tr><tr><td>28</td><td>Male</td><td>Clementina Menke</td><td>DB</td><td>7172058</td><td>72.0</td><td>Mitzi Seldon_Clementina Menke@MVC.com</td><td>0.72</td><td>Nigeria</td></tr><tr><td>29</td><td>Female</td><td>Jeannetta Golden</td><td>Cloud</td><td>7182144</td><td>80.0</td><td>Naoma Fritts_Niki Klimek@PF.com</td><td>0.8</td><td>Nigeria</td></tr><tr><td>28</td><td>Female</td><td>Melani Engberg</td><td>OOP</td><td>7192072</td><td>102.0</td><td>Cheri Kenney_Ernest Rossbach@DSA.com</td><td>1.02</td><td>Nigeria</td></tr><tr><td>29</td><td>Male</td><td>Sebrina Maresca</td><td>DSA</td><td>7202414</td><td>61.0</td><td>Ernest Rossbach_Jalisa Swenson@MVC.com</td><td>0.61</td><td>Nigeria</td></tr><tr><td>28</td><td>Male</td><td>Dustin Feagins</td><td>DSA</td><td>7212606</td><td>61.0</td><td>Cheri Kenney_Eda Neathery@DB.com</td><td>0.61</td><td>Nigeria</td></tr><tr><td>29</td><td>Female</td><td>Lawanda Wohlwend</td><td>Cloud</td><td>7222880</td><td>108.0</td><td>Sheryll Towler_Anna Santos@DB.com</td><td>1.08</td><td>Nigeria</td></tr><tr><td>28</td><td>Female</td><td>Clementina Menke</td><td>DSA</td><td>7231357</td><td>52.0</td><td>Judie Chipps_Cordie Harnois@MVC.com</td><td>0.52</td><td>Nigeria</td></tr><tr><td>28</td><td>Male</td><td>Leontine Phillips</td><td>DB</td><td>7242704</td><td>82.0</td><td>Maybell Duguay_Toshiko Hillyard@PF.com</td><td>0.82</td><td>Nigeria</td></tr><tr><td>28</td><td>Male</td><td>Taryn Brownlee</td><td>PF</td><td>7252400</td><td>87.0</td><td>Marylee Capasso_Jeannetta Golden@DB.com</td><td>0.87</td><td>Nigeria</td></tr><tr><td>28</td><td>Female</td><td>Lawanda Wohlwend</td><td>DB</td><td>7261840</td><td>91.0</td><td>Donna Yerby_Kizzy Brenner@Cloud.com</td><td>0.91</td><td>Nigeria</td></tr><tr><td>29</td><td>Female</td><td>Bonita Higuera</td><td>Cloud</td><td>7272043</td><td>82.0</td><td>Alberta Freund_Latia Vanhoose@PF.com</td><td>0.82</td><td>Nigeria</td></tr><tr><td>29</td><td>Male</td><td>Neda Briski</td><td>DSA</td><td>7282511</td><td>52.0</td><td>Jalisa Swenson_Naoma Fritts@MVC.com</td><td>0.52</td><td>Nigeria</td></tr><tr><td>28</td><td>Female</td><td>Clementina Menke</td><td>Cloud</td><td>7291419</td><td>56.0</td><td>Bonita Higuera_Naoma Fritts@OOP.com</td><td>0.56</td><td>Nigeria</td></tr><tr><td>28</td><td>Male</td><td>Sheryll Towler</td><td>Cloud</td><td>7301966</td><td>73.0</td><td>Jalisa Swenson_Leontine Phillips@DSA.com</td><td>0.73</td><td>Nigeria</td></tr><tr><td>28</td><td>Male</td><td>Taryn Brownlee</td><td>PF</td><td>7311546</td><td>37.0</td><td>Clementina Menke_Melani Engberg@MVC.com</td><td>0.37</td><td>Nigeria</td></tr><tr><td>28</td><td>Male</td><td>Cheri Kenney</td><td>OOP</td><td>7321040</td><td>93.0</td><td>Sheryll Towler_Judie Chipps@PF.com</td><td>0.93</td><td>Nigeria</td></tr><tr><td>28</td><td>Male</td><td>Marylee Capasso</td><td>DSA</td><td>7331984</td><td>80.0</td><td>Bonita Higuera_Melani Engberg@PF.com</td><td>0.8</td><td>Nigeria</td></tr><tr><td>29</td><td>Male</td><td>Tamera Blakley</td><td>OOP</td><td>7341268</td><td>31.0</td><td>Anna Santos_Naoma Fritts@OOP.com</td><td>0.31</td><td>Nigeria</td></tr><tr><td>29</td><td>Female</td><td>Jc Andrepont</td><td>OOP</td><td>7351315</td><td>94.0</td><td>Judie Chipps_Margene Moores@OOP.com</td><td>0.94</td><td>Nigeria</td></tr><tr><td>29</td><td>Male</td><td>Claude Panos</td><td>PF</td><td>7362772</td><td>102.0</td><td>Clementina Menke_Naoma Fritts@OOP.com</td><td>1.02</td><td>Nigeria</td></tr><tr><td>29</td><td>Male</td><td>Annika Hoffman</td><td>MVC</td><td>7372375</td><td>45.0</td><td>Sheryll Towler_Taryn Brownlee@MVC.com</td><td>0.45</td><td>Nigeria</td></tr><tr><td>28</td><td>Female</td><td>Latia Vanhoose</td><td>MVC</td><td>7381991</td><td>104.0</td><td>Eda Neathery_Michelle Ruggiero@MVC.com</td><td>1.04</td><td>Nigeria</td></tr><tr><td>29</td><td>Male</td><td>Margene Moores</td><td>MVC</td><td>7391087</td><td>69.0</td><td>Jc Andrepont_Latia Vanhoose@DSA.com</td><td>0.69</td><td>Nigeria</td></tr><tr><td>29</td><td>Female</td><td>Claude Panos</td><td>PF</td><td>7402827</td><td>92.0</td><td>Kizzy Brenner_Kena Wild@MVC.com</td><td>0.92</td><td>Nigeria</td></tr><tr><td>29</td><td>Female</td><td>Santa Kerfien</td><td>PF</td><td>7412168</td><td>34.0</td><td>Eda Neathery_Abram Nagao@Cloud.com</td><td>0.34</td><td>Nigeria</td></tr><tr><td>29</td><td>Male</td><td>Celeste Lollis</td><td>PF</td><td>7421417</td><td>93.0</td><td>Jc Andrepont_Maybell Duguay@PF.com</td><td>0.93</td><td>Nigeria</td></tr><tr><td>28</td><td>Female</td><td>Lawanda Wohlwend</td><td>DSA</td><td>7431179</td><td>101.0</td><td>Anna Santos_Neda Briski@DB.com</td><td>1.01</td><td>Nigeria</td></tr><tr><td>28</td><td>Female</td><td>Loris Crossett</td><td>Cloud</td><td>7441605</td><td>82.0</td><td>Sheryll Towler_Kena Wild@DB.com</td><td>0.82</td><td>Nigeria</td></tr><tr><td>28</td><td>Female</td><td>Taryn Brownlee</td><td>MVC</td><td>7452944</td><td>43.0</td><td>Elenore Choy_Jenna Montague@MVC.com</td><td>0.43</td><td>Nigeria</td></tr><tr><td>28</td><td>Male</td><td>Tijuana Kropf</td><td>MVC</td><td>7462328</td><td>42.0</td><td>Toshiko Hillyard_Tamera Blakley@DSA.com</td><td>0.42</td><td>Nigeria</td></tr><tr><td>29</td><td>Female</td><td>Melani Engberg</td><td>DB</td><td>7471313</td><td>87.0</td><td>Cheri Kenney_Celeste Lollis@PF.com</td><td>0.87</td><td>Nigeria</td></tr><tr><td>29</td><td>Female</td><td>Dustin Feagins</td><td>MVC</td><td>7481997</td><td>47.0</td><td>Mickey Cortright_Gonzalo Ferebee@MVC.com</td><td>0.47</td><td>Nigeria</td></tr><tr><td>28</td><td>Female</td><td>Eda Neathery</td><td>MVC</td><td>7491443</td><td>56.0</td><td>Neda Briski_Margene Moores@OOP.com</td><td>0.56</td><td>Nigeria</td></tr><tr><td>28</td><td>Male</td><td>Priscila Tavernier</td><td>MVC</td><td>7502427</td><td>107.0</td><td>Alberta Freund_Niki Klimek@OOP.com</td><td>1.07</td><td>Nigeria</td></tr><tr><td>28</td><td>Male</td><td>Hubert Oliveras</td><td>MVC</td><td>7512833</td><td>57.0</td><td>Loris Crossett_Jenna Montague@OOP.com</td><td>0.57</td><td>Nigeria</td></tr><tr><td>29</td><td>Female</td><td>Leontine Phillips</td><td>PF</td><td>7522221</td><td>62.0</td><td>Hubert Oliveras_Dustin Feagins@Cloud.com</td><td>0.62</td><td>Nigeria</td></tr><tr><td>28</td><td>Female</td><td>Melani Engberg</td><td>Cloud</td><td>7531661</td><td>35.0</td><td>Gonzalo Ferebee_Dustin Feagins@MVC.com</td><td>0.35</td><td>Nigeria</td></tr><tr><td>29</td><td>Female</td><td>Jalisa Swenson</td><td>DB</td><td>7542285</td><td>69.0</td><td>Maybell Duguay_Billi Clore@PF.com</td><td>0.69</td><td>Nigeria</td></tr><tr><td>28</td><td>Female</td><td>Cheri Kenney</td><td>DB</td><td>7551469</td><td>43.0</td><td>Paris Hutton_Annika Hoffman@OOP.com</td><td>0.43</td><td>Nigeria</td></tr><tr><td>28</td><td>Female</td><td>Santa Kerfien</td><td>MVC</td><td>7561491</td><td>78.0</td><td>Niki Klimek_Nicole Harwood@MVC.com</td><td>0.78</td><td>Nigeria</td></tr><tr><td>28</td><td>Male</td><td>Kizzy Brenner</td><td>MVC</td><td>7572603</td><td>70.0</td><td>Nicole Harwood_Sheryll Towler@MVC.com</td><td>0.7</td><td>Nigeria</td></tr><tr><td>28</td><td>Female</td><td>Taryn Brownlee</td><td>Cloud</td><td>7582853</td><td>86.0</td><td>Sebrina Maresca_Annika Hoffman@Cloud.com</td><td>0.86</td><td>Nigeria</td></tr><tr><td>28</td><td>Male</td><td>Melani Engberg</td><td>Cloud</td><td>7591331</td><td>93.0</td><td>Billi Clore_Neda Briski@DSA.com</td><td>0.93</td><td>Nigeria</td></tr><tr><td>28</td><td>Male</td><td>Michelle Ruggiero</td><td>OOP</td><td>7601079</td><td>92.0</td><td>Jenna Montague_Donna Yerby@DSA.com</td><td>0.92</td><td>Nigeria</td></tr><tr><td>29</td><td>Female</td><td>Anna Santos</td><td>DSA</td><td>7611959</td><td>47.0</td><td>Gonzalo Ferebee_Claude Panos@DB.com</td><td>0.47</td><td>Nigeria</td></tr><tr><td>29</td><td>Female</td><td>Kena Wild</td><td>DSA</td><td>7621891</td><td>79.0</td><td>Marylee Capasso_Marylee Capasso@DSA.com</td><td>0.79</td><td>Nigeria</td></tr><tr><td>29</td><td>Male</td><td>Lawanda Wohlwend</td><td>MVC</td><td>7631030</td><td>67.0</td><td>Mitzi Seldon_Sebrina Maresca@OOP.com</td><td>0.67</td><td>Nigeria</td></tr><tr><td>29</td><td>Male</td><td>Santa Kerfien</td><td>MVC</td><td>7642624</td><td>107.0</td><td>Santa Kerfien_Elenore Choy@Cloud.com</td><td>1.07</td><td>Nigeria</td></tr><tr><td>29</td><td>Female</td><td>Paris Hutton</td><td>MVC</td><td>7652057</td><td>77.0</td><td>Michelle Ruggiero_Anna Santos@PF.com</td><td>0.77</td><td>Nigeria</td></tr><tr><td>29</td><td>Male</td><td>Taryn Brownlee</td><td>MVC</td><td>7662789</td><td>70.0</td><td>Elenore Choy_Anna Santos@OOP.com</td><td>0.7</td><td>Nigeria</td></tr><tr><td>28</td><td>Male</td><td>Bonita Higuera</td><td>Cloud</td><td>7671835</td><td>31.0</td><td>Taryn Brownlee_Sebrina Maresca@PF.com</td><td>0.31</td><td>Nigeria</td></tr><tr><td>28</td><td>Female</td><td>Judie Chipps</td><td>DB</td><td>7682333</td><td>91.0</td><td>Toshiko Hillyard_Claude Panos@DB.com</td><td>0.91</td><td>Nigeria</td></tr><tr><td>29</td><td>Female</td><td>Celeste Lollis</td><td>Cloud</td><td>7691188</td><td>92.0</td><td>Mitzi Seldon_Jenna Montague@PF.com</td><td>0.92</td><td>Nigeria</td></tr><tr><td>28</td><td>Male</td><td>Mickey Cortright</td><td>DB</td><td>7702338</td><td>79.0</td><td>Latia Vanhoose_Jeannetta Golden@OOP.com</td><td>0.79</td><td>Nigeria</td></tr><tr><td>28</td><td>Female</td><td>Billi Clore</td><td>DB</td><td>7711330</td><td>74.0</td><td>Maybell Duguay_Ernest Rossbach@Cloud.com</td><td>0.74</td><td>Nigeria</td></tr><tr><td>29</td><td>Male</td><td>Latia Vanhoose</td><td>Cloud</td><td>7721956</td><td>55.0</td><td>Jalisa Swenson_Annika Hoffman@DB.com</td><td>0.55</td><td>Nigeria</td></tr><tr><td>29</td><td>Male</td><td>Sebrina Maresca</td><td>PF</td><td>7731207</td><td>79.0</td><td>Leontine Phillips_Kena Wild@DSA.com</td><td>0.79</td><td>Nigeria</td></tr><tr><td>28</td><td>Male</td><td>Latia Vanhoose</td><td>OOP</td><td>7741757</td><td>76.0</td><td>Loris Crossett_Naoma Fritts@DSA.com</td><td>0.76</td><td>Nigeria</td></tr><tr><td>28</td><td>Male</td><td>Anna Santos</td><td>DSA</td><td>7752196</td><td>102.0</td><td>Latia Vanhoose_Tamera Blakley@OOP.com</td><td>1.02</td><td>Nigeria</td></tr><tr><td>29</td><td>Female</td><td>Margene Moores</td><td>PF</td><td>7761927</td><td>42.0</td><td>Annika Hoffman_Taryn Brownlee@OOP.com</td><td>0.42</td><td>Nigeria</td></tr><tr><td>29</td><td>Female</td><td>Judie Chipps</td><td>DSA</td><td>7772671</td><td>61.0</td><td>Jenna Montague_Dustin Feagins@DB.com</td><td>0.61</td><td>Nigeria</td></tr><tr><td>28</td><td>Female</td><td>Kena Wild</td><td>MVC</td><td>7781364</td><td>85.0</td><td>Claude Panos_Sebrina Maresca@DB.com</td><td>0.85</td><td>Nigeria</td></tr><tr><td>28</td><td>Male</td><td>Latia Vanhoose</td><td>DSA</td><td>7792270</td><td>47.0</td><td>Eda Neathery_Donna Yerby@DSA.com</td><td>0.47</td><td>Nigeria</td></tr><tr><td>29</td><td>Female</td><td>Cordie Harnois</td><td>Cloud</td><td>7801136</td><td>67.0</td><td>Nicole Harwood_Neda Briski@DSA.com</td><td>0.67</td><td>Nigeria</td></tr><tr><td>29</td><td>Male</td><td>Niki Klimek</td><td>DSA</td><td>7811347</td><td>52.0</td><td>Kena Wild_Maybell Duguay@DB.com</td><td>0.52</td><td>Nigeria</td></tr><tr><td>29</td><td>Female</td><td>Jalisa Swenson</td><td>Cloud</td><td>7821333</td><td>95.0</td><td>Priscila Tavernier_Clementina Menke@PF.com</td><td>0.95</td><td>Nigeria</td></tr><tr><td>28</td><td>Female</td><td>Marylee Capasso</td><td>Cloud</td><td>7831780</td><td>83.0</td><td>Ernest Rossbach_Michelle Ruggiero@DB.com</td><td>0.83</td><td>Nigeria</td></tr><tr><td>28</td><td>Female</td><td>Sebrina Maresca</td><td>PF</td><td>7841496</td><td>42.0</td><td>Alberta Freund_Mitzi Seldon@PF.com</td><td>0.42</td><td>Nigeria</td></tr><tr><td>29</td><td>Male</td><td>Niki Klimek</td><td>PF</td><td>7852889</td><td>58.0</td><td>Taryn Brownlee_Elenore Choy@PF.com</td><td>0.58</td><td>Nigeria</td></tr><tr><td>29</td><td>Male</td><td>Kena Wild</td><td>PF</td><td>7862418</td><td>66.0</td><td>Clementina Menke_Jalisa Swenson@DB.com</td><td>0.66</td><td>Nigeria</td></tr><tr><td>29</td><td>Male</td><td>Clementina Menke</td><td>DB</td><td>7872434</td><td>78.0</td><td>Jalisa Swenson_Alberta Freund@OOP.com</td><td>0.78</td><td>Nigeria</td></tr><tr><td>28</td><td>Male</td><td>Taryn Brownlee</td><td>Cloud</td><td>7881046</td><td>91.0</td><td>Eda Neathery_Dustin Feagins@MVC.com</td><td>0.91</td><td>Nigeria</td></tr><tr><td>29</td><td>Male</td><td>Alberta Freund</td><td>DSA</td><td>7891322</td><td>96.0</td><td>Maybell Duguay_Loris Crossett@PF.com</td><td>0.96</td><td>Nigeria</td></tr><tr><td>28</td><td>Male</td><td>Tamera Blakley</td><td>PF</td><td>7901879</td><td>67.0</td><td>Taryn Brownlee_Gonzalo Ferebee@PF.com</td><td>0.67</td><td>Nigeria</td></tr><tr><td>29</td><td>Female</td><td>Toshiko Hillyard</td><td>MVC</td><td>7912392</td><td>48.0</td><td>Kena Wild_Alberta Freund@Cloud.com</td><td>0.48</td><td>Nigeria</td></tr><tr><td>28</td><td>Male</td><td>Marylee Capasso</td><td>Cloud</td><td>7922051</td><td>102.0</td><td>Sebrina Maresca_Dustin Feagins@OOP.com</td><td>1.02</td><td>Nigeria</td></tr><tr><td>29</td><td>Female</td><td>Margene Moores</td><td>MVC</td><td>7932894</td><td>88.0</td><td>Mickey Cortright_Niki Klimek@OOP.com</td><td>0.88</td><td>Nigeria</td></tr><tr><td>29</td><td>Male</td><td>Celeste Lollis</td><td>MVC</td><td>7941313</td><td>99.0</td><td>Eda Neathery_Neda Briski@OOP.com</td><td>0.99</td><td>Nigeria</td></tr><tr><td>29</td><td>Male</td><td>Santa Kerfien</td><td>PF</td><td>7951241</td><td>41.0</td><td>Kena Wild_Niki Klimek@OOP.com</td><td>0.41</td><td>Nigeria</td></tr><tr><td>29</td><td>Male</td><td>Leontine Phillips</td><td>Cloud</td><td>7961043</td><td>36.0</td><td>Paris Hutton_Marylee Capasso@MVC.com</td><td>0.36</td><td>Nigeria</td></tr><tr><td>28</td><td>Male</td><td>Michelle Ruggiero</td><td>Cloud</td><td>7972167</td><td>79.0</td><td>Paris Hutton_Leontine Phillips@DB.com</td><td>0.79</td><td>Nigeria</td></tr><tr><td>28</td><td>Male</td><td>Margene Moores</td><td>MVC</td><td>7982164</td><td>94.0</td><td>Neda Briski_Celeste Lollis@Cloud.com</td><td>0.94</td><td>Nigeria</td></tr><tr><td>29</td><td>Male</td><td>Billi Clore</td><td>DB</td><td>7992784</td><td>68.0</td><td>Tamera Blakley_Dustin Feagins@MVC.com</td><td>0.68</td><td>Nigeria</td></tr><tr><td>29</td><td>Male</td><td>Ernest Rossbach</td><td>DB</td><td>8002285</td><td>86.0</td><td>Marylee Capasso_Naoma Fritts@DSA.com</td><td>0.86</td><td>Nigeria</td></tr><tr><td>28</td><td>Male</td><td>Santa Kerfien</td><td>OOP</td><td>8011750</td><td>57.0</td><td>Mitzi Seldon_Somer Stoecker@PF.com</td><td>0.57</td><td>Nigeria</td></tr><tr><td>29</td><td>Male</td><td>Jc Andrepont</td><td>OOP</td><td>8022618</td><td>107.0</td><td>Cordie Harnois_Jalisa Swenson@OOP.com</td><td>1.07</td><td>Nigeria</td></tr><tr><td>29</td><td>Female</td><td>Mickey Cortright</td><td>DB</td><td>8031057</td><td>76.0</td><td>Dustin Feagins_Tijuana Kropf@DB.com</td><td>0.76</td><td>Nigeria</td></tr><tr><td>29</td><td>Female</td><td>Eda Neathery</td><td>DSA</td><td>8042646</td><td>65.0</td><td>Abram Nagao_Donna Yerby@DB.com</td><td>0.65</td><td>Nigeria</td></tr><tr><td>28</td><td>Male</td><td>Jeannetta Golden</td><td>PF</td><td>8052474</td><td>48.0</td><td>Tamera Blakley_Sheryll Towler@DSA.com</td><td>0.48</td><td>Nigeria</td></tr><tr><td>29</td><td>Female</td><td>Lawanda Wohlwend</td><td>DSA</td><td>8061577</td><td>37.0</td><td>Anna Santos_Elenore Choy@MVC.com</td><td>0.37</td><td>Nigeria</td></tr><tr><td>28</td><td>Male</td><td>Cheri Kenney</td><td>Cloud</td><td>8071605</td><td>82.0</td><td>Maybell Duguay_Eda Neathery@MVC.com</td><td>0.82</td><td>Nigeria</td></tr><tr><td>29</td><td>Male</td><td>Celeste Lollis</td><td>MVC</td><td>8081881</td><td>97.0</td><td>Jenna Montague_Dustin Feagins@MVC.com</td><td>0.97</td><td>Nigeria</td></tr><tr><td>28</td><td>Male</td><td>Sebrina Maresca</td><td>DB</td><td>8092398</td><td>52.0</td><td>Claude Panos_Jc Andrepont@DB.com</td><td>0.52</td><td>Nigeria</td></tr><tr><td>28</td><td>Male</td><td>Bonita Higuera</td><td>Cloud</td><td>8101902</td><td>94.0</td><td>Jc Andrepont_Neda Briski@OOP.com</td><td>0.94</td><td>Nigeria</td></tr><tr><td>29</td><td>Male</td><td>Loris Crossett</td><td>PF</td><td>8111334</td><td>41.0</td><td>Jeannetta Golden_Mickey Cortright@DSA.com</td><td>0.41</td><td>Nigeria</td></tr><tr><td>29</td><td>Female</td><td>Nicole Harwood</td><td>PF</td><td>8121198</td><td>31.0</td><td>Bonita Higuera_Priscila Tavernier@Cloud.com</td><td>0.31</td><td>Nigeria</td></tr><tr><td>28</td><td>Female</td><td>Somer Stoecker</td><td>PF</td><td>8131896</td><td>50.0</td><td>Melani Engberg_Sheryll Towler@DSA.com</td><td>0.5</td><td>Nigeria</td></tr><tr><td>28</td><td>Male</td><td>Elenore Choy</td><td>OOP</td><td>8141533</td><td>38.0</td><td>Anna Santos_Dustin Feagins@MVC.com</td><td>0.38</td><td>Nigeria</td></tr><tr><td>28</td><td>Male</td><td>Annika Hoffman</td><td>MVC</td><td>8152949</td><td>72.0</td><td>Annika Hoffman_Naoma Fritts@MVC.com</td><td>0.72</td><td>Nigeria</td></tr><tr><td>29</td><td>Male</td><td>Leontine Phillips</td><td>Cloud</td><td>8162392</td><td>33.0</td><td>Clementina Menke_Neda Briski@Cloud.com</td><td>0.33</td><td>Nigeria</td></tr><tr><td>28</td><td>Male</td><td>Loris Crossett</td><td>OOP</td><td>8172914</td><td>108.0</td><td>Paris Hutton_Paris Hutton@OOP.com</td><td>1.08</td><td>Nigeria</td></tr><tr><td>28</td><td>Female</td><td>Nicole Harwood</td><td>DB</td><td>8181552</td><td>47.0</td><td>Hubert Oliveras_Gonzalo Ferebee@Cloud.com</td><td>0.47</td><td>Nigeria</td></tr><tr><td>29</td><td>Male</td><td>Hubert Oliveras</td><td>Cloud</td><td>8191045</td><td>39.0</td><td>Toshiko Hillyard_Leontine Phillips@DSA.com</td><td>0.39</td><td>Nigeria</td></tr><tr><td>29</td><td>Male</td><td>Eda Neathery</td><td>MVC</td><td>8202489</td><td>40.0</td><td>Jc Andrepont_Maybell Duguay@PF.com</td><td>0.4</td><td>Nigeria</td></tr><tr><td>28</td><td>Female</td><td>Leontine Phillips</td><td>OOP</td><td>8212555</td><td>61.0</td><td>Jenna Montague_Cheri Kenney@Cloud.com</td><td>0.61</td><td>Nigeria</td></tr><tr><td>29</td><td>Male</td><td>Melani Engberg</td><td>PF</td><td>8222832</td><td>54.0</td><td>Niki Klimek_Billi Clore@PF.com</td><td>0.54</td><td>Nigeria</td></tr><tr><td>29</td><td>Male</td><td>Loris Crossett</td><td>DSA</td><td>8232415</td><td>87.0</td><td>Priscila Tavernier_Kena Wild@DB.com</td><td>0.87</td><td>Nigeria</td></tr><tr><td>28</td><td>Male</td><td>Jeannetta Golden</td><td>Cloud</td><td>8242650</td><td>72.0</td><td>Dustin Feagins_Annika Hoffman@OOP.com</td><td>0.72</td><td>Nigeria</td></tr><tr><td>28</td><td>Female</td><td>Clementina Menke</td><td>OOP</td><td>8251736</td><td>58.0</td><td>Tamera Blakley_Loris Crossett@OOP.com</td><td>0.58</td><td>Nigeria</td></tr><tr><td>29</td><td>Female</td><td>Ernest Rossbach</td><td>DSA</td><td>8262618</td><td>44.0</td><td>Billi Clore_Clementina Menke@Cloud.com</td><td>0.44</td><td>Nigeria</td></tr><tr><td>28</td><td>Female</td><td>Sheryll Towler</td><td>DB</td><td>8271000</td><td>47.0</td><td>Neda Briski_Anna Santos@Cloud.com</td><td>0.47</td><td>Nigeria</td></tr><tr><td>29</td><td>Male</td><td>Billi Clore</td><td>OOP</td><td>8282116</td><td>82.0</td><td>Elenore Choy_Clementina Menke@PF.com</td><td>0.82</td><td>Nigeria</td></tr><tr><td>28</td><td>Male</td><td>Bonita Higuera</td><td>MVC</td><td>8291218</td><td>81.0</td><td>Jeannetta Golden_Sebrina Maresca@PF.com</td><td>0.81</td><td>Nigeria</td></tr><tr><td>29</td><td>Female</td><td>Tamera Blakley</td><td>OOP</td><td>8301646</td><td>73.0</td><td>Abram Nagao_Mitzi Seldon@DB.com</td><td>0.73</td><td>Nigeria</td></tr><tr><td>28</td><td>Female</td><td>Judie Chipps</td><td>DSA</td><td>8312884</td><td>98.0</td><td>Kena Wild_Clementina Menke@DB.com</td><td>0.98</td><td>Nigeria</td></tr><tr><td>28</td><td>Male</td><td>Paris Hutton</td><td>PF</td><td>8321357</td><td>87.0</td><td>Abram Nagao_Tamera Blakley@OOP.com</td><td>0.87</td><td>Nigeria</td></tr><tr><td>29</td><td>Male</td><td>Kena Wild</td><td>PF</td><td>8331264</td><td>56.0</td><td>Marylee Capasso_Celeste Lollis@DSA.com</td><td>0.56</td><td>Nigeria</td></tr><tr><td>29</td><td>Female</td><td>Elenore Choy</td><td>DSA</td><td>8342105</td><td>51.0</td><td>Abram Nagao_Nicole Harwood@Cloud.com</td><td>0.51</td><td>Nigeria</td></tr><tr><td>29</td><td>Female</td><td>Gonzalo Ferebee</td><td>Cloud</td><td>8352347</td><td>79.0</td><td>Neda Briski_Ernest Rossbach@Cloud.com</td><td>0.79</td><td>Nigeria</td></tr><tr><td>28</td><td>Male</td><td>Dustin Feagins</td><td>MVC</td><td>8361501</td><td>63.0</td><td>Billi Clore_Kizzy Brenner@MVC.com</td><td>0.63</td><td>Nigeria</td></tr><tr><td>28</td><td>Male</td><td>Clementina Menke</td><td>Cloud</td><td>8372528</td><td>53.0</td><td>Tamera Blakley_Somer Stoecker@MVC.com</td><td>0.53</td><td>Nigeria</td></tr><tr><td>28</td><td>Male</td><td>Priscila Tavernier</td><td>OOP</td><td>8382954</td><td>103.0</td><td>Jeannetta Golden_Kizzy Brenner@Cloud.com</td><td>1.03</td><td>Nigeria</td></tr><tr><td>29</td><td>Female</td><td>Gonzalo Ferebee</td><td>MVC</td><td>8392287</td><td>91.0</td><td>Santa Kerfien_Neda Briski@OOP.com</td><td>0.91</td><td>Nigeria</td></tr><tr><td>28</td><td>Female</td><td>Paris Hutton</td><td>PF</td><td>8401106</td><td>61.0</td><td>Maybell Duguay_Michelle Ruggiero@DB.com</td><td>0.61</td><td>Nigeria</td></tr><tr><td>28</td><td>Male</td><td>Mickey Cortright</td><td>DB</td><td>8411430</td><td>80.0</td><td>Hubert Oliveras_Ernest Rossbach@PF.com</td><td>0.8</td><td>Nigeria</td></tr><tr><td>28</td><td>Female</td><td>Bonita Higuera</td><td>DSA</td><td>8421653</td><td>106.0</td><td>Annika Hoffman_Bonita Higuera@Cloud.com</td><td>1.06</td><td>Nigeria</td></tr><tr><td>28</td><td>Female</td><td>Taryn Brownlee</td><td>OOP</td><td>8431353</td><td>73.0</td><td>Neda Briski_Cordie Harnois@Cloud.com</td><td>0.73</td><td>Nigeria</td></tr><tr><td>28</td><td>Female</td><td>Eda Neathery</td><td>DSA</td><td>8441503</td><td>88.0</td><td>Jalisa Swenson_Mitzi Seldon@MVC.com</td><td>0.88</td><td>Nigeria</td></tr><tr><td>29</td><td>Female</td><td>Cordie Harnois</td><td>OOP</td><td>8452121</td><td>94.0</td><td>Kena Wild_Dustin Feagins@DB.com</td><td>0.94</td><td>Nigeria</td></tr><tr><td>29</td><td>Female</td><td>Mickey Cortright</td><td>OOP</td><td>8462156</td><td>87.0</td><td>Elenore Choy_Tijuana Kropf@Cloud.com</td><td>0.87</td><td>Nigeria</td></tr><tr><td>28</td><td>Male</td><td>Kena Wild</td><td>DB</td><td>8471833</td><td>46.0</td><td>Tamera Blakley_Jeannetta Golden@OOP.com</td><td>0.46</td><td>Nigeria</td></tr><tr><td>28</td><td>Male</td><td>Anna Santos</td><td>MVC</td><td>8482305</td><td>63.0</td><td>Sheryll Towler_Kizzy Brenner@PF.com</td><td>0.63</td><td>Nigeria</td></tr><tr><td>28</td><td>Female</td><td>Ernest Rossbach</td><td>DSA</td><td>8492768</td><td>71.0</td><td>Jenna Montague_Elenore Choy@DSA.com</td><td>0.71</td><td>Nigeria</td></tr><tr><td>29</td><td>Female</td><td>Annika Hoffman</td><td>MVC</td><td>8502572</td><td>81.0</td><td>Sebrina Maresca_Jeannetta Golden@Cloud.com</td><td>0.81</td><td>Nigeria</td></tr><tr><td>29</td><td>Female</td><td>Mickey Cortright</td><td>OOP</td><td>8511805</td><td>57.0</td><td>Latia Vanhoose_Somer Stoecker@OOP.com</td><td>0.57</td><td>Nigeria</td></tr><tr><td>28</td><td>Male</td><td>Tijuana Kropf</td><td>DB</td><td>8522175</td><td>97.0</td><td>Mickey Cortright_Claude Panos@MVC.com</td><td>0.97</td><td>Nigeria</td></tr><tr><td>28</td><td>Female</td><td>Elenore Choy</td><td>MVC</td><td>8532574</td><td>86.0</td><td>Tijuana Kropf_Loris Crossett@Cloud.com</td><td>0.86</td><td>Nigeria</td></tr><tr><td>28</td><td>Male</td><td>Loris Crossett</td><td>MVC</td><td>8541796</td><td>100.0</td><td>Clementina Menke_Michelle Ruggiero@Cloud.com</td><td>1.0</td><td>Nigeria</td></tr><tr><td>28</td><td>Female</td><td>Leontine Phillips</td><td>MVC</td><td>8551036</td><td>41.0</td><td>Celeste Lollis_Anna Santos@MVC.com</td><td>0.41</td><td>Nigeria</td></tr><tr><td>29</td><td>Female</td><td>Dustin Feagins</td><td>DB</td><td>8561099</td><td>42.0</td><td>Margene Moores_Margene Moores@Cloud.com</td><td>0.42</td><td>Nigeria</td></tr><tr><td>28</td><td>Male</td><td>Anna Santos</td><td>Cloud</td><td>8571411</td><td>104.0</td><td>Jc Andrepont_Cordie Harnois@OOP.com</td><td>1.04</td><td>Nigeria</td></tr><tr><td>29</td><td>Female</td><td>Loris Crossett</td><td>DSA</td><td>8581552</td><td>96.0</td><td>Taryn Brownlee_Elenore Choy@Cloud.com</td><td>0.96</td><td>Nigeria</td></tr><tr><td>29</td><td>Male</td><td>Cordie Harnois</td><td>MVC</td><td>8592355</td><td>105.0</td><td>Ernest Rossbach_Tijuana Kropf@OOP.com</td><td>1.05</td><td>Nigeria</td></tr><tr><td>29</td><td>Female</td><td>Taryn Brownlee</td><td>OOP</td><td>8602786</td><td>50.0</td><td>Elenore Choy_Ernest Rossbach@DB.com</td><td>0.5</td><td>Nigeria</td></tr><tr><td>28</td><td>Male</td><td>Naoma Fritts</td><td>DB</td><td>8611528</td><td>99.0</td><td>Nicole Harwood_Clementina Menke@MVC.com</td><td>0.99</td><td>Nigeria</td></tr><tr><td>29</td><td>Male</td><td>Marylee Capasso</td><td>Cloud</td><td>8622148</td><td>39.0</td><td>Hubert Oliveras_Claude Panos@Cloud.com</td><td>0.39</td><td>Nigeria</td></tr><tr><td>29</td><td>Female</td><td>Clementina Menke</td><td>PF</td><td>8632774</td><td>43.0</td><td>Dustin Feagins_Latia Vanhoose@PF.com</td><td>0.43</td><td>Nigeria</td></tr><tr><td>29</td><td>Female</td><td>Sheryll Towler</td><td>Cloud</td><td>8641804</td><td>41.0</td><td>Somer Stoecker_Marylee Capasso@PF.com</td><td>0.41</td><td>Nigeria</td></tr><tr><td>29</td><td>Male</td><td>Cheri Kenney</td><td>DB</td><td>8652382</td><td>46.0</td><td>Santa Kerfien_Cordie Harnois@Cloud.com</td><td>0.46</td><td>Nigeria</td></tr><tr><td>28</td><td>Female</td><td>Loris Crossett</td><td>OOP</td><td>8661474</td><td>82.0</td><td>Neda Briski_Jeannetta Golden@DB.com</td><td>0.82</td><td>Nigeria</td></tr><tr><td>29</td><td>Male</td><td>Alberta Freund</td><td>Cloud</td><td>8671926</td><td>95.0</td><td>Paris Hutton_Somer Stoecker@PF.com</td><td>0.95</td><td>Nigeria</td></tr><tr><td>28</td><td>Male</td><td>Neda Briski</td><td>OOP</td><td>8681708</td><td>44.0</td><td>Jenna Montague_Lawanda Wohlwend@OOP.com</td><td>0.44</td><td>Nigeria</td></tr><tr><td>28</td><td>Male</td><td>Nicole Harwood</td><td>MVC</td><td>8692811</td><td>73.0</td><td>Neda Briski_Kena Wild@Cloud.com</td><td>0.73</td><td>Nigeria</td></tr><tr><td>29</td><td>Male</td><td>Donna Yerby</td><td>DB</td><td>8701973</td><td>43.0</td><td>Priscila Tavernier_Mitzi Seldon@DB.com</td><td>0.43</td><td>Nigeria</td></tr><tr><td>28</td><td>Female</td><td>Melani Engberg</td><td>DSA</td><td>8712604</td><td>79.0</td><td>Celeste Lollis_Claude Panos@MVC.com</td><td>0.79</td><td>Nigeria</td></tr><tr><td>29</td><td>Female</td><td>Neda Briski</td><td>DB</td><td>8722464</td><td>40.0</td><td>Mickey Cortright_Anna Santos@OOP.com</td><td>0.4</td><td>Nigeria</td></tr><tr><td>28</td><td>Female</td><td>Somer Stoecker</td><td>OOP</td><td>8732476</td><td>75.0</td><td>Annika Hoffman_Anna Santos@DB.com</td><td>0.75</td><td>Nigeria</td></tr><tr><td>29</td><td>Male</td><td>Maybell Duguay</td><td>PF</td><td>8741191</td><td>89.0</td><td>Judie Chipps_Niki Klimek@OOP.com</td><td>0.89</td><td>Nigeria</td></tr><tr><td>29</td><td>Male</td><td>Cheri Kenney</td><td>MVC</td><td>8752460</td><td>94.0</td><td>Cordie Harnois_Jeannetta Golden@PF.com</td><td>0.94</td><td>Nigeria</td></tr><tr><td>29</td><td>Male</td><td>Celeste Lollis</td><td>MVC</td><td>8762292</td><td>45.0</td><td>Clementina Menke_Tijuana Kropf@DB.com</td><td>0.45</td><td>Nigeria</td></tr><tr><td>29</td><td>Female</td><td>Annika Hoffman</td><td>OOP</td><td>8772154</td><td>89.0</td><td>Tijuana Kropf_Cordie Harnois@DSA.com</td><td>0.89</td><td>Nigeria</td></tr><tr><td>29</td><td>Male</td><td>Niki Klimek</td><td>Cloud</td><td>8782036</td><td>82.0</td><td>Clementina Menke_Taryn Brownlee@MVC.com</td><td>0.82</td><td>Nigeria</td></tr><tr><td>29</td><td>Male</td><td>Billi Clore</td><td>MVC</td><td>8792432</td><td>89.0</td><td>Anna Santos_Jalisa Swenson@Cloud.com</td><td>0.89</td><td>Nigeria</td></tr><tr><td>28</td><td>Female</td><td>Toshiko Hillyard</td><td>MVC</td><td>8801160</td><td>96.0</td><td>Neda Briski_Donna Yerby@DB.com</td><td>0.96</td><td>Nigeria</td></tr><tr><td>29</td><td>Male</td><td>Mitzi Seldon</td><td>DB</td><td>8811681</td><td>56.0</td><td>Ernest Rossbach_Eda Neathery@MVC.com</td><td>0.56</td><td>Nigeria</td></tr><tr><td>28</td><td>Male</td><td>Tijuana Kropf</td><td>Cloud</td><td>8822597</td><td>41.0</td><td>Lawanda Wohlwend_Eda Neathery@MVC.com</td><td>0.41</td><td>Nigeria</td></tr><tr><td>28</td><td>Female</td><td>Nicole Harwood</td><td>MVC</td><td>8831173</td><td>37.0</td><td>Gonzalo Ferebee_Dustin Feagins@OOP.com</td><td>0.37</td><td>Nigeria</td></tr><tr><td>29</td><td>Female</td><td>Claude Panos</td><td>OOP</td><td>8842014</td><td>40.0</td><td>Annika Hoffman_Jenna Montague@Cloud.com</td><td>0.4</td><td>Nigeria</td></tr><tr><td>28</td><td>Male</td><td>Annika Hoffman</td><td>Cloud</td><td>8852570</td><td>92.0</td><td>Kizzy Brenner_Claude Panos@MVC.com</td><td>0.92</td><td>Nigeria</td></tr><tr><td>28</td><td>Female</td><td>Nicole Harwood</td><td>Cloud</td><td>8862840</td><td>77.0</td><td>Claude Panos_Claude Panos@DSA.com</td><td>0.77</td><td>Nigeria</td></tr><tr><td>28</td><td>Male</td><td>Dustin Feagins</td><td>DB</td><td>8871049</td><td>108.0</td><td>Jenna Montague_Claude Panos@DSA.com</td><td>1.08</td><td>Nigeria</td></tr><tr><td>29</td><td>Male</td><td>Nicole Harwood</td><td>MVC</td><td>8882981</td><td>42.0</td><td>Santa Kerfien_Eda Neathery@OOP.com</td><td>0.42</td><td>Nigeria</td></tr><tr><td>29</td><td>Male</td><td>Marylee Capasso</td><td>OOP</td><td>8891960</td><td>39.0</td><td>Mickey Cortright_Billi Clore@PF.com</td><td>0.39</td><td>Nigeria</td></tr><tr><td>28</td><td>Male</td><td>Somer Stoecker</td><td>DSA</td><td>8902098</td><td>83.0</td><td>Nicole Harwood_Paris Hutton@PF.com</td><td>0.83</td><td>Nigeria</td></tr><tr><td>28</td><td>Male</td><td>Celeste Lollis</td><td>PF</td><td>8911713</td><td>103.0</td><td>Hubert Oliveras_Mitzi Seldon@DB.com</td><td>1.03</td><td>Nigeria</td></tr><tr><td>28</td><td>Male</td><td>Mitzi Seldon</td><td>Cloud</td><td>8922149</td><td>75.0</td><td>Maybell Duguay_Hubert Oliveras@PF.com</td><td>0.75</td><td>Nigeria</td></tr><tr><td>28</td><td>Male</td><td>Billi Clore</td><td>OOP</td><td>8932725</td><td>69.0</td><td>Kizzy Brenner_Latia Vanhoose@PF.com</td><td>0.69</td><td>Nigeria</td></tr><tr><td>29</td><td>Female</td><td>Gonzalo Ferebee</td><td>Cloud</td><td>8942812</td><td>97.0</td><td>Michelle Ruggiero_Neda Briski@Cloud.com</td><td>0.97</td><td>Nigeria</td></tr><tr><td>29</td><td>Female</td><td>Annika Hoffman</td><td>DSA</td><td>8951068</td><td>104.0</td><td>Neda Briski_Abram Nagao@OOP.com</td><td>1.04</td><td>Nigeria</td></tr><tr><td>28</td><td>Female</td><td>Leontine Phillips</td><td>Cloud</td><td>8962531</td><td>94.0</td><td>Tamera Blakley_Marylee Capasso@Cloud.com</td><td>0.94</td><td>Nigeria</td></tr><tr><td>28</td><td>Male</td><td>Ernest Rossbach</td><td>MVC</td><td>8972546</td><td>72.0</td><td>Sheryll Towler_Jeannetta Golden@PF.com</td><td>0.72</td><td>Nigeria</td></tr><tr><td>28</td><td>Male</td><td>Kizzy Brenner</td><td>OOP</td><td>8981887</td><td>37.0</td><td>Naoma Fritts_Mitzi Seldon@DB.com</td><td>0.37</td><td>Nigeria</td></tr><tr><td>28</td><td>Male</td><td>Elenore Choy</td><td>DSA</td><td>8991321</td><td>67.0</td><td>Celeste Lollis_Margene Moores@DB.com</td><td>0.67</td><td>Nigeria</td></tr><tr><td>29</td><td>Male</td><td>Santa Kerfien</td><td>DSA</td><td>9002004</td><td>37.0</td><td>Jeannetta Golden_Clementina Menke@MVC.com</td><td>0.37</td><td>Nigeria</td></tr><tr><td>28</td><td>Female</td><td>Lawanda Wohlwend</td><td>OOP</td><td>9011862</td><td>58.0</td><td>Jalisa Swenson_Gonzalo Ferebee@OOP.com</td><td>0.58</td><td>Nigeria</td></tr><tr><td>29</td><td>Male</td><td>Elenore Choy</td><td>DB</td><td>9021601</td><td>56.0</td><td>Clementina Menke_Mickey Cortright@PF.com</td><td>0.56</td><td>Nigeria</td></tr><tr><td>28</td><td>Male</td><td>Alberta Freund</td><td>DSA</td><td>9031966</td><td>66.0</td><td>Niki Klimek_Alberta Freund@PF.com</td><td>0.66</td><td>Nigeria</td></tr><tr><td>29</td><td>Male</td><td>Celeste Lollis</td><td>Cloud</td><td>9042870</td><td>62.0</td><td>Bonita Higuera_Jeannetta Golden@PF.com</td><td>0.62</td><td>Nigeria</td></tr><tr><td>29</td><td>Male</td><td>Sheryll Towler</td><td>MVC</td><td>9052132</td><td>98.0</td><td>Jeannetta Golden_Donna Yerby@DB.com</td><td>0.98</td><td>Nigeria</td></tr><tr><td>29</td><td>Female</td><td>Jalisa Swenson</td><td>DSA</td><td>9061384</td><td>51.0</td><td>Jenna Montague_Melani Engberg@DSA.com</td><td>0.51</td><td>Nigeria</td></tr><tr><td>29</td><td>Male</td><td>Celeste Lollis</td><td>Cloud</td><td>9072506</td><td>91.0</td><td>Celeste Lollis_Cordie Harnois@Cloud.com</td><td>0.91</td><td>Nigeria</td></tr><tr><td>29</td><td>Female</td><td>Ernest Rossbach</td><td>Cloud</td><td>9082371</td><td>89.0</td><td>Jalisa Swenson_Mitzi Seldon@DB.com</td><td>0.89</td><td>Nigeria</td></tr><tr><td>29</td><td>Female</td><td>Annika Hoffman</td><td>OOP</td><td>9091099</td><td>99.0</td><td>Kizzy Brenner_Jeannetta Golden@MVC.com</td><td>0.99</td><td>Nigeria</td></tr><tr><td>29</td><td>Male</td><td>Gonzalo Ferebee</td><td>Cloud</td><td>9102078</td><td>55.0</td><td>Tamera Blakley_Melani Engberg@MVC.com</td><td>0.55</td><td>Nigeria</td></tr><tr><td>29</td><td>Female</td><td>Marylee Capasso</td><td>DSA</td><td>9112909</td><td>48.0</td><td>Priscila Tavernier_Hubert Oliveras@Cloud.com</td><td>0.48</td><td>Nigeria</td></tr><tr><td>29</td><td>Female</td><td>Lawanda Wohlwend</td><td>DSA</td><td>9122250</td><td>56.0</td><td>Jeannetta Golden_Sheryll Towler@DB.com</td><td>0.56</td><td>Nigeria</td></tr><tr><td>29</td><td>Female</td><td>Judie Chipps</td><td>MVC</td><td>9131672</td><td>45.0</td><td>Tijuana Kropf_Taryn Brownlee@DSA.com</td><td>0.45</td><td>Nigeria</td></tr><tr><td>28</td><td>Female</td><td>Taryn Brownlee</td><td>MVC</td><td>9142398</td><td>69.0</td><td>Lawanda Wohlwend_Billi Clore@Cloud.com</td><td>0.69</td><td>Nigeria</td></tr><tr><td>28</td><td>Male</td><td>Billi Clore</td><td>DB</td><td>9151306</td><td>31.0</td><td>Latia Vanhoose_Ernest Rossbach@DB.com</td><td>0.31</td><td>Nigeria</td></tr><tr><td>28</td><td>Female</td><td>Nicole Harwood</td><td>PF</td><td>9162701</td><td>71.0</td><td>Jc Andrepont_Jeannetta Golden@Cloud.com</td><td>0.71</td><td>Nigeria</td></tr><tr><td>28</td><td>Male</td><td>Claude Panos</td><td>OOP</td><td>9172978</td><td>70.0</td><td>Cordie Harnois_Tamera Blakley@DSA.com</td><td>0.7</td><td>Nigeria</td></tr><tr><td>28</td><td>Male</td><td>Cheri Kenney</td><td>DSA</td><td>9181598</td><td>54.0</td><td>Jc Andrepont_Maybell Duguay@OOP.com</td><td>0.54</td><td>Nigeria</td></tr><tr><td>29</td><td>Female</td><td>Melani Engberg</td><td>DB</td><td>9192452</td><td>62.0</td><td>Niki Klimek_Niki Klimek@OOP.com</td><td>0.62</td><td>Nigeria</td></tr><tr><td>29</td><td>Male</td><td>Ernest Rossbach</td><td>MVC</td><td>9201305</td><td>63.0</td><td>Gonzalo Ferebee_Billi Clore@DB.com</td><td>0.63</td><td>Nigeria</td></tr><tr><td>28</td><td>Female</td><td>Cheri Kenney</td><td>PF</td><td>9211167</td><td>40.0</td><td>Mitzi Seldon_Somer Stoecker@PF.com</td><td>0.4</td><td>Nigeria</td></tr><tr><td>29</td><td>Female</td><td>Eda Neathery</td><td>PF</td><td>9222608</td><td>109.0</td><td>Kena Wild_Lawanda Wohlwend@OOP.com</td><td>1.09</td><td>Nigeria</td></tr><tr><td>29</td><td>Female</td><td>Michelle Ruggiero</td><td>DB</td><td>9232210</td><td>30.0</td><td>Donna Yerby_Latia Vanhoose@DB.com</td><td>0.3</td><td>Nigeria</td></tr><tr><td>29</td><td>Male</td><td>Cordie Harnois</td><td>DSA</td><td>9242198</td><td>82.0</td><td>Maybell Duguay_Tamera Blakley@Cloud.com</td><td>0.82</td><td>Nigeria</td></tr><tr><td>29</td><td>Female</td><td>Melani Engberg</td><td>DSA</td><td>9252365</td><td>107.0</td><td>Naoma Fritts_Melani Engberg@OOP.com</td><td>1.07</td><td>Nigeria</td></tr><tr><td>28</td><td>Female</td><td>Taryn Brownlee</td><td>OOP</td><td>9262265</td><td>53.0</td><td>Cordie Harnois_Elenore Choy@DB.com</td><td>0.53</td><td>Nigeria</td></tr><tr><td>28</td><td>Female</td><td>Jalisa Swenson</td><td>Cloud</td><td>9272149</td><td>49.0</td><td>Gonzalo Ferebee_Nicole Harwood@MVC.com</td><td>0.49</td><td>Nigeria</td></tr><tr><td>29</td><td>Female</td><td>Jalisa Swenson</td><td>DB</td><td>9282374</td><td>43.0</td><td>Judie Chipps_Annika Hoffman@OOP.com</td><td>0.43</td><td>Nigeria</td></tr><tr><td>29</td><td>Male</td><td>Mickey Cortright</td><td>Cloud</td><td>9291579</td><td>96.0</td><td>Margene Moores_Priscila Tavernier@MVC.com</td><td>0.96</td><td>Nigeria</td></tr><tr><td>29</td><td>Male</td><td>Gonzalo Ferebee</td><td>Cloud</td><td>9302691</td><td>50.0</td><td>Niki Klimek_Alberta Freund@MVC.com</td><td>0.5</td><td>Nigeria</td></tr><tr><td>29</td><td>Male</td><td>Niki Klimek</td><td>DSA</td><td>9311407</td><td>100.0</td><td>Marylee Capasso_Ernest Rossbach@PF.com</td><td>1.0</td><td>Nigeria</td></tr><tr><td>28</td><td>Female</td><td>Cheri Kenney</td><td>DSA</td><td>9322391</td><td>81.0</td><td>Cheri Kenney_Claude Panos@OOP.com</td><td>0.81</td><td>Nigeria</td></tr><tr><td>29</td><td>Male</td><td>Gonzalo Ferebee</td><td>PF</td><td>9331055</td><td>106.0</td><td>Kizzy Brenner_Alberta Freund@Cloud.com</td><td>1.06</td><td>Nigeria</td></tr><tr><td>28</td><td>Female</td><td>Clementina Menke</td><td>DSA</td><td>9342400</td><td>47.0</td><td>Claude Panos_Ernest Rossbach@DSA.com</td><td>0.47</td><td>Nigeria</td></tr><tr><td>29</td><td>Female</td><td>Michelle Ruggiero</td><td>DSA</td><td>9352759</td><td>107.0</td><td>Kena Wild_Nicole Harwood@DSA.com</td><td>1.07</td><td>Nigeria</td></tr><tr><td>28</td><td>Male</td><td>Mitzi Seldon</td><td>PF</td><td>9362744</td><td>36.0</td><td>Somer Stoecker_Santa Kerfien@DSA.com</td><td>0.36</td><td>Nigeria</td></tr><tr><td>29</td><td>Female</td><td>Ernest Rossbach</td><td>DB</td><td>9371629</td><td>106.0</td><td>Melani Engberg_Latia Vanhoose@PF.com</td><td>1.06</td><td>Nigeria</td></tr><tr><td>28</td><td>Female</td><td>Paris Hutton</td><td>OOP</td><td>9382928</td><td>38.0</td><td>Kena Wild_Gonzalo Ferebee@PF.com</td><td>0.38</td><td>Nigeria</td></tr><tr><td>28</td><td>Female</td><td>Jc Andrepont</td><td>Cloud</td><td>9391046</td><td>44.0</td><td>Latia Vanhoose_Taryn Brownlee@MVC.com</td><td>0.44</td><td>Nigeria</td></tr><tr><td>28</td><td>Female</td><td>Kena Wild</td><td>MVC</td><td>9401194</td><td>34.0</td><td>Niki Klimek_Michelle Ruggiero@DB.com</td><td>0.34</td><td>Nigeria</td></tr><tr><td>28</td><td>Male</td><td>Jenna Montague</td><td>DB</td><td>9411416</td><td>45.0</td><td>Latia Vanhoose_Paris Hutton@DSA.com</td><td>0.45</td><td>Nigeria</td></tr><tr><td>29</td><td>Female</td><td>Abram Nagao</td><td>Cloud</td><td>9422898</td><td>48.0</td><td>Cheri Kenney_Santa Kerfien@OOP.com</td><td>0.48</td><td>Nigeria</td></tr><tr><td>29</td><td>Female</td><td>Tijuana Kropf</td><td>Cloud</td><td>9431799</td><td>98.0</td><td>Lawanda Wohlwend_Cordie Harnois@MVC.com</td><td>0.98</td><td>Nigeria</td></tr><tr><td>28</td><td>Male</td><td>Latia Vanhoose</td><td>DSA</td><td>9442974</td><td>39.0</td><td>Jc Andrepont_Celeste Lollis@DB.com</td><td>0.39</td><td>Nigeria</td></tr><tr><td>28</td><td>Female</td><td>Judie Chipps</td><td>DB</td><td>9451237</td><td>59.0</td><td>Michelle Ruggiero_Sheryll Towler@MVC.com</td><td>0.59</td><td>Nigeria</td></tr><tr><td>29</td><td>Female</td><td>Gonzalo Ferebee</td><td>MVC</td><td>9461441</td><td>41.0</td><td>Michelle Ruggiero_Elenore Choy@DSA.com</td><td>0.41</td><td>Nigeria</td></tr><tr><td>28</td><td>Female</td><td>Latia Vanhoose</td><td>Cloud</td><td>9471888</td><td>66.0</td><td>Naoma Fritts_Kena Wild@DB.com</td><td>0.66</td><td>Nigeria</td></tr><tr><td>29</td><td>Female</td><td>Annika Hoffman</td><td>OOP</td><td>9482135</td><td>106.0</td><td>Somer Stoecker_Somer Stoecker@OOP.com</td><td>1.06</td><td>Nigeria</td></tr><tr><td>28</td><td>Male</td><td>Sebrina Maresca</td><td>PF</td><td>9492805</td><td>60.0</td><td>Neda Briski_Neda Briski@OOP.com</td><td>0.6</td><td>Nigeria</td></tr><tr><td>28</td><td>Male</td><td>Toshiko Hillyard</td><td>DB</td><td>9502901</td><td>79.0</td><td>Kena Wild_Leontine Phillips@DSA.com</td><td>0.79</td><td>Nigeria</td></tr><tr><td>29</td><td>Male</td><td>Kizzy Brenner</td><td>PF</td><td>9512850</td><td>62.0</td><td>Elenore Choy_Anna Santos@DB.com</td><td>0.62</td><td>Nigeria</td></tr><tr><td>28</td><td>Female</td><td>Jalisa Swenson</td><td>OOP</td><td>9522521</td><td>60.0</td><td>Leontine Phillips_Cheri Kenney@DB.com</td><td>0.6</td><td>Nigeria</td></tr><tr><td>29</td><td>Male</td><td>Celeste Lollis</td><td>Cloud</td><td>9531936</td><td>66.0</td><td>Cheri Kenney_Margene Moores@MVC.com</td><td>0.66</td><td>Nigeria</td></tr><tr><td>29</td><td>Female</td><td>Mickey Cortright</td><td>MVC</td><td>9542973</td><td>38.0</td><td>Sebrina Maresca_Eda Neathery@MVC.com</td><td>0.38</td><td>Nigeria</td></tr><tr><td>29</td><td>Male</td><td>Taryn Brownlee</td><td>PF</td><td>9551574</td><td>101.0</td><td>Jenna Montague_Billi Clore@MVC.com</td><td>1.01</td><td>Nigeria</td></tr><tr><td>29</td><td>Male</td><td>Maybell Duguay</td><td>DB</td><td>9562208</td><td>54.0</td><td>Celeste Lollis_Anna Santos@DSA.com</td><td>0.54</td><td>Nigeria</td></tr><tr><td>28</td><td>Female</td><td>Sheryll Towler</td><td>MVC</td><td>9571308</td><td>67.0</td><td>Margene Moores_Naoma Fritts@PF.com</td><td>0.67</td><td>Nigeria</td></tr><tr><td>28</td><td>Female</td><td>Naoma Fritts</td><td>MVC</td><td>9581172</td><td>80.0</td><td>Taryn Brownlee_Cheri Kenney@Cloud.com</td><td>0.8</td><td>Nigeria</td></tr><tr><td>29</td><td>Female</td><td>Annika Hoffman</td><td>OOP</td><td>9592635</td><td>50.0</td><td>Kena Wild_Margene Moores@Cloud.com</td><td>0.5</td><td>Nigeria</td></tr><tr><td>28</td><td>Male</td><td>Melani Engberg</td><td>DB</td><td>9602880</td><td>52.0</td><td>Niki Klimek_Mickey Cortright@DB.com</td><td>0.52</td><td>Nigeria</td></tr><tr><td>29</td><td>Male</td><td>Kena Wild</td><td>MVC</td><td>9611287</td><td>86.0</td><td>Cordie Harnois_Michelle Ruggiero@PF.com</td><td>0.86</td><td>Nigeria</td></tr><tr><td>28</td><td>Female</td><td>Leontine Phillips</td><td>DB</td><td>9622410</td><td>56.0</td><td>Kena Wild_Donna Yerby@Cloud.com</td><td>0.56</td><td>Nigeria</td></tr><tr><td>28</td><td>Male</td><td>Claude Panos</td><td>Cloud</td><td>9631836</td><td>83.0</td><td>Clementina Menke_Judie Chipps@DSA.com</td><td>0.83</td><td>Nigeria</td></tr><tr><td>29</td><td>Male</td><td>Celeste Lollis</td><td>DSA</td><td>9642293</td><td>85.0</td><td>Maybell Duguay_Tijuana Kropf@OOP.com</td><td>0.85</td><td>Nigeria</td></tr><tr><td>28</td><td>Male</td><td>Jc Andrepont</td><td>MVC</td><td>9652535</td><td>83.0</td><td>Michelle Ruggiero_Lawanda Wohlwend@DB.com</td><td>0.83</td><td>Nigeria</td></tr><tr><td>29</td><td>Male</td><td>Kena Wild</td><td>DSA</td><td>9662661</td><td>51.0</td><td>Latia Vanhoose_Sebrina Maresca@DB.com</td><td>0.51</td><td>Nigeria</td></tr><tr><td>29</td><td>Male</td><td>Leontine Phillips</td><td>DB</td><td>9671707</td><td>36.0</td><td>Sebrina Maresca_Jalisa Swenson@MVC.com</td><td>0.36</td><td>Nigeria</td></tr><tr><td>28</td><td>Female</td><td>Clementina Menke</td><td>DSA</td><td>9682190</td><td>34.0</td><td>Clementina Menke_Dustin Feagins@DB.com</td><td>0.34</td><td>Nigeria</td></tr><tr><td>28</td><td>Male</td><td>Loris Crossett</td><td>OOP</td><td>9692316</td><td>109.0</td><td>Judie Chipps_Michelle Ruggiero@Cloud.com</td><td>1.09</td><td>Nigeria</td></tr><tr><td>29</td><td>Male</td><td>Paris Hutton</td><td>DSA</td><td>9702829</td><td>32.0</td><td>Hubert Oliveras_Cheri Kenney@OOP.com</td><td>0.32</td><td>Nigeria</td></tr><tr><td>29</td><td>Female</td><td>Abram Nagao</td><td>PF</td><td>9711154</td><td>33.0</td><td>Judie Chipps_Naoma Fritts@DSA.com</td><td>0.33</td><td>Nigeria</td></tr><tr><td>28</td><td>Female</td><td>Niki Klimek</td><td>MVC</td><td>9722763</td><td>87.0</td><td>Taryn Brownlee_Jalisa Swenson@OOP.com</td><td>0.87</td><td>Nigeria</td></tr><tr><td>29</td><td>Male</td><td>Neda Briski</td><td>Cloud</td><td>9732604</td><td>87.0</td><td>Kena Wild_Hubert Oliveras@Cloud.com</td><td>0.87</td><td>Nigeria</td></tr><tr><td>29</td><td>Female</td><td>Mickey Cortright</td><td>Cloud</td><td>9741291</td><td>87.0</td><td>Melani Engberg_Donna Yerby@MVC.com</td><td>0.87</td><td>Nigeria</td></tr><tr><td>28</td><td>Female</td><td>Somer Stoecker</td><td>PF</td><td>9751163</td><td>46.0</td><td>Nicole Harwood_Margene Moores@MVC.com</td><td>0.46</td><td>Nigeria</td></tr><tr><td>28</td><td>Female</td><td>Loris Crossett</td><td>OOP</td><td>9761188</td><td>49.0</td><td>Alberta Freund_Bonita Higuera@DSA.com</td><td>0.49</td><td>Nigeria</td></tr><tr><td>28</td><td>Male</td><td>Anna Santos</td><td>DB</td><td>9772185</td><td>32.0</td><td>Kizzy Brenner_Annika Hoffman@PF.com</td><td>0.32</td><td>Nigeria</td></tr><tr><td>28</td><td>Female</td><td>Celeste Lollis</td><td>DB</td><td>9782472</td><td>54.0</td><td>Kena Wild_Hubert Oliveras@DSA.com</td><td>0.54</td><td>Nigeria</td></tr><tr><td>29</td><td>Female</td><td>Toshiko Hillyard</td><td>DSA</td><td>9792504</td><td>78.0</td><td>Nicole Harwood_Somer Stoecker@DB.com</td><td>0.78</td><td>Nigeria</td></tr><tr><td>29</td><td>Male</td><td>Donna Yerby</td><td>MVC</td><td>9802357</td><td>51.0</td><td>Tamera Blakley_Jalisa Swenson@MVC.com</td><td>0.51</td><td>Nigeria</td></tr><tr><td>29</td><td>Male</td><td>Santa Kerfien</td><td>DB</td><td>9811489</td><td>41.0</td><td>Abram Nagao_Melani Engberg@Cloud.com</td><td>0.41</td><td>Nigeria</td></tr><tr><td>29</td><td>Male</td><td>Hubert Oliveras</td><td>DB</td><td>9822797</td><td>61.0</td><td>Lawanda Wohlwend_Jalisa Swenson@DB.com</td><td>0.61</td><td>Nigeria</td></tr><tr><td>28</td><td>Male</td><td>Paris Hutton</td><td>DB</td><td>9832215</td><td>46.0</td><td>Niki Klimek_Tijuana Kropf@PF.com</td><td>0.46</td><td>Nigeria</td></tr><tr><td>29</td><td>Male</td><td>Mitzi Seldon</td><td>PF</td><td>9842669</td><td>40.0</td><td>Jalisa Swenson_Sebrina Maresca@MVC.com</td><td>0.4</td><td>Nigeria</td></tr><tr><td>28</td><td>Female</td><td>Donna Yerby</td><td>OOP</td><td>9851840</td><td>73.0</td><td>Ernest Rossbach_Mitzi Seldon@Cloud.com</td><td>0.73</td><td>Nigeria</td></tr><tr><td>29</td><td>Female</td><td>Marylee Capasso</td><td>DB</td><td>9862444</td><td>70.0</td><td>Bonita Higuera_Kena Wild@OOP.com</td><td>0.7</td><td>Nigeria</td></tr><tr><td>29</td><td>Female</td><td>Annika Hoffman</td><td>PF</td><td>9871120</td><td>94.0</td><td>Ernest Rossbach_Billi Clore@MVC.com</td><td>0.94</td><td>Nigeria</td></tr><tr><td>28</td><td>Male</td><td>Sheryll Towler</td><td>MVC</td><td>9881953</td><td>86.0</td><td>Ernest Rossbach_Santa Kerfien@DB.com</td><td>0.86</td><td>Nigeria</td></tr><tr><td>28</td><td>Male</td><td>Kena Wild</td><td>DSA</td><td>9891274</td><td>95.0</td><td>Donna Yerby_Leontine Phillips@Cloud.com</td><td>0.95</td><td>Nigeria</td></tr><tr><td>29</td><td>Male</td><td>Tijuana Kropf</td><td>DB</td><td>9902560</td><td>76.0</td><td>Tijuana Kropf_Abram Nagao@Cloud.com</td><td>0.76</td><td>Nigeria</td></tr><tr><td>28</td><td>Male</td><td>Neda Briski</td><td>PF</td><td>9912790</td><td>75.0</td><td>Hubert Oliveras_Taryn Brownlee@PF.com</td><td>0.75</td><td>Nigeria</td></tr><tr><td>29</td><td>Female</td><td>Marylee Capasso</td><td>OOP</td><td>9922554</td><td>60.0</td><td>Naoma Fritts_Paris Hutton@DSA.com</td><td>0.6</td><td>Nigeria</td></tr><tr><td>29</td><td>Male</td><td>Cordie Harnois</td><td>PF</td><td>9931081</td><td>107.0</td><td>Toshiko Hillyard_Abram Nagao@Cloud.com</td><td>1.07</td><td>Nigeria</td></tr><tr><td>29</td><td>Female</td><td>Anna Santos</td><td>Cloud</td><td>9942543</td><td>97.0</td><td>Somer Stoecker_Mickey Cortright@DB.com</td><td>0.97</td><td>Nigeria</td></tr><tr><td>28</td><td>Female</td><td>Celeste Lollis</td><td>DB</td><td>9952416</td><td>69.0</td><td>Gonzalo Ferebee_Jalisa Swenson@DB.com</td><td>0.69</td><td>Nigeria</td></tr><tr><td>29</td><td>Female</td><td>Somer Stoecker</td><td>Cloud</td><td>9962277</td><td>94.0</td><td>Clementina Menke_Paris Hutton@OOP.com</td><td>0.94</td><td>Nigeria</td></tr><tr><td>28</td><td>Male</td><td>Tamera Blakley</td><td>DSA</td><td>9971217</td><td>36.0</td><td>Anna Santos_Claude Panos@PF.com</td><td>0.36</td><td>Nigeria</td></tr><tr><td>28</td><td>Female</td><td>Tamera Blakley</td><td>MVC</td><td>9982779</td><td>81.0</td><td>Toshiko Hillyard_Anna Santos@DSA.com</td><td>0.81</td><td>Nigeria</td></tr><tr><td>29</td><td>Female</td><td>Jenna Montague</td><td>PF</td><td>9991617</td><td>33.0</td><td>Anna Santos_Jenna Montague@DB.com</td><td>0.33</td><td>Nigeria</td></tr></tbody></table></div>"
      ]
     },
     "metadata": {
      "application/vnd.databricks.v1+output": {
       "addedWidgets": {},
       "aggData": [],
       "aggError": "",
       "aggOverflow": false,
       "aggSchema": [],
       "aggSeriesLimitReached": false,
       "aggType": "",
       "arguments": {},
       "columnCustomDisplayInfos": {},
       "data": [
        [
         "28",
         "Female",
         "Hubert Oliveras",
         "DB",
         "02984",
         69.0,
         "Annika Hoffman_Naoma Fritts@OOP.com",
         0.69,
         "Nigeria"
        ],
        [
         "29",
         "Female",
         "Toshiko Hillyard",
         "Cloud",
         "12899",
         72.0,
         "Margene Moores_Marylee Capasso@DB.com",
         0.72,
         "Nigeria"
        ],
        [
         "28",
         "Male",
         "Celeste Lollis",
         "PF",
         "21267",
         55.0,
         "Jeannetta Golden_Jenna Montague@DSA.com",
         0.55,
         "Nigeria"
        ],
        [
         "29",
         "Female",
         "Elenore Choy",
         "DB",
         "32877",
         39.0,
         "Billi Clore_Mitzi Seldon@DB.com",
         0.39,
         "Nigeria"
        ],
        [
         "28",
         "Male",
         "Sheryll Towler",
         "DSA",
         "41487",
         51.0,
         "Claude Panos_Judie Chipps@OOP.com",
         0.51,
         "Nigeria"
        ],
        [
         "28",
         "Male",
         "Margene Moores",
         "MVC",
         "52771",
         42.0,
         "Toshiko Hillyard_Clementina Menke@MVC.com",
         0.42,
         "Nigeria"
        ],
        [
         "28",
         "Male",
         "Neda Briski",
         "OOP",
         "61973",
         79.0,
         "Alberta Freund_Elenore Choy@DB.com",
         0.79,
         "Nigeria"
        ],
        [
         "28",
         "Female",
         "Claude Panos",
         "Cloud",
         "72409",
         95.0,
         "Sheryll Towler_Alberta Freund@Cloud.com",
         0.95,
         "Nigeria"
        ],
        [
         "28",
         "Male",
         "Celeste Lollis",
         "MVC",
         "81492",
         74.0,
         "Nicole Harwood_Claude Panos@MVC.com",
         0.74,
         "Nigeria"
        ],
        [
         "29",
         "Male",
         "Cordie Harnois",
         "OOP",
         "92882",
         61.0,
         "Judie Chipps_Clementina Menke@MVC.com",
         0.61,
         "Nigeria"
        ],
        [
         "29",
         "Female",
         "Kena Wild",
         "DSA",
         "102285",
         45.0,
         "Dustin Feagins_Margene Moores@OOP.com",
         0.45,
         "Nigeria"
        ],
        [
         "29",
         "Male",
         "Ernest Rossbach",
         "DB",
         "111449",
         63.0,
         "Maybell Duguay_Abram Nagao@OOP.com",
         0.63,
         "Nigeria"
        ],
        [
         "28",
         "Female",
         "Latia Vanhoose",
         "DB",
         "122502",
         37.0,
         "Latia Vanhoose_Mitzi Seldon@OOP.com",
         0.37,
         "Nigeria"
        ],
        [
         "29",
         "Female",
         "Latia Vanhoose",
         "MVC",
         "132110",
         65.0,
         "Eda Neathery_Nicole Harwood@Cloud.com",
         0.65,
         "Nigeria"
        ],
        [
         "29",
         "Male",
         "Neda Briski",
         "PF",
         "141770",
         52.0,
         "Margene Moores_Michelle Ruggiero@MVC.com",
         0.52,
         "Nigeria"
        ],
        [
         "29",
         "Female",
         "Latia Vanhoose",
         "DB",
         "152159",
         37.0,
         "Claude Panos_Santa Kerfien@DB.com",
         0.37,
         "Nigeria"
        ],
        [
         "29",
         "Male",
         "Loris Crossett",
         "MVC",
         "161771",
         46.0,
         "Mitzi Seldon_Jenna Montague@MVC.com",
         0.46,
         "Nigeria"
        ],
        [
         "29",
         "Male",
         "Annika Hoffman",
         "OOP",
         "171660",
         32.0,
         "Taryn Brownlee_Mitzi Seldon@MVC.com",
         0.32,
         "Nigeria"
        ],
        [
         "29",
         "Male",
         "Santa Kerfien",
         "PF",
         "182129",
         66.0,
         "Judie Chipps_Taryn Brownlee@Cloud.com",
         0.66,
         "Nigeria"
        ],
        [
         "28",
         "Female",
         "Mickey Cortright",
         "DB",
         "192537",
         72.0,
         "Ernest Rossbach_Marylee Capasso@Cloud.com",
         0.72,
         "Nigeria"
        ],
        [
         "29",
         "Female",
         "Loris Crossett",
         "PF",
         "201487",
         106.0,
         "Elenore Choy_Latia Vanhoose@Cloud.com",
         1.06,
         "Nigeria"
        ],
        [
         "29",
         "Female",
         "Niki Klimek",
         "PF",
         "211508",
         33.0,
         "Cordie Harnois_Judie Chipps@PF.com",
         0.33,
         "Nigeria"
        ],
        [
         "28",
         "Female",
         "Kena Wild",
         "Cloud",
         "221750",
         70.0,
         "Mitzi Seldon_Jenna Montague@DSA.com",
         0.7,
         "Nigeria"
        ],
        [
         "28",
         "Female",
         "Jc Andrepont",
         "DSA",
         "232060",
         68.0,
         "Billi Clore_Abram Nagao@MVC.com",
         0.68,
         "Nigeria"
        ],
        [
         "29",
         "Female",
         "Anna Santos",
         "Cloud",
         "242254",
         78.0,
         "Jc Andrepont_Hubert Oliveras@Cloud.com",
         0.78,
         "Nigeria"
        ],
        [
         "28",
         "Female",
         "Alberta Freund",
         "OOP",
         "251805",
         93.0,
         "Annika Hoffman_Sheryll Towler@MVC.com",
         0.93,
         "Nigeria"
        ],
        [
         "28",
         "Female",
         "Maybell Duguay",
         "Cloud",
         "261439",
         30.0,
         "Nicole Harwood_Judie Chipps@DB.com",
         0.3,
         "Nigeria"
        ],
        [
         "29",
         "Female",
         "Paris Hutton",
         "DSA",
         "271472",
         109.0,
         "Sheryll Towler_Alberta Freund@DSA.com",
         1.09,
         "Nigeria"
        ],
        [
         "29",
         "Female",
         "Cheri Kenney",
         "Cloud",
         "281408",
         53.0,
         "Annika Hoffman_Melani Engberg@Cloud.com",
         0.53,
         "Nigeria"
        ],
        [
         "28",
         "Female",
         "Dustin Feagins",
         "DSA",
         "291984",
         92.0,
         "Abram Nagao_Kena Wild@Cloud.com",
         0.92,
         "Nigeria"
        ],
        [
         "29",
         "Female",
         "Claude Panos",
         "Cloud",
         "302130",
         69.0,
         "Sheryll Towler_Leontine Phillips@PF.com",
         0.69,
         "Nigeria"
        ],
        [
         "28",
         "Female",
         "Anna Santos",
         "DB",
         "311589",
         89.0,
         "Celeste Lollis_Mickey Cortright@DSA.com",
         0.89,
         "Nigeria"
        ],
        [
         "28",
         "Female",
         "Cheri Kenney",
         "MVC",
         "321816",
         34.0,
         "Kena Wild_Michelle Ruggiero@DB.com",
         0.34,
         "Nigeria"
        ],
        [
         "28",
         "Female",
         "Loris Crossett",
         "PF",
         "332739",
         72.0,
         "Michelle Ruggiero_Clementina Menke@DB.com",
         0.72,
         "Nigeria"
        ],
        [
         "28",
         "Female",
         "Mickey Cortright",
         "DSA",
         "342003",
         54.0,
         "Mitzi Seldon_Jeannetta Golden@PF.com",
         0.54,
         "Nigeria"
        ],
        [
         "28",
         "Male",
         "Hubert Oliveras",
         "OOP",
         "351719",
         73.0,
         "Lawanda Wohlwend_Abram Nagao@MVC.com",
         0.73,
         "Nigeria"
        ],
        [
         "28",
         "Male",
         "Sebrina Maresca",
         "PF",
         "361316",
         72.0,
         "Nicole Harwood_Latia Vanhoose@DB.com",
         0.72,
         "Nigeria"
        ],
        [
         "29",
         "Male",
         "Jalisa Swenson",
         "PF",
         "372873",
         55.0,
         "Ernest Rossbach_Toshiko Hillyard@DB.com",
         0.55,
         "Nigeria"
        ],
        [
         "28",
         "Male",
         "Kizzy Brenner",
         "DB",
         "381712",
         46.0,
         "Paris Hutton_Kena Wild@MVC.com",
         0.46,
         "Nigeria"
        ],
        [
         "28",
         "Male",
         "Toshiko Hillyard",
         "DB",
         "392218",
         57.0,
         "Leontine Phillips_Billi Clore@MVC.com",
         0.57,
         "Nigeria"
        ],
        [
         "28",
         "Female",
         "Kizzy Brenner",
         "Cloud",
         "402409",
         37.0,
         "Ernest Rossbach_Gonzalo Ferebee@OOP.com",
         0.37,
         "Nigeria"
        ],
        [
         "29",
         "Female",
         "Anna Santos",
         "DSA",
         "411479",
         52.0,
         "Kena Wild_Mitzi Seldon@DB.com",
         0.52,
         "Nigeria"
        ],
        [
         "28",
         "Male",
         "Elenore Choy",
         "PF",
         "422704",
         76.0,
         "Marylee Capasso_Nicole Harwood@MVC.com",
         0.76,
         "Nigeria"
        ],
        [
         "28",
         "Female",
         "Jalisa Swenson",
         "OOP",
         "431352",
         35.0,
         "Gonzalo Ferebee_Judie Chipps@DB.com",
         0.35,
         "Nigeria"
        ],
        [
         "29",
         "Female",
         "Somer Stoecker",
         "Cloud",
         "442028",
         44.0,
         "Taryn Brownlee_Taryn Brownlee@MVC.com",
         0.44,
         "Nigeria"
        ],
        [
         "28",
         "Female",
         "Maybell Duguay",
         "DSA",
         "452141",
         39.0,
         "Leontine Phillips_Elenore Choy@Cloud.com",
         0.39,
         "Nigeria"
        ],
        [
         "28",
         "Male",
         "Dustin Feagins",
         "PF",
         "461839",
         61.0,
         "Neda Briski_Elenore Choy@Cloud.com",
         0.61,
         "Nigeria"
        ],
        [
         "29",
         "Male",
         "Annika Hoffman",
         "OOP",
         "472550",
         45.0,
         "Mitzi Seldon_Abram Nagao@DSA.com",
         0.45,
         "Nigeria"
        ],
        [
         "29",
         "Male",
         "Paris Hutton",
         "DB",
         "481229",
         67.0,
         "Clementina Menke_Paris Hutton@MVC.com",
         0.67,
         "Nigeria"
        ],
        [
         "29",
         "Female",
         "Paris Hutton",
         "DSA",
         "492159",
         70.0,
         "Nicole Harwood_Marylee Capasso@OOP.com",
         0.7,
         "Nigeria"
        ],
        [
         "29",
         "Female",
         "Jenna Montague",
         "MVC",
         "502585",
         53.0,
         "Hubert Oliveras_Jc Andrepont@DSA.com",
         0.53,
         "Nigeria"
        ],
        [
         "29",
         "Male",
         "Billi Clore",
         "Cloud",
         "512047",
         86.0,
         "Taryn Brownlee_Judie Chipps@DSA.com",
         0.86,
         "Nigeria"
        ],
        [
         "29",
         "Male",
         "Toshiko Hillyard",
         "OOP",
         "521221",
         87.0,
         "Hubert Oliveras_Latia Vanhoose@MVC.com",
         0.87,
         "Nigeria"
        ],
        [
         "28",
         "Male",
         "Margene Moores",
         "PF",
         "531530",
         63.0,
         "Cheri Kenney_Melani Engberg@OOP.com",
         0.63,
         "Nigeria"
        ],
        [
         "29",
         "Female",
         "Claude Panos",
         "OOP",
         "542821",
         38.0,
         "Hubert Oliveras_Priscila Tavernier@PF.com",
         0.38,
         "Nigeria"
        ],
        [
         "28",
         "Female",
         "Mickey Cortright",
         "DB",
         "551389",
         53.0,
         "Tijuana Kropf_Jenna Montague@DB.com",
         0.53,
         "Nigeria"
        ],
        [
         "29",
         "Male",
         "Celeste Lollis",
         "DSA",
         "562065",
         95.0,
         "Jc Andrepont_Melani Engberg@OOP.com",
         0.95,
         "Nigeria"
        ],
        [
         "28",
         "Female",
         "Tijuana Kropf",
         "PF",
         "571047",
         51.0,
         "Loris Crossett_Sebrina Maresca@PF.com",
         0.51,
         "Nigeria"
        ],
        [
         "28",
         "Male",
         "Marylee Capasso",
         "OOP",
         "581756",
         62.0,
         "Jeannetta Golden_Loris Crossett@MVC.com",
         0.62,
         "Nigeria"
        ],
        [
         "29",
         "Male",
         "Maybell Duguay",
         "DSA",
         "592061",
         93.0,
         "Eda Neathery_Jenna Montague@Cloud.com",
         0.93,
         "Nigeria"
        ],
        [
         "28",
         "Female",
         "Leontine Phillips",
         "DB",
         "602404",
         58.0,
         "Neda Briski_Cheri Kenney@PF.com",
         0.58,
         "Nigeria"
        ],
        [
         "28",
         "Female",
         "Somer Stoecker",
         "Cloud",
         "612490",
         92.0,
         "Sebrina Maresca_Gonzalo Ferebee@DSA.com",
         0.92,
         "Nigeria"
        ],
        [
         "28",
         "Male",
         "Mitzi Seldon",
         "DSA",
         "622981",
         55.0,
         "Lawanda Wohlwend_Loris Crossett@DSA.com",
         0.55,
         "Nigeria"
        ],
        [
         "29",
         "Female",
         "Judie Chipps",
         "Cloud",
         "632793",
         85.0,
         "Tijuana Kropf_Elenore Choy@PF.com",
         0.85,
         "Nigeria"
        ],
        [
         "28",
         "Male",
         "Priscila Tavernier",
         "PF",
         "642594",
         37.0,
         "Marylee Capasso_Claude Panos@DSA.com",
         0.37,
         "Nigeria"
        ],
        [
         "29",
         "Male",
         "Tamera Blakley",
         "MVC",
         "651649",
         102.0,
         "Latia Vanhoose_Toshiko Hillyard@MVC.com",
         1.02,
         "Nigeria"
        ],
        [
         "28",
         "Male",
         "Sheryll Towler",
         "MVC",
         "661079",
         99.0,
         "Tijuana Kropf_Mickey Cortright@DB.com",
         0.99,
         "Nigeria"
        ],
        [
         "29",
         "Male",
         "Hubert Oliveras",
         "MVC",
         "672451",
         38.0,
         "Annika Hoffman_Mickey Cortright@DSA.com",
         0.38,
         "Nigeria"
        ],
        [
         "29",
         "Male",
         "Sheryll Towler",
         "PF",
         "682533",
         52.0,
         "Billi Clore_Anna Santos@PF.com",
         0.52,
         "Nigeria"
        ],
        [
         "28",
         "Female",
         "Jenna Montague",
         "DSA",
         "691564",
         36.0,
         "Mitzi Seldon_Sebrina Maresca@Cloud.com",
         0.36,
         "Nigeria"
        ],
        [
         "29",
         "Male",
         "Maybell Duguay",
         "PF",
         "701486",
         109.0,
         "Clementina Menke_Latia Vanhoose@Cloud.com",
         1.09,
         "Nigeria"
        ],
        [
         "29",
         "Male",
         "Jenna Montague",
         "MVC",
         "711153",
         55.0,
         "Marylee Capasso_Hubert Oliveras@DB.com",
         0.55,
         "Nigeria"
        ],
        [
         "28",
         "Male",
         "Annika Hoffman",
         "Cloud",
         "722193",
         65.0,
         "Taryn Brownlee_Elenore Choy@DB.com",
         0.65,
         "Nigeria"
        ],
        [
         "28",
         "Female",
         "Celeste Lollis",
         "DSA",
         "731879",
         86.0,
         "Hubert Oliveras_Gonzalo Ferebee@DSA.com",
         0.86,
         "Nigeria"
        ],
        [
         "29",
         "Male",
         "Jeannetta Golden",
         "MVC",
         "741875",
         67.0,
         "Sheryll Towler_Cheri Kenney@DSA.com",
         0.67,
         "Nigeria"
        ],
        [
         "29",
         "Male",
         "Paris Hutton",
         "MVC",
         "752504",
         32.0,
         "Elenore Choy_Elenore Choy@DB.com",
         0.32,
         "Nigeria"
        ],
        [
         "29",
         "Female",
         "Margene Moores",
         "MVC",
         "761843",
         58.0,
         "Ernest Rossbach_Mickey Cortright@DSA.com",
         0.58,
         "Nigeria"
        ],
        [
         "28",
         "Female",
         "Hubert Oliveras",
         "DB",
         "771081",
         89.0,
         "Kizzy Brenner_Dustin Feagins@MVC.com",
         0.89,
         "Nigeria"
        ],
        [
         "28",
         "Male",
         "Alberta Freund",
         "PF",
         "781061",
         85.0,
         "Leontine Phillips_Bonita Higuera@PF.com",
         0.85,
         "Nigeria"
        ],
        [
         "29",
         "Female",
         "Billi Clore",
         "OOP",
         "791519",
         103.0,
         "Elenore Choy_Jalisa Swenson@MVC.com",
         1.03,
         "Nigeria"
        ],
        [
         "28",
         "Female",
         "Billi Clore",
         "Cloud",
         "801693",
         48.0,
         "Niki Klimek_Kizzy Brenner@DB.com",
         0.48,
         "Nigeria"
        ],
        [
         "29",
         "Female",
         "Elenore Choy",
         "DB",
         "811824",
         65.0,
         "Maybell Duguay_Melani Engberg@DB.com",
         0.65,
         "Nigeria"
        ],
        [
         "28",
         "Male",
         "Anna Santos",
         "OOP",
         "822396",
         57.0,
         "Leontine Phillips_Gonzalo Ferebee@Cloud.com",
         0.57,
         "Nigeria"
        ],
        [
         "28",
         "Male",
         "Sheryll Towler",
         "DSA",
         "831562",
         69.0,
         "Kena Wild_Gonzalo Ferebee@Cloud.com",
         0.69,
         "Nigeria"
        ],
        [
         "29",
         "Male",
         "Neda Briski",
         "PF",
         "842515",
         78.0,
         "Neda Briski_Hubert Oliveras@OOP.com",
         0.78,
         "Nigeria"
        ],
        [
         "28",
         "Female",
         "Santa Kerfien",
         "Cloud",
         "851620",
         44.0,
         "Melani Engberg_Sheryll Towler@PF.com",
         0.44,
         "Nigeria"
        ],
        [
         "29",
         "Female",
         "Taryn Brownlee",
         "MVC",
         "861849",
         49.0,
         "Billi Clore_Toshiko Hillyard@MVC.com",
         0.49,
         "Nigeria"
        ],
        [
         "28",
         "Female",
         "Sheryll Towler",
         "DSA",
         "871967",
         74.0,
         "Michelle Ruggiero_Billi Clore@Cloud.com",
         0.74,
         "Nigeria"
        ],
        [
         "29",
         "Male",
         "Clementina Menke",
         "DB",
         "882200",
         86.0,
         "Michelle Ruggiero_Jenna Montague@MVC.com",
         0.86,
         "Nigeria"
        ],
        [
         "28",
         "Male",
         "Margene Moores",
         "DSA",
         "892010",
         103.0,
         "Anna Santos_Naoma Fritts@DSA.com",
         1.03,
         "Nigeria"
        ],
        [
         "28",
         "Female",
         "Somer Stoecker",
         "DSA",
         "901958",
         74.0,
         "Kizzy Brenner_Jc Andrepont@DB.com",
         0.74,
         "Nigeria"
        ],
        [
         "29",
         "Male",
         "Loris Crossett",
         "PF",
         "911593",
         56.0,
         "Gonzalo Ferebee_Mitzi Seldon@PF.com",
         0.56,
         "Nigeria"
        ],
        [
         "29",
         "Female",
         "Sebrina Maresca",
         "DB",
         "922210",
         64.0,
         "Toshiko Hillyard_Santa Kerfien@MVC.com",
         0.64,
         "Nigeria"
        ],
        [
         "29",
         "Male",
         "Naoma Fritts",
         "DB",
         "931295",
         89.0,
         "Hubert Oliveras_Sheryll Towler@DSA.com",
         0.89,
         "Nigeria"
        ],
        [
         "28",
         "Female",
         "Santa Kerfien",
         "MVC",
         "941783",
         104.0,
         "Paris Hutton_Naoma Fritts@DB.com",
         1.04,
         "Nigeria"
        ],
        [
         "28",
         "Female",
         "Lawanda Wohlwend",
         "DSA",
         "951686",
         70.0,
         "Loris Crossett_Nicole Harwood@DSA.com",
         0.7,
         "Nigeria"
        ],
        [
         "29",
         "Male",
         "Abram Nagao",
         "MVC",
         "962235",
         42.0,
         "Jenna Montague_Gonzalo Ferebee@DSA.com",
         0.42,
         "Nigeria"
        ],
        [
         "28",
         "Female",
         "Jc Andrepont",
         "PF",
         "972733",
         30.0,
         "Eda Neathery_Eda Neathery@MVC.com",
         0.3,
         "Nigeria"
        ],
        [
         "29",
         "Male",
         "Niki Klimek",
         "PF",
         "982443",
         104.0,
         "Santa Kerfien_Kizzy Brenner@DB.com",
         1.04,
         "Nigeria"
        ],
        [
         "28",
         "Female",
         "Marylee Capasso",
         "OOP",
         "991770",
         96.0,
         "Margene Moores_Clementina Menke@DB.com",
         0.96,
         "Nigeria"
        ],
        [
         "28",
         "Male",
         "Jenna Montague",
         "DSA",
         "1002103",
         46.0,
         "Melani Engberg_Hubert Oliveras@PF.com",
         0.46,
         "Nigeria"
        ],
        [
         "29",
         "Female",
         "Eda Neathery",
         "Cloud",
         "1011971",
         101.0,
         "Margene Moores_Elenore Choy@MVC.com",
         1.01,
         "Nigeria"
        ],
        [
         "29",
         "Male",
         "Michelle Ruggiero",
         "DSA",
         "1022971",
         109.0,
         "Cordie Harnois_Clementina Menke@OOP.com",
         1.09,
         "Nigeria"
        ],
        [
         "28",
         "Male",
         "Annika Hoffman",
         "DB",
         "1031544",
         54.0,
         "Dustin Feagins_Somer Stoecker@DB.com",
         0.54,
         "Nigeria"
        ],
        [
         "29",
         "Female",
         "Hubert Oliveras",
         "DSA",
         "1041483",
         38.0,
         "Billi Clore_Santa Kerfien@DSA.com",
         0.38,
         "Nigeria"
        ],
        [
         "28",
         "Male",
         "Billi Clore",
         "MVC",
         "1052566",
         88.0,
         "Naoma Fritts_Margene Moores@DSA.com",
         0.88,
         "Nigeria"
        ],
        [
         "28",
         "Female",
         "Nicole Harwood",
         "MVC",
         "1061068",
         92.0,
         "Santa Kerfien_Hubert Oliveras@MVC.com",
         0.92,
         "Nigeria"
        ],
        [
         "29",
         "Male",
         "Clementina Menke",
         "PF",
         "1071717",
         64.0,
         "Celeste Lollis_Leontine Phillips@OOP.com",
         0.64,
         "Nigeria"
        ],
        [
         "28",
         "Female",
         "Claude Panos",
         "OOP",
         "1081294",
         104.0,
         "Kizzy Brenner_Anna Santos@OOP.com",
         1.04,
         "Nigeria"
        ],
        [
         "29",
         "Male",
         "Donna Yerby",
         "DSA",
         "1092702",
         89.0,
         "Marylee Capasso_Alberta Freund@OOP.com",
         0.89,
         "Nigeria"
        ],
        [
         "29",
         "Female",
         "Maybell Duguay",
         "MVC",
         "1102536",
         32.0,
         "Somer Stoecker_Marylee Capasso@OOP.com",
         0.32,
         "Nigeria"
        ],
        [
         "29",
         "Male",
         "Abram Nagao",
         "PF",
         "1112161",
         52.0,
         "Nicole Harwood_Niki Klimek@DB.com",
         0.52,
         "Nigeria"
        ],
        [
         "28",
         "Female",
         "Bonita Higuera",
         "DSA",
         "1122348",
         61.0,
         "Somer Stoecker_Jenna Montague@DB.com",
         0.61,
         "Nigeria"
        ],
        [
         "29",
         "Female",
         "Melani Engberg",
         "OOP",
         "1132093",
         86.0,
         "Kena Wild_Neda Briski@Cloud.com",
         0.86,
         "Nigeria"
        ],
        [
         "29",
         "Female",
         "Marylee Capasso",
         "OOP",
         "1142653",
         71.0,
         "Cordie Harnois_Alberta Freund@DSA.com",
         0.71,
         "Nigeria"
        ],
        [
         "29",
         "Male",
         "Nicole Harwood",
         "Cloud",
         "1152571",
         72.0,
         "Latia Vanhoose_Maybell Duguay@PF.com",
         0.72,
         "Nigeria"
        ],
        [
         "29",
         "Female",
         "Dustin Feagins",
         "OOP",
         "1161607",
         47.0,
         "Eda Neathery_Marylee Capasso@MVC.com",
         0.47,
         "Nigeria"
        ],
        [
         "28",
         "Female",
         "Niki Klimek",
         "PF",
         "1172784",
         34.0,
         "Jeannetta Golden_Abram Nagao@MVC.com",
         0.34,
         "Nigeria"
        ],
        [
         "29",
         "Female",
         "Abram Nagao",
         "DSA",
         "1181007",
         67.0,
         "Anna Santos_Anna Santos@DSA.com",
         0.67,
         "Nigeria"
        ],
        [
         "28",
         "Male",
         "Jalisa Swenson",
         "PF",
         "1192555",
         87.0,
         "Marylee Capasso_Celeste Lollis@Cloud.com",
         0.87,
         "Nigeria"
        ],
        [
         "29",
         "Female",
         "Ernest Rossbach",
         "MVC",
         "1201427",
         90.0,
         "Elenore Choy_Jenna Montague@OOP.com",
         0.9,
         "Nigeria"
        ],
        [
         "28",
         "Male",
         "Nicole Harwood",
         "DB",
         "1211495",
         38.0,
         "Melani Engberg_Jc Andrepont@Cloud.com",
         0.38,
         "Nigeria"
        ],
        [
         "29",
         "Female",
         "Claude Panos",
         "DB",
         "1222887",
         85.0,
         "Hubert Oliveras_Somer Stoecker@Cloud.com",
         0.85,
         "Nigeria"
        ],
        [
         "28",
         "Female",
         "Cordie Harnois",
         "OOP",
         "1231943",
         78.0,
         "Mickey Cortright_Kizzy Brenner@OOP.com",
         0.78,
         "Nigeria"
        ],
        [
         "28",
         "Male",
         "Nicole Harwood",
         "OOP",
         "1242426",
         81.0,
         "Billi Clore_Loris Crossett@Cloud.com",
         0.81,
         "Nigeria"
        ],
        [
         "28",
         "Male",
         "Gonzalo Ferebee",
         "Cloud",
         "1251176",
         70.0,
         "Santa Kerfien_Tamera Blakley@PF.com",
         0.7,
         "Nigeria"
        ],
        [
         "29",
         "Male",
         "Jalisa Swenson",
         "Cloud",
         "1261533",
         80.0,
         "Dustin Feagins_Nicole Harwood@PF.com",
         0.8,
         "Nigeria"
        ],
        [
         "28",
         "Female",
         "Eda Neathery",
         "Cloud",
         "1272870",
         79.0,
         "Somer Stoecker_Dustin Feagins@DB.com",
         0.79,
         "Nigeria"
        ],
        [
         "28",
         "Female",
         "Toshiko Hillyard",
         "DSA",
         "1282835",
         89.0,
         "Somer Stoecker_Toshiko Hillyard@OOP.com",
         0.89,
         "Nigeria"
        ],
        [
         "28",
         "Male",
         "Paris Hutton",
         "MVC",
         "1292279",
         36.0,
         "Paris Hutton_Eda Neathery@DSA.com",
         0.36,
         "Nigeria"
        ],
        [
         "29",
         "Female",
         "Niki Klimek",
         "DB",
         "1301784",
         34.0,
         "Celeste Lollis_Tamera Blakley@DB.com",
         0.34,
         "Nigeria"
        ],
        [
         "28",
         "Male",
         "Bonita Higuera",
         "Cloud",
         "1312294",
         104.0,
         "Eda Neathery_Priscila Tavernier@PF.com",
         1.04,
         "Nigeria"
        ],
        [
         "28",
         "Female",
         "Leontine Phillips",
         "MVC",
         "1322629",
         97.0,
         "Judie Chipps_Michelle Ruggiero@Cloud.com",
         0.97,
         "Nigeria"
        ],
        [
         "29",
         "Male",
         "Jalisa Swenson",
         "PF",
         "1332072",
         98.0,
         "Billi Clore_Kizzy Brenner@Cloud.com",
         0.98,
         "Nigeria"
        ],
        [
         "28",
         "Male",
         "Clementina Menke",
         "OOP",
         "1341574",
         56.0,
         "Elenore Choy_Mickey Cortright@DB.com",
         0.56,
         "Nigeria"
        ],
        [
         "28",
         "Male",
         "Gonzalo Ferebee",
         "PF",
         "1352348",
         105.0,
         "Neda Briski_Somer Stoecker@DB.com",
         1.05,
         "Nigeria"
        ],
        [
         "29",
         "Female",
         "Jalisa Swenson",
         "DSA",
         "1362151",
         61.0,
         "Lawanda Wohlwend_Jenna Montague@PF.com",
         0.61,
         "Nigeria"
        ],
        [
         "28",
         "Male",
         "Lawanda Wohlwend",
         "PF",
         "1372552",
         98.0,
         "Hubert Oliveras_Tijuana Kropf@DSA.com",
         0.98,
         "Nigeria"
        ],
        [
         "28",
         "Male",
         "Abram Nagao",
         "DSA",
         "1382959",
         76.0,
         "Michelle Ruggiero_Kena Wild@OOP.com",
         0.76,
         "Nigeria"
        ],
        [
         "29",
         "Female",
         "Hubert Oliveras",
         "Cloud",
         "1392791",
         104.0,
         "Anna Santos_Alberta Freund@Cloud.com",
         1.04,
         "Nigeria"
        ],
        [
         "28",
         "Male",
         "Bonita Higuera",
         "Cloud",
         "1401526",
         34.0,
         "Jc Andrepont_Cheri Kenney@Cloud.com",
         0.34,
         "Nigeria"
        ],
        [
         "29",
         "Female",
         "Clementina Menke",
         "OOP",
         "1412376",
         75.0,
         "Elenore Choy_Latia Vanhoose@DSA.com",
         0.75,
         "Nigeria"
        ],
        [
         "29",
         "Female",
         "Mickey Cortright",
         "Cloud",
         "1421542",
         81.0,
         "Latia Vanhoose_Kena Wild@OOP.com",
         0.81,
         "Nigeria"
        ],
        [
         "29",
         "Female",
         "Leontine Phillips",
         "DB",
         "1432252",
         77.0,
         "Billi Clore_Sheryll Towler@DB.com",
         0.77,
         "Nigeria"
        ],
        [
         "28",
         "Female",
         "Nicole Harwood",
         "PF",
         "1441367",
         105.0,
         "Jc Andrepont_Anna Santos@DSA.com",
         1.05,
         "Nigeria"
        ],
        [
         "28",
         "Female",
         "Gonzalo Ferebee",
         "DB",
         "1451513",
         79.0,
         "Claude Panos_Tamera Blakley@PF.com",
         0.79,
         "Nigeria"
        ],
        [
         "29",
         "Female",
         "Judie Chipps",
         "DB",
         "1461078",
         41.0,
         "Tijuana Kropf_Billi Clore@OOP.com",
         0.41,
         "Nigeria"
        ],
        [
         "29",
         "Male",
         "Niki Klimek",
         "MVC",
         "1472917",
         46.0,
         "Sebrina Maresca_Sheryll Towler@MVC.com",
         0.46,
         "Nigeria"
        ],
        [
         "29",
         "Female",
         "Lawanda Wohlwend",
         "MVC",
         "1482889",
         75.0,
         "Gonzalo Ferebee_Dustin Feagins@PF.com",
         0.75,
         "Nigeria"
        ],
        [
         "28",
         "Male",
         "Jc Andrepont",
         "DSA",
         "1492828",
         88.0,
         "Celeste Lollis_Kizzy Brenner@MVC.com",
         0.88,
         "Nigeria"
        ],
        [
         "28",
         "Female",
         "Cordie Harnois",
         "MVC",
         "1501333",
         104.0,
         "Gonzalo Ferebee_Tijuana Kropf@OOP.com",
         1.04,
         "Nigeria"
        ],
        [
         "29",
         "Female",
         "Taryn Brownlee",
         "OOP",
         "1511213",
         82.0,
         "Cheri Kenney_Donna Yerby@DSA.com",
         0.82,
         "Nigeria"
        ],
        [
         "28",
         "Male",
         "Hubert Oliveras",
         "PF",
         "1521724",
         101.0,
         "Eda Neathery_Jeannetta Golden@MVC.com",
         1.01,
         "Nigeria"
        ],
        [
         "29",
         "Female",
         "Naoma Fritts",
         "MVC",
         "1532260",
         83.0,
         "Elenore Choy_Judie Chipps@DSA.com",
         0.83,
         "Nigeria"
        ],
        [
         "28",
         "Female",
         "Marylee Capasso",
         "Cloud",
         "1541030",
         68.0,
         "Cordie Harnois_Celeste Lollis@PF.com",
         0.68,
         "Nigeria"
        ],
        [
         "29",
         "Female",
         "Annika Hoffman",
         "OOP",
         "1551846",
         60.0,
         "Paris Hutton_Melani Engberg@DB.com",
         0.6,
         "Nigeria"
        ],
        [
         "28",
         "Female",
         "Jeannetta Golden",
         "OOP",
         "1562758",
         50.0,
         "Jeannetta Golden_Billi Clore@Cloud.com",
         0.5,
         "Nigeria"
        ],
        [
         "29",
         "Female",
         "Cheri Kenney",
         "MVC",
         "1571310",
         98.0,
         "Cordie Harnois_Lawanda Wohlwend@MVC.com",
         0.98,
         "Nigeria"
        ],
        [
         "29",
         "Female",
         "Jeannetta Golden",
         "PF",
         "1581770",
         49.0,
         "Bonita Higuera_Santa Kerfien@OOP.com",
         0.49,
         "Nigeria"
        ],
        [
         "28",
         "Female",
         "Tamera Blakley",
         "PF",
         "1591554",
         88.0,
         "Sebrina Maresca_Tijuana Kropf@OOP.com",
         0.88,
         "Nigeria"
        ],
        [
         "28",
         "Male",
         "Paris Hutton",
         "MVC",
         "1602777",
         63.0,
         "Sheryll Towler_Loris Crossett@DSA.com",
         0.63,
         "Nigeria"
        ],
        [
         "28",
         "Male",
         "Marylee Capasso",
         "DB",
         "1611411",
         106.0,
         "Annika Hoffman_Loris Crossett@PF.com",
         1.06,
         "Nigeria"
        ],
        [
         "28",
         "Male",
         "Anna Santos",
         "OOP",
         "1621905",
         34.0,
         "Elenore Choy_Santa Kerfien@DB.com",
         0.34,
         "Nigeria"
        ],
        [
         "28",
         "Male",
         "Neda Briski",
         "DSA",
         "1632185",
         103.0,
         "Clementina Menke_Toshiko Hillyard@Cloud.com",
         1.03,
         "Nigeria"
        ],
        [
         "29",
         "Female",
         "Michelle Ruggiero",
         "DB",
         "1642509",
         55.0,
         "Hubert Oliveras_Marylee Capasso@DB.com",
         0.55,
         "Nigeria"
        ],
        [
         "28",
         "Female",
         "Neda Briski",
         "Cloud",
         "1651303",
         84.0,
         "Ernest Rossbach_Donna Yerby@OOP.com",
         0.84,
         "Nigeria"
        ],
        [
         "28",
         "Female",
         "Loris Crossett",
         "DSA",
         "1662549",
         96.0,
         "Paris Hutton_Latia Vanhoose@Cloud.com",
         0.96,
         "Nigeria"
        ],
        [
         "29",
         "Male",
         "Alberta Freund",
         "DB",
         "1671638",
         108.0,
         "Clementina Menke_Jalisa Swenson@Cloud.com",
         1.08,
         "Nigeria"
        ],
        [
         "28",
         "Female",
         "Sebrina Maresca",
         "MVC",
         "1681804",
         37.0,
         "Celeste Lollis_Ernest Rossbach@MVC.com",
         0.37,
         "Nigeria"
        ],
        [
         "28",
         "Male",
         "Celeste Lollis",
         "DB",
         "1692106",
         46.0,
         "Neda Briski_Abram Nagao@MVC.com",
         0.46,
         "Nigeria"
        ],
        [
         "29",
         "Female",
         "Anna Santos",
         "DSA",
         "1702439",
         74.0,
         "Naoma Fritts_Toshiko Hillyard@DB.com",
         0.74,
         "Nigeria"
        ],
        [
         "28",
         "Female",
         "Margene Moores",
         "DSA",
         "1712967",
         51.0,
         "Tijuana Kropf_Sheryll Towler@DB.com",
         0.51,
         "Nigeria"
        ],
        [
         "28",
         "Female",
         "Priscila Tavernier",
         "DB",
         "1722388",
         96.0,
         "Lawanda Wohlwend_Loris Crossett@DSA.com",
         0.96,
         "Nigeria"
        ],
        [
         "29",
         "Female",
         "Jc Andrepont",
         "MVC",
         "1731652",
         84.0,
         "Hubert Oliveras_Michelle Ruggiero@DSA.com",
         0.84,
         "Nigeria"
        ],
        [
         "28",
         "Female",
         "Anna Santos",
         "DSA",
         "1741879",
         99.0,
         "Nicole Harwood_Lawanda Wohlwend@DB.com",
         0.99,
         "Nigeria"
        ],
        [
         "29",
         "Female",
         "Lawanda Wohlwend",
         "MVC",
         "1751381",
         85.0,
         "Jalisa Swenson_Nicole Harwood@OOP.com",
         0.85,
         "Nigeria"
        ],
        [
         "29",
         "Male",
         "Nicole Harwood",
         "MVC",
         "1761454",
         44.0,
         "Taryn Brownlee_Billi Clore@DSA.com",
         0.44,
         "Nigeria"
        ],
        [
         "29",
         "Male",
         "Claude Panos",
         "DSA",
         "1771605",
         60.0,
         "Claude Panos_Tamera Blakley@OOP.com",
         0.6,
         "Nigeria"
        ],
        [
         "29",
         "Male",
         "Dustin Feagins",
         "DB",
         "1782045",
         91.0,
         "Cordie Harnois_Toshiko Hillyard@OOP.com",
         0.91,
         "Nigeria"
        ],
        [
         "29",
         "Male",
         "Toshiko Hillyard",
         "DSA",
         "1791364",
         60.0,
         "Jc Andrepont_Nicole Harwood@MVC.com",
         0.6,
         "Nigeria"
        ],
        [
         "28",
         "Male",
         "Alberta Freund",
         "Cloud",
         "1802934",
         34.0,
         "Maybell Duguay_Paris Hutton@PF.com",
         0.34,
         "Nigeria"
        ],
        [
         "29",
         "Female",
         "Tijuana Kropf",
         "MVC",
         "1811192",
         61.0,
         "Anna Santos_Latia Vanhoose@DSA.com",
         0.61,
         "Nigeria"
        ],
        [
         "29",
         "Female",
         "Ernest Rossbach",
         "Cloud",
         "1821977",
         38.0,
         "Annika Hoffman_Kizzy Brenner@DSA.com",
         0.38,
         "Nigeria"
        ],
        [
         "29",
         "Male",
         "Latia Vanhoose",
         "Cloud",
         "1832268",
         70.0,
         "Marylee Capasso_Santa Kerfien@MVC.com",
         0.7,
         "Nigeria"
        ],
        [
         "29",
         "Male",
         "Alberta Freund",
         "OOP",
         "1841931",
         47.0,
         "Jenna Montague_Taryn Brownlee@Cloud.com",
         0.47,
         "Nigeria"
        ],
        [
         "28",
         "Female",
         "Lawanda Wohlwend",
         "DB",
         "1852072",
         40.0,
         "Bonita Higuera_Jenna Montague@DB.com",
         0.4,
         "Nigeria"
        ],
        [
         "29",
         "Male",
         "Celeste Lollis",
         "PF",
         "1861656",
         77.0,
         "Niki Klimek_Lawanda Wohlwend@DB.com",
         0.77,
         "Nigeria"
        ],
        [
         "28",
         "Female",
         "Melani Engberg",
         "Cloud",
         "1872667",
         109.0,
         "Alberta Freund_Nicole Harwood@DB.com",
         1.09,
         "Nigeria"
        ],
        [
         "29",
         "Male",
         "Tijuana Kropf",
         "DB",
         "1882795",
         102.0,
         "Hubert Oliveras_Elenore Choy@Cloud.com",
         1.02,
         "Nigeria"
        ],
        [
         "28",
         "Male",
         "Somer Stoecker",
         "Cloud",
         "1891261",
         40.0,
         "Taryn Brownlee_Sheryll Towler@PF.com",
         0.4,
         "Nigeria"
        ],
        [
         "28",
         "Male",
         "Ernest Rossbach",
         "DB",
         "1901492",
         64.0,
         "Latia Vanhoose_Jc Andrepont@MVC.com",
         0.64,
         "Nigeria"
        ],
        [
         "28",
         "Female",
         "Anna Santos",
         "PF",
         "1911870",
         102.0,
         "Sebrina Maresca_Clementina Menke@OOP.com",
         1.02,
         "Nigeria"
        ],
        [
         "28",
         "Female",
         "Melani Engberg",
         "PF",
         "1922525",
         93.0,
         "Marylee Capasso_Celeste Lollis@PF.com",
         0.93,
         "Nigeria"
        ],
        [
         "29",
         "Male",
         "Sebrina Maresca",
         "PF",
         "1932455",
         33.0,
         "Tijuana Kropf_Naoma Fritts@Cloud.com",
         0.33,
         "Nigeria"
        ],
        [
         "29",
         "Male",
         "Marylee Capasso",
         "DSA",
         "1942185",
         47.0,
         "Tijuana Kropf_Latia Vanhoose@DSA.com",
         0.47,
         "Nigeria"
        ],
        [
         "29",
         "Male",
         "Jeannetta Golden",
         "Cloud",
         "1952763",
         77.0,
         "Jenna Montague_Jeannetta Golden@OOP.com",
         0.77,
         "Nigeria"
        ],
        [
         "29",
         "Male",
         "Niki Klimek",
         "MVC",
         "1962371",
         88.0,
         "Marylee Capasso_Mickey Cortright@PF.com",
         0.88,
         "Nigeria"
        ],
        [
         "29",
         "Female",
         "Leontine Phillips",
         "DB",
         "1972893",
         74.0,
         "Marylee Capasso_Elenore Choy@OOP.com",
         0.74,
         "Nigeria"
        ],
        [
         "29",
         "Male",
         "Tamera Blakley",
         "OOP",
         "1981124",
         56.0,
         "Taryn Brownlee_Eda Neathery@DB.com",
         0.56,
         "Nigeria"
        ],
        [
         "28",
         "Male",
         "Santa Kerfien",
         "MVC",
         "1992202",
         33.0,
         "Annika Hoffman_Tamera Blakley@OOP.com",
         0.33,
         "Nigeria"
        ],
        [
         "29",
         "Female",
         "Donna Yerby",
         "OOP",
         "2002040",
         95.0,
         "Jeannetta Golden_Clementina Menke@OOP.com",
         0.95,
         "Nigeria"
        ],
        [
         "29",
         "Male",
         "Somer Stoecker",
         "OOP",
         "2011301",
         57.0,
         "Somer Stoecker_Anna Santos@MVC.com",
         0.57,
         "Nigeria"
        ],
        [
         "28",
         "Male",
         "Billi Clore",
         "PF",
         "2022282",
         87.0,
         "Anna Santos_Claude Panos@Cloud.com",
         0.87,
         "Nigeria"
        ],
        [
         "28",
         "Male",
         "Kena Wild",
         "DB",
         "2031530",
         103.0,
         "Jc Andrepont_Jc Andrepont@PF.com",
         1.03,
         "Nigeria"
        ],
        [
         "29",
         "Female",
         "Abram Nagao",
         "DSA",
         "2041248",
         82.0,
         "Latia Vanhoose_Kena Wild@DSA.com",
         0.82,
         "Nigeria"
        ],
        [
         "28",
         "Female",
         "Paris Hutton",
         "Cloud",
         "2051881",
         89.0,
         "Melani Engberg_Marylee Capasso@PF.com",
         0.89,
         "Nigeria"
        ],
        [
         "28",
         "Female",
         "Claude Panos",
         "OOP",
         "2061187",
         68.0,
         "Cheri Kenney_Cordie Harnois@PF.com",
         0.68,
         "Nigeria"
        ],
        [
         "28",
         "Female",
         "Eda Neathery",
         "Cloud",
         "2071302",
         105.0,
         "Latia Vanhoose_Donna Yerby@Cloud.com",
         1.05,
         "Nigeria"
        ],
        [
         "28",
         "Male",
         "Marylee Capasso",
         "DSA",
         "2081560",
         30.0,
         "Sheryll Towler_Donna Yerby@Cloud.com",
         0.3,
         "Nigeria"
        ],
        [
         "28",
         "Male",
         "Neda Briski",
         "Cloud",
         "2092176",
         91.0,
         "Celeste Lollis_Maybell Duguay@PF.com",
         0.91,
         "Nigeria"
        ],
        [
         "29",
         "Male",
         "Donna Yerby",
         "DSA",
         "2102495",
         107.0,
         "Paris Hutton_Celeste Lollis@PF.com",
         1.07,
         "Nigeria"
        ],
        [
         "29",
         "Male",
         "Judie Chipps",
         "DB",
         "2112234",
         104.0,
         "Dustin Feagins_Tamera Blakley@PF.com",
         1.04,
         "Nigeria"
        ],
        [
         "28",
         "Female",
         "Tijuana Kropf",
         "Cloud",
         "2121632",
         88.0,
         "Michelle Ruggiero_Anna Santos@OOP.com",
         0.88,
         "Nigeria"
        ],
        [
         "29",
         "Male",
         "Jeannetta Golden",
         "MVC",
         "2132781",
         103.0,
         "Kizzy Brenner_Cheri Kenney@MVC.com",
         1.03,
         "Nigeria"
        ],
        [
         "29",
         "Male",
         "Naoma Fritts",
         "PF",
         "2141246",
         101.0,
         "Mitzi Seldon_Cordie Harnois@Cloud.com",
         1.01,
         "Nigeria"
        ],
        [
         "29",
         "Male",
         "Somer Stoecker",
         "MVC",
         "2151024",
         46.0,
         "Loris Crossett_Tamera Blakley@DB.com",
         0.46,
         "Nigeria"
        ],
        [
         "28",
         "Male",
         "Toshiko Hillyard",
         "PF",
         "2162776",
         64.0,
         "Jenna Montague_Niki Klimek@MVC.com",
         0.64,
         "Nigeria"
        ],
        [
         "28",
         "Male",
         "Jeannetta Golden",
         "DB",
         "2171387",
         86.0,
         "Cheri Kenney_Billi Clore@DB.com",
         0.86,
         "Nigeria"
        ],
        [
         "28",
         "Female",
         "Billi Clore",
         "DB",
         "2181375",
         68.0,
         "Latia Vanhoose_Eda Neathery@DSA.com",
         0.68,
         "Nigeria"
        ],
        [
         "29",
         "Female",
         "Annika Hoffman",
         "PF",
         "2192313",
         59.0,
         "Naoma Fritts_Tijuana Kropf@DB.com",
         0.59,
         "Nigeria"
        ],
        [
         "29",
         "Male",
         "Mitzi Seldon",
         "Cloud",
         "2202649",
         53.0,
         "Santa Kerfien_Loris Crossett@Cloud.com",
         0.53,
         "Nigeria"
        ],
        [
         "29",
         "Female",
         "Niki Klimek",
         "DB",
         "2211319",
         71.0,
         "Celeste Lollis_Sheryll Towler@DB.com",
         0.71,
         "Nigeria"
        ],
        [
         "28",
         "Male",
         "Jalisa Swenson",
         "DSA",
         "2222704",
         101.0,
         "Judie Chipps_Jalisa Swenson@Cloud.com",
         1.01,
         "Nigeria"
        ],
        [
         "28",
         "Male",
         "Priscila Tavernier",
         "OOP",
         "2232863",
         70.0,
         "Bonita Higuera_Lawanda Wohlwend@MVC.com",
         0.7,
         "Nigeria"
        ],
        [
         "29",
         "Male",
         "Margene Moores",
         "Cloud",
         "2241434",
         81.0,
         "Mitzi Seldon_Michelle Ruggiero@Cloud.com",
         0.81,
         "Nigeria"
        ],
        [
         "28",
         "Female",
         "Jc Andrepont",
         "MVC",
         "2251960",
         106.0,
         "Somer Stoecker_Melani Engberg@DSA.com",
         1.06,
         "Nigeria"
        ],
        [
         "29",
         "Female",
         "Gonzalo Ferebee",
         "OOP",
         "2262603",
         31.0,
         "Bonita Higuera_Cheri Kenney@PF.com",
         0.31,
         "Nigeria"
        ],
        [
         "29",
         "Female",
         "Bonita Higuera",
         "OOP",
         "2272587",
         56.0,
         "Gonzalo Ferebee_Toshiko Hillyard@DB.com",
         0.56,
         "Nigeria"
        ],
        [
         "28",
         "Female",
         "Cheri Kenney",
         "Cloud",
         "2281771",
         32.0,
         "Tamera Blakley_Abram Nagao@OOP.com",
         0.32,
         "Nigeria"
        ],
        [
         "28",
         "Female",
         "Marylee Capasso",
         "Cloud",
         "2291595",
         46.0,
         "Ernest Rossbach_Mickey Cortright@MVC.com",
         0.46,
         "Nigeria"
        ],
        [
         "29",
         "Male",
         "Annika Hoffman",
         "PF",
         "2301940",
         91.0,
         "Jenna Montague_Sheryll Towler@Cloud.com",
         0.91,
         "Nigeria"
        ],
        [
         "29",
         "Female",
         "Bonita Higuera",
         "DSA",
         "2312783",
         87.0,
         "Melani Engberg_Mitzi Seldon@DSA.com",
         0.87,
         "Nigeria"
        ],
        [
         "28",
         "Male",
         "Kizzy Brenner",
         "DB",
         "2322537",
         66.0,
         "Jenna Montague_Latia Vanhoose@MVC.com",
         0.66,
         "Nigeria"
        ],
        [
         "29",
         "Male",
         "Michelle Ruggiero",
         "Cloud",
         "2332207",
         82.0,
         "Gonzalo Ferebee_Melani Engberg@OOP.com",
         0.82,
         "Nigeria"
        ],
        [
         "29",
         "Male",
         "Alberta Freund",
         "DSA",
         "2341989",
         78.0,
         "Jeannetta Golden_Priscila Tavernier@PF.com",
         0.78,
         "Nigeria"
        ],
        [
         "29",
         "Female",
         "Somer Stoecker",
         "OOP",
         "2352466",
         77.0,
         "Jenna Montague_Mitzi Seldon@MVC.com",
         0.77,
         "Nigeria"
        ],
        [
         "29",
         "Male",
         "Mickey Cortright",
         "OOP",
         "2361202",
         69.0,
         "Kizzy Brenner_Eda Neathery@MVC.com",
         0.69,
         "Nigeria"
        ],
        [
         "29",
         "Male",
         "Latia Vanhoose",
         "OOP",
         "2372748",
         104.0,
         "Latia Vanhoose_Latia Vanhoose@OOP.com",
         1.04,
         "Nigeria"
        ],
        [
         "29",
         "Male",
         "Naoma Fritts",
         "OOP",
         "2382829",
         47.0,
         "Ernest Rossbach_Celeste Lollis@PF.com",
         0.47,
         "Nigeria"
        ],
        [
         "28",
         "Female",
         "Taryn Brownlee",
         "DSA",
         "2392929",
         101.0,
         "Sebrina Maresca_Jenna Montague@Cloud.com",
         1.01,
         "Nigeria"
        ],
        [
         "28",
         "Female",
         "Jenna Montague",
         "Cloud",
         "2402240",
         106.0,
         "Annika Hoffman_Dustin Feagins@Cloud.com",
         1.06,
         "Nigeria"
        ],
        [
         "28",
         "Male",
         "Melani Engberg",
         "MVC",
         "2412019",
         64.0,
         "Latia Vanhoose_Melani Engberg@DSA.com",
         0.64,
         "Nigeria"
        ],
        [
         "29",
         "Female",
         "Dustin Feagins",
         "Cloud",
         "2421900",
         99.0,
         "Niki Klimek_Latia Vanhoose@Cloud.com",
         0.99,
         "Nigeria"
        ],
        [
         "28",
         "Female",
         "Santa Kerfien",
         "Cloud",
         "2431828",
         36.0,
         "Margene Moores_Somer Stoecker@PF.com",
         0.36,
         "Nigeria"
        ],
        [
         "28",
         "Female",
         "Jenna Montague",
         "MVC",
         "2441637",
         82.0,
         "Cordie Harnois_Alberta Freund@OOP.com",
         0.82,
         "Nigeria"
        ],
        [
         "28",
         "Male",
         "Sebrina Maresca",
         "Cloud",
         "2452108",
         51.0,
         "Billi Clore_Loris Crossett@DSA.com",
         0.51,
         "Nigeria"
        ],
        [
         "28",
         "Male",
         "Judie Chipps",
         "DB",
         "2461986",
         63.0,
         "Niki Klimek_Judie Chipps@MVC.com",
         0.63,
         "Nigeria"
        ],
        [
         "29",
         "Male",
         "Jenna Montague",
         "DSA",
         "2472773",
         91.0,
         "Margene Moores_Bonita Higuera@DSA.com",
         0.91,
         "Nigeria"
        ],
        [
         "29",
         "Female",
         "Nicole Harwood",
         "MVC",
         "2481418",
         101.0,
         "Kizzy Brenner_Priscila Tavernier@DB.com",
         1.01,
         "Nigeria"
        ],
        [
         "29",
         "Male",
         "Cheri Kenney",
         "Cloud",
         "2491705",
         74.0,
         "Toshiko Hillyard_Mickey Cortright@PF.com",
         0.74,
         "Nigeria"
        ],
        [
         "28",
         "Female",
         "Bonita Higuera",
         "DSA",
         "2501639",
         76.0,
         "Paris Hutton_Naoma Fritts@PF.com",
         0.76,
         "Nigeria"
        ],
        [
         "29",
         "Female",
         "Marylee Capasso",
         "DSA",
         "2512456",
         85.0,
         "Mitzi Seldon_Donna Yerby@Cloud.com",
         0.85,
         "Nigeria"
        ],
        [
         "28",
         "Female",
         "Jeannetta Golden",
         "DB",
         "2522775",
         93.0,
         "Kizzy Brenner_Bonita Higuera@DB.com",
         0.93,
         "Nigeria"
        ],
        [
         "29",
         "Female",
         "Annika Hoffman",
         "PF",
         "2532233",
         84.0,
         "Somer Stoecker_Annika Hoffman@MVC.com",
         0.84,
         "Nigeria"
        ],
        [
         "28",
         "Female",
         "Kizzy Brenner",
         "OOP",
         "2542257",
         106.0,
         "Eda Neathery_Lawanda Wohlwend@Cloud.com",
         1.06,
         "Nigeria"
        ],
        [
         "28",
         "Male",
         "Priscila Tavernier",
         "Cloud",
         "2552194",
         52.0,
         "Jeannetta Golden_Abram Nagao@PF.com",
         0.52,
         "Nigeria"
        ],
        [
         "28",
         "Male",
         "Claude Panos",
         "OOP",
         "2562357",
         60.0,
         "Naoma Fritts_Anna Santos@Cloud.com",
         0.6,
         "Nigeria"
        ],
        [
         "28",
         "Male",
         "Gonzalo Ferebee",
         "MVC",
         "2572197",
         53.0,
         "Marylee Capasso_Jc Andrepont@DB.com",
         0.53,
         "Nigeria"
        ],
        [
         "29",
         "Male",
         "Nicole Harwood",
         "Cloud",
         "2581369",
         36.0,
         "Paris Hutton_Alberta Freund@MVC.com",
         0.36,
         "Nigeria"
        ],
        [
         "28",
         "Male",
         "Paris Hutton",
         "OOP",
         "2592369",
         70.0,
         "Taryn Brownlee_Sheryll Towler@OOP.com",
         0.7,
         "Nigeria"
        ],
        [
         "28",
         "Female",
         "Ernest Rossbach",
         "Cloud",
         "2602027",
         93.0,
         "Alberta Freund_Gonzalo Ferebee@MVC.com",
         0.93,
         "Nigeria"
        ],
        [
         "28",
         "Male",
         "Sheryll Towler",
         "DSA",
         "2612360",
         37.0,
         "Celeste Lollis_Paris Hutton@OOP.com",
         0.37,
         "Nigeria"
        ],
        [
         "28",
         "Male",
         "Mitzi Seldon",
         "DB",
         "2622118",
         65.0,
         "Mickey Cortright_Mitzi Seldon@MVC.com",
         0.65,
         "Nigeria"
        ],
        [
         "28",
         "Female",
         "Abram Nagao",
         "DB",
         "2632057",
         35.0,
         "Margene Moores_Somer Stoecker@DB.com",
         0.35,
         "Nigeria"
        ],
        [
         "28",
         "Male",
         "Billi Clore",
         "PF",
         "2642909",
         68.0,
         "Loris Crossett_Sebrina Maresca@OOP.com",
         0.68,
         "Nigeria"
        ],
        [
         "28",
         "Male",
         "Abram Nagao",
         "Cloud",
         "2652463",
         31.0,
         "Eda Neathery_Annika Hoffman@Cloud.com",
         0.31,
         "Nigeria"
        ],
        [
         "29",
         "Male",
         "Tamera Blakley",
         "DSA",
         "2661934",
         33.0,
         "Alberta Freund_Tijuana Kropf@Cloud.com",
         0.33,
         "Nigeria"
        ],
        [
         "29",
         "Female",
         "Naoma Fritts",
         "PF",
         "2672130",
         59.0,
         "Kizzy Brenner_Alberta Freund@Cloud.com",
         0.59,
         "Nigeria"
        ],
        [
         "28",
         "Female",
         "Maybell Duguay",
         "Cloud",
         "2682466",
         46.0,
         "Priscila Tavernier_Mitzi Seldon@PF.com",
         0.46,
         "Nigeria"
        ],
        [
         "28",
         "Female",
         "Loris Crossett",
         "OOP",
         "2691881",
         39.0,
         "Maybell Duguay_Niki Klimek@OOP.com",
         0.39,
         "Nigeria"
        ],
        [
         "28",
         "Male",
         "Mitzi Seldon",
         "PF",
         "2701239",
         86.0,
         "Alberta Freund_Cordie Harnois@Cloud.com",
         0.86,
         "Nigeria"
        ],
        [
         "29",
         "Male",
         "Sebrina Maresca",
         "PF",
         "2712040",
         33.0,
         "Jeannetta Golden_Judie Chipps@DB.com",
         0.33,
         "Nigeria"
        ],
        [
         "29",
         "Male",
         "Somer Stoecker",
         "PF",
         "2721652",
         46.0,
         "Tijuana Kropf_Michelle Ruggiero@Cloud.com",
         0.46,
         "Nigeria"
        ],
        [
         "28",
         "Male",
         "Santa Kerfien",
         "DB",
         "2732421",
         89.0,
         "Claude Panos_Alberta Freund@DB.com",
         0.89,
         "Nigeria"
        ],
        [
         "28",
         "Female",
         "Billi Clore",
         "MVC",
         "2741290",
         42.0,
         "Abram Nagao_Elenore Choy@MVC.com",
         0.42,
         "Nigeria"
        ],
        [
         "29",
         "Female",
         "Nicole Harwood",
         "DSA",
         "2751838",
         57.0,
         "Donna Yerby_Lawanda Wohlwend@MVC.com",
         0.57,
         "Nigeria"
        ],
        [
         "29",
         "Female",
         "Sheryll Towler",
         "DSA",
         "2762045",
         98.0,
         "Eda Neathery_Priscila Tavernier@DSA.com",
         0.98,
         "Nigeria"
        ],
        [
         "28",
         "Male",
         "Clementina Menke",
         "DSA",
         "2772189",
         108.0,
         "Donna Yerby_Judie Chipps@PF.com",
         1.08,
         "Nigeria"
        ],
        [
         "29",
         "Male",
         "Tijuana Kropf",
         "Cloud",
         "2781801",
         78.0,
         "Alberta Freund_Cordie Harnois@Cloud.com",
         0.78,
         "Nigeria"
        ],
        [
         "28",
         "Female",
         "Billi Clore",
         "PF",
         "2792977",
         81.0,
         "Jalisa Swenson_Nicole Harwood@MVC.com",
         0.81,
         "Nigeria"
        ],
        [
         "29",
         "Female",
         "Eda Neathery",
         "DB",
         "2802988",
         82.0,
         "Jenna Montague_Toshiko Hillyard@Cloud.com",
         0.82,
         "Nigeria"
        ],
        [
         "28",
         "Female",
         "Abram Nagao",
         "Cloud",
         "2811189",
         64.0,
         "Kena Wild_Donna Yerby@DSA.com",
         0.64,
         "Nigeria"
        ],
        [
         "29",
         "Female",
         "Eda Neathery",
         "MVC",
         "2821243",
         107.0,
         "Tamera Blakley_Eda Neathery@DB.com",
         1.07,
         "Nigeria"
        ],
        [
         "29",
         "Male",
         "Leontine Phillips",
         "PF",
         "2832158",
         36.0,
         "Margene Moores_Claude Panos@MVC.com",
         0.36,
         "Nigeria"
        ],
        [
         "29",
         "Male",
         "Abram Nagao",
         "DB",
         "2841061",
         35.0,
         "Leontine Phillips_Toshiko Hillyard@Cloud.com",
         0.35,
         "Nigeria"
        ],
        [
         "28",
         "Male",
         "Loris Crossett",
         "OOP",
         "2852490",
         35.0,
         "Loris Crossett_Donna Yerby@DSA.com",
         0.35,
         "Nigeria"
        ],
        [
         "29",
         "Female",
         "Latia Vanhoose",
         "PF",
         "2861854",
         52.0,
         "Claude Panos_Nicole Harwood@DSA.com",
         0.52,
         "Nigeria"
        ],
        [
         "28",
         "Female",
         "Michelle Ruggiero",
         "PF",
         "2872130",
         80.0,
         "Cheri Kenney_Lawanda Wohlwend@DSA.com",
         0.8,
         "Nigeria"
        ],
        [
         "28",
         "Female",
         "Alberta Freund",
         "OOP",
         "2881304",
         72.0,
         "Loris Crossett_Jc Andrepont@Cloud.com",
         0.72,
         "Nigeria"
        ],
        [
         "28",
         "Male",
         "Michelle Ruggiero",
         "DB",
         "2891164",
         70.0,
         "Gonzalo Ferebee_Priscila Tavernier@DSA.com",
         0.7,
         "Nigeria"
        ],
        [
         "29",
         "Female",
         "Naoma Fritts",
         "MVC",
         "2902779",
         70.0,
         "Sebrina Maresca_Niki Klimek@PF.com",
         0.7,
         "Nigeria"
        ],
        [
         "29",
         "Male",
         "Niki Klimek",
         "DB",
         "2912538",
         77.0,
         "Jc Andrepont_Mitzi Seldon@DSA.com",
         0.77,
         "Nigeria"
        ],
        [
         "28",
         "Male",
         "Gonzalo Ferebee",
         "Cloud",
         "2922041",
         48.0,
         "Clementina Menke_Taryn Brownlee@OOP.com",
         0.48,
         "Nigeria"
        ],
        [
         "28",
         "Female",
         "Kena Wild",
         "PF",
         "2931712",
         62.0,
         "Melani Engberg_Leontine Phillips@PF.com",
         0.62,
         "Nigeria"
        ],
        [
         "29",
         "Male",
         "Melani Engberg",
         "DB",
         "2941257",
         108.0,
         "Claude Panos_Kena Wild@DB.com",
         1.08,
         "Nigeria"
        ],
        [
         "29",
         "Male",
         "Billi Clore",
         "DSA",
         "2952091",
         62.0,
         "Jenna Montague_Mickey Cortright@DB.com",
         0.62,
         "Nigeria"
        ],
        [
         "29",
         "Male",
         "Claude Panos",
         "PF",
         "2961015",
         43.0,
         "Elenore Choy_Santa Kerfien@DSA.com",
         0.43,
         "Nigeria"
        ],
        [
         "29",
         "Female",
         "Jenna Montague",
         "DSA",
         "2972673",
         81.0,
         "Toshiko Hillyard_Naoma Fritts@DB.com",
         0.81,
         "Nigeria"
        ],
        [
         "28",
         "Female",
         "Dustin Feagins",
         "PF",
         "2981342",
         96.0,
         "Somer Stoecker_Neda Briski@Cloud.com",
         0.96,
         "Nigeria"
        ],
        [
         "29",
         "Male",
         "Latia Vanhoose",
         "MVC",
         "2992281",
         100.0,
         "Elenore Choy_Cordie Harnois@DSA.com",
         1.0,
         "Nigeria"
        ],
        [
         "29",
         "Male",
         "Margene Moores",
         "PF",
         "3002277",
         42.0,
         "Somer Stoecker_Maybell Duguay@DSA.com",
         0.42,
         "Nigeria"
        ],
        [
         "28",
         "Male",
         "Leontine Phillips",
         "Cloud",
         "3011586",
         86.0,
         "Dustin Feagins_Alberta Freund@DB.com",
         0.86,
         "Nigeria"
        ],
        [
         "29",
         "Male",
         "Naoma Fritts",
         "MVC",
         "3021768",
         44.0,
         "Bonita Higuera_Anna Santos@Cloud.com",
         0.44,
         "Nigeria"
        ],
        [
         "29",
         "Female",
         "Neda Briski",
         "DSA",
         "3031196",
         37.0,
         "Jc Andrepont_Abram Nagao@DSA.com",
         0.37,
         "Nigeria"
        ],
        [
         "29",
         "Female",
         "Alberta Freund",
         "DB",
         "3041340",
         70.0,
         "Celeste Lollis_Abram Nagao@PF.com",
         0.7,
         "Nigeria"
        ],
        [
         "29",
         "Male",
         "Annika Hoffman",
         "Cloud",
         "3051363",
         67.0,
         "Paris Hutton_Leontine Phillips@Cloud.com",
         0.67,
         "Nigeria"
        ],
        [
         "29",
         "Male",
         "Anna Santos",
         "Cloud",
         "3061386",
         67.0,
         "Michelle Ruggiero_Abram Nagao@Cloud.com",
         0.67,
         "Nigeria"
        ],
        [
         "29",
         "Female",
         "Anna Santos",
         "DSA",
         "3072690",
         46.0,
         "Sheryll Towler_Latia Vanhoose@PF.com",
         0.46,
         "Nigeria"
        ],
        [
         "29",
         "Female",
         "Judie Chipps",
         "MVC",
         "3082254",
         88.0,
         "Kena Wild_Anna Santos@MVC.com",
         0.88,
         "Nigeria"
        ],
        [
         "29",
         "Female",
         "Latia Vanhoose",
         "MVC",
         "3091650",
         40.0,
         "Cordie Harnois_Sebrina Maresca@PF.com",
         0.4,
         "Nigeria"
        ],
        [
         "28",
         "Female",
         "Mitzi Seldon",
         "Cloud",
         "3101372",
         64.0,
         "Gonzalo Ferebee_Cordie Harnois@MVC.com",
         0.64,
         "Nigeria"
        ],
        [
         "28",
         "Male",
         "Tijuana Kropf",
         "DB",
         "3111175",
         80.0,
         "Latia Vanhoose_Somer Stoecker@DSA.com",
         0.8,
         "Nigeria"
        ],
        [
         "28",
         "Male",
         "Kizzy Brenner",
         "MVC",
         "3121184",
         39.0,
         "Tijuana Kropf_Elenore Choy@DB.com",
         0.39,
         "Nigeria"
        ],
        [
         "29",
         "Male",
         "Nicole Harwood",
         "OOP",
         "3132620",
         98.0,
         "Jeannetta Golden_Lawanda Wohlwend@PF.com",
         0.98,
         "Nigeria"
        ],
        [
         "29",
         "Male",
         "Gonzalo Ferebee",
         "DSA",
         "3141791",
         72.0,
         "Ernest Rossbach_Sheryll Towler@MVC.com",
         0.72,
         "Nigeria"
        ],
        [
         "29",
         "Male",
         "Billi Clore",
         "MVC",
         "3152247",
         106.0,
         "Ernest Rossbach_Clementina Menke@PF.com",
         1.06,
         "Nigeria"
        ],
        [
         "29",
         "Male",
         "Elenore Choy",
         "Cloud",
         "3161233",
         55.0,
         "Dustin Feagins_Dustin Feagins@Cloud.com",
         0.55,
         "Nigeria"
        ],
        [
         "29",
         "Male",
         "Judie Chipps",
         "MVC",
         "3172827",
         77.0,
         "Eda Neathery_Eda Neathery@DSA.com",
         0.77,
         "Nigeria"
        ],
        [
         "28",
         "Male",
         "Lawanda Wohlwend",
         "Cloud",
         "3181337",
         49.0,
         "Sebrina Maresca_Billi Clore@MVC.com",
         0.49,
         "Nigeria"
        ],
        [
         "29",
         "Male",
         "Jalisa Swenson",
         "DB",
         "3192192",
         84.0,
         "Ernest Rossbach_Cordie Harnois@DB.com",
         0.84,
         "Nigeria"
        ],
        [
         "29",
         "Male",
         "Cordie Harnois",
         "PF",
         "3201624",
         51.0,
         "Maybell Duguay_Somer Stoecker@PF.com",
         0.51,
         "Nigeria"
        ],
        [
         "28",
         "Male",
         "Tijuana Kropf",
         "MVC",
         "3212517",
         58.0,
         "Somer Stoecker_Mickey Cortright@PF.com",
         0.58,
         "Nigeria"
        ],
        [
         "28",
         "Female",
         "Billi Clore",
         "DB",
         "3221997",
         71.0,
         "Taryn Brownlee_Santa Kerfien@PF.com",
         0.71,
         "Nigeria"
        ],
        [
         "29",
         "Female",
         "Margene Moores",
         "Cloud",
         "3232893",
         34.0,
         "Elenore Choy_Niki Klimek@MVC.com",
         0.34,
         "Nigeria"
        ],
        [
         "29",
         "Female",
         "Paris Hutton",
         "DB",
         "3241324",
         82.0,
         "Abram Nagao_Cordie Harnois@DSA.com",
         0.82,
         "Nigeria"
        ],
        [
         "28",
         "Female",
         "Neda Briski",
         "PF",
         "3251377",
         33.0,
         "Kizzy Brenner_Mickey Cortright@DSA.com",
         0.33,
         "Nigeria"
        ],
        [
         "29",
         "Female",
         "Sebrina Maresca",
         "Cloud",
         "3261159",
         107.0,
         "Maybell Duguay_Jalisa Swenson@Cloud.com",
         1.07,
         "Nigeria"
        ],
        [
         "28",
         "Female",
         "Sebrina Maresca",
         "PF",
         "3272192",
         40.0,
         "Jeannetta Golden_Cordie Harnois@PF.com",
         0.4,
         "Nigeria"
        ],
        [
         "29",
         "Male",
         "Donna Yerby",
         "PF",
         "3282057",
         97.0,
         "Kizzy Brenner_Loris Crossett@DB.com",
         0.97,
         "Nigeria"
        ],
        [
         "28",
         "Female",
         "Kena Wild",
         "PF",
         "3291691",
         106.0,
         "Tamera Blakley_Naoma Fritts@Cloud.com",
         1.06,
         "Nigeria"
        ],
        [
         "29",
         "Male",
         "Tijuana Kropf",
         "PF",
         "3301891",
         70.0,
         "Tamera Blakley_Neda Briski@DSA.com",
         0.7,
         "Nigeria"
        ],
        [
         "28",
         "Female",
         "Marylee Capasso",
         "MVC",
         "3312606",
         67.0,
         "Marylee Capasso_Gonzalo Ferebee@MVC.com",
         0.67,
         "Nigeria"
        ],
        [
         "28",
         "Male",
         "Sheryll Towler",
         "OOP",
         "3322308",
         42.0,
         "Clementina Menke_Naoma Fritts@OOP.com",
         0.42,
         "Nigeria"
        ],
        [
         "28",
         "Male",
         "Jenna Montague",
         "OOP",
         "3331161",
         108.0,
         "Leontine Phillips_Judie Chipps@DSA.com",
         1.08,
         "Nigeria"
        ],
        [
         "28",
         "Male",
         "Mitzi Seldon",
         "PF",
         "3342819",
         78.0,
         "Cheri Kenney_Naoma Fritts@PF.com",
         0.78,
         "Nigeria"
        ],
        [
         "28",
         "Male",
         "Clementina Menke",
         "Cloud",
         "3352508",
         105.0,
         "Naoma Fritts_Mickey Cortright@Cloud.com",
         1.05,
         "Nigeria"
        ],
        [
         "28",
         "Female",
         "Niki Klimek",
         "DB",
         "3361932",
         37.0,
         "Nicole Harwood_Bonita Higuera@DB.com",
         0.37,
         "Nigeria"
        ],
        [
         "29",
         "Male",
         "Sebrina Maresca",
         "DB",
         "3371719",
         96.0,
         "Marylee Capasso_Margene Moores@DSA.com",
         0.96,
         "Nigeria"
        ],
        [
         "28",
         "Male",
         "Niki Klimek",
         "PF",
         "3381919",
         107.0,
         "Hubert Oliveras_Latia Vanhoose@DB.com",
         1.07,
         "Nigeria"
        ],
        [
         "29",
         "Female",
         "Cordie Harnois",
         "MVC",
         "3391820",
         65.0,
         "Paris Hutton_Alberta Freund@DB.com",
         0.65,
         "Nigeria"
        ],
        [
         "29",
         "Female",
         "Jenna Montague",
         "DSA",
         "3402028",
         50.0,
         "Ernest Rossbach_Alberta Freund@DSA.com",
         0.5,
         "Nigeria"
        ],
        [
         "29",
         "Male",
         "Dustin Feagins",
         "OOP",
         "3412915",
         72.0,
         "Toshiko Hillyard_Priscila Tavernier@MVC.com",
         0.72,
         "Nigeria"
        ],
        [
         "28",
         "Female",
         "Naoma Fritts",
         "DSA",
         "3422822",
         64.0,
         "Nicole Harwood_Anna Santos@PF.com",
         0.64,
         "Nigeria"
        ],
        [
         "29",
         "Female",
         "Celeste Lollis",
         "MVC",
         "3431117",
         94.0,
         "Dustin Feagins_Melani Engberg@DSA.com",
         0.94,
         "Nigeria"
        ],
        [
         "29",
         "Female",
         "Niki Klimek",
         "DB",
         "3441033",
         103.0,
         "Hubert Oliveras_Tijuana Kropf@Cloud.com",
         1.03,
         "Nigeria"
        ],
        [
         "29",
         "Female",
         "Dustin Feagins",
         "PF",
         "3451343",
         98.0,
         "Cordie Harnois_Abram Nagao@Cloud.com",
         0.98,
         "Nigeria"
        ],
        [
         "29",
         "Female",
         "Celeste Lollis",
         "DSA",
         "3461783",
         60.0,
         "Loris Crossett_Ernest Rossbach@Cloud.com",
         0.6,
         "Nigeria"
        ],
        [
         "29",
         "Male",
         "Annika Hoffman",
         "DSA",
         "3471063",
         52.0,
         "Bonita Higuera_Cordie Harnois@Cloud.com",
         0.52,
         "Nigeria"
        ],
        [
         "28",
         "Female",
         "Sebrina Maresca",
         "PF",
         "3481728",
         83.0,
         "Billi Clore_Billi Clore@OOP.com",
         0.83,
         "Nigeria"
        ],
        [
         "28",
         "Male",
         "Taryn Brownlee",
         "PF",
         "3491666",
         86.0,
         "Neda Briski_Priscila Tavernier@DB.com",
         0.86,
         "Nigeria"
        ],
        [
         "28",
         "Female",
         "Loris Crossett",
         "OOP",
         "3502780",
         40.0,
         "Jenna Montague_Cordie Harnois@MVC.com",
         0.4,
         "Nigeria"
        ],
        [
         "29",
         "Male",
         "Kizzy Brenner",
         "PF",
         "3512215",
         60.0,
         "Naoma Fritts_Melani Engberg@Cloud.com",
         0.6,
         "Nigeria"
        ],
        [
         "28",
         "Female",
         "Elenore Choy",
         "OOP",
         "3521960",
         100.0,
         "Sebrina Maresca_Tijuana Kropf@PF.com",
         1.0,
         "Nigeria"
        ],
        [
         "28",
         "Female",
         "Loris Crossett",
         "PF",
         "3531684",
         94.0,
         "Dustin Feagins_Tamera Blakley@DSA.com",
         0.94,
         "Nigeria"
        ],
        [
         "29",
         "Female",
         "Leontine Phillips",
         "OOP",
         "3541954",
         75.0,
         "Margene Moores_Jeannetta Golden@MVC.com",
         0.75,
         "Nigeria"
        ],
        [
         "29",
         "Female",
         "Billi Clore",
         "OOP",
         "3551532",
         91.0,
         "Dustin Feagins_Annika Hoffman@PF.com",
         0.91,
         "Nigeria"
        ],
        [
         "28",
         "Female",
         "Neda Briski",
         "Cloud",
         "3562470",
         36.0,
         "Gonzalo Ferebee_Kizzy Brenner@DB.com",
         0.36,
         "Nigeria"
        ],
        [
         "29",
         "Female",
         "Eda Neathery",
         "MVC",
         "3572648",
         87.0,
         "Melani Engberg_Margene Moores@DB.com",
         0.87,
         "Nigeria"
        ],
        [
         "28",
         "Male",
         "Kizzy Brenner",
         "Cloud",
         "3581303",
         90.0,
         "Margene Moores_Tamera Blakley@PF.com",
         0.9,
         "Nigeria"
        ],
        [
         "29",
         "Male",
         "Loris Crossett",
         "OOP",
         "3592529",
         90.0,
         "Annika Hoffman_Toshiko Hillyard@PF.com",
         0.9,
         "Nigeria"
        ],
        [
         "28",
         "Female",
         "Toshiko Hillyard",
         "DB",
         "3602005",
         64.0,
         "Loris Crossett_Annika Hoffman@DB.com",
         0.64,
         "Nigeria"
        ],
        [
         "28",
         "Male",
         "Mickey Cortright",
         "Cloud",
         "3612300",
         102.0,
         "Cordie Harnois_Sheryll Towler@OOP.com",
         1.02,
         "Nigeria"
        ],
        [
         "28",
         "Female",
         "Sebrina Maresca",
         "OOP",
         "3621436",
         91.0,
         "Maybell Duguay_Marylee Capasso@DSA.com",
         0.91,
         "Nigeria"
        ],
        [
         "28",
         "Male",
         "Hubert Oliveras",
         "Cloud",
         "3632954",
         44.0,
         "Ernest Rossbach_Annika Hoffman@OOP.com",
         0.44,
         "Nigeria"
        ],
        [
         "29",
         "Female",
         "Taryn Brownlee",
         "MVC",
         "3641757",
         57.0,
         "Alberta Freund_Dustin Feagins@OOP.com",
         0.57,
         "Nigeria"
        ],
        [
         "29",
         "Male",
         "Elenore Choy",
         "DB",
         "3652057",
         30.0,
         "Jc Andrepont_Gonzalo Ferebee@DB.com",
         0.3,
         "Nigeria"
        ],
        [
         "29",
         "Female",
         "Clementina Menke",
         "Cloud",
         "3662734",
         68.0,
         "Jc Andrepont_Lawanda Wohlwend@MVC.com",
         0.68,
         "Nigeria"
        ],
        [
         "29",
         "Female",
         "Donna Yerby",
         "PF",
         "3672856",
         44.0,
         "Alberta Freund_Claude Panos@MVC.com",
         0.44,
         "Nigeria"
        ],
        [
         "28",
         "Male",
         "Jalisa Swenson",
         "PF",
         "3681989",
         98.0,
         "Toshiko Hillyard_Ernest Rossbach@DB.com",
         0.98,
         "Nigeria"
        ],
        [
         "28",
         "Female",
         "Leontine Phillips",
         "PF",
         "3691377",
         38.0,
         "Tamera Blakley_Alberta Freund@Cloud.com",
         0.38,
         "Nigeria"
        ],
        [
         "29",
         "Male",
         "Marylee Capasso",
         "MVC",
         "3702018",
         98.0,
         "Somer Stoecker_Latia Vanhoose@Cloud.com",
         0.98,
         "Nigeria"
        ],
        [
         "29",
         "Female",
         "Bonita Higuera",
         "Cloud",
         "3711664",
         45.0,
         "Sheryll Towler_Kizzy Brenner@OOP.com",
         0.45,
         "Nigeria"
        ],
        [
         "28",
         "Male",
         "Jenna Montague",
         "DSA",
         "3721359",
         106.0,
         "Naoma Fritts_Kizzy Brenner@MVC.com",
         1.06,
         "Nigeria"
        ],
        [
         "28",
         "Female",
         "Gonzalo Ferebee",
         "MVC",
         "3732535",
         74.0,
         "Somer Stoecker_Ernest Rossbach@DB.com",
         0.74,
         "Nigeria"
        ],
        [
         "28",
         "Male",
         "Niki Klimek",
         "OOP",
         "3742031",
         92.0,
         "Leontine Phillips_Toshiko Hillyard@Cloud.com",
         0.92,
         "Nigeria"
        ],
        [
         "28",
         "Male",
         "Claude Panos",
         "DB",
         "3752819",
         88.0,
         "Toshiko Hillyard_Mickey Cortright@DB.com",
         0.88,
         "Nigeria"
        ],
        [
         "29",
         "Male",
         "Priscila Tavernier",
         "PF",
         "3762231",
         97.0,
         "Celeste Lollis_Loris Crossett@Cloud.com",
         0.97,
         "Nigeria"
        ],
        [
         "29",
         "Female",
         "Margene Moores",
         "PF",
         "3772294",
         39.0,
         "Melani Engberg_Kizzy Brenner@PF.com",
         0.39,
         "Nigeria"
        ],
        [
         "28",
         "Male",
         "Abram Nagao",
         "DSA",
         "3781521",
         55.0,
         "Taryn Brownlee_Michelle Ruggiero@OOP.com",
         0.55,
         "Nigeria"
        ],
        [
         "28",
         "Male",
         "Maybell Duguay",
         "Cloud",
         "3791855",
         43.0,
         "Tijuana Kropf_Lawanda Wohlwend@PF.com",
         0.43,
         "Nigeria"
        ],
        [
         "28",
         "Male",
         "Bonita Higuera",
         "DB",
         "3802569",
         87.0,
         "Kena Wild_Kena Wild@OOP.com",
         0.87,
         "Nigeria"
        ],
        [
         "28",
         "Female",
         "Gonzalo Ferebee",
         "DSA",
         "3811667",
         76.0,
         "Neda Briski_Abram Nagao@OOP.com",
         0.76,
         "Nigeria"
        ],
        [
         "29",
         "Male",
         "Tijuana Kropf",
         "DB",
         "3821650",
         70.0,
         "Maybell Duguay_Donna Yerby@MVC.com",
         0.7,
         "Nigeria"
        ],
        [
         "28",
         "Male",
         "Eda Neathery",
         "Cloud",
         "3831006",
         85.0,
         "Donna Yerby_Loris Crossett@DSA.com",
         0.85,
         "Nigeria"
        ],
        [
         "29",
         "Female",
         "Latia Vanhoose",
         "OOP",
         "3841395",
         36.0,
         "Kizzy Brenner_Eda Neathery@Cloud.com",
         0.36,
         "Nigeria"
        ],
        [
         "29",
         "Female",
         "Judie Chipps",
         "DSA",
         "3852601",
         102.0,
         "Donna Yerby_Margene Moores@OOP.com",
         1.02,
         "Nigeria"
        ],
        [
         "28",
         "Female",
         "Loris Crossett",
         "PF",
         "3861248",
         104.0,
         "Dustin Feagins_Cheri Kenney@Cloud.com",
         1.04,
         "Nigeria"
        ],
        [
         "29",
         "Female",
         "Donna Yerby",
         "DSA",
         "3872735",
         81.0,
         "Eda Neathery_Latia Vanhoose@Cloud.com",
         0.81,
         "Nigeria"
        ],
        [
         "29",
         "Female",
         "Paris Hutton",
         "Cloud",
         "3882188",
         98.0,
         "Claude Panos_Loris Crossett@DB.com",
         0.98,
         "Nigeria"
        ],
        [
         "29",
         "Male",
         "Jc Andrepont",
         "MVC",
         "3892788",
         104.0,
         "Alberta Freund_Eda Neathery@DSA.com",
         1.04,
         "Nigeria"
        ],
        [
         "29",
         "Female",
         "Priscila Tavernier",
         "OOP",
         "3902993",
         109.0,
         "Celeste Lollis_Billi Clore@DB.com",
         1.09,
         "Nigeria"
        ],
        [
         "29",
         "Female",
         "Tamera Blakley",
         "DSA",
         "3911247",
         30.0,
         "Donna Yerby_Bonita Higuera@DB.com",
         0.3,
         "Nigeria"
        ],
        [
         "29",
         "Male",
         "Dustin Feagins",
         "PF",
         "3921585",
         42.0,
         "Dustin Feagins_Jalisa Swenson@OOP.com",
         0.42,
         "Nigeria"
        ],
        [
         "28",
         "Female",
         "Santa Kerfien",
         "OOP",
         "3931948",
         34.0,
         "Jeannetta Golden_Jenna Montague@DSA.com",
         0.34,
         "Nigeria"
        ],
        [
         "29",
         "Male",
         "Margene Moores",
         "DSA",
         "3942449",
         32.0,
         "Tijuana Kropf_Naoma Fritts@DSA.com",
         0.32,
         "Nigeria"
        ],
        [
         "29",
         "Female",
         "Ernest Rossbach",
         "DSA",
         "3951575",
         84.0,
         "Marylee Capasso_Kizzy Brenner@PF.com",
         0.84,
         "Nigeria"
        ],
        [
         "28",
         "Male",
         "Santa Kerfien",
         "PF",
         "3961803",
         104.0,
         "Jeannetta Golden_Latia Vanhoose@PF.com",
         1.04,
         "Nigeria"
        ],
        [
         "29",
         "Male",
         "Jalisa Swenson",
         "OOP",
         "3972823",
         102.0,
         "Tamera Blakley_Elenore Choy@Cloud.com",
         1.02,
         "Nigeria"
        ],
        [
         "29",
         "Female",
         "Clementina Menke",
         "DSA",
         "3982381",
         108.0,
         "Tamera Blakley_Kizzy Brenner@OOP.com",
         1.08,
         "Nigeria"
        ],
        [
         "28",
         "Male",
         "Cordie Harnois",
         "PF",
         "3991186",
         79.0,
         "Loris Crossett_Somer Stoecker@PF.com",
         0.79,
         "Nigeria"
        ],
        [
         "29",
         "Male",
         "Bonita Higuera",
         "Cloud",
         "4001493",
         46.0,
         "Priscila Tavernier_Niki Klimek@PF.com",
         0.46,
         "Nigeria"
        ],
        [
         "29",
         "Female",
         "Annika Hoffman",
         "Cloud",
         "4012967",
         75.0,
         "Santa Kerfien_Elenore Choy@OOP.com",
         0.75,
         "Nigeria"
        ],
        [
         "28",
         "Male",
         "Jeannetta Golden",
         "PF",
         "4021336",
         73.0,
         "Latia Vanhoose_Loris Crossett@PF.com",
         0.73,
         "Nigeria"
        ],
        [
         "29",
         "Female",
         "Toshiko Hillyard",
         "PF",
         "4032043",
         38.0,
         "Naoma Fritts_Cheri Kenney@DB.com",
         0.38,
         "Nigeria"
        ],
        [
         "29",
         "Male",
         "Sheryll Towler",
         "MVC",
         "4041358",
         44.0,
         "Sheryll Towler_Claude Panos@DSA.com",
         0.44,
         "Nigeria"
        ],
        [
         "28",
         "Female",
         "Alberta Freund",
         "OOP",
         "4052753",
         52.0,
         "Marylee Capasso_Jenna Montague@OOP.com",
         0.52,
         "Nigeria"
        ],
        [
         "29",
         "Female",
         "Taryn Brownlee",
         "PF",
         "4062876",
         77.0,
         "Claude Panos_Niki Klimek@OOP.com",
         0.77,
         "Nigeria"
        ],
        [
         "28",
         "Male",
         "Margene Moores",
         "DSA",
         "4071164",
         52.0,
         "Billi Clore_Lawanda Wohlwend@DB.com",
         0.52,
         "Nigeria"
        ],
        [
         "29",
         "Male",
         "Ernest Rossbach",
         "DB",
         "4081940",
         51.0,
         "Tamera Blakley_Abram Nagao@MVC.com",
         0.51,
         "Nigeria"
        ],
        [
         "28",
         "Female",
         "Jenna Montague",
         "PF",
         "4092419",
         64.0,
         "Donna Yerby_Taryn Brownlee@MVC.com",
         0.64,
         "Nigeria"
        ],
        [
         "28",
         "Female",
         "Elenore Choy",
         "OOP",
         "4102729",
         45.0,
         "Jenna Montague_Bonita Higuera@DB.com",
         0.45,
         "Nigeria"
        ],
        [
         "29",
         "Male",
         "Maybell Duguay",
         "Cloud",
         "4112714",
         64.0,
         "Cordie Harnois_Mitzi Seldon@DB.com",
         0.64,
         "Nigeria"
        ],
        [
         "29",
         "Female",
         "Leontine Phillips",
         "PF",
         "4122317",
         41.0,
         "Hubert Oliveras_Lawanda Wohlwend@PF.com",
         0.41,
         "Nigeria"
        ],
        [
         "28",
         "Female",
         "Mickey Cortright",
         "OOP",
         "4132027",
         59.0,
         "Santa Kerfien_Nicole Harwood@DSA.com",
         0.59,
         "Nigeria"
        ],
        [
         "28",
         "Male",
         "Paris Hutton",
         "OOP",
         "4141149",
         92.0,
         "Maybell Duguay_Marylee Capasso@DB.com",
         0.92,
         "Nigeria"
        ],
        [
         "29",
         "Female",
         "Alberta Freund",
         "DSA",
         "4152288",
         88.0,
         "Elenore Choy_Lawanda Wohlwend@MVC.com",
         0.88,
         "Nigeria"
        ],
        [
         "28",
         "Female",
         "Annika Hoffman",
         "DSA",
         "4162718",
         73.0,
         "Gonzalo Ferebee_Billi Clore@PF.com",
         0.73,
         "Nigeria"
        ],
        [
         "28",
         "Female",
         "Jc Andrepont",
         "Cloud",
         "4171613",
         75.0,
         "Somer Stoecker_Paris Hutton@Cloud.com",
         0.75,
         "Nigeria"
        ],
        [
         "29",
         "Female",
         "Ernest Rossbach",
         "Cloud",
         "4182371",
         49.0,
         "Jalisa Swenson_Cheri Kenney@DSA.com",
         0.49,
         "Nigeria"
        ],
        [
         "29",
         "Male",
         "Anna Santos",
         "DB",
         "4192955",
         59.0,
         "Clementina Menke_Judie Chipps@Cloud.com",
         0.59,
         "Nigeria"
        ],
        [
         "28",
         "Male",
         "Celeste Lollis",
         "DSA",
         "4201845",
         56.0,
         "Gonzalo Ferebee_Clementina Menke@MVC.com",
         0.56,
         "Nigeria"
        ],
        [
         "28",
         "Female",
         "Tamera Blakley",
         "MVC",
         "4212111",
         89.0,
         "Clementina Menke_Elenore Choy@PF.com",
         0.89,
         "Nigeria"
        ],
        [
         "29",
         "Male",
         "Michelle Ruggiero",
         "OOP",
         "4222829",
         106.0,
         "Kena Wild_Jalisa Swenson@Cloud.com",
         1.06,
         "Nigeria"
        ],
        [
         "29",
         "Male",
         "Clementina Menke",
         "DSA",
         "4231581",
         76.0,
         "Annika Hoffman_Tamera Blakley@DSA.com",
         0.76,
         "Nigeria"
        ],
        [
         "28",
         "Female",
         "Michelle Ruggiero",
         "DSA",
         "4242536",
         51.0,
         "Alberta Freund_Billi Clore@DSA.com",
         0.51,
         "Nigeria"
        ],
        [
         "29",
         "Female",
         "Claude Panos",
         "Cloud",
         "4251762",
         60.0,
         "Gonzalo Ferebee_Eda Neathery@OOP.com",
         0.6,
         "Nigeria"
        ],
        [
         "28",
         "Female",
         "Mickey Cortright",
         "OOP",
         "4261803",
         80.0,
         "Leontine Phillips_Melani Engberg@Cloud.com",
         0.8,
         "Nigeria"
        ],
        [
         "28",
         "Female",
         "Bonita Higuera",
         "Cloud",
         "4271366",
         67.0,
         "Elenore Choy_Gonzalo Ferebee@DB.com",
         0.67,
         "Nigeria"
        ],
        [
         "29",
         "Male",
         "Hubert Oliveras",
         "Cloud",
         "4282001",
         80.0,
         "Billi Clore_Elenore Choy@Cloud.com",
         0.8,
         "Nigeria"
        ],
        [
         "29",
         "Male",
         "Elenore Choy",
         "DB",
         "4291907",
         101.0,
         "Hubert Oliveras_Tamera Blakley@OOP.com",
         1.01,
         "Nigeria"
        ],
        [
         "28",
         "Female",
         "Clementina Menke",
         "OOP",
         "4301606",
         87.0,
         "Naoma Fritts_Leontine Phillips@MVC.com",
         0.87,
         "Nigeria"
        ],
        [
         "28",
         "Male",
         "Santa Kerfien",
         "DB",
         "4311493",
         100.0,
         "Tijuana Kropf_Anna Santos@PF.com",
         1.0,
         "Nigeria"
        ],
        [
         "29",
         "Female",
         "Mitzi Seldon",
         "Cloud",
         "4321178",
         87.0,
         "Kena Wild_Annika Hoffman@PF.com",
         0.87,
         "Nigeria"
        ],
        [
         "29",
         "Female",
         "Kizzy Brenner",
         "PF",
         "4331609",
         79.0,
         "Taryn Brownlee_Paris Hutton@DSA.com",
         0.79,
         "Nigeria"
        ],
        [
         "28",
         "Male",
         "Clementina Menke",
         "PF",
         "4341575",
         99.0,
         "Cordie Harnois_Marylee Capasso@DB.com",
         0.99,
         "Nigeria"
        ],
        [
         "29",
         "Male",
         "Billi Clore",
         "Cloud",
         "4351588",
         86.0,
         "Loris Crossett_Gonzalo Ferebee@DB.com",
         0.86,
         "Nigeria"
        ],
        [
         "29",
         "Female",
         "Niki Klimek",
         "DSA",
         "4362808",
         79.0,
         "Lawanda Wohlwend_Billi Clore@Cloud.com",
         0.79,
         "Nigeria"
        ],
        [
         "29",
         "Male",
         "Celeste Lollis",
         "PF",
         "4372710",
         73.0,
         "Latia Vanhoose_Loris Crossett@MVC.com",
         0.73,
         "Nigeria"
        ],
        [
         "28",
         "Male",
         "Toshiko Hillyard",
         "Cloud",
         "4381862",
         65.0,
         "Anna Santos_Melani Engberg@MVC.com",
         0.65,
         "Nigeria"
        ],
        [
         "28",
         "Female",
         "Donna Yerby",
         "Cloud",
         "4392575",
         32.0,
         "Leontine Phillips_Jenna Montague@DSA.com",
         0.32,
         "Nigeria"
        ],
        [
         "29",
         "Male",
         "Margene Moores",
         "OOP",
         "4401841",
         55.0,
         "Naoma Fritts_Eda Neathery@Cloud.com",
         0.55,
         "Nigeria"
        ],
        [
         "29",
         "Male",
         "Ernest Rossbach",
         "DB",
         "4411585",
         60.0,
         "Marylee Capasso_Lawanda Wohlwend@Cloud.com",
         0.6,
         "Nigeria"
        ],
        [
         "28",
         "Female",
         "Paris Hutton",
         "PF",
         "4421530",
         99.0,
         "Sebrina Maresca_Latia Vanhoose@MVC.com",
         0.99,
         "Nigeria"
        ],
        [
         "28",
         "Female",
         "Kena Wild",
         "DB",
         "4431030",
         69.0,
         "Paris Hutton_Cheri Kenney@Cloud.com",
         0.69,
         "Nigeria"
        ],
        [
         "29",
         "Male",
         "Maybell Duguay",
         "DSA",
         "4441473",
         33.0,
         "Billi Clore_Clementina Menke@OOP.com",
         0.33,
         "Nigeria"
        ],
        [
         "29",
         "Male",
         "Cheri Kenney",
         "Cloud",
         "4451117",
         83.0,
         "Jenna Montague_Kena Wild@Cloud.com",
         0.83,
         "Nigeria"
        ],
        [
         "28",
         "Female",
         "Kizzy Brenner",
         "Cloud",
         "4462249",
         103.0,
         "Naoma Fritts_Taryn Brownlee@PF.com",
         1.03,
         "Nigeria"
        ],
        [
         "28",
         "Female",
         "Jeannetta Golden",
         "Cloud",
         "4472760",
         89.0,
         "Clementina Menke_Tamera Blakley@OOP.com",
         0.89,
         "Nigeria"
        ],
        [
         "28",
         "Female",
         "Mitzi Seldon",
         "DSA",
         "4481503",
         91.0,
         "Jc Andrepont_Claude Panos@DB.com",
         0.91,
         "Nigeria"
        ],
        [
         "29",
         "Male",
         "Paris Hutton",
         "DB",
         "4492478",
         94.0,
         "Paris Hutton_Jenna Montague@PF.com",
         0.94,
         "Nigeria"
        ],
        [
         "29",
         "Female",
         "Alberta Freund",
         "OOP",
         "4501424",
         31.0,
         "Toshiko Hillyard_Celeste Lollis@MVC.com",
         0.31,
         "Nigeria"
        ],
        [
         "29",
         "Male",
         "Melani Engberg",
         "MVC",
         "4511004",
         81.0,
         "Nicole Harwood_Melani Engberg@Cloud.com",
         0.81,
         "Nigeria"
        ],
        [
         "28",
         "Female",
         "Margene Moores",
         "MVC",
         "4521977",
         71.0,
         "Jeannetta Golden_Jc Andrepont@MVC.com",
         0.71,
         "Nigeria"
        ],
        [
         "29",
         "Male",
         "Abram Nagao",
         "Cloud",
         "4531204",
         60.0,
         "Loris Crossett_Sebrina Maresca@DB.com",
         0.6,
         "Nigeria"
        ],
        [
         "29",
         "Male",
         "Judie Chipps",
         "DB",
         "4542925",
         49.0,
         "Jenna Montague_Priscila Tavernier@PF.com",
         0.49,
         "Nigeria"
        ],
        [
         "29",
         "Female",
         "Ernest Rossbach",
         "DSA",
         "4551917",
         89.0,
         "Somer Stoecker_Eda Neathery@PF.com",
         0.89,
         "Nigeria"
        ],
        [
         "29",
         "Female",
         "Nicole Harwood",
         "DSA",
         "4562217",
         50.0,
         "Anna Santos_Cheri Kenney@OOP.com",
         0.5,
         "Nigeria"
        ],
        [
         "29",
         "Female",
         "Sheryll Towler",
         "DB",
         "4571866",
         77.0,
         "Leontine Phillips_Kizzy Brenner@Cloud.com",
         0.77,
         "Nigeria"
        ],
        [
         "29",
         "Female",
         "Naoma Fritts",
         "DSA",
         "4582052",
         33.0,
         "Kena Wild_Jenna Montague@DSA.com",
         0.33,
         "Nigeria"
        ],
        [
         "29",
         "Female",
         "Cheri Kenney",
         "PF",
         "4591235",
         76.0,
         "Annika Hoffman_Annika Hoffman@OOP.com",
         0.76,
         "Nigeria"
        ],
        [
         "28",
         "Female",
         "Celeste Lollis",
         "OOP",
         "4602002",
         71.0,
         "Nicole Harwood_Abram Nagao@MVC.com",
         0.71,
         "Nigeria"
        ],
        [
         "28",
         "Female",
         "Judie Chipps",
         "Cloud",
         "4612245",
         36.0,
         "Somer Stoecker_Naoma Fritts@Cloud.com",
         0.36,
         "Nigeria"
        ],
        [
         "28",
         "Male",
         "Kizzy Brenner",
         "Cloud",
         "4622328",
         31.0,
         "Leontine Phillips_Marylee Capasso@PF.com",
         0.31,
         "Nigeria"
        ],
        [
         "28",
         "Female",
         "Judie Chipps",
         "DSA",
         "4631068",
         108.0,
         "Toshiko Hillyard_Abram Nagao@MVC.com",
         1.08,
         "Nigeria"
        ],
        [
         "28",
         "Male",
         "Marylee Capasso",
         "PF",
         "4642202",
         104.0,
         "Marylee Capasso_Elenore Choy@Cloud.com",
         1.04,
         "Nigeria"
        ],
        [
         "28",
         "Male",
         "Eda Neathery",
         "DB",
         "4651622",
         53.0,
         "Priscila Tavernier_Hubert Oliveras@DSA.com",
         0.53,
         "Nigeria"
        ],
        [
         "29",
         "Male",
         "Latia Vanhoose",
         "Cloud",
         "4661276",
         50.0,
         "Jc Andrepont_Annika Hoffman@DB.com",
         0.5,
         "Nigeria"
        ],
        [
         "29",
         "Male",
         "Kizzy Brenner",
         "Cloud",
         "4671045",
         91.0,
         "Lawanda Wohlwend_Judie Chipps@OOP.com",
         0.91,
         "Nigeria"
        ],
        [
         "28",
         "Male",
         "Elenore Choy",
         "MVC",
         "4681842",
         98.0,
         "Paris Hutton_Toshiko Hillyard@DB.com",
         0.98,
         "Nigeria"
        ],
        [
         "29",
         "Male",
         "Dustin Feagins",
         "MVC",
         "4692399",
         42.0,
         "Gonzalo Ferebee_Somer Stoecker@OOP.com",
         0.42,
         "Nigeria"
        ],
        [
         "28",
         "Female",
         "Claude Panos",
         "DB",
         "4701534",
         57.0,
         "Somer Stoecker_Naoma Fritts@DSA.com",
         0.57,
         "Nigeria"
        ],
        [
         "28",
         "Female",
         "Elenore Choy",
         "Cloud",
         "4711825",
         64.0,
         "Alberta Freund_Tijuana Kropf@DSA.com",
         0.64,
         "Nigeria"
        ],
        [
         "28",
         "Female",
         "Mitzi Seldon",
         "OOP",
         "4722700",
         57.0,
         "Naoma Fritts_Ernest Rossbach@DB.com",
         0.57,
         "Nigeria"
        ],
        [
         "28",
         "Female",
         "Tijuana Kropf",
         "DSA",
         "4732921",
         62.0,
         "Jenna Montague_Gonzalo Ferebee@DB.com",
         0.62,
         "Nigeria"
        ],
        [
         "29",
         "Male",
         "Judie Chipps",
         "OOP",
         "4742632",
         104.0,
         "Judie Chipps_Kena Wild@OOP.com",
         1.04,
         "Nigeria"
        ],
        [
         "29",
         "Male",
         "Jalisa Swenson",
         "OOP",
         "4751515",
         30.0,
         "Annika Hoffman_Hubert Oliveras@Cloud.com",
         0.3,
         "Nigeria"
        ],
        [
         "29",
         "Male",
         "Marylee Capasso",
         "MVC",
         "4762368",
         90.0,
         "Sebrina Maresca_Annika Hoffman@Cloud.com",
         0.9,
         "Nigeria"
        ],
        [
         "28",
         "Female",
         "Niki Klimek",
         "DSA",
         "4772918",
         61.0,
         "Loris Crossett_Leontine Phillips@MVC.com",
         0.61,
         "Nigeria"
        ],
        [
         "28",
         "Female",
         "Priscila Tavernier",
         "OOP",
         "4781044",
         46.0,
         "Dustin Feagins_Naoma Fritts@OOP.com",
         0.46,
         "Nigeria"
        ],
        [
         "28",
         "Female",
         "Latia Vanhoose",
         "OOP",
         "4792828",
         82.0,
         "Tamera Blakley_Mitzi Seldon@DSA.com",
         0.82,
         "Nigeria"
        ],
        [
         "28",
         "Male",
         "Alberta Freund",
         "DB",
         "4802967",
         90.0,
         "Naoma Fritts_Elenore Choy@DSA.com",
         0.9,
         "Nigeria"
        ],
        [
         "28",
         "Female",
         "Santa Kerfien",
         "DB",
         "4811069",
         95.0,
         "Dustin Feagins_Maybell Duguay@MVC.com",
         0.95,
         "Nigeria"
        ],
        [
         "29",
         "Male",
         "Jalisa Swenson",
         "OOP",
         "4822653",
         80.0,
         "Anna Santos_Abram Nagao@MVC.com",
         0.8,
         "Nigeria"
        ],
        [
         "29",
         "Male",
         "Elenore Choy",
         "DSA",
         "4831059",
         34.0,
         "Abram Nagao_Kena Wild@Cloud.com",
         0.34,
         "Nigeria"
        ],
        [
         "28",
         "Male",
         "Cheri Kenney",
         "PF",
         "4841631",
         94.0,
         "Abram Nagao_Naoma Fritts@MVC.com",
         0.94,
         "Nigeria"
        ],
        [
         "29",
         "Female",
         "Lawanda Wohlwend",
         "DSA",
         "4851930",
         74.0,
         "Jeannetta Golden_Sheryll Towler@OOP.com",
         0.74,
         "Nigeria"
        ],
        [
         "28",
         "Male",
         "Cheri Kenney",
         "OOP",
         "4862694",
         78.0,
         "Leontine Phillips_Taryn Brownlee@DB.com",
         0.78,
         "Nigeria"
        ],
        [
         "28",
         "Female",
         "Jeannetta Golden",
         "OOP",
         "4872604",
         68.0,
         "Somer Stoecker_Celeste Lollis@MVC.com",
         0.68,
         "Nigeria"
        ],
        [
         "28",
         "Female",
         "Billi Clore",
         "DSA",
         "4881063",
         96.0,
         "Eda Neathery_Cordie Harnois@MVC.com",
         0.96,
         "Nigeria"
        ],
        [
         "28",
         "Male",
         "Clementina Menke",
         "DSA",
         "4891815",
         54.0,
         "Kena Wild_Judie Chipps@PF.com",
         0.54,
         "Nigeria"
        ],
        [
         "29",
         "Male",
         "Anna Santos",
         "MVC",
         "4901235",
         87.0,
         "Gonzalo Ferebee_Sebrina Maresca@DB.com",
         0.87,
         "Nigeria"
        ],
        [
         "29",
         "Male",
         "Elenore Choy",
         "DSA",
         "4911667",
         62.0,
         "Priscila Tavernier_Sheryll Towler@PF.com",
         0.62,
         "Nigeria"
        ],
        [
         "29",
         "Female",
         "Mitzi Seldon",
         "DB",
         "4922367",
         74.0,
         "Annika Hoffman_Annika Hoffman@MVC.com",
         0.74,
         "Nigeria"
        ],
        [
         "28",
         "Male",
         "Santa Kerfien",
         "DB",
         "4932764",
         86.0,
         "Nicole Harwood_Loris Crossett@PF.com",
         0.86,
         "Nigeria"
        ],
        [
         "28",
         "Male",
         "Mitzi Seldon",
         "MVC",
         "4942910",
         101.0,
         "Tamera Blakley_Jenna Montague@DSA.com",
         1.01,
         "Nigeria"
        ],
        [
         "29",
         "Female",
         "Dustin Feagins",
         "Cloud",
         "4952697",
         56.0,
         "Annika Hoffman_Elenore Choy@MVC.com",
         0.56,
         "Nigeria"
        ],
        [
         "29",
         "Female",
         "Paris Hutton",
         "OOP",
         "4962584",
         47.0,
         "Anna Santos_Alberta Freund@DB.com",
         0.47,
         "Nigeria"
        ],
        [
         "28",
         "Female",
         "Santa Kerfien",
         "DB",
         "4971408",
         50.0,
         "Mitzi Seldon_Naoma Fritts@PF.com",
         0.5,
         "Nigeria"
        ],
        [
         "28",
         "Female",
         "Toshiko Hillyard",
         "Cloud",
         "4982864",
         56.0,
         "Michelle Ruggiero_Cordie Harnois@DB.com",
         0.56,
         "Nigeria"
        ],
        [
         "28",
         "Female",
         "Donna Yerby",
         "DB",
         "4991657",
         63.0,
         "Ernest Rossbach_Somer Stoecker@DSA.com",
         0.63,
         "Nigeria"
        ],
        [
         "28",
         "Female",
         "Kena Wild",
         "DB",
         "5001412",
         63.0,
         "Annika Hoffman_Jalisa Swenson@PF.com",
         0.63,
         "Nigeria"
        ],
        [
         "29",
         "Male",
         "Jc Andrepont",
         "DB",
         "5012482",
         70.0,
         "Jalisa Swenson_Somer Stoecker@Cloud.com",
         0.7,
         "Nigeria"
        ],
        [
         "29",
         "Male",
         "Abram Nagao",
         "DSA",
         "5022738",
         52.0,
         "Margene Moores_Latia Vanhoose@OOP.com",
         0.52,
         "Nigeria"
        ],
        [
         "29",
         "Female",
         "Alberta Freund",
         "OOP",
         "5032356",
         76.0,
         "Paris Hutton_Gonzalo Ferebee@MVC.com",
         0.76,
         "Nigeria"
        ],
        [
         "29",
         "Male",
         "Sebrina Maresca",
         "Cloud",
         "5042394",
         31.0,
         "Donna Yerby_Michelle Ruggiero@PF.com",
         0.31,
         "Nigeria"
        ],
        [
         "29",
         "Male",
         "Jeannetta Golden",
         "PF",
         "5051485",
         85.0,
         "Neda Briski_Annika Hoffman@Cloud.com",
         0.85,
         "Nigeria"
        ],
        [
         "29",
         "Male",
         "Jalisa Swenson",
         "OOP",
         "5061737",
         94.0,
         "Somer Stoecker_Latia Vanhoose@MVC.com",
         0.94,
         "Nigeria"
        ],
        [
         "28",
         "Male",
         "Gonzalo Ferebee",
         "MVC",
         "5071004",
         82.0,
         "Mitzi Seldon_Taryn Brownlee@DSA.com",
         0.82,
         "Nigeria"
        ],
        [
         "28",
         "Male",
         "Eda Neathery",
         "PF",
         "5082430",
         32.0,
         "Leontine Phillips_Lawanda Wohlwend@MVC.com",
         0.32,
         "Nigeria"
        ],
        [
         "28",
         "Male",
         "Tijuana Kropf",
         "DSA",
         "5092243",
         95.0,
         "Jenna Montague_Loris Crossett@OOP.com",
         0.95,
         "Nigeria"
        ],
        [
         "29",
         "Female",
         "Leontine Phillips",
         "OOP",
         "5102782",
         96.0,
         "Lawanda Wohlwend_Mitzi Seldon@Cloud.com",
         0.96,
         "Nigeria"
        ],
        [
         "29",
         "Male",
         "Alberta Freund",
         "PF",
         "5112625",
         78.0,
         "Abram Nagao_Celeste Lollis@DSA.com",
         0.78,
         "Nigeria"
        ],
        [
         "29",
         "Female",
         "Niki Klimek",
         "MVC",
         "5122968",
         52.0,
         "Jenna Montague_Hubert Oliveras@MVC.com",
         0.52,
         "Nigeria"
        ],
        [
         "28",
         "Female",
         "Neda Briski",
         "Cloud",
         "5131604",
         68.0,
         "Mickey Cortright_Niki Klimek@DB.com",
         0.68,
         "Nigeria"
        ],
        [
         "29",
         "Female",
         "Anna Santos",
         "DB",
         "5142808",
         91.0,
         "Donna Yerby_Naoma Fritts@DB.com",
         0.91,
         "Nigeria"
        ],
        [
         "29",
         "Male",
         "Gonzalo Ferebee",
         "Cloud",
         "5151742",
         56.0,
         "Jeannetta Golden_Ernest Rossbach@DSA.com",
         0.56,
         "Nigeria"
        ],
        [
         "29",
         "Male",
         "Mickey Cortright",
         "MVC",
         "5162191",
         38.0,
         "Eda Neathery_Tijuana Kropf@DB.com",
         0.38,
         "Nigeria"
        ],
        [
         "28",
         "Male",
         "Niki Klimek",
         "DSA",
         "5172507",
         109.0,
         "Marylee Capasso_Elenore Choy@MVC.com",
         1.09,
         "Nigeria"
        ],
        [
         "29",
         "Male",
         "Elenore Choy",
         "PF",
         "5181004",
         68.0,
         "Jc Andrepont_Loris Crossett@OOP.com",
         0.68,
         "Nigeria"
        ],
        [
         "29",
         "Male",
         "Loris Crossett",
         "MVC",
         "5192208",
         88.0,
         "Tamera Blakley_Abram Nagao@DB.com",
         0.88,
         "Nigeria"
        ],
        [
         "28",
         "Male",
         "Jc Andrepont",
         "Cloud",
         "5202136",
         107.0,
         "Jc Andrepont_Kena Wild@PF.com",
         1.07,
         "Nigeria"
        ],
        [
         "29",
         "Female",
         "Marylee Capasso",
         "PF",
         "5212694",
         74.0,
         "Loris Crossett_Niki Klimek@Cloud.com",
         0.74,
         "Nigeria"
        ],
        [
         "28",
         "Female",
         "Latia Vanhoose",
         "PF",
         "5222171",
         83.0,
         "Toshiko Hillyard_Mickey Cortright@Cloud.com",
         0.83,
         "Nigeria"
        ],
        [
         "28",
         "Male",
         "Eda Neathery",
         "MVC",
         "5231777",
         66.0,
         "Judie Chipps_Jalisa Swenson@OOP.com",
         0.66,
         "Nigeria"
        ],
        [
         "28",
         "Male",
         "Elenore Choy",
         "MVC",
         "5241419",
         91.0,
         "Sebrina Maresca_Taryn Brownlee@PF.com",
         0.91,
         "Nigeria"
        ],
        [
         "29",
         "Female",
         "Marylee Capasso",
         "OOP",
         "5252441",
         57.0,
         "Maybell Duguay_Mickey Cortright@MVC.com",
         0.57,
         "Nigeria"
        ],
        [
         "28",
         "Female",
         "Taryn Brownlee",
         "OOP",
         "5262828",
         35.0,
         "Elenore Choy_Gonzalo Ferebee@DB.com",
         0.35,
         "Nigeria"
        ],
        [
         "28",
         "Male",
         "Clementina Menke",
         "DSA",
         "5272838",
         37.0,
         "Clementina Menke_Eda Neathery@MVC.com",
         0.37,
         "Nigeria"
        ],
        [
         "29",
         "Male",
         "Santa Kerfien",
         "DB",
         "5282657",
         91.0,
         "Judie Chipps_Mickey Cortright@MVC.com",
         0.91,
         "Nigeria"
        ],
        [
         "29",
         "Female",
         "Lawanda Wohlwend",
         "OOP",
         "5292220",
         56.0,
         "Loris Crossett_Alberta Freund@MVC.com",
         0.56,
         "Nigeria"
        ],
        [
         "28",
         "Female",
         "Abram Nagao",
         "Cloud",
         "5301859",
         60.0,
         "Elenore Choy_Claude Panos@Cloud.com",
         0.6,
         "Nigeria"
        ],
        [
         "28",
         "Male",
         "Taryn Brownlee",
         "DB",
         "5311449",
         35.0,
         "Santa Kerfien_Lawanda Wohlwend@OOP.com",
         0.35,
         "Nigeria"
        ],
        [
         "28",
         "Male",
         "Donna Yerby",
         "DB",
         "5321010",
         75.0,
         "Jc Andrepont_Tijuana Kropf@DB.com",
         0.75,
         "Nigeria"
        ],
        [
         "29",
         "Female",
         "Celeste Lollis",
         "Cloud",
         "5331415",
         85.0,
         "Leontine Phillips_Kena Wild@DB.com",
         0.85,
         "Nigeria"
        ],
        [
         "28",
         "Female",
         "Hubert Oliveras",
         "DSA",
         "5342918",
         92.0,
         "Judie Chipps_Annika Hoffman@OOP.com",
         0.92,
         "Nigeria"
        ],
        [
         "28",
         "Male",
         "Tamera Blakley",
         "DSA",
         "5352713",
         90.0,
         "Jeannetta Golden_Neda Briski@Cloud.com",
         0.9,
         "Nigeria"
        ],
        [
         "29",
         "Male",
         "Sheryll Towler",
         "PF",
         "5362217",
         46.0,
         "Ernest Rossbach_Eda Neathery@Cloud.com",
         0.46,
         "Nigeria"
        ],
        [
         "28",
         "Female",
         "Ernest Rossbach",
         "PF",
         "5372045",
         97.0,
         "Maybell Duguay_Melani Engberg@PF.com",
         0.97,
         "Nigeria"
        ],
        [
         "28",
         "Male",
         "Lawanda Wohlwend",
         "OOP",
         "5382684",
         44.0,
         "Jc Andrepont_Kena Wild@Cloud.com",
         0.44,
         "Nigeria"
        ],
        [
         "29",
         "Male",
         "Santa Kerfien",
         "OOP",
         "5391590",
         99.0,
         "Somer Stoecker_Loris Crossett@DB.com",
         0.99,
         "Nigeria"
        ],
        [
         "29",
         "Female",
         "Tamera Blakley",
         "MVC",
         "5401559",
         78.0,
         "Alberta Freund_Jeannetta Golden@MVC.com",
         0.78,
         "Nigeria"
        ],
        [
         "28",
         "Female",
         "Maybell Duguay",
         "Cloud",
         "5411090",
         63.0,
         "Jeannetta Golden_Mickey Cortright@DB.com",
         0.63,
         "Nigeria"
        ],
        [
         "28",
         "Male",
         "Jc Andrepont",
         "DSA",
         "5421958",
         43.0,
         "Lawanda Wohlwend_Leontine Phillips@DB.com",
         0.43,
         "Nigeria"
        ],
        [
         "28",
         "Female",
         "Somer Stoecker",
         "DSA",
         "5432767",
         105.0,
         "Mitzi Seldon_Paris Hutton@MVC.com",
         1.05,
         "Nigeria"
        ],
        [
         "29",
         "Female",
         "Jeannetta Golden",
         "OOP",
         "5442294",
         62.0,
         "Elenore Choy_Sebrina Maresca@MVC.com",
         0.62,
         "Nigeria"
        ],
        [
         "28",
         "Female",
         "Judie Chipps",
         "OOP",
         "5451977",
         109.0,
         "Tamera Blakley_Mickey Cortright@PF.com",
         1.09,
         "Nigeria"
        ],
        [
         "28",
         "Female",
         "Maybell Duguay",
         "Cloud",
         "5461402",
         39.0,
         "Cheri Kenney_Annika Hoffman@Cloud.com",
         0.39,
         "Nigeria"
        ],
        [
         "28",
         "Female",
         "Jeannetta Golden",
         "Cloud",
         "5472189",
         102.0,
         "Naoma Fritts_Annika Hoffman@DB.com",
         1.02,
         "Nigeria"
        ],
        [
         "29",
         "Female",
         "Lawanda Wohlwend",
         "Cloud",
         "5482981",
         47.0,
         "Billi Clore_Eda Neathery@DB.com",
         0.47,
         "Nigeria"
        ],
        [
         "29",
         "Female",
         "Eda Neathery",
         "Cloud",
         "5492989",
         53.0,
         "Cordie Harnois_Latia Vanhoose@DB.com",
         0.53,
         "Nigeria"
        ],
        [
         "28",
         "Male",
         "Anna Santos",
         "DSA",
         "5502368",
         94.0,
         "Sebrina Maresca_Jc Andrepont@Cloud.com",
         0.94,
         "Nigeria"
        ],
        [
         "28",
         "Female",
         "Neda Briski",
         "MVC",
         "5512387",
         64.0,
         "Jenna Montague_Melani Engberg@Cloud.com",
         0.64,
         "Nigeria"
        ],
        [
         "29",
         "Female",
         "Claude Panos",
         "Cloud",
         "5521752",
         104.0,
         "Sebrina Maresca_Sheryll Towler@MVC.com",
         1.04,
         "Nigeria"
        ],
        [
         "29",
         "Female",
         "Judie Chipps",
         "Cloud",
         "5532421",
         90.0,
         "Sebrina Maresca_Donna Yerby@Cloud.com",
         0.9,
         "Nigeria"
        ],
        [
         "29",
         "Female",
         "Hubert Oliveras",
         "DSA",
         "5542363",
         33.0,
         "Priscila Tavernier_Niki Klimek@DSA.com",
         0.33,
         "Nigeria"
        ],
        [
         "28",
         "Male",
         "Gonzalo Ferebee",
         "PF",
         "5552593",
         65.0,
         "Jeannetta Golden_Dustin Feagins@Cloud.com",
         0.65,
         "Nigeria"
        ],
        [
         "28",
         "Female",
         "Mickey Cortright",
         "OOP",
         "5561955",
         48.0,
         "Jenna Montague_Hubert Oliveras@DSA.com",
         0.48,
         "Nigeria"
        ],
        [
         "28",
         "Male",
         "Abram Nagao",
         "OOP",
         "5571082",
         95.0,
         "Santa Kerfien_Jalisa Swenson@PF.com",
         0.95,
         "Nigeria"
        ],
        [
         "29",
         "Female",
         "Dustin Feagins",
         "DB",
         "5581136",
         42.0,
         "Alberta Freund_Celeste Lollis@Cloud.com",
         0.42,
         "Nigeria"
        ],
        [
         "29",
         "Male",
         "Sheryll Towler",
         "DSA",
         "5591018",
         66.0,
         "Tijuana Kropf_Dustin Feagins@DSA.com",
         0.66,
         "Nigeria"
        ],
        [
         "28",
         "Female",
         "Mitzi Seldon",
         "DB",
         "5602986",
         75.0,
         "Toshiko Hillyard_Elenore Choy@MVC.com",
         0.75,
         "Nigeria"
        ],
        [
         "28",
         "Male",
         "Michelle Ruggiero",
         "PF",
         "5612879",
         74.0,
         "Tijuana Kropf_Maybell Duguay@PF.com",
         0.74,
         "Nigeria"
        ],
        [
         "29",
         "Male",
         "Margene Moores",
         "OOP",
         "5621072",
         107.0,
         "Sheryll Towler_Margene Moores@MVC.com",
         1.07,
         "Nigeria"
        ],
        [
         "29",
         "Female",
         "Gonzalo Ferebee",
         "DSA",
         "5631172",
         30.0,
         "Jeannetta Golden_Hubert Oliveras@MVC.com",
         0.3,
         "Nigeria"
        ],
        [
         "28",
         "Male",
         "Cheri Kenney",
         "Cloud",
         "5641528",
         104.0,
         "Sebrina Maresca_Leontine Phillips@OOP.com",
         1.04,
         "Nigeria"
        ],
        [
         "29",
         "Female",
         "Niki Klimek",
         "DSA",
         "5651181",
         48.0,
         "Dustin Feagins_Naoma Fritts@OOP.com",
         0.48,
         "Nigeria"
        ],
        [
         "28",
         "Male",
         "Tamera Blakley",
         "DB",
         "5661433",
         86.0,
         "Abram Nagao_Leontine Phillips@MVC.com",
         0.86,
         "Nigeria"
        ],
        [
         "28",
         "Male",
         "Annika Hoffman",
         "OOP",
         "5672977",
         48.0,
         "Paris Hutton_Latia Vanhoose@DB.com",
         0.48,
         "Nigeria"
        ],
        [
         "29",
         "Male",
         "Judie Chipps",
         "OOP",
         "5682469",
         34.0,
         "Tamera Blakley_Maybell Duguay@DSA.com",
         0.34,
         "Nigeria"
        ],
        [
         "29",
         "Male",
         "Cordie Harnois",
         "PF",
         "5691278",
         34.0,
         "Paris Hutton_Hubert Oliveras@MVC.com",
         0.34,
         "Nigeria"
        ],
        [
         "29",
         "Male",
         "Cheri Kenney",
         "OOP",
         "5702560",
         42.0,
         "Lawanda Wohlwend_Naoma Fritts@Cloud.com",
         0.42,
         "Nigeria"
        ],
        [
         "28",
         "Female",
         "Jalisa Swenson",
         "MVC",
         "5712033",
         109.0,
         "Dustin Feagins_Hubert Oliveras@DSA.com",
         1.09,
         "Nigeria"
        ],
        [
         "29",
         "Male",
         "Tamera Blakley",
         "OOP",
         "5722341",
         78.0,
         "Jalisa Swenson_Santa Kerfien@OOP.com",
         0.78,
         "Nigeria"
        ],
        [
         "29",
         "Male",
         "Bonita Higuera",
         "OOP",
         "5732408",
         92.0,
         "Mitzi Seldon_Claude Panos@PF.com",
         0.92,
         "Nigeria"
        ],
        [
         "28",
         "Female",
         "Sebrina Maresca",
         "PF",
         "5742239",
         31.0,
         "Bonita Higuera_Sebrina Maresca@DB.com",
         0.31,
         "Nigeria"
        ],
        [
         "29",
         "Female",
         "Leontine Phillips",
         "OOP",
         "5752610",
         40.0,
         "Jeannetta Golden_Mitzi Seldon@MVC.com",
         0.4,
         "Nigeria"
        ],
        [
         "28",
         "Female",
         "Sebrina Maresca",
         "DSA",
         "5761415",
         99.0,
         "Margene Moores_Kena Wild@DSA.com",
         0.99,
         "Nigeria"
        ],
        [
         "29",
         "Male",
         "Gonzalo Ferebee",
         "MVC",
         "5772006",
         109.0,
         "Niki Klimek_Margene Moores@MVC.com",
         1.09,
         "Nigeria"
        ],
        [
         "28",
         "Female",
         "Melani Engberg",
         "Cloud",
         "5782064",
         74.0,
         "Ernest Rossbach_Ernest Rossbach@Cloud.com",
         0.74,
         "Nigeria"
        ],
        [
         "28",
         "Male",
         "Naoma Fritts",
         "OOP",
         "5791890",
         55.0,
         "Billi Clore_Jenna Montague@Cloud.com",
         0.55,
         "Nigeria"
        ],
        [
         "28",
         "Female",
         "Somer Stoecker",
         "MVC",
         "5801302",
         44.0,
         "Cheri Kenney_Bonita Higuera@OOP.com",
         0.44,
         "Nigeria"
        ],
        [
         "28",
         "Male",
         "Mickey Cortright",
         "PF",
         "5812370",
         49.0,
         "Jenna Montague_Sheryll Towler@OOP.com",
         0.49,
         "Nigeria"
        ],
        [
         "29",
         "Male",
         "Eda Neathery",
         "PF",
         "5821087",
         65.0,
         "Nicole Harwood_Paris Hutton@DSA.com",
         0.65,
         "Nigeria"
        ],
        [
         "29",
         "Male",
         "Priscila Tavernier",
         "OOP",
         "5831872",
         73.0,
         "Somer Stoecker_Kena Wild@OOP.com",
         0.73,
         "Nigeria"
        ],
        [
         "28",
         "Female",
         "Alberta Freund",
         "MVC",
         "5842912",
         61.0,
         "Cordie Harnois_Margene Moores@OOP.com",
         0.61,
         "Nigeria"
        ],
        [
         "29",
         "Female",
         "Paris Hutton",
         "PF",
         "5852476",
         76.0,
         "Loris Crossett_Mickey Cortright@MVC.com",
         0.76,
         "Nigeria"
        ],
        [
         "28",
         "Female",
         "Nicole Harwood",
         "DB",
         "5862606",
         87.0,
         "Clementina Menke_Donna Yerby@DB.com",
         0.87,
         "Nigeria"
        ],
        [
         "28",
         "Female",
         "Judie Chipps",
         "DB",
         "5872939",
         34.0,
         "Mitzi Seldon_Paris Hutton@OOP.com",
         0.34,
         "Nigeria"
        ],
        [
         "28",
         "Female",
         "Somer Stoecker",
         "PF",
         "5882098",
         108.0,
         "Judie Chipps_Clementina Menke@PF.com",
         1.08,
         "Nigeria"
        ],
        [
         "29",
         "Female",
         "Jenna Montague",
         "Cloud",
         "5892993",
         96.0,
         "Jeannetta Golden_Marylee Capasso@MVC.com",
         0.96,
         "Nigeria"
        ],
        [
         "28",
         "Male",
         "Sebrina Maresca",
         "PF",
         "5902730",
         44.0,
         "Michelle Ruggiero_Claude Panos@DSA.com",
         0.44,
         "Nigeria"
        ],
        [
         "29",
         "Female",
         "Melani Engberg",
         "DSA",
         "5911007",
         64.0,
         "Kizzy Brenner_Tamera Blakley@OOP.com",
         0.64,
         "Nigeria"
        ],
        [
         "29",
         "Female",
         "Gonzalo Ferebee",
         "MVC",
         "5922869",
         90.0,
         "Toshiko Hillyard_Naoma Fritts@OOP.com",
         0.9,
         "Nigeria"
        ],
        [
         "29",
         "Male",
         "Donna Yerby",
         "DB",
         "5932345",
         88.0,
         "Leontine Phillips_Sheryll Towler@PF.com",
         0.88,
         "Nigeria"
        ],
        [
         "28",
         "Female",
         "Somer Stoecker",
         "DSA",
         "5942293",
         98.0,
         "Nicole Harwood_Tamera Blakley@DB.com",
         0.98,
         "Nigeria"
        ],
        [
         "28",
         "Female",
         "Anna Santos",
         "OOP",
         "5952812",
         66.0,
         "Jeannetta Golden_Eda Neathery@DB.com",
         0.66,
         "Nigeria"
        ],
        [
         "28",
         "Female",
         "Cheri Kenney",
         "OOP",
         "5961043",
         47.0,
         "Bonita Higuera_Marylee Capasso@PF.com",
         0.47,
         "Nigeria"
        ],
        [
         "28",
         "Female",
         "Tamera Blakley",
         "DSA",
         "5972030",
         38.0,
         "Leontine Phillips_Annika Hoffman@DSA.com",
         0.38,
         "Nigeria"
        ],
        [
         "29",
         "Female",
         "Dustin Feagins",
         "Cloud",
         "5982620",
         82.0,
         "Kena Wild_Cheri Kenney@OOP.com",
         0.82,
         "Nigeria"
        ],
        [
         "28",
         "Male",
         "Toshiko Hillyard",
         "DSA",
         "5992644",
         87.0,
         "Jenna Montague_Tijuana Kropf@Cloud.com",
         0.87,
         "Nigeria"
        ],
        [
         "29",
         "Male",
         "Michelle Ruggiero",
         "PF",
         "6001585",
         30.0,
         "Paris Hutton_Margene Moores@PF.com",
         0.3,
         "Nigeria"
        ],
        [
         "29",
         "Male",
         "Kizzy Brenner",
         "DSA",
         "6012402",
         81.0,
         "Elenore Choy_Alberta Freund@PF.com",
         0.81,
         "Nigeria"
        ],
        [
         "29",
         "Female",
         "Tijuana Kropf",
         "Cloud",
         "6021281",
         52.0,
         "Alberta Freund_Sheryll Towler@PF.com",
         0.52,
         "Nigeria"
        ],
        [
         "28",
         "Male",
         "Gonzalo Ferebee",
         "MVC",
         "6032264",
         81.0,
         "Jeannetta Golden_Claude Panos@Cloud.com",
         0.81,
         "Nigeria"
        ],
        [
         "29",
         "Male",
         "Cheri Kenney",
         "DB",
         "6041254",
         69.0,
         "Gonzalo Ferebee_Margene Moores@PF.com",
         0.69,
         "Nigeria"
        ],
        [
         "29",
         "Female",
         "Paris Hutton",
         "DB",
         "6052159",
         44.0,
         "Priscila Tavernier_Maybell Duguay@PF.com",
         0.44,
         "Nigeria"
        ],
        [
         "28",
         "Female",
         "Bonita Higuera",
         "Cloud",
         "6061881",
         33.0,
         "Dustin Feagins_Lawanda Wohlwend@PF.com",
         0.33,
         "Nigeria"
        ],
        [
         "29",
         "Female",
         "Alberta Freund",
         "DSA",
         "6071316",
         109.0,
         "Dustin Feagins_Sebrina Maresca@DB.com",
         1.09,
         "Nigeria"
        ],
        [
         "28",
         "Male",
         "Priscila Tavernier",
         "DSA",
         "6082520",
         99.0,
         "Clementina Menke_Hubert Oliveras@DSA.com",
         0.99,
         "Nigeria"
        ],
        [
         "29",
         "Male",
         "Kena Wild",
         "DSA",
         "6092008",
         86.0,
         "Sheryll Towler_Anna Santos@PF.com",
         0.86,
         "Nigeria"
        ],
        [
         "29",
         "Female",
         "Billi Clore",
         "Cloud",
         "6101096",
         37.0,
         "Maybell Duguay_Claude Panos@PF.com",
         0.37,
         "Nigeria"
        ],
        [
         "29",
         "Female",
         "Alberta Freund",
         "PF",
         "6111594",
         99.0,
         "Celeste Lollis_Anna Santos@Cloud.com",
         0.99,
         "Nigeria"
        ],
        [
         "29",
         "Female",
         "Jalisa Swenson",
         "Cloud",
         "6121309",
         69.0,
         "Kizzy Brenner_Dustin Feagins@PF.com",
         0.69,
         "Nigeria"
        ],
        [
         "28",
         "Male",
         "Paris Hutton",
         "DB",
         "6131084",
         82.0,
         "Tijuana Kropf_Abram Nagao@MVC.com",
         0.82,
         "Nigeria"
        ],
        [
         "29",
         "Male",
         "Jalisa Swenson",
         "DB",
         "6141407",
         107.0,
         "Ernest Rossbach_Alberta Freund@DB.com",
         1.07,
         "Nigeria"
        ],
        [
         "28",
         "Female",
         "Jenna Montague",
         "DSA",
         "6152830",
         91.0,
         "Gonzalo Ferebee_Lawanda Wohlwend@DB.com",
         0.91,
         "Nigeria"
        ],
        [
         "29",
         "Female",
         "Jalisa Swenson",
         "Cloud",
         "6161884",
         50.0,
         "Bonita Higuera_Latia Vanhoose@OOP.com",
         0.5,
         "Nigeria"
        ],
        [
         "29",
         "Male",
         "Jc Andrepont",
         "Cloud",
         "6171781",
         98.0,
         "Gonzalo Ferebee_Claude Panos@DB.com",
         0.98,
         "Nigeria"
        ],
        [
         "29",
         "Female",
         "Abram Nagao",
         "PF",
         "6182152",
         60.0,
         "Santa Kerfien_Claude Panos@DB.com",
         0.6,
         "Nigeria"
        ],
        [
         "28",
         "Female",
         "Cheri Kenney",
         "Cloud",
         "6192920",
         50.0,
         "Maybell Duguay_Neda Briski@OOP.com",
         0.5,
         "Nigeria"
        ],
        [
         "28",
         "Female",
         "Kena Wild",
         "DSA",
         "6201485",
         95.0,
         "Niki Klimek_Clementina Menke@MVC.com",
         0.95,
         "Nigeria"
        ],
        [
         "29",
         "Female",
         "Loris Crossett",
         "DB",
         "6212990",
         49.0,
         "Melani Engberg_Paris Hutton@Cloud.com",
         0.49,
         "Nigeria"
        ],
        [
         "29",
         "Female",
         "Kizzy Brenner",
         "DB",
         "6222425",
         79.0,
         "Margene Moores_Sebrina Maresca@MVC.com",
         0.79,
         "Nigeria"
        ],
        [
         "29",
         "Male",
         "Neda Briski",
         "DSA",
         "6231956",
         85.0,
         "Nicole Harwood_Santa Kerfien@Cloud.com",
         0.85,
         "Nigeria"
        ],
        [
         "28",
         "Female",
         "Billi Clore",
         "DSA",
         "6242097",
         107.0,
         "Jeannetta Golden_Maybell Duguay@DSA.com",
         1.07,
         "Nigeria"
        ],
        [
         "29",
         "Male",
         "Melani Engberg",
         "PF",
         "6252274",
         74.0,
         "Latia Vanhoose_Paris Hutton@OOP.com",
         0.74,
         "Nigeria"
        ],
        [
         "28",
         "Female",
         "Judie Chipps",
         "Cloud",
         "6261948",
         90.0,
         "Eda Neathery_Priscila Tavernier@MVC.com",
         0.9,
         "Nigeria"
        ],
        [
         "28",
         "Female",
         "Sheryll Towler",
         "DB",
         "6271754",
         53.0,
         "Elenore Choy_Melani Engberg@MVC.com",
         0.53,
         "Nigeria"
        ],
        [
         "28",
         "Male",
         "Tijuana Kropf",
         "Cloud",
         "6281730",
         93.0,
         "Mickey Cortright_Celeste Lollis@Cloud.com",
         0.93,
         "Nigeria"
        ],
        [
         "28",
         "Male",
         "Alberta Freund",
         "PF",
         "6291431",
         78.0,
         "Clementina Menke_Billi Clore@PF.com",
         0.78,
         "Nigeria"
        ],
        [
         "28",
         "Female",
         "Maybell Duguay",
         "DB",
         "6301666",
         98.0,
         "Latia Vanhoose_Jc Andrepont@Cloud.com",
         0.98,
         "Nigeria"
        ],
        [
         "29",
         "Male",
         "Eda Neathery",
         "DB",
         "6311969",
         93.0,
         "Clementina Menke_Neda Briski@DB.com",
         0.93,
         "Nigeria"
        ],
        [
         "29",
         "Male",
         "Claude Panos",
         "OOP",
         "6321119",
         45.0,
         "Bonita Higuera_Eda Neathery@DSA.com",
         0.45,
         "Nigeria"
        ],
        [
         "29",
         "Female",
         "Dustin Feagins",
         "PF",
         "6331469",
         61.0,
         "Melani Engberg_Margene Moores@MVC.com",
         0.61,
         "Nigeria"
        ],
        [
         "28",
         "Female",
         "Dustin Feagins",
         "OOP",
         "6341113",
         35.0,
         "Latia Vanhoose_Jenna Montague@OOP.com",
         0.35,
         "Nigeria"
        ],
        [
         "28",
         "Male",
         "Alberta Freund",
         "PF",
         "6352910",
         62.0,
         "Judie Chipps_Maybell Duguay@Cloud.com",
         0.62,
         "Nigeria"
        ],
        [
         "28",
         "Female",
         "Michelle Ruggiero",
         "Cloud",
         "6362263",
         76.0,
         "Sheryll Towler_Donna Yerby@Cloud.com",
         0.76,
         "Nigeria"
        ],
        [
         "29",
         "Male",
         "Toshiko Hillyard",
         "DSA",
         "6371328",
         101.0,
         "Somer Stoecker_Maybell Duguay@OOP.com",
         1.01,
         "Nigeria"
        ],
        [
         "28",
         "Male",
         "Annika Hoffman",
         "MVC",
         "6381719",
         58.0,
         "Ernest Rossbach_Jc Andrepont@DSA.com",
         0.58,
         "Nigeria"
        ],
        [
         "28",
         "Male",
         "Lawanda Wohlwend",
         "Cloud",
         "6391977",
         49.0,
         "Marylee Capasso_Melani Engberg@MVC.com",
         0.49,
         "Nigeria"
        ],
        [
         "28",
         "Female",
         "Eda Neathery",
         "PF",
         "6402146",
         88.0,
         "Sheryll Towler_Somer Stoecker@PF.com",
         0.88,
         "Nigeria"
        ],
        [
         "29",
         "Female",
         "Eda Neathery",
         "DSA",
         "6412002",
         105.0,
         "Sebrina Maresca_Hubert Oliveras@Cloud.com",
         1.05,
         "Nigeria"
        ],
        [
         "28",
         "Male",
         "Naoma Fritts",
         "DB",
         "6422790",
         105.0,
         "Sheryll Towler_Ernest Rossbach@DSA.com",
         1.05,
         "Nigeria"
        ],
        [
         "29",
         "Male",
         "Elenore Choy",
         "PF",
         "6431645",
         63.0,
         "Loris Crossett_Kena Wild@MVC.com",
         0.63,
         "Nigeria"
        ],
        [
         "28",
         "Male",
         "Leontine Phillips",
         "PF",
         "6442094",
         88.0,
         "Michelle Ruggiero_Paris Hutton@OOP.com",
         0.88,
         "Nigeria"
        ],
        [
         "29",
         "Female",
         "Maybell Duguay",
         "MVC",
         "6451082",
         43.0,
         "Lawanda Wohlwend_Mitzi Seldon@DB.com",
         0.43,
         "Nigeria"
        ],
        [
         "29",
         "Female",
         "Niki Klimek",
         "PF",
         "6462485",
         94.0,
         "Tamera Blakley_Niki Klimek@Cloud.com",
         0.94,
         "Nigeria"
        ],
        [
         "28",
         "Male",
         "Taryn Brownlee",
         "PF",
         "6471481",
         86.0,
         "Annika Hoffman_Donna Yerby@OOP.com",
         0.86,
         "Nigeria"
        ],
        [
         "29",
         "Female",
         "Claude Panos",
         "Cloud",
         "6482574",
         77.0,
         "Eda Neathery_Billi Clore@Cloud.com",
         0.77,
         "Nigeria"
        ],
        [
         "29",
         "Male",
         "Bonita Higuera",
         "MVC",
         "6491656",
         55.0,
         "Neda Briski_Naoma Fritts@DB.com",
         0.55,
         "Nigeria"
        ],
        [
         "28",
         "Male",
         "Jalisa Swenson",
         "MVC",
         "6501571",
         81.0,
         "Naoma Fritts_Niki Klimek@MVC.com",
         0.81,
         "Nigeria"
        ],
        [
         "29",
         "Male",
         "Judie Chipps",
         "Cloud",
         "6511826",
         84.0,
         "Clementina Menke_Judie Chipps@DSA.com",
         0.84,
         "Nigeria"
        ],
        [
         "28",
         "Female",
         "Nicole Harwood",
         "DB",
         "6522046",
         89.0,
         "Naoma Fritts_Margene Moores@DSA.com",
         0.89,
         "Nigeria"
        ],
        [
         "29",
         "Male",
         "Somer Stoecker",
         "DSA",
         "6531094",
         91.0,
         "Dustin Feagins_Kena Wild@MVC.com",
         0.91,
         "Nigeria"
        ],
        [
         "28",
         "Female",
         "Priscila Tavernier",
         "Cloud",
         "6542640",
         37.0,
         "Kizzy Brenner_Loris Crossett@Cloud.com",
         0.37,
         "Nigeria"
        ],
        [
         "29",
         "Male",
         "Neda Briski",
         "MVC",
         "6552886",
         93.0,
         "Abram Nagao_Marylee Capasso@OOP.com",
         0.93,
         "Nigeria"
        ],
        [
         "28",
         "Male",
         "Cheri Kenney",
         "Cloud",
         "6562808",
         102.0,
         "Donna Yerby_Dustin Feagins@PF.com",
         1.02,
         "Nigeria"
        ],
        [
         "29",
         "Male",
         "Tijuana Kropf",
         "PF",
         "6572639",
         81.0,
         "Sheryll Towler_Latia Vanhoose@PF.com",
         0.81,
         "Nigeria"
        ],
        [
         "28",
         "Female",
         "Kizzy Brenner",
         "DB",
         "6582931",
         67.0,
         "Alberta Freund_Jc Andrepont@PF.com",
         0.67,
         "Nigeria"
        ],
        [
         "29",
         "Female",
         "Melani Engberg",
         "Cloud",
         "6592152",
         40.0,
         "Gonzalo Ferebee_Hubert Oliveras@MVC.com",
         0.4,
         "Nigeria"
        ],
        [
         "28",
         "Male",
         "Tamera Blakley",
         "Cloud",
         "6601939",
         44.0,
         "Jenna Montague_Clementina Menke@Cloud.com",
         0.44,
         "Nigeria"
        ],
        [
         "29",
         "Male",
         "Gonzalo Ferebee",
         "DSA",
         "6611648",
         76.0,
         "Tijuana Kropf_Elenore Choy@OOP.com",
         0.76,
         "Nigeria"
        ],
        [
         "29",
         "Female",
         "Jeannetta Golden",
         "DSA",
         "6621600",
         42.0,
         "Dustin Feagins_Sheryll Towler@MVC.com",
         0.42,
         "Nigeria"
        ],
        [
         "28",
         "Male",
         "Neda Briski",
         "DB",
         "6632463",
         58.0,
         "Sheryll Towler_Dustin Feagins@Cloud.com",
         0.58,
         "Nigeria"
        ],
        [
         "28",
         "Male",
         "Maybell Duguay",
         "MVC",
         "6642438",
         66.0,
         "Margene Moores_Bonita Higuera@DB.com",
         0.66,
         "Nigeria"
        ],
        [
         "28",
         "Male",
         "Naoma Fritts",
         "OOP",
         "6652677",
         87.0,
         "Lawanda Wohlwend_Billi Clore@MVC.com",
         0.87,
         "Nigeria"
        ],
        [
         "29",
         "Female",
         "Margene Moores",
         "OOP",
         "6662414",
         70.0,
         "Hubert Oliveras_Margene Moores@DSA.com",
         0.7,
         "Nigeria"
        ],
        [
         "29",
         "Female",
         "Sheryll Towler",
         "OOP",
         "6672653",
         33.0,
         "Jenna Montague_Santa Kerfien@PF.com",
         0.33,
         "Nigeria"
        ],
        [
         "29",
         "Male",
         "Paris Hutton",
         "PF",
         "6682291",
         88.0,
         "Margene Moores_Hubert Oliveras@PF.com",
         0.88,
         "Nigeria"
        ],
        [
         "28",
         "Female",
         "Taryn Brownlee",
         "Cloud",
         "6692958",
         41.0,
         "Cordie Harnois_Cheri Kenney@OOP.com",
         0.41,
         "Nigeria"
        ],
        [
         "28",
         "Female",
         "Latia Vanhoose",
         "Cloud",
         "6701628",
         43.0,
         "Abram Nagao_Cheri Kenney@DB.com",
         0.43,
         "Nigeria"
        ],
        [
         "28",
         "Female",
         "Kizzy Brenner",
         "Cloud",
         "6711773",
         94.0,
         "Leontine Phillips_Donna Yerby@DSA.com",
         0.94,
         "Nigeria"
        ],
        [
         "28",
         "Male",
         "Paris Hutton",
         "PF",
         "6722224",
         100.0,
         "Niki Klimek_Gonzalo Ferebee@Cloud.com",
         1.0,
         "Nigeria"
        ],
        [
         "29",
         "Female",
         "Anna Santos",
         "DB",
         "6732334",
         55.0,
         "Gonzalo Ferebee_Alberta Freund@DSA.com",
         0.55,
         "Nigeria"
        ],
        [
         "29",
         "Female",
         "Judie Chipps",
         "PF",
         "6742197",
         72.0,
         "Eda Neathery_Elenore Choy@MVC.com",
         0.72,
         "Nigeria"
        ],
        [
         "28",
         "Male",
         "Donna Yerby",
         "MVC",
         "6752737",
         36.0,
         "Mickey Cortright_Gonzalo Ferebee@DSA.com",
         0.36,
         "Nigeria"
        ],
        [
         "28",
         "Male",
         "Anna Santos",
         "OOP",
         "6762411",
         91.0,
         "Bonita Higuera_Annika Hoffman@Cloud.com",
         0.91,
         "Nigeria"
        ],
        [
         "29",
         "Female",
         "Latia Vanhoose",
         "MVC",
         "6771882",
         59.0,
         "Alberta Freund_Latia Vanhoose@DB.com",
         0.59,
         "Nigeria"
        ],
        [
         "29",
         "Female",
         "Ernest Rossbach",
         "PF",
         "6782099",
         69.0,
         "Claude Panos_Annika Hoffman@DSA.com",
         0.69,
         "Nigeria"
        ],
        [
         "28",
         "Male",
         "Paris Hutton",
         "MVC",
         "6791398",
         73.0,
         "Bonita Higuera_Billi Clore@OOP.com",
         0.73,
         "Nigeria"
        ],
        [
         "29",
         "Male",
         "Billi Clore",
         "Cloud",
         "6802170",
         62.0,
         "Dustin Feagins_Sebrina Maresca@DSA.com",
         0.62,
         "Nigeria"
        ],
        [
         "29",
         "Male",
         "Tamera Blakley",
         "DB",
         "6811165",
         72.0,
         "Annika Hoffman_Bonita Higuera@PF.com",
         0.72,
         "Nigeria"
        ],
        [
         "29",
         "Male",
         "Tamera Blakley",
         "Cloud",
         "6822429",
         77.0,
         "Donna Yerby_Cheri Kenney@DB.com",
         0.77,
         "Nigeria"
        ],
        [
         "28",
         "Female",
         "Kena Wild",
         "DSA",
         "6831241",
         104.0,
         "Loris Crossett_Leontine Phillips@OOP.com",
         1.04,
         "Nigeria"
        ],
        [
         "29",
         "Male",
         "Neda Briski",
         "OOP",
         "6842985",
         90.0,
         "Toshiko Hillyard_Cordie Harnois@MVC.com",
         0.9,
         "Nigeria"
        ],
        [
         "29",
         "Female",
         "Donna Yerby",
         "PF",
         "6851744",
         69.0,
         "Maybell Duguay_Hubert Oliveras@Cloud.com",
         0.69,
         "Nigeria"
        ],
        [
         "29",
         "Female",
         "Mitzi Seldon",
         "DB",
         "6862019",
         88.0,
         "Kena Wild_Celeste Lollis@DSA.com",
         0.88,
         "Nigeria"
        ],
        [
         "29",
         "Male",
         "Margene Moores",
         "DSA",
         "6872276",
         99.0,
         "Leontine Phillips_Annika Hoffman@PF.com",
         0.99,
         "Nigeria"
        ],
        [
         "28",
         "Female",
         "Billi Clore",
         "Cloud",
         "6882495",
         56.0,
         "Claude Panos_Latia Vanhoose@DSA.com",
         0.56,
         "Nigeria"
        ],
        [
         "28",
         "Female",
         "Kizzy Brenner",
         "DB",
         "6892057",
         80.0,
         "Priscila Tavernier_Judie Chipps@OOP.com",
         0.8,
         "Nigeria"
        ],
        [
         "28",
         "Male",
         "Leontine Phillips",
         "MVC",
         "6902478",
         42.0,
         "Melani Engberg_Ernest Rossbach@MVC.com",
         0.42,
         "Nigeria"
        ],
        [
         "29",
         "Female",
         "Kena Wild",
         "DB",
         "6911600",
         83.0,
         "Maybell Duguay_Latia Vanhoose@PF.com",
         0.83,
         "Nigeria"
        ],
        [
         "28",
         "Female",
         "Paris Hutton",
         "Cloud",
         "6922359",
         56.0,
         "Neda Briski_Dustin Feagins@DB.com",
         0.56,
         "Nigeria"
        ],
        [
         "29",
         "Female",
         "Maybell Duguay",
         "OOP",
         "6931378",
         65.0,
         "Toshiko Hillyard_Latia Vanhoose@DSA.com",
         0.65,
         "Nigeria"
        ],
        [
         "29",
         "Female",
         "Sebrina Maresca",
         "MVC",
         "6941692",
         95.0,
         "Billi Clore_Jc Andrepont@Cloud.com",
         0.95,
         "Nigeria"
        ],
        [
         "28",
         "Female",
         "Tamera Blakley",
         "DSA",
         "6951836",
         91.0,
         "Somer Stoecker_Donna Yerby@OOP.com",
         0.91,
         "Nigeria"
        ],
        [
         "29",
         "Male",
         "Loris Crossett",
         "MVC",
         "6962740",
         105.0,
         "Jeannetta Golden_Ernest Rossbach@OOP.com",
         1.05,
         "Nigeria"
        ],
        [
         "28",
         "Female",
         "Niki Klimek",
         "DSA",
         "6971140",
         37.0,
         "Leontine Phillips_Gonzalo Ferebee@MVC.com",
         0.37,
         "Nigeria"
        ],
        [
         "28",
         "Male",
         "Elenore Choy",
         "MVC",
         "6982740",
         51.0,
         "Latia Vanhoose_Leontine Phillips@PF.com",
         0.51,
         "Nigeria"
        ],
        [
         "29",
         "Male",
         "Donna Yerby",
         "DSA",
         "6991370",
         101.0,
         "Dustin Feagins_Abram Nagao@PF.com",
         1.01,
         "Nigeria"
        ],
        [
         "29",
         "Male",
         "Santa Kerfien",
         "OOP",
         "7001706",
         87.0,
         "Bonita Higuera_Nicole Harwood@DSA.com",
         0.87,
         "Nigeria"
        ],
        [
         "28",
         "Female",
         "Judie Chipps",
         "PF",
         "7012144",
         98.0,
         "Nicole Harwood_Tamera Blakley@PF.com",
         0.98,
         "Nigeria"
        ],
        [
         "28",
         "Female",
         "Neda Briski",
         "PF",
         "7021987",
         72.0,
         "Elenore Choy_Jenna Montague@DSA.com",
         0.72,
         "Nigeria"
        ],
        [
         "29",
         "Male",
         "Tamera Blakley",
         "DSA",
         "7031305",
         67.0,
         "Clementina Menke_Toshiko Hillyard@PF.com",
         0.67,
         "Nigeria"
        ],
        [
         "29",
         "Male",
         "Cordie Harnois",
         "DSA",
         "7041544",
         107.0,
         "Kizzy Brenner_Jalisa Swenson@OOP.com",
         1.07,
         "Nigeria"
        ],
        [
         "28",
         "Male",
         "Leontine Phillips",
         "Cloud",
         "7051293",
         87.0,
         "Bonita Higuera_Cheri Kenney@Cloud.com",
         0.87,
         "Nigeria"
        ],
        [
         "29",
         "Male",
         "Margene Moores",
         "MVC",
         "7062262",
         69.0,
         "Nicole Harwood_Michelle Ruggiero@Cloud.com",
         0.69,
         "Nigeria"
        ],
        [
         "28",
         "Female",
         "Mickey Cortright",
         "MVC",
         "7071556",
         46.0,
         "Priscila Tavernier_Nicole Harwood@OOP.com",
         0.46,
         "Nigeria"
        ],
        [
         "29",
         "Female",
         "Annika Hoffman",
         "MVC",
         "7081972",
         105.0,
         "Judie Chipps_Mitzi Seldon@OOP.com",
         1.05,
         "Nigeria"
        ],
        [
         "28",
         "Female",
         "Ernest Rossbach",
         "MVC",
         "7091785",
         67.0,
         "Loris Crossett_Billi Clore@PF.com",
         0.67,
         "Nigeria"
        ],
        [
         "29",
         "Male",
         "Hubert Oliveras",
         "OOP",
         "7102834",
         54.0,
         "Hubert Oliveras_Celeste Lollis@Cloud.com",
         0.54,
         "Nigeria"
        ],
        [
         "29",
         "Male",
         "Eda Neathery",
         "MVC",
         "7111575",
         57.0,
         "Anna Santos_Tamera Blakley@DSA.com",
         0.57,
         "Nigeria"
        ],
        [
         "28",
         "Female",
         "Nicole Harwood",
         "DSA",
         "7121730",
         63.0,
         "Michelle Ruggiero_Marylee Capasso@MVC.com",
         0.63,
         "Nigeria"
        ],
        [
         "28",
         "Female",
         "Anna Santos",
         "PF",
         "7132856",
         40.0,
         "Elenore Choy_Paris Hutton@DSA.com",
         0.4,
         "Nigeria"
        ],
        [
         "29",
         "Male",
         "Cordie Harnois",
         "Cloud",
         "7141186",
         84.0,
         "Paris Hutton_Marylee Capasso@PF.com",
         0.84,
         "Nigeria"
        ],
        [
         "28",
         "Female",
         "Bonita Higuera",
         "OOP",
         "7151179",
         63.0,
         "Taryn Brownlee_Sheryll Towler@Cloud.com",
         0.63,
         "Nigeria"
        ],
        [
         "28",
         "Male",
         "Gonzalo Ferebee",
         "OOP",
         "7162059",
         33.0,
         "Melani Engberg_Melani Engberg@DSA.com",
         0.33,
         "Nigeria"
        ],
        [
         "28",
         "Male",
         "Clementina Menke",
         "DB",
         "7172058",
         72.0,
         "Mitzi Seldon_Clementina Menke@MVC.com",
         0.72,
         "Nigeria"
        ],
        [
         "29",
         "Female",
         "Jeannetta Golden",
         "Cloud",
         "7182144",
         80.0,
         "Naoma Fritts_Niki Klimek@PF.com",
         0.8,
         "Nigeria"
        ],
        [
         "28",
         "Female",
         "Melani Engberg",
         "OOP",
         "7192072",
         102.0,
         "Cheri Kenney_Ernest Rossbach@DSA.com",
         1.02,
         "Nigeria"
        ],
        [
         "29",
         "Male",
         "Sebrina Maresca",
         "DSA",
         "7202414",
         61.0,
         "Ernest Rossbach_Jalisa Swenson@MVC.com",
         0.61,
         "Nigeria"
        ],
        [
         "28",
         "Male",
         "Dustin Feagins",
         "DSA",
         "7212606",
         61.0,
         "Cheri Kenney_Eda Neathery@DB.com",
         0.61,
         "Nigeria"
        ],
        [
         "29",
         "Female",
         "Lawanda Wohlwend",
         "Cloud",
         "7222880",
         108.0,
         "Sheryll Towler_Anna Santos@DB.com",
         1.08,
         "Nigeria"
        ],
        [
         "28",
         "Female",
         "Clementina Menke",
         "DSA",
         "7231357",
         52.0,
         "Judie Chipps_Cordie Harnois@MVC.com",
         0.52,
         "Nigeria"
        ],
        [
         "28",
         "Male",
         "Leontine Phillips",
         "DB",
         "7242704",
         82.0,
         "Maybell Duguay_Toshiko Hillyard@PF.com",
         0.82,
         "Nigeria"
        ],
        [
         "28",
         "Male",
         "Taryn Brownlee",
         "PF",
         "7252400",
         87.0,
         "Marylee Capasso_Jeannetta Golden@DB.com",
         0.87,
         "Nigeria"
        ],
        [
         "28",
         "Female",
         "Lawanda Wohlwend",
         "DB",
         "7261840",
         91.0,
         "Donna Yerby_Kizzy Brenner@Cloud.com",
         0.91,
         "Nigeria"
        ],
        [
         "29",
         "Female",
         "Bonita Higuera",
         "Cloud",
         "7272043",
         82.0,
         "Alberta Freund_Latia Vanhoose@PF.com",
         0.82,
         "Nigeria"
        ],
        [
         "29",
         "Male",
         "Neda Briski",
         "DSA",
         "7282511",
         52.0,
         "Jalisa Swenson_Naoma Fritts@MVC.com",
         0.52,
         "Nigeria"
        ],
        [
         "28",
         "Female",
         "Clementina Menke",
         "Cloud",
         "7291419",
         56.0,
         "Bonita Higuera_Naoma Fritts@OOP.com",
         0.56,
         "Nigeria"
        ],
        [
         "28",
         "Male",
         "Sheryll Towler",
         "Cloud",
         "7301966",
         73.0,
         "Jalisa Swenson_Leontine Phillips@DSA.com",
         0.73,
         "Nigeria"
        ],
        [
         "28",
         "Male",
         "Taryn Brownlee",
         "PF",
         "7311546",
         37.0,
         "Clementina Menke_Melani Engberg@MVC.com",
         0.37,
         "Nigeria"
        ],
        [
         "28",
         "Male",
         "Cheri Kenney",
         "OOP",
         "7321040",
         93.0,
         "Sheryll Towler_Judie Chipps@PF.com",
         0.93,
         "Nigeria"
        ],
        [
         "28",
         "Male",
         "Marylee Capasso",
         "DSA",
         "7331984",
         80.0,
         "Bonita Higuera_Melani Engberg@PF.com",
         0.8,
         "Nigeria"
        ],
        [
         "29",
         "Male",
         "Tamera Blakley",
         "OOP",
         "7341268",
         31.0,
         "Anna Santos_Naoma Fritts@OOP.com",
         0.31,
         "Nigeria"
        ],
        [
         "29",
         "Female",
         "Jc Andrepont",
         "OOP",
         "7351315",
         94.0,
         "Judie Chipps_Margene Moores@OOP.com",
         0.94,
         "Nigeria"
        ],
        [
         "29",
         "Male",
         "Claude Panos",
         "PF",
         "7362772",
         102.0,
         "Clementina Menke_Naoma Fritts@OOP.com",
         1.02,
         "Nigeria"
        ],
        [
         "29",
         "Male",
         "Annika Hoffman",
         "MVC",
         "7372375",
         45.0,
         "Sheryll Towler_Taryn Brownlee@MVC.com",
         0.45,
         "Nigeria"
        ],
        [
         "28",
         "Female",
         "Latia Vanhoose",
         "MVC",
         "7381991",
         104.0,
         "Eda Neathery_Michelle Ruggiero@MVC.com",
         1.04,
         "Nigeria"
        ],
        [
         "29",
         "Male",
         "Margene Moores",
         "MVC",
         "7391087",
         69.0,
         "Jc Andrepont_Latia Vanhoose@DSA.com",
         0.69,
         "Nigeria"
        ],
        [
         "29",
         "Female",
         "Claude Panos",
         "PF",
         "7402827",
         92.0,
         "Kizzy Brenner_Kena Wild@MVC.com",
         0.92,
         "Nigeria"
        ],
        [
         "29",
         "Female",
         "Santa Kerfien",
         "PF",
         "7412168",
         34.0,
         "Eda Neathery_Abram Nagao@Cloud.com",
         0.34,
         "Nigeria"
        ],
        [
         "29",
         "Male",
         "Celeste Lollis",
         "PF",
         "7421417",
         93.0,
         "Jc Andrepont_Maybell Duguay@PF.com",
         0.93,
         "Nigeria"
        ],
        [
         "28",
         "Female",
         "Lawanda Wohlwend",
         "DSA",
         "7431179",
         101.0,
         "Anna Santos_Neda Briski@DB.com",
         1.01,
         "Nigeria"
        ],
        [
         "28",
         "Female",
         "Loris Crossett",
         "Cloud",
         "7441605",
         82.0,
         "Sheryll Towler_Kena Wild@DB.com",
         0.82,
         "Nigeria"
        ],
        [
         "28",
         "Female",
         "Taryn Brownlee",
         "MVC",
         "7452944",
         43.0,
         "Elenore Choy_Jenna Montague@MVC.com",
         0.43,
         "Nigeria"
        ],
        [
         "28",
         "Male",
         "Tijuana Kropf",
         "MVC",
         "7462328",
         42.0,
         "Toshiko Hillyard_Tamera Blakley@DSA.com",
         0.42,
         "Nigeria"
        ],
        [
         "29",
         "Female",
         "Melani Engberg",
         "DB",
         "7471313",
         87.0,
         "Cheri Kenney_Celeste Lollis@PF.com",
         0.87,
         "Nigeria"
        ],
        [
         "29",
         "Female",
         "Dustin Feagins",
         "MVC",
         "7481997",
         47.0,
         "Mickey Cortright_Gonzalo Ferebee@MVC.com",
         0.47,
         "Nigeria"
        ],
        [
         "28",
         "Female",
         "Eda Neathery",
         "MVC",
         "7491443",
         56.0,
         "Neda Briski_Margene Moores@OOP.com",
         0.56,
         "Nigeria"
        ],
        [
         "28",
         "Male",
         "Priscila Tavernier",
         "MVC",
         "7502427",
         107.0,
         "Alberta Freund_Niki Klimek@OOP.com",
         1.07,
         "Nigeria"
        ],
        [
         "28",
         "Male",
         "Hubert Oliveras",
         "MVC",
         "7512833",
         57.0,
         "Loris Crossett_Jenna Montague@OOP.com",
         0.57,
         "Nigeria"
        ],
        [
         "29",
         "Female",
         "Leontine Phillips",
         "PF",
         "7522221",
         62.0,
         "Hubert Oliveras_Dustin Feagins@Cloud.com",
         0.62,
         "Nigeria"
        ],
        [
         "28",
         "Female",
         "Melani Engberg",
         "Cloud",
         "7531661",
         35.0,
         "Gonzalo Ferebee_Dustin Feagins@MVC.com",
         0.35,
         "Nigeria"
        ],
        [
         "29",
         "Female",
         "Jalisa Swenson",
         "DB",
         "7542285",
         69.0,
         "Maybell Duguay_Billi Clore@PF.com",
         0.69,
         "Nigeria"
        ],
        [
         "28",
         "Female",
         "Cheri Kenney",
         "DB",
         "7551469",
         43.0,
         "Paris Hutton_Annika Hoffman@OOP.com",
         0.43,
         "Nigeria"
        ],
        [
         "28",
         "Female",
         "Santa Kerfien",
         "MVC",
         "7561491",
         78.0,
         "Niki Klimek_Nicole Harwood@MVC.com",
         0.78,
         "Nigeria"
        ],
        [
         "28",
         "Male",
         "Kizzy Brenner",
         "MVC",
         "7572603",
         70.0,
         "Nicole Harwood_Sheryll Towler@MVC.com",
         0.7,
         "Nigeria"
        ],
        [
         "28",
         "Female",
         "Taryn Brownlee",
         "Cloud",
         "7582853",
         86.0,
         "Sebrina Maresca_Annika Hoffman@Cloud.com",
         0.86,
         "Nigeria"
        ],
        [
         "28",
         "Male",
         "Melani Engberg",
         "Cloud",
         "7591331",
         93.0,
         "Billi Clore_Neda Briski@DSA.com",
         0.93,
         "Nigeria"
        ],
        [
         "28",
         "Male",
         "Michelle Ruggiero",
         "OOP",
         "7601079",
         92.0,
         "Jenna Montague_Donna Yerby@DSA.com",
         0.92,
         "Nigeria"
        ],
        [
         "29",
         "Female",
         "Anna Santos",
         "DSA",
         "7611959",
         47.0,
         "Gonzalo Ferebee_Claude Panos@DB.com",
         0.47,
         "Nigeria"
        ],
        [
         "29",
         "Female",
         "Kena Wild",
         "DSA",
         "7621891",
         79.0,
         "Marylee Capasso_Marylee Capasso@DSA.com",
         0.79,
         "Nigeria"
        ],
        [
         "29",
         "Male",
         "Lawanda Wohlwend",
         "MVC",
         "7631030",
         67.0,
         "Mitzi Seldon_Sebrina Maresca@OOP.com",
         0.67,
         "Nigeria"
        ],
        [
         "29",
         "Male",
         "Santa Kerfien",
         "MVC",
         "7642624",
         107.0,
         "Santa Kerfien_Elenore Choy@Cloud.com",
         1.07,
         "Nigeria"
        ],
        [
         "29",
         "Female",
         "Paris Hutton",
         "MVC",
         "7652057",
         77.0,
         "Michelle Ruggiero_Anna Santos@PF.com",
         0.77,
         "Nigeria"
        ],
        [
         "29",
         "Male",
         "Taryn Brownlee",
         "MVC",
         "7662789",
         70.0,
         "Elenore Choy_Anna Santos@OOP.com",
         0.7,
         "Nigeria"
        ],
        [
         "28",
         "Male",
         "Bonita Higuera",
         "Cloud",
         "7671835",
         31.0,
         "Taryn Brownlee_Sebrina Maresca@PF.com",
         0.31,
         "Nigeria"
        ],
        [
         "28",
         "Female",
         "Judie Chipps",
         "DB",
         "7682333",
         91.0,
         "Toshiko Hillyard_Claude Panos@DB.com",
         0.91,
         "Nigeria"
        ],
        [
         "29",
         "Female",
         "Celeste Lollis",
         "Cloud",
         "7691188",
         92.0,
         "Mitzi Seldon_Jenna Montague@PF.com",
         0.92,
         "Nigeria"
        ],
        [
         "28",
         "Male",
         "Mickey Cortright",
         "DB",
         "7702338",
         79.0,
         "Latia Vanhoose_Jeannetta Golden@OOP.com",
         0.79,
         "Nigeria"
        ],
        [
         "28",
         "Female",
         "Billi Clore",
         "DB",
         "7711330",
         74.0,
         "Maybell Duguay_Ernest Rossbach@Cloud.com",
         0.74,
         "Nigeria"
        ],
        [
         "29",
         "Male",
         "Latia Vanhoose",
         "Cloud",
         "7721956",
         55.0,
         "Jalisa Swenson_Annika Hoffman@DB.com",
         0.55,
         "Nigeria"
        ],
        [
         "29",
         "Male",
         "Sebrina Maresca",
         "PF",
         "7731207",
         79.0,
         "Leontine Phillips_Kena Wild@DSA.com",
         0.79,
         "Nigeria"
        ],
        [
         "28",
         "Male",
         "Latia Vanhoose",
         "OOP",
         "7741757",
         76.0,
         "Loris Crossett_Naoma Fritts@DSA.com",
         0.76,
         "Nigeria"
        ],
        [
         "28",
         "Male",
         "Anna Santos",
         "DSA",
         "7752196",
         102.0,
         "Latia Vanhoose_Tamera Blakley@OOP.com",
         1.02,
         "Nigeria"
        ],
        [
         "29",
         "Female",
         "Margene Moores",
         "PF",
         "7761927",
         42.0,
         "Annika Hoffman_Taryn Brownlee@OOP.com",
         0.42,
         "Nigeria"
        ],
        [
         "29",
         "Female",
         "Judie Chipps",
         "DSA",
         "7772671",
         61.0,
         "Jenna Montague_Dustin Feagins@DB.com",
         0.61,
         "Nigeria"
        ],
        [
         "28",
         "Female",
         "Kena Wild",
         "MVC",
         "7781364",
         85.0,
         "Claude Panos_Sebrina Maresca@DB.com",
         0.85,
         "Nigeria"
        ],
        [
         "28",
         "Male",
         "Latia Vanhoose",
         "DSA",
         "7792270",
         47.0,
         "Eda Neathery_Donna Yerby@DSA.com",
         0.47,
         "Nigeria"
        ],
        [
         "29",
         "Female",
         "Cordie Harnois",
         "Cloud",
         "7801136",
         67.0,
         "Nicole Harwood_Neda Briski@DSA.com",
         0.67,
         "Nigeria"
        ],
        [
         "29",
         "Male",
         "Niki Klimek",
         "DSA",
         "7811347",
         52.0,
         "Kena Wild_Maybell Duguay@DB.com",
         0.52,
         "Nigeria"
        ],
        [
         "29",
         "Female",
         "Jalisa Swenson",
         "Cloud",
         "7821333",
         95.0,
         "Priscila Tavernier_Clementina Menke@PF.com",
         0.95,
         "Nigeria"
        ],
        [
         "28",
         "Female",
         "Marylee Capasso",
         "Cloud",
         "7831780",
         83.0,
         "Ernest Rossbach_Michelle Ruggiero@DB.com",
         0.83,
         "Nigeria"
        ],
        [
         "28",
         "Female",
         "Sebrina Maresca",
         "PF",
         "7841496",
         42.0,
         "Alberta Freund_Mitzi Seldon@PF.com",
         0.42,
         "Nigeria"
        ],
        [
         "29",
         "Male",
         "Niki Klimek",
         "PF",
         "7852889",
         58.0,
         "Taryn Brownlee_Elenore Choy@PF.com",
         0.58,
         "Nigeria"
        ],
        [
         "29",
         "Male",
         "Kena Wild",
         "PF",
         "7862418",
         66.0,
         "Clementina Menke_Jalisa Swenson@DB.com",
         0.66,
         "Nigeria"
        ],
        [
         "29",
         "Male",
         "Clementina Menke",
         "DB",
         "7872434",
         78.0,
         "Jalisa Swenson_Alberta Freund@OOP.com",
         0.78,
         "Nigeria"
        ],
        [
         "28",
         "Male",
         "Taryn Brownlee",
         "Cloud",
         "7881046",
         91.0,
         "Eda Neathery_Dustin Feagins@MVC.com",
         0.91,
         "Nigeria"
        ],
        [
         "29",
         "Male",
         "Alberta Freund",
         "DSA",
         "7891322",
         96.0,
         "Maybell Duguay_Loris Crossett@PF.com",
         0.96,
         "Nigeria"
        ],
        [
         "28",
         "Male",
         "Tamera Blakley",
         "PF",
         "7901879",
         67.0,
         "Taryn Brownlee_Gonzalo Ferebee@PF.com",
         0.67,
         "Nigeria"
        ],
        [
         "29",
         "Female",
         "Toshiko Hillyard",
         "MVC",
         "7912392",
         48.0,
         "Kena Wild_Alberta Freund@Cloud.com",
         0.48,
         "Nigeria"
        ],
        [
         "28",
         "Male",
         "Marylee Capasso",
         "Cloud",
         "7922051",
         102.0,
         "Sebrina Maresca_Dustin Feagins@OOP.com",
         1.02,
         "Nigeria"
        ],
        [
         "29",
         "Female",
         "Margene Moores",
         "MVC",
         "7932894",
         88.0,
         "Mickey Cortright_Niki Klimek@OOP.com",
         0.88,
         "Nigeria"
        ],
        [
         "29",
         "Male",
         "Celeste Lollis",
         "MVC",
         "7941313",
         99.0,
         "Eda Neathery_Neda Briski@OOP.com",
         0.99,
         "Nigeria"
        ],
        [
         "29",
         "Male",
         "Santa Kerfien",
         "PF",
         "7951241",
         41.0,
         "Kena Wild_Niki Klimek@OOP.com",
         0.41,
         "Nigeria"
        ],
        [
         "29",
         "Male",
         "Leontine Phillips",
         "Cloud",
         "7961043",
         36.0,
         "Paris Hutton_Marylee Capasso@MVC.com",
         0.36,
         "Nigeria"
        ],
        [
         "28",
         "Male",
         "Michelle Ruggiero",
         "Cloud",
         "7972167",
         79.0,
         "Paris Hutton_Leontine Phillips@DB.com",
         0.79,
         "Nigeria"
        ],
        [
         "28",
         "Male",
         "Margene Moores",
         "MVC",
         "7982164",
         94.0,
         "Neda Briski_Celeste Lollis@Cloud.com",
         0.94,
         "Nigeria"
        ],
        [
         "29",
         "Male",
         "Billi Clore",
         "DB",
         "7992784",
         68.0,
         "Tamera Blakley_Dustin Feagins@MVC.com",
         0.68,
         "Nigeria"
        ],
        [
         "29",
         "Male",
         "Ernest Rossbach",
         "DB",
         "8002285",
         86.0,
         "Marylee Capasso_Naoma Fritts@DSA.com",
         0.86,
         "Nigeria"
        ],
        [
         "28",
         "Male",
         "Santa Kerfien",
         "OOP",
         "8011750",
         57.0,
         "Mitzi Seldon_Somer Stoecker@PF.com",
         0.57,
         "Nigeria"
        ],
        [
         "29",
         "Male",
         "Jc Andrepont",
         "OOP",
         "8022618",
         107.0,
         "Cordie Harnois_Jalisa Swenson@OOP.com",
         1.07,
         "Nigeria"
        ],
        [
         "29",
         "Female",
         "Mickey Cortright",
         "DB",
         "8031057",
         76.0,
         "Dustin Feagins_Tijuana Kropf@DB.com",
         0.76,
         "Nigeria"
        ],
        [
         "29",
         "Female",
         "Eda Neathery",
         "DSA",
         "8042646",
         65.0,
         "Abram Nagao_Donna Yerby@DB.com",
         0.65,
         "Nigeria"
        ],
        [
         "28",
         "Male",
         "Jeannetta Golden",
         "PF",
         "8052474",
         48.0,
         "Tamera Blakley_Sheryll Towler@DSA.com",
         0.48,
         "Nigeria"
        ],
        [
         "29",
         "Female",
         "Lawanda Wohlwend",
         "DSA",
         "8061577",
         37.0,
         "Anna Santos_Elenore Choy@MVC.com",
         0.37,
         "Nigeria"
        ],
        [
         "28",
         "Male",
         "Cheri Kenney",
         "Cloud",
         "8071605",
         82.0,
         "Maybell Duguay_Eda Neathery@MVC.com",
         0.82,
         "Nigeria"
        ],
        [
         "29",
         "Male",
         "Celeste Lollis",
         "MVC",
         "8081881",
         97.0,
         "Jenna Montague_Dustin Feagins@MVC.com",
         0.97,
         "Nigeria"
        ],
        [
         "28",
         "Male",
         "Sebrina Maresca",
         "DB",
         "8092398",
         52.0,
         "Claude Panos_Jc Andrepont@DB.com",
         0.52,
         "Nigeria"
        ],
        [
         "28",
         "Male",
         "Bonita Higuera",
         "Cloud",
         "8101902",
         94.0,
         "Jc Andrepont_Neda Briski@OOP.com",
         0.94,
         "Nigeria"
        ],
        [
         "29",
         "Male",
         "Loris Crossett",
         "PF",
         "8111334",
         41.0,
         "Jeannetta Golden_Mickey Cortright@DSA.com",
         0.41,
         "Nigeria"
        ],
        [
         "29",
         "Female",
         "Nicole Harwood",
         "PF",
         "8121198",
         31.0,
         "Bonita Higuera_Priscila Tavernier@Cloud.com",
         0.31,
         "Nigeria"
        ],
        [
         "28",
         "Female",
         "Somer Stoecker",
         "PF",
         "8131896",
         50.0,
         "Melani Engberg_Sheryll Towler@DSA.com",
         0.5,
         "Nigeria"
        ],
        [
         "28",
         "Male",
         "Elenore Choy",
         "OOP",
         "8141533",
         38.0,
         "Anna Santos_Dustin Feagins@MVC.com",
         0.38,
         "Nigeria"
        ],
        [
         "28",
         "Male",
         "Annika Hoffman",
         "MVC",
         "8152949",
         72.0,
         "Annika Hoffman_Naoma Fritts@MVC.com",
         0.72,
         "Nigeria"
        ],
        [
         "29",
         "Male",
         "Leontine Phillips",
         "Cloud",
         "8162392",
         33.0,
         "Clementina Menke_Neda Briski@Cloud.com",
         0.33,
         "Nigeria"
        ],
        [
         "28",
         "Male",
         "Loris Crossett",
         "OOP",
         "8172914",
         108.0,
         "Paris Hutton_Paris Hutton@OOP.com",
         1.08,
         "Nigeria"
        ],
        [
         "28",
         "Female",
         "Nicole Harwood",
         "DB",
         "8181552",
         47.0,
         "Hubert Oliveras_Gonzalo Ferebee@Cloud.com",
         0.47,
         "Nigeria"
        ],
        [
         "29",
         "Male",
         "Hubert Oliveras",
         "Cloud",
         "8191045",
         39.0,
         "Toshiko Hillyard_Leontine Phillips@DSA.com",
         0.39,
         "Nigeria"
        ],
        [
         "29",
         "Male",
         "Eda Neathery",
         "MVC",
         "8202489",
         40.0,
         "Jc Andrepont_Maybell Duguay@PF.com",
         0.4,
         "Nigeria"
        ],
        [
         "28",
         "Female",
         "Leontine Phillips",
         "OOP",
         "8212555",
         61.0,
         "Jenna Montague_Cheri Kenney@Cloud.com",
         0.61,
         "Nigeria"
        ],
        [
         "29",
         "Male",
         "Melani Engberg",
         "PF",
         "8222832",
         54.0,
         "Niki Klimek_Billi Clore@PF.com",
         0.54,
         "Nigeria"
        ],
        [
         "29",
         "Male",
         "Loris Crossett",
         "DSA",
         "8232415",
         87.0,
         "Priscila Tavernier_Kena Wild@DB.com",
         0.87,
         "Nigeria"
        ],
        [
         "28",
         "Male",
         "Jeannetta Golden",
         "Cloud",
         "8242650",
         72.0,
         "Dustin Feagins_Annika Hoffman@OOP.com",
         0.72,
         "Nigeria"
        ],
        [
         "28",
         "Female",
         "Clementina Menke",
         "OOP",
         "8251736",
         58.0,
         "Tamera Blakley_Loris Crossett@OOP.com",
         0.58,
         "Nigeria"
        ],
        [
         "29",
         "Female",
         "Ernest Rossbach",
         "DSA",
         "8262618",
         44.0,
         "Billi Clore_Clementina Menke@Cloud.com",
         0.44,
         "Nigeria"
        ],
        [
         "28",
         "Female",
         "Sheryll Towler",
         "DB",
         "8271000",
         47.0,
         "Neda Briski_Anna Santos@Cloud.com",
         0.47,
         "Nigeria"
        ],
        [
         "29",
         "Male",
         "Billi Clore",
         "OOP",
         "8282116",
         82.0,
         "Elenore Choy_Clementina Menke@PF.com",
         0.82,
         "Nigeria"
        ],
        [
         "28",
         "Male",
         "Bonita Higuera",
         "MVC",
         "8291218",
         81.0,
         "Jeannetta Golden_Sebrina Maresca@PF.com",
         0.81,
         "Nigeria"
        ],
        [
         "29",
         "Female",
         "Tamera Blakley",
         "OOP",
         "8301646",
         73.0,
         "Abram Nagao_Mitzi Seldon@DB.com",
         0.73,
         "Nigeria"
        ],
        [
         "28",
         "Female",
         "Judie Chipps",
         "DSA",
         "8312884",
         98.0,
         "Kena Wild_Clementina Menke@DB.com",
         0.98,
         "Nigeria"
        ],
        [
         "28",
         "Male",
         "Paris Hutton",
         "PF",
         "8321357",
         87.0,
         "Abram Nagao_Tamera Blakley@OOP.com",
         0.87,
         "Nigeria"
        ],
        [
         "29",
         "Male",
         "Kena Wild",
         "PF",
         "8331264",
         56.0,
         "Marylee Capasso_Celeste Lollis@DSA.com",
         0.56,
         "Nigeria"
        ],
        [
         "29",
         "Female",
         "Elenore Choy",
         "DSA",
         "8342105",
         51.0,
         "Abram Nagao_Nicole Harwood@Cloud.com",
         0.51,
         "Nigeria"
        ],
        [
         "29",
         "Female",
         "Gonzalo Ferebee",
         "Cloud",
         "8352347",
         79.0,
         "Neda Briski_Ernest Rossbach@Cloud.com",
         0.79,
         "Nigeria"
        ],
        [
         "28",
         "Male",
         "Dustin Feagins",
         "MVC",
         "8361501",
         63.0,
         "Billi Clore_Kizzy Brenner@MVC.com",
         0.63,
         "Nigeria"
        ],
        [
         "28",
         "Male",
         "Clementina Menke",
         "Cloud",
         "8372528",
         53.0,
         "Tamera Blakley_Somer Stoecker@MVC.com",
         0.53,
         "Nigeria"
        ],
        [
         "28",
         "Male",
         "Priscila Tavernier",
         "OOP",
         "8382954",
         103.0,
         "Jeannetta Golden_Kizzy Brenner@Cloud.com",
         1.03,
         "Nigeria"
        ],
        [
         "29",
         "Female",
         "Gonzalo Ferebee",
         "MVC",
         "8392287",
         91.0,
         "Santa Kerfien_Neda Briski@OOP.com",
         0.91,
         "Nigeria"
        ],
        [
         "28",
         "Female",
         "Paris Hutton",
         "PF",
         "8401106",
         61.0,
         "Maybell Duguay_Michelle Ruggiero@DB.com",
         0.61,
         "Nigeria"
        ],
        [
         "28",
         "Male",
         "Mickey Cortright",
         "DB",
         "8411430",
         80.0,
         "Hubert Oliveras_Ernest Rossbach@PF.com",
         0.8,
         "Nigeria"
        ],
        [
         "28",
         "Female",
         "Bonita Higuera",
         "DSA",
         "8421653",
         106.0,
         "Annika Hoffman_Bonita Higuera@Cloud.com",
         1.06,
         "Nigeria"
        ],
        [
         "28",
         "Female",
         "Taryn Brownlee",
         "OOP",
         "8431353",
         73.0,
         "Neda Briski_Cordie Harnois@Cloud.com",
         0.73,
         "Nigeria"
        ],
        [
         "28",
         "Female",
         "Eda Neathery",
         "DSA",
         "8441503",
         88.0,
         "Jalisa Swenson_Mitzi Seldon@MVC.com",
         0.88,
         "Nigeria"
        ],
        [
         "29",
         "Female",
         "Cordie Harnois",
         "OOP",
         "8452121",
         94.0,
         "Kena Wild_Dustin Feagins@DB.com",
         0.94,
         "Nigeria"
        ],
        [
         "29",
         "Female",
         "Mickey Cortright",
         "OOP",
         "8462156",
         87.0,
         "Elenore Choy_Tijuana Kropf@Cloud.com",
         0.87,
         "Nigeria"
        ],
        [
         "28",
         "Male",
         "Kena Wild",
         "DB",
         "8471833",
         46.0,
         "Tamera Blakley_Jeannetta Golden@OOP.com",
         0.46,
         "Nigeria"
        ],
        [
         "28",
         "Male",
         "Anna Santos",
         "MVC",
         "8482305",
         63.0,
         "Sheryll Towler_Kizzy Brenner@PF.com",
         0.63,
         "Nigeria"
        ],
        [
         "28",
         "Female",
         "Ernest Rossbach",
         "DSA",
         "8492768",
         71.0,
         "Jenna Montague_Elenore Choy@DSA.com",
         0.71,
         "Nigeria"
        ],
        [
         "29",
         "Female",
         "Annika Hoffman",
         "MVC",
         "8502572",
         81.0,
         "Sebrina Maresca_Jeannetta Golden@Cloud.com",
         0.81,
         "Nigeria"
        ],
        [
         "29",
         "Female",
         "Mickey Cortright",
         "OOP",
         "8511805",
         57.0,
         "Latia Vanhoose_Somer Stoecker@OOP.com",
         0.57,
         "Nigeria"
        ],
        [
         "28",
         "Male",
         "Tijuana Kropf",
         "DB",
         "8522175",
         97.0,
         "Mickey Cortright_Claude Panos@MVC.com",
         0.97,
         "Nigeria"
        ],
        [
         "28",
         "Female",
         "Elenore Choy",
         "MVC",
         "8532574",
         86.0,
         "Tijuana Kropf_Loris Crossett@Cloud.com",
         0.86,
         "Nigeria"
        ],
        [
         "28",
         "Male",
         "Loris Crossett",
         "MVC",
         "8541796",
         100.0,
         "Clementina Menke_Michelle Ruggiero@Cloud.com",
         1.0,
         "Nigeria"
        ],
        [
         "28",
         "Female",
         "Leontine Phillips",
         "MVC",
         "8551036",
         41.0,
         "Celeste Lollis_Anna Santos@MVC.com",
         0.41,
         "Nigeria"
        ],
        [
         "29",
         "Female",
         "Dustin Feagins",
         "DB",
         "8561099",
         42.0,
         "Margene Moores_Margene Moores@Cloud.com",
         0.42,
         "Nigeria"
        ],
        [
         "28",
         "Male",
         "Anna Santos",
         "Cloud",
         "8571411",
         104.0,
         "Jc Andrepont_Cordie Harnois@OOP.com",
         1.04,
         "Nigeria"
        ],
        [
         "29",
         "Female",
         "Loris Crossett",
         "DSA",
         "8581552",
         96.0,
         "Taryn Brownlee_Elenore Choy@Cloud.com",
         0.96,
         "Nigeria"
        ],
        [
         "29",
         "Male",
         "Cordie Harnois",
         "MVC",
         "8592355",
         105.0,
         "Ernest Rossbach_Tijuana Kropf@OOP.com",
         1.05,
         "Nigeria"
        ],
        [
         "29",
         "Female",
         "Taryn Brownlee",
         "OOP",
         "8602786",
         50.0,
         "Elenore Choy_Ernest Rossbach@DB.com",
         0.5,
         "Nigeria"
        ],
        [
         "28",
         "Male",
         "Naoma Fritts",
         "DB",
         "8611528",
         99.0,
         "Nicole Harwood_Clementina Menke@MVC.com",
         0.99,
         "Nigeria"
        ],
        [
         "29",
         "Male",
         "Marylee Capasso",
         "Cloud",
         "8622148",
         39.0,
         "Hubert Oliveras_Claude Panos@Cloud.com",
         0.39,
         "Nigeria"
        ],
        [
         "29",
         "Female",
         "Clementina Menke",
         "PF",
         "8632774",
         43.0,
         "Dustin Feagins_Latia Vanhoose@PF.com",
         0.43,
         "Nigeria"
        ],
        [
         "29",
         "Female",
         "Sheryll Towler",
         "Cloud",
         "8641804",
         41.0,
         "Somer Stoecker_Marylee Capasso@PF.com",
         0.41,
         "Nigeria"
        ],
        [
         "29",
         "Male",
         "Cheri Kenney",
         "DB",
         "8652382",
         46.0,
         "Santa Kerfien_Cordie Harnois@Cloud.com",
         0.46,
         "Nigeria"
        ],
        [
         "28",
         "Female",
         "Loris Crossett",
         "OOP",
         "8661474",
         82.0,
         "Neda Briski_Jeannetta Golden@DB.com",
         0.82,
         "Nigeria"
        ],
        [
         "29",
         "Male",
         "Alberta Freund",
         "Cloud",
         "8671926",
         95.0,
         "Paris Hutton_Somer Stoecker@PF.com",
         0.95,
         "Nigeria"
        ],
        [
         "28",
         "Male",
         "Neda Briski",
         "OOP",
         "8681708",
         44.0,
         "Jenna Montague_Lawanda Wohlwend@OOP.com",
         0.44,
         "Nigeria"
        ],
        [
         "28",
         "Male",
         "Nicole Harwood",
         "MVC",
         "8692811",
         73.0,
         "Neda Briski_Kena Wild@Cloud.com",
         0.73,
         "Nigeria"
        ],
        [
         "29",
         "Male",
         "Donna Yerby",
         "DB",
         "8701973",
         43.0,
         "Priscila Tavernier_Mitzi Seldon@DB.com",
         0.43,
         "Nigeria"
        ],
        [
         "28",
         "Female",
         "Melani Engberg",
         "DSA",
         "8712604",
         79.0,
         "Celeste Lollis_Claude Panos@MVC.com",
         0.79,
         "Nigeria"
        ],
        [
         "29",
         "Female",
         "Neda Briski",
         "DB",
         "8722464",
         40.0,
         "Mickey Cortright_Anna Santos@OOP.com",
         0.4,
         "Nigeria"
        ],
        [
         "28",
         "Female",
         "Somer Stoecker",
         "OOP",
         "8732476",
         75.0,
         "Annika Hoffman_Anna Santos@DB.com",
         0.75,
         "Nigeria"
        ],
        [
         "29",
         "Male",
         "Maybell Duguay",
         "PF",
         "8741191",
         89.0,
         "Judie Chipps_Niki Klimek@OOP.com",
         0.89,
         "Nigeria"
        ],
        [
         "29",
         "Male",
         "Cheri Kenney",
         "MVC",
         "8752460",
         94.0,
         "Cordie Harnois_Jeannetta Golden@PF.com",
         0.94,
         "Nigeria"
        ],
        [
         "29",
         "Male",
         "Celeste Lollis",
         "MVC",
         "8762292",
         45.0,
         "Clementina Menke_Tijuana Kropf@DB.com",
         0.45,
         "Nigeria"
        ],
        [
         "29",
         "Female",
         "Annika Hoffman",
         "OOP",
         "8772154",
         89.0,
         "Tijuana Kropf_Cordie Harnois@DSA.com",
         0.89,
         "Nigeria"
        ],
        [
         "29",
         "Male",
         "Niki Klimek",
         "Cloud",
         "8782036",
         82.0,
         "Clementina Menke_Taryn Brownlee@MVC.com",
         0.82,
         "Nigeria"
        ],
        [
         "29",
         "Male",
         "Billi Clore",
         "MVC",
         "8792432",
         89.0,
         "Anna Santos_Jalisa Swenson@Cloud.com",
         0.89,
         "Nigeria"
        ],
        [
         "28",
         "Female",
         "Toshiko Hillyard",
         "MVC",
         "8801160",
         96.0,
         "Neda Briski_Donna Yerby@DB.com",
         0.96,
         "Nigeria"
        ],
        [
         "29",
         "Male",
         "Mitzi Seldon",
         "DB",
         "8811681",
         56.0,
         "Ernest Rossbach_Eda Neathery@MVC.com",
         0.56,
         "Nigeria"
        ],
        [
         "28",
         "Male",
         "Tijuana Kropf",
         "Cloud",
         "8822597",
         41.0,
         "Lawanda Wohlwend_Eda Neathery@MVC.com",
         0.41,
         "Nigeria"
        ],
        [
         "28",
         "Female",
         "Nicole Harwood",
         "MVC",
         "8831173",
         37.0,
         "Gonzalo Ferebee_Dustin Feagins@OOP.com",
         0.37,
         "Nigeria"
        ],
        [
         "29",
         "Female",
         "Claude Panos",
         "OOP",
         "8842014",
         40.0,
         "Annika Hoffman_Jenna Montague@Cloud.com",
         0.4,
         "Nigeria"
        ],
        [
         "28",
         "Male",
         "Annika Hoffman",
         "Cloud",
         "8852570",
         92.0,
         "Kizzy Brenner_Claude Panos@MVC.com",
         0.92,
         "Nigeria"
        ],
        [
         "28",
         "Female",
         "Nicole Harwood",
         "Cloud",
         "8862840",
         77.0,
         "Claude Panos_Claude Panos@DSA.com",
         0.77,
         "Nigeria"
        ],
        [
         "28",
         "Male",
         "Dustin Feagins",
         "DB",
         "8871049",
         108.0,
         "Jenna Montague_Claude Panos@DSA.com",
         1.08,
         "Nigeria"
        ],
        [
         "29",
         "Male",
         "Nicole Harwood",
         "MVC",
         "8882981",
         42.0,
         "Santa Kerfien_Eda Neathery@OOP.com",
         0.42,
         "Nigeria"
        ],
        [
         "29",
         "Male",
         "Marylee Capasso",
         "OOP",
         "8891960",
         39.0,
         "Mickey Cortright_Billi Clore@PF.com",
         0.39,
         "Nigeria"
        ],
        [
         "28",
         "Male",
         "Somer Stoecker",
         "DSA",
         "8902098",
         83.0,
         "Nicole Harwood_Paris Hutton@PF.com",
         0.83,
         "Nigeria"
        ],
        [
         "28",
         "Male",
         "Celeste Lollis",
         "PF",
         "8911713",
         103.0,
         "Hubert Oliveras_Mitzi Seldon@DB.com",
         1.03,
         "Nigeria"
        ],
        [
         "28",
         "Male",
         "Mitzi Seldon",
         "Cloud",
         "8922149",
         75.0,
         "Maybell Duguay_Hubert Oliveras@PF.com",
         0.75,
         "Nigeria"
        ],
        [
         "28",
         "Male",
         "Billi Clore",
         "OOP",
         "8932725",
         69.0,
         "Kizzy Brenner_Latia Vanhoose@PF.com",
         0.69,
         "Nigeria"
        ],
        [
         "29",
         "Female",
         "Gonzalo Ferebee",
         "Cloud",
         "8942812",
         97.0,
         "Michelle Ruggiero_Neda Briski@Cloud.com",
         0.97,
         "Nigeria"
        ],
        [
         "29",
         "Female",
         "Annika Hoffman",
         "DSA",
         "8951068",
         104.0,
         "Neda Briski_Abram Nagao@OOP.com",
         1.04,
         "Nigeria"
        ],
        [
         "28",
         "Female",
         "Leontine Phillips",
         "Cloud",
         "8962531",
         94.0,
         "Tamera Blakley_Marylee Capasso@Cloud.com",
         0.94,
         "Nigeria"
        ],
        [
         "28",
         "Male",
         "Ernest Rossbach",
         "MVC",
         "8972546",
         72.0,
         "Sheryll Towler_Jeannetta Golden@PF.com",
         0.72,
         "Nigeria"
        ],
        [
         "28",
         "Male",
         "Kizzy Brenner",
         "OOP",
         "8981887",
         37.0,
         "Naoma Fritts_Mitzi Seldon@DB.com",
         0.37,
         "Nigeria"
        ],
        [
         "28",
         "Male",
         "Elenore Choy",
         "DSA",
         "8991321",
         67.0,
         "Celeste Lollis_Margene Moores@DB.com",
         0.67,
         "Nigeria"
        ],
        [
         "29",
         "Male",
         "Santa Kerfien",
         "DSA",
         "9002004",
         37.0,
         "Jeannetta Golden_Clementina Menke@MVC.com",
         0.37,
         "Nigeria"
        ],
        [
         "28",
         "Female",
         "Lawanda Wohlwend",
         "OOP",
         "9011862",
         58.0,
         "Jalisa Swenson_Gonzalo Ferebee@OOP.com",
         0.58,
         "Nigeria"
        ],
        [
         "29",
         "Male",
         "Elenore Choy",
         "DB",
         "9021601",
         56.0,
         "Clementina Menke_Mickey Cortright@PF.com",
         0.56,
         "Nigeria"
        ],
        [
         "28",
         "Male",
         "Alberta Freund",
         "DSA",
         "9031966",
         66.0,
         "Niki Klimek_Alberta Freund@PF.com",
         0.66,
         "Nigeria"
        ],
        [
         "29",
         "Male",
         "Celeste Lollis",
         "Cloud",
         "9042870",
         62.0,
         "Bonita Higuera_Jeannetta Golden@PF.com",
         0.62,
         "Nigeria"
        ],
        [
         "29",
         "Male",
         "Sheryll Towler",
         "MVC",
         "9052132",
         98.0,
         "Jeannetta Golden_Donna Yerby@DB.com",
         0.98,
         "Nigeria"
        ],
        [
         "29",
         "Female",
         "Jalisa Swenson",
         "DSA",
         "9061384",
         51.0,
         "Jenna Montague_Melani Engberg@DSA.com",
         0.51,
         "Nigeria"
        ],
        [
         "29",
         "Male",
         "Celeste Lollis",
         "Cloud",
         "9072506",
         91.0,
         "Celeste Lollis_Cordie Harnois@Cloud.com",
         0.91,
         "Nigeria"
        ],
        [
         "29",
         "Female",
         "Ernest Rossbach",
         "Cloud",
         "9082371",
         89.0,
         "Jalisa Swenson_Mitzi Seldon@DB.com",
         0.89,
         "Nigeria"
        ],
        [
         "29",
         "Female",
         "Annika Hoffman",
         "OOP",
         "9091099",
         99.0,
         "Kizzy Brenner_Jeannetta Golden@MVC.com",
         0.99,
         "Nigeria"
        ],
        [
         "29",
         "Male",
         "Gonzalo Ferebee",
         "Cloud",
         "9102078",
         55.0,
         "Tamera Blakley_Melani Engberg@MVC.com",
         0.55,
         "Nigeria"
        ],
        [
         "29",
         "Female",
         "Marylee Capasso",
         "DSA",
         "9112909",
         48.0,
         "Priscila Tavernier_Hubert Oliveras@Cloud.com",
         0.48,
         "Nigeria"
        ],
        [
         "29",
         "Female",
         "Lawanda Wohlwend",
         "DSA",
         "9122250",
         56.0,
         "Jeannetta Golden_Sheryll Towler@DB.com",
         0.56,
         "Nigeria"
        ],
        [
         "29",
         "Female",
         "Judie Chipps",
         "MVC",
         "9131672",
         45.0,
         "Tijuana Kropf_Taryn Brownlee@DSA.com",
         0.45,
         "Nigeria"
        ],
        [
         "28",
         "Female",
         "Taryn Brownlee",
         "MVC",
         "9142398",
         69.0,
         "Lawanda Wohlwend_Billi Clore@Cloud.com",
         0.69,
         "Nigeria"
        ],
        [
         "28",
         "Male",
         "Billi Clore",
         "DB",
         "9151306",
         31.0,
         "Latia Vanhoose_Ernest Rossbach@DB.com",
         0.31,
         "Nigeria"
        ],
        [
         "28",
         "Female",
         "Nicole Harwood",
         "PF",
         "9162701",
         71.0,
         "Jc Andrepont_Jeannetta Golden@Cloud.com",
         0.71,
         "Nigeria"
        ],
        [
         "28",
         "Male",
         "Claude Panos",
         "OOP",
         "9172978",
         70.0,
         "Cordie Harnois_Tamera Blakley@DSA.com",
         0.7,
         "Nigeria"
        ],
        [
         "28",
         "Male",
         "Cheri Kenney",
         "DSA",
         "9181598",
         54.0,
         "Jc Andrepont_Maybell Duguay@OOP.com",
         0.54,
         "Nigeria"
        ],
        [
         "29",
         "Female",
         "Melani Engberg",
         "DB",
         "9192452",
         62.0,
         "Niki Klimek_Niki Klimek@OOP.com",
         0.62,
         "Nigeria"
        ],
        [
         "29",
         "Male",
         "Ernest Rossbach",
         "MVC",
         "9201305",
         63.0,
         "Gonzalo Ferebee_Billi Clore@DB.com",
         0.63,
         "Nigeria"
        ],
        [
         "28",
         "Female",
         "Cheri Kenney",
         "PF",
         "9211167",
         40.0,
         "Mitzi Seldon_Somer Stoecker@PF.com",
         0.4,
         "Nigeria"
        ],
        [
         "29",
         "Female",
         "Eda Neathery",
         "PF",
         "9222608",
         109.0,
         "Kena Wild_Lawanda Wohlwend@OOP.com",
         1.09,
         "Nigeria"
        ],
        [
         "29",
         "Female",
         "Michelle Ruggiero",
         "DB",
         "9232210",
         30.0,
         "Donna Yerby_Latia Vanhoose@DB.com",
         0.3,
         "Nigeria"
        ],
        [
         "29",
         "Male",
         "Cordie Harnois",
         "DSA",
         "9242198",
         82.0,
         "Maybell Duguay_Tamera Blakley@Cloud.com",
         0.82,
         "Nigeria"
        ],
        [
         "29",
         "Female",
         "Melani Engberg",
         "DSA",
         "9252365",
         107.0,
         "Naoma Fritts_Melani Engberg@OOP.com",
         1.07,
         "Nigeria"
        ],
        [
         "28",
         "Female",
         "Taryn Brownlee",
         "OOP",
         "9262265",
         53.0,
         "Cordie Harnois_Elenore Choy@DB.com",
         0.53,
         "Nigeria"
        ],
        [
         "28",
         "Female",
         "Jalisa Swenson",
         "Cloud",
         "9272149",
         49.0,
         "Gonzalo Ferebee_Nicole Harwood@MVC.com",
         0.49,
         "Nigeria"
        ],
        [
         "29",
         "Female",
         "Jalisa Swenson",
         "DB",
         "9282374",
         43.0,
         "Judie Chipps_Annika Hoffman@OOP.com",
         0.43,
         "Nigeria"
        ],
        [
         "29",
         "Male",
         "Mickey Cortright",
         "Cloud",
         "9291579",
         96.0,
         "Margene Moores_Priscila Tavernier@MVC.com",
         0.96,
         "Nigeria"
        ],
        [
         "29",
         "Male",
         "Gonzalo Ferebee",
         "Cloud",
         "9302691",
         50.0,
         "Niki Klimek_Alberta Freund@MVC.com",
         0.5,
         "Nigeria"
        ],
        [
         "29",
         "Male",
         "Niki Klimek",
         "DSA",
         "9311407",
         100.0,
         "Marylee Capasso_Ernest Rossbach@PF.com",
         1.0,
         "Nigeria"
        ],
        [
         "28",
         "Female",
         "Cheri Kenney",
         "DSA",
         "9322391",
         81.0,
         "Cheri Kenney_Claude Panos@OOP.com",
         0.81,
         "Nigeria"
        ],
        [
         "29",
         "Male",
         "Gonzalo Ferebee",
         "PF",
         "9331055",
         106.0,
         "Kizzy Brenner_Alberta Freund@Cloud.com",
         1.06,
         "Nigeria"
        ],
        [
         "28",
         "Female",
         "Clementina Menke",
         "DSA",
         "9342400",
         47.0,
         "Claude Panos_Ernest Rossbach@DSA.com",
         0.47,
         "Nigeria"
        ],
        [
         "29",
         "Female",
         "Michelle Ruggiero",
         "DSA",
         "9352759",
         107.0,
         "Kena Wild_Nicole Harwood@DSA.com",
         1.07,
         "Nigeria"
        ],
        [
         "28",
         "Male",
         "Mitzi Seldon",
         "PF",
         "9362744",
         36.0,
         "Somer Stoecker_Santa Kerfien@DSA.com",
         0.36,
         "Nigeria"
        ],
        [
         "29",
         "Female",
         "Ernest Rossbach",
         "DB",
         "9371629",
         106.0,
         "Melani Engberg_Latia Vanhoose@PF.com",
         1.06,
         "Nigeria"
        ],
        [
         "28",
         "Female",
         "Paris Hutton",
         "OOP",
         "9382928",
         38.0,
         "Kena Wild_Gonzalo Ferebee@PF.com",
         0.38,
         "Nigeria"
        ],
        [
         "28",
         "Female",
         "Jc Andrepont",
         "Cloud",
         "9391046",
         44.0,
         "Latia Vanhoose_Taryn Brownlee@MVC.com",
         0.44,
         "Nigeria"
        ],
        [
         "28",
         "Female",
         "Kena Wild",
         "MVC",
         "9401194",
         34.0,
         "Niki Klimek_Michelle Ruggiero@DB.com",
         0.34,
         "Nigeria"
        ],
        [
         "28",
         "Male",
         "Jenna Montague",
         "DB",
         "9411416",
         45.0,
         "Latia Vanhoose_Paris Hutton@DSA.com",
         0.45,
         "Nigeria"
        ],
        [
         "29",
         "Female",
         "Abram Nagao",
         "Cloud",
         "9422898",
         48.0,
         "Cheri Kenney_Santa Kerfien@OOP.com",
         0.48,
         "Nigeria"
        ],
        [
         "29",
         "Female",
         "Tijuana Kropf",
         "Cloud",
         "9431799",
         98.0,
         "Lawanda Wohlwend_Cordie Harnois@MVC.com",
         0.98,
         "Nigeria"
        ],
        [
         "28",
         "Male",
         "Latia Vanhoose",
         "DSA",
         "9442974",
         39.0,
         "Jc Andrepont_Celeste Lollis@DB.com",
         0.39,
         "Nigeria"
        ],
        [
         "28",
         "Female",
         "Judie Chipps",
         "DB",
         "9451237",
         59.0,
         "Michelle Ruggiero_Sheryll Towler@MVC.com",
         0.59,
         "Nigeria"
        ],
        [
         "29",
         "Female",
         "Gonzalo Ferebee",
         "MVC",
         "9461441",
         41.0,
         "Michelle Ruggiero_Elenore Choy@DSA.com",
         0.41,
         "Nigeria"
        ],
        [
         "28",
         "Female",
         "Latia Vanhoose",
         "Cloud",
         "9471888",
         66.0,
         "Naoma Fritts_Kena Wild@DB.com",
         0.66,
         "Nigeria"
        ],
        [
         "29",
         "Female",
         "Annika Hoffman",
         "OOP",
         "9482135",
         106.0,
         "Somer Stoecker_Somer Stoecker@OOP.com",
         1.06,
         "Nigeria"
        ],
        [
         "28",
         "Male",
         "Sebrina Maresca",
         "PF",
         "9492805",
         60.0,
         "Neda Briski_Neda Briski@OOP.com",
         0.6,
         "Nigeria"
        ],
        [
         "28",
         "Male",
         "Toshiko Hillyard",
         "DB",
         "9502901",
         79.0,
         "Kena Wild_Leontine Phillips@DSA.com",
         0.79,
         "Nigeria"
        ],
        [
         "29",
         "Male",
         "Kizzy Brenner",
         "PF",
         "9512850",
         62.0,
         "Elenore Choy_Anna Santos@DB.com",
         0.62,
         "Nigeria"
        ],
        [
         "28",
         "Female",
         "Jalisa Swenson",
         "OOP",
         "9522521",
         60.0,
         "Leontine Phillips_Cheri Kenney@DB.com",
         0.6,
         "Nigeria"
        ],
        [
         "29",
         "Male",
         "Celeste Lollis",
         "Cloud",
         "9531936",
         66.0,
         "Cheri Kenney_Margene Moores@MVC.com",
         0.66,
         "Nigeria"
        ],
        [
         "29",
         "Female",
         "Mickey Cortright",
         "MVC",
         "9542973",
         38.0,
         "Sebrina Maresca_Eda Neathery@MVC.com",
         0.38,
         "Nigeria"
        ],
        [
         "29",
         "Male",
         "Taryn Brownlee",
         "PF",
         "9551574",
         101.0,
         "Jenna Montague_Billi Clore@MVC.com",
         1.01,
         "Nigeria"
        ],
        [
         "29",
         "Male",
         "Maybell Duguay",
         "DB",
         "9562208",
         54.0,
         "Celeste Lollis_Anna Santos@DSA.com",
         0.54,
         "Nigeria"
        ],
        [
         "28",
         "Female",
         "Sheryll Towler",
         "MVC",
         "9571308",
         67.0,
         "Margene Moores_Naoma Fritts@PF.com",
         0.67,
         "Nigeria"
        ],
        [
         "28",
         "Female",
         "Naoma Fritts",
         "MVC",
         "9581172",
         80.0,
         "Taryn Brownlee_Cheri Kenney@Cloud.com",
         0.8,
         "Nigeria"
        ],
        [
         "29",
         "Female",
         "Annika Hoffman",
         "OOP",
         "9592635",
         50.0,
         "Kena Wild_Margene Moores@Cloud.com",
         0.5,
         "Nigeria"
        ],
        [
         "28",
         "Male",
         "Melani Engberg",
         "DB",
         "9602880",
         52.0,
         "Niki Klimek_Mickey Cortright@DB.com",
         0.52,
         "Nigeria"
        ],
        [
         "29",
         "Male",
         "Kena Wild",
         "MVC",
         "9611287",
         86.0,
         "Cordie Harnois_Michelle Ruggiero@PF.com",
         0.86,
         "Nigeria"
        ],
        [
         "28",
         "Female",
         "Leontine Phillips",
         "DB",
         "9622410",
         56.0,
         "Kena Wild_Donna Yerby@Cloud.com",
         0.56,
         "Nigeria"
        ],
        [
         "28",
         "Male",
         "Claude Panos",
         "Cloud",
         "9631836",
         83.0,
         "Clementina Menke_Judie Chipps@DSA.com",
         0.83,
         "Nigeria"
        ],
        [
         "29",
         "Male",
         "Celeste Lollis",
         "DSA",
         "9642293",
         85.0,
         "Maybell Duguay_Tijuana Kropf@OOP.com",
         0.85,
         "Nigeria"
        ],
        [
         "28",
         "Male",
         "Jc Andrepont",
         "MVC",
         "9652535",
         83.0,
         "Michelle Ruggiero_Lawanda Wohlwend@DB.com",
         0.83,
         "Nigeria"
        ],
        [
         "29",
         "Male",
         "Kena Wild",
         "DSA",
         "9662661",
         51.0,
         "Latia Vanhoose_Sebrina Maresca@DB.com",
         0.51,
         "Nigeria"
        ],
        [
         "29",
         "Male",
         "Leontine Phillips",
         "DB",
         "9671707",
         36.0,
         "Sebrina Maresca_Jalisa Swenson@MVC.com",
         0.36,
         "Nigeria"
        ],
        [
         "28",
         "Female",
         "Clementina Menke",
         "DSA",
         "9682190",
         34.0,
         "Clementina Menke_Dustin Feagins@DB.com",
         0.34,
         "Nigeria"
        ],
        [
         "28",
         "Male",
         "Loris Crossett",
         "OOP",
         "9692316",
         109.0,
         "Judie Chipps_Michelle Ruggiero@Cloud.com",
         1.09,
         "Nigeria"
        ],
        [
         "29",
         "Male",
         "Paris Hutton",
         "DSA",
         "9702829",
         32.0,
         "Hubert Oliveras_Cheri Kenney@OOP.com",
         0.32,
         "Nigeria"
        ],
        [
         "29",
         "Female",
         "Abram Nagao",
         "PF",
         "9711154",
         33.0,
         "Judie Chipps_Naoma Fritts@DSA.com",
         0.33,
         "Nigeria"
        ],
        [
         "28",
         "Female",
         "Niki Klimek",
         "MVC",
         "9722763",
         87.0,
         "Taryn Brownlee_Jalisa Swenson@OOP.com",
         0.87,
         "Nigeria"
        ],
        [
         "29",
         "Male",
         "Neda Briski",
         "Cloud",
         "9732604",
         87.0,
         "Kena Wild_Hubert Oliveras@Cloud.com",
         0.87,
         "Nigeria"
        ],
        [
         "29",
         "Female",
         "Mickey Cortright",
         "Cloud",
         "9741291",
         87.0,
         "Melani Engberg_Donna Yerby@MVC.com",
         0.87,
         "Nigeria"
        ],
        [
         "28",
         "Female",
         "Somer Stoecker",
         "PF",
         "9751163",
         46.0,
         "Nicole Harwood_Margene Moores@MVC.com",
         0.46,
         "Nigeria"
        ],
        [
         "28",
         "Female",
         "Loris Crossett",
         "OOP",
         "9761188",
         49.0,
         "Alberta Freund_Bonita Higuera@DSA.com",
         0.49,
         "Nigeria"
        ],
        [
         "28",
         "Male",
         "Anna Santos",
         "DB",
         "9772185",
         32.0,
         "Kizzy Brenner_Annika Hoffman@PF.com",
         0.32,
         "Nigeria"
        ],
        [
         "28",
         "Female",
         "Celeste Lollis",
         "DB",
         "9782472",
         54.0,
         "Kena Wild_Hubert Oliveras@DSA.com",
         0.54,
         "Nigeria"
        ],
        [
         "29",
         "Female",
         "Toshiko Hillyard",
         "DSA",
         "9792504",
         78.0,
         "Nicole Harwood_Somer Stoecker@DB.com",
         0.78,
         "Nigeria"
        ],
        [
         "29",
         "Male",
         "Donna Yerby",
         "MVC",
         "9802357",
         51.0,
         "Tamera Blakley_Jalisa Swenson@MVC.com",
         0.51,
         "Nigeria"
        ],
        [
         "29",
         "Male",
         "Santa Kerfien",
         "DB",
         "9811489",
         41.0,
         "Abram Nagao_Melani Engberg@Cloud.com",
         0.41,
         "Nigeria"
        ],
        [
         "29",
         "Male",
         "Hubert Oliveras",
         "DB",
         "9822797",
         61.0,
         "Lawanda Wohlwend_Jalisa Swenson@DB.com",
         0.61,
         "Nigeria"
        ],
        [
         "28",
         "Male",
         "Paris Hutton",
         "DB",
         "9832215",
         46.0,
         "Niki Klimek_Tijuana Kropf@PF.com",
         0.46,
         "Nigeria"
        ],
        [
         "29",
         "Male",
         "Mitzi Seldon",
         "PF",
         "9842669",
         40.0,
         "Jalisa Swenson_Sebrina Maresca@MVC.com",
         0.4,
         "Nigeria"
        ],
        [
         "28",
         "Female",
         "Donna Yerby",
         "OOP",
         "9851840",
         73.0,
         "Ernest Rossbach_Mitzi Seldon@Cloud.com",
         0.73,
         "Nigeria"
        ],
        [
         "29",
         "Female",
         "Marylee Capasso",
         "DB",
         "9862444",
         70.0,
         "Bonita Higuera_Kena Wild@OOP.com",
         0.7,
         "Nigeria"
        ],
        [
         "29",
         "Female",
         "Annika Hoffman",
         "PF",
         "9871120",
         94.0,
         "Ernest Rossbach_Billi Clore@MVC.com",
         0.94,
         "Nigeria"
        ],
        [
         "28",
         "Male",
         "Sheryll Towler",
         "MVC",
         "9881953",
         86.0,
         "Ernest Rossbach_Santa Kerfien@DB.com",
         0.86,
         "Nigeria"
        ],
        [
         "28",
         "Male",
         "Kena Wild",
         "DSA",
         "9891274",
         95.0,
         "Donna Yerby_Leontine Phillips@Cloud.com",
         0.95,
         "Nigeria"
        ],
        [
         "29",
         "Male",
         "Tijuana Kropf",
         "DB",
         "9902560",
         76.0,
         "Tijuana Kropf_Abram Nagao@Cloud.com",
         0.76,
         "Nigeria"
        ],
        [
         "28",
         "Male",
         "Neda Briski",
         "PF",
         "9912790",
         75.0,
         "Hubert Oliveras_Taryn Brownlee@PF.com",
         0.75,
         "Nigeria"
        ],
        [
         "29",
         "Female",
         "Marylee Capasso",
         "OOP",
         "9922554",
         60.0,
         "Naoma Fritts_Paris Hutton@DSA.com",
         0.6,
         "Nigeria"
        ],
        [
         "29",
         "Male",
         "Cordie Harnois",
         "PF",
         "9931081",
         107.0,
         "Toshiko Hillyard_Abram Nagao@Cloud.com",
         1.07,
         "Nigeria"
        ],
        [
         "29",
         "Female",
         "Anna Santos",
         "Cloud",
         "9942543",
         97.0,
         "Somer Stoecker_Mickey Cortright@DB.com",
         0.97,
         "Nigeria"
        ],
        [
         "28",
         "Female",
         "Celeste Lollis",
         "DB",
         "9952416",
         69.0,
         "Gonzalo Ferebee_Jalisa Swenson@DB.com",
         0.69,
         "Nigeria"
        ],
        [
         "29",
         "Female",
         "Somer Stoecker",
         "Cloud",
         "9962277",
         94.0,
         "Clementina Menke_Paris Hutton@OOP.com",
         0.94,
         "Nigeria"
        ],
        [
         "28",
         "Male",
         "Tamera Blakley",
         "DSA",
         "9971217",
         36.0,
         "Anna Santos_Claude Panos@PF.com",
         0.36,
         "Nigeria"
        ],
        [
         "28",
         "Female",
         "Tamera Blakley",
         "MVC",
         "9982779",
         81.0,
         "Toshiko Hillyard_Anna Santos@DSA.com",
         0.81,
         "Nigeria"
        ],
        [
         "29",
         "Female",
         "Jenna Montague",
         "PF",
         "9991617",
         33.0,
         "Anna Santos_Jenna Montague@DB.com",
         0.33,
         "Nigeria"
        ]
       ],
       "datasetInfos": [],
       "dbfsResultPath": null,
       "isJsonSchema": true,
       "metadata": {},
       "overflow": false,
       "plotOptions": {
        "customPlotOptions": {},
        "displayType": "table",
        "pivotAggregation": null,
        "pivotColumns": null,
        "xColumns": null,
        "yColumns": null
       },
       "removedWidgets": [],
       "schema": [
        {
         "metadata": "{}",
         "name": "age",
         "type": "\"string\""
        },
        {
         "metadata": "{}",
         "name": "sex",
         "type": "\"string\""
        },
        {
         "metadata": "{}",
         "name": "name",
         "type": "\"string\""
        },
        {
         "metadata": "{}",
         "name": "course",
         "type": "\"string\""
        },
        {
         "metadata": "{}",
         "name": "roll number",
         "type": "\"string\""
        },
        {
         "metadata": "{}",
         "name": "marks",
         "type": "\"double\""
        },
        {
         "metadata": "{}",
         "name": "email",
         "type": "\"string\""
        },
        {
         "metadata": "{}",
         "name": "percentage",
         "type": "\"double\""
        },
        {
         "metadata": "{}",
         "name": "country name",
         "type": "\"string\""
        }
       ],
       "type": "table"
      }
     },
     "output_type": "display_data"
    }
   ],
   "source": [
    "%sql select * from student_data"
   ]
  },
  {
   "cell_type": "code",
   "execution_count": 0,
   "metadata": {
    "application/vnd.databricks.v1+cell": {
     "cellMetadata": {
      "implicitDf": true
     },
     "inputWidgets": {},
     "nuid": "59881258-3f4e-4dd0-9ccc-f1f6a0bae254",
     "showTitle": false,
     "title": ""
    }
   },
   "outputs": [
    {
     "output_type": "display_data",
     "data": {
      "text/html": [
       "<style scoped>\n",
       "  .table-result-container {\n",
       "    max-height: 300px;\n",
       "    overflow: auto;\n",
       "  }\n",
       "  table, th, td {\n",
       "    border: 1px solid black;\n",
       "    border-collapse: collapse;\n",
       "  }\n",
       "  th, td {\n",
       "    padding: 5px;\n",
       "  }\n",
       "  th {\n",
       "    text-align: left;\n",
       "  }\n",
       "</style><div class='table-result-container'><table class='table-result'><thead style='background-color: white'><tr><th>age</th><th>sex</th><th>name</th><th>course</th><th>roll number</th><th>marks</th><th>email</th><th>percentage</th><th>country name</th></tr></thead><tbody><tr><td>28</td><td>Female</td><td>Hubert Oliveras</td><td>DB</td><td>02984</td><td>69.0</td><td>Annika Hoffman_Naoma Fritts@OOP.com</td><td>0.69</td><td>Nigeria</td></tr><tr><td>29</td><td>Female</td><td>Elenore Choy</td><td>DB</td><td>32877</td><td>39.0</td><td>Billi Clore_Mitzi Seldon@DB.com</td><td>0.39</td><td>Nigeria</td></tr><tr><td>29</td><td>Male</td><td>Ernest Rossbach</td><td>DB</td><td>111449</td><td>63.0</td><td>Maybell Duguay_Abram Nagao@OOP.com</td><td>0.63</td><td>Nigeria</td></tr><tr><td>28</td><td>Female</td><td>Latia Vanhoose</td><td>DB</td><td>122502</td><td>37.0</td><td>Latia Vanhoose_Mitzi Seldon@OOP.com</td><td>0.37</td><td>Nigeria</td></tr><tr><td>29</td><td>Female</td><td>Latia Vanhoose</td><td>DB</td><td>152159</td><td>37.0</td><td>Claude Panos_Santa Kerfien@DB.com</td><td>0.37</td><td>Nigeria</td></tr><tr><td>28</td><td>Female</td><td>Mickey Cortright</td><td>DB</td><td>192537</td><td>72.0</td><td>Ernest Rossbach_Marylee Capasso@Cloud.com</td><td>0.72</td><td>Nigeria</td></tr><tr><td>28</td><td>Female</td><td>Anna Santos</td><td>DB</td><td>311589</td><td>89.0</td><td>Celeste Lollis_Mickey Cortright@DSA.com</td><td>0.89</td><td>Nigeria</td></tr><tr><td>28</td><td>Male</td><td>Kizzy Brenner</td><td>DB</td><td>381712</td><td>46.0</td><td>Paris Hutton_Kena Wild@MVC.com</td><td>0.46</td><td>Nigeria</td></tr><tr><td>28</td><td>Male</td><td>Toshiko Hillyard</td><td>DB</td><td>392218</td><td>57.0</td><td>Leontine Phillips_Billi Clore@MVC.com</td><td>0.57</td><td>Nigeria</td></tr><tr><td>29</td><td>Male</td><td>Paris Hutton</td><td>DB</td><td>481229</td><td>67.0</td><td>Clementina Menke_Paris Hutton@MVC.com</td><td>0.67</td><td>Nigeria</td></tr><tr><td>28</td><td>Female</td><td>Mickey Cortright</td><td>DB</td><td>551389</td><td>53.0</td><td>Tijuana Kropf_Jenna Montague@DB.com</td><td>0.53</td><td>Nigeria</td></tr><tr><td>28</td><td>Female</td><td>Leontine Phillips</td><td>DB</td><td>602404</td><td>58.0</td><td>Neda Briski_Cheri Kenney@PF.com</td><td>0.58</td><td>Nigeria</td></tr><tr><td>28</td><td>Female</td><td>Hubert Oliveras</td><td>DB</td><td>771081</td><td>89.0</td><td>Kizzy Brenner_Dustin Feagins@MVC.com</td><td>0.89</td><td>Nigeria</td></tr><tr><td>29</td><td>Female</td><td>Elenore Choy</td><td>DB</td><td>811824</td><td>65.0</td><td>Maybell Duguay_Melani Engberg@DB.com</td><td>0.65</td><td>Nigeria</td></tr><tr><td>29</td><td>Male</td><td>Clementina Menke</td><td>DB</td><td>882200</td><td>86.0</td><td>Michelle Ruggiero_Jenna Montague@MVC.com</td><td>0.86</td><td>Nigeria</td></tr><tr><td>29</td><td>Female</td><td>Sebrina Maresca</td><td>DB</td><td>922210</td><td>64.0</td><td>Toshiko Hillyard_Santa Kerfien@MVC.com</td><td>0.64</td><td>Nigeria</td></tr><tr><td>29</td><td>Male</td><td>Naoma Fritts</td><td>DB</td><td>931295</td><td>89.0</td><td>Hubert Oliveras_Sheryll Towler@DSA.com</td><td>0.89</td><td>Nigeria</td></tr><tr><td>28</td><td>Male</td><td>Annika Hoffman</td><td>DB</td><td>1031544</td><td>54.0</td><td>Dustin Feagins_Somer Stoecker@DB.com</td><td>0.54</td><td>Nigeria</td></tr><tr><td>28</td><td>Male</td><td>Nicole Harwood</td><td>DB</td><td>1211495</td><td>38.0</td><td>Melani Engberg_Jc Andrepont@Cloud.com</td><td>0.38</td><td>Nigeria</td></tr><tr><td>29</td><td>Female</td><td>Claude Panos</td><td>DB</td><td>1222887</td><td>85.0</td><td>Hubert Oliveras_Somer Stoecker@Cloud.com</td><td>0.85</td><td>Nigeria</td></tr><tr><td>29</td><td>Female</td><td>Niki Klimek</td><td>DB</td><td>1301784</td><td>34.0</td><td>Celeste Lollis_Tamera Blakley@DB.com</td><td>0.34</td><td>Nigeria</td></tr><tr><td>29</td><td>Female</td><td>Leontine Phillips</td><td>DB</td><td>1432252</td><td>77.0</td><td>Billi Clore_Sheryll Towler@DB.com</td><td>0.77</td><td>Nigeria</td></tr><tr><td>28</td><td>Female</td><td>Gonzalo Ferebee</td><td>DB</td><td>1451513</td><td>79.0</td><td>Claude Panos_Tamera Blakley@PF.com</td><td>0.79</td><td>Nigeria</td></tr><tr><td>29</td><td>Female</td><td>Judie Chipps</td><td>DB</td><td>1461078</td><td>41.0</td><td>Tijuana Kropf_Billi Clore@OOP.com</td><td>0.41</td><td>Nigeria</td></tr><tr><td>28</td><td>Male</td><td>Marylee Capasso</td><td>DB</td><td>1611411</td><td>106.0</td><td>Annika Hoffman_Loris Crossett@PF.com</td><td>1.06</td><td>Nigeria</td></tr><tr><td>29</td><td>Female</td><td>Michelle Ruggiero</td><td>DB</td><td>1642509</td><td>55.0</td><td>Hubert Oliveras_Marylee Capasso@DB.com</td><td>0.55</td><td>Nigeria</td></tr><tr><td>29</td><td>Male</td><td>Alberta Freund</td><td>DB</td><td>1671638</td><td>108.0</td><td>Clementina Menke_Jalisa Swenson@Cloud.com</td><td>1.08</td><td>Nigeria</td></tr><tr><td>28</td><td>Male</td><td>Celeste Lollis</td><td>DB</td><td>1692106</td><td>46.0</td><td>Neda Briski_Abram Nagao@MVC.com</td><td>0.46</td><td>Nigeria</td></tr><tr><td>28</td><td>Female</td><td>Priscila Tavernier</td><td>DB</td><td>1722388</td><td>96.0</td><td>Lawanda Wohlwend_Loris Crossett@DSA.com</td><td>0.96</td><td>Nigeria</td></tr><tr><td>29</td><td>Male</td><td>Dustin Feagins</td><td>DB</td><td>1782045</td><td>91.0</td><td>Cordie Harnois_Toshiko Hillyard@OOP.com</td><td>0.91</td><td>Nigeria</td></tr><tr><td>28</td><td>Female</td><td>Lawanda Wohlwend</td><td>DB</td><td>1852072</td><td>40.0</td><td>Bonita Higuera_Jenna Montague@DB.com</td><td>0.4</td><td>Nigeria</td></tr><tr><td>29</td><td>Male</td><td>Tijuana Kropf</td><td>DB</td><td>1882795</td><td>102.0</td><td>Hubert Oliveras_Elenore Choy@Cloud.com</td><td>1.02</td><td>Nigeria</td></tr><tr><td>28</td><td>Male</td><td>Ernest Rossbach</td><td>DB</td><td>1901492</td><td>64.0</td><td>Latia Vanhoose_Jc Andrepont@MVC.com</td><td>0.64</td><td>Nigeria</td></tr><tr><td>29</td><td>Female</td><td>Leontine Phillips</td><td>DB</td><td>1972893</td><td>74.0</td><td>Marylee Capasso_Elenore Choy@OOP.com</td><td>0.74</td><td>Nigeria</td></tr><tr><td>28</td><td>Male</td><td>Kena Wild</td><td>DB</td><td>2031530</td><td>103.0</td><td>Jc Andrepont_Jc Andrepont@PF.com</td><td>1.03</td><td>Nigeria</td></tr><tr><td>29</td><td>Male</td><td>Judie Chipps</td><td>DB</td><td>2112234</td><td>104.0</td><td>Dustin Feagins_Tamera Blakley@PF.com</td><td>1.04</td><td>Nigeria</td></tr><tr><td>28</td><td>Male</td><td>Jeannetta Golden</td><td>DB</td><td>2171387</td><td>86.0</td><td>Cheri Kenney_Billi Clore@DB.com</td><td>0.86</td><td>Nigeria</td></tr><tr><td>28</td><td>Female</td><td>Billi Clore</td><td>DB</td><td>2181375</td><td>68.0</td><td>Latia Vanhoose_Eda Neathery@DSA.com</td><td>0.68</td><td>Nigeria</td></tr><tr><td>29</td><td>Female</td><td>Niki Klimek</td><td>DB</td><td>2211319</td><td>71.0</td><td>Celeste Lollis_Sheryll Towler@DB.com</td><td>0.71</td><td>Nigeria</td></tr><tr><td>28</td><td>Male</td><td>Kizzy Brenner</td><td>DB</td><td>2322537</td><td>66.0</td><td>Jenna Montague_Latia Vanhoose@MVC.com</td><td>0.66</td><td>Nigeria</td></tr><tr><td>28</td><td>Male</td><td>Judie Chipps</td><td>DB</td><td>2461986</td><td>63.0</td><td>Niki Klimek_Judie Chipps@MVC.com</td><td>0.63</td><td>Nigeria</td></tr><tr><td>28</td><td>Female</td><td>Jeannetta Golden</td><td>DB</td><td>2522775</td><td>93.0</td><td>Kizzy Brenner_Bonita Higuera@DB.com</td><td>0.93</td><td>Nigeria</td></tr><tr><td>28</td><td>Male</td><td>Mitzi Seldon</td><td>DB</td><td>2622118</td><td>65.0</td><td>Mickey Cortright_Mitzi Seldon@MVC.com</td><td>0.65</td><td>Nigeria</td></tr><tr><td>28</td><td>Female</td><td>Abram Nagao</td><td>DB</td><td>2632057</td><td>35.0</td><td>Margene Moores_Somer Stoecker@DB.com</td><td>0.35</td><td>Nigeria</td></tr><tr><td>28</td><td>Male</td><td>Santa Kerfien</td><td>DB</td><td>2732421</td><td>89.0</td><td>Claude Panos_Alberta Freund@DB.com</td><td>0.89</td><td>Nigeria</td></tr><tr><td>29</td><td>Female</td><td>Eda Neathery</td><td>DB</td><td>2802988</td><td>82.0</td><td>Jenna Montague_Toshiko Hillyard@Cloud.com</td><td>0.82</td><td>Nigeria</td></tr><tr><td>29</td><td>Male</td><td>Abram Nagao</td><td>DB</td><td>2841061</td><td>35.0</td><td>Leontine Phillips_Toshiko Hillyard@Cloud.com</td><td>0.35</td><td>Nigeria</td></tr><tr><td>28</td><td>Male</td><td>Michelle Ruggiero</td><td>DB</td><td>2891164</td><td>70.0</td><td>Gonzalo Ferebee_Priscila Tavernier@DSA.com</td><td>0.7</td><td>Nigeria</td></tr><tr><td>29</td><td>Male</td><td>Niki Klimek</td><td>DB</td><td>2912538</td><td>77.0</td><td>Jc Andrepont_Mitzi Seldon@DSA.com</td><td>0.77</td><td>Nigeria</td></tr><tr><td>29</td><td>Male</td><td>Melani Engberg</td><td>DB</td><td>2941257</td><td>108.0</td><td>Claude Panos_Kena Wild@DB.com</td><td>1.08</td><td>Nigeria</td></tr><tr><td>29</td><td>Female</td><td>Alberta Freund</td><td>DB</td><td>3041340</td><td>70.0</td><td>Celeste Lollis_Abram Nagao@PF.com</td><td>0.7</td><td>Nigeria</td></tr><tr><td>28</td><td>Male</td><td>Tijuana Kropf</td><td>DB</td><td>3111175</td><td>80.0</td><td>Latia Vanhoose_Somer Stoecker@DSA.com</td><td>0.8</td><td>Nigeria</td></tr><tr><td>29</td><td>Male</td><td>Jalisa Swenson</td><td>DB</td><td>3192192</td><td>84.0</td><td>Ernest Rossbach_Cordie Harnois@DB.com</td><td>0.84</td><td>Nigeria</td></tr><tr><td>28</td><td>Female</td><td>Billi Clore</td><td>DB</td><td>3221997</td><td>71.0</td><td>Taryn Brownlee_Santa Kerfien@PF.com</td><td>0.71</td><td>Nigeria</td></tr><tr><td>29</td><td>Female</td><td>Paris Hutton</td><td>DB</td><td>3241324</td><td>82.0</td><td>Abram Nagao_Cordie Harnois@DSA.com</td><td>0.82</td><td>Nigeria</td></tr><tr><td>28</td><td>Female</td><td>Niki Klimek</td><td>DB</td><td>3361932</td><td>37.0</td><td>Nicole Harwood_Bonita Higuera@DB.com</td><td>0.37</td><td>Nigeria</td></tr><tr><td>29</td><td>Male</td><td>Sebrina Maresca</td><td>DB</td><td>3371719</td><td>96.0</td><td>Marylee Capasso_Margene Moores@DSA.com</td><td>0.96</td><td>Nigeria</td></tr><tr><td>29</td><td>Female</td><td>Niki Klimek</td><td>DB</td><td>3441033</td><td>103.0</td><td>Hubert Oliveras_Tijuana Kropf@Cloud.com</td><td>1.03</td><td>Nigeria</td></tr><tr><td>28</td><td>Female</td><td>Toshiko Hillyard</td><td>DB</td><td>3602005</td><td>64.0</td><td>Loris Crossett_Annika Hoffman@DB.com</td><td>0.64</td><td>Nigeria</td></tr><tr><td>29</td><td>Male</td><td>Elenore Choy</td><td>DB</td><td>3652057</td><td>30.0</td><td>Jc Andrepont_Gonzalo Ferebee@DB.com</td><td>0.3</td><td>Nigeria</td></tr><tr><td>28</td><td>Male</td><td>Claude Panos</td><td>DB</td><td>3752819</td><td>88.0</td><td>Toshiko Hillyard_Mickey Cortright@DB.com</td><td>0.88</td><td>Nigeria</td></tr><tr><td>28</td><td>Male</td><td>Bonita Higuera</td><td>DB</td><td>3802569</td><td>87.0</td><td>Kena Wild_Kena Wild@OOP.com</td><td>0.87</td><td>Nigeria</td></tr><tr><td>29</td><td>Male</td><td>Tijuana Kropf</td><td>DB</td><td>3821650</td><td>70.0</td><td>Maybell Duguay_Donna Yerby@MVC.com</td><td>0.7</td><td>Nigeria</td></tr><tr><td>29</td><td>Male</td><td>Ernest Rossbach</td><td>DB</td><td>4081940</td><td>51.0</td><td>Tamera Blakley_Abram Nagao@MVC.com</td><td>0.51</td><td>Nigeria</td></tr><tr><td>29</td><td>Male</td><td>Anna Santos</td><td>DB</td><td>4192955</td><td>59.0</td><td>Clementina Menke_Judie Chipps@Cloud.com</td><td>0.59</td><td>Nigeria</td></tr><tr><td>29</td><td>Male</td><td>Elenore Choy</td><td>DB</td><td>4291907</td><td>101.0</td><td>Hubert Oliveras_Tamera Blakley@OOP.com</td><td>1.01</td><td>Nigeria</td></tr><tr><td>28</td><td>Male</td><td>Santa Kerfien</td><td>DB</td><td>4311493</td><td>100.0</td><td>Tijuana Kropf_Anna Santos@PF.com</td><td>1.0</td><td>Nigeria</td></tr><tr><td>29</td><td>Male</td><td>Ernest Rossbach</td><td>DB</td><td>4411585</td><td>60.0</td><td>Marylee Capasso_Lawanda Wohlwend@Cloud.com</td><td>0.6</td><td>Nigeria</td></tr><tr><td>28</td><td>Female</td><td>Kena Wild</td><td>DB</td><td>4431030</td><td>69.0</td><td>Paris Hutton_Cheri Kenney@Cloud.com</td><td>0.69</td><td>Nigeria</td></tr><tr><td>29</td><td>Male</td><td>Paris Hutton</td><td>DB</td><td>4492478</td><td>94.0</td><td>Paris Hutton_Jenna Montague@PF.com</td><td>0.94</td><td>Nigeria</td></tr><tr><td>29</td><td>Male</td><td>Judie Chipps</td><td>DB</td><td>4542925</td><td>49.0</td><td>Jenna Montague_Priscila Tavernier@PF.com</td><td>0.49</td><td>Nigeria</td></tr><tr><td>29</td><td>Female</td><td>Sheryll Towler</td><td>DB</td><td>4571866</td><td>77.0</td><td>Leontine Phillips_Kizzy Brenner@Cloud.com</td><td>0.77</td><td>Nigeria</td></tr><tr><td>28</td><td>Male</td><td>Eda Neathery</td><td>DB</td><td>4651622</td><td>53.0</td><td>Priscila Tavernier_Hubert Oliveras@DSA.com</td><td>0.53</td><td>Nigeria</td></tr><tr><td>28</td><td>Female</td><td>Claude Panos</td><td>DB</td><td>4701534</td><td>57.0</td><td>Somer Stoecker_Naoma Fritts@DSA.com</td><td>0.57</td><td>Nigeria</td></tr><tr><td>28</td><td>Male</td><td>Alberta Freund</td><td>DB</td><td>4802967</td><td>90.0</td><td>Naoma Fritts_Elenore Choy@DSA.com</td><td>0.9</td><td>Nigeria</td></tr><tr><td>28</td><td>Female</td><td>Santa Kerfien</td><td>DB</td><td>4811069</td><td>95.0</td><td>Dustin Feagins_Maybell Duguay@MVC.com</td><td>0.95</td><td>Nigeria</td></tr><tr><td>29</td><td>Female</td><td>Mitzi Seldon</td><td>DB</td><td>4922367</td><td>74.0</td><td>Annika Hoffman_Annika Hoffman@MVC.com</td><td>0.74</td><td>Nigeria</td></tr><tr><td>28</td><td>Male</td><td>Santa Kerfien</td><td>DB</td><td>4932764</td><td>86.0</td><td>Nicole Harwood_Loris Crossett@PF.com</td><td>0.86</td><td>Nigeria</td></tr><tr><td>28</td><td>Female</td><td>Santa Kerfien</td><td>DB</td><td>4971408</td><td>50.0</td><td>Mitzi Seldon_Naoma Fritts@PF.com</td><td>0.5</td><td>Nigeria</td></tr><tr><td>28</td><td>Female</td><td>Donna Yerby</td><td>DB</td><td>4991657</td><td>63.0</td><td>Ernest Rossbach_Somer Stoecker@DSA.com</td><td>0.63</td><td>Nigeria</td></tr><tr><td>28</td><td>Female</td><td>Kena Wild</td><td>DB</td><td>5001412</td><td>63.0</td><td>Annika Hoffman_Jalisa Swenson@PF.com</td><td>0.63</td><td>Nigeria</td></tr><tr><td>29</td><td>Male</td><td>Jc Andrepont</td><td>DB</td><td>5012482</td><td>70.0</td><td>Jalisa Swenson_Somer Stoecker@Cloud.com</td><td>0.7</td><td>Nigeria</td></tr><tr><td>29</td><td>Female</td><td>Anna Santos</td><td>DB</td><td>5142808</td><td>91.0</td><td>Donna Yerby_Naoma Fritts@DB.com</td><td>0.91</td><td>Nigeria</td></tr><tr><td>29</td><td>Male</td><td>Santa Kerfien</td><td>DB</td><td>5282657</td><td>91.0</td><td>Judie Chipps_Mickey Cortright@MVC.com</td><td>0.91</td><td>Nigeria</td></tr><tr><td>28</td><td>Male</td><td>Taryn Brownlee</td><td>DB</td><td>5311449</td><td>35.0</td><td>Santa Kerfien_Lawanda Wohlwend@OOP.com</td><td>0.35</td><td>Nigeria</td></tr><tr><td>28</td><td>Male</td><td>Donna Yerby</td><td>DB</td><td>5321010</td><td>75.0</td><td>Jc Andrepont_Tijuana Kropf@DB.com</td><td>0.75</td><td>Nigeria</td></tr><tr><td>29</td><td>Female</td><td>Dustin Feagins</td><td>DB</td><td>5581136</td><td>42.0</td><td>Alberta Freund_Celeste Lollis@Cloud.com</td><td>0.42</td><td>Nigeria</td></tr><tr><td>28</td><td>Female</td><td>Mitzi Seldon</td><td>DB</td><td>5602986</td><td>75.0</td><td>Toshiko Hillyard_Elenore Choy@MVC.com</td><td>0.75</td><td>Nigeria</td></tr><tr><td>28</td><td>Male</td><td>Tamera Blakley</td><td>DB</td><td>5661433</td><td>86.0</td><td>Abram Nagao_Leontine Phillips@MVC.com</td><td>0.86</td><td>Nigeria</td></tr><tr><td>28</td><td>Female</td><td>Nicole Harwood</td><td>DB</td><td>5862606</td><td>87.0</td><td>Clementina Menke_Donna Yerby@DB.com</td><td>0.87</td><td>Nigeria</td></tr><tr><td>28</td><td>Female</td><td>Judie Chipps</td><td>DB</td><td>5872939</td><td>34.0</td><td>Mitzi Seldon_Paris Hutton@OOP.com</td><td>0.34</td><td>Nigeria</td></tr><tr><td>29</td><td>Male</td><td>Donna Yerby</td><td>DB</td><td>5932345</td><td>88.0</td><td>Leontine Phillips_Sheryll Towler@PF.com</td><td>0.88</td><td>Nigeria</td></tr><tr><td>29</td><td>Male</td><td>Cheri Kenney</td><td>DB</td><td>6041254</td><td>69.0</td><td>Gonzalo Ferebee_Margene Moores@PF.com</td><td>0.69</td><td>Nigeria</td></tr><tr><td>29</td><td>Female</td><td>Paris Hutton</td><td>DB</td><td>6052159</td><td>44.0</td><td>Priscila Tavernier_Maybell Duguay@PF.com</td><td>0.44</td><td>Nigeria</td></tr><tr><td>28</td><td>Male</td><td>Paris Hutton</td><td>DB</td><td>6131084</td><td>82.0</td><td>Tijuana Kropf_Abram Nagao@MVC.com</td><td>0.82</td><td>Nigeria</td></tr><tr><td>29</td><td>Male</td><td>Jalisa Swenson</td><td>DB</td><td>6141407</td><td>107.0</td><td>Ernest Rossbach_Alberta Freund@DB.com</td><td>1.07</td><td>Nigeria</td></tr><tr><td>29</td><td>Female</td><td>Loris Crossett</td><td>DB</td><td>6212990</td><td>49.0</td><td>Melani Engberg_Paris Hutton@Cloud.com</td><td>0.49</td><td>Nigeria</td></tr><tr><td>29</td><td>Female</td><td>Kizzy Brenner</td><td>DB</td><td>6222425</td><td>79.0</td><td>Margene Moores_Sebrina Maresca@MVC.com</td><td>0.79</td><td>Nigeria</td></tr><tr><td>28</td><td>Female</td><td>Sheryll Towler</td><td>DB</td><td>6271754</td><td>53.0</td><td>Elenore Choy_Melani Engberg@MVC.com</td><td>0.53</td><td>Nigeria</td></tr><tr><td>28</td><td>Female</td><td>Maybell Duguay</td><td>DB</td><td>6301666</td><td>98.0</td><td>Latia Vanhoose_Jc Andrepont@Cloud.com</td><td>0.98</td><td>Nigeria</td></tr><tr><td>29</td><td>Male</td><td>Eda Neathery</td><td>DB</td><td>6311969</td><td>93.0</td><td>Clementina Menke_Neda Briski@DB.com</td><td>0.93</td><td>Nigeria</td></tr><tr><td>28</td><td>Male</td><td>Naoma Fritts</td><td>DB</td><td>6422790</td><td>105.0</td><td>Sheryll Towler_Ernest Rossbach@DSA.com</td><td>1.05</td><td>Nigeria</td></tr><tr><td>28</td><td>Female</td><td>Nicole Harwood</td><td>DB</td><td>6522046</td><td>89.0</td><td>Naoma Fritts_Margene Moores@DSA.com</td><td>0.89</td><td>Nigeria</td></tr><tr><td>28</td><td>Female</td><td>Kizzy Brenner</td><td>DB</td><td>6582931</td><td>67.0</td><td>Alberta Freund_Jc Andrepont@PF.com</td><td>0.67</td><td>Nigeria</td></tr><tr><td>28</td><td>Male</td><td>Neda Briski</td><td>DB</td><td>6632463</td><td>58.0</td><td>Sheryll Towler_Dustin Feagins@Cloud.com</td><td>0.58</td><td>Nigeria</td></tr><tr><td>29</td><td>Female</td><td>Anna Santos</td><td>DB</td><td>6732334</td><td>55.0</td><td>Gonzalo Ferebee_Alberta Freund@DSA.com</td><td>0.55</td><td>Nigeria</td></tr><tr><td>29</td><td>Male</td><td>Tamera Blakley</td><td>DB</td><td>6811165</td><td>72.0</td><td>Annika Hoffman_Bonita Higuera@PF.com</td><td>0.72</td><td>Nigeria</td></tr><tr><td>29</td><td>Female</td><td>Mitzi Seldon</td><td>DB</td><td>6862019</td><td>88.0</td><td>Kena Wild_Celeste Lollis@DSA.com</td><td>0.88</td><td>Nigeria</td></tr><tr><td>28</td><td>Female</td><td>Kizzy Brenner</td><td>DB</td><td>6892057</td><td>80.0</td><td>Priscila Tavernier_Judie Chipps@OOP.com</td><td>0.8</td><td>Nigeria</td></tr><tr><td>29</td><td>Female</td><td>Kena Wild</td><td>DB</td><td>6911600</td><td>83.0</td><td>Maybell Duguay_Latia Vanhoose@PF.com</td><td>0.83</td><td>Nigeria</td></tr><tr><td>28</td><td>Male</td><td>Clementina Menke</td><td>DB</td><td>7172058</td><td>72.0</td><td>Mitzi Seldon_Clementina Menke@MVC.com</td><td>0.72</td><td>Nigeria</td></tr><tr><td>28</td><td>Male</td><td>Leontine Phillips</td><td>DB</td><td>7242704</td><td>82.0</td><td>Maybell Duguay_Toshiko Hillyard@PF.com</td><td>0.82</td><td>Nigeria</td></tr><tr><td>28</td><td>Female</td><td>Lawanda Wohlwend</td><td>DB</td><td>7261840</td><td>91.0</td><td>Donna Yerby_Kizzy Brenner@Cloud.com</td><td>0.91</td><td>Nigeria</td></tr><tr><td>29</td><td>Female</td><td>Melani Engberg</td><td>DB</td><td>7471313</td><td>87.0</td><td>Cheri Kenney_Celeste Lollis@PF.com</td><td>0.87</td><td>Nigeria</td></tr><tr><td>29</td><td>Female</td><td>Jalisa Swenson</td><td>DB</td><td>7542285</td><td>69.0</td><td>Maybell Duguay_Billi Clore@PF.com</td><td>0.69</td><td>Nigeria</td></tr><tr><td>28</td><td>Female</td><td>Cheri Kenney</td><td>DB</td><td>7551469</td><td>43.0</td><td>Paris Hutton_Annika Hoffman@OOP.com</td><td>0.43</td><td>Nigeria</td></tr><tr><td>28</td><td>Female</td><td>Judie Chipps</td><td>DB</td><td>7682333</td><td>91.0</td><td>Toshiko Hillyard_Claude Panos@DB.com</td><td>0.91</td><td>Nigeria</td></tr><tr><td>28</td><td>Male</td><td>Mickey Cortright</td><td>DB</td><td>7702338</td><td>79.0</td><td>Latia Vanhoose_Jeannetta Golden@OOP.com</td><td>0.79</td><td>Nigeria</td></tr><tr><td>28</td><td>Female</td><td>Billi Clore</td><td>DB</td><td>7711330</td><td>74.0</td><td>Maybell Duguay_Ernest Rossbach@Cloud.com</td><td>0.74</td><td>Nigeria</td></tr><tr><td>29</td><td>Male</td><td>Clementina Menke</td><td>DB</td><td>7872434</td><td>78.0</td><td>Jalisa Swenson_Alberta Freund@OOP.com</td><td>0.78</td><td>Nigeria</td></tr><tr><td>29</td><td>Male</td><td>Billi Clore</td><td>DB</td><td>7992784</td><td>68.0</td><td>Tamera Blakley_Dustin Feagins@MVC.com</td><td>0.68</td><td>Nigeria</td></tr><tr><td>29</td><td>Male</td><td>Ernest Rossbach</td><td>DB</td><td>8002285</td><td>86.0</td><td>Marylee Capasso_Naoma Fritts@DSA.com</td><td>0.86</td><td>Nigeria</td></tr><tr><td>29</td><td>Female</td><td>Mickey Cortright</td><td>DB</td><td>8031057</td><td>76.0</td><td>Dustin Feagins_Tijuana Kropf@DB.com</td><td>0.76</td><td>Nigeria</td></tr><tr><td>28</td><td>Male</td><td>Sebrina Maresca</td><td>DB</td><td>8092398</td><td>52.0</td><td>Claude Panos_Jc Andrepont@DB.com</td><td>0.52</td><td>Nigeria</td></tr><tr><td>28</td><td>Female</td><td>Nicole Harwood</td><td>DB</td><td>8181552</td><td>47.0</td><td>Hubert Oliveras_Gonzalo Ferebee@Cloud.com</td><td>0.47</td><td>Nigeria</td></tr><tr><td>28</td><td>Female</td><td>Sheryll Towler</td><td>DB</td><td>8271000</td><td>47.0</td><td>Neda Briski_Anna Santos@Cloud.com</td><td>0.47</td><td>Nigeria</td></tr><tr><td>28</td><td>Male</td><td>Mickey Cortright</td><td>DB</td><td>8411430</td><td>80.0</td><td>Hubert Oliveras_Ernest Rossbach@PF.com</td><td>0.8</td><td>Nigeria</td></tr><tr><td>28</td><td>Male</td><td>Kena Wild</td><td>DB</td><td>8471833</td><td>46.0</td><td>Tamera Blakley_Jeannetta Golden@OOP.com</td><td>0.46</td><td>Nigeria</td></tr><tr><td>28</td><td>Male</td><td>Tijuana Kropf</td><td>DB</td><td>8522175</td><td>97.0</td><td>Mickey Cortright_Claude Panos@MVC.com</td><td>0.97</td><td>Nigeria</td></tr><tr><td>29</td><td>Female</td><td>Dustin Feagins</td><td>DB</td><td>8561099</td><td>42.0</td><td>Margene Moores_Margene Moores@Cloud.com</td><td>0.42</td><td>Nigeria</td></tr><tr><td>28</td><td>Male</td><td>Naoma Fritts</td><td>DB</td><td>8611528</td><td>99.0</td><td>Nicole Harwood_Clementina Menke@MVC.com</td><td>0.99</td><td>Nigeria</td></tr><tr><td>29</td><td>Male</td><td>Cheri Kenney</td><td>DB</td><td>8652382</td><td>46.0</td><td>Santa Kerfien_Cordie Harnois@Cloud.com</td><td>0.46</td><td>Nigeria</td></tr><tr><td>29</td><td>Male</td><td>Donna Yerby</td><td>DB</td><td>8701973</td><td>43.0</td><td>Priscila Tavernier_Mitzi Seldon@DB.com</td><td>0.43</td><td>Nigeria</td></tr><tr><td>29</td><td>Female</td><td>Neda Briski</td><td>DB</td><td>8722464</td><td>40.0</td><td>Mickey Cortright_Anna Santos@OOP.com</td><td>0.4</td><td>Nigeria</td></tr><tr><td>29</td><td>Male</td><td>Mitzi Seldon</td><td>DB</td><td>8811681</td><td>56.0</td><td>Ernest Rossbach_Eda Neathery@MVC.com</td><td>0.56</td><td>Nigeria</td></tr><tr><td>28</td><td>Male</td><td>Dustin Feagins</td><td>DB</td><td>8871049</td><td>108.0</td><td>Jenna Montague_Claude Panos@DSA.com</td><td>1.08</td><td>Nigeria</td></tr><tr><td>29</td><td>Male</td><td>Elenore Choy</td><td>DB</td><td>9021601</td><td>56.0</td><td>Clementina Menke_Mickey Cortright@PF.com</td><td>0.56</td><td>Nigeria</td></tr><tr><td>28</td><td>Male</td><td>Billi Clore</td><td>DB</td><td>9151306</td><td>31.0</td><td>Latia Vanhoose_Ernest Rossbach@DB.com</td><td>0.31</td><td>Nigeria</td></tr><tr><td>29</td><td>Female</td><td>Melani Engberg</td><td>DB</td><td>9192452</td><td>62.0</td><td>Niki Klimek_Niki Klimek@OOP.com</td><td>0.62</td><td>Nigeria</td></tr><tr><td>29</td><td>Female</td><td>Michelle Ruggiero</td><td>DB</td><td>9232210</td><td>30.0</td><td>Donna Yerby_Latia Vanhoose@DB.com</td><td>0.3</td><td>Nigeria</td></tr><tr><td>29</td><td>Female</td><td>Jalisa Swenson</td><td>DB</td><td>9282374</td><td>43.0</td><td>Judie Chipps_Annika Hoffman@OOP.com</td><td>0.43</td><td>Nigeria</td></tr><tr><td>29</td><td>Female</td><td>Ernest Rossbach</td><td>DB</td><td>9371629</td><td>106.0</td><td>Melani Engberg_Latia Vanhoose@PF.com</td><td>1.06</td><td>Nigeria</td></tr><tr><td>28</td><td>Male</td><td>Jenna Montague</td><td>DB</td><td>9411416</td><td>45.0</td><td>Latia Vanhoose_Paris Hutton@DSA.com</td><td>0.45</td><td>Nigeria</td></tr><tr><td>28</td><td>Female</td><td>Judie Chipps</td><td>DB</td><td>9451237</td><td>59.0</td><td>Michelle Ruggiero_Sheryll Towler@MVC.com</td><td>0.59</td><td>Nigeria</td></tr><tr><td>28</td><td>Male</td><td>Toshiko Hillyard</td><td>DB</td><td>9502901</td><td>79.0</td><td>Kena Wild_Leontine Phillips@DSA.com</td><td>0.79</td><td>Nigeria</td></tr><tr><td>29</td><td>Male</td><td>Maybell Duguay</td><td>DB</td><td>9562208</td><td>54.0</td><td>Celeste Lollis_Anna Santos@DSA.com</td><td>0.54</td><td>Nigeria</td></tr><tr><td>28</td><td>Male</td><td>Melani Engberg</td><td>DB</td><td>9602880</td><td>52.0</td><td>Niki Klimek_Mickey Cortright@DB.com</td><td>0.52</td><td>Nigeria</td></tr><tr><td>28</td><td>Female</td><td>Leontine Phillips</td><td>DB</td><td>9622410</td><td>56.0</td><td>Kena Wild_Donna Yerby@Cloud.com</td><td>0.56</td><td>Nigeria</td></tr><tr><td>29</td><td>Male</td><td>Leontine Phillips</td><td>DB</td><td>9671707</td><td>36.0</td><td>Sebrina Maresca_Jalisa Swenson@MVC.com</td><td>0.36</td><td>Nigeria</td></tr><tr><td>28</td><td>Male</td><td>Anna Santos</td><td>DB</td><td>9772185</td><td>32.0</td><td>Kizzy Brenner_Annika Hoffman@PF.com</td><td>0.32</td><td>Nigeria</td></tr><tr><td>28</td><td>Female</td><td>Celeste Lollis</td><td>DB</td><td>9782472</td><td>54.0</td><td>Kena Wild_Hubert Oliveras@DSA.com</td><td>0.54</td><td>Nigeria</td></tr><tr><td>29</td><td>Male</td><td>Santa Kerfien</td><td>DB</td><td>9811489</td><td>41.0</td><td>Abram Nagao_Melani Engberg@Cloud.com</td><td>0.41</td><td>Nigeria</td></tr><tr><td>29</td><td>Male</td><td>Hubert Oliveras</td><td>DB</td><td>9822797</td><td>61.0</td><td>Lawanda Wohlwend_Jalisa Swenson@DB.com</td><td>0.61</td><td>Nigeria</td></tr><tr><td>28</td><td>Male</td><td>Paris Hutton</td><td>DB</td><td>9832215</td><td>46.0</td><td>Niki Klimek_Tijuana Kropf@PF.com</td><td>0.46</td><td>Nigeria</td></tr><tr><td>29</td><td>Female</td><td>Marylee Capasso</td><td>DB</td><td>9862444</td><td>70.0</td><td>Bonita Higuera_Kena Wild@OOP.com</td><td>0.7</td><td>Nigeria</td></tr><tr><td>29</td><td>Male</td><td>Tijuana Kropf</td><td>DB</td><td>9902560</td><td>76.0</td><td>Tijuana Kropf_Abram Nagao@Cloud.com</td><td>0.76</td><td>Nigeria</td></tr><tr><td>28</td><td>Female</td><td>Celeste Lollis</td><td>DB</td><td>9952416</td><td>69.0</td><td>Gonzalo Ferebee_Jalisa Swenson@DB.com</td><td>0.69</td><td>Nigeria</td></tr></tbody></table></div>"
      ]
     },
     "metadata": {
      "application/vnd.databricks.v1+output": {
       "addedWidgets": {},
       "aggData": [],
       "aggError": "",
       "aggOverflow": false,
       "aggSchema": [],
       "aggSeriesLimitReached": false,
       "aggType": "",
       "arguments": {},
       "columnCustomDisplayInfos": {},
       "data": [
        [
         "28",
         "Female",
         "Hubert Oliveras",
         "DB",
         "02984",
         69.0,
         "Annika Hoffman_Naoma Fritts@OOP.com",
         0.69,
         "Nigeria"
        ],
        [
         "29",
         "Female",
         "Elenore Choy",
         "DB",
         "32877",
         39.0,
         "Billi Clore_Mitzi Seldon@DB.com",
         0.39,
         "Nigeria"
        ],
        [
         "29",
         "Male",
         "Ernest Rossbach",
         "DB",
         "111449",
         63.0,
         "Maybell Duguay_Abram Nagao@OOP.com",
         0.63,
         "Nigeria"
        ],
        [
         "28",
         "Female",
         "Latia Vanhoose",
         "DB",
         "122502",
         37.0,
         "Latia Vanhoose_Mitzi Seldon@OOP.com",
         0.37,
         "Nigeria"
        ],
        [
         "29",
         "Female",
         "Latia Vanhoose",
         "DB",
         "152159",
         37.0,
         "Claude Panos_Santa Kerfien@DB.com",
         0.37,
         "Nigeria"
        ],
        [
         "28",
         "Female",
         "Mickey Cortright",
         "DB",
         "192537",
         72.0,
         "Ernest Rossbach_Marylee Capasso@Cloud.com",
         0.72,
         "Nigeria"
        ],
        [
         "28",
         "Female",
         "Anna Santos",
         "DB",
         "311589",
         89.0,
         "Celeste Lollis_Mickey Cortright@DSA.com",
         0.89,
         "Nigeria"
        ],
        [
         "28",
         "Male",
         "Kizzy Brenner",
         "DB",
         "381712",
         46.0,
         "Paris Hutton_Kena Wild@MVC.com",
         0.46,
         "Nigeria"
        ],
        [
         "28",
         "Male",
         "Toshiko Hillyard",
         "DB",
         "392218",
         57.0,
         "Leontine Phillips_Billi Clore@MVC.com",
         0.57,
         "Nigeria"
        ],
        [
         "29",
         "Male",
         "Paris Hutton",
         "DB",
         "481229",
         67.0,
         "Clementina Menke_Paris Hutton@MVC.com",
         0.67,
         "Nigeria"
        ],
        [
         "28",
         "Female",
         "Mickey Cortright",
         "DB",
         "551389",
         53.0,
         "Tijuana Kropf_Jenna Montague@DB.com",
         0.53,
         "Nigeria"
        ],
        [
         "28",
         "Female",
         "Leontine Phillips",
         "DB",
         "602404",
         58.0,
         "Neda Briski_Cheri Kenney@PF.com",
         0.58,
         "Nigeria"
        ],
        [
         "28",
         "Female",
         "Hubert Oliveras",
         "DB",
         "771081",
         89.0,
         "Kizzy Brenner_Dustin Feagins@MVC.com",
         0.89,
         "Nigeria"
        ],
        [
         "29",
         "Female",
         "Elenore Choy",
         "DB",
         "811824",
         65.0,
         "Maybell Duguay_Melani Engberg@DB.com",
         0.65,
         "Nigeria"
        ],
        [
         "29",
         "Male",
         "Clementina Menke",
         "DB",
         "882200",
         86.0,
         "Michelle Ruggiero_Jenna Montague@MVC.com",
         0.86,
         "Nigeria"
        ],
        [
         "29",
         "Female",
         "Sebrina Maresca",
         "DB",
         "922210",
         64.0,
         "Toshiko Hillyard_Santa Kerfien@MVC.com",
         0.64,
         "Nigeria"
        ],
        [
         "29",
         "Male",
         "Naoma Fritts",
         "DB",
         "931295",
         89.0,
         "Hubert Oliveras_Sheryll Towler@DSA.com",
         0.89,
         "Nigeria"
        ],
        [
         "28",
         "Male",
         "Annika Hoffman",
         "DB",
         "1031544",
         54.0,
         "Dustin Feagins_Somer Stoecker@DB.com",
         0.54,
         "Nigeria"
        ],
        [
         "28",
         "Male",
         "Nicole Harwood",
         "DB",
         "1211495",
         38.0,
         "Melani Engberg_Jc Andrepont@Cloud.com",
         0.38,
         "Nigeria"
        ],
        [
         "29",
         "Female",
         "Claude Panos",
         "DB",
         "1222887",
         85.0,
         "Hubert Oliveras_Somer Stoecker@Cloud.com",
         0.85,
         "Nigeria"
        ],
        [
         "29",
         "Female",
         "Niki Klimek",
         "DB",
         "1301784",
         34.0,
         "Celeste Lollis_Tamera Blakley@DB.com",
         0.34,
         "Nigeria"
        ],
        [
         "29",
         "Female",
         "Leontine Phillips",
         "DB",
         "1432252",
         77.0,
         "Billi Clore_Sheryll Towler@DB.com",
         0.77,
         "Nigeria"
        ],
        [
         "28",
         "Female",
         "Gonzalo Ferebee",
         "DB",
         "1451513",
         79.0,
         "Claude Panos_Tamera Blakley@PF.com",
         0.79,
         "Nigeria"
        ],
        [
         "29",
         "Female",
         "Judie Chipps",
         "DB",
         "1461078",
         41.0,
         "Tijuana Kropf_Billi Clore@OOP.com",
         0.41,
         "Nigeria"
        ],
        [
         "28",
         "Male",
         "Marylee Capasso",
         "DB",
         "1611411",
         106.0,
         "Annika Hoffman_Loris Crossett@PF.com",
         1.06,
         "Nigeria"
        ],
        [
         "29",
         "Female",
         "Michelle Ruggiero",
         "DB",
         "1642509",
         55.0,
         "Hubert Oliveras_Marylee Capasso@DB.com",
         0.55,
         "Nigeria"
        ],
        [
         "29",
         "Male",
         "Alberta Freund",
         "DB",
         "1671638",
         108.0,
         "Clementina Menke_Jalisa Swenson@Cloud.com",
         1.08,
         "Nigeria"
        ],
        [
         "28",
         "Male",
         "Celeste Lollis",
         "DB",
         "1692106",
         46.0,
         "Neda Briski_Abram Nagao@MVC.com",
         0.46,
         "Nigeria"
        ],
        [
         "28",
         "Female",
         "Priscila Tavernier",
         "DB",
         "1722388",
         96.0,
         "Lawanda Wohlwend_Loris Crossett@DSA.com",
         0.96,
         "Nigeria"
        ],
        [
         "29",
         "Male",
         "Dustin Feagins",
         "DB",
         "1782045",
         91.0,
         "Cordie Harnois_Toshiko Hillyard@OOP.com",
         0.91,
         "Nigeria"
        ],
        [
         "28",
         "Female",
         "Lawanda Wohlwend",
         "DB",
         "1852072",
         40.0,
         "Bonita Higuera_Jenna Montague@DB.com",
         0.4,
         "Nigeria"
        ],
        [
         "29",
         "Male",
         "Tijuana Kropf",
         "DB",
         "1882795",
         102.0,
         "Hubert Oliveras_Elenore Choy@Cloud.com",
         1.02,
         "Nigeria"
        ],
        [
         "28",
         "Male",
         "Ernest Rossbach",
         "DB",
         "1901492",
         64.0,
         "Latia Vanhoose_Jc Andrepont@MVC.com",
         0.64,
         "Nigeria"
        ],
        [
         "29",
         "Female",
         "Leontine Phillips",
         "DB",
         "1972893",
         74.0,
         "Marylee Capasso_Elenore Choy@OOP.com",
         0.74,
         "Nigeria"
        ],
        [
         "28",
         "Male",
         "Kena Wild",
         "DB",
         "2031530",
         103.0,
         "Jc Andrepont_Jc Andrepont@PF.com",
         1.03,
         "Nigeria"
        ],
        [
         "29",
         "Male",
         "Judie Chipps",
         "DB",
         "2112234",
         104.0,
         "Dustin Feagins_Tamera Blakley@PF.com",
         1.04,
         "Nigeria"
        ],
        [
         "28",
         "Male",
         "Jeannetta Golden",
         "DB",
         "2171387",
         86.0,
         "Cheri Kenney_Billi Clore@DB.com",
         0.86,
         "Nigeria"
        ],
        [
         "28",
         "Female",
         "Billi Clore",
         "DB",
         "2181375",
         68.0,
         "Latia Vanhoose_Eda Neathery@DSA.com",
         0.68,
         "Nigeria"
        ],
        [
         "29",
         "Female",
         "Niki Klimek",
         "DB",
         "2211319",
         71.0,
         "Celeste Lollis_Sheryll Towler@DB.com",
         0.71,
         "Nigeria"
        ],
        [
         "28",
         "Male",
         "Kizzy Brenner",
         "DB",
         "2322537",
         66.0,
         "Jenna Montague_Latia Vanhoose@MVC.com",
         0.66,
         "Nigeria"
        ],
        [
         "28",
         "Male",
         "Judie Chipps",
         "DB",
         "2461986",
         63.0,
         "Niki Klimek_Judie Chipps@MVC.com",
         0.63,
         "Nigeria"
        ],
        [
         "28",
         "Female",
         "Jeannetta Golden",
         "DB",
         "2522775",
         93.0,
         "Kizzy Brenner_Bonita Higuera@DB.com",
         0.93,
         "Nigeria"
        ],
        [
         "28",
         "Male",
         "Mitzi Seldon",
         "DB",
         "2622118",
         65.0,
         "Mickey Cortright_Mitzi Seldon@MVC.com",
         0.65,
         "Nigeria"
        ],
        [
         "28",
         "Female",
         "Abram Nagao",
         "DB",
         "2632057",
         35.0,
         "Margene Moores_Somer Stoecker@DB.com",
         0.35,
         "Nigeria"
        ],
        [
         "28",
         "Male",
         "Santa Kerfien",
         "DB",
         "2732421",
         89.0,
         "Claude Panos_Alberta Freund@DB.com",
         0.89,
         "Nigeria"
        ],
        [
         "29",
         "Female",
         "Eda Neathery",
         "DB",
         "2802988",
         82.0,
         "Jenna Montague_Toshiko Hillyard@Cloud.com",
         0.82,
         "Nigeria"
        ],
        [
         "29",
         "Male",
         "Abram Nagao",
         "DB",
         "2841061",
         35.0,
         "Leontine Phillips_Toshiko Hillyard@Cloud.com",
         0.35,
         "Nigeria"
        ],
        [
         "28",
         "Male",
         "Michelle Ruggiero",
         "DB",
         "2891164",
         70.0,
         "Gonzalo Ferebee_Priscila Tavernier@DSA.com",
         0.7,
         "Nigeria"
        ],
        [
         "29",
         "Male",
         "Niki Klimek",
         "DB",
         "2912538",
         77.0,
         "Jc Andrepont_Mitzi Seldon@DSA.com",
         0.77,
         "Nigeria"
        ],
        [
         "29",
         "Male",
         "Melani Engberg",
         "DB",
         "2941257",
         108.0,
         "Claude Panos_Kena Wild@DB.com",
         1.08,
         "Nigeria"
        ],
        [
         "29",
         "Female",
         "Alberta Freund",
         "DB",
         "3041340",
         70.0,
         "Celeste Lollis_Abram Nagao@PF.com",
         0.7,
         "Nigeria"
        ],
        [
         "28",
         "Male",
         "Tijuana Kropf",
         "DB",
         "3111175",
         80.0,
         "Latia Vanhoose_Somer Stoecker@DSA.com",
         0.8,
         "Nigeria"
        ],
        [
         "29",
         "Male",
         "Jalisa Swenson",
         "DB",
         "3192192",
         84.0,
         "Ernest Rossbach_Cordie Harnois@DB.com",
         0.84,
         "Nigeria"
        ],
        [
         "28",
         "Female",
         "Billi Clore",
         "DB",
         "3221997",
         71.0,
         "Taryn Brownlee_Santa Kerfien@PF.com",
         0.71,
         "Nigeria"
        ],
        [
         "29",
         "Female",
         "Paris Hutton",
         "DB",
         "3241324",
         82.0,
         "Abram Nagao_Cordie Harnois@DSA.com",
         0.82,
         "Nigeria"
        ],
        [
         "28",
         "Female",
         "Niki Klimek",
         "DB",
         "3361932",
         37.0,
         "Nicole Harwood_Bonita Higuera@DB.com",
         0.37,
         "Nigeria"
        ],
        [
         "29",
         "Male",
         "Sebrina Maresca",
         "DB",
         "3371719",
         96.0,
         "Marylee Capasso_Margene Moores@DSA.com",
         0.96,
         "Nigeria"
        ],
        [
         "29",
         "Female",
         "Niki Klimek",
         "DB",
         "3441033",
         103.0,
         "Hubert Oliveras_Tijuana Kropf@Cloud.com",
         1.03,
         "Nigeria"
        ],
        [
         "28",
         "Female",
         "Toshiko Hillyard",
         "DB",
         "3602005",
         64.0,
         "Loris Crossett_Annika Hoffman@DB.com",
         0.64,
         "Nigeria"
        ],
        [
         "29",
         "Male",
         "Elenore Choy",
         "DB",
         "3652057",
         30.0,
         "Jc Andrepont_Gonzalo Ferebee@DB.com",
         0.3,
         "Nigeria"
        ],
        [
         "28",
         "Male",
         "Claude Panos",
         "DB",
         "3752819",
         88.0,
         "Toshiko Hillyard_Mickey Cortright@DB.com",
         0.88,
         "Nigeria"
        ],
        [
         "28",
         "Male",
         "Bonita Higuera",
         "DB",
         "3802569",
         87.0,
         "Kena Wild_Kena Wild@OOP.com",
         0.87,
         "Nigeria"
        ],
        [
         "29",
         "Male",
         "Tijuana Kropf",
         "DB",
         "3821650",
         70.0,
         "Maybell Duguay_Donna Yerby@MVC.com",
         0.7,
         "Nigeria"
        ],
        [
         "29",
         "Male",
         "Ernest Rossbach",
         "DB",
         "4081940",
         51.0,
         "Tamera Blakley_Abram Nagao@MVC.com",
         0.51,
         "Nigeria"
        ],
        [
         "29",
         "Male",
         "Anna Santos",
         "DB",
         "4192955",
         59.0,
         "Clementina Menke_Judie Chipps@Cloud.com",
         0.59,
         "Nigeria"
        ],
        [
         "29",
         "Male",
         "Elenore Choy",
         "DB",
         "4291907",
         101.0,
         "Hubert Oliveras_Tamera Blakley@OOP.com",
         1.01,
         "Nigeria"
        ],
        [
         "28",
         "Male",
         "Santa Kerfien",
         "DB",
         "4311493",
         100.0,
         "Tijuana Kropf_Anna Santos@PF.com",
         1.0,
         "Nigeria"
        ],
        [
         "29",
         "Male",
         "Ernest Rossbach",
         "DB",
         "4411585",
         60.0,
         "Marylee Capasso_Lawanda Wohlwend@Cloud.com",
         0.6,
         "Nigeria"
        ],
        [
         "28",
         "Female",
         "Kena Wild",
         "DB",
         "4431030",
         69.0,
         "Paris Hutton_Cheri Kenney@Cloud.com",
         0.69,
         "Nigeria"
        ],
        [
         "29",
         "Male",
         "Paris Hutton",
         "DB",
         "4492478",
         94.0,
         "Paris Hutton_Jenna Montague@PF.com",
         0.94,
         "Nigeria"
        ],
        [
         "29",
         "Male",
         "Judie Chipps",
         "DB",
         "4542925",
         49.0,
         "Jenna Montague_Priscila Tavernier@PF.com",
         0.49,
         "Nigeria"
        ],
        [
         "29",
         "Female",
         "Sheryll Towler",
         "DB",
         "4571866",
         77.0,
         "Leontine Phillips_Kizzy Brenner@Cloud.com",
         0.77,
         "Nigeria"
        ],
        [
         "28",
         "Male",
         "Eda Neathery",
         "DB",
         "4651622",
         53.0,
         "Priscila Tavernier_Hubert Oliveras@DSA.com",
         0.53,
         "Nigeria"
        ],
        [
         "28",
         "Female",
         "Claude Panos",
         "DB",
         "4701534",
         57.0,
         "Somer Stoecker_Naoma Fritts@DSA.com",
         0.57,
         "Nigeria"
        ],
        [
         "28",
         "Male",
         "Alberta Freund",
         "DB",
         "4802967",
         90.0,
         "Naoma Fritts_Elenore Choy@DSA.com",
         0.9,
         "Nigeria"
        ],
        [
         "28",
         "Female",
         "Santa Kerfien",
         "DB",
         "4811069",
         95.0,
         "Dustin Feagins_Maybell Duguay@MVC.com",
         0.95,
         "Nigeria"
        ],
        [
         "29",
         "Female",
         "Mitzi Seldon",
         "DB",
         "4922367",
         74.0,
         "Annika Hoffman_Annika Hoffman@MVC.com",
         0.74,
         "Nigeria"
        ],
        [
         "28",
         "Male",
         "Santa Kerfien",
         "DB",
         "4932764",
         86.0,
         "Nicole Harwood_Loris Crossett@PF.com",
         0.86,
         "Nigeria"
        ],
        [
         "28",
         "Female",
         "Santa Kerfien",
         "DB",
         "4971408",
         50.0,
         "Mitzi Seldon_Naoma Fritts@PF.com",
         0.5,
         "Nigeria"
        ],
        [
         "28",
         "Female",
         "Donna Yerby",
         "DB",
         "4991657",
         63.0,
         "Ernest Rossbach_Somer Stoecker@DSA.com",
         0.63,
         "Nigeria"
        ],
        [
         "28",
         "Female",
         "Kena Wild",
         "DB",
         "5001412",
         63.0,
         "Annika Hoffman_Jalisa Swenson@PF.com",
         0.63,
         "Nigeria"
        ],
        [
         "29",
         "Male",
         "Jc Andrepont",
         "DB",
         "5012482",
         70.0,
         "Jalisa Swenson_Somer Stoecker@Cloud.com",
         0.7,
         "Nigeria"
        ],
        [
         "29",
         "Female",
         "Anna Santos",
         "DB",
         "5142808",
         91.0,
         "Donna Yerby_Naoma Fritts@DB.com",
         0.91,
         "Nigeria"
        ],
        [
         "29",
         "Male",
         "Santa Kerfien",
         "DB",
         "5282657",
         91.0,
         "Judie Chipps_Mickey Cortright@MVC.com",
         0.91,
         "Nigeria"
        ],
        [
         "28",
         "Male",
         "Taryn Brownlee",
         "DB",
         "5311449",
         35.0,
         "Santa Kerfien_Lawanda Wohlwend@OOP.com",
         0.35,
         "Nigeria"
        ],
        [
         "28",
         "Male",
         "Donna Yerby",
         "DB",
         "5321010",
         75.0,
         "Jc Andrepont_Tijuana Kropf@DB.com",
         0.75,
         "Nigeria"
        ],
        [
         "29",
         "Female",
         "Dustin Feagins",
         "DB",
         "5581136",
         42.0,
         "Alberta Freund_Celeste Lollis@Cloud.com",
         0.42,
         "Nigeria"
        ],
        [
         "28",
         "Female",
         "Mitzi Seldon",
         "DB",
         "5602986",
         75.0,
         "Toshiko Hillyard_Elenore Choy@MVC.com",
         0.75,
         "Nigeria"
        ],
        [
         "28",
         "Male",
         "Tamera Blakley",
         "DB",
         "5661433",
         86.0,
         "Abram Nagao_Leontine Phillips@MVC.com",
         0.86,
         "Nigeria"
        ],
        [
         "28",
         "Female",
         "Nicole Harwood",
         "DB",
         "5862606",
         87.0,
         "Clementina Menke_Donna Yerby@DB.com",
         0.87,
         "Nigeria"
        ],
        [
         "28",
         "Female",
         "Judie Chipps",
         "DB",
         "5872939",
         34.0,
         "Mitzi Seldon_Paris Hutton@OOP.com",
         0.34,
         "Nigeria"
        ],
        [
         "29",
         "Male",
         "Donna Yerby",
         "DB",
         "5932345",
         88.0,
         "Leontine Phillips_Sheryll Towler@PF.com",
         0.88,
         "Nigeria"
        ],
        [
         "29",
         "Male",
         "Cheri Kenney",
         "DB",
         "6041254",
         69.0,
         "Gonzalo Ferebee_Margene Moores@PF.com",
         0.69,
         "Nigeria"
        ],
        [
         "29",
         "Female",
         "Paris Hutton",
         "DB",
         "6052159",
         44.0,
         "Priscila Tavernier_Maybell Duguay@PF.com",
         0.44,
         "Nigeria"
        ],
        [
         "28",
         "Male",
         "Paris Hutton",
         "DB",
         "6131084",
         82.0,
         "Tijuana Kropf_Abram Nagao@MVC.com",
         0.82,
         "Nigeria"
        ],
        [
         "29",
         "Male",
         "Jalisa Swenson",
         "DB",
         "6141407",
         107.0,
         "Ernest Rossbach_Alberta Freund@DB.com",
         1.07,
         "Nigeria"
        ],
        [
         "29",
         "Female",
         "Loris Crossett",
         "DB",
         "6212990",
         49.0,
         "Melani Engberg_Paris Hutton@Cloud.com",
         0.49,
         "Nigeria"
        ],
        [
         "29",
         "Female",
         "Kizzy Brenner",
         "DB",
         "6222425",
         79.0,
         "Margene Moores_Sebrina Maresca@MVC.com",
         0.79,
         "Nigeria"
        ],
        [
         "28",
         "Female",
         "Sheryll Towler",
         "DB",
         "6271754",
         53.0,
         "Elenore Choy_Melani Engberg@MVC.com",
         0.53,
         "Nigeria"
        ],
        [
         "28",
         "Female",
         "Maybell Duguay",
         "DB",
         "6301666",
         98.0,
         "Latia Vanhoose_Jc Andrepont@Cloud.com",
         0.98,
         "Nigeria"
        ],
        [
         "29",
         "Male",
         "Eda Neathery",
         "DB",
         "6311969",
         93.0,
         "Clementina Menke_Neda Briski@DB.com",
         0.93,
         "Nigeria"
        ],
        [
         "28",
         "Male",
         "Naoma Fritts",
         "DB",
         "6422790",
         105.0,
         "Sheryll Towler_Ernest Rossbach@DSA.com",
         1.05,
         "Nigeria"
        ],
        [
         "28",
         "Female",
         "Nicole Harwood",
         "DB",
         "6522046",
         89.0,
         "Naoma Fritts_Margene Moores@DSA.com",
         0.89,
         "Nigeria"
        ],
        [
         "28",
         "Female",
         "Kizzy Brenner",
         "DB",
         "6582931",
         67.0,
         "Alberta Freund_Jc Andrepont@PF.com",
         0.67,
         "Nigeria"
        ],
        [
         "28",
         "Male",
         "Neda Briski",
         "DB",
         "6632463",
         58.0,
         "Sheryll Towler_Dustin Feagins@Cloud.com",
         0.58,
         "Nigeria"
        ],
        [
         "29",
         "Female",
         "Anna Santos",
         "DB",
         "6732334",
         55.0,
         "Gonzalo Ferebee_Alberta Freund@DSA.com",
         0.55,
         "Nigeria"
        ],
        [
         "29",
         "Male",
         "Tamera Blakley",
         "DB",
         "6811165",
         72.0,
         "Annika Hoffman_Bonita Higuera@PF.com",
         0.72,
         "Nigeria"
        ],
        [
         "29",
         "Female",
         "Mitzi Seldon",
         "DB",
         "6862019",
         88.0,
         "Kena Wild_Celeste Lollis@DSA.com",
         0.88,
         "Nigeria"
        ],
        [
         "28",
         "Female",
         "Kizzy Brenner",
         "DB",
         "6892057",
         80.0,
         "Priscila Tavernier_Judie Chipps@OOP.com",
         0.8,
         "Nigeria"
        ],
        [
         "29",
         "Female",
         "Kena Wild",
         "DB",
         "6911600",
         83.0,
         "Maybell Duguay_Latia Vanhoose@PF.com",
         0.83,
         "Nigeria"
        ],
        [
         "28",
         "Male",
         "Clementina Menke",
         "DB",
         "7172058",
         72.0,
         "Mitzi Seldon_Clementina Menke@MVC.com",
         0.72,
         "Nigeria"
        ],
        [
         "28",
         "Male",
         "Leontine Phillips",
         "DB",
         "7242704",
         82.0,
         "Maybell Duguay_Toshiko Hillyard@PF.com",
         0.82,
         "Nigeria"
        ],
        [
         "28",
         "Female",
         "Lawanda Wohlwend",
         "DB",
         "7261840",
         91.0,
         "Donna Yerby_Kizzy Brenner@Cloud.com",
         0.91,
         "Nigeria"
        ],
        [
         "29",
         "Female",
         "Melani Engberg",
         "DB",
         "7471313",
         87.0,
         "Cheri Kenney_Celeste Lollis@PF.com",
         0.87,
         "Nigeria"
        ],
        [
         "29",
         "Female",
         "Jalisa Swenson",
         "DB",
         "7542285",
         69.0,
         "Maybell Duguay_Billi Clore@PF.com",
         0.69,
         "Nigeria"
        ],
        [
         "28",
         "Female",
         "Cheri Kenney",
         "DB",
         "7551469",
         43.0,
         "Paris Hutton_Annika Hoffman@OOP.com",
         0.43,
         "Nigeria"
        ],
        [
         "28",
         "Female",
         "Judie Chipps",
         "DB",
         "7682333",
         91.0,
         "Toshiko Hillyard_Claude Panos@DB.com",
         0.91,
         "Nigeria"
        ],
        [
         "28",
         "Male",
         "Mickey Cortright",
         "DB",
         "7702338",
         79.0,
         "Latia Vanhoose_Jeannetta Golden@OOP.com",
         0.79,
         "Nigeria"
        ],
        [
         "28",
         "Female",
         "Billi Clore",
         "DB",
         "7711330",
         74.0,
         "Maybell Duguay_Ernest Rossbach@Cloud.com",
         0.74,
         "Nigeria"
        ],
        [
         "29",
         "Male",
         "Clementina Menke",
         "DB",
         "7872434",
         78.0,
         "Jalisa Swenson_Alberta Freund@OOP.com",
         0.78,
         "Nigeria"
        ],
        [
         "29",
         "Male",
         "Billi Clore",
         "DB",
         "7992784",
         68.0,
         "Tamera Blakley_Dustin Feagins@MVC.com",
         0.68,
         "Nigeria"
        ],
        [
         "29",
         "Male",
         "Ernest Rossbach",
         "DB",
         "8002285",
         86.0,
         "Marylee Capasso_Naoma Fritts@DSA.com",
         0.86,
         "Nigeria"
        ],
        [
         "29",
         "Female",
         "Mickey Cortright",
         "DB",
         "8031057",
         76.0,
         "Dustin Feagins_Tijuana Kropf@DB.com",
         0.76,
         "Nigeria"
        ],
        [
         "28",
         "Male",
         "Sebrina Maresca",
         "DB",
         "8092398",
         52.0,
         "Claude Panos_Jc Andrepont@DB.com",
         0.52,
         "Nigeria"
        ],
        [
         "28",
         "Female",
         "Nicole Harwood",
         "DB",
         "8181552",
         47.0,
         "Hubert Oliveras_Gonzalo Ferebee@Cloud.com",
         0.47,
         "Nigeria"
        ],
        [
         "28",
         "Female",
         "Sheryll Towler",
         "DB",
         "8271000",
         47.0,
         "Neda Briski_Anna Santos@Cloud.com",
         0.47,
         "Nigeria"
        ],
        [
         "28",
         "Male",
         "Mickey Cortright",
         "DB",
         "8411430",
         80.0,
         "Hubert Oliveras_Ernest Rossbach@PF.com",
         0.8,
         "Nigeria"
        ],
        [
         "28",
         "Male",
         "Kena Wild",
         "DB",
         "8471833",
         46.0,
         "Tamera Blakley_Jeannetta Golden@OOP.com",
         0.46,
         "Nigeria"
        ],
        [
         "28",
         "Male",
         "Tijuana Kropf",
         "DB",
         "8522175",
         97.0,
         "Mickey Cortright_Claude Panos@MVC.com",
         0.97,
         "Nigeria"
        ],
        [
         "29",
         "Female",
         "Dustin Feagins",
         "DB",
         "8561099",
         42.0,
         "Margene Moores_Margene Moores@Cloud.com",
         0.42,
         "Nigeria"
        ],
        [
         "28",
         "Male",
         "Naoma Fritts",
         "DB",
         "8611528",
         99.0,
         "Nicole Harwood_Clementina Menke@MVC.com",
         0.99,
         "Nigeria"
        ],
        [
         "29",
         "Male",
         "Cheri Kenney",
         "DB",
         "8652382",
         46.0,
         "Santa Kerfien_Cordie Harnois@Cloud.com",
         0.46,
         "Nigeria"
        ],
        [
         "29",
         "Male",
         "Donna Yerby",
         "DB",
         "8701973",
         43.0,
         "Priscila Tavernier_Mitzi Seldon@DB.com",
         0.43,
         "Nigeria"
        ],
        [
         "29",
         "Female",
         "Neda Briski",
         "DB",
         "8722464",
         40.0,
         "Mickey Cortright_Anna Santos@OOP.com",
         0.4,
         "Nigeria"
        ],
        [
         "29",
         "Male",
         "Mitzi Seldon",
         "DB",
         "8811681",
         56.0,
         "Ernest Rossbach_Eda Neathery@MVC.com",
         0.56,
         "Nigeria"
        ],
        [
         "28",
         "Male",
         "Dustin Feagins",
         "DB",
         "8871049",
         108.0,
         "Jenna Montague_Claude Panos@DSA.com",
         1.08,
         "Nigeria"
        ],
        [
         "29",
         "Male",
         "Elenore Choy",
         "DB",
         "9021601",
         56.0,
         "Clementina Menke_Mickey Cortright@PF.com",
         0.56,
         "Nigeria"
        ],
        [
         "28",
         "Male",
         "Billi Clore",
         "DB",
         "9151306",
         31.0,
         "Latia Vanhoose_Ernest Rossbach@DB.com",
         0.31,
         "Nigeria"
        ],
        [
         "29",
         "Female",
         "Melani Engberg",
         "DB",
         "9192452",
         62.0,
         "Niki Klimek_Niki Klimek@OOP.com",
         0.62,
         "Nigeria"
        ],
        [
         "29",
         "Female",
         "Michelle Ruggiero",
         "DB",
         "9232210",
         30.0,
         "Donna Yerby_Latia Vanhoose@DB.com",
         0.3,
         "Nigeria"
        ],
        [
         "29",
         "Female",
         "Jalisa Swenson",
         "DB",
         "9282374",
         43.0,
         "Judie Chipps_Annika Hoffman@OOP.com",
         0.43,
         "Nigeria"
        ],
        [
         "29",
         "Female",
         "Ernest Rossbach",
         "DB",
         "9371629",
         106.0,
         "Melani Engberg_Latia Vanhoose@PF.com",
         1.06,
         "Nigeria"
        ],
        [
         "28",
         "Male",
         "Jenna Montague",
         "DB",
         "9411416",
         45.0,
         "Latia Vanhoose_Paris Hutton@DSA.com",
         0.45,
         "Nigeria"
        ],
        [
         "28",
         "Female",
         "Judie Chipps",
         "DB",
         "9451237",
         59.0,
         "Michelle Ruggiero_Sheryll Towler@MVC.com",
         0.59,
         "Nigeria"
        ],
        [
         "28",
         "Male",
         "Toshiko Hillyard",
         "DB",
         "9502901",
         79.0,
         "Kena Wild_Leontine Phillips@DSA.com",
         0.79,
         "Nigeria"
        ],
        [
         "29",
         "Male",
         "Maybell Duguay",
         "DB",
         "9562208",
         54.0,
         "Celeste Lollis_Anna Santos@DSA.com",
         0.54,
         "Nigeria"
        ],
        [
         "28",
         "Male",
         "Melani Engberg",
         "DB",
         "9602880",
         52.0,
         "Niki Klimek_Mickey Cortright@DB.com",
         0.52,
         "Nigeria"
        ],
        [
         "28",
         "Female",
         "Leontine Phillips",
         "DB",
         "9622410",
         56.0,
         "Kena Wild_Donna Yerby@Cloud.com",
         0.56,
         "Nigeria"
        ],
        [
         "29",
         "Male",
         "Leontine Phillips",
         "DB",
         "9671707",
         36.0,
         "Sebrina Maresca_Jalisa Swenson@MVC.com",
         0.36,
         "Nigeria"
        ],
        [
         "28",
         "Male",
         "Anna Santos",
         "DB",
         "9772185",
         32.0,
         "Kizzy Brenner_Annika Hoffman@PF.com",
         0.32,
         "Nigeria"
        ],
        [
         "28",
         "Female",
         "Celeste Lollis",
         "DB",
         "9782472",
         54.0,
         "Kena Wild_Hubert Oliveras@DSA.com",
         0.54,
         "Nigeria"
        ],
        [
         "29",
         "Male",
         "Santa Kerfien",
         "DB",
         "9811489",
         41.0,
         "Abram Nagao_Melani Engberg@Cloud.com",
         0.41,
         "Nigeria"
        ],
        [
         "29",
         "Male",
         "Hubert Oliveras",
         "DB",
         "9822797",
         61.0,
         "Lawanda Wohlwend_Jalisa Swenson@DB.com",
         0.61,
         "Nigeria"
        ],
        [
         "28",
         "Male",
         "Paris Hutton",
         "DB",
         "9832215",
         46.0,
         "Niki Klimek_Tijuana Kropf@PF.com",
         0.46,
         "Nigeria"
        ],
        [
         "29",
         "Female",
         "Marylee Capasso",
         "DB",
         "9862444",
         70.0,
         "Bonita Higuera_Kena Wild@OOP.com",
         0.7,
         "Nigeria"
        ],
        [
         "29",
         "Male",
         "Tijuana Kropf",
         "DB",
         "9902560",
         76.0,
         "Tijuana Kropf_Abram Nagao@Cloud.com",
         0.76,
         "Nigeria"
        ],
        [
         "28",
         "Female",
         "Celeste Lollis",
         "DB",
         "9952416",
         69.0,
         "Gonzalo Ferebee_Jalisa Swenson@DB.com",
         0.69,
         "Nigeria"
        ]
       ],
       "datasetInfos": [],
       "dbfsResultPath": null,
       "isJsonSchema": true,
       "metadata": {},
       "overflow": false,
       "plotOptions": {
        "customPlotOptions": {},
        "displayType": "table",
        "pivotAggregation": null,
        "pivotColumns": null,
        "xColumns": null,
        "yColumns": null
       },
       "removedWidgets": [],
       "schema": [
        {
         "metadata": "{}",
         "name": "age",
         "type": "\"string\""
        },
        {
         "metadata": "{}",
         "name": "sex",
         "type": "\"string\""
        },
        {
         "metadata": "{}",
         "name": "name",
         "type": "\"string\""
        },
        {
         "metadata": "{}",
         "name": "course",
         "type": "\"string\""
        },
        {
         "metadata": "{}",
         "name": "roll number",
         "type": "\"string\""
        },
        {
         "metadata": "{}",
         "name": "marks",
         "type": "\"double\""
        },
        {
         "metadata": "{}",
         "name": "email",
         "type": "\"string\""
        },
        {
         "metadata": "{}",
         "name": "percentage",
         "type": "\"double\""
        },
        {
         "metadata": "{}",
         "name": "country name",
         "type": "\"string\""
        }
       ],
       "type": "table"
      }
     },
     "output_type": "display_data"
    }
   ],
   "source": [
    "%sql select * from student_data where course='DB'"
   ]
  },
  {
   "cell_type": "code",
   "execution_count": 0,
   "metadata": {
    "application/vnd.databricks.v1+cell": {
     "cellMetadata": {
      "byteLimit": 2048000,
      "implicitDf": true,
      "rowLimit": 10000
     },
     "inputWidgets": {},
     "nuid": "02ebe728-4c71-4bb2-bab0-e35dcaa17da7",
     "showTitle": false,
     "title": ""
    }
   },
   "outputs": [
    {
     "output_type": "display_data",
     "data": {
      "text/html": [
       "<style scoped>\n",
       "  .table-result-container {\n",
       "    max-height: 300px;\n",
       "    overflow: auto;\n",
       "  }\n",
       "  table, th, td {\n",
       "    border: 1px solid black;\n",
       "    border-collapse: collapse;\n",
       "  }\n",
       "  th, td {\n",
       "    padding: 5px;\n",
       "  }\n",
       "  th {\n",
       "    text-align: left;\n",
       "  }\n",
       "</style><div class='table-result-container'><table class='table-result'><thead style='background-color: white'><tr><th>age</th><th>sex</th><th>name</th><th>course</th><th>roll number</th><th>marks</th><th>email</th><th>percentage</th><th>country name</th></tr></thead><tbody><tr><td>28</td><td>Female</td><td>Hubert Oliveras</td><td>DB</td><td>02984</td><td>69.0</td><td>Annika Hoffman_Naoma Fritts@OOP.com</td><td>0.69</td><td>Nigeria</td></tr><tr><td>29</td><td>Female</td><td>Toshiko Hillyard</td><td>Cloud</td><td>12899</td><td>72.0</td><td>Margene Moores_Marylee Capasso@DB.com</td><td>0.72</td><td>Nigeria</td></tr><tr><td>28</td><td>Male</td><td>Celeste Lollis</td><td>PF</td><td>21267</td><td>55.0</td><td>Jeannetta Golden_Jenna Montague@DSA.com</td><td>0.55</td><td>Nigeria</td></tr><tr><td>29</td><td>Female</td><td>Elenore Choy</td><td>DB</td><td>32877</td><td>39.0</td><td>Billi Clore_Mitzi Seldon@DB.com</td><td>0.39</td><td>Nigeria</td></tr><tr><td>28</td><td>Male</td><td>Sheryll Towler</td><td>DSA</td><td>41487</td><td>51.0</td><td>Claude Panos_Judie Chipps@OOP.com</td><td>0.51</td><td>Nigeria</td></tr><tr><td>28</td><td>Male</td><td>Margene Moores</td><td>MVC</td><td>52771</td><td>42.0</td><td>Toshiko Hillyard_Clementina Menke@MVC.com</td><td>0.42</td><td>Nigeria</td></tr><tr><td>28</td><td>Male</td><td>Neda Briski</td><td>OOP</td><td>61973</td><td>79.0</td><td>Alberta Freund_Elenore Choy@DB.com</td><td>0.79</td><td>Nigeria</td></tr><tr><td>28</td><td>Female</td><td>Claude Panos</td><td>Cloud</td><td>72409</td><td>95.0</td><td>Sheryll Towler_Alberta Freund@Cloud.com</td><td>0.95</td><td>Nigeria</td></tr><tr><td>28</td><td>Male</td><td>Celeste Lollis</td><td>MVC</td><td>81492</td><td>74.0</td><td>Nicole Harwood_Claude Panos@MVC.com</td><td>0.74</td><td>Nigeria</td></tr><tr><td>29</td><td>Male</td><td>Cordie Harnois</td><td>OOP</td><td>92882</td><td>61.0</td><td>Judie Chipps_Clementina Menke@MVC.com</td><td>0.61</td><td>Nigeria</td></tr><tr><td>29</td><td>Female</td><td>Kena Wild</td><td>DSA</td><td>102285</td><td>45.0</td><td>Dustin Feagins_Margene Moores@OOP.com</td><td>0.45</td><td>Nigeria</td></tr><tr><td>29</td><td>Male</td><td>Ernest Rossbach</td><td>DB</td><td>111449</td><td>63.0</td><td>Maybell Duguay_Abram Nagao@OOP.com</td><td>0.63</td><td>Nigeria</td></tr><tr><td>28</td><td>Female</td><td>Latia Vanhoose</td><td>DB</td><td>122502</td><td>37.0</td><td>Latia Vanhoose_Mitzi Seldon@OOP.com</td><td>0.37</td><td>Nigeria</td></tr><tr><td>29</td><td>Female</td><td>Latia Vanhoose</td><td>MVC</td><td>132110</td><td>65.0</td><td>Eda Neathery_Nicole Harwood@Cloud.com</td><td>0.65</td><td>Nigeria</td></tr><tr><td>29</td><td>Male</td><td>Neda Briski</td><td>PF</td><td>141770</td><td>52.0</td><td>Margene Moores_Michelle Ruggiero@MVC.com</td><td>0.52</td><td>Nigeria</td></tr><tr><td>29</td><td>Female</td><td>Latia Vanhoose</td><td>DB</td><td>152159</td><td>37.0</td><td>Claude Panos_Santa Kerfien@DB.com</td><td>0.37</td><td>Nigeria</td></tr><tr><td>29</td><td>Male</td><td>Loris Crossett</td><td>MVC</td><td>161771</td><td>46.0</td><td>Mitzi Seldon_Jenna Montague@MVC.com</td><td>0.46</td><td>Nigeria</td></tr><tr><td>29</td><td>Male</td><td>Annika Hoffman</td><td>OOP</td><td>171660</td><td>32.0</td><td>Taryn Brownlee_Mitzi Seldon@MVC.com</td><td>0.32</td><td>Nigeria</td></tr><tr><td>29</td><td>Male</td><td>Santa Kerfien</td><td>PF</td><td>182129</td><td>66.0</td><td>Judie Chipps_Taryn Brownlee@Cloud.com</td><td>0.66</td><td>Nigeria</td></tr><tr><td>28</td><td>Female</td><td>Mickey Cortright</td><td>DB</td><td>192537</td><td>72.0</td><td>Ernest Rossbach_Marylee Capasso@Cloud.com</td><td>0.72</td><td>Nigeria</td></tr><tr><td>29</td><td>Female</td><td>Loris Crossett</td><td>PF</td><td>201487</td><td>106.0</td><td>Elenore Choy_Latia Vanhoose@Cloud.com</td><td>1.06</td><td>Nigeria</td></tr><tr><td>29</td><td>Female</td><td>Niki Klimek</td><td>PF</td><td>211508</td><td>33.0</td><td>Cordie Harnois_Judie Chipps@PF.com</td><td>0.33</td><td>Nigeria</td></tr><tr><td>28</td><td>Female</td><td>Kena Wild</td><td>Cloud</td><td>221750</td><td>70.0</td><td>Mitzi Seldon_Jenna Montague@DSA.com</td><td>0.7</td><td>Nigeria</td></tr><tr><td>28</td><td>Female</td><td>Jc Andrepont</td><td>DSA</td><td>232060</td><td>68.0</td><td>Billi Clore_Abram Nagao@MVC.com</td><td>0.68</td><td>Nigeria</td></tr><tr><td>29</td><td>Female</td><td>Anna Santos</td><td>Cloud</td><td>242254</td><td>78.0</td><td>Jc Andrepont_Hubert Oliveras@Cloud.com</td><td>0.78</td><td>Nigeria</td></tr><tr><td>28</td><td>Female</td><td>Alberta Freund</td><td>OOP</td><td>251805</td><td>93.0</td><td>Annika Hoffman_Sheryll Towler@MVC.com</td><td>0.93</td><td>Nigeria</td></tr><tr><td>28</td><td>Female</td><td>Maybell Duguay</td><td>Cloud</td><td>261439</td><td>30.0</td><td>Nicole Harwood_Judie Chipps@DB.com</td><td>0.3</td><td>Nigeria</td></tr><tr><td>29</td><td>Female</td><td>Paris Hutton</td><td>DSA</td><td>271472</td><td>109.0</td><td>Sheryll Towler_Alberta Freund@DSA.com</td><td>1.09</td><td>Nigeria</td></tr><tr><td>29</td><td>Female</td><td>Cheri Kenney</td><td>Cloud</td><td>281408</td><td>53.0</td><td>Annika Hoffman_Melani Engberg@Cloud.com</td><td>0.53</td><td>Nigeria</td></tr><tr><td>28</td><td>Female</td><td>Dustin Feagins</td><td>DSA</td><td>291984</td><td>92.0</td><td>Abram Nagao_Kena Wild@Cloud.com</td><td>0.92</td><td>Nigeria</td></tr><tr><td>29</td><td>Female</td><td>Claude Panos</td><td>Cloud</td><td>302130</td><td>69.0</td><td>Sheryll Towler_Leontine Phillips@PF.com</td><td>0.69</td><td>Nigeria</td></tr><tr><td>28</td><td>Female</td><td>Anna Santos</td><td>DB</td><td>311589</td><td>89.0</td><td>Celeste Lollis_Mickey Cortright@DSA.com</td><td>0.89</td><td>Nigeria</td></tr><tr><td>28</td><td>Female</td><td>Cheri Kenney</td><td>MVC</td><td>321816</td><td>34.0</td><td>Kena Wild_Michelle Ruggiero@DB.com</td><td>0.34</td><td>Nigeria</td></tr><tr><td>28</td><td>Female</td><td>Loris Crossett</td><td>PF</td><td>332739</td><td>72.0</td><td>Michelle Ruggiero_Clementina Menke@DB.com</td><td>0.72</td><td>Nigeria</td></tr><tr><td>28</td><td>Female</td><td>Mickey Cortright</td><td>DSA</td><td>342003</td><td>54.0</td><td>Mitzi Seldon_Jeannetta Golden@PF.com</td><td>0.54</td><td>Nigeria</td></tr><tr><td>28</td><td>Male</td><td>Hubert Oliveras</td><td>OOP</td><td>351719</td><td>73.0</td><td>Lawanda Wohlwend_Abram Nagao@MVC.com</td><td>0.73</td><td>Nigeria</td></tr><tr><td>28</td><td>Male</td><td>Sebrina Maresca</td><td>PF</td><td>361316</td><td>72.0</td><td>Nicole Harwood_Latia Vanhoose@DB.com</td><td>0.72</td><td>Nigeria</td></tr><tr><td>29</td><td>Male</td><td>Jalisa Swenson</td><td>PF</td><td>372873</td><td>55.0</td><td>Ernest Rossbach_Toshiko Hillyard@DB.com</td><td>0.55</td><td>Nigeria</td></tr><tr><td>28</td><td>Male</td><td>Kizzy Brenner</td><td>DB</td><td>381712</td><td>46.0</td><td>Paris Hutton_Kena Wild@MVC.com</td><td>0.46</td><td>Nigeria</td></tr><tr><td>28</td><td>Male</td><td>Toshiko Hillyard</td><td>DB</td><td>392218</td><td>57.0</td><td>Leontine Phillips_Billi Clore@MVC.com</td><td>0.57</td><td>Nigeria</td></tr><tr><td>28</td><td>Female</td><td>Kizzy Brenner</td><td>Cloud</td><td>402409</td><td>37.0</td><td>Ernest Rossbach_Gonzalo Ferebee@OOP.com</td><td>0.37</td><td>Nigeria</td></tr><tr><td>29</td><td>Female</td><td>Anna Santos</td><td>DSA</td><td>411479</td><td>52.0</td><td>Kena Wild_Mitzi Seldon@DB.com</td><td>0.52</td><td>Nigeria</td></tr><tr><td>28</td><td>Male</td><td>Elenore Choy</td><td>PF</td><td>422704</td><td>76.0</td><td>Marylee Capasso_Nicole Harwood@MVC.com</td><td>0.76</td><td>Nigeria</td></tr><tr><td>28</td><td>Female</td><td>Jalisa Swenson</td><td>OOP</td><td>431352</td><td>35.0</td><td>Gonzalo Ferebee_Judie Chipps@DB.com</td><td>0.35</td><td>Nigeria</td></tr><tr><td>29</td><td>Female</td><td>Somer Stoecker</td><td>Cloud</td><td>442028</td><td>44.0</td><td>Taryn Brownlee_Taryn Brownlee@MVC.com</td><td>0.44</td><td>Nigeria</td></tr><tr><td>28</td><td>Female</td><td>Maybell Duguay</td><td>DSA</td><td>452141</td><td>39.0</td><td>Leontine Phillips_Elenore Choy@Cloud.com</td><td>0.39</td><td>Nigeria</td></tr><tr><td>28</td><td>Male</td><td>Dustin Feagins</td><td>PF</td><td>461839</td><td>61.0</td><td>Neda Briski_Elenore Choy@Cloud.com</td><td>0.61</td><td>Nigeria</td></tr><tr><td>29</td><td>Male</td><td>Annika Hoffman</td><td>OOP</td><td>472550</td><td>45.0</td><td>Mitzi Seldon_Abram Nagao@DSA.com</td><td>0.45</td><td>Nigeria</td></tr><tr><td>29</td><td>Male</td><td>Paris Hutton</td><td>DB</td><td>481229</td><td>67.0</td><td>Clementina Menke_Paris Hutton@MVC.com</td><td>0.67</td><td>Nigeria</td></tr><tr><td>29</td><td>Female</td><td>Paris Hutton</td><td>DSA</td><td>492159</td><td>70.0</td><td>Nicole Harwood_Marylee Capasso@OOP.com</td><td>0.7</td><td>Nigeria</td></tr><tr><td>29</td><td>Female</td><td>Jenna Montague</td><td>MVC</td><td>502585</td><td>53.0</td><td>Hubert Oliveras_Jc Andrepont@DSA.com</td><td>0.53</td><td>Nigeria</td></tr><tr><td>29</td><td>Male</td><td>Billi Clore</td><td>Cloud</td><td>512047</td><td>86.0</td><td>Taryn Brownlee_Judie Chipps@DSA.com</td><td>0.86</td><td>Nigeria</td></tr><tr><td>29</td><td>Male</td><td>Toshiko Hillyard</td><td>OOP</td><td>521221</td><td>87.0</td><td>Hubert Oliveras_Latia Vanhoose@MVC.com</td><td>0.87</td><td>Nigeria</td></tr><tr><td>28</td><td>Male</td><td>Margene Moores</td><td>PF</td><td>531530</td><td>63.0</td><td>Cheri Kenney_Melani Engberg@OOP.com</td><td>0.63</td><td>Nigeria</td></tr><tr><td>29</td><td>Female</td><td>Claude Panos</td><td>OOP</td><td>542821</td><td>38.0</td><td>Hubert Oliveras_Priscila Tavernier@PF.com</td><td>0.38</td><td>Nigeria</td></tr><tr><td>28</td><td>Female</td><td>Mickey Cortright</td><td>DB</td><td>551389</td><td>53.0</td><td>Tijuana Kropf_Jenna Montague@DB.com</td><td>0.53</td><td>Nigeria</td></tr><tr><td>29</td><td>Male</td><td>Celeste Lollis</td><td>DSA</td><td>562065</td><td>95.0</td><td>Jc Andrepont_Melani Engberg@OOP.com</td><td>0.95</td><td>Nigeria</td></tr><tr><td>28</td><td>Female</td><td>Tijuana Kropf</td><td>PF</td><td>571047</td><td>51.0</td><td>Loris Crossett_Sebrina Maresca@PF.com</td><td>0.51</td><td>Nigeria</td></tr><tr><td>28</td><td>Male</td><td>Marylee Capasso</td><td>OOP</td><td>581756</td><td>62.0</td><td>Jeannetta Golden_Loris Crossett@MVC.com</td><td>0.62</td><td>Nigeria</td></tr><tr><td>29</td><td>Male</td><td>Maybell Duguay</td><td>DSA</td><td>592061</td><td>93.0</td><td>Eda Neathery_Jenna Montague@Cloud.com</td><td>0.93</td><td>Nigeria</td></tr><tr><td>28</td><td>Female</td><td>Leontine Phillips</td><td>DB</td><td>602404</td><td>58.0</td><td>Neda Briski_Cheri Kenney@PF.com</td><td>0.58</td><td>Nigeria</td></tr><tr><td>28</td><td>Female</td><td>Somer Stoecker</td><td>Cloud</td><td>612490</td><td>92.0</td><td>Sebrina Maresca_Gonzalo Ferebee@DSA.com</td><td>0.92</td><td>Nigeria</td></tr><tr><td>28</td><td>Male</td><td>Mitzi Seldon</td><td>DSA</td><td>622981</td><td>55.0</td><td>Lawanda Wohlwend_Loris Crossett@DSA.com</td><td>0.55</td><td>Nigeria</td></tr><tr><td>29</td><td>Female</td><td>Judie Chipps</td><td>Cloud</td><td>632793</td><td>85.0</td><td>Tijuana Kropf_Elenore Choy@PF.com</td><td>0.85</td><td>Nigeria</td></tr><tr><td>28</td><td>Male</td><td>Priscila Tavernier</td><td>PF</td><td>642594</td><td>37.0</td><td>Marylee Capasso_Claude Panos@DSA.com</td><td>0.37</td><td>Nigeria</td></tr><tr><td>29</td><td>Male</td><td>Tamera Blakley</td><td>MVC</td><td>651649</td><td>102.0</td><td>Latia Vanhoose_Toshiko Hillyard@MVC.com</td><td>1.02</td><td>Nigeria</td></tr><tr><td>28</td><td>Male</td><td>Sheryll Towler</td><td>MVC</td><td>661079</td><td>99.0</td><td>Tijuana Kropf_Mickey Cortright@DB.com</td><td>0.99</td><td>Nigeria</td></tr><tr><td>29</td><td>Male</td><td>Hubert Oliveras</td><td>MVC</td><td>672451</td><td>38.0</td><td>Annika Hoffman_Mickey Cortright@DSA.com</td><td>0.38</td><td>Nigeria</td></tr><tr><td>29</td><td>Male</td><td>Sheryll Towler</td><td>PF</td><td>682533</td><td>52.0</td><td>Billi Clore_Anna Santos@PF.com</td><td>0.52</td><td>Nigeria</td></tr><tr><td>28</td><td>Female</td><td>Jenna Montague</td><td>DSA</td><td>691564</td><td>36.0</td><td>Mitzi Seldon_Sebrina Maresca@Cloud.com</td><td>0.36</td><td>Nigeria</td></tr><tr><td>29</td><td>Male</td><td>Maybell Duguay</td><td>PF</td><td>701486</td><td>109.0</td><td>Clementina Menke_Latia Vanhoose@Cloud.com</td><td>1.09</td><td>Nigeria</td></tr><tr><td>29</td><td>Male</td><td>Jenna Montague</td><td>MVC</td><td>711153</td><td>55.0</td><td>Marylee Capasso_Hubert Oliveras@DB.com</td><td>0.55</td><td>Nigeria</td></tr><tr><td>28</td><td>Male</td><td>Annika Hoffman</td><td>Cloud</td><td>722193</td><td>65.0</td><td>Taryn Brownlee_Elenore Choy@DB.com</td><td>0.65</td><td>Nigeria</td></tr><tr><td>28</td><td>Female</td><td>Celeste Lollis</td><td>DSA</td><td>731879</td><td>86.0</td><td>Hubert Oliveras_Gonzalo Ferebee@DSA.com</td><td>0.86</td><td>Nigeria</td></tr><tr><td>29</td><td>Male</td><td>Jeannetta Golden</td><td>MVC</td><td>741875</td><td>67.0</td><td>Sheryll Towler_Cheri Kenney@DSA.com</td><td>0.67</td><td>Nigeria</td></tr><tr><td>29</td><td>Male</td><td>Paris Hutton</td><td>MVC</td><td>752504</td><td>32.0</td><td>Elenore Choy_Elenore Choy@DB.com</td><td>0.32</td><td>Nigeria</td></tr><tr><td>29</td><td>Female</td><td>Margene Moores</td><td>MVC</td><td>761843</td><td>58.0</td><td>Ernest Rossbach_Mickey Cortright@DSA.com</td><td>0.58</td><td>Nigeria</td></tr><tr><td>28</td><td>Female</td><td>Hubert Oliveras</td><td>DB</td><td>771081</td><td>89.0</td><td>Kizzy Brenner_Dustin Feagins@MVC.com</td><td>0.89</td><td>Nigeria</td></tr><tr><td>28</td><td>Male</td><td>Alberta Freund</td><td>PF</td><td>781061</td><td>85.0</td><td>Leontine Phillips_Bonita Higuera@PF.com</td><td>0.85</td><td>Nigeria</td></tr><tr><td>29</td><td>Female</td><td>Billi Clore</td><td>OOP</td><td>791519</td><td>103.0</td><td>Elenore Choy_Jalisa Swenson@MVC.com</td><td>1.03</td><td>Nigeria</td></tr><tr><td>28</td><td>Female</td><td>Billi Clore</td><td>Cloud</td><td>801693</td><td>48.0</td><td>Niki Klimek_Kizzy Brenner@DB.com</td><td>0.48</td><td>Nigeria</td></tr><tr><td>29</td><td>Female</td><td>Elenore Choy</td><td>DB</td><td>811824</td><td>65.0</td><td>Maybell Duguay_Melani Engberg@DB.com</td><td>0.65</td><td>Nigeria</td></tr><tr><td>28</td><td>Male</td><td>Anna Santos</td><td>OOP</td><td>822396</td><td>57.0</td><td>Leontine Phillips_Gonzalo Ferebee@Cloud.com</td><td>0.57</td><td>Nigeria</td></tr><tr><td>28</td><td>Male</td><td>Sheryll Towler</td><td>DSA</td><td>831562</td><td>69.0</td><td>Kena Wild_Gonzalo Ferebee@Cloud.com</td><td>0.69</td><td>Nigeria</td></tr><tr><td>29</td><td>Male</td><td>Neda Briski</td><td>PF</td><td>842515</td><td>78.0</td><td>Neda Briski_Hubert Oliveras@OOP.com</td><td>0.78</td><td>Nigeria</td></tr><tr><td>28</td><td>Female</td><td>Santa Kerfien</td><td>Cloud</td><td>851620</td><td>44.0</td><td>Melani Engberg_Sheryll Towler@PF.com</td><td>0.44</td><td>Nigeria</td></tr><tr><td>29</td><td>Female</td><td>Taryn Brownlee</td><td>MVC</td><td>861849</td><td>49.0</td><td>Billi Clore_Toshiko Hillyard@MVC.com</td><td>0.49</td><td>Nigeria</td></tr><tr><td>28</td><td>Female</td><td>Sheryll Towler</td><td>DSA</td><td>871967</td><td>74.0</td><td>Michelle Ruggiero_Billi Clore@Cloud.com</td><td>0.74</td><td>Nigeria</td></tr><tr><td>29</td><td>Male</td><td>Clementina Menke</td><td>DB</td><td>882200</td><td>86.0</td><td>Michelle Ruggiero_Jenna Montague@MVC.com</td><td>0.86</td><td>Nigeria</td></tr><tr><td>28</td><td>Male</td><td>Margene Moores</td><td>DSA</td><td>892010</td><td>103.0</td><td>Anna Santos_Naoma Fritts@DSA.com</td><td>1.03</td><td>Nigeria</td></tr><tr><td>28</td><td>Female</td><td>Somer Stoecker</td><td>DSA</td><td>901958</td><td>74.0</td><td>Kizzy Brenner_Jc Andrepont@DB.com</td><td>0.74</td><td>Nigeria</td></tr><tr><td>29</td><td>Male</td><td>Loris Crossett</td><td>PF</td><td>911593</td><td>56.0</td><td>Gonzalo Ferebee_Mitzi Seldon@PF.com</td><td>0.56</td><td>Nigeria</td></tr><tr><td>29</td><td>Female</td><td>Sebrina Maresca</td><td>DB</td><td>922210</td><td>64.0</td><td>Toshiko Hillyard_Santa Kerfien@MVC.com</td><td>0.64</td><td>Nigeria</td></tr><tr><td>29</td><td>Male</td><td>Naoma Fritts</td><td>DB</td><td>931295</td><td>89.0</td><td>Hubert Oliveras_Sheryll Towler@DSA.com</td><td>0.89</td><td>Nigeria</td></tr><tr><td>28</td><td>Female</td><td>Santa Kerfien</td><td>MVC</td><td>941783</td><td>104.0</td><td>Paris Hutton_Naoma Fritts@DB.com</td><td>1.04</td><td>Nigeria</td></tr><tr><td>28</td><td>Female</td><td>Lawanda Wohlwend</td><td>DSA</td><td>951686</td><td>70.0</td><td>Loris Crossett_Nicole Harwood@DSA.com</td><td>0.7</td><td>Nigeria</td></tr><tr><td>29</td><td>Male</td><td>Abram Nagao</td><td>MVC</td><td>962235</td><td>42.0</td><td>Jenna Montague_Gonzalo Ferebee@DSA.com</td><td>0.42</td><td>Nigeria</td></tr><tr><td>28</td><td>Female</td><td>Jc Andrepont</td><td>PF</td><td>972733</td><td>30.0</td><td>Eda Neathery_Eda Neathery@MVC.com</td><td>0.3</td><td>Nigeria</td></tr><tr><td>29</td><td>Male</td><td>Niki Klimek</td><td>PF</td><td>982443</td><td>104.0</td><td>Santa Kerfien_Kizzy Brenner@DB.com</td><td>1.04</td><td>Nigeria</td></tr><tr><td>28</td><td>Female</td><td>Marylee Capasso</td><td>OOP</td><td>991770</td><td>96.0</td><td>Margene Moores_Clementina Menke@DB.com</td><td>0.96</td><td>Nigeria</td></tr><tr><td>28</td><td>Male</td><td>Jenna Montague</td><td>DSA</td><td>1002103</td><td>46.0</td><td>Melani Engberg_Hubert Oliveras@PF.com</td><td>0.46</td><td>Nigeria</td></tr><tr><td>29</td><td>Female</td><td>Eda Neathery</td><td>Cloud</td><td>1011971</td><td>101.0</td><td>Margene Moores_Elenore Choy@MVC.com</td><td>1.01</td><td>Nigeria</td></tr><tr><td>29</td><td>Male</td><td>Michelle Ruggiero</td><td>DSA</td><td>1022971</td><td>109.0</td><td>Cordie Harnois_Clementina Menke@OOP.com</td><td>1.09</td><td>Nigeria</td></tr><tr><td>28</td><td>Male</td><td>Annika Hoffman</td><td>DB</td><td>1031544</td><td>54.0</td><td>Dustin Feagins_Somer Stoecker@DB.com</td><td>0.54</td><td>Nigeria</td></tr><tr><td>29</td><td>Female</td><td>Hubert Oliveras</td><td>DSA</td><td>1041483</td><td>38.0</td><td>Billi Clore_Santa Kerfien@DSA.com</td><td>0.38</td><td>Nigeria</td></tr><tr><td>28</td><td>Male</td><td>Billi Clore</td><td>MVC</td><td>1052566</td><td>88.0</td><td>Naoma Fritts_Margene Moores@DSA.com</td><td>0.88</td><td>Nigeria</td></tr><tr><td>28</td><td>Female</td><td>Nicole Harwood</td><td>MVC</td><td>1061068</td><td>92.0</td><td>Santa Kerfien_Hubert Oliveras@MVC.com</td><td>0.92</td><td>Nigeria</td></tr><tr><td>29</td><td>Male</td><td>Clementina Menke</td><td>PF</td><td>1071717</td><td>64.0</td><td>Celeste Lollis_Leontine Phillips@OOP.com</td><td>0.64</td><td>Nigeria</td></tr><tr><td>28</td><td>Female</td><td>Claude Panos</td><td>OOP</td><td>1081294</td><td>104.0</td><td>Kizzy Brenner_Anna Santos@OOP.com</td><td>1.04</td><td>Nigeria</td></tr><tr><td>29</td><td>Male</td><td>Donna Yerby</td><td>DSA</td><td>1092702</td><td>89.0</td><td>Marylee Capasso_Alberta Freund@OOP.com</td><td>0.89</td><td>Nigeria</td></tr><tr><td>29</td><td>Female</td><td>Maybell Duguay</td><td>MVC</td><td>1102536</td><td>32.0</td><td>Somer Stoecker_Marylee Capasso@OOP.com</td><td>0.32</td><td>Nigeria</td></tr><tr><td>29</td><td>Male</td><td>Abram Nagao</td><td>PF</td><td>1112161</td><td>52.0</td><td>Nicole Harwood_Niki Klimek@DB.com</td><td>0.52</td><td>Nigeria</td></tr><tr><td>28</td><td>Female</td><td>Bonita Higuera</td><td>DSA</td><td>1122348</td><td>61.0</td><td>Somer Stoecker_Jenna Montague@DB.com</td><td>0.61</td><td>Nigeria</td></tr><tr><td>29</td><td>Female</td><td>Melani Engberg</td><td>OOP</td><td>1132093</td><td>86.0</td><td>Kena Wild_Neda Briski@Cloud.com</td><td>0.86</td><td>Nigeria</td></tr><tr><td>29</td><td>Female</td><td>Marylee Capasso</td><td>OOP</td><td>1142653</td><td>71.0</td><td>Cordie Harnois_Alberta Freund@DSA.com</td><td>0.71</td><td>Nigeria</td></tr><tr><td>29</td><td>Male</td><td>Nicole Harwood</td><td>Cloud</td><td>1152571</td><td>72.0</td><td>Latia Vanhoose_Maybell Duguay@PF.com</td><td>0.72</td><td>Nigeria</td></tr><tr><td>29</td><td>Female</td><td>Dustin Feagins</td><td>OOP</td><td>1161607</td><td>47.0</td><td>Eda Neathery_Marylee Capasso@MVC.com</td><td>0.47</td><td>Nigeria</td></tr><tr><td>28</td><td>Female</td><td>Niki Klimek</td><td>PF</td><td>1172784</td><td>34.0</td><td>Jeannetta Golden_Abram Nagao@MVC.com</td><td>0.34</td><td>Nigeria</td></tr><tr><td>29</td><td>Female</td><td>Abram Nagao</td><td>DSA</td><td>1181007</td><td>67.0</td><td>Anna Santos_Anna Santos@DSA.com</td><td>0.67</td><td>Nigeria</td></tr><tr><td>28</td><td>Male</td><td>Jalisa Swenson</td><td>PF</td><td>1192555</td><td>87.0</td><td>Marylee Capasso_Celeste Lollis@Cloud.com</td><td>0.87</td><td>Nigeria</td></tr><tr><td>29</td><td>Female</td><td>Ernest Rossbach</td><td>MVC</td><td>1201427</td><td>90.0</td><td>Elenore Choy_Jenna Montague@OOP.com</td><td>0.9</td><td>Nigeria</td></tr><tr><td>28</td><td>Male</td><td>Nicole Harwood</td><td>DB</td><td>1211495</td><td>38.0</td><td>Melani Engberg_Jc Andrepont@Cloud.com</td><td>0.38</td><td>Nigeria</td></tr><tr><td>29</td><td>Female</td><td>Claude Panos</td><td>DB</td><td>1222887</td><td>85.0</td><td>Hubert Oliveras_Somer Stoecker@Cloud.com</td><td>0.85</td><td>Nigeria</td></tr><tr><td>28</td><td>Female</td><td>Cordie Harnois</td><td>OOP</td><td>1231943</td><td>78.0</td><td>Mickey Cortright_Kizzy Brenner@OOP.com</td><td>0.78</td><td>Nigeria</td></tr><tr><td>28</td><td>Male</td><td>Nicole Harwood</td><td>OOP</td><td>1242426</td><td>81.0</td><td>Billi Clore_Loris Crossett@Cloud.com</td><td>0.81</td><td>Nigeria</td></tr><tr><td>28</td><td>Male</td><td>Gonzalo Ferebee</td><td>Cloud</td><td>1251176</td><td>70.0</td><td>Santa Kerfien_Tamera Blakley@PF.com</td><td>0.7</td><td>Nigeria</td></tr><tr><td>29</td><td>Male</td><td>Jalisa Swenson</td><td>Cloud</td><td>1261533</td><td>80.0</td><td>Dustin Feagins_Nicole Harwood@PF.com</td><td>0.8</td><td>Nigeria</td></tr><tr><td>28</td><td>Female</td><td>Eda Neathery</td><td>Cloud</td><td>1272870</td><td>79.0</td><td>Somer Stoecker_Dustin Feagins@DB.com</td><td>0.79</td><td>Nigeria</td></tr><tr><td>28</td><td>Female</td><td>Toshiko Hillyard</td><td>DSA</td><td>1282835</td><td>89.0</td><td>Somer Stoecker_Toshiko Hillyard@OOP.com</td><td>0.89</td><td>Nigeria</td></tr><tr><td>28</td><td>Male</td><td>Paris Hutton</td><td>MVC</td><td>1292279</td><td>36.0</td><td>Paris Hutton_Eda Neathery@DSA.com</td><td>0.36</td><td>Nigeria</td></tr><tr><td>29</td><td>Female</td><td>Niki Klimek</td><td>DB</td><td>1301784</td><td>34.0</td><td>Celeste Lollis_Tamera Blakley@DB.com</td><td>0.34</td><td>Nigeria</td></tr><tr><td>28</td><td>Male</td><td>Bonita Higuera</td><td>Cloud</td><td>1312294</td><td>104.0</td><td>Eda Neathery_Priscila Tavernier@PF.com</td><td>1.04</td><td>Nigeria</td></tr><tr><td>28</td><td>Female</td><td>Leontine Phillips</td><td>MVC</td><td>1322629</td><td>97.0</td><td>Judie Chipps_Michelle Ruggiero@Cloud.com</td><td>0.97</td><td>Nigeria</td></tr><tr><td>29</td><td>Male</td><td>Jalisa Swenson</td><td>PF</td><td>1332072</td><td>98.0</td><td>Billi Clore_Kizzy Brenner@Cloud.com</td><td>0.98</td><td>Nigeria</td></tr><tr><td>28</td><td>Male</td><td>Clementina Menke</td><td>OOP</td><td>1341574</td><td>56.0</td><td>Elenore Choy_Mickey Cortright@DB.com</td><td>0.56</td><td>Nigeria</td></tr><tr><td>28</td><td>Male</td><td>Gonzalo Ferebee</td><td>PF</td><td>1352348</td><td>105.0</td><td>Neda Briski_Somer Stoecker@DB.com</td><td>1.05</td><td>Nigeria</td></tr><tr><td>29</td><td>Female</td><td>Jalisa Swenson</td><td>DSA</td><td>1362151</td><td>61.0</td><td>Lawanda Wohlwend_Jenna Montague@PF.com</td><td>0.61</td><td>Nigeria</td></tr><tr><td>28</td><td>Male</td><td>Lawanda Wohlwend</td><td>PF</td><td>1372552</td><td>98.0</td><td>Hubert Oliveras_Tijuana Kropf@DSA.com</td><td>0.98</td><td>Nigeria</td></tr><tr><td>28</td><td>Male</td><td>Abram Nagao</td><td>DSA</td><td>1382959</td><td>76.0</td><td>Michelle Ruggiero_Kena Wild@OOP.com</td><td>0.76</td><td>Nigeria</td></tr><tr><td>29</td><td>Female</td><td>Hubert Oliveras</td><td>Cloud</td><td>1392791</td><td>104.0</td><td>Anna Santos_Alberta Freund@Cloud.com</td><td>1.04</td><td>Nigeria</td></tr><tr><td>28</td><td>Male</td><td>Bonita Higuera</td><td>Cloud</td><td>1401526</td><td>34.0</td><td>Jc Andrepont_Cheri Kenney@Cloud.com</td><td>0.34</td><td>Nigeria</td></tr><tr><td>29</td><td>Female</td><td>Clementina Menke</td><td>OOP</td><td>1412376</td><td>75.0</td><td>Elenore Choy_Latia Vanhoose@DSA.com</td><td>0.75</td><td>Nigeria</td></tr><tr><td>29</td><td>Female</td><td>Mickey Cortright</td><td>Cloud</td><td>1421542</td><td>81.0</td><td>Latia Vanhoose_Kena Wild@OOP.com</td><td>0.81</td><td>Nigeria</td></tr><tr><td>29</td><td>Female</td><td>Leontine Phillips</td><td>DB</td><td>1432252</td><td>77.0</td><td>Billi Clore_Sheryll Towler@DB.com</td><td>0.77</td><td>Nigeria</td></tr><tr><td>28</td><td>Female</td><td>Nicole Harwood</td><td>PF</td><td>1441367</td><td>105.0</td><td>Jc Andrepont_Anna Santos@DSA.com</td><td>1.05</td><td>Nigeria</td></tr><tr><td>28</td><td>Female</td><td>Gonzalo Ferebee</td><td>DB</td><td>1451513</td><td>79.0</td><td>Claude Panos_Tamera Blakley@PF.com</td><td>0.79</td><td>Nigeria</td></tr><tr><td>29</td><td>Female</td><td>Judie Chipps</td><td>DB</td><td>1461078</td><td>41.0</td><td>Tijuana Kropf_Billi Clore@OOP.com</td><td>0.41</td><td>Nigeria</td></tr><tr><td>29</td><td>Male</td><td>Niki Klimek</td><td>MVC</td><td>1472917</td><td>46.0</td><td>Sebrina Maresca_Sheryll Towler@MVC.com</td><td>0.46</td><td>Nigeria</td></tr><tr><td>29</td><td>Female</td><td>Lawanda Wohlwend</td><td>MVC</td><td>1482889</td><td>75.0</td><td>Gonzalo Ferebee_Dustin Feagins@PF.com</td><td>0.75</td><td>Nigeria</td></tr><tr><td>28</td><td>Male</td><td>Jc Andrepont</td><td>DSA</td><td>1492828</td><td>88.0</td><td>Celeste Lollis_Kizzy Brenner@MVC.com</td><td>0.88</td><td>Nigeria</td></tr><tr><td>28</td><td>Female</td><td>Cordie Harnois</td><td>MVC</td><td>1501333</td><td>104.0</td><td>Gonzalo Ferebee_Tijuana Kropf@OOP.com</td><td>1.04</td><td>Nigeria</td></tr><tr><td>29</td><td>Female</td><td>Taryn Brownlee</td><td>OOP</td><td>1511213</td><td>82.0</td><td>Cheri Kenney_Donna Yerby@DSA.com</td><td>0.82</td><td>Nigeria</td></tr><tr><td>28</td><td>Male</td><td>Hubert Oliveras</td><td>PF</td><td>1521724</td><td>101.0</td><td>Eda Neathery_Jeannetta Golden@MVC.com</td><td>1.01</td><td>Nigeria</td></tr><tr><td>29</td><td>Female</td><td>Naoma Fritts</td><td>MVC</td><td>1532260</td><td>83.0</td><td>Elenore Choy_Judie Chipps@DSA.com</td><td>0.83</td><td>Nigeria</td></tr><tr><td>28</td><td>Female</td><td>Marylee Capasso</td><td>Cloud</td><td>1541030</td><td>68.0</td><td>Cordie Harnois_Celeste Lollis@PF.com</td><td>0.68</td><td>Nigeria</td></tr><tr><td>29</td><td>Female</td><td>Annika Hoffman</td><td>OOP</td><td>1551846</td><td>60.0</td><td>Paris Hutton_Melani Engberg@DB.com</td><td>0.6</td><td>Nigeria</td></tr><tr><td>28</td><td>Female</td><td>Jeannetta Golden</td><td>OOP</td><td>1562758</td><td>50.0</td><td>Jeannetta Golden_Billi Clore@Cloud.com</td><td>0.5</td><td>Nigeria</td></tr><tr><td>29</td><td>Female</td><td>Cheri Kenney</td><td>MVC</td><td>1571310</td><td>98.0</td><td>Cordie Harnois_Lawanda Wohlwend@MVC.com</td><td>0.98</td><td>Nigeria</td></tr><tr><td>29</td><td>Female</td><td>Jeannetta Golden</td><td>PF</td><td>1581770</td><td>49.0</td><td>Bonita Higuera_Santa Kerfien@OOP.com</td><td>0.49</td><td>Nigeria</td></tr><tr><td>28</td><td>Female</td><td>Tamera Blakley</td><td>PF</td><td>1591554</td><td>88.0</td><td>Sebrina Maresca_Tijuana Kropf@OOP.com</td><td>0.88</td><td>Nigeria</td></tr><tr><td>28</td><td>Male</td><td>Paris Hutton</td><td>MVC</td><td>1602777</td><td>63.0</td><td>Sheryll Towler_Loris Crossett@DSA.com</td><td>0.63</td><td>Nigeria</td></tr><tr><td>28</td><td>Male</td><td>Marylee Capasso</td><td>DB</td><td>1611411</td><td>106.0</td><td>Annika Hoffman_Loris Crossett@PF.com</td><td>1.06</td><td>Nigeria</td></tr><tr><td>28</td><td>Male</td><td>Anna Santos</td><td>OOP</td><td>1621905</td><td>34.0</td><td>Elenore Choy_Santa Kerfien@DB.com</td><td>0.34</td><td>Nigeria</td></tr><tr><td>28</td><td>Male</td><td>Neda Briski</td><td>DSA</td><td>1632185</td><td>103.0</td><td>Clementina Menke_Toshiko Hillyard@Cloud.com</td><td>1.03</td><td>Nigeria</td></tr><tr><td>29</td><td>Female</td><td>Michelle Ruggiero</td><td>DB</td><td>1642509</td><td>55.0</td><td>Hubert Oliveras_Marylee Capasso@DB.com</td><td>0.55</td><td>Nigeria</td></tr><tr><td>28</td><td>Female</td><td>Neda Briski</td><td>Cloud</td><td>1651303</td><td>84.0</td><td>Ernest Rossbach_Donna Yerby@OOP.com</td><td>0.84</td><td>Nigeria</td></tr><tr><td>28</td><td>Female</td><td>Loris Crossett</td><td>DSA</td><td>1662549</td><td>96.0</td><td>Paris Hutton_Latia Vanhoose@Cloud.com</td><td>0.96</td><td>Nigeria</td></tr><tr><td>29</td><td>Male</td><td>Alberta Freund</td><td>DB</td><td>1671638</td><td>108.0</td><td>Clementina Menke_Jalisa Swenson@Cloud.com</td><td>1.08</td><td>Nigeria</td></tr><tr><td>28</td><td>Female</td><td>Sebrina Maresca</td><td>MVC</td><td>1681804</td><td>37.0</td><td>Celeste Lollis_Ernest Rossbach@MVC.com</td><td>0.37</td><td>Nigeria</td></tr><tr><td>28</td><td>Male</td><td>Celeste Lollis</td><td>DB</td><td>1692106</td><td>46.0</td><td>Neda Briski_Abram Nagao@MVC.com</td><td>0.46</td><td>Nigeria</td></tr><tr><td>29</td><td>Female</td><td>Anna Santos</td><td>DSA</td><td>1702439</td><td>74.0</td><td>Naoma Fritts_Toshiko Hillyard@DB.com</td><td>0.74</td><td>Nigeria</td></tr><tr><td>28</td><td>Female</td><td>Margene Moores</td><td>DSA</td><td>1712967</td><td>51.0</td><td>Tijuana Kropf_Sheryll Towler@DB.com</td><td>0.51</td><td>Nigeria</td></tr><tr><td>28</td><td>Female</td><td>Priscila Tavernier</td><td>DB</td><td>1722388</td><td>96.0</td><td>Lawanda Wohlwend_Loris Crossett@DSA.com</td><td>0.96</td><td>Nigeria</td></tr><tr><td>29</td><td>Female</td><td>Jc Andrepont</td><td>MVC</td><td>1731652</td><td>84.0</td><td>Hubert Oliveras_Michelle Ruggiero@DSA.com</td><td>0.84</td><td>Nigeria</td></tr><tr><td>28</td><td>Female</td><td>Anna Santos</td><td>DSA</td><td>1741879</td><td>99.0</td><td>Nicole Harwood_Lawanda Wohlwend@DB.com</td><td>0.99</td><td>Nigeria</td></tr><tr><td>29</td><td>Female</td><td>Lawanda Wohlwend</td><td>MVC</td><td>1751381</td><td>85.0</td><td>Jalisa Swenson_Nicole Harwood@OOP.com</td><td>0.85</td><td>Nigeria</td></tr><tr><td>29</td><td>Male</td><td>Nicole Harwood</td><td>MVC</td><td>1761454</td><td>44.0</td><td>Taryn Brownlee_Billi Clore@DSA.com</td><td>0.44</td><td>Nigeria</td></tr><tr><td>29</td><td>Male</td><td>Claude Panos</td><td>DSA</td><td>1771605</td><td>60.0</td><td>Claude Panos_Tamera Blakley@OOP.com</td><td>0.6</td><td>Nigeria</td></tr><tr><td>29</td><td>Male</td><td>Dustin Feagins</td><td>DB</td><td>1782045</td><td>91.0</td><td>Cordie Harnois_Toshiko Hillyard@OOP.com</td><td>0.91</td><td>Nigeria</td></tr><tr><td>29</td><td>Male</td><td>Toshiko Hillyard</td><td>DSA</td><td>1791364</td><td>60.0</td><td>Jc Andrepont_Nicole Harwood@MVC.com</td><td>0.6</td><td>Nigeria</td></tr><tr><td>28</td><td>Male</td><td>Alberta Freund</td><td>Cloud</td><td>1802934</td><td>34.0</td><td>Maybell Duguay_Paris Hutton@PF.com</td><td>0.34</td><td>Nigeria</td></tr><tr><td>29</td><td>Female</td><td>Tijuana Kropf</td><td>MVC</td><td>1811192</td><td>61.0</td><td>Anna Santos_Latia Vanhoose@DSA.com</td><td>0.61</td><td>Nigeria</td></tr><tr><td>29</td><td>Female</td><td>Ernest Rossbach</td><td>Cloud</td><td>1821977</td><td>38.0</td><td>Annika Hoffman_Kizzy Brenner@DSA.com</td><td>0.38</td><td>Nigeria</td></tr><tr><td>29</td><td>Male</td><td>Latia Vanhoose</td><td>Cloud</td><td>1832268</td><td>70.0</td><td>Marylee Capasso_Santa Kerfien@MVC.com</td><td>0.7</td><td>Nigeria</td></tr><tr><td>29</td><td>Male</td><td>Alberta Freund</td><td>OOP</td><td>1841931</td><td>47.0</td><td>Jenna Montague_Taryn Brownlee@Cloud.com</td><td>0.47</td><td>Nigeria</td></tr><tr><td>28</td><td>Female</td><td>Lawanda Wohlwend</td><td>DB</td><td>1852072</td><td>40.0</td><td>Bonita Higuera_Jenna Montague@DB.com</td><td>0.4</td><td>Nigeria</td></tr><tr><td>29</td><td>Male</td><td>Celeste Lollis</td><td>PF</td><td>1861656</td><td>77.0</td><td>Niki Klimek_Lawanda Wohlwend@DB.com</td><td>0.77</td><td>Nigeria</td></tr><tr><td>28</td><td>Female</td><td>Melani Engberg</td><td>Cloud</td><td>1872667</td><td>109.0</td><td>Alberta Freund_Nicole Harwood@DB.com</td><td>1.09</td><td>Nigeria</td></tr><tr><td>29</td><td>Male</td><td>Tijuana Kropf</td><td>DB</td><td>1882795</td><td>102.0</td><td>Hubert Oliveras_Elenore Choy@Cloud.com</td><td>1.02</td><td>Nigeria</td></tr><tr><td>28</td><td>Male</td><td>Somer Stoecker</td><td>Cloud</td><td>1891261</td><td>40.0</td><td>Taryn Brownlee_Sheryll Towler@PF.com</td><td>0.4</td><td>Nigeria</td></tr><tr><td>28</td><td>Male</td><td>Ernest Rossbach</td><td>DB</td><td>1901492</td><td>64.0</td><td>Latia Vanhoose_Jc Andrepont@MVC.com</td><td>0.64</td><td>Nigeria</td></tr><tr><td>28</td><td>Female</td><td>Anna Santos</td><td>PF</td><td>1911870</td><td>102.0</td><td>Sebrina Maresca_Clementina Menke@OOP.com</td><td>1.02</td><td>Nigeria</td></tr><tr><td>28</td><td>Female</td><td>Melani Engberg</td><td>PF</td><td>1922525</td><td>93.0</td><td>Marylee Capasso_Celeste Lollis@PF.com</td><td>0.93</td><td>Nigeria</td></tr><tr><td>29</td><td>Male</td><td>Sebrina Maresca</td><td>PF</td><td>1932455</td><td>33.0</td><td>Tijuana Kropf_Naoma Fritts@Cloud.com</td><td>0.33</td><td>Nigeria</td></tr><tr><td>29</td><td>Male</td><td>Marylee Capasso</td><td>DSA</td><td>1942185</td><td>47.0</td><td>Tijuana Kropf_Latia Vanhoose@DSA.com</td><td>0.47</td><td>Nigeria</td></tr><tr><td>29</td><td>Male</td><td>Jeannetta Golden</td><td>Cloud</td><td>1952763</td><td>77.0</td><td>Jenna Montague_Jeannetta Golden@OOP.com</td><td>0.77</td><td>Nigeria</td></tr><tr><td>29</td><td>Male</td><td>Niki Klimek</td><td>MVC</td><td>1962371</td><td>88.0</td><td>Marylee Capasso_Mickey Cortright@PF.com</td><td>0.88</td><td>Nigeria</td></tr><tr><td>29</td><td>Female</td><td>Leontine Phillips</td><td>DB</td><td>1972893</td><td>74.0</td><td>Marylee Capasso_Elenore Choy@OOP.com</td><td>0.74</td><td>Nigeria</td></tr><tr><td>29</td><td>Male</td><td>Tamera Blakley</td><td>OOP</td><td>1981124</td><td>56.0</td><td>Taryn Brownlee_Eda Neathery@DB.com</td><td>0.56</td><td>Nigeria</td></tr><tr><td>28</td><td>Male</td><td>Santa Kerfien</td><td>MVC</td><td>1992202</td><td>33.0</td><td>Annika Hoffman_Tamera Blakley@OOP.com</td><td>0.33</td><td>Nigeria</td></tr><tr><td>29</td><td>Female</td><td>Donna Yerby</td><td>OOP</td><td>2002040</td><td>95.0</td><td>Jeannetta Golden_Clementina Menke@OOP.com</td><td>0.95</td><td>Nigeria</td></tr><tr><td>29</td><td>Male</td><td>Somer Stoecker</td><td>OOP</td><td>2011301</td><td>57.0</td><td>Somer Stoecker_Anna Santos@MVC.com</td><td>0.57</td><td>Nigeria</td></tr><tr><td>28</td><td>Male</td><td>Billi Clore</td><td>PF</td><td>2022282</td><td>87.0</td><td>Anna Santos_Claude Panos@Cloud.com</td><td>0.87</td><td>Nigeria</td></tr><tr><td>28</td><td>Male</td><td>Kena Wild</td><td>DB</td><td>2031530</td><td>103.0</td><td>Jc Andrepont_Jc Andrepont@PF.com</td><td>1.03</td><td>Nigeria</td></tr><tr><td>29</td><td>Female</td><td>Abram Nagao</td><td>DSA</td><td>2041248</td><td>82.0</td><td>Latia Vanhoose_Kena Wild@DSA.com</td><td>0.82</td><td>Nigeria</td></tr><tr><td>28</td><td>Female</td><td>Paris Hutton</td><td>Cloud</td><td>2051881</td><td>89.0</td><td>Melani Engberg_Marylee Capasso@PF.com</td><td>0.89</td><td>Nigeria</td></tr><tr><td>28</td><td>Female</td><td>Claude Panos</td><td>OOP</td><td>2061187</td><td>68.0</td><td>Cheri Kenney_Cordie Harnois@PF.com</td><td>0.68</td><td>Nigeria</td></tr><tr><td>28</td><td>Female</td><td>Eda Neathery</td><td>Cloud</td><td>2071302</td><td>105.0</td><td>Latia Vanhoose_Donna Yerby@Cloud.com</td><td>1.05</td><td>Nigeria</td></tr><tr><td>28</td><td>Male</td><td>Marylee Capasso</td><td>DSA</td><td>2081560</td><td>30.0</td><td>Sheryll Towler_Donna Yerby@Cloud.com</td><td>0.3</td><td>Nigeria</td></tr><tr><td>28</td><td>Male</td><td>Neda Briski</td><td>Cloud</td><td>2092176</td><td>91.0</td><td>Celeste Lollis_Maybell Duguay@PF.com</td><td>0.91</td><td>Nigeria</td></tr><tr><td>29</td><td>Male</td><td>Donna Yerby</td><td>DSA</td><td>2102495</td><td>107.0</td><td>Paris Hutton_Celeste Lollis@PF.com</td><td>1.07</td><td>Nigeria</td></tr><tr><td>29</td><td>Male</td><td>Judie Chipps</td><td>DB</td><td>2112234</td><td>104.0</td><td>Dustin Feagins_Tamera Blakley@PF.com</td><td>1.04</td><td>Nigeria</td></tr><tr><td>28</td><td>Female</td><td>Tijuana Kropf</td><td>Cloud</td><td>2121632</td><td>88.0</td><td>Michelle Ruggiero_Anna Santos@OOP.com</td><td>0.88</td><td>Nigeria</td></tr><tr><td>29</td><td>Male</td><td>Jeannetta Golden</td><td>MVC</td><td>2132781</td><td>103.0</td><td>Kizzy Brenner_Cheri Kenney@MVC.com</td><td>1.03</td><td>Nigeria</td></tr><tr><td>29</td><td>Male</td><td>Naoma Fritts</td><td>PF</td><td>2141246</td><td>101.0</td><td>Mitzi Seldon_Cordie Harnois@Cloud.com</td><td>1.01</td><td>Nigeria</td></tr><tr><td>29</td><td>Male</td><td>Somer Stoecker</td><td>MVC</td><td>2151024</td><td>46.0</td><td>Loris Crossett_Tamera Blakley@DB.com</td><td>0.46</td><td>Nigeria</td></tr><tr><td>28</td><td>Male</td><td>Toshiko Hillyard</td><td>PF</td><td>2162776</td><td>64.0</td><td>Jenna Montague_Niki Klimek@MVC.com</td><td>0.64</td><td>Nigeria</td></tr><tr><td>28</td><td>Male</td><td>Jeannetta Golden</td><td>DB</td><td>2171387</td><td>86.0</td><td>Cheri Kenney_Billi Clore@DB.com</td><td>0.86</td><td>Nigeria</td></tr><tr><td>28</td><td>Female</td><td>Billi Clore</td><td>DB</td><td>2181375</td><td>68.0</td><td>Latia Vanhoose_Eda Neathery@DSA.com</td><td>0.68</td><td>Nigeria</td></tr><tr><td>29</td><td>Female</td><td>Annika Hoffman</td><td>PF</td><td>2192313</td><td>59.0</td><td>Naoma Fritts_Tijuana Kropf@DB.com</td><td>0.59</td><td>Nigeria</td></tr><tr><td>29</td><td>Male</td><td>Mitzi Seldon</td><td>Cloud</td><td>2202649</td><td>53.0</td><td>Santa Kerfien_Loris Crossett@Cloud.com</td><td>0.53</td><td>Nigeria</td></tr><tr><td>29</td><td>Female</td><td>Niki Klimek</td><td>DB</td><td>2211319</td><td>71.0</td><td>Celeste Lollis_Sheryll Towler@DB.com</td><td>0.71</td><td>Nigeria</td></tr><tr><td>28</td><td>Male</td><td>Jalisa Swenson</td><td>DSA</td><td>2222704</td><td>101.0</td><td>Judie Chipps_Jalisa Swenson@Cloud.com</td><td>1.01</td><td>Nigeria</td></tr><tr><td>28</td><td>Male</td><td>Priscila Tavernier</td><td>OOP</td><td>2232863</td><td>70.0</td><td>Bonita Higuera_Lawanda Wohlwend@MVC.com</td><td>0.7</td><td>Nigeria</td></tr><tr><td>29</td><td>Male</td><td>Margene Moores</td><td>Cloud</td><td>2241434</td><td>81.0</td><td>Mitzi Seldon_Michelle Ruggiero@Cloud.com</td><td>0.81</td><td>Nigeria</td></tr><tr><td>28</td><td>Female</td><td>Jc Andrepont</td><td>MVC</td><td>2251960</td><td>106.0</td><td>Somer Stoecker_Melani Engberg@DSA.com</td><td>1.06</td><td>Nigeria</td></tr><tr><td>29</td><td>Female</td><td>Gonzalo Ferebee</td><td>OOP</td><td>2262603</td><td>31.0</td><td>Bonita Higuera_Cheri Kenney@PF.com</td><td>0.31</td><td>Nigeria</td></tr><tr><td>29</td><td>Female</td><td>Bonita Higuera</td><td>OOP</td><td>2272587</td><td>56.0</td><td>Gonzalo Ferebee_Toshiko Hillyard@DB.com</td><td>0.56</td><td>Nigeria</td></tr><tr><td>28</td><td>Female</td><td>Cheri Kenney</td><td>Cloud</td><td>2281771</td><td>32.0</td><td>Tamera Blakley_Abram Nagao@OOP.com</td><td>0.32</td><td>Nigeria</td></tr><tr><td>28</td><td>Female</td><td>Marylee Capasso</td><td>Cloud</td><td>2291595</td><td>46.0</td><td>Ernest Rossbach_Mickey Cortright@MVC.com</td><td>0.46</td><td>Nigeria</td></tr><tr><td>29</td><td>Male</td><td>Annika Hoffman</td><td>PF</td><td>2301940</td><td>91.0</td><td>Jenna Montague_Sheryll Towler@Cloud.com</td><td>0.91</td><td>Nigeria</td></tr><tr><td>29</td><td>Female</td><td>Bonita Higuera</td><td>DSA</td><td>2312783</td><td>87.0</td><td>Melani Engberg_Mitzi Seldon@DSA.com</td><td>0.87</td><td>Nigeria</td></tr><tr><td>28</td><td>Male</td><td>Kizzy Brenner</td><td>DB</td><td>2322537</td><td>66.0</td><td>Jenna Montague_Latia Vanhoose@MVC.com</td><td>0.66</td><td>Nigeria</td></tr><tr><td>29</td><td>Male</td><td>Michelle Ruggiero</td><td>Cloud</td><td>2332207</td><td>82.0</td><td>Gonzalo Ferebee_Melani Engberg@OOP.com</td><td>0.82</td><td>Nigeria</td></tr><tr><td>29</td><td>Male</td><td>Alberta Freund</td><td>DSA</td><td>2341989</td><td>78.0</td><td>Jeannetta Golden_Priscila Tavernier@PF.com</td><td>0.78</td><td>Nigeria</td></tr><tr><td>29</td><td>Female</td><td>Somer Stoecker</td><td>OOP</td><td>2352466</td><td>77.0</td><td>Jenna Montague_Mitzi Seldon@MVC.com</td><td>0.77</td><td>Nigeria</td></tr><tr><td>29</td><td>Male</td><td>Mickey Cortright</td><td>OOP</td><td>2361202</td><td>69.0</td><td>Kizzy Brenner_Eda Neathery@MVC.com</td><td>0.69</td><td>Nigeria</td></tr><tr><td>29</td><td>Male</td><td>Latia Vanhoose</td><td>OOP</td><td>2372748</td><td>104.0</td><td>Latia Vanhoose_Latia Vanhoose@OOP.com</td><td>1.04</td><td>Nigeria</td></tr><tr><td>29</td><td>Male</td><td>Naoma Fritts</td><td>OOP</td><td>2382829</td><td>47.0</td><td>Ernest Rossbach_Celeste Lollis@PF.com</td><td>0.47</td><td>Nigeria</td></tr><tr><td>28</td><td>Female</td><td>Taryn Brownlee</td><td>DSA</td><td>2392929</td><td>101.0</td><td>Sebrina Maresca_Jenna Montague@Cloud.com</td><td>1.01</td><td>Nigeria</td></tr><tr><td>28</td><td>Female</td><td>Jenna Montague</td><td>Cloud</td><td>2402240</td><td>106.0</td><td>Annika Hoffman_Dustin Feagins@Cloud.com</td><td>1.06</td><td>Nigeria</td></tr><tr><td>28</td><td>Male</td><td>Melani Engberg</td><td>MVC</td><td>2412019</td><td>64.0</td><td>Latia Vanhoose_Melani Engberg@DSA.com</td><td>0.64</td><td>Nigeria</td></tr><tr><td>29</td><td>Female</td><td>Dustin Feagins</td><td>Cloud</td><td>2421900</td><td>99.0</td><td>Niki Klimek_Latia Vanhoose@Cloud.com</td><td>0.99</td><td>Nigeria</td></tr><tr><td>28</td><td>Female</td><td>Santa Kerfien</td><td>Cloud</td><td>2431828</td><td>36.0</td><td>Margene Moores_Somer Stoecker@PF.com</td><td>0.36</td><td>Nigeria</td></tr><tr><td>28</td><td>Female</td><td>Jenna Montague</td><td>MVC</td><td>2441637</td><td>82.0</td><td>Cordie Harnois_Alberta Freund@OOP.com</td><td>0.82</td><td>Nigeria</td></tr><tr><td>28</td><td>Male</td><td>Sebrina Maresca</td><td>Cloud</td><td>2452108</td><td>51.0</td><td>Billi Clore_Loris Crossett@DSA.com</td><td>0.51</td><td>Nigeria</td></tr><tr><td>28</td><td>Male</td><td>Judie Chipps</td><td>DB</td><td>2461986</td><td>63.0</td><td>Niki Klimek_Judie Chipps@MVC.com</td><td>0.63</td><td>Nigeria</td></tr><tr><td>29</td><td>Male</td><td>Jenna Montague</td><td>DSA</td><td>2472773</td><td>91.0</td><td>Margene Moores_Bonita Higuera@DSA.com</td><td>0.91</td><td>Nigeria</td></tr><tr><td>29</td><td>Female</td><td>Nicole Harwood</td><td>MVC</td><td>2481418</td><td>101.0</td><td>Kizzy Brenner_Priscila Tavernier@DB.com</td><td>1.01</td><td>Nigeria</td></tr><tr><td>29</td><td>Male</td><td>Cheri Kenney</td><td>Cloud</td><td>2491705</td><td>74.0</td><td>Toshiko Hillyard_Mickey Cortright@PF.com</td><td>0.74</td><td>Nigeria</td></tr><tr><td>28</td><td>Female</td><td>Bonita Higuera</td><td>DSA</td><td>2501639</td><td>76.0</td><td>Paris Hutton_Naoma Fritts@PF.com</td><td>0.76</td><td>Nigeria</td></tr><tr><td>29</td><td>Female</td><td>Marylee Capasso</td><td>DSA</td><td>2512456</td><td>85.0</td><td>Mitzi Seldon_Donna Yerby@Cloud.com</td><td>0.85</td><td>Nigeria</td></tr><tr><td>28</td><td>Female</td><td>Jeannetta Golden</td><td>DB</td><td>2522775</td><td>93.0</td><td>Kizzy Brenner_Bonita Higuera@DB.com</td><td>0.93</td><td>Nigeria</td></tr><tr><td>29</td><td>Female</td><td>Annika Hoffman</td><td>PF</td><td>2532233</td><td>84.0</td><td>Somer Stoecker_Annika Hoffman@MVC.com</td><td>0.84</td><td>Nigeria</td></tr><tr><td>28</td><td>Female</td><td>Kizzy Brenner</td><td>OOP</td><td>2542257</td><td>106.0</td><td>Eda Neathery_Lawanda Wohlwend@Cloud.com</td><td>1.06</td><td>Nigeria</td></tr><tr><td>28</td><td>Male</td><td>Priscila Tavernier</td><td>Cloud</td><td>2552194</td><td>52.0</td><td>Jeannetta Golden_Abram Nagao@PF.com</td><td>0.52</td><td>Nigeria</td></tr><tr><td>28</td><td>Male</td><td>Claude Panos</td><td>OOP</td><td>2562357</td><td>60.0</td><td>Naoma Fritts_Anna Santos@Cloud.com</td><td>0.6</td><td>Nigeria</td></tr><tr><td>28</td><td>Male</td><td>Gonzalo Ferebee</td><td>MVC</td><td>2572197</td><td>53.0</td><td>Marylee Capasso_Jc Andrepont@DB.com</td><td>0.53</td><td>Nigeria</td></tr><tr><td>29</td><td>Male</td><td>Nicole Harwood</td><td>Cloud</td><td>2581369</td><td>36.0</td><td>Paris Hutton_Alberta Freund@MVC.com</td><td>0.36</td><td>Nigeria</td></tr><tr><td>28</td><td>Male</td><td>Paris Hutton</td><td>OOP</td><td>2592369</td><td>70.0</td><td>Taryn Brownlee_Sheryll Towler@OOP.com</td><td>0.7</td><td>Nigeria</td></tr><tr><td>28</td><td>Female</td><td>Ernest Rossbach</td><td>Cloud</td><td>2602027</td><td>93.0</td><td>Alberta Freund_Gonzalo Ferebee@MVC.com</td><td>0.93</td><td>Nigeria</td></tr><tr><td>28</td><td>Male</td><td>Sheryll Towler</td><td>DSA</td><td>2612360</td><td>37.0</td><td>Celeste Lollis_Paris Hutton@OOP.com</td><td>0.37</td><td>Nigeria</td></tr><tr><td>28</td><td>Male</td><td>Mitzi Seldon</td><td>DB</td><td>2622118</td><td>65.0</td><td>Mickey Cortright_Mitzi Seldon@MVC.com</td><td>0.65</td><td>Nigeria</td></tr><tr><td>28</td><td>Female</td><td>Abram Nagao</td><td>DB</td><td>2632057</td><td>35.0</td><td>Margene Moores_Somer Stoecker@DB.com</td><td>0.35</td><td>Nigeria</td></tr><tr><td>28</td><td>Male</td><td>Billi Clore</td><td>PF</td><td>2642909</td><td>68.0</td><td>Loris Crossett_Sebrina Maresca@OOP.com</td><td>0.68</td><td>Nigeria</td></tr><tr><td>28</td><td>Male</td><td>Abram Nagao</td><td>Cloud</td><td>2652463</td><td>31.0</td><td>Eda Neathery_Annika Hoffman@Cloud.com</td><td>0.31</td><td>Nigeria</td></tr><tr><td>29</td><td>Male</td><td>Tamera Blakley</td><td>DSA</td><td>2661934</td><td>33.0</td><td>Alberta Freund_Tijuana Kropf@Cloud.com</td><td>0.33</td><td>Nigeria</td></tr><tr><td>29</td><td>Female</td><td>Naoma Fritts</td><td>PF</td><td>2672130</td><td>59.0</td><td>Kizzy Brenner_Alberta Freund@Cloud.com</td><td>0.59</td><td>Nigeria</td></tr><tr><td>28</td><td>Female</td><td>Maybell Duguay</td><td>Cloud</td><td>2682466</td><td>46.0</td><td>Priscila Tavernier_Mitzi Seldon@PF.com</td><td>0.46</td><td>Nigeria</td></tr><tr><td>28</td><td>Female</td><td>Loris Crossett</td><td>OOP</td><td>2691881</td><td>39.0</td><td>Maybell Duguay_Niki Klimek@OOP.com</td><td>0.39</td><td>Nigeria</td></tr><tr><td>28</td><td>Male</td><td>Mitzi Seldon</td><td>PF</td><td>2701239</td><td>86.0</td><td>Alberta Freund_Cordie Harnois@Cloud.com</td><td>0.86</td><td>Nigeria</td></tr><tr><td>29</td><td>Male</td><td>Sebrina Maresca</td><td>PF</td><td>2712040</td><td>33.0</td><td>Jeannetta Golden_Judie Chipps@DB.com</td><td>0.33</td><td>Nigeria</td></tr><tr><td>29</td><td>Male</td><td>Somer Stoecker</td><td>PF</td><td>2721652</td><td>46.0</td><td>Tijuana Kropf_Michelle Ruggiero@Cloud.com</td><td>0.46</td><td>Nigeria</td></tr><tr><td>28</td><td>Male</td><td>Santa Kerfien</td><td>DB</td><td>2732421</td><td>89.0</td><td>Claude Panos_Alberta Freund@DB.com</td><td>0.89</td><td>Nigeria</td></tr><tr><td>28</td><td>Female</td><td>Billi Clore</td><td>MVC</td><td>2741290</td><td>42.0</td><td>Abram Nagao_Elenore Choy@MVC.com</td><td>0.42</td><td>Nigeria</td></tr><tr><td>29</td><td>Female</td><td>Nicole Harwood</td><td>DSA</td><td>2751838</td><td>57.0</td><td>Donna Yerby_Lawanda Wohlwend@MVC.com</td><td>0.57</td><td>Nigeria</td></tr><tr><td>29</td><td>Female</td><td>Sheryll Towler</td><td>DSA</td><td>2762045</td><td>98.0</td><td>Eda Neathery_Priscila Tavernier@DSA.com</td><td>0.98</td><td>Nigeria</td></tr><tr><td>28</td><td>Male</td><td>Clementina Menke</td><td>DSA</td><td>2772189</td><td>108.0</td><td>Donna Yerby_Judie Chipps@PF.com</td><td>1.08</td><td>Nigeria</td></tr><tr><td>29</td><td>Male</td><td>Tijuana Kropf</td><td>Cloud</td><td>2781801</td><td>78.0</td><td>Alberta Freund_Cordie Harnois@Cloud.com</td><td>0.78</td><td>Nigeria</td></tr><tr><td>28</td><td>Female</td><td>Billi Clore</td><td>PF</td><td>2792977</td><td>81.0</td><td>Jalisa Swenson_Nicole Harwood@MVC.com</td><td>0.81</td><td>Nigeria</td></tr><tr><td>29</td><td>Female</td><td>Eda Neathery</td><td>DB</td><td>2802988</td><td>82.0</td><td>Jenna Montague_Toshiko Hillyard@Cloud.com</td><td>0.82</td><td>Nigeria</td></tr><tr><td>28</td><td>Female</td><td>Abram Nagao</td><td>Cloud</td><td>2811189</td><td>64.0</td><td>Kena Wild_Donna Yerby@DSA.com</td><td>0.64</td><td>Nigeria</td></tr><tr><td>29</td><td>Female</td><td>Eda Neathery</td><td>MVC</td><td>2821243</td><td>107.0</td><td>Tamera Blakley_Eda Neathery@DB.com</td><td>1.07</td><td>Nigeria</td></tr><tr><td>29</td><td>Male</td><td>Leontine Phillips</td><td>PF</td><td>2832158</td><td>36.0</td><td>Margene Moores_Claude Panos@MVC.com</td><td>0.36</td><td>Nigeria</td></tr><tr><td>29</td><td>Male</td><td>Abram Nagao</td><td>DB</td><td>2841061</td><td>35.0</td><td>Leontine Phillips_Toshiko Hillyard@Cloud.com</td><td>0.35</td><td>Nigeria</td></tr><tr><td>28</td><td>Male</td><td>Loris Crossett</td><td>OOP</td><td>2852490</td><td>35.0</td><td>Loris Crossett_Donna Yerby@DSA.com</td><td>0.35</td><td>Nigeria</td></tr><tr><td>29</td><td>Female</td><td>Latia Vanhoose</td><td>PF</td><td>2861854</td><td>52.0</td><td>Claude Panos_Nicole Harwood@DSA.com</td><td>0.52</td><td>Nigeria</td></tr><tr><td>28</td><td>Female</td><td>Michelle Ruggiero</td><td>PF</td><td>2872130</td><td>80.0</td><td>Cheri Kenney_Lawanda Wohlwend@DSA.com</td><td>0.8</td><td>Nigeria</td></tr><tr><td>28</td><td>Female</td><td>Alberta Freund</td><td>OOP</td><td>2881304</td><td>72.0</td><td>Loris Crossett_Jc Andrepont@Cloud.com</td><td>0.72</td><td>Nigeria</td></tr><tr><td>28</td><td>Male</td><td>Michelle Ruggiero</td><td>DB</td><td>2891164</td><td>70.0</td><td>Gonzalo Ferebee_Priscila Tavernier@DSA.com</td><td>0.7</td><td>Nigeria</td></tr><tr><td>29</td><td>Female</td><td>Naoma Fritts</td><td>MVC</td><td>2902779</td><td>70.0</td><td>Sebrina Maresca_Niki Klimek@PF.com</td><td>0.7</td><td>Nigeria</td></tr><tr><td>29</td><td>Male</td><td>Niki Klimek</td><td>DB</td><td>2912538</td><td>77.0</td><td>Jc Andrepont_Mitzi Seldon@DSA.com</td><td>0.77</td><td>Nigeria</td></tr><tr><td>28</td><td>Male</td><td>Gonzalo Ferebee</td><td>Cloud</td><td>2922041</td><td>48.0</td><td>Clementina Menke_Taryn Brownlee@OOP.com</td><td>0.48</td><td>Nigeria</td></tr><tr><td>28</td><td>Female</td><td>Kena Wild</td><td>PF</td><td>2931712</td><td>62.0</td><td>Melani Engberg_Leontine Phillips@PF.com</td><td>0.62</td><td>Nigeria</td></tr><tr><td>29</td><td>Male</td><td>Melani Engberg</td><td>DB</td><td>2941257</td><td>108.0</td><td>Claude Panos_Kena Wild@DB.com</td><td>1.08</td><td>Nigeria</td></tr><tr><td>29</td><td>Male</td><td>Billi Clore</td><td>DSA</td><td>2952091</td><td>62.0</td><td>Jenna Montague_Mickey Cortright@DB.com</td><td>0.62</td><td>Nigeria</td></tr><tr><td>29</td><td>Male</td><td>Claude Panos</td><td>PF</td><td>2961015</td><td>43.0</td><td>Elenore Choy_Santa Kerfien@DSA.com</td><td>0.43</td><td>Nigeria</td></tr><tr><td>29</td><td>Female</td><td>Jenna Montague</td><td>DSA</td><td>2972673</td><td>81.0</td><td>Toshiko Hillyard_Naoma Fritts@DB.com</td><td>0.81</td><td>Nigeria</td></tr><tr><td>28</td><td>Female</td><td>Dustin Feagins</td><td>PF</td><td>2981342</td><td>96.0</td><td>Somer Stoecker_Neda Briski@Cloud.com</td><td>0.96</td><td>Nigeria</td></tr><tr><td>29</td><td>Male</td><td>Latia Vanhoose</td><td>MVC</td><td>2992281</td><td>100.0</td><td>Elenore Choy_Cordie Harnois@DSA.com</td><td>1.0</td><td>Nigeria</td></tr><tr><td>29</td><td>Male</td><td>Margene Moores</td><td>PF</td><td>3002277</td><td>42.0</td><td>Somer Stoecker_Maybell Duguay@DSA.com</td><td>0.42</td><td>Nigeria</td></tr><tr><td>28</td><td>Male</td><td>Leontine Phillips</td><td>Cloud</td><td>3011586</td><td>86.0</td><td>Dustin Feagins_Alberta Freund@DB.com</td><td>0.86</td><td>Nigeria</td></tr><tr><td>29</td><td>Male</td><td>Naoma Fritts</td><td>MVC</td><td>3021768</td><td>44.0</td><td>Bonita Higuera_Anna Santos@Cloud.com</td><td>0.44</td><td>Nigeria</td></tr><tr><td>29</td><td>Female</td><td>Neda Briski</td><td>DSA</td><td>3031196</td><td>37.0</td><td>Jc Andrepont_Abram Nagao@DSA.com</td><td>0.37</td><td>Nigeria</td></tr><tr><td>29</td><td>Female</td><td>Alberta Freund</td><td>DB</td><td>3041340</td><td>70.0</td><td>Celeste Lollis_Abram Nagao@PF.com</td><td>0.7</td><td>Nigeria</td></tr><tr><td>29</td><td>Male</td><td>Annika Hoffman</td><td>Cloud</td><td>3051363</td><td>67.0</td><td>Paris Hutton_Leontine Phillips@Cloud.com</td><td>0.67</td><td>Nigeria</td></tr><tr><td>29</td><td>Male</td><td>Anna Santos</td><td>Cloud</td><td>3061386</td><td>67.0</td><td>Michelle Ruggiero_Abram Nagao@Cloud.com</td><td>0.67</td><td>Nigeria</td></tr><tr><td>29</td><td>Female</td><td>Anna Santos</td><td>DSA</td><td>3072690</td><td>46.0</td><td>Sheryll Towler_Latia Vanhoose@PF.com</td><td>0.46</td><td>Nigeria</td></tr><tr><td>29</td><td>Female</td><td>Judie Chipps</td><td>MVC</td><td>3082254</td><td>88.0</td><td>Kena Wild_Anna Santos@MVC.com</td><td>0.88</td><td>Nigeria</td></tr><tr><td>29</td><td>Female</td><td>Latia Vanhoose</td><td>MVC</td><td>3091650</td><td>40.0</td><td>Cordie Harnois_Sebrina Maresca@PF.com</td><td>0.4</td><td>Nigeria</td></tr><tr><td>28</td><td>Female</td><td>Mitzi Seldon</td><td>Cloud</td><td>3101372</td><td>64.0</td><td>Gonzalo Ferebee_Cordie Harnois@MVC.com</td><td>0.64</td><td>Nigeria</td></tr><tr><td>28</td><td>Male</td><td>Tijuana Kropf</td><td>DB</td><td>3111175</td><td>80.0</td><td>Latia Vanhoose_Somer Stoecker@DSA.com</td><td>0.8</td><td>Nigeria</td></tr><tr><td>28</td><td>Male</td><td>Kizzy Brenner</td><td>MVC</td><td>3121184</td><td>39.0</td><td>Tijuana Kropf_Elenore Choy@DB.com</td><td>0.39</td><td>Nigeria</td></tr><tr><td>29</td><td>Male</td><td>Nicole Harwood</td><td>OOP</td><td>3132620</td><td>98.0</td><td>Jeannetta Golden_Lawanda Wohlwend@PF.com</td><td>0.98</td><td>Nigeria</td></tr><tr><td>29</td><td>Male</td><td>Gonzalo Ferebee</td><td>DSA</td><td>3141791</td><td>72.0</td><td>Ernest Rossbach_Sheryll Towler@MVC.com</td><td>0.72</td><td>Nigeria</td></tr><tr><td>29</td><td>Male</td><td>Billi Clore</td><td>MVC</td><td>3152247</td><td>106.0</td><td>Ernest Rossbach_Clementina Menke@PF.com</td><td>1.06</td><td>Nigeria</td></tr><tr><td>29</td><td>Male</td><td>Elenore Choy</td><td>Cloud</td><td>3161233</td><td>55.0</td><td>Dustin Feagins_Dustin Feagins@Cloud.com</td><td>0.55</td><td>Nigeria</td></tr><tr><td>29</td><td>Male</td><td>Judie Chipps</td><td>MVC</td><td>3172827</td><td>77.0</td><td>Eda Neathery_Eda Neathery@DSA.com</td><td>0.77</td><td>Nigeria</td></tr><tr><td>28</td><td>Male</td><td>Lawanda Wohlwend</td><td>Cloud</td><td>3181337</td><td>49.0</td><td>Sebrina Maresca_Billi Clore@MVC.com</td><td>0.49</td><td>Nigeria</td></tr><tr><td>29</td><td>Male</td><td>Jalisa Swenson</td><td>DB</td><td>3192192</td><td>84.0</td><td>Ernest Rossbach_Cordie Harnois@DB.com</td><td>0.84</td><td>Nigeria</td></tr><tr><td>29</td><td>Male</td><td>Cordie Harnois</td><td>PF</td><td>3201624</td><td>51.0</td><td>Maybell Duguay_Somer Stoecker@PF.com</td><td>0.51</td><td>Nigeria</td></tr><tr><td>28</td><td>Male</td><td>Tijuana Kropf</td><td>MVC</td><td>3212517</td><td>58.0</td><td>Somer Stoecker_Mickey Cortright@PF.com</td><td>0.58</td><td>Nigeria</td></tr><tr><td>28</td><td>Female</td><td>Billi Clore</td><td>DB</td><td>3221997</td><td>71.0</td><td>Taryn Brownlee_Santa Kerfien@PF.com</td><td>0.71</td><td>Nigeria</td></tr><tr><td>29</td><td>Female</td><td>Margene Moores</td><td>Cloud</td><td>3232893</td><td>34.0</td><td>Elenore Choy_Niki Klimek@MVC.com</td><td>0.34</td><td>Nigeria</td></tr><tr><td>29</td><td>Female</td><td>Paris Hutton</td><td>DB</td><td>3241324</td><td>82.0</td><td>Abram Nagao_Cordie Harnois@DSA.com</td><td>0.82</td><td>Nigeria</td></tr><tr><td>28</td><td>Female</td><td>Neda Briski</td><td>PF</td><td>3251377</td><td>33.0</td><td>Kizzy Brenner_Mickey Cortright@DSA.com</td><td>0.33</td><td>Nigeria</td></tr><tr><td>29</td><td>Female</td><td>Sebrina Maresca</td><td>Cloud</td><td>3261159</td><td>107.0</td><td>Maybell Duguay_Jalisa Swenson@Cloud.com</td><td>1.07</td><td>Nigeria</td></tr><tr><td>28</td><td>Female</td><td>Sebrina Maresca</td><td>PF</td><td>3272192</td><td>40.0</td><td>Jeannetta Golden_Cordie Harnois@PF.com</td><td>0.4</td><td>Nigeria</td></tr><tr><td>29</td><td>Male</td><td>Donna Yerby</td><td>PF</td><td>3282057</td><td>97.0</td><td>Kizzy Brenner_Loris Crossett@DB.com</td><td>0.97</td><td>Nigeria</td></tr><tr><td>28</td><td>Female</td><td>Kena Wild</td><td>PF</td><td>3291691</td><td>106.0</td><td>Tamera Blakley_Naoma Fritts@Cloud.com</td><td>1.06</td><td>Nigeria</td></tr><tr><td>29</td><td>Male</td><td>Tijuana Kropf</td><td>PF</td><td>3301891</td><td>70.0</td><td>Tamera Blakley_Neda Briski@DSA.com</td><td>0.7</td><td>Nigeria</td></tr><tr><td>28</td><td>Female</td><td>Marylee Capasso</td><td>MVC</td><td>3312606</td><td>67.0</td><td>Marylee Capasso_Gonzalo Ferebee@MVC.com</td><td>0.67</td><td>Nigeria</td></tr><tr><td>28</td><td>Male</td><td>Sheryll Towler</td><td>OOP</td><td>3322308</td><td>42.0</td><td>Clementina Menke_Naoma Fritts@OOP.com</td><td>0.42</td><td>Nigeria</td></tr><tr><td>28</td><td>Male</td><td>Jenna Montague</td><td>OOP</td><td>3331161</td><td>108.0</td><td>Leontine Phillips_Judie Chipps@DSA.com</td><td>1.08</td><td>Nigeria</td></tr><tr><td>28</td><td>Male</td><td>Mitzi Seldon</td><td>PF</td><td>3342819</td><td>78.0</td><td>Cheri Kenney_Naoma Fritts@PF.com</td><td>0.78</td><td>Nigeria</td></tr><tr><td>28</td><td>Male</td><td>Clementina Menke</td><td>Cloud</td><td>3352508</td><td>105.0</td><td>Naoma Fritts_Mickey Cortright@Cloud.com</td><td>1.05</td><td>Nigeria</td></tr><tr><td>28</td><td>Female</td><td>Niki Klimek</td><td>DB</td><td>3361932</td><td>37.0</td><td>Nicole Harwood_Bonita Higuera@DB.com</td><td>0.37</td><td>Nigeria</td></tr><tr><td>29</td><td>Male</td><td>Sebrina Maresca</td><td>DB</td><td>3371719</td><td>96.0</td><td>Marylee Capasso_Margene Moores@DSA.com</td><td>0.96</td><td>Nigeria</td></tr><tr><td>28</td><td>Male</td><td>Niki Klimek</td><td>PF</td><td>3381919</td><td>107.0</td><td>Hubert Oliveras_Latia Vanhoose@DB.com</td><td>1.07</td><td>Nigeria</td></tr><tr><td>29</td><td>Female</td><td>Cordie Harnois</td><td>MVC</td><td>3391820</td><td>65.0</td><td>Paris Hutton_Alberta Freund@DB.com</td><td>0.65</td><td>Nigeria</td></tr><tr><td>29</td><td>Female</td><td>Jenna Montague</td><td>DSA</td><td>3402028</td><td>50.0</td><td>Ernest Rossbach_Alberta Freund@DSA.com</td><td>0.5</td><td>Nigeria</td></tr><tr><td>29</td><td>Male</td><td>Dustin Feagins</td><td>OOP</td><td>3412915</td><td>72.0</td><td>Toshiko Hillyard_Priscila Tavernier@MVC.com</td><td>0.72</td><td>Nigeria</td></tr><tr><td>28</td><td>Female</td><td>Naoma Fritts</td><td>DSA</td><td>3422822</td><td>64.0</td><td>Nicole Harwood_Anna Santos@PF.com</td><td>0.64</td><td>Nigeria</td></tr><tr><td>29</td><td>Female</td><td>Celeste Lollis</td><td>MVC</td><td>3431117</td><td>94.0</td><td>Dustin Feagins_Melani Engberg@DSA.com</td><td>0.94</td><td>Nigeria</td></tr><tr><td>29</td><td>Female</td><td>Niki Klimek</td><td>DB</td><td>3441033</td><td>103.0</td><td>Hubert Oliveras_Tijuana Kropf@Cloud.com</td><td>1.03</td><td>Nigeria</td></tr><tr><td>29</td><td>Female</td><td>Dustin Feagins</td><td>PF</td><td>3451343</td><td>98.0</td><td>Cordie Harnois_Abram Nagao@Cloud.com</td><td>0.98</td><td>Nigeria</td></tr><tr><td>29</td><td>Female</td><td>Celeste Lollis</td><td>DSA</td><td>3461783</td><td>60.0</td><td>Loris Crossett_Ernest Rossbach@Cloud.com</td><td>0.6</td><td>Nigeria</td></tr><tr><td>29</td><td>Male</td><td>Annika Hoffman</td><td>DSA</td><td>3471063</td><td>52.0</td><td>Bonita Higuera_Cordie Harnois@Cloud.com</td><td>0.52</td><td>Nigeria</td></tr><tr><td>28</td><td>Female</td><td>Sebrina Maresca</td><td>PF</td><td>3481728</td><td>83.0</td><td>Billi Clore_Billi Clore@OOP.com</td><td>0.83</td><td>Nigeria</td></tr><tr><td>28</td><td>Male</td><td>Taryn Brownlee</td><td>PF</td><td>3491666</td><td>86.0</td><td>Neda Briski_Priscila Tavernier@DB.com</td><td>0.86</td><td>Nigeria</td></tr><tr><td>28</td><td>Female</td><td>Loris Crossett</td><td>OOP</td><td>3502780</td><td>40.0</td><td>Jenna Montague_Cordie Harnois@MVC.com</td><td>0.4</td><td>Nigeria</td></tr><tr><td>29</td><td>Male</td><td>Kizzy Brenner</td><td>PF</td><td>3512215</td><td>60.0</td><td>Naoma Fritts_Melani Engberg@Cloud.com</td><td>0.6</td><td>Nigeria</td></tr><tr><td>28</td><td>Female</td><td>Elenore Choy</td><td>OOP</td><td>3521960</td><td>100.0</td><td>Sebrina Maresca_Tijuana Kropf@PF.com</td><td>1.0</td><td>Nigeria</td></tr><tr><td>28</td><td>Female</td><td>Loris Crossett</td><td>PF</td><td>3531684</td><td>94.0</td><td>Dustin Feagins_Tamera Blakley@DSA.com</td><td>0.94</td><td>Nigeria</td></tr><tr><td>29</td><td>Female</td><td>Leontine Phillips</td><td>OOP</td><td>3541954</td><td>75.0</td><td>Margene Moores_Jeannetta Golden@MVC.com</td><td>0.75</td><td>Nigeria</td></tr><tr><td>29</td><td>Female</td><td>Billi Clore</td><td>OOP</td><td>3551532</td><td>91.0</td><td>Dustin Feagins_Annika Hoffman@PF.com</td><td>0.91</td><td>Nigeria</td></tr><tr><td>28</td><td>Female</td><td>Neda Briski</td><td>Cloud</td><td>3562470</td><td>36.0</td><td>Gonzalo Ferebee_Kizzy Brenner@DB.com</td><td>0.36</td><td>Nigeria</td></tr><tr><td>29</td><td>Female</td><td>Eda Neathery</td><td>MVC</td><td>3572648</td><td>87.0</td><td>Melani Engberg_Margene Moores@DB.com</td><td>0.87</td><td>Nigeria</td></tr><tr><td>28</td><td>Male</td><td>Kizzy Brenner</td><td>Cloud</td><td>3581303</td><td>90.0</td><td>Margene Moores_Tamera Blakley@PF.com</td><td>0.9</td><td>Nigeria</td></tr><tr><td>29</td><td>Male</td><td>Loris Crossett</td><td>OOP</td><td>3592529</td><td>90.0</td><td>Annika Hoffman_Toshiko Hillyard@PF.com</td><td>0.9</td><td>Nigeria</td></tr><tr><td>28</td><td>Female</td><td>Toshiko Hillyard</td><td>DB</td><td>3602005</td><td>64.0</td><td>Loris Crossett_Annika Hoffman@DB.com</td><td>0.64</td><td>Nigeria</td></tr><tr><td>28</td><td>Male</td><td>Mickey Cortright</td><td>Cloud</td><td>3612300</td><td>102.0</td><td>Cordie Harnois_Sheryll Towler@OOP.com</td><td>1.02</td><td>Nigeria</td></tr><tr><td>28</td><td>Female</td><td>Sebrina Maresca</td><td>OOP</td><td>3621436</td><td>91.0</td><td>Maybell Duguay_Marylee Capasso@DSA.com</td><td>0.91</td><td>Nigeria</td></tr><tr><td>28</td><td>Male</td><td>Hubert Oliveras</td><td>Cloud</td><td>3632954</td><td>44.0</td><td>Ernest Rossbach_Annika Hoffman@OOP.com</td><td>0.44</td><td>Nigeria</td></tr><tr><td>29</td><td>Female</td><td>Taryn Brownlee</td><td>MVC</td><td>3641757</td><td>57.0</td><td>Alberta Freund_Dustin Feagins@OOP.com</td><td>0.57</td><td>Nigeria</td></tr><tr><td>29</td><td>Male</td><td>Elenore Choy</td><td>DB</td><td>3652057</td><td>30.0</td><td>Jc Andrepont_Gonzalo Ferebee@DB.com</td><td>0.3</td><td>Nigeria</td></tr><tr><td>29</td><td>Female</td><td>Clementina Menke</td><td>Cloud</td><td>3662734</td><td>68.0</td><td>Jc Andrepont_Lawanda Wohlwend@MVC.com</td><td>0.68</td><td>Nigeria</td></tr><tr><td>29</td><td>Female</td><td>Donna Yerby</td><td>PF</td><td>3672856</td><td>44.0</td><td>Alberta Freund_Claude Panos@MVC.com</td><td>0.44</td><td>Nigeria</td></tr><tr><td>28</td><td>Male</td><td>Jalisa Swenson</td><td>PF</td><td>3681989</td><td>98.0</td><td>Toshiko Hillyard_Ernest Rossbach@DB.com</td><td>0.98</td><td>Nigeria</td></tr><tr><td>28</td><td>Female</td><td>Leontine Phillips</td><td>PF</td><td>3691377</td><td>38.0</td><td>Tamera Blakley_Alberta Freund@Cloud.com</td><td>0.38</td><td>Nigeria</td></tr><tr><td>29</td><td>Male</td><td>Marylee Capasso</td><td>MVC</td><td>3702018</td><td>98.0</td><td>Somer Stoecker_Latia Vanhoose@Cloud.com</td><td>0.98</td><td>Nigeria</td></tr><tr><td>29</td><td>Female</td><td>Bonita Higuera</td><td>Cloud</td><td>3711664</td><td>45.0</td><td>Sheryll Towler_Kizzy Brenner@OOP.com</td><td>0.45</td><td>Nigeria</td></tr><tr><td>28</td><td>Male</td><td>Jenna Montague</td><td>DSA</td><td>3721359</td><td>106.0</td><td>Naoma Fritts_Kizzy Brenner@MVC.com</td><td>1.06</td><td>Nigeria</td></tr><tr><td>28</td><td>Female</td><td>Gonzalo Ferebee</td><td>MVC</td><td>3732535</td><td>74.0</td><td>Somer Stoecker_Ernest Rossbach@DB.com</td><td>0.74</td><td>Nigeria</td></tr><tr><td>28</td><td>Male</td><td>Niki Klimek</td><td>OOP</td><td>3742031</td><td>92.0</td><td>Leontine Phillips_Toshiko Hillyard@Cloud.com</td><td>0.92</td><td>Nigeria</td></tr><tr><td>28</td><td>Male</td><td>Claude Panos</td><td>DB</td><td>3752819</td><td>88.0</td><td>Toshiko Hillyard_Mickey Cortright@DB.com</td><td>0.88</td><td>Nigeria</td></tr><tr><td>29</td><td>Male</td><td>Priscila Tavernier</td><td>PF</td><td>3762231</td><td>97.0</td><td>Celeste Lollis_Loris Crossett@Cloud.com</td><td>0.97</td><td>Nigeria</td></tr><tr><td>29</td><td>Female</td><td>Margene Moores</td><td>PF</td><td>3772294</td><td>39.0</td><td>Melani Engberg_Kizzy Brenner@PF.com</td><td>0.39</td><td>Nigeria</td></tr><tr><td>28</td><td>Male</td><td>Abram Nagao</td><td>DSA</td><td>3781521</td><td>55.0</td><td>Taryn Brownlee_Michelle Ruggiero@OOP.com</td><td>0.55</td><td>Nigeria</td></tr><tr><td>28</td><td>Male</td><td>Maybell Duguay</td><td>Cloud</td><td>3791855</td><td>43.0</td><td>Tijuana Kropf_Lawanda Wohlwend@PF.com</td><td>0.43</td><td>Nigeria</td></tr><tr><td>28</td><td>Male</td><td>Bonita Higuera</td><td>DB</td><td>3802569</td><td>87.0</td><td>Kena Wild_Kena Wild@OOP.com</td><td>0.87</td><td>Nigeria</td></tr><tr><td>28</td><td>Female</td><td>Gonzalo Ferebee</td><td>DSA</td><td>3811667</td><td>76.0</td><td>Neda Briski_Abram Nagao@OOP.com</td><td>0.76</td><td>Nigeria</td></tr><tr><td>29</td><td>Male</td><td>Tijuana Kropf</td><td>DB</td><td>3821650</td><td>70.0</td><td>Maybell Duguay_Donna Yerby@MVC.com</td><td>0.7</td><td>Nigeria</td></tr><tr><td>28</td><td>Male</td><td>Eda Neathery</td><td>Cloud</td><td>3831006</td><td>85.0</td><td>Donna Yerby_Loris Crossett@DSA.com</td><td>0.85</td><td>Nigeria</td></tr><tr><td>29</td><td>Female</td><td>Latia Vanhoose</td><td>OOP</td><td>3841395</td><td>36.0</td><td>Kizzy Brenner_Eda Neathery@Cloud.com</td><td>0.36</td><td>Nigeria</td></tr><tr><td>29</td><td>Female</td><td>Judie Chipps</td><td>DSA</td><td>3852601</td><td>102.0</td><td>Donna Yerby_Margene Moores@OOP.com</td><td>1.02</td><td>Nigeria</td></tr><tr><td>28</td><td>Female</td><td>Loris Crossett</td><td>PF</td><td>3861248</td><td>104.0</td><td>Dustin Feagins_Cheri Kenney@Cloud.com</td><td>1.04</td><td>Nigeria</td></tr><tr><td>29</td><td>Female</td><td>Donna Yerby</td><td>DSA</td><td>3872735</td><td>81.0</td><td>Eda Neathery_Latia Vanhoose@Cloud.com</td><td>0.81</td><td>Nigeria</td></tr><tr><td>29</td><td>Female</td><td>Paris Hutton</td><td>Cloud</td><td>3882188</td><td>98.0</td><td>Claude Panos_Loris Crossett@DB.com</td><td>0.98</td><td>Nigeria</td></tr><tr><td>29</td><td>Male</td><td>Jc Andrepont</td><td>MVC</td><td>3892788</td><td>104.0</td><td>Alberta Freund_Eda Neathery@DSA.com</td><td>1.04</td><td>Nigeria</td></tr><tr><td>29</td><td>Female</td><td>Priscila Tavernier</td><td>OOP</td><td>3902993</td><td>109.0</td><td>Celeste Lollis_Billi Clore@DB.com</td><td>1.09</td><td>Nigeria</td></tr><tr><td>29</td><td>Female</td><td>Tamera Blakley</td><td>DSA</td><td>3911247</td><td>30.0</td><td>Donna Yerby_Bonita Higuera@DB.com</td><td>0.3</td><td>Nigeria</td></tr><tr><td>29</td><td>Male</td><td>Dustin Feagins</td><td>PF</td><td>3921585</td><td>42.0</td><td>Dustin Feagins_Jalisa Swenson@OOP.com</td><td>0.42</td><td>Nigeria</td></tr><tr><td>28</td><td>Female</td><td>Santa Kerfien</td><td>OOP</td><td>3931948</td><td>34.0</td><td>Jeannetta Golden_Jenna Montague@DSA.com</td><td>0.34</td><td>Nigeria</td></tr><tr><td>29</td><td>Male</td><td>Margene Moores</td><td>DSA</td><td>3942449</td><td>32.0</td><td>Tijuana Kropf_Naoma Fritts@DSA.com</td><td>0.32</td><td>Nigeria</td></tr><tr><td>29</td><td>Female</td><td>Ernest Rossbach</td><td>DSA</td><td>3951575</td><td>84.0</td><td>Marylee Capasso_Kizzy Brenner@PF.com</td><td>0.84</td><td>Nigeria</td></tr><tr><td>28</td><td>Male</td><td>Santa Kerfien</td><td>PF</td><td>3961803</td><td>104.0</td><td>Jeannetta Golden_Latia Vanhoose@PF.com</td><td>1.04</td><td>Nigeria</td></tr><tr><td>29</td><td>Male</td><td>Jalisa Swenson</td><td>OOP</td><td>3972823</td><td>102.0</td><td>Tamera Blakley_Elenore Choy@Cloud.com</td><td>1.02</td><td>Nigeria</td></tr><tr><td>29</td><td>Female</td><td>Clementina Menke</td><td>DSA</td><td>3982381</td><td>108.0</td><td>Tamera Blakley_Kizzy Brenner@OOP.com</td><td>1.08</td><td>Nigeria</td></tr><tr><td>28</td><td>Male</td><td>Cordie Harnois</td><td>PF</td><td>3991186</td><td>79.0</td><td>Loris Crossett_Somer Stoecker@PF.com</td><td>0.79</td><td>Nigeria</td></tr><tr><td>29</td><td>Male</td><td>Bonita Higuera</td><td>Cloud</td><td>4001493</td><td>46.0</td><td>Priscila Tavernier_Niki Klimek@PF.com</td><td>0.46</td><td>Nigeria</td></tr><tr><td>29</td><td>Female</td><td>Annika Hoffman</td><td>Cloud</td><td>4012967</td><td>75.0</td><td>Santa Kerfien_Elenore Choy@OOP.com</td><td>0.75</td><td>Nigeria</td></tr><tr><td>28</td><td>Male</td><td>Jeannetta Golden</td><td>PF</td><td>4021336</td><td>73.0</td><td>Latia Vanhoose_Loris Crossett@PF.com</td><td>0.73</td><td>Nigeria</td></tr><tr><td>29</td><td>Female</td><td>Toshiko Hillyard</td><td>PF</td><td>4032043</td><td>38.0</td><td>Naoma Fritts_Cheri Kenney@DB.com</td><td>0.38</td><td>Nigeria</td></tr><tr><td>29</td><td>Male</td><td>Sheryll Towler</td><td>MVC</td><td>4041358</td><td>44.0</td><td>Sheryll Towler_Claude Panos@DSA.com</td><td>0.44</td><td>Nigeria</td></tr><tr><td>28</td><td>Female</td><td>Alberta Freund</td><td>OOP</td><td>4052753</td><td>52.0</td><td>Marylee Capasso_Jenna Montague@OOP.com</td><td>0.52</td><td>Nigeria</td></tr><tr><td>29</td><td>Female</td><td>Taryn Brownlee</td><td>PF</td><td>4062876</td><td>77.0</td><td>Claude Panos_Niki Klimek@OOP.com</td><td>0.77</td><td>Nigeria</td></tr><tr><td>28</td><td>Male</td><td>Margene Moores</td><td>DSA</td><td>4071164</td><td>52.0</td><td>Billi Clore_Lawanda Wohlwend@DB.com</td><td>0.52</td><td>Nigeria</td></tr><tr><td>29</td><td>Male</td><td>Ernest Rossbach</td><td>DB</td><td>4081940</td><td>51.0</td><td>Tamera Blakley_Abram Nagao@MVC.com</td><td>0.51</td><td>Nigeria</td></tr><tr><td>28</td><td>Female</td><td>Jenna Montague</td><td>PF</td><td>4092419</td><td>64.0</td><td>Donna Yerby_Taryn Brownlee@MVC.com</td><td>0.64</td><td>Nigeria</td></tr><tr><td>28</td><td>Female</td><td>Elenore Choy</td><td>OOP</td><td>4102729</td><td>45.0</td><td>Jenna Montague_Bonita Higuera@DB.com</td><td>0.45</td><td>Nigeria</td></tr><tr><td>29</td><td>Male</td><td>Maybell Duguay</td><td>Cloud</td><td>4112714</td><td>64.0</td><td>Cordie Harnois_Mitzi Seldon@DB.com</td><td>0.64</td><td>Nigeria</td></tr><tr><td>29</td><td>Female</td><td>Leontine Phillips</td><td>PF</td><td>4122317</td><td>41.0</td><td>Hubert Oliveras_Lawanda Wohlwend@PF.com</td><td>0.41</td><td>Nigeria</td></tr><tr><td>28</td><td>Female</td><td>Mickey Cortright</td><td>OOP</td><td>4132027</td><td>59.0</td><td>Santa Kerfien_Nicole Harwood@DSA.com</td><td>0.59</td><td>Nigeria</td></tr><tr><td>28</td><td>Male</td><td>Paris Hutton</td><td>OOP</td><td>4141149</td><td>92.0</td><td>Maybell Duguay_Marylee Capasso@DB.com</td><td>0.92</td><td>Nigeria</td></tr><tr><td>29</td><td>Female</td><td>Alberta Freund</td><td>DSA</td><td>4152288</td><td>88.0</td><td>Elenore Choy_Lawanda Wohlwend@MVC.com</td><td>0.88</td><td>Nigeria</td></tr><tr><td>28</td><td>Female</td><td>Annika Hoffman</td><td>DSA</td><td>4162718</td><td>73.0</td><td>Gonzalo Ferebee_Billi Clore@PF.com</td><td>0.73</td><td>Nigeria</td></tr><tr><td>28</td><td>Female</td><td>Jc Andrepont</td><td>Cloud</td><td>4171613</td><td>75.0</td><td>Somer Stoecker_Paris Hutton@Cloud.com</td><td>0.75</td><td>Nigeria</td></tr><tr><td>29</td><td>Female</td><td>Ernest Rossbach</td><td>Cloud</td><td>4182371</td><td>49.0</td><td>Jalisa Swenson_Cheri Kenney@DSA.com</td><td>0.49</td><td>Nigeria</td></tr><tr><td>29</td><td>Male</td><td>Anna Santos</td><td>DB</td><td>4192955</td><td>59.0</td><td>Clementina Menke_Judie Chipps@Cloud.com</td><td>0.59</td><td>Nigeria</td></tr><tr><td>28</td><td>Male</td><td>Celeste Lollis</td><td>DSA</td><td>4201845</td><td>56.0</td><td>Gonzalo Ferebee_Clementina Menke@MVC.com</td><td>0.56</td><td>Nigeria</td></tr><tr><td>28</td><td>Female</td><td>Tamera Blakley</td><td>MVC</td><td>4212111</td><td>89.0</td><td>Clementina Menke_Elenore Choy@PF.com</td><td>0.89</td><td>Nigeria</td></tr><tr><td>29</td><td>Male</td><td>Michelle Ruggiero</td><td>OOP</td><td>4222829</td><td>106.0</td><td>Kena Wild_Jalisa Swenson@Cloud.com</td><td>1.06</td><td>Nigeria</td></tr><tr><td>29</td><td>Male</td><td>Clementina Menke</td><td>DSA</td><td>4231581</td><td>76.0</td><td>Annika Hoffman_Tamera Blakley@DSA.com</td><td>0.76</td><td>Nigeria</td></tr><tr><td>28</td><td>Female</td><td>Michelle Ruggiero</td><td>DSA</td><td>4242536</td><td>51.0</td><td>Alberta Freund_Billi Clore@DSA.com</td><td>0.51</td><td>Nigeria</td></tr><tr><td>29</td><td>Female</td><td>Claude Panos</td><td>Cloud</td><td>4251762</td><td>60.0</td><td>Gonzalo Ferebee_Eda Neathery@OOP.com</td><td>0.6</td><td>Nigeria</td></tr><tr><td>28</td><td>Female</td><td>Mickey Cortright</td><td>OOP</td><td>4261803</td><td>80.0</td><td>Leontine Phillips_Melani Engberg@Cloud.com</td><td>0.8</td><td>Nigeria</td></tr><tr><td>28</td><td>Female</td><td>Bonita Higuera</td><td>Cloud</td><td>4271366</td><td>67.0</td><td>Elenore Choy_Gonzalo Ferebee@DB.com</td><td>0.67</td><td>Nigeria</td></tr><tr><td>29</td><td>Male</td><td>Hubert Oliveras</td><td>Cloud</td><td>4282001</td><td>80.0</td><td>Billi Clore_Elenore Choy@Cloud.com</td><td>0.8</td><td>Nigeria</td></tr><tr><td>29</td><td>Male</td><td>Elenore Choy</td><td>DB</td><td>4291907</td><td>101.0</td><td>Hubert Oliveras_Tamera Blakley@OOP.com</td><td>1.01</td><td>Nigeria</td></tr><tr><td>28</td><td>Female</td><td>Clementina Menke</td><td>OOP</td><td>4301606</td><td>87.0</td><td>Naoma Fritts_Leontine Phillips@MVC.com</td><td>0.87</td><td>Nigeria</td></tr><tr><td>28</td><td>Male</td><td>Santa Kerfien</td><td>DB</td><td>4311493</td><td>100.0</td><td>Tijuana Kropf_Anna Santos@PF.com</td><td>1.0</td><td>Nigeria</td></tr><tr><td>29</td><td>Female</td><td>Mitzi Seldon</td><td>Cloud</td><td>4321178</td><td>87.0</td><td>Kena Wild_Annika Hoffman@PF.com</td><td>0.87</td><td>Nigeria</td></tr><tr><td>29</td><td>Female</td><td>Kizzy Brenner</td><td>PF</td><td>4331609</td><td>79.0</td><td>Taryn Brownlee_Paris Hutton@DSA.com</td><td>0.79</td><td>Nigeria</td></tr><tr><td>28</td><td>Male</td><td>Clementina Menke</td><td>PF</td><td>4341575</td><td>99.0</td><td>Cordie Harnois_Marylee Capasso@DB.com</td><td>0.99</td><td>Nigeria</td></tr><tr><td>29</td><td>Male</td><td>Billi Clore</td><td>Cloud</td><td>4351588</td><td>86.0</td><td>Loris Crossett_Gonzalo Ferebee@DB.com</td><td>0.86</td><td>Nigeria</td></tr><tr><td>29</td><td>Female</td><td>Niki Klimek</td><td>DSA</td><td>4362808</td><td>79.0</td><td>Lawanda Wohlwend_Billi Clore@Cloud.com</td><td>0.79</td><td>Nigeria</td></tr><tr><td>29</td><td>Male</td><td>Celeste Lollis</td><td>PF</td><td>4372710</td><td>73.0</td><td>Latia Vanhoose_Loris Crossett@MVC.com</td><td>0.73</td><td>Nigeria</td></tr><tr><td>28</td><td>Male</td><td>Toshiko Hillyard</td><td>Cloud</td><td>4381862</td><td>65.0</td><td>Anna Santos_Melani Engberg@MVC.com</td><td>0.65</td><td>Nigeria</td></tr><tr><td>28</td><td>Female</td><td>Donna Yerby</td><td>Cloud</td><td>4392575</td><td>32.0</td><td>Leontine Phillips_Jenna Montague@DSA.com</td><td>0.32</td><td>Nigeria</td></tr><tr><td>29</td><td>Male</td><td>Margene Moores</td><td>OOP</td><td>4401841</td><td>55.0</td><td>Naoma Fritts_Eda Neathery@Cloud.com</td><td>0.55</td><td>Nigeria</td></tr><tr><td>29</td><td>Male</td><td>Ernest Rossbach</td><td>DB</td><td>4411585</td><td>60.0</td><td>Marylee Capasso_Lawanda Wohlwend@Cloud.com</td><td>0.6</td><td>Nigeria</td></tr><tr><td>28</td><td>Female</td><td>Paris Hutton</td><td>PF</td><td>4421530</td><td>99.0</td><td>Sebrina Maresca_Latia Vanhoose@MVC.com</td><td>0.99</td><td>Nigeria</td></tr><tr><td>28</td><td>Female</td><td>Kena Wild</td><td>DB</td><td>4431030</td><td>69.0</td><td>Paris Hutton_Cheri Kenney@Cloud.com</td><td>0.69</td><td>Nigeria</td></tr><tr><td>29</td><td>Male</td><td>Maybell Duguay</td><td>DSA</td><td>4441473</td><td>33.0</td><td>Billi Clore_Clementina Menke@OOP.com</td><td>0.33</td><td>Nigeria</td></tr><tr><td>29</td><td>Male</td><td>Cheri Kenney</td><td>Cloud</td><td>4451117</td><td>83.0</td><td>Jenna Montague_Kena Wild@Cloud.com</td><td>0.83</td><td>Nigeria</td></tr><tr><td>28</td><td>Female</td><td>Kizzy Brenner</td><td>Cloud</td><td>4462249</td><td>103.0</td><td>Naoma Fritts_Taryn Brownlee@PF.com</td><td>1.03</td><td>Nigeria</td></tr><tr><td>28</td><td>Female</td><td>Jeannetta Golden</td><td>Cloud</td><td>4472760</td><td>89.0</td><td>Clementina Menke_Tamera Blakley@OOP.com</td><td>0.89</td><td>Nigeria</td></tr><tr><td>28</td><td>Female</td><td>Mitzi Seldon</td><td>DSA</td><td>4481503</td><td>91.0</td><td>Jc Andrepont_Claude Panos@DB.com</td><td>0.91</td><td>Nigeria</td></tr><tr><td>29</td><td>Male</td><td>Paris Hutton</td><td>DB</td><td>4492478</td><td>94.0</td><td>Paris Hutton_Jenna Montague@PF.com</td><td>0.94</td><td>Nigeria</td></tr><tr><td>29</td><td>Female</td><td>Alberta Freund</td><td>OOP</td><td>4501424</td><td>31.0</td><td>Toshiko Hillyard_Celeste Lollis@MVC.com</td><td>0.31</td><td>Nigeria</td></tr><tr><td>29</td><td>Male</td><td>Melani Engberg</td><td>MVC</td><td>4511004</td><td>81.0</td><td>Nicole Harwood_Melani Engberg@Cloud.com</td><td>0.81</td><td>Nigeria</td></tr><tr><td>28</td><td>Female</td><td>Margene Moores</td><td>MVC</td><td>4521977</td><td>71.0</td><td>Jeannetta Golden_Jc Andrepont@MVC.com</td><td>0.71</td><td>Nigeria</td></tr><tr><td>29</td><td>Male</td><td>Abram Nagao</td><td>Cloud</td><td>4531204</td><td>60.0</td><td>Loris Crossett_Sebrina Maresca@DB.com</td><td>0.6</td><td>Nigeria</td></tr><tr><td>29</td><td>Male</td><td>Judie Chipps</td><td>DB</td><td>4542925</td><td>49.0</td><td>Jenna Montague_Priscila Tavernier@PF.com</td><td>0.49</td><td>Nigeria</td></tr><tr><td>29</td><td>Female</td><td>Ernest Rossbach</td><td>DSA</td><td>4551917</td><td>89.0</td><td>Somer Stoecker_Eda Neathery@PF.com</td><td>0.89</td><td>Nigeria</td></tr><tr><td>29</td><td>Female</td><td>Nicole Harwood</td><td>DSA</td><td>4562217</td><td>50.0</td><td>Anna Santos_Cheri Kenney@OOP.com</td><td>0.5</td><td>Nigeria</td></tr><tr><td>29</td><td>Female</td><td>Sheryll Towler</td><td>DB</td><td>4571866</td><td>77.0</td><td>Leontine Phillips_Kizzy Brenner@Cloud.com</td><td>0.77</td><td>Nigeria</td></tr><tr><td>29</td><td>Female</td><td>Naoma Fritts</td><td>DSA</td><td>4582052</td><td>33.0</td><td>Kena Wild_Jenna Montague@DSA.com</td><td>0.33</td><td>Nigeria</td></tr><tr><td>29</td><td>Female</td><td>Cheri Kenney</td><td>PF</td><td>4591235</td><td>76.0</td><td>Annika Hoffman_Annika Hoffman@OOP.com</td><td>0.76</td><td>Nigeria</td></tr><tr><td>28</td><td>Female</td><td>Celeste Lollis</td><td>OOP</td><td>4602002</td><td>71.0</td><td>Nicole Harwood_Abram Nagao@MVC.com</td><td>0.71</td><td>Nigeria</td></tr><tr><td>28</td><td>Female</td><td>Judie Chipps</td><td>Cloud</td><td>4612245</td><td>36.0</td><td>Somer Stoecker_Naoma Fritts@Cloud.com</td><td>0.36</td><td>Nigeria</td></tr><tr><td>28</td><td>Male</td><td>Kizzy Brenner</td><td>Cloud</td><td>4622328</td><td>31.0</td><td>Leontine Phillips_Marylee Capasso@PF.com</td><td>0.31</td><td>Nigeria</td></tr><tr><td>28</td><td>Female</td><td>Judie Chipps</td><td>DSA</td><td>4631068</td><td>108.0</td><td>Toshiko Hillyard_Abram Nagao@MVC.com</td><td>1.08</td><td>Nigeria</td></tr><tr><td>28</td><td>Male</td><td>Marylee Capasso</td><td>PF</td><td>4642202</td><td>104.0</td><td>Marylee Capasso_Elenore Choy@Cloud.com</td><td>1.04</td><td>Nigeria</td></tr><tr><td>28</td><td>Male</td><td>Eda Neathery</td><td>DB</td><td>4651622</td><td>53.0</td><td>Priscila Tavernier_Hubert Oliveras@DSA.com</td><td>0.53</td><td>Nigeria</td></tr><tr><td>29</td><td>Male</td><td>Latia Vanhoose</td><td>Cloud</td><td>4661276</td><td>50.0</td><td>Jc Andrepont_Annika Hoffman@DB.com</td><td>0.5</td><td>Nigeria</td></tr><tr><td>29</td><td>Male</td><td>Kizzy Brenner</td><td>Cloud</td><td>4671045</td><td>91.0</td><td>Lawanda Wohlwend_Judie Chipps@OOP.com</td><td>0.91</td><td>Nigeria</td></tr><tr><td>28</td><td>Male</td><td>Elenore Choy</td><td>MVC</td><td>4681842</td><td>98.0</td><td>Paris Hutton_Toshiko Hillyard@DB.com</td><td>0.98</td><td>Nigeria</td></tr><tr><td>29</td><td>Male</td><td>Dustin Feagins</td><td>MVC</td><td>4692399</td><td>42.0</td><td>Gonzalo Ferebee_Somer Stoecker@OOP.com</td><td>0.42</td><td>Nigeria</td></tr><tr><td>28</td><td>Female</td><td>Claude Panos</td><td>DB</td><td>4701534</td><td>57.0</td><td>Somer Stoecker_Naoma Fritts@DSA.com</td><td>0.57</td><td>Nigeria</td></tr><tr><td>28</td><td>Female</td><td>Elenore Choy</td><td>Cloud</td><td>4711825</td><td>64.0</td><td>Alberta Freund_Tijuana Kropf@DSA.com</td><td>0.64</td><td>Nigeria</td></tr><tr><td>28</td><td>Female</td><td>Mitzi Seldon</td><td>OOP</td><td>4722700</td><td>57.0</td><td>Naoma Fritts_Ernest Rossbach@DB.com</td><td>0.57</td><td>Nigeria</td></tr><tr><td>28</td><td>Female</td><td>Tijuana Kropf</td><td>DSA</td><td>4732921</td><td>62.0</td><td>Jenna Montague_Gonzalo Ferebee@DB.com</td><td>0.62</td><td>Nigeria</td></tr><tr><td>29</td><td>Male</td><td>Judie Chipps</td><td>OOP</td><td>4742632</td><td>104.0</td><td>Judie Chipps_Kena Wild@OOP.com</td><td>1.04</td><td>Nigeria</td></tr><tr><td>29</td><td>Male</td><td>Jalisa Swenson</td><td>OOP</td><td>4751515</td><td>30.0</td><td>Annika Hoffman_Hubert Oliveras@Cloud.com</td><td>0.3</td><td>Nigeria</td></tr><tr><td>29</td><td>Male</td><td>Marylee Capasso</td><td>MVC</td><td>4762368</td><td>90.0</td><td>Sebrina Maresca_Annika Hoffman@Cloud.com</td><td>0.9</td><td>Nigeria</td></tr><tr><td>28</td><td>Female</td><td>Niki Klimek</td><td>DSA</td><td>4772918</td><td>61.0</td><td>Loris Crossett_Leontine Phillips@MVC.com</td><td>0.61</td><td>Nigeria</td></tr><tr><td>28</td><td>Female</td><td>Priscila Tavernier</td><td>OOP</td><td>4781044</td><td>46.0</td><td>Dustin Feagins_Naoma Fritts@OOP.com</td><td>0.46</td><td>Nigeria</td></tr><tr><td>28</td><td>Female</td><td>Latia Vanhoose</td><td>OOP</td><td>4792828</td><td>82.0</td><td>Tamera Blakley_Mitzi Seldon@DSA.com</td><td>0.82</td><td>Nigeria</td></tr><tr><td>28</td><td>Male</td><td>Alberta Freund</td><td>DB</td><td>4802967</td><td>90.0</td><td>Naoma Fritts_Elenore Choy@DSA.com</td><td>0.9</td><td>Nigeria</td></tr><tr><td>28</td><td>Female</td><td>Santa Kerfien</td><td>DB</td><td>4811069</td><td>95.0</td><td>Dustin Feagins_Maybell Duguay@MVC.com</td><td>0.95</td><td>Nigeria</td></tr><tr><td>29</td><td>Male</td><td>Jalisa Swenson</td><td>OOP</td><td>4822653</td><td>80.0</td><td>Anna Santos_Abram Nagao@MVC.com</td><td>0.8</td><td>Nigeria</td></tr><tr><td>29</td><td>Male</td><td>Elenore Choy</td><td>DSA</td><td>4831059</td><td>34.0</td><td>Abram Nagao_Kena Wild@Cloud.com</td><td>0.34</td><td>Nigeria</td></tr><tr><td>28</td><td>Male</td><td>Cheri Kenney</td><td>PF</td><td>4841631</td><td>94.0</td><td>Abram Nagao_Naoma Fritts@MVC.com</td><td>0.94</td><td>Nigeria</td></tr><tr><td>29</td><td>Female</td><td>Lawanda Wohlwend</td><td>DSA</td><td>4851930</td><td>74.0</td><td>Jeannetta Golden_Sheryll Towler@OOP.com</td><td>0.74</td><td>Nigeria</td></tr><tr><td>28</td><td>Male</td><td>Cheri Kenney</td><td>OOP</td><td>4862694</td><td>78.0</td><td>Leontine Phillips_Taryn Brownlee@DB.com</td><td>0.78</td><td>Nigeria</td></tr><tr><td>28</td><td>Female</td><td>Jeannetta Golden</td><td>OOP</td><td>4872604</td><td>68.0</td><td>Somer Stoecker_Celeste Lollis@MVC.com</td><td>0.68</td><td>Nigeria</td></tr><tr><td>28</td><td>Female</td><td>Billi Clore</td><td>DSA</td><td>4881063</td><td>96.0</td><td>Eda Neathery_Cordie Harnois@MVC.com</td><td>0.96</td><td>Nigeria</td></tr><tr><td>28</td><td>Male</td><td>Clementina Menke</td><td>DSA</td><td>4891815</td><td>54.0</td><td>Kena Wild_Judie Chipps@PF.com</td><td>0.54</td><td>Nigeria</td></tr><tr><td>29</td><td>Male</td><td>Anna Santos</td><td>MVC</td><td>4901235</td><td>87.0</td><td>Gonzalo Ferebee_Sebrina Maresca@DB.com</td><td>0.87</td><td>Nigeria</td></tr><tr><td>29</td><td>Male</td><td>Elenore Choy</td><td>DSA</td><td>4911667</td><td>62.0</td><td>Priscila Tavernier_Sheryll Towler@PF.com</td><td>0.62</td><td>Nigeria</td></tr><tr><td>29</td><td>Female</td><td>Mitzi Seldon</td><td>DB</td><td>4922367</td><td>74.0</td><td>Annika Hoffman_Annika Hoffman@MVC.com</td><td>0.74</td><td>Nigeria</td></tr><tr><td>28</td><td>Male</td><td>Santa Kerfien</td><td>DB</td><td>4932764</td><td>86.0</td><td>Nicole Harwood_Loris Crossett@PF.com</td><td>0.86</td><td>Nigeria</td></tr><tr><td>28</td><td>Male</td><td>Mitzi Seldon</td><td>MVC</td><td>4942910</td><td>101.0</td><td>Tamera Blakley_Jenna Montague@DSA.com</td><td>1.01</td><td>Nigeria</td></tr><tr><td>29</td><td>Female</td><td>Dustin Feagins</td><td>Cloud</td><td>4952697</td><td>56.0</td><td>Annika Hoffman_Elenore Choy@MVC.com</td><td>0.56</td><td>Nigeria</td></tr><tr><td>29</td><td>Female</td><td>Paris Hutton</td><td>OOP</td><td>4962584</td><td>47.0</td><td>Anna Santos_Alberta Freund@DB.com</td><td>0.47</td><td>Nigeria</td></tr><tr><td>28</td><td>Female</td><td>Santa Kerfien</td><td>DB</td><td>4971408</td><td>50.0</td><td>Mitzi Seldon_Naoma Fritts@PF.com</td><td>0.5</td><td>Nigeria</td></tr><tr><td>28</td><td>Female</td><td>Toshiko Hillyard</td><td>Cloud</td><td>4982864</td><td>56.0</td><td>Michelle Ruggiero_Cordie Harnois@DB.com</td><td>0.56</td><td>Nigeria</td></tr><tr><td>28</td><td>Female</td><td>Donna Yerby</td><td>DB</td><td>4991657</td><td>63.0</td><td>Ernest Rossbach_Somer Stoecker@DSA.com</td><td>0.63</td><td>Nigeria</td></tr><tr><td>28</td><td>Female</td><td>Kena Wild</td><td>DB</td><td>5001412</td><td>63.0</td><td>Annika Hoffman_Jalisa Swenson@PF.com</td><td>0.63</td><td>Nigeria</td></tr><tr><td>29</td><td>Male</td><td>Jc Andrepont</td><td>DB</td><td>5012482</td><td>70.0</td><td>Jalisa Swenson_Somer Stoecker@Cloud.com</td><td>0.7</td><td>Nigeria</td></tr><tr><td>29</td><td>Male</td><td>Abram Nagao</td><td>DSA</td><td>5022738</td><td>52.0</td><td>Margene Moores_Latia Vanhoose@OOP.com</td><td>0.52</td><td>Nigeria</td></tr><tr><td>29</td><td>Female</td><td>Alberta Freund</td><td>OOP</td><td>5032356</td><td>76.0</td><td>Paris Hutton_Gonzalo Ferebee@MVC.com</td><td>0.76</td><td>Nigeria</td></tr><tr><td>29</td><td>Male</td><td>Sebrina Maresca</td><td>Cloud</td><td>5042394</td><td>31.0</td><td>Donna Yerby_Michelle Ruggiero@PF.com</td><td>0.31</td><td>Nigeria</td></tr><tr><td>29</td><td>Male</td><td>Jeannetta Golden</td><td>PF</td><td>5051485</td><td>85.0</td><td>Neda Briski_Annika Hoffman@Cloud.com</td><td>0.85</td><td>Nigeria</td></tr><tr><td>29</td><td>Male</td><td>Jalisa Swenson</td><td>OOP</td><td>5061737</td><td>94.0</td><td>Somer Stoecker_Latia Vanhoose@MVC.com</td><td>0.94</td><td>Nigeria</td></tr><tr><td>28</td><td>Male</td><td>Gonzalo Ferebee</td><td>MVC</td><td>5071004</td><td>82.0</td><td>Mitzi Seldon_Taryn Brownlee@DSA.com</td><td>0.82</td><td>Nigeria</td></tr><tr><td>28</td><td>Male</td><td>Eda Neathery</td><td>PF</td><td>5082430</td><td>32.0</td><td>Leontine Phillips_Lawanda Wohlwend@MVC.com</td><td>0.32</td><td>Nigeria</td></tr><tr><td>28</td><td>Male</td><td>Tijuana Kropf</td><td>DSA</td><td>5092243</td><td>95.0</td><td>Jenna Montague_Loris Crossett@OOP.com</td><td>0.95</td><td>Nigeria</td></tr><tr><td>29</td><td>Female</td><td>Leontine Phillips</td><td>OOP</td><td>5102782</td><td>96.0</td><td>Lawanda Wohlwend_Mitzi Seldon@Cloud.com</td><td>0.96</td><td>Nigeria</td></tr><tr><td>29</td><td>Male</td><td>Alberta Freund</td><td>PF</td><td>5112625</td><td>78.0</td><td>Abram Nagao_Celeste Lollis@DSA.com</td><td>0.78</td><td>Nigeria</td></tr><tr><td>29</td><td>Female</td><td>Niki Klimek</td><td>MVC</td><td>5122968</td><td>52.0</td><td>Jenna Montague_Hubert Oliveras@MVC.com</td><td>0.52</td><td>Nigeria</td></tr><tr><td>28</td><td>Female</td><td>Neda Briski</td><td>Cloud</td><td>5131604</td><td>68.0</td><td>Mickey Cortright_Niki Klimek@DB.com</td><td>0.68</td><td>Nigeria</td></tr><tr><td>29</td><td>Female</td><td>Anna Santos</td><td>DB</td><td>5142808</td><td>91.0</td><td>Donna Yerby_Naoma Fritts@DB.com</td><td>0.91</td><td>Nigeria</td></tr><tr><td>29</td><td>Male</td><td>Gonzalo Ferebee</td><td>Cloud</td><td>5151742</td><td>56.0</td><td>Jeannetta Golden_Ernest Rossbach@DSA.com</td><td>0.56</td><td>Nigeria</td></tr><tr><td>29</td><td>Male</td><td>Mickey Cortright</td><td>MVC</td><td>5162191</td><td>38.0</td><td>Eda Neathery_Tijuana Kropf@DB.com</td><td>0.38</td><td>Nigeria</td></tr><tr><td>28</td><td>Male</td><td>Niki Klimek</td><td>DSA</td><td>5172507</td><td>109.0</td><td>Marylee Capasso_Elenore Choy@MVC.com</td><td>1.09</td><td>Nigeria</td></tr><tr><td>29</td><td>Male</td><td>Elenore Choy</td><td>PF</td><td>5181004</td><td>68.0</td><td>Jc Andrepont_Loris Crossett@OOP.com</td><td>0.68</td><td>Nigeria</td></tr><tr><td>29</td><td>Male</td><td>Loris Crossett</td><td>MVC</td><td>5192208</td><td>88.0</td><td>Tamera Blakley_Abram Nagao@DB.com</td><td>0.88</td><td>Nigeria</td></tr><tr><td>28</td><td>Male</td><td>Jc Andrepont</td><td>Cloud</td><td>5202136</td><td>107.0</td><td>Jc Andrepont_Kena Wild@PF.com</td><td>1.07</td><td>Nigeria</td></tr><tr><td>29</td><td>Female</td><td>Marylee Capasso</td><td>PF</td><td>5212694</td><td>74.0</td><td>Loris Crossett_Niki Klimek@Cloud.com</td><td>0.74</td><td>Nigeria</td></tr><tr><td>28</td><td>Female</td><td>Latia Vanhoose</td><td>PF</td><td>5222171</td><td>83.0</td><td>Toshiko Hillyard_Mickey Cortright@Cloud.com</td><td>0.83</td><td>Nigeria</td></tr><tr><td>28</td><td>Male</td><td>Eda Neathery</td><td>MVC</td><td>5231777</td><td>66.0</td><td>Judie Chipps_Jalisa Swenson@OOP.com</td><td>0.66</td><td>Nigeria</td></tr><tr><td>28</td><td>Male</td><td>Elenore Choy</td><td>MVC</td><td>5241419</td><td>91.0</td><td>Sebrina Maresca_Taryn Brownlee@PF.com</td><td>0.91</td><td>Nigeria</td></tr><tr><td>29</td><td>Female</td><td>Marylee Capasso</td><td>OOP</td><td>5252441</td><td>57.0</td><td>Maybell Duguay_Mickey Cortright@MVC.com</td><td>0.57</td><td>Nigeria</td></tr><tr><td>28</td><td>Female</td><td>Taryn Brownlee</td><td>OOP</td><td>5262828</td><td>35.0</td><td>Elenore Choy_Gonzalo Ferebee@DB.com</td><td>0.35</td><td>Nigeria</td></tr><tr><td>28</td><td>Male</td><td>Clementina Menke</td><td>DSA</td><td>5272838</td><td>37.0</td><td>Clementina Menke_Eda Neathery@MVC.com</td><td>0.37</td><td>Nigeria</td></tr><tr><td>29</td><td>Male</td><td>Santa Kerfien</td><td>DB</td><td>5282657</td><td>91.0</td><td>Judie Chipps_Mickey Cortright@MVC.com</td><td>0.91</td><td>Nigeria</td></tr><tr><td>29</td><td>Female</td><td>Lawanda Wohlwend</td><td>OOP</td><td>5292220</td><td>56.0</td><td>Loris Crossett_Alberta Freund@MVC.com</td><td>0.56</td><td>Nigeria</td></tr><tr><td>28</td><td>Female</td><td>Abram Nagao</td><td>Cloud</td><td>5301859</td><td>60.0</td><td>Elenore Choy_Claude Panos@Cloud.com</td><td>0.6</td><td>Nigeria</td></tr><tr><td>28</td><td>Male</td><td>Taryn Brownlee</td><td>DB</td><td>5311449</td><td>35.0</td><td>Santa Kerfien_Lawanda Wohlwend@OOP.com</td><td>0.35</td><td>Nigeria</td></tr><tr><td>28</td><td>Male</td><td>Donna Yerby</td><td>DB</td><td>5321010</td><td>75.0</td><td>Jc Andrepont_Tijuana Kropf@DB.com</td><td>0.75</td><td>Nigeria</td></tr><tr><td>29</td><td>Female</td><td>Celeste Lollis</td><td>Cloud</td><td>5331415</td><td>85.0</td><td>Leontine Phillips_Kena Wild@DB.com</td><td>0.85</td><td>Nigeria</td></tr><tr><td>28</td><td>Female</td><td>Hubert Oliveras</td><td>DSA</td><td>5342918</td><td>92.0</td><td>Judie Chipps_Annika Hoffman@OOP.com</td><td>0.92</td><td>Nigeria</td></tr><tr><td>28</td><td>Male</td><td>Tamera Blakley</td><td>DSA</td><td>5352713</td><td>90.0</td><td>Jeannetta Golden_Neda Briski@Cloud.com</td><td>0.9</td><td>Nigeria</td></tr><tr><td>29</td><td>Male</td><td>Sheryll Towler</td><td>PF</td><td>5362217</td><td>46.0</td><td>Ernest Rossbach_Eda Neathery@Cloud.com</td><td>0.46</td><td>Nigeria</td></tr><tr><td>28</td><td>Female</td><td>Ernest Rossbach</td><td>PF</td><td>5372045</td><td>97.0</td><td>Maybell Duguay_Melani Engberg@PF.com</td><td>0.97</td><td>Nigeria</td></tr><tr><td>28</td><td>Male</td><td>Lawanda Wohlwend</td><td>OOP</td><td>5382684</td><td>44.0</td><td>Jc Andrepont_Kena Wild@Cloud.com</td><td>0.44</td><td>Nigeria</td></tr><tr><td>29</td><td>Male</td><td>Santa Kerfien</td><td>OOP</td><td>5391590</td><td>99.0</td><td>Somer Stoecker_Loris Crossett@DB.com</td><td>0.99</td><td>Nigeria</td></tr><tr><td>29</td><td>Female</td><td>Tamera Blakley</td><td>MVC</td><td>5401559</td><td>78.0</td><td>Alberta Freund_Jeannetta Golden@MVC.com</td><td>0.78</td><td>Nigeria</td></tr><tr><td>28</td><td>Female</td><td>Maybell Duguay</td><td>Cloud</td><td>5411090</td><td>63.0</td><td>Jeannetta Golden_Mickey Cortright@DB.com</td><td>0.63</td><td>Nigeria</td></tr><tr><td>28</td><td>Male</td><td>Jc Andrepont</td><td>DSA</td><td>5421958</td><td>43.0</td><td>Lawanda Wohlwend_Leontine Phillips@DB.com</td><td>0.43</td><td>Nigeria</td></tr><tr><td>28</td><td>Female</td><td>Somer Stoecker</td><td>DSA</td><td>5432767</td><td>105.0</td><td>Mitzi Seldon_Paris Hutton@MVC.com</td><td>1.05</td><td>Nigeria</td></tr><tr><td>29</td><td>Female</td><td>Jeannetta Golden</td><td>OOP</td><td>5442294</td><td>62.0</td><td>Elenore Choy_Sebrina Maresca@MVC.com</td><td>0.62</td><td>Nigeria</td></tr><tr><td>28</td><td>Female</td><td>Judie Chipps</td><td>OOP</td><td>5451977</td><td>109.0</td><td>Tamera Blakley_Mickey Cortright@PF.com</td><td>1.09</td><td>Nigeria</td></tr><tr><td>28</td><td>Female</td><td>Maybell Duguay</td><td>Cloud</td><td>5461402</td><td>39.0</td><td>Cheri Kenney_Annika Hoffman@Cloud.com</td><td>0.39</td><td>Nigeria</td></tr><tr><td>28</td><td>Female</td><td>Jeannetta Golden</td><td>Cloud</td><td>5472189</td><td>102.0</td><td>Naoma Fritts_Annika Hoffman@DB.com</td><td>1.02</td><td>Nigeria</td></tr><tr><td>29</td><td>Female</td><td>Lawanda Wohlwend</td><td>Cloud</td><td>5482981</td><td>47.0</td><td>Billi Clore_Eda Neathery@DB.com</td><td>0.47</td><td>Nigeria</td></tr><tr><td>29</td><td>Female</td><td>Eda Neathery</td><td>Cloud</td><td>5492989</td><td>53.0</td><td>Cordie Harnois_Latia Vanhoose@DB.com</td><td>0.53</td><td>Nigeria</td></tr><tr><td>28</td><td>Male</td><td>Anna Santos</td><td>DSA</td><td>5502368</td><td>94.0</td><td>Sebrina Maresca_Jc Andrepont@Cloud.com</td><td>0.94</td><td>Nigeria</td></tr><tr><td>28</td><td>Female</td><td>Neda Briski</td><td>MVC</td><td>5512387</td><td>64.0</td><td>Jenna Montague_Melani Engberg@Cloud.com</td><td>0.64</td><td>Nigeria</td></tr><tr><td>29</td><td>Female</td><td>Claude Panos</td><td>Cloud</td><td>5521752</td><td>104.0</td><td>Sebrina Maresca_Sheryll Towler@MVC.com</td><td>1.04</td><td>Nigeria</td></tr><tr><td>29</td><td>Female</td><td>Judie Chipps</td><td>Cloud</td><td>5532421</td><td>90.0</td><td>Sebrina Maresca_Donna Yerby@Cloud.com</td><td>0.9</td><td>Nigeria</td></tr><tr><td>29</td><td>Female</td><td>Hubert Oliveras</td><td>DSA</td><td>5542363</td><td>33.0</td><td>Priscila Tavernier_Niki Klimek@DSA.com</td><td>0.33</td><td>Nigeria</td></tr><tr><td>28</td><td>Male</td><td>Gonzalo Ferebee</td><td>PF</td><td>5552593</td><td>65.0</td><td>Jeannetta Golden_Dustin Feagins@Cloud.com</td><td>0.65</td><td>Nigeria</td></tr><tr><td>28</td><td>Female</td><td>Mickey Cortright</td><td>OOP</td><td>5561955</td><td>48.0</td><td>Jenna Montague_Hubert Oliveras@DSA.com</td><td>0.48</td><td>Nigeria</td></tr><tr><td>28</td><td>Male</td><td>Abram Nagao</td><td>OOP</td><td>5571082</td><td>95.0</td><td>Santa Kerfien_Jalisa Swenson@PF.com</td><td>0.95</td><td>Nigeria</td></tr><tr><td>29</td><td>Female</td><td>Dustin Feagins</td><td>DB</td><td>5581136</td><td>42.0</td><td>Alberta Freund_Celeste Lollis@Cloud.com</td><td>0.42</td><td>Nigeria</td></tr><tr><td>29</td><td>Male</td><td>Sheryll Towler</td><td>DSA</td><td>5591018</td><td>66.0</td><td>Tijuana Kropf_Dustin Feagins@DSA.com</td><td>0.66</td><td>Nigeria</td></tr><tr><td>28</td><td>Female</td><td>Mitzi Seldon</td><td>DB</td><td>5602986</td><td>75.0</td><td>Toshiko Hillyard_Elenore Choy@MVC.com</td><td>0.75</td><td>Nigeria</td></tr><tr><td>28</td><td>Male</td><td>Michelle Ruggiero</td><td>PF</td><td>5612879</td><td>74.0</td><td>Tijuana Kropf_Maybell Duguay@PF.com</td><td>0.74</td><td>Nigeria</td></tr><tr><td>29</td><td>Male</td><td>Margene Moores</td><td>OOP</td><td>5621072</td><td>107.0</td><td>Sheryll Towler_Margene Moores@MVC.com</td><td>1.07</td><td>Nigeria</td></tr><tr><td>29</td><td>Female</td><td>Gonzalo Ferebee</td><td>DSA</td><td>5631172</td><td>30.0</td><td>Jeannetta Golden_Hubert Oliveras@MVC.com</td><td>0.3</td><td>Nigeria</td></tr><tr><td>28</td><td>Male</td><td>Cheri Kenney</td><td>Cloud</td><td>5641528</td><td>104.0</td><td>Sebrina Maresca_Leontine Phillips@OOP.com</td><td>1.04</td><td>Nigeria</td></tr><tr><td>29</td><td>Female</td><td>Niki Klimek</td><td>DSA</td><td>5651181</td><td>48.0</td><td>Dustin Feagins_Naoma Fritts@OOP.com</td><td>0.48</td><td>Nigeria</td></tr><tr><td>28</td><td>Male</td><td>Tamera Blakley</td><td>DB</td><td>5661433</td><td>86.0</td><td>Abram Nagao_Leontine Phillips@MVC.com</td><td>0.86</td><td>Nigeria</td></tr><tr><td>28</td><td>Male</td><td>Annika Hoffman</td><td>OOP</td><td>5672977</td><td>48.0</td><td>Paris Hutton_Latia Vanhoose@DB.com</td><td>0.48</td><td>Nigeria</td></tr><tr><td>29</td><td>Male</td><td>Judie Chipps</td><td>OOP</td><td>5682469</td><td>34.0</td><td>Tamera Blakley_Maybell Duguay@DSA.com</td><td>0.34</td><td>Nigeria</td></tr><tr><td>29</td><td>Male</td><td>Cordie Harnois</td><td>PF</td><td>5691278</td><td>34.0</td><td>Paris Hutton_Hubert Oliveras@MVC.com</td><td>0.34</td><td>Nigeria</td></tr><tr><td>29</td><td>Male</td><td>Cheri Kenney</td><td>OOP</td><td>5702560</td><td>42.0</td><td>Lawanda Wohlwend_Naoma Fritts@Cloud.com</td><td>0.42</td><td>Nigeria</td></tr><tr><td>28</td><td>Female</td><td>Jalisa Swenson</td><td>MVC</td><td>5712033</td><td>109.0</td><td>Dustin Feagins_Hubert Oliveras@DSA.com</td><td>1.09</td><td>Nigeria</td></tr><tr><td>29</td><td>Male</td><td>Tamera Blakley</td><td>OOP</td><td>5722341</td><td>78.0</td><td>Jalisa Swenson_Santa Kerfien@OOP.com</td><td>0.78</td><td>Nigeria</td></tr><tr><td>29</td><td>Male</td><td>Bonita Higuera</td><td>OOP</td><td>5732408</td><td>92.0</td><td>Mitzi Seldon_Claude Panos@PF.com</td><td>0.92</td><td>Nigeria</td></tr><tr><td>28</td><td>Female</td><td>Sebrina Maresca</td><td>PF</td><td>5742239</td><td>31.0</td><td>Bonita Higuera_Sebrina Maresca@DB.com</td><td>0.31</td><td>Nigeria</td></tr><tr><td>29</td><td>Female</td><td>Leontine Phillips</td><td>OOP</td><td>5752610</td><td>40.0</td><td>Jeannetta Golden_Mitzi Seldon@MVC.com</td><td>0.4</td><td>Nigeria</td></tr><tr><td>28</td><td>Female</td><td>Sebrina Maresca</td><td>DSA</td><td>5761415</td><td>99.0</td><td>Margene Moores_Kena Wild@DSA.com</td><td>0.99</td><td>Nigeria</td></tr><tr><td>29</td><td>Male</td><td>Gonzalo Ferebee</td><td>MVC</td><td>5772006</td><td>109.0</td><td>Niki Klimek_Margene Moores@MVC.com</td><td>1.09</td><td>Nigeria</td></tr><tr><td>28</td><td>Female</td><td>Melani Engberg</td><td>Cloud</td><td>5782064</td><td>74.0</td><td>Ernest Rossbach_Ernest Rossbach@Cloud.com</td><td>0.74</td><td>Nigeria</td></tr><tr><td>28</td><td>Male</td><td>Naoma Fritts</td><td>OOP</td><td>5791890</td><td>55.0</td><td>Billi Clore_Jenna Montague@Cloud.com</td><td>0.55</td><td>Nigeria</td></tr><tr><td>28</td><td>Female</td><td>Somer Stoecker</td><td>MVC</td><td>5801302</td><td>44.0</td><td>Cheri Kenney_Bonita Higuera@OOP.com</td><td>0.44</td><td>Nigeria</td></tr><tr><td>28</td><td>Male</td><td>Mickey Cortright</td><td>PF</td><td>5812370</td><td>49.0</td><td>Jenna Montague_Sheryll Towler@OOP.com</td><td>0.49</td><td>Nigeria</td></tr><tr><td>29</td><td>Male</td><td>Eda Neathery</td><td>PF</td><td>5821087</td><td>65.0</td><td>Nicole Harwood_Paris Hutton@DSA.com</td><td>0.65</td><td>Nigeria</td></tr><tr><td>29</td><td>Male</td><td>Priscila Tavernier</td><td>OOP</td><td>5831872</td><td>73.0</td><td>Somer Stoecker_Kena Wild@OOP.com</td><td>0.73</td><td>Nigeria</td></tr><tr><td>28</td><td>Female</td><td>Alberta Freund</td><td>MVC</td><td>5842912</td><td>61.0</td><td>Cordie Harnois_Margene Moores@OOP.com</td><td>0.61</td><td>Nigeria</td></tr><tr><td>29</td><td>Female</td><td>Paris Hutton</td><td>PF</td><td>5852476</td><td>76.0</td><td>Loris Crossett_Mickey Cortright@MVC.com</td><td>0.76</td><td>Nigeria</td></tr><tr><td>28</td><td>Female</td><td>Nicole Harwood</td><td>DB</td><td>5862606</td><td>87.0</td><td>Clementina Menke_Donna Yerby@DB.com</td><td>0.87</td><td>Nigeria</td></tr><tr><td>28</td><td>Female</td><td>Judie Chipps</td><td>DB</td><td>5872939</td><td>34.0</td><td>Mitzi Seldon_Paris Hutton@OOP.com</td><td>0.34</td><td>Nigeria</td></tr><tr><td>28</td><td>Female</td><td>Somer Stoecker</td><td>PF</td><td>5882098</td><td>108.0</td><td>Judie Chipps_Clementina Menke@PF.com</td><td>1.08</td><td>Nigeria</td></tr><tr><td>29</td><td>Female</td><td>Jenna Montague</td><td>Cloud</td><td>5892993</td><td>96.0</td><td>Jeannetta Golden_Marylee Capasso@MVC.com</td><td>0.96</td><td>Nigeria</td></tr><tr><td>28</td><td>Male</td><td>Sebrina Maresca</td><td>PF</td><td>5902730</td><td>44.0</td><td>Michelle Ruggiero_Claude Panos@DSA.com</td><td>0.44</td><td>Nigeria</td></tr><tr><td>29</td><td>Female</td><td>Melani Engberg</td><td>DSA</td><td>5911007</td><td>64.0</td><td>Kizzy Brenner_Tamera Blakley@OOP.com</td><td>0.64</td><td>Nigeria</td></tr><tr><td>29</td><td>Female</td><td>Gonzalo Ferebee</td><td>MVC</td><td>5922869</td><td>90.0</td><td>Toshiko Hillyard_Naoma Fritts@OOP.com</td><td>0.9</td><td>Nigeria</td></tr><tr><td>29</td><td>Male</td><td>Donna Yerby</td><td>DB</td><td>5932345</td><td>88.0</td><td>Leontine Phillips_Sheryll Towler@PF.com</td><td>0.88</td><td>Nigeria</td></tr><tr><td>28</td><td>Female</td><td>Somer Stoecker</td><td>DSA</td><td>5942293</td><td>98.0</td><td>Nicole Harwood_Tamera Blakley@DB.com</td><td>0.98</td><td>Nigeria</td></tr><tr><td>28</td><td>Female</td><td>Anna Santos</td><td>OOP</td><td>5952812</td><td>66.0</td><td>Jeannetta Golden_Eda Neathery@DB.com</td><td>0.66</td><td>Nigeria</td></tr><tr><td>28</td><td>Female</td><td>Cheri Kenney</td><td>OOP</td><td>5961043</td><td>47.0</td><td>Bonita Higuera_Marylee Capasso@PF.com</td><td>0.47</td><td>Nigeria</td></tr><tr><td>28</td><td>Female</td><td>Tamera Blakley</td><td>DSA</td><td>5972030</td><td>38.0</td><td>Leontine Phillips_Annika Hoffman@DSA.com</td><td>0.38</td><td>Nigeria</td></tr><tr><td>29</td><td>Female</td><td>Dustin Feagins</td><td>Cloud</td><td>5982620</td><td>82.0</td><td>Kena Wild_Cheri Kenney@OOP.com</td><td>0.82</td><td>Nigeria</td></tr><tr><td>28</td><td>Male</td><td>Toshiko Hillyard</td><td>DSA</td><td>5992644</td><td>87.0</td><td>Jenna Montague_Tijuana Kropf@Cloud.com</td><td>0.87</td><td>Nigeria</td></tr><tr><td>29</td><td>Male</td><td>Michelle Ruggiero</td><td>PF</td><td>6001585</td><td>30.0</td><td>Paris Hutton_Margene Moores@PF.com</td><td>0.3</td><td>Nigeria</td></tr><tr><td>29</td><td>Male</td><td>Kizzy Brenner</td><td>DSA</td><td>6012402</td><td>81.0</td><td>Elenore Choy_Alberta Freund@PF.com</td><td>0.81</td><td>Nigeria</td></tr><tr><td>29</td><td>Female</td><td>Tijuana Kropf</td><td>Cloud</td><td>6021281</td><td>52.0</td><td>Alberta Freund_Sheryll Towler@PF.com</td><td>0.52</td><td>Nigeria</td></tr><tr><td>28</td><td>Male</td><td>Gonzalo Ferebee</td><td>MVC</td><td>6032264</td><td>81.0</td><td>Jeannetta Golden_Claude Panos@Cloud.com</td><td>0.81</td><td>Nigeria</td></tr><tr><td>29</td><td>Male</td><td>Cheri Kenney</td><td>DB</td><td>6041254</td><td>69.0</td><td>Gonzalo Ferebee_Margene Moores@PF.com</td><td>0.69</td><td>Nigeria</td></tr><tr><td>29</td><td>Female</td><td>Paris Hutton</td><td>DB</td><td>6052159</td><td>44.0</td><td>Priscila Tavernier_Maybell Duguay@PF.com</td><td>0.44</td><td>Nigeria</td></tr><tr><td>28</td><td>Female</td><td>Bonita Higuera</td><td>Cloud</td><td>6061881</td><td>33.0</td><td>Dustin Feagins_Lawanda Wohlwend@PF.com</td><td>0.33</td><td>Nigeria</td></tr><tr><td>29</td><td>Female</td><td>Alberta Freund</td><td>DSA</td><td>6071316</td><td>109.0</td><td>Dustin Feagins_Sebrina Maresca@DB.com</td><td>1.09</td><td>Nigeria</td></tr><tr><td>28</td><td>Male</td><td>Priscila Tavernier</td><td>DSA</td><td>6082520</td><td>99.0</td><td>Clementina Menke_Hubert Oliveras@DSA.com</td><td>0.99</td><td>Nigeria</td></tr><tr><td>29</td><td>Male</td><td>Kena Wild</td><td>DSA</td><td>6092008</td><td>86.0</td><td>Sheryll Towler_Anna Santos@PF.com</td><td>0.86</td><td>Nigeria</td></tr><tr><td>29</td><td>Female</td><td>Billi Clore</td><td>Cloud</td><td>6101096</td><td>37.0</td><td>Maybell Duguay_Claude Panos@PF.com</td><td>0.37</td><td>Nigeria</td></tr><tr><td>29</td><td>Female</td><td>Alberta Freund</td><td>PF</td><td>6111594</td><td>99.0</td><td>Celeste Lollis_Anna Santos@Cloud.com</td><td>0.99</td><td>Nigeria</td></tr><tr><td>29</td><td>Female</td><td>Jalisa Swenson</td><td>Cloud</td><td>6121309</td><td>69.0</td><td>Kizzy Brenner_Dustin Feagins@PF.com</td><td>0.69</td><td>Nigeria</td></tr><tr><td>28</td><td>Male</td><td>Paris Hutton</td><td>DB</td><td>6131084</td><td>82.0</td><td>Tijuana Kropf_Abram Nagao@MVC.com</td><td>0.82</td><td>Nigeria</td></tr><tr><td>29</td><td>Male</td><td>Jalisa Swenson</td><td>DB</td><td>6141407</td><td>107.0</td><td>Ernest Rossbach_Alberta Freund@DB.com</td><td>1.07</td><td>Nigeria</td></tr><tr><td>28</td><td>Female</td><td>Jenna Montague</td><td>DSA</td><td>6152830</td><td>91.0</td><td>Gonzalo Ferebee_Lawanda Wohlwend@DB.com</td><td>0.91</td><td>Nigeria</td></tr><tr><td>29</td><td>Female</td><td>Jalisa Swenson</td><td>Cloud</td><td>6161884</td><td>50.0</td><td>Bonita Higuera_Latia Vanhoose@OOP.com</td><td>0.5</td><td>Nigeria</td></tr><tr><td>29</td><td>Male</td><td>Jc Andrepont</td><td>Cloud</td><td>6171781</td><td>98.0</td><td>Gonzalo Ferebee_Claude Panos@DB.com</td><td>0.98</td><td>Nigeria</td></tr><tr><td>29</td><td>Female</td><td>Abram Nagao</td><td>PF</td><td>6182152</td><td>60.0</td><td>Santa Kerfien_Claude Panos@DB.com</td><td>0.6</td><td>Nigeria</td></tr><tr><td>28</td><td>Female</td><td>Cheri Kenney</td><td>Cloud</td><td>6192920</td><td>50.0</td><td>Maybell Duguay_Neda Briski@OOP.com</td><td>0.5</td><td>Nigeria</td></tr><tr><td>28</td><td>Female</td><td>Kena Wild</td><td>DSA</td><td>6201485</td><td>95.0</td><td>Niki Klimek_Clementina Menke@MVC.com</td><td>0.95</td><td>Nigeria</td></tr><tr><td>29</td><td>Female</td><td>Loris Crossett</td><td>DB</td><td>6212990</td><td>49.0</td><td>Melani Engberg_Paris Hutton@Cloud.com</td><td>0.49</td><td>Nigeria</td></tr><tr><td>29</td><td>Female</td><td>Kizzy Brenner</td><td>DB</td><td>6222425</td><td>79.0</td><td>Margene Moores_Sebrina Maresca@MVC.com</td><td>0.79</td><td>Nigeria</td></tr><tr><td>29</td><td>Male</td><td>Neda Briski</td><td>DSA</td><td>6231956</td><td>85.0</td><td>Nicole Harwood_Santa Kerfien@Cloud.com</td><td>0.85</td><td>Nigeria</td></tr><tr><td>28</td><td>Female</td><td>Billi Clore</td><td>DSA</td><td>6242097</td><td>107.0</td><td>Jeannetta Golden_Maybell Duguay@DSA.com</td><td>1.07</td><td>Nigeria</td></tr><tr><td>29</td><td>Male</td><td>Melani Engberg</td><td>PF</td><td>6252274</td><td>74.0</td><td>Latia Vanhoose_Paris Hutton@OOP.com</td><td>0.74</td><td>Nigeria</td></tr><tr><td>28</td><td>Female</td><td>Judie Chipps</td><td>Cloud</td><td>6261948</td><td>90.0</td><td>Eda Neathery_Priscila Tavernier@MVC.com</td><td>0.9</td><td>Nigeria</td></tr><tr><td>28</td><td>Female</td><td>Sheryll Towler</td><td>DB</td><td>6271754</td><td>53.0</td><td>Elenore Choy_Melani Engberg@MVC.com</td><td>0.53</td><td>Nigeria</td></tr><tr><td>28</td><td>Male</td><td>Tijuana Kropf</td><td>Cloud</td><td>6281730</td><td>93.0</td><td>Mickey Cortright_Celeste Lollis@Cloud.com</td><td>0.93</td><td>Nigeria</td></tr><tr><td>28</td><td>Male</td><td>Alberta Freund</td><td>PF</td><td>6291431</td><td>78.0</td><td>Clementina Menke_Billi Clore@PF.com</td><td>0.78</td><td>Nigeria</td></tr><tr><td>28</td><td>Female</td><td>Maybell Duguay</td><td>DB</td><td>6301666</td><td>98.0</td><td>Latia Vanhoose_Jc Andrepont@Cloud.com</td><td>0.98</td><td>Nigeria</td></tr><tr><td>29</td><td>Male</td><td>Eda Neathery</td><td>DB</td><td>6311969</td><td>93.0</td><td>Clementina Menke_Neda Briski@DB.com</td><td>0.93</td><td>Nigeria</td></tr><tr><td>29</td><td>Male</td><td>Claude Panos</td><td>OOP</td><td>6321119</td><td>45.0</td><td>Bonita Higuera_Eda Neathery@DSA.com</td><td>0.45</td><td>Nigeria</td></tr><tr><td>29</td><td>Female</td><td>Dustin Feagins</td><td>PF</td><td>6331469</td><td>61.0</td><td>Melani Engberg_Margene Moores@MVC.com</td><td>0.61</td><td>Nigeria</td></tr><tr><td>28</td><td>Female</td><td>Dustin Feagins</td><td>OOP</td><td>6341113</td><td>35.0</td><td>Latia Vanhoose_Jenna Montague@OOP.com</td><td>0.35</td><td>Nigeria</td></tr><tr><td>28</td><td>Male</td><td>Alberta Freund</td><td>PF</td><td>6352910</td><td>62.0</td><td>Judie Chipps_Maybell Duguay@Cloud.com</td><td>0.62</td><td>Nigeria</td></tr><tr><td>28</td><td>Female</td><td>Michelle Ruggiero</td><td>Cloud</td><td>6362263</td><td>76.0</td><td>Sheryll Towler_Donna Yerby@Cloud.com</td><td>0.76</td><td>Nigeria</td></tr><tr><td>29</td><td>Male</td><td>Toshiko Hillyard</td><td>DSA</td><td>6371328</td><td>101.0</td><td>Somer Stoecker_Maybell Duguay@OOP.com</td><td>1.01</td><td>Nigeria</td></tr><tr><td>28</td><td>Male</td><td>Annika Hoffman</td><td>MVC</td><td>6381719</td><td>58.0</td><td>Ernest Rossbach_Jc Andrepont@DSA.com</td><td>0.58</td><td>Nigeria</td></tr><tr><td>28</td><td>Male</td><td>Lawanda Wohlwend</td><td>Cloud</td><td>6391977</td><td>49.0</td><td>Marylee Capasso_Melani Engberg@MVC.com</td><td>0.49</td><td>Nigeria</td></tr><tr><td>28</td><td>Female</td><td>Eda Neathery</td><td>PF</td><td>6402146</td><td>88.0</td><td>Sheryll Towler_Somer Stoecker@PF.com</td><td>0.88</td><td>Nigeria</td></tr><tr><td>29</td><td>Female</td><td>Eda Neathery</td><td>DSA</td><td>6412002</td><td>105.0</td><td>Sebrina Maresca_Hubert Oliveras@Cloud.com</td><td>1.05</td><td>Nigeria</td></tr><tr><td>28</td><td>Male</td><td>Naoma Fritts</td><td>DB</td><td>6422790</td><td>105.0</td><td>Sheryll Towler_Ernest Rossbach@DSA.com</td><td>1.05</td><td>Nigeria</td></tr><tr><td>29</td><td>Male</td><td>Elenore Choy</td><td>PF</td><td>6431645</td><td>63.0</td><td>Loris Crossett_Kena Wild@MVC.com</td><td>0.63</td><td>Nigeria</td></tr><tr><td>28</td><td>Male</td><td>Leontine Phillips</td><td>PF</td><td>6442094</td><td>88.0</td><td>Michelle Ruggiero_Paris Hutton@OOP.com</td><td>0.88</td><td>Nigeria</td></tr><tr><td>29</td><td>Female</td><td>Maybell Duguay</td><td>MVC</td><td>6451082</td><td>43.0</td><td>Lawanda Wohlwend_Mitzi Seldon@DB.com</td><td>0.43</td><td>Nigeria</td></tr><tr><td>29</td><td>Female</td><td>Niki Klimek</td><td>PF</td><td>6462485</td><td>94.0</td><td>Tamera Blakley_Niki Klimek@Cloud.com</td><td>0.94</td><td>Nigeria</td></tr><tr><td>28</td><td>Male</td><td>Taryn Brownlee</td><td>PF</td><td>6471481</td><td>86.0</td><td>Annika Hoffman_Donna Yerby@OOP.com</td><td>0.86</td><td>Nigeria</td></tr><tr><td>29</td><td>Female</td><td>Claude Panos</td><td>Cloud</td><td>6482574</td><td>77.0</td><td>Eda Neathery_Billi Clore@Cloud.com</td><td>0.77</td><td>Nigeria</td></tr><tr><td>29</td><td>Male</td><td>Bonita Higuera</td><td>MVC</td><td>6491656</td><td>55.0</td><td>Neda Briski_Naoma Fritts@DB.com</td><td>0.55</td><td>Nigeria</td></tr><tr><td>28</td><td>Male</td><td>Jalisa Swenson</td><td>MVC</td><td>6501571</td><td>81.0</td><td>Naoma Fritts_Niki Klimek@MVC.com</td><td>0.81</td><td>Nigeria</td></tr><tr><td>29</td><td>Male</td><td>Judie Chipps</td><td>Cloud</td><td>6511826</td><td>84.0</td><td>Clementina Menke_Judie Chipps@DSA.com</td><td>0.84</td><td>Nigeria</td></tr><tr><td>28</td><td>Female</td><td>Nicole Harwood</td><td>DB</td><td>6522046</td><td>89.0</td><td>Naoma Fritts_Margene Moores@DSA.com</td><td>0.89</td><td>Nigeria</td></tr><tr><td>29</td><td>Male</td><td>Somer Stoecker</td><td>DSA</td><td>6531094</td><td>91.0</td><td>Dustin Feagins_Kena Wild@MVC.com</td><td>0.91</td><td>Nigeria</td></tr><tr><td>28</td><td>Female</td><td>Priscila Tavernier</td><td>Cloud</td><td>6542640</td><td>37.0</td><td>Kizzy Brenner_Loris Crossett@Cloud.com</td><td>0.37</td><td>Nigeria</td></tr><tr><td>29</td><td>Male</td><td>Neda Briski</td><td>MVC</td><td>6552886</td><td>93.0</td><td>Abram Nagao_Marylee Capasso@OOP.com</td><td>0.93</td><td>Nigeria</td></tr><tr><td>28</td><td>Male</td><td>Cheri Kenney</td><td>Cloud</td><td>6562808</td><td>102.0</td><td>Donna Yerby_Dustin Feagins@PF.com</td><td>1.02</td><td>Nigeria</td></tr><tr><td>29</td><td>Male</td><td>Tijuana Kropf</td><td>PF</td><td>6572639</td><td>81.0</td><td>Sheryll Towler_Latia Vanhoose@PF.com</td><td>0.81</td><td>Nigeria</td></tr><tr><td>28</td><td>Female</td><td>Kizzy Brenner</td><td>DB</td><td>6582931</td><td>67.0</td><td>Alberta Freund_Jc Andrepont@PF.com</td><td>0.67</td><td>Nigeria</td></tr><tr><td>29</td><td>Female</td><td>Melani Engberg</td><td>Cloud</td><td>6592152</td><td>40.0</td><td>Gonzalo Ferebee_Hubert Oliveras@MVC.com</td><td>0.4</td><td>Nigeria</td></tr><tr><td>28</td><td>Male</td><td>Tamera Blakley</td><td>Cloud</td><td>6601939</td><td>44.0</td><td>Jenna Montague_Clementina Menke@Cloud.com</td><td>0.44</td><td>Nigeria</td></tr><tr><td>29</td><td>Male</td><td>Gonzalo Ferebee</td><td>DSA</td><td>6611648</td><td>76.0</td><td>Tijuana Kropf_Elenore Choy@OOP.com</td><td>0.76</td><td>Nigeria</td></tr><tr><td>29</td><td>Female</td><td>Jeannetta Golden</td><td>DSA</td><td>6621600</td><td>42.0</td><td>Dustin Feagins_Sheryll Towler@MVC.com</td><td>0.42</td><td>Nigeria</td></tr><tr><td>28</td><td>Male</td><td>Neda Briski</td><td>DB</td><td>6632463</td><td>58.0</td><td>Sheryll Towler_Dustin Feagins@Cloud.com</td><td>0.58</td><td>Nigeria</td></tr><tr><td>28</td><td>Male</td><td>Maybell Duguay</td><td>MVC</td><td>6642438</td><td>66.0</td><td>Margene Moores_Bonita Higuera@DB.com</td><td>0.66</td><td>Nigeria</td></tr><tr><td>28</td><td>Male</td><td>Naoma Fritts</td><td>OOP</td><td>6652677</td><td>87.0</td><td>Lawanda Wohlwend_Billi Clore@MVC.com</td><td>0.87</td><td>Nigeria</td></tr><tr><td>29</td><td>Female</td><td>Margene Moores</td><td>OOP</td><td>6662414</td><td>70.0</td><td>Hubert Oliveras_Margene Moores@DSA.com</td><td>0.7</td><td>Nigeria</td></tr><tr><td>29</td><td>Female</td><td>Sheryll Towler</td><td>OOP</td><td>6672653</td><td>33.0</td><td>Jenna Montague_Santa Kerfien@PF.com</td><td>0.33</td><td>Nigeria</td></tr><tr><td>29</td><td>Male</td><td>Paris Hutton</td><td>PF</td><td>6682291</td><td>88.0</td><td>Margene Moores_Hubert Oliveras@PF.com</td><td>0.88</td><td>Nigeria</td></tr><tr><td>28</td><td>Female</td><td>Taryn Brownlee</td><td>Cloud</td><td>6692958</td><td>41.0</td><td>Cordie Harnois_Cheri Kenney@OOP.com</td><td>0.41</td><td>Nigeria</td></tr><tr><td>28</td><td>Female</td><td>Latia Vanhoose</td><td>Cloud</td><td>6701628</td><td>43.0</td><td>Abram Nagao_Cheri Kenney@DB.com</td><td>0.43</td><td>Nigeria</td></tr><tr><td>28</td><td>Female</td><td>Kizzy Brenner</td><td>Cloud</td><td>6711773</td><td>94.0</td><td>Leontine Phillips_Donna Yerby@DSA.com</td><td>0.94</td><td>Nigeria</td></tr><tr><td>28</td><td>Male</td><td>Paris Hutton</td><td>PF</td><td>6722224</td><td>100.0</td><td>Niki Klimek_Gonzalo Ferebee@Cloud.com</td><td>1.0</td><td>Nigeria</td></tr><tr><td>29</td><td>Female</td><td>Anna Santos</td><td>DB</td><td>6732334</td><td>55.0</td><td>Gonzalo Ferebee_Alberta Freund@DSA.com</td><td>0.55</td><td>Nigeria</td></tr><tr><td>29</td><td>Female</td><td>Judie Chipps</td><td>PF</td><td>6742197</td><td>72.0</td><td>Eda Neathery_Elenore Choy@MVC.com</td><td>0.72</td><td>Nigeria</td></tr><tr><td>28</td><td>Male</td><td>Donna Yerby</td><td>MVC</td><td>6752737</td><td>36.0</td><td>Mickey Cortright_Gonzalo Ferebee@DSA.com</td><td>0.36</td><td>Nigeria</td></tr><tr><td>28</td><td>Male</td><td>Anna Santos</td><td>OOP</td><td>6762411</td><td>91.0</td><td>Bonita Higuera_Annika Hoffman@Cloud.com</td><td>0.91</td><td>Nigeria</td></tr><tr><td>29</td><td>Female</td><td>Latia Vanhoose</td><td>MVC</td><td>6771882</td><td>59.0</td><td>Alberta Freund_Latia Vanhoose@DB.com</td><td>0.59</td><td>Nigeria</td></tr><tr><td>29</td><td>Female</td><td>Ernest Rossbach</td><td>PF</td><td>6782099</td><td>69.0</td><td>Claude Panos_Annika Hoffman@DSA.com</td><td>0.69</td><td>Nigeria</td></tr><tr><td>28</td><td>Male</td><td>Paris Hutton</td><td>MVC</td><td>6791398</td><td>73.0</td><td>Bonita Higuera_Billi Clore@OOP.com</td><td>0.73</td><td>Nigeria</td></tr><tr><td>29</td><td>Male</td><td>Billi Clore</td><td>Cloud</td><td>6802170</td><td>62.0</td><td>Dustin Feagins_Sebrina Maresca@DSA.com</td><td>0.62</td><td>Nigeria</td></tr><tr><td>29</td><td>Male</td><td>Tamera Blakley</td><td>DB</td><td>6811165</td><td>72.0</td><td>Annika Hoffman_Bonita Higuera@PF.com</td><td>0.72</td><td>Nigeria</td></tr><tr><td>29</td><td>Male</td><td>Tamera Blakley</td><td>Cloud</td><td>6822429</td><td>77.0</td><td>Donna Yerby_Cheri Kenney@DB.com</td><td>0.77</td><td>Nigeria</td></tr><tr><td>28</td><td>Female</td><td>Kena Wild</td><td>DSA</td><td>6831241</td><td>104.0</td><td>Loris Crossett_Leontine Phillips@OOP.com</td><td>1.04</td><td>Nigeria</td></tr><tr><td>29</td><td>Male</td><td>Neda Briski</td><td>OOP</td><td>6842985</td><td>90.0</td><td>Toshiko Hillyard_Cordie Harnois@MVC.com</td><td>0.9</td><td>Nigeria</td></tr><tr><td>29</td><td>Female</td><td>Donna Yerby</td><td>PF</td><td>6851744</td><td>69.0</td><td>Maybell Duguay_Hubert Oliveras@Cloud.com</td><td>0.69</td><td>Nigeria</td></tr><tr><td>29</td><td>Female</td><td>Mitzi Seldon</td><td>DB</td><td>6862019</td><td>88.0</td><td>Kena Wild_Celeste Lollis@DSA.com</td><td>0.88</td><td>Nigeria</td></tr><tr><td>29</td><td>Male</td><td>Margene Moores</td><td>DSA</td><td>6872276</td><td>99.0</td><td>Leontine Phillips_Annika Hoffman@PF.com</td><td>0.99</td><td>Nigeria</td></tr><tr><td>28</td><td>Female</td><td>Billi Clore</td><td>Cloud</td><td>6882495</td><td>56.0</td><td>Claude Panos_Latia Vanhoose@DSA.com</td><td>0.56</td><td>Nigeria</td></tr><tr><td>28</td><td>Female</td><td>Kizzy Brenner</td><td>DB</td><td>6892057</td><td>80.0</td><td>Priscila Tavernier_Judie Chipps@OOP.com</td><td>0.8</td><td>Nigeria</td></tr><tr><td>28</td><td>Male</td><td>Leontine Phillips</td><td>MVC</td><td>6902478</td><td>42.0</td><td>Melani Engberg_Ernest Rossbach@MVC.com</td><td>0.42</td><td>Nigeria</td></tr><tr><td>29</td><td>Female</td><td>Kena Wild</td><td>DB</td><td>6911600</td><td>83.0</td><td>Maybell Duguay_Latia Vanhoose@PF.com</td><td>0.83</td><td>Nigeria</td></tr><tr><td>28</td><td>Female</td><td>Paris Hutton</td><td>Cloud</td><td>6922359</td><td>56.0</td><td>Neda Briski_Dustin Feagins@DB.com</td><td>0.56</td><td>Nigeria</td></tr><tr><td>29</td><td>Female</td><td>Maybell Duguay</td><td>OOP</td><td>6931378</td><td>65.0</td><td>Toshiko Hillyard_Latia Vanhoose@DSA.com</td><td>0.65</td><td>Nigeria</td></tr><tr><td>29</td><td>Female</td><td>Sebrina Maresca</td><td>MVC</td><td>6941692</td><td>95.0</td><td>Billi Clore_Jc Andrepont@Cloud.com</td><td>0.95</td><td>Nigeria</td></tr><tr><td>28</td><td>Female</td><td>Tamera Blakley</td><td>DSA</td><td>6951836</td><td>91.0</td><td>Somer Stoecker_Donna Yerby@OOP.com</td><td>0.91</td><td>Nigeria</td></tr><tr><td>29</td><td>Male</td><td>Loris Crossett</td><td>MVC</td><td>6962740</td><td>105.0</td><td>Jeannetta Golden_Ernest Rossbach@OOP.com</td><td>1.05</td><td>Nigeria</td></tr><tr><td>28</td><td>Female</td><td>Niki Klimek</td><td>DSA</td><td>6971140</td><td>37.0</td><td>Leontine Phillips_Gonzalo Ferebee@MVC.com</td><td>0.37</td><td>Nigeria</td></tr><tr><td>28</td><td>Male</td><td>Elenore Choy</td><td>MVC</td><td>6982740</td><td>51.0</td><td>Latia Vanhoose_Leontine Phillips@PF.com</td><td>0.51</td><td>Nigeria</td></tr><tr><td>29</td><td>Male</td><td>Donna Yerby</td><td>DSA</td><td>6991370</td><td>101.0</td><td>Dustin Feagins_Abram Nagao@PF.com</td><td>1.01</td><td>Nigeria</td></tr><tr><td>29</td><td>Male</td><td>Santa Kerfien</td><td>OOP</td><td>7001706</td><td>87.0</td><td>Bonita Higuera_Nicole Harwood@DSA.com</td><td>0.87</td><td>Nigeria</td></tr><tr><td>28</td><td>Female</td><td>Judie Chipps</td><td>PF</td><td>7012144</td><td>98.0</td><td>Nicole Harwood_Tamera Blakley@PF.com</td><td>0.98</td><td>Nigeria</td></tr><tr><td>28</td><td>Female</td><td>Neda Briski</td><td>PF</td><td>7021987</td><td>72.0</td><td>Elenore Choy_Jenna Montague@DSA.com</td><td>0.72</td><td>Nigeria</td></tr><tr><td>29</td><td>Male</td><td>Tamera Blakley</td><td>DSA</td><td>7031305</td><td>67.0</td><td>Clementina Menke_Toshiko Hillyard@PF.com</td><td>0.67</td><td>Nigeria</td></tr><tr><td>29</td><td>Male</td><td>Cordie Harnois</td><td>DSA</td><td>7041544</td><td>107.0</td><td>Kizzy Brenner_Jalisa Swenson@OOP.com</td><td>1.07</td><td>Nigeria</td></tr><tr><td>28</td><td>Male</td><td>Leontine Phillips</td><td>Cloud</td><td>7051293</td><td>87.0</td><td>Bonita Higuera_Cheri Kenney@Cloud.com</td><td>0.87</td><td>Nigeria</td></tr><tr><td>29</td><td>Male</td><td>Margene Moores</td><td>MVC</td><td>7062262</td><td>69.0</td><td>Nicole Harwood_Michelle Ruggiero@Cloud.com</td><td>0.69</td><td>Nigeria</td></tr><tr><td>28</td><td>Female</td><td>Mickey Cortright</td><td>MVC</td><td>7071556</td><td>46.0</td><td>Priscila Tavernier_Nicole Harwood@OOP.com</td><td>0.46</td><td>Nigeria</td></tr><tr><td>29</td><td>Female</td><td>Annika Hoffman</td><td>MVC</td><td>7081972</td><td>105.0</td><td>Judie Chipps_Mitzi Seldon@OOP.com</td><td>1.05</td><td>Nigeria</td></tr><tr><td>28</td><td>Female</td><td>Ernest Rossbach</td><td>MVC</td><td>7091785</td><td>67.0</td><td>Loris Crossett_Billi Clore@PF.com</td><td>0.67</td><td>Nigeria</td></tr><tr><td>29</td><td>Male</td><td>Hubert Oliveras</td><td>OOP</td><td>7102834</td><td>54.0</td><td>Hubert Oliveras_Celeste Lollis@Cloud.com</td><td>0.54</td><td>Nigeria</td></tr><tr><td>29</td><td>Male</td><td>Eda Neathery</td><td>MVC</td><td>7111575</td><td>57.0</td><td>Anna Santos_Tamera Blakley@DSA.com</td><td>0.57</td><td>Nigeria</td></tr><tr><td>28</td><td>Female</td><td>Nicole Harwood</td><td>DSA</td><td>7121730</td><td>63.0</td><td>Michelle Ruggiero_Marylee Capasso@MVC.com</td><td>0.63</td><td>Nigeria</td></tr><tr><td>28</td><td>Female</td><td>Anna Santos</td><td>PF</td><td>7132856</td><td>40.0</td><td>Elenore Choy_Paris Hutton@DSA.com</td><td>0.4</td><td>Nigeria</td></tr><tr><td>29</td><td>Male</td><td>Cordie Harnois</td><td>Cloud</td><td>7141186</td><td>84.0</td><td>Paris Hutton_Marylee Capasso@PF.com</td><td>0.84</td><td>Nigeria</td></tr><tr><td>28</td><td>Female</td><td>Bonita Higuera</td><td>OOP</td><td>7151179</td><td>63.0</td><td>Taryn Brownlee_Sheryll Towler@Cloud.com</td><td>0.63</td><td>Nigeria</td></tr><tr><td>28</td><td>Male</td><td>Gonzalo Ferebee</td><td>OOP</td><td>7162059</td><td>33.0</td><td>Melani Engberg_Melani Engberg@DSA.com</td><td>0.33</td><td>Nigeria</td></tr><tr><td>28</td><td>Male</td><td>Clementina Menke</td><td>DB</td><td>7172058</td><td>72.0</td><td>Mitzi Seldon_Clementina Menke@MVC.com</td><td>0.72</td><td>Nigeria</td></tr><tr><td>29</td><td>Female</td><td>Jeannetta Golden</td><td>Cloud</td><td>7182144</td><td>80.0</td><td>Naoma Fritts_Niki Klimek@PF.com</td><td>0.8</td><td>Nigeria</td></tr><tr><td>28</td><td>Female</td><td>Melani Engberg</td><td>OOP</td><td>7192072</td><td>102.0</td><td>Cheri Kenney_Ernest Rossbach@DSA.com</td><td>1.02</td><td>Nigeria</td></tr><tr><td>29</td><td>Male</td><td>Sebrina Maresca</td><td>DSA</td><td>7202414</td><td>61.0</td><td>Ernest Rossbach_Jalisa Swenson@MVC.com</td><td>0.61</td><td>Nigeria</td></tr><tr><td>28</td><td>Male</td><td>Dustin Feagins</td><td>DSA</td><td>7212606</td><td>61.0</td><td>Cheri Kenney_Eda Neathery@DB.com</td><td>0.61</td><td>Nigeria</td></tr><tr><td>29</td><td>Female</td><td>Lawanda Wohlwend</td><td>Cloud</td><td>7222880</td><td>108.0</td><td>Sheryll Towler_Anna Santos@DB.com</td><td>1.08</td><td>Nigeria</td></tr><tr><td>28</td><td>Female</td><td>Clementina Menke</td><td>DSA</td><td>7231357</td><td>52.0</td><td>Judie Chipps_Cordie Harnois@MVC.com</td><td>0.52</td><td>Nigeria</td></tr><tr><td>28</td><td>Male</td><td>Leontine Phillips</td><td>DB</td><td>7242704</td><td>82.0</td><td>Maybell Duguay_Toshiko Hillyard@PF.com</td><td>0.82</td><td>Nigeria</td></tr><tr><td>28</td><td>Male</td><td>Taryn Brownlee</td><td>PF</td><td>7252400</td><td>87.0</td><td>Marylee Capasso_Jeannetta Golden@DB.com</td><td>0.87</td><td>Nigeria</td></tr><tr><td>28</td><td>Female</td><td>Lawanda Wohlwend</td><td>DB</td><td>7261840</td><td>91.0</td><td>Donna Yerby_Kizzy Brenner@Cloud.com</td><td>0.91</td><td>Nigeria</td></tr><tr><td>29</td><td>Female</td><td>Bonita Higuera</td><td>Cloud</td><td>7272043</td><td>82.0</td><td>Alberta Freund_Latia Vanhoose@PF.com</td><td>0.82</td><td>Nigeria</td></tr><tr><td>29</td><td>Male</td><td>Neda Briski</td><td>DSA</td><td>7282511</td><td>52.0</td><td>Jalisa Swenson_Naoma Fritts@MVC.com</td><td>0.52</td><td>Nigeria</td></tr><tr><td>28</td><td>Female</td><td>Clementina Menke</td><td>Cloud</td><td>7291419</td><td>56.0</td><td>Bonita Higuera_Naoma Fritts@OOP.com</td><td>0.56</td><td>Nigeria</td></tr><tr><td>28</td><td>Male</td><td>Sheryll Towler</td><td>Cloud</td><td>7301966</td><td>73.0</td><td>Jalisa Swenson_Leontine Phillips@DSA.com</td><td>0.73</td><td>Nigeria</td></tr><tr><td>28</td><td>Male</td><td>Taryn Brownlee</td><td>PF</td><td>7311546</td><td>37.0</td><td>Clementina Menke_Melani Engberg@MVC.com</td><td>0.37</td><td>Nigeria</td></tr><tr><td>28</td><td>Male</td><td>Cheri Kenney</td><td>OOP</td><td>7321040</td><td>93.0</td><td>Sheryll Towler_Judie Chipps@PF.com</td><td>0.93</td><td>Nigeria</td></tr><tr><td>28</td><td>Male</td><td>Marylee Capasso</td><td>DSA</td><td>7331984</td><td>80.0</td><td>Bonita Higuera_Melani Engberg@PF.com</td><td>0.8</td><td>Nigeria</td></tr><tr><td>29</td><td>Male</td><td>Tamera Blakley</td><td>OOP</td><td>7341268</td><td>31.0</td><td>Anna Santos_Naoma Fritts@OOP.com</td><td>0.31</td><td>Nigeria</td></tr><tr><td>29</td><td>Female</td><td>Jc Andrepont</td><td>OOP</td><td>7351315</td><td>94.0</td><td>Judie Chipps_Margene Moores@OOP.com</td><td>0.94</td><td>Nigeria</td></tr><tr><td>29</td><td>Male</td><td>Claude Panos</td><td>PF</td><td>7362772</td><td>102.0</td><td>Clementina Menke_Naoma Fritts@OOP.com</td><td>1.02</td><td>Nigeria</td></tr><tr><td>29</td><td>Male</td><td>Annika Hoffman</td><td>MVC</td><td>7372375</td><td>45.0</td><td>Sheryll Towler_Taryn Brownlee@MVC.com</td><td>0.45</td><td>Nigeria</td></tr><tr><td>28</td><td>Female</td><td>Latia Vanhoose</td><td>MVC</td><td>7381991</td><td>104.0</td><td>Eda Neathery_Michelle Ruggiero@MVC.com</td><td>1.04</td><td>Nigeria</td></tr><tr><td>29</td><td>Male</td><td>Margene Moores</td><td>MVC</td><td>7391087</td><td>69.0</td><td>Jc Andrepont_Latia Vanhoose@DSA.com</td><td>0.69</td><td>Nigeria</td></tr><tr><td>29</td><td>Female</td><td>Claude Panos</td><td>PF</td><td>7402827</td><td>92.0</td><td>Kizzy Brenner_Kena Wild@MVC.com</td><td>0.92</td><td>Nigeria</td></tr><tr><td>29</td><td>Female</td><td>Santa Kerfien</td><td>PF</td><td>7412168</td><td>34.0</td><td>Eda Neathery_Abram Nagao@Cloud.com</td><td>0.34</td><td>Nigeria</td></tr><tr><td>29</td><td>Male</td><td>Celeste Lollis</td><td>PF</td><td>7421417</td><td>93.0</td><td>Jc Andrepont_Maybell Duguay@PF.com</td><td>0.93</td><td>Nigeria</td></tr><tr><td>28</td><td>Female</td><td>Lawanda Wohlwend</td><td>DSA</td><td>7431179</td><td>101.0</td><td>Anna Santos_Neda Briski@DB.com</td><td>1.01</td><td>Nigeria</td></tr><tr><td>28</td><td>Female</td><td>Loris Crossett</td><td>Cloud</td><td>7441605</td><td>82.0</td><td>Sheryll Towler_Kena Wild@DB.com</td><td>0.82</td><td>Nigeria</td></tr><tr><td>28</td><td>Female</td><td>Taryn Brownlee</td><td>MVC</td><td>7452944</td><td>43.0</td><td>Elenore Choy_Jenna Montague@MVC.com</td><td>0.43</td><td>Nigeria</td></tr><tr><td>28</td><td>Male</td><td>Tijuana Kropf</td><td>MVC</td><td>7462328</td><td>42.0</td><td>Toshiko Hillyard_Tamera Blakley@DSA.com</td><td>0.42</td><td>Nigeria</td></tr><tr><td>29</td><td>Female</td><td>Melani Engberg</td><td>DB</td><td>7471313</td><td>87.0</td><td>Cheri Kenney_Celeste Lollis@PF.com</td><td>0.87</td><td>Nigeria</td></tr><tr><td>29</td><td>Female</td><td>Dustin Feagins</td><td>MVC</td><td>7481997</td><td>47.0</td><td>Mickey Cortright_Gonzalo Ferebee@MVC.com</td><td>0.47</td><td>Nigeria</td></tr><tr><td>28</td><td>Female</td><td>Eda Neathery</td><td>MVC</td><td>7491443</td><td>56.0</td><td>Neda Briski_Margene Moores@OOP.com</td><td>0.56</td><td>Nigeria</td></tr><tr><td>28</td><td>Male</td><td>Priscila Tavernier</td><td>MVC</td><td>7502427</td><td>107.0</td><td>Alberta Freund_Niki Klimek@OOP.com</td><td>1.07</td><td>Nigeria</td></tr><tr><td>28</td><td>Male</td><td>Hubert Oliveras</td><td>MVC</td><td>7512833</td><td>57.0</td><td>Loris Crossett_Jenna Montague@OOP.com</td><td>0.57</td><td>Nigeria</td></tr><tr><td>29</td><td>Female</td><td>Leontine Phillips</td><td>PF</td><td>7522221</td><td>62.0</td><td>Hubert Oliveras_Dustin Feagins@Cloud.com</td><td>0.62</td><td>Nigeria</td></tr><tr><td>28</td><td>Female</td><td>Melani Engberg</td><td>Cloud</td><td>7531661</td><td>35.0</td><td>Gonzalo Ferebee_Dustin Feagins@MVC.com</td><td>0.35</td><td>Nigeria</td></tr><tr><td>29</td><td>Female</td><td>Jalisa Swenson</td><td>DB</td><td>7542285</td><td>69.0</td><td>Maybell Duguay_Billi Clore@PF.com</td><td>0.69</td><td>Nigeria</td></tr><tr><td>28</td><td>Female</td><td>Cheri Kenney</td><td>DB</td><td>7551469</td><td>43.0</td><td>Paris Hutton_Annika Hoffman@OOP.com</td><td>0.43</td><td>Nigeria</td></tr><tr><td>28</td><td>Female</td><td>Santa Kerfien</td><td>MVC</td><td>7561491</td><td>78.0</td><td>Niki Klimek_Nicole Harwood@MVC.com</td><td>0.78</td><td>Nigeria</td></tr><tr><td>28</td><td>Male</td><td>Kizzy Brenner</td><td>MVC</td><td>7572603</td><td>70.0</td><td>Nicole Harwood_Sheryll Towler@MVC.com</td><td>0.7</td><td>Nigeria</td></tr><tr><td>28</td><td>Female</td><td>Taryn Brownlee</td><td>Cloud</td><td>7582853</td><td>86.0</td><td>Sebrina Maresca_Annika Hoffman@Cloud.com</td><td>0.86</td><td>Nigeria</td></tr><tr><td>28</td><td>Male</td><td>Melani Engberg</td><td>Cloud</td><td>7591331</td><td>93.0</td><td>Billi Clore_Neda Briski@DSA.com</td><td>0.93</td><td>Nigeria</td></tr><tr><td>28</td><td>Male</td><td>Michelle Ruggiero</td><td>OOP</td><td>7601079</td><td>92.0</td><td>Jenna Montague_Donna Yerby@DSA.com</td><td>0.92</td><td>Nigeria</td></tr><tr><td>29</td><td>Female</td><td>Anna Santos</td><td>DSA</td><td>7611959</td><td>47.0</td><td>Gonzalo Ferebee_Claude Panos@DB.com</td><td>0.47</td><td>Nigeria</td></tr><tr><td>29</td><td>Female</td><td>Kena Wild</td><td>DSA</td><td>7621891</td><td>79.0</td><td>Marylee Capasso_Marylee Capasso@DSA.com</td><td>0.79</td><td>Nigeria</td></tr><tr><td>29</td><td>Male</td><td>Lawanda Wohlwend</td><td>MVC</td><td>7631030</td><td>67.0</td><td>Mitzi Seldon_Sebrina Maresca@OOP.com</td><td>0.67</td><td>Nigeria</td></tr><tr><td>29</td><td>Male</td><td>Santa Kerfien</td><td>MVC</td><td>7642624</td><td>107.0</td><td>Santa Kerfien_Elenore Choy@Cloud.com</td><td>1.07</td><td>Nigeria</td></tr><tr><td>29</td><td>Female</td><td>Paris Hutton</td><td>MVC</td><td>7652057</td><td>77.0</td><td>Michelle Ruggiero_Anna Santos@PF.com</td><td>0.77</td><td>Nigeria</td></tr><tr><td>29</td><td>Male</td><td>Taryn Brownlee</td><td>MVC</td><td>7662789</td><td>70.0</td><td>Elenore Choy_Anna Santos@OOP.com</td><td>0.7</td><td>Nigeria</td></tr><tr><td>28</td><td>Male</td><td>Bonita Higuera</td><td>Cloud</td><td>7671835</td><td>31.0</td><td>Taryn Brownlee_Sebrina Maresca@PF.com</td><td>0.31</td><td>Nigeria</td></tr><tr><td>28</td><td>Female</td><td>Judie Chipps</td><td>DB</td><td>7682333</td><td>91.0</td><td>Toshiko Hillyard_Claude Panos@DB.com</td><td>0.91</td><td>Nigeria</td></tr><tr><td>29</td><td>Female</td><td>Celeste Lollis</td><td>Cloud</td><td>7691188</td><td>92.0</td><td>Mitzi Seldon_Jenna Montague@PF.com</td><td>0.92</td><td>Nigeria</td></tr><tr><td>28</td><td>Male</td><td>Mickey Cortright</td><td>DB</td><td>7702338</td><td>79.0</td><td>Latia Vanhoose_Jeannetta Golden@OOP.com</td><td>0.79</td><td>Nigeria</td></tr><tr><td>28</td><td>Female</td><td>Billi Clore</td><td>DB</td><td>7711330</td><td>74.0</td><td>Maybell Duguay_Ernest Rossbach@Cloud.com</td><td>0.74</td><td>Nigeria</td></tr><tr><td>29</td><td>Male</td><td>Latia Vanhoose</td><td>Cloud</td><td>7721956</td><td>55.0</td><td>Jalisa Swenson_Annika Hoffman@DB.com</td><td>0.55</td><td>Nigeria</td></tr><tr><td>29</td><td>Male</td><td>Sebrina Maresca</td><td>PF</td><td>7731207</td><td>79.0</td><td>Leontine Phillips_Kena Wild@DSA.com</td><td>0.79</td><td>Nigeria</td></tr><tr><td>28</td><td>Male</td><td>Latia Vanhoose</td><td>OOP</td><td>7741757</td><td>76.0</td><td>Loris Crossett_Naoma Fritts@DSA.com</td><td>0.76</td><td>Nigeria</td></tr><tr><td>28</td><td>Male</td><td>Anna Santos</td><td>DSA</td><td>7752196</td><td>102.0</td><td>Latia Vanhoose_Tamera Blakley@OOP.com</td><td>1.02</td><td>Nigeria</td></tr><tr><td>29</td><td>Female</td><td>Margene Moores</td><td>PF</td><td>7761927</td><td>42.0</td><td>Annika Hoffman_Taryn Brownlee@OOP.com</td><td>0.42</td><td>Nigeria</td></tr><tr><td>29</td><td>Female</td><td>Judie Chipps</td><td>DSA</td><td>7772671</td><td>61.0</td><td>Jenna Montague_Dustin Feagins@DB.com</td><td>0.61</td><td>Nigeria</td></tr><tr><td>28</td><td>Female</td><td>Kena Wild</td><td>MVC</td><td>7781364</td><td>85.0</td><td>Claude Panos_Sebrina Maresca@DB.com</td><td>0.85</td><td>Nigeria</td></tr><tr><td>28</td><td>Male</td><td>Latia Vanhoose</td><td>DSA</td><td>7792270</td><td>47.0</td><td>Eda Neathery_Donna Yerby@DSA.com</td><td>0.47</td><td>Nigeria</td></tr><tr><td>29</td><td>Female</td><td>Cordie Harnois</td><td>Cloud</td><td>7801136</td><td>67.0</td><td>Nicole Harwood_Neda Briski@DSA.com</td><td>0.67</td><td>Nigeria</td></tr><tr><td>29</td><td>Male</td><td>Niki Klimek</td><td>DSA</td><td>7811347</td><td>52.0</td><td>Kena Wild_Maybell Duguay@DB.com</td><td>0.52</td><td>Nigeria</td></tr><tr><td>29</td><td>Female</td><td>Jalisa Swenson</td><td>Cloud</td><td>7821333</td><td>95.0</td><td>Priscila Tavernier_Clementina Menke@PF.com</td><td>0.95</td><td>Nigeria</td></tr><tr><td>28</td><td>Female</td><td>Marylee Capasso</td><td>Cloud</td><td>7831780</td><td>83.0</td><td>Ernest Rossbach_Michelle Ruggiero@DB.com</td><td>0.83</td><td>Nigeria</td></tr><tr><td>28</td><td>Female</td><td>Sebrina Maresca</td><td>PF</td><td>7841496</td><td>42.0</td><td>Alberta Freund_Mitzi Seldon@PF.com</td><td>0.42</td><td>Nigeria</td></tr><tr><td>29</td><td>Male</td><td>Niki Klimek</td><td>PF</td><td>7852889</td><td>58.0</td><td>Taryn Brownlee_Elenore Choy@PF.com</td><td>0.58</td><td>Nigeria</td></tr><tr><td>29</td><td>Male</td><td>Kena Wild</td><td>PF</td><td>7862418</td><td>66.0</td><td>Clementina Menke_Jalisa Swenson@DB.com</td><td>0.66</td><td>Nigeria</td></tr><tr><td>29</td><td>Male</td><td>Clementina Menke</td><td>DB</td><td>7872434</td><td>78.0</td><td>Jalisa Swenson_Alberta Freund@OOP.com</td><td>0.78</td><td>Nigeria</td></tr><tr><td>28</td><td>Male</td><td>Taryn Brownlee</td><td>Cloud</td><td>7881046</td><td>91.0</td><td>Eda Neathery_Dustin Feagins@MVC.com</td><td>0.91</td><td>Nigeria</td></tr><tr><td>29</td><td>Male</td><td>Alberta Freund</td><td>DSA</td><td>7891322</td><td>96.0</td><td>Maybell Duguay_Loris Crossett@PF.com</td><td>0.96</td><td>Nigeria</td></tr><tr><td>28</td><td>Male</td><td>Tamera Blakley</td><td>PF</td><td>7901879</td><td>67.0</td><td>Taryn Brownlee_Gonzalo Ferebee@PF.com</td><td>0.67</td><td>Nigeria</td></tr><tr><td>29</td><td>Female</td><td>Toshiko Hillyard</td><td>MVC</td><td>7912392</td><td>48.0</td><td>Kena Wild_Alberta Freund@Cloud.com</td><td>0.48</td><td>Nigeria</td></tr><tr><td>28</td><td>Male</td><td>Marylee Capasso</td><td>Cloud</td><td>7922051</td><td>102.0</td><td>Sebrina Maresca_Dustin Feagins@OOP.com</td><td>1.02</td><td>Nigeria</td></tr><tr><td>29</td><td>Female</td><td>Margene Moores</td><td>MVC</td><td>7932894</td><td>88.0</td><td>Mickey Cortright_Niki Klimek@OOP.com</td><td>0.88</td><td>Nigeria</td></tr><tr><td>29</td><td>Male</td><td>Celeste Lollis</td><td>MVC</td><td>7941313</td><td>99.0</td><td>Eda Neathery_Neda Briski@OOP.com</td><td>0.99</td><td>Nigeria</td></tr><tr><td>29</td><td>Male</td><td>Santa Kerfien</td><td>PF</td><td>7951241</td><td>41.0</td><td>Kena Wild_Niki Klimek@OOP.com</td><td>0.41</td><td>Nigeria</td></tr><tr><td>29</td><td>Male</td><td>Leontine Phillips</td><td>Cloud</td><td>7961043</td><td>36.0</td><td>Paris Hutton_Marylee Capasso@MVC.com</td><td>0.36</td><td>Nigeria</td></tr><tr><td>28</td><td>Male</td><td>Michelle Ruggiero</td><td>Cloud</td><td>7972167</td><td>79.0</td><td>Paris Hutton_Leontine Phillips@DB.com</td><td>0.79</td><td>Nigeria</td></tr><tr><td>28</td><td>Male</td><td>Margene Moores</td><td>MVC</td><td>7982164</td><td>94.0</td><td>Neda Briski_Celeste Lollis@Cloud.com</td><td>0.94</td><td>Nigeria</td></tr><tr><td>29</td><td>Male</td><td>Billi Clore</td><td>DB</td><td>7992784</td><td>68.0</td><td>Tamera Blakley_Dustin Feagins@MVC.com</td><td>0.68</td><td>Nigeria</td></tr><tr><td>29</td><td>Male</td><td>Ernest Rossbach</td><td>DB</td><td>8002285</td><td>86.0</td><td>Marylee Capasso_Naoma Fritts@DSA.com</td><td>0.86</td><td>Nigeria</td></tr><tr><td>28</td><td>Male</td><td>Santa Kerfien</td><td>OOP</td><td>8011750</td><td>57.0</td><td>Mitzi Seldon_Somer Stoecker@PF.com</td><td>0.57</td><td>Nigeria</td></tr><tr><td>29</td><td>Male</td><td>Jc Andrepont</td><td>OOP</td><td>8022618</td><td>107.0</td><td>Cordie Harnois_Jalisa Swenson@OOP.com</td><td>1.07</td><td>Nigeria</td></tr><tr><td>29</td><td>Female</td><td>Mickey Cortright</td><td>DB</td><td>8031057</td><td>76.0</td><td>Dustin Feagins_Tijuana Kropf@DB.com</td><td>0.76</td><td>Nigeria</td></tr><tr><td>29</td><td>Female</td><td>Eda Neathery</td><td>DSA</td><td>8042646</td><td>65.0</td><td>Abram Nagao_Donna Yerby@DB.com</td><td>0.65</td><td>Nigeria</td></tr><tr><td>28</td><td>Male</td><td>Jeannetta Golden</td><td>PF</td><td>8052474</td><td>48.0</td><td>Tamera Blakley_Sheryll Towler@DSA.com</td><td>0.48</td><td>Nigeria</td></tr><tr><td>29</td><td>Female</td><td>Lawanda Wohlwend</td><td>DSA</td><td>8061577</td><td>37.0</td><td>Anna Santos_Elenore Choy@MVC.com</td><td>0.37</td><td>Nigeria</td></tr><tr><td>28</td><td>Male</td><td>Cheri Kenney</td><td>Cloud</td><td>8071605</td><td>82.0</td><td>Maybell Duguay_Eda Neathery@MVC.com</td><td>0.82</td><td>Nigeria</td></tr><tr><td>29</td><td>Male</td><td>Celeste Lollis</td><td>MVC</td><td>8081881</td><td>97.0</td><td>Jenna Montague_Dustin Feagins@MVC.com</td><td>0.97</td><td>Nigeria</td></tr><tr><td>28</td><td>Male</td><td>Sebrina Maresca</td><td>DB</td><td>8092398</td><td>52.0</td><td>Claude Panos_Jc Andrepont@DB.com</td><td>0.52</td><td>Nigeria</td></tr><tr><td>28</td><td>Male</td><td>Bonita Higuera</td><td>Cloud</td><td>8101902</td><td>94.0</td><td>Jc Andrepont_Neda Briski@OOP.com</td><td>0.94</td><td>Nigeria</td></tr><tr><td>29</td><td>Male</td><td>Loris Crossett</td><td>PF</td><td>8111334</td><td>41.0</td><td>Jeannetta Golden_Mickey Cortright@DSA.com</td><td>0.41</td><td>Nigeria</td></tr><tr><td>29</td><td>Female</td><td>Nicole Harwood</td><td>PF</td><td>8121198</td><td>31.0</td><td>Bonita Higuera_Priscila Tavernier@Cloud.com</td><td>0.31</td><td>Nigeria</td></tr><tr><td>28</td><td>Female</td><td>Somer Stoecker</td><td>PF</td><td>8131896</td><td>50.0</td><td>Melani Engberg_Sheryll Towler@DSA.com</td><td>0.5</td><td>Nigeria</td></tr><tr><td>28</td><td>Male</td><td>Elenore Choy</td><td>OOP</td><td>8141533</td><td>38.0</td><td>Anna Santos_Dustin Feagins@MVC.com</td><td>0.38</td><td>Nigeria</td></tr><tr><td>28</td><td>Male</td><td>Annika Hoffman</td><td>MVC</td><td>8152949</td><td>72.0</td><td>Annika Hoffman_Naoma Fritts@MVC.com</td><td>0.72</td><td>Nigeria</td></tr><tr><td>29</td><td>Male</td><td>Leontine Phillips</td><td>Cloud</td><td>8162392</td><td>33.0</td><td>Clementina Menke_Neda Briski@Cloud.com</td><td>0.33</td><td>Nigeria</td></tr><tr><td>28</td><td>Male</td><td>Loris Crossett</td><td>OOP</td><td>8172914</td><td>108.0</td><td>Paris Hutton_Paris Hutton@OOP.com</td><td>1.08</td><td>Nigeria</td></tr><tr><td>28</td><td>Female</td><td>Nicole Harwood</td><td>DB</td><td>8181552</td><td>47.0</td><td>Hubert Oliveras_Gonzalo Ferebee@Cloud.com</td><td>0.47</td><td>Nigeria</td></tr><tr><td>29</td><td>Male</td><td>Hubert Oliveras</td><td>Cloud</td><td>8191045</td><td>39.0</td><td>Toshiko Hillyard_Leontine Phillips@DSA.com</td><td>0.39</td><td>Nigeria</td></tr><tr><td>29</td><td>Male</td><td>Eda Neathery</td><td>MVC</td><td>8202489</td><td>40.0</td><td>Jc Andrepont_Maybell Duguay@PF.com</td><td>0.4</td><td>Nigeria</td></tr><tr><td>28</td><td>Female</td><td>Leontine Phillips</td><td>OOP</td><td>8212555</td><td>61.0</td><td>Jenna Montague_Cheri Kenney@Cloud.com</td><td>0.61</td><td>Nigeria</td></tr><tr><td>29</td><td>Male</td><td>Melani Engberg</td><td>PF</td><td>8222832</td><td>54.0</td><td>Niki Klimek_Billi Clore@PF.com</td><td>0.54</td><td>Nigeria</td></tr><tr><td>29</td><td>Male</td><td>Loris Crossett</td><td>DSA</td><td>8232415</td><td>87.0</td><td>Priscila Tavernier_Kena Wild@DB.com</td><td>0.87</td><td>Nigeria</td></tr><tr><td>28</td><td>Male</td><td>Jeannetta Golden</td><td>Cloud</td><td>8242650</td><td>72.0</td><td>Dustin Feagins_Annika Hoffman@OOP.com</td><td>0.72</td><td>Nigeria</td></tr><tr><td>28</td><td>Female</td><td>Clementina Menke</td><td>OOP</td><td>8251736</td><td>58.0</td><td>Tamera Blakley_Loris Crossett@OOP.com</td><td>0.58</td><td>Nigeria</td></tr><tr><td>29</td><td>Female</td><td>Ernest Rossbach</td><td>DSA</td><td>8262618</td><td>44.0</td><td>Billi Clore_Clementina Menke@Cloud.com</td><td>0.44</td><td>Nigeria</td></tr><tr><td>28</td><td>Female</td><td>Sheryll Towler</td><td>DB</td><td>8271000</td><td>47.0</td><td>Neda Briski_Anna Santos@Cloud.com</td><td>0.47</td><td>Nigeria</td></tr><tr><td>29</td><td>Male</td><td>Billi Clore</td><td>OOP</td><td>8282116</td><td>82.0</td><td>Elenore Choy_Clementina Menke@PF.com</td><td>0.82</td><td>Nigeria</td></tr><tr><td>28</td><td>Male</td><td>Bonita Higuera</td><td>MVC</td><td>8291218</td><td>81.0</td><td>Jeannetta Golden_Sebrina Maresca@PF.com</td><td>0.81</td><td>Nigeria</td></tr><tr><td>29</td><td>Female</td><td>Tamera Blakley</td><td>OOP</td><td>8301646</td><td>73.0</td><td>Abram Nagao_Mitzi Seldon@DB.com</td><td>0.73</td><td>Nigeria</td></tr><tr><td>28</td><td>Female</td><td>Judie Chipps</td><td>DSA</td><td>8312884</td><td>98.0</td><td>Kena Wild_Clementina Menke@DB.com</td><td>0.98</td><td>Nigeria</td></tr><tr><td>28</td><td>Male</td><td>Paris Hutton</td><td>PF</td><td>8321357</td><td>87.0</td><td>Abram Nagao_Tamera Blakley@OOP.com</td><td>0.87</td><td>Nigeria</td></tr><tr><td>29</td><td>Male</td><td>Kena Wild</td><td>PF</td><td>8331264</td><td>56.0</td><td>Marylee Capasso_Celeste Lollis@DSA.com</td><td>0.56</td><td>Nigeria</td></tr><tr><td>29</td><td>Female</td><td>Elenore Choy</td><td>DSA</td><td>8342105</td><td>51.0</td><td>Abram Nagao_Nicole Harwood@Cloud.com</td><td>0.51</td><td>Nigeria</td></tr><tr><td>29</td><td>Female</td><td>Gonzalo Ferebee</td><td>Cloud</td><td>8352347</td><td>79.0</td><td>Neda Briski_Ernest Rossbach@Cloud.com</td><td>0.79</td><td>Nigeria</td></tr><tr><td>28</td><td>Male</td><td>Dustin Feagins</td><td>MVC</td><td>8361501</td><td>63.0</td><td>Billi Clore_Kizzy Brenner@MVC.com</td><td>0.63</td><td>Nigeria</td></tr><tr><td>28</td><td>Male</td><td>Clementina Menke</td><td>Cloud</td><td>8372528</td><td>53.0</td><td>Tamera Blakley_Somer Stoecker@MVC.com</td><td>0.53</td><td>Nigeria</td></tr><tr><td>28</td><td>Male</td><td>Priscila Tavernier</td><td>OOP</td><td>8382954</td><td>103.0</td><td>Jeannetta Golden_Kizzy Brenner@Cloud.com</td><td>1.03</td><td>Nigeria</td></tr><tr><td>29</td><td>Female</td><td>Gonzalo Ferebee</td><td>MVC</td><td>8392287</td><td>91.0</td><td>Santa Kerfien_Neda Briski@OOP.com</td><td>0.91</td><td>Nigeria</td></tr><tr><td>28</td><td>Female</td><td>Paris Hutton</td><td>PF</td><td>8401106</td><td>61.0</td><td>Maybell Duguay_Michelle Ruggiero@DB.com</td><td>0.61</td><td>Nigeria</td></tr><tr><td>28</td><td>Male</td><td>Mickey Cortright</td><td>DB</td><td>8411430</td><td>80.0</td><td>Hubert Oliveras_Ernest Rossbach@PF.com</td><td>0.8</td><td>Nigeria</td></tr><tr><td>28</td><td>Female</td><td>Bonita Higuera</td><td>DSA</td><td>8421653</td><td>106.0</td><td>Annika Hoffman_Bonita Higuera@Cloud.com</td><td>1.06</td><td>Nigeria</td></tr><tr><td>28</td><td>Female</td><td>Taryn Brownlee</td><td>OOP</td><td>8431353</td><td>73.0</td><td>Neda Briski_Cordie Harnois@Cloud.com</td><td>0.73</td><td>Nigeria</td></tr><tr><td>28</td><td>Female</td><td>Eda Neathery</td><td>DSA</td><td>8441503</td><td>88.0</td><td>Jalisa Swenson_Mitzi Seldon@MVC.com</td><td>0.88</td><td>Nigeria</td></tr><tr><td>29</td><td>Female</td><td>Cordie Harnois</td><td>OOP</td><td>8452121</td><td>94.0</td><td>Kena Wild_Dustin Feagins@DB.com</td><td>0.94</td><td>Nigeria</td></tr><tr><td>29</td><td>Female</td><td>Mickey Cortright</td><td>OOP</td><td>8462156</td><td>87.0</td><td>Elenore Choy_Tijuana Kropf@Cloud.com</td><td>0.87</td><td>Nigeria</td></tr><tr><td>28</td><td>Male</td><td>Kena Wild</td><td>DB</td><td>8471833</td><td>46.0</td><td>Tamera Blakley_Jeannetta Golden@OOP.com</td><td>0.46</td><td>Nigeria</td></tr><tr><td>28</td><td>Male</td><td>Anna Santos</td><td>MVC</td><td>8482305</td><td>63.0</td><td>Sheryll Towler_Kizzy Brenner@PF.com</td><td>0.63</td><td>Nigeria</td></tr><tr><td>28</td><td>Female</td><td>Ernest Rossbach</td><td>DSA</td><td>8492768</td><td>71.0</td><td>Jenna Montague_Elenore Choy@DSA.com</td><td>0.71</td><td>Nigeria</td></tr><tr><td>29</td><td>Female</td><td>Annika Hoffman</td><td>MVC</td><td>8502572</td><td>81.0</td><td>Sebrina Maresca_Jeannetta Golden@Cloud.com</td><td>0.81</td><td>Nigeria</td></tr><tr><td>29</td><td>Female</td><td>Mickey Cortright</td><td>OOP</td><td>8511805</td><td>57.0</td><td>Latia Vanhoose_Somer Stoecker@OOP.com</td><td>0.57</td><td>Nigeria</td></tr><tr><td>28</td><td>Male</td><td>Tijuana Kropf</td><td>DB</td><td>8522175</td><td>97.0</td><td>Mickey Cortright_Claude Panos@MVC.com</td><td>0.97</td><td>Nigeria</td></tr><tr><td>28</td><td>Female</td><td>Elenore Choy</td><td>MVC</td><td>8532574</td><td>86.0</td><td>Tijuana Kropf_Loris Crossett@Cloud.com</td><td>0.86</td><td>Nigeria</td></tr><tr><td>28</td><td>Male</td><td>Loris Crossett</td><td>MVC</td><td>8541796</td><td>100.0</td><td>Clementina Menke_Michelle Ruggiero@Cloud.com</td><td>1.0</td><td>Nigeria</td></tr><tr><td>28</td><td>Female</td><td>Leontine Phillips</td><td>MVC</td><td>8551036</td><td>41.0</td><td>Celeste Lollis_Anna Santos@MVC.com</td><td>0.41</td><td>Nigeria</td></tr><tr><td>29</td><td>Female</td><td>Dustin Feagins</td><td>DB</td><td>8561099</td><td>42.0</td><td>Margene Moores_Margene Moores@Cloud.com</td><td>0.42</td><td>Nigeria</td></tr><tr><td>28</td><td>Male</td><td>Anna Santos</td><td>Cloud</td><td>8571411</td><td>104.0</td><td>Jc Andrepont_Cordie Harnois@OOP.com</td><td>1.04</td><td>Nigeria</td></tr><tr><td>29</td><td>Female</td><td>Loris Crossett</td><td>DSA</td><td>8581552</td><td>96.0</td><td>Taryn Brownlee_Elenore Choy@Cloud.com</td><td>0.96</td><td>Nigeria</td></tr><tr><td>29</td><td>Male</td><td>Cordie Harnois</td><td>MVC</td><td>8592355</td><td>105.0</td><td>Ernest Rossbach_Tijuana Kropf@OOP.com</td><td>1.05</td><td>Nigeria</td></tr><tr><td>29</td><td>Female</td><td>Taryn Brownlee</td><td>OOP</td><td>8602786</td><td>50.0</td><td>Elenore Choy_Ernest Rossbach@DB.com</td><td>0.5</td><td>Nigeria</td></tr><tr><td>28</td><td>Male</td><td>Naoma Fritts</td><td>DB</td><td>8611528</td><td>99.0</td><td>Nicole Harwood_Clementina Menke@MVC.com</td><td>0.99</td><td>Nigeria</td></tr><tr><td>29</td><td>Male</td><td>Marylee Capasso</td><td>Cloud</td><td>8622148</td><td>39.0</td><td>Hubert Oliveras_Claude Panos@Cloud.com</td><td>0.39</td><td>Nigeria</td></tr><tr><td>29</td><td>Female</td><td>Clementina Menke</td><td>PF</td><td>8632774</td><td>43.0</td><td>Dustin Feagins_Latia Vanhoose@PF.com</td><td>0.43</td><td>Nigeria</td></tr><tr><td>29</td><td>Female</td><td>Sheryll Towler</td><td>Cloud</td><td>8641804</td><td>41.0</td><td>Somer Stoecker_Marylee Capasso@PF.com</td><td>0.41</td><td>Nigeria</td></tr><tr><td>29</td><td>Male</td><td>Cheri Kenney</td><td>DB</td><td>8652382</td><td>46.0</td><td>Santa Kerfien_Cordie Harnois@Cloud.com</td><td>0.46</td><td>Nigeria</td></tr><tr><td>28</td><td>Female</td><td>Loris Crossett</td><td>OOP</td><td>8661474</td><td>82.0</td><td>Neda Briski_Jeannetta Golden@DB.com</td><td>0.82</td><td>Nigeria</td></tr><tr><td>29</td><td>Male</td><td>Alberta Freund</td><td>Cloud</td><td>8671926</td><td>95.0</td><td>Paris Hutton_Somer Stoecker@PF.com</td><td>0.95</td><td>Nigeria</td></tr><tr><td>28</td><td>Male</td><td>Neda Briski</td><td>OOP</td><td>8681708</td><td>44.0</td><td>Jenna Montague_Lawanda Wohlwend@OOP.com</td><td>0.44</td><td>Nigeria</td></tr><tr><td>28</td><td>Male</td><td>Nicole Harwood</td><td>MVC</td><td>8692811</td><td>73.0</td><td>Neda Briski_Kena Wild@Cloud.com</td><td>0.73</td><td>Nigeria</td></tr><tr><td>29</td><td>Male</td><td>Donna Yerby</td><td>DB</td><td>8701973</td><td>43.0</td><td>Priscila Tavernier_Mitzi Seldon@DB.com</td><td>0.43</td><td>Nigeria</td></tr><tr><td>28</td><td>Female</td><td>Melani Engberg</td><td>DSA</td><td>8712604</td><td>79.0</td><td>Celeste Lollis_Claude Panos@MVC.com</td><td>0.79</td><td>Nigeria</td></tr><tr><td>29</td><td>Female</td><td>Neda Briski</td><td>DB</td><td>8722464</td><td>40.0</td><td>Mickey Cortright_Anna Santos@OOP.com</td><td>0.4</td><td>Nigeria</td></tr><tr><td>28</td><td>Female</td><td>Somer Stoecker</td><td>OOP</td><td>8732476</td><td>75.0</td><td>Annika Hoffman_Anna Santos@DB.com</td><td>0.75</td><td>Nigeria</td></tr><tr><td>29</td><td>Male</td><td>Maybell Duguay</td><td>PF</td><td>8741191</td><td>89.0</td><td>Judie Chipps_Niki Klimek@OOP.com</td><td>0.89</td><td>Nigeria</td></tr><tr><td>29</td><td>Male</td><td>Cheri Kenney</td><td>MVC</td><td>8752460</td><td>94.0</td><td>Cordie Harnois_Jeannetta Golden@PF.com</td><td>0.94</td><td>Nigeria</td></tr><tr><td>29</td><td>Male</td><td>Celeste Lollis</td><td>MVC</td><td>8762292</td><td>45.0</td><td>Clementina Menke_Tijuana Kropf@DB.com</td><td>0.45</td><td>Nigeria</td></tr><tr><td>29</td><td>Female</td><td>Annika Hoffman</td><td>OOP</td><td>8772154</td><td>89.0</td><td>Tijuana Kropf_Cordie Harnois@DSA.com</td><td>0.89</td><td>Nigeria</td></tr><tr><td>29</td><td>Male</td><td>Niki Klimek</td><td>Cloud</td><td>8782036</td><td>82.0</td><td>Clementina Menke_Taryn Brownlee@MVC.com</td><td>0.82</td><td>Nigeria</td></tr><tr><td>29</td><td>Male</td><td>Billi Clore</td><td>MVC</td><td>8792432</td><td>89.0</td><td>Anna Santos_Jalisa Swenson@Cloud.com</td><td>0.89</td><td>Nigeria</td></tr><tr><td>28</td><td>Female</td><td>Toshiko Hillyard</td><td>MVC</td><td>8801160</td><td>96.0</td><td>Neda Briski_Donna Yerby@DB.com</td><td>0.96</td><td>Nigeria</td></tr><tr><td>29</td><td>Male</td><td>Mitzi Seldon</td><td>DB</td><td>8811681</td><td>56.0</td><td>Ernest Rossbach_Eda Neathery@MVC.com</td><td>0.56</td><td>Nigeria</td></tr><tr><td>28</td><td>Male</td><td>Tijuana Kropf</td><td>Cloud</td><td>8822597</td><td>41.0</td><td>Lawanda Wohlwend_Eda Neathery@MVC.com</td><td>0.41</td><td>Nigeria</td></tr><tr><td>28</td><td>Female</td><td>Nicole Harwood</td><td>MVC</td><td>8831173</td><td>37.0</td><td>Gonzalo Ferebee_Dustin Feagins@OOP.com</td><td>0.37</td><td>Nigeria</td></tr><tr><td>29</td><td>Female</td><td>Claude Panos</td><td>OOP</td><td>8842014</td><td>40.0</td><td>Annika Hoffman_Jenna Montague@Cloud.com</td><td>0.4</td><td>Nigeria</td></tr><tr><td>28</td><td>Male</td><td>Annika Hoffman</td><td>Cloud</td><td>8852570</td><td>92.0</td><td>Kizzy Brenner_Claude Panos@MVC.com</td><td>0.92</td><td>Nigeria</td></tr><tr><td>28</td><td>Female</td><td>Nicole Harwood</td><td>Cloud</td><td>8862840</td><td>77.0</td><td>Claude Panos_Claude Panos@DSA.com</td><td>0.77</td><td>Nigeria</td></tr><tr><td>28</td><td>Male</td><td>Dustin Feagins</td><td>DB</td><td>8871049</td><td>108.0</td><td>Jenna Montague_Claude Panos@DSA.com</td><td>1.08</td><td>Nigeria</td></tr><tr><td>29</td><td>Male</td><td>Nicole Harwood</td><td>MVC</td><td>8882981</td><td>42.0</td><td>Santa Kerfien_Eda Neathery@OOP.com</td><td>0.42</td><td>Nigeria</td></tr><tr><td>29</td><td>Male</td><td>Marylee Capasso</td><td>OOP</td><td>8891960</td><td>39.0</td><td>Mickey Cortright_Billi Clore@PF.com</td><td>0.39</td><td>Nigeria</td></tr><tr><td>28</td><td>Male</td><td>Somer Stoecker</td><td>DSA</td><td>8902098</td><td>83.0</td><td>Nicole Harwood_Paris Hutton@PF.com</td><td>0.83</td><td>Nigeria</td></tr><tr><td>28</td><td>Male</td><td>Celeste Lollis</td><td>PF</td><td>8911713</td><td>103.0</td><td>Hubert Oliveras_Mitzi Seldon@DB.com</td><td>1.03</td><td>Nigeria</td></tr><tr><td>28</td><td>Male</td><td>Mitzi Seldon</td><td>Cloud</td><td>8922149</td><td>75.0</td><td>Maybell Duguay_Hubert Oliveras@PF.com</td><td>0.75</td><td>Nigeria</td></tr><tr><td>28</td><td>Male</td><td>Billi Clore</td><td>OOP</td><td>8932725</td><td>69.0</td><td>Kizzy Brenner_Latia Vanhoose@PF.com</td><td>0.69</td><td>Nigeria</td></tr><tr><td>29</td><td>Female</td><td>Gonzalo Ferebee</td><td>Cloud</td><td>8942812</td><td>97.0</td><td>Michelle Ruggiero_Neda Briski@Cloud.com</td><td>0.97</td><td>Nigeria</td></tr><tr><td>29</td><td>Female</td><td>Annika Hoffman</td><td>DSA</td><td>8951068</td><td>104.0</td><td>Neda Briski_Abram Nagao@OOP.com</td><td>1.04</td><td>Nigeria</td></tr><tr><td>28</td><td>Female</td><td>Leontine Phillips</td><td>Cloud</td><td>8962531</td><td>94.0</td><td>Tamera Blakley_Marylee Capasso@Cloud.com</td><td>0.94</td><td>Nigeria</td></tr><tr><td>28</td><td>Male</td><td>Ernest Rossbach</td><td>MVC</td><td>8972546</td><td>72.0</td><td>Sheryll Towler_Jeannetta Golden@PF.com</td><td>0.72</td><td>Nigeria</td></tr><tr><td>28</td><td>Male</td><td>Kizzy Brenner</td><td>OOP</td><td>8981887</td><td>37.0</td><td>Naoma Fritts_Mitzi Seldon@DB.com</td><td>0.37</td><td>Nigeria</td></tr><tr><td>28</td><td>Male</td><td>Elenore Choy</td><td>DSA</td><td>8991321</td><td>67.0</td><td>Celeste Lollis_Margene Moores@DB.com</td><td>0.67</td><td>Nigeria</td></tr><tr><td>29</td><td>Male</td><td>Santa Kerfien</td><td>DSA</td><td>9002004</td><td>37.0</td><td>Jeannetta Golden_Clementina Menke@MVC.com</td><td>0.37</td><td>Nigeria</td></tr><tr><td>28</td><td>Female</td><td>Lawanda Wohlwend</td><td>OOP</td><td>9011862</td><td>58.0</td><td>Jalisa Swenson_Gonzalo Ferebee@OOP.com</td><td>0.58</td><td>Nigeria</td></tr><tr><td>29</td><td>Male</td><td>Elenore Choy</td><td>DB</td><td>9021601</td><td>56.0</td><td>Clementina Menke_Mickey Cortright@PF.com</td><td>0.56</td><td>Nigeria</td></tr><tr><td>28</td><td>Male</td><td>Alberta Freund</td><td>DSA</td><td>9031966</td><td>66.0</td><td>Niki Klimek_Alberta Freund@PF.com</td><td>0.66</td><td>Nigeria</td></tr><tr><td>29</td><td>Male</td><td>Celeste Lollis</td><td>Cloud</td><td>9042870</td><td>62.0</td><td>Bonita Higuera_Jeannetta Golden@PF.com</td><td>0.62</td><td>Nigeria</td></tr><tr><td>29</td><td>Male</td><td>Sheryll Towler</td><td>MVC</td><td>9052132</td><td>98.0</td><td>Jeannetta Golden_Donna Yerby@DB.com</td><td>0.98</td><td>Nigeria</td></tr><tr><td>29</td><td>Female</td><td>Jalisa Swenson</td><td>DSA</td><td>9061384</td><td>51.0</td><td>Jenna Montague_Melani Engberg@DSA.com</td><td>0.51</td><td>Nigeria</td></tr><tr><td>29</td><td>Male</td><td>Celeste Lollis</td><td>Cloud</td><td>9072506</td><td>91.0</td><td>Celeste Lollis_Cordie Harnois@Cloud.com</td><td>0.91</td><td>Nigeria</td></tr><tr><td>29</td><td>Female</td><td>Ernest Rossbach</td><td>Cloud</td><td>9082371</td><td>89.0</td><td>Jalisa Swenson_Mitzi Seldon@DB.com</td><td>0.89</td><td>Nigeria</td></tr><tr><td>29</td><td>Female</td><td>Annika Hoffman</td><td>OOP</td><td>9091099</td><td>99.0</td><td>Kizzy Brenner_Jeannetta Golden@MVC.com</td><td>0.99</td><td>Nigeria</td></tr><tr><td>29</td><td>Male</td><td>Gonzalo Ferebee</td><td>Cloud</td><td>9102078</td><td>55.0</td><td>Tamera Blakley_Melani Engberg@MVC.com</td><td>0.55</td><td>Nigeria</td></tr><tr><td>29</td><td>Female</td><td>Marylee Capasso</td><td>DSA</td><td>9112909</td><td>48.0</td><td>Priscila Tavernier_Hubert Oliveras@Cloud.com</td><td>0.48</td><td>Nigeria</td></tr><tr><td>29</td><td>Female</td><td>Lawanda Wohlwend</td><td>DSA</td><td>9122250</td><td>56.0</td><td>Jeannetta Golden_Sheryll Towler@DB.com</td><td>0.56</td><td>Nigeria</td></tr><tr><td>29</td><td>Female</td><td>Judie Chipps</td><td>MVC</td><td>9131672</td><td>45.0</td><td>Tijuana Kropf_Taryn Brownlee@DSA.com</td><td>0.45</td><td>Nigeria</td></tr><tr><td>28</td><td>Female</td><td>Taryn Brownlee</td><td>MVC</td><td>9142398</td><td>69.0</td><td>Lawanda Wohlwend_Billi Clore@Cloud.com</td><td>0.69</td><td>Nigeria</td></tr><tr><td>28</td><td>Male</td><td>Billi Clore</td><td>DB</td><td>9151306</td><td>31.0</td><td>Latia Vanhoose_Ernest Rossbach@DB.com</td><td>0.31</td><td>Nigeria</td></tr><tr><td>28</td><td>Female</td><td>Nicole Harwood</td><td>PF</td><td>9162701</td><td>71.0</td><td>Jc Andrepont_Jeannetta Golden@Cloud.com</td><td>0.71</td><td>Nigeria</td></tr><tr><td>28</td><td>Male</td><td>Claude Panos</td><td>OOP</td><td>9172978</td><td>70.0</td><td>Cordie Harnois_Tamera Blakley@DSA.com</td><td>0.7</td><td>Nigeria</td></tr><tr><td>28</td><td>Male</td><td>Cheri Kenney</td><td>DSA</td><td>9181598</td><td>54.0</td><td>Jc Andrepont_Maybell Duguay@OOP.com</td><td>0.54</td><td>Nigeria</td></tr><tr><td>29</td><td>Female</td><td>Melani Engberg</td><td>DB</td><td>9192452</td><td>62.0</td><td>Niki Klimek_Niki Klimek@OOP.com</td><td>0.62</td><td>Nigeria</td></tr><tr><td>29</td><td>Male</td><td>Ernest Rossbach</td><td>MVC</td><td>9201305</td><td>63.0</td><td>Gonzalo Ferebee_Billi Clore@DB.com</td><td>0.63</td><td>Nigeria</td></tr><tr><td>28</td><td>Female</td><td>Cheri Kenney</td><td>PF</td><td>9211167</td><td>40.0</td><td>Mitzi Seldon_Somer Stoecker@PF.com</td><td>0.4</td><td>Nigeria</td></tr><tr><td>29</td><td>Female</td><td>Eda Neathery</td><td>PF</td><td>9222608</td><td>109.0</td><td>Kena Wild_Lawanda Wohlwend@OOP.com</td><td>1.09</td><td>Nigeria</td></tr><tr><td>29</td><td>Female</td><td>Michelle Ruggiero</td><td>DB</td><td>9232210</td><td>30.0</td><td>Donna Yerby_Latia Vanhoose@DB.com</td><td>0.3</td><td>Nigeria</td></tr><tr><td>29</td><td>Male</td><td>Cordie Harnois</td><td>DSA</td><td>9242198</td><td>82.0</td><td>Maybell Duguay_Tamera Blakley@Cloud.com</td><td>0.82</td><td>Nigeria</td></tr><tr><td>29</td><td>Female</td><td>Melani Engberg</td><td>DSA</td><td>9252365</td><td>107.0</td><td>Naoma Fritts_Melani Engberg@OOP.com</td><td>1.07</td><td>Nigeria</td></tr><tr><td>28</td><td>Female</td><td>Taryn Brownlee</td><td>OOP</td><td>9262265</td><td>53.0</td><td>Cordie Harnois_Elenore Choy@DB.com</td><td>0.53</td><td>Nigeria</td></tr><tr><td>28</td><td>Female</td><td>Jalisa Swenson</td><td>Cloud</td><td>9272149</td><td>49.0</td><td>Gonzalo Ferebee_Nicole Harwood@MVC.com</td><td>0.49</td><td>Nigeria</td></tr><tr><td>29</td><td>Female</td><td>Jalisa Swenson</td><td>DB</td><td>9282374</td><td>43.0</td><td>Judie Chipps_Annika Hoffman@OOP.com</td><td>0.43</td><td>Nigeria</td></tr><tr><td>29</td><td>Male</td><td>Mickey Cortright</td><td>Cloud</td><td>9291579</td><td>96.0</td><td>Margene Moores_Priscila Tavernier@MVC.com</td><td>0.96</td><td>Nigeria</td></tr><tr><td>29</td><td>Male</td><td>Gonzalo Ferebee</td><td>Cloud</td><td>9302691</td><td>50.0</td><td>Niki Klimek_Alberta Freund@MVC.com</td><td>0.5</td><td>Nigeria</td></tr><tr><td>29</td><td>Male</td><td>Niki Klimek</td><td>DSA</td><td>9311407</td><td>100.0</td><td>Marylee Capasso_Ernest Rossbach@PF.com</td><td>1.0</td><td>Nigeria</td></tr><tr><td>28</td><td>Female</td><td>Cheri Kenney</td><td>DSA</td><td>9322391</td><td>81.0</td><td>Cheri Kenney_Claude Panos@OOP.com</td><td>0.81</td><td>Nigeria</td></tr><tr><td>29</td><td>Male</td><td>Gonzalo Ferebee</td><td>PF</td><td>9331055</td><td>106.0</td><td>Kizzy Brenner_Alberta Freund@Cloud.com</td><td>1.06</td><td>Nigeria</td></tr><tr><td>28</td><td>Female</td><td>Clementina Menke</td><td>DSA</td><td>9342400</td><td>47.0</td><td>Claude Panos_Ernest Rossbach@DSA.com</td><td>0.47</td><td>Nigeria</td></tr><tr><td>29</td><td>Female</td><td>Michelle Ruggiero</td><td>DSA</td><td>9352759</td><td>107.0</td><td>Kena Wild_Nicole Harwood@DSA.com</td><td>1.07</td><td>Nigeria</td></tr><tr><td>28</td><td>Male</td><td>Mitzi Seldon</td><td>PF</td><td>9362744</td><td>36.0</td><td>Somer Stoecker_Santa Kerfien@DSA.com</td><td>0.36</td><td>Nigeria</td></tr><tr><td>29</td><td>Female</td><td>Ernest Rossbach</td><td>DB</td><td>9371629</td><td>106.0</td><td>Melani Engberg_Latia Vanhoose@PF.com</td><td>1.06</td><td>Nigeria</td></tr><tr><td>28</td><td>Female</td><td>Paris Hutton</td><td>OOP</td><td>9382928</td><td>38.0</td><td>Kena Wild_Gonzalo Ferebee@PF.com</td><td>0.38</td><td>Nigeria</td></tr><tr><td>28</td><td>Female</td><td>Jc Andrepont</td><td>Cloud</td><td>9391046</td><td>44.0</td><td>Latia Vanhoose_Taryn Brownlee@MVC.com</td><td>0.44</td><td>Nigeria</td></tr><tr><td>28</td><td>Female</td><td>Kena Wild</td><td>MVC</td><td>9401194</td><td>34.0</td><td>Niki Klimek_Michelle Ruggiero@DB.com</td><td>0.34</td><td>Nigeria</td></tr><tr><td>28</td><td>Male</td><td>Jenna Montague</td><td>DB</td><td>9411416</td><td>45.0</td><td>Latia Vanhoose_Paris Hutton@DSA.com</td><td>0.45</td><td>Nigeria</td></tr><tr><td>29</td><td>Female</td><td>Abram Nagao</td><td>Cloud</td><td>9422898</td><td>48.0</td><td>Cheri Kenney_Santa Kerfien@OOP.com</td><td>0.48</td><td>Nigeria</td></tr><tr><td>29</td><td>Female</td><td>Tijuana Kropf</td><td>Cloud</td><td>9431799</td><td>98.0</td><td>Lawanda Wohlwend_Cordie Harnois@MVC.com</td><td>0.98</td><td>Nigeria</td></tr><tr><td>28</td><td>Male</td><td>Latia Vanhoose</td><td>DSA</td><td>9442974</td><td>39.0</td><td>Jc Andrepont_Celeste Lollis@DB.com</td><td>0.39</td><td>Nigeria</td></tr><tr><td>28</td><td>Female</td><td>Judie Chipps</td><td>DB</td><td>9451237</td><td>59.0</td><td>Michelle Ruggiero_Sheryll Towler@MVC.com</td><td>0.59</td><td>Nigeria</td></tr><tr><td>29</td><td>Female</td><td>Gonzalo Ferebee</td><td>MVC</td><td>9461441</td><td>41.0</td><td>Michelle Ruggiero_Elenore Choy@DSA.com</td><td>0.41</td><td>Nigeria</td></tr><tr><td>28</td><td>Female</td><td>Latia Vanhoose</td><td>Cloud</td><td>9471888</td><td>66.0</td><td>Naoma Fritts_Kena Wild@DB.com</td><td>0.66</td><td>Nigeria</td></tr><tr><td>29</td><td>Female</td><td>Annika Hoffman</td><td>OOP</td><td>9482135</td><td>106.0</td><td>Somer Stoecker_Somer Stoecker@OOP.com</td><td>1.06</td><td>Nigeria</td></tr><tr><td>28</td><td>Male</td><td>Sebrina Maresca</td><td>PF</td><td>9492805</td><td>60.0</td><td>Neda Briski_Neda Briski@OOP.com</td><td>0.6</td><td>Nigeria</td></tr><tr><td>28</td><td>Male</td><td>Toshiko Hillyard</td><td>DB</td><td>9502901</td><td>79.0</td><td>Kena Wild_Leontine Phillips@DSA.com</td><td>0.79</td><td>Nigeria</td></tr><tr><td>29</td><td>Male</td><td>Kizzy Brenner</td><td>PF</td><td>9512850</td><td>62.0</td><td>Elenore Choy_Anna Santos@DB.com</td><td>0.62</td><td>Nigeria</td></tr><tr><td>28</td><td>Female</td><td>Jalisa Swenson</td><td>OOP</td><td>9522521</td><td>60.0</td><td>Leontine Phillips_Cheri Kenney@DB.com</td><td>0.6</td><td>Nigeria</td></tr><tr><td>29</td><td>Male</td><td>Celeste Lollis</td><td>Cloud</td><td>9531936</td><td>66.0</td><td>Cheri Kenney_Margene Moores@MVC.com</td><td>0.66</td><td>Nigeria</td></tr><tr><td>29</td><td>Female</td><td>Mickey Cortright</td><td>MVC</td><td>9542973</td><td>38.0</td><td>Sebrina Maresca_Eda Neathery@MVC.com</td><td>0.38</td><td>Nigeria</td></tr><tr><td>29</td><td>Male</td><td>Taryn Brownlee</td><td>PF</td><td>9551574</td><td>101.0</td><td>Jenna Montague_Billi Clore@MVC.com</td><td>1.01</td><td>Nigeria</td></tr><tr><td>29</td><td>Male</td><td>Maybell Duguay</td><td>DB</td><td>9562208</td><td>54.0</td><td>Celeste Lollis_Anna Santos@DSA.com</td><td>0.54</td><td>Nigeria</td></tr><tr><td>28</td><td>Female</td><td>Sheryll Towler</td><td>MVC</td><td>9571308</td><td>67.0</td><td>Margene Moores_Naoma Fritts@PF.com</td><td>0.67</td><td>Nigeria</td></tr><tr><td>28</td><td>Female</td><td>Naoma Fritts</td><td>MVC</td><td>9581172</td><td>80.0</td><td>Taryn Brownlee_Cheri Kenney@Cloud.com</td><td>0.8</td><td>Nigeria</td></tr><tr><td>29</td><td>Female</td><td>Annika Hoffman</td><td>OOP</td><td>9592635</td><td>50.0</td><td>Kena Wild_Margene Moores@Cloud.com</td><td>0.5</td><td>Nigeria</td></tr><tr><td>28</td><td>Male</td><td>Melani Engberg</td><td>DB</td><td>9602880</td><td>52.0</td><td>Niki Klimek_Mickey Cortright@DB.com</td><td>0.52</td><td>Nigeria</td></tr><tr><td>29</td><td>Male</td><td>Kena Wild</td><td>MVC</td><td>9611287</td><td>86.0</td><td>Cordie Harnois_Michelle Ruggiero@PF.com</td><td>0.86</td><td>Nigeria</td></tr><tr><td>28</td><td>Female</td><td>Leontine Phillips</td><td>DB</td><td>9622410</td><td>56.0</td><td>Kena Wild_Donna Yerby@Cloud.com</td><td>0.56</td><td>Nigeria</td></tr><tr><td>28</td><td>Male</td><td>Claude Panos</td><td>Cloud</td><td>9631836</td><td>83.0</td><td>Clementina Menke_Judie Chipps@DSA.com</td><td>0.83</td><td>Nigeria</td></tr><tr><td>29</td><td>Male</td><td>Celeste Lollis</td><td>DSA</td><td>9642293</td><td>85.0</td><td>Maybell Duguay_Tijuana Kropf@OOP.com</td><td>0.85</td><td>Nigeria</td></tr><tr><td>28</td><td>Male</td><td>Jc Andrepont</td><td>MVC</td><td>9652535</td><td>83.0</td><td>Michelle Ruggiero_Lawanda Wohlwend@DB.com</td><td>0.83</td><td>Nigeria</td></tr><tr><td>29</td><td>Male</td><td>Kena Wild</td><td>DSA</td><td>9662661</td><td>51.0</td><td>Latia Vanhoose_Sebrina Maresca@DB.com</td><td>0.51</td><td>Nigeria</td></tr><tr><td>29</td><td>Male</td><td>Leontine Phillips</td><td>DB</td><td>9671707</td><td>36.0</td><td>Sebrina Maresca_Jalisa Swenson@MVC.com</td><td>0.36</td><td>Nigeria</td></tr><tr><td>28</td><td>Female</td><td>Clementina Menke</td><td>DSA</td><td>9682190</td><td>34.0</td><td>Clementina Menke_Dustin Feagins@DB.com</td><td>0.34</td><td>Nigeria</td></tr><tr><td>28</td><td>Male</td><td>Loris Crossett</td><td>OOP</td><td>9692316</td><td>109.0</td><td>Judie Chipps_Michelle Ruggiero@Cloud.com</td><td>1.09</td><td>Nigeria</td></tr><tr><td>29</td><td>Male</td><td>Paris Hutton</td><td>DSA</td><td>9702829</td><td>32.0</td><td>Hubert Oliveras_Cheri Kenney@OOP.com</td><td>0.32</td><td>Nigeria</td></tr><tr><td>29</td><td>Female</td><td>Abram Nagao</td><td>PF</td><td>9711154</td><td>33.0</td><td>Judie Chipps_Naoma Fritts@DSA.com</td><td>0.33</td><td>Nigeria</td></tr><tr><td>28</td><td>Female</td><td>Niki Klimek</td><td>MVC</td><td>9722763</td><td>87.0</td><td>Taryn Brownlee_Jalisa Swenson@OOP.com</td><td>0.87</td><td>Nigeria</td></tr><tr><td>29</td><td>Male</td><td>Neda Briski</td><td>Cloud</td><td>9732604</td><td>87.0</td><td>Kena Wild_Hubert Oliveras@Cloud.com</td><td>0.87</td><td>Nigeria</td></tr><tr><td>29</td><td>Female</td><td>Mickey Cortright</td><td>Cloud</td><td>9741291</td><td>87.0</td><td>Melani Engberg_Donna Yerby@MVC.com</td><td>0.87</td><td>Nigeria</td></tr><tr><td>28</td><td>Female</td><td>Somer Stoecker</td><td>PF</td><td>9751163</td><td>46.0</td><td>Nicole Harwood_Margene Moores@MVC.com</td><td>0.46</td><td>Nigeria</td></tr><tr><td>28</td><td>Female</td><td>Loris Crossett</td><td>OOP</td><td>9761188</td><td>49.0</td><td>Alberta Freund_Bonita Higuera@DSA.com</td><td>0.49</td><td>Nigeria</td></tr><tr><td>28</td><td>Male</td><td>Anna Santos</td><td>DB</td><td>9772185</td><td>32.0</td><td>Kizzy Brenner_Annika Hoffman@PF.com</td><td>0.32</td><td>Nigeria</td></tr><tr><td>28</td><td>Female</td><td>Celeste Lollis</td><td>DB</td><td>9782472</td><td>54.0</td><td>Kena Wild_Hubert Oliveras@DSA.com</td><td>0.54</td><td>Nigeria</td></tr><tr><td>29</td><td>Female</td><td>Toshiko Hillyard</td><td>DSA</td><td>9792504</td><td>78.0</td><td>Nicole Harwood_Somer Stoecker@DB.com</td><td>0.78</td><td>Nigeria</td></tr><tr><td>29</td><td>Male</td><td>Donna Yerby</td><td>MVC</td><td>9802357</td><td>51.0</td><td>Tamera Blakley_Jalisa Swenson@MVC.com</td><td>0.51</td><td>Nigeria</td></tr><tr><td>29</td><td>Male</td><td>Santa Kerfien</td><td>DB</td><td>9811489</td><td>41.0</td><td>Abram Nagao_Melani Engberg@Cloud.com</td><td>0.41</td><td>Nigeria</td></tr><tr><td>29</td><td>Male</td><td>Hubert Oliveras</td><td>DB</td><td>9822797</td><td>61.0</td><td>Lawanda Wohlwend_Jalisa Swenson@DB.com</td><td>0.61</td><td>Nigeria</td></tr><tr><td>28</td><td>Male</td><td>Paris Hutton</td><td>DB</td><td>9832215</td><td>46.0</td><td>Niki Klimek_Tijuana Kropf@PF.com</td><td>0.46</td><td>Nigeria</td></tr><tr><td>29</td><td>Male</td><td>Mitzi Seldon</td><td>PF</td><td>9842669</td><td>40.0</td><td>Jalisa Swenson_Sebrina Maresca@MVC.com</td><td>0.4</td><td>Nigeria</td></tr><tr><td>28</td><td>Female</td><td>Donna Yerby</td><td>OOP</td><td>9851840</td><td>73.0</td><td>Ernest Rossbach_Mitzi Seldon@Cloud.com</td><td>0.73</td><td>Nigeria</td></tr><tr><td>29</td><td>Female</td><td>Marylee Capasso</td><td>DB</td><td>9862444</td><td>70.0</td><td>Bonita Higuera_Kena Wild@OOP.com</td><td>0.7</td><td>Nigeria</td></tr><tr><td>29</td><td>Female</td><td>Annika Hoffman</td><td>PF</td><td>9871120</td><td>94.0</td><td>Ernest Rossbach_Billi Clore@MVC.com</td><td>0.94</td><td>Nigeria</td></tr><tr><td>28</td><td>Male</td><td>Sheryll Towler</td><td>MVC</td><td>9881953</td><td>86.0</td><td>Ernest Rossbach_Santa Kerfien@DB.com</td><td>0.86</td><td>Nigeria</td></tr><tr><td>28</td><td>Male</td><td>Kena Wild</td><td>DSA</td><td>9891274</td><td>95.0</td><td>Donna Yerby_Leontine Phillips@Cloud.com</td><td>0.95</td><td>Nigeria</td></tr><tr><td>29</td><td>Male</td><td>Tijuana Kropf</td><td>DB</td><td>9902560</td><td>76.0</td><td>Tijuana Kropf_Abram Nagao@Cloud.com</td><td>0.76</td><td>Nigeria</td></tr><tr><td>28</td><td>Male</td><td>Neda Briski</td><td>PF</td><td>9912790</td><td>75.0</td><td>Hubert Oliveras_Taryn Brownlee@PF.com</td><td>0.75</td><td>Nigeria</td></tr><tr><td>29</td><td>Female</td><td>Marylee Capasso</td><td>OOP</td><td>9922554</td><td>60.0</td><td>Naoma Fritts_Paris Hutton@DSA.com</td><td>0.6</td><td>Nigeria</td></tr><tr><td>29</td><td>Male</td><td>Cordie Harnois</td><td>PF</td><td>9931081</td><td>107.0</td><td>Toshiko Hillyard_Abram Nagao@Cloud.com</td><td>1.07</td><td>Nigeria</td></tr><tr><td>29</td><td>Female</td><td>Anna Santos</td><td>Cloud</td><td>9942543</td><td>97.0</td><td>Somer Stoecker_Mickey Cortright@DB.com</td><td>0.97</td><td>Nigeria</td></tr><tr><td>28</td><td>Female</td><td>Celeste Lollis</td><td>DB</td><td>9952416</td><td>69.0</td><td>Gonzalo Ferebee_Jalisa Swenson@DB.com</td><td>0.69</td><td>Nigeria</td></tr><tr><td>29</td><td>Female</td><td>Somer Stoecker</td><td>Cloud</td><td>9962277</td><td>94.0</td><td>Clementina Menke_Paris Hutton@OOP.com</td><td>0.94</td><td>Nigeria</td></tr><tr><td>28</td><td>Male</td><td>Tamera Blakley</td><td>DSA</td><td>9971217</td><td>36.0</td><td>Anna Santos_Claude Panos@PF.com</td><td>0.36</td><td>Nigeria</td></tr><tr><td>28</td><td>Female</td><td>Tamera Blakley</td><td>MVC</td><td>9982779</td><td>81.0</td><td>Toshiko Hillyard_Anna Santos@DSA.com</td><td>0.81</td><td>Nigeria</td></tr><tr><td>29</td><td>Female</td><td>Jenna Montague</td><td>PF</td><td>9991617</td><td>33.0</td><td>Anna Santos_Jenna Montague@DB.com</td><td>0.33</td><td>Nigeria</td></tr></tbody></table></div>"
      ]
     },
     "metadata": {
      "application/vnd.databricks.v1+output": {
       "addedWidgets": {},
       "aggData": [],
       "aggError": "",
       "aggOverflow": false,
       "aggSchema": [],
       "aggSeriesLimitReached": false,
       "aggType": "",
       "arguments": {},
       "columnCustomDisplayInfos": {},
       "data": [
        [
         "28",
         "Female",
         "Hubert Oliveras",
         "DB",
         "02984",
         69.0,
         "Annika Hoffman_Naoma Fritts@OOP.com",
         0.69,
         "Nigeria"
        ],
        [
         "29",
         "Female",
         "Toshiko Hillyard",
         "Cloud",
         "12899",
         72.0,
         "Margene Moores_Marylee Capasso@DB.com",
         0.72,
         "Nigeria"
        ],
        [
         "28",
         "Male",
         "Celeste Lollis",
         "PF",
         "21267",
         55.0,
         "Jeannetta Golden_Jenna Montague@DSA.com",
         0.55,
         "Nigeria"
        ],
        [
         "29",
         "Female",
         "Elenore Choy",
         "DB",
         "32877",
         39.0,
         "Billi Clore_Mitzi Seldon@DB.com",
         0.39,
         "Nigeria"
        ],
        [
         "28",
         "Male",
         "Sheryll Towler",
         "DSA",
         "41487",
         51.0,
         "Claude Panos_Judie Chipps@OOP.com",
         0.51,
         "Nigeria"
        ],
        [
         "28",
         "Male",
         "Margene Moores",
         "MVC",
         "52771",
         42.0,
         "Toshiko Hillyard_Clementina Menke@MVC.com",
         0.42,
         "Nigeria"
        ],
        [
         "28",
         "Male",
         "Neda Briski",
         "OOP",
         "61973",
         79.0,
         "Alberta Freund_Elenore Choy@DB.com",
         0.79,
         "Nigeria"
        ],
        [
         "28",
         "Female",
         "Claude Panos",
         "Cloud",
         "72409",
         95.0,
         "Sheryll Towler_Alberta Freund@Cloud.com",
         0.95,
         "Nigeria"
        ],
        [
         "28",
         "Male",
         "Celeste Lollis",
         "MVC",
         "81492",
         74.0,
         "Nicole Harwood_Claude Panos@MVC.com",
         0.74,
         "Nigeria"
        ],
        [
         "29",
         "Male",
         "Cordie Harnois",
         "OOP",
         "92882",
         61.0,
         "Judie Chipps_Clementina Menke@MVC.com",
         0.61,
         "Nigeria"
        ],
        [
         "29",
         "Female",
         "Kena Wild",
         "DSA",
         "102285",
         45.0,
         "Dustin Feagins_Margene Moores@OOP.com",
         0.45,
         "Nigeria"
        ],
        [
         "29",
         "Male",
         "Ernest Rossbach",
         "DB",
         "111449",
         63.0,
         "Maybell Duguay_Abram Nagao@OOP.com",
         0.63,
         "Nigeria"
        ],
        [
         "28",
         "Female",
         "Latia Vanhoose",
         "DB",
         "122502",
         37.0,
         "Latia Vanhoose_Mitzi Seldon@OOP.com",
         0.37,
         "Nigeria"
        ],
        [
         "29",
         "Female",
         "Latia Vanhoose",
         "MVC",
         "132110",
         65.0,
         "Eda Neathery_Nicole Harwood@Cloud.com",
         0.65,
         "Nigeria"
        ],
        [
         "29",
         "Male",
         "Neda Briski",
         "PF",
         "141770",
         52.0,
         "Margene Moores_Michelle Ruggiero@MVC.com",
         0.52,
         "Nigeria"
        ],
        [
         "29",
         "Female",
         "Latia Vanhoose",
         "DB",
         "152159",
         37.0,
         "Claude Panos_Santa Kerfien@DB.com",
         0.37,
         "Nigeria"
        ],
        [
         "29",
         "Male",
         "Loris Crossett",
         "MVC",
         "161771",
         46.0,
         "Mitzi Seldon_Jenna Montague@MVC.com",
         0.46,
         "Nigeria"
        ],
        [
         "29",
         "Male",
         "Annika Hoffman",
         "OOP",
         "171660",
         32.0,
         "Taryn Brownlee_Mitzi Seldon@MVC.com",
         0.32,
         "Nigeria"
        ],
        [
         "29",
         "Male",
         "Santa Kerfien",
         "PF",
         "182129",
         66.0,
         "Judie Chipps_Taryn Brownlee@Cloud.com",
         0.66,
         "Nigeria"
        ],
        [
         "28",
         "Female",
         "Mickey Cortright",
         "DB",
         "192537",
         72.0,
         "Ernest Rossbach_Marylee Capasso@Cloud.com",
         0.72,
         "Nigeria"
        ],
        [
         "29",
         "Female",
         "Loris Crossett",
         "PF",
         "201487",
         106.0,
         "Elenore Choy_Latia Vanhoose@Cloud.com",
         1.06,
         "Nigeria"
        ],
        [
         "29",
         "Female",
         "Niki Klimek",
         "PF",
         "211508",
         33.0,
         "Cordie Harnois_Judie Chipps@PF.com",
         0.33,
         "Nigeria"
        ],
        [
         "28",
         "Female",
         "Kena Wild",
         "Cloud",
         "221750",
         70.0,
         "Mitzi Seldon_Jenna Montague@DSA.com",
         0.7,
         "Nigeria"
        ],
        [
         "28",
         "Female",
         "Jc Andrepont",
         "DSA",
         "232060",
         68.0,
         "Billi Clore_Abram Nagao@MVC.com",
         0.68,
         "Nigeria"
        ],
        [
         "29",
         "Female",
         "Anna Santos",
         "Cloud",
         "242254",
         78.0,
         "Jc Andrepont_Hubert Oliveras@Cloud.com",
         0.78,
         "Nigeria"
        ],
        [
         "28",
         "Female",
         "Alberta Freund",
         "OOP",
         "251805",
         93.0,
         "Annika Hoffman_Sheryll Towler@MVC.com",
         0.93,
         "Nigeria"
        ],
        [
         "28",
         "Female",
         "Maybell Duguay",
         "Cloud",
         "261439",
         30.0,
         "Nicole Harwood_Judie Chipps@DB.com",
         0.3,
         "Nigeria"
        ],
        [
         "29",
         "Female",
         "Paris Hutton",
         "DSA",
         "271472",
         109.0,
         "Sheryll Towler_Alberta Freund@DSA.com",
         1.09,
         "Nigeria"
        ],
        [
         "29",
         "Female",
         "Cheri Kenney",
         "Cloud",
         "281408",
         53.0,
         "Annika Hoffman_Melani Engberg@Cloud.com",
         0.53,
         "Nigeria"
        ],
        [
         "28",
         "Female",
         "Dustin Feagins",
         "DSA",
         "291984",
         92.0,
         "Abram Nagao_Kena Wild@Cloud.com",
         0.92,
         "Nigeria"
        ],
        [
         "29",
         "Female",
         "Claude Panos",
         "Cloud",
         "302130",
         69.0,
         "Sheryll Towler_Leontine Phillips@PF.com",
         0.69,
         "Nigeria"
        ],
        [
         "28",
         "Female",
         "Anna Santos",
         "DB",
         "311589",
         89.0,
         "Celeste Lollis_Mickey Cortright@DSA.com",
         0.89,
         "Nigeria"
        ],
        [
         "28",
         "Female",
         "Cheri Kenney",
         "MVC",
         "321816",
         34.0,
         "Kena Wild_Michelle Ruggiero@DB.com",
         0.34,
         "Nigeria"
        ],
        [
         "28",
         "Female",
         "Loris Crossett",
         "PF",
         "332739",
         72.0,
         "Michelle Ruggiero_Clementina Menke@DB.com",
         0.72,
         "Nigeria"
        ],
        [
         "28",
         "Female",
         "Mickey Cortright",
         "DSA",
         "342003",
         54.0,
         "Mitzi Seldon_Jeannetta Golden@PF.com",
         0.54,
         "Nigeria"
        ],
        [
         "28",
         "Male",
         "Hubert Oliveras",
         "OOP",
         "351719",
         73.0,
         "Lawanda Wohlwend_Abram Nagao@MVC.com",
         0.73,
         "Nigeria"
        ],
        [
         "28",
         "Male",
         "Sebrina Maresca",
         "PF",
         "361316",
         72.0,
         "Nicole Harwood_Latia Vanhoose@DB.com",
         0.72,
         "Nigeria"
        ],
        [
         "29",
         "Male",
         "Jalisa Swenson",
         "PF",
         "372873",
         55.0,
         "Ernest Rossbach_Toshiko Hillyard@DB.com",
         0.55,
         "Nigeria"
        ],
        [
         "28",
         "Male",
         "Kizzy Brenner",
         "DB",
         "381712",
         46.0,
         "Paris Hutton_Kena Wild@MVC.com",
         0.46,
         "Nigeria"
        ],
        [
         "28",
         "Male",
         "Toshiko Hillyard",
         "DB",
         "392218",
         57.0,
         "Leontine Phillips_Billi Clore@MVC.com",
         0.57,
         "Nigeria"
        ],
        [
         "28",
         "Female",
         "Kizzy Brenner",
         "Cloud",
         "402409",
         37.0,
         "Ernest Rossbach_Gonzalo Ferebee@OOP.com",
         0.37,
         "Nigeria"
        ],
        [
         "29",
         "Female",
         "Anna Santos",
         "DSA",
         "411479",
         52.0,
         "Kena Wild_Mitzi Seldon@DB.com",
         0.52,
         "Nigeria"
        ],
        [
         "28",
         "Male",
         "Elenore Choy",
         "PF",
         "422704",
         76.0,
         "Marylee Capasso_Nicole Harwood@MVC.com",
         0.76,
         "Nigeria"
        ],
        [
         "28",
         "Female",
         "Jalisa Swenson",
         "OOP",
         "431352",
         35.0,
         "Gonzalo Ferebee_Judie Chipps@DB.com",
         0.35,
         "Nigeria"
        ],
        [
         "29",
         "Female",
         "Somer Stoecker",
         "Cloud",
         "442028",
         44.0,
         "Taryn Brownlee_Taryn Brownlee@MVC.com",
         0.44,
         "Nigeria"
        ],
        [
         "28",
         "Female",
         "Maybell Duguay",
         "DSA",
         "452141",
         39.0,
         "Leontine Phillips_Elenore Choy@Cloud.com",
         0.39,
         "Nigeria"
        ],
        [
         "28",
         "Male",
         "Dustin Feagins",
         "PF",
         "461839",
         61.0,
         "Neda Briski_Elenore Choy@Cloud.com",
         0.61,
         "Nigeria"
        ],
        [
         "29",
         "Male",
         "Annika Hoffman",
         "OOP",
         "472550",
         45.0,
         "Mitzi Seldon_Abram Nagao@DSA.com",
         0.45,
         "Nigeria"
        ],
        [
         "29",
         "Male",
         "Paris Hutton",
         "DB",
         "481229",
         67.0,
         "Clementina Menke_Paris Hutton@MVC.com",
         0.67,
         "Nigeria"
        ],
        [
         "29",
         "Female",
         "Paris Hutton",
         "DSA",
         "492159",
         70.0,
         "Nicole Harwood_Marylee Capasso@OOP.com",
         0.7,
         "Nigeria"
        ],
        [
         "29",
         "Female",
         "Jenna Montague",
         "MVC",
         "502585",
         53.0,
         "Hubert Oliveras_Jc Andrepont@DSA.com",
         0.53,
         "Nigeria"
        ],
        [
         "29",
         "Male",
         "Billi Clore",
         "Cloud",
         "512047",
         86.0,
         "Taryn Brownlee_Judie Chipps@DSA.com",
         0.86,
         "Nigeria"
        ],
        [
         "29",
         "Male",
         "Toshiko Hillyard",
         "OOP",
         "521221",
         87.0,
         "Hubert Oliveras_Latia Vanhoose@MVC.com",
         0.87,
         "Nigeria"
        ],
        [
         "28",
         "Male",
         "Margene Moores",
         "PF",
         "531530",
         63.0,
         "Cheri Kenney_Melani Engberg@OOP.com",
         0.63,
         "Nigeria"
        ],
        [
         "29",
         "Female",
         "Claude Panos",
         "OOP",
         "542821",
         38.0,
         "Hubert Oliveras_Priscila Tavernier@PF.com",
         0.38,
         "Nigeria"
        ],
        [
         "28",
         "Female",
         "Mickey Cortright",
         "DB",
         "551389",
         53.0,
         "Tijuana Kropf_Jenna Montague@DB.com",
         0.53,
         "Nigeria"
        ],
        [
         "29",
         "Male",
         "Celeste Lollis",
         "DSA",
         "562065",
         95.0,
         "Jc Andrepont_Melani Engberg@OOP.com",
         0.95,
         "Nigeria"
        ],
        [
         "28",
         "Female",
         "Tijuana Kropf",
         "PF",
         "571047",
         51.0,
         "Loris Crossett_Sebrina Maresca@PF.com",
         0.51,
         "Nigeria"
        ],
        [
         "28",
         "Male",
         "Marylee Capasso",
         "OOP",
         "581756",
         62.0,
         "Jeannetta Golden_Loris Crossett@MVC.com",
         0.62,
         "Nigeria"
        ],
        [
         "29",
         "Male",
         "Maybell Duguay",
         "DSA",
         "592061",
         93.0,
         "Eda Neathery_Jenna Montague@Cloud.com",
         0.93,
         "Nigeria"
        ],
        [
         "28",
         "Female",
         "Leontine Phillips",
         "DB",
         "602404",
         58.0,
         "Neda Briski_Cheri Kenney@PF.com",
         0.58,
         "Nigeria"
        ],
        [
         "28",
         "Female",
         "Somer Stoecker",
         "Cloud",
         "612490",
         92.0,
         "Sebrina Maresca_Gonzalo Ferebee@DSA.com",
         0.92,
         "Nigeria"
        ],
        [
         "28",
         "Male",
         "Mitzi Seldon",
         "DSA",
         "622981",
         55.0,
         "Lawanda Wohlwend_Loris Crossett@DSA.com",
         0.55,
         "Nigeria"
        ],
        [
         "29",
         "Female",
         "Judie Chipps",
         "Cloud",
         "632793",
         85.0,
         "Tijuana Kropf_Elenore Choy@PF.com",
         0.85,
         "Nigeria"
        ],
        [
         "28",
         "Male",
         "Priscila Tavernier",
         "PF",
         "642594",
         37.0,
         "Marylee Capasso_Claude Panos@DSA.com",
         0.37,
         "Nigeria"
        ],
        [
         "29",
         "Male",
         "Tamera Blakley",
         "MVC",
         "651649",
         102.0,
         "Latia Vanhoose_Toshiko Hillyard@MVC.com",
         1.02,
         "Nigeria"
        ],
        [
         "28",
         "Male",
         "Sheryll Towler",
         "MVC",
         "661079",
         99.0,
         "Tijuana Kropf_Mickey Cortright@DB.com",
         0.99,
         "Nigeria"
        ],
        [
         "29",
         "Male",
         "Hubert Oliveras",
         "MVC",
         "672451",
         38.0,
         "Annika Hoffman_Mickey Cortright@DSA.com",
         0.38,
         "Nigeria"
        ],
        [
         "29",
         "Male",
         "Sheryll Towler",
         "PF",
         "682533",
         52.0,
         "Billi Clore_Anna Santos@PF.com",
         0.52,
         "Nigeria"
        ],
        [
         "28",
         "Female",
         "Jenna Montague",
         "DSA",
         "691564",
         36.0,
         "Mitzi Seldon_Sebrina Maresca@Cloud.com",
         0.36,
         "Nigeria"
        ],
        [
         "29",
         "Male",
         "Maybell Duguay",
         "PF",
         "701486",
         109.0,
         "Clementina Menke_Latia Vanhoose@Cloud.com",
         1.09,
         "Nigeria"
        ],
        [
         "29",
         "Male",
         "Jenna Montague",
         "MVC",
         "711153",
         55.0,
         "Marylee Capasso_Hubert Oliveras@DB.com",
         0.55,
         "Nigeria"
        ],
        [
         "28",
         "Male",
         "Annika Hoffman",
         "Cloud",
         "722193",
         65.0,
         "Taryn Brownlee_Elenore Choy@DB.com",
         0.65,
         "Nigeria"
        ],
        [
         "28",
         "Female",
         "Celeste Lollis",
         "DSA",
         "731879",
         86.0,
         "Hubert Oliveras_Gonzalo Ferebee@DSA.com",
         0.86,
         "Nigeria"
        ],
        [
         "29",
         "Male",
         "Jeannetta Golden",
         "MVC",
         "741875",
         67.0,
         "Sheryll Towler_Cheri Kenney@DSA.com",
         0.67,
         "Nigeria"
        ],
        [
         "29",
         "Male",
         "Paris Hutton",
         "MVC",
         "752504",
         32.0,
         "Elenore Choy_Elenore Choy@DB.com",
         0.32,
         "Nigeria"
        ],
        [
         "29",
         "Female",
         "Margene Moores",
         "MVC",
         "761843",
         58.0,
         "Ernest Rossbach_Mickey Cortright@DSA.com",
         0.58,
         "Nigeria"
        ],
        [
         "28",
         "Female",
         "Hubert Oliveras",
         "DB",
         "771081",
         89.0,
         "Kizzy Brenner_Dustin Feagins@MVC.com",
         0.89,
         "Nigeria"
        ],
        [
         "28",
         "Male",
         "Alberta Freund",
         "PF",
         "781061",
         85.0,
         "Leontine Phillips_Bonita Higuera@PF.com",
         0.85,
         "Nigeria"
        ],
        [
         "29",
         "Female",
         "Billi Clore",
         "OOP",
         "791519",
         103.0,
         "Elenore Choy_Jalisa Swenson@MVC.com",
         1.03,
         "Nigeria"
        ],
        [
         "28",
         "Female",
         "Billi Clore",
         "Cloud",
         "801693",
         48.0,
         "Niki Klimek_Kizzy Brenner@DB.com",
         0.48,
         "Nigeria"
        ],
        [
         "29",
         "Female",
         "Elenore Choy",
         "DB",
         "811824",
         65.0,
         "Maybell Duguay_Melani Engberg@DB.com",
         0.65,
         "Nigeria"
        ],
        [
         "28",
         "Male",
         "Anna Santos",
         "OOP",
         "822396",
         57.0,
         "Leontine Phillips_Gonzalo Ferebee@Cloud.com",
         0.57,
         "Nigeria"
        ],
        [
         "28",
         "Male",
         "Sheryll Towler",
         "DSA",
         "831562",
         69.0,
         "Kena Wild_Gonzalo Ferebee@Cloud.com",
         0.69,
         "Nigeria"
        ],
        [
         "29",
         "Male",
         "Neda Briski",
         "PF",
         "842515",
         78.0,
         "Neda Briski_Hubert Oliveras@OOP.com",
         0.78,
         "Nigeria"
        ],
        [
         "28",
         "Female",
         "Santa Kerfien",
         "Cloud",
         "851620",
         44.0,
         "Melani Engberg_Sheryll Towler@PF.com",
         0.44,
         "Nigeria"
        ],
        [
         "29",
         "Female",
         "Taryn Brownlee",
         "MVC",
         "861849",
         49.0,
         "Billi Clore_Toshiko Hillyard@MVC.com",
         0.49,
         "Nigeria"
        ],
        [
         "28",
         "Female",
         "Sheryll Towler",
         "DSA",
         "871967",
         74.0,
         "Michelle Ruggiero_Billi Clore@Cloud.com",
         0.74,
         "Nigeria"
        ],
        [
         "29",
         "Male",
         "Clementina Menke",
         "DB",
         "882200",
         86.0,
         "Michelle Ruggiero_Jenna Montague@MVC.com",
         0.86,
         "Nigeria"
        ],
        [
         "28",
         "Male",
         "Margene Moores",
         "DSA",
         "892010",
         103.0,
         "Anna Santos_Naoma Fritts@DSA.com",
         1.03,
         "Nigeria"
        ],
        [
         "28",
         "Female",
         "Somer Stoecker",
         "DSA",
         "901958",
         74.0,
         "Kizzy Brenner_Jc Andrepont@DB.com",
         0.74,
         "Nigeria"
        ],
        [
         "29",
         "Male",
         "Loris Crossett",
         "PF",
         "911593",
         56.0,
         "Gonzalo Ferebee_Mitzi Seldon@PF.com",
         0.56,
         "Nigeria"
        ],
        [
         "29",
         "Female",
         "Sebrina Maresca",
         "DB",
         "922210",
         64.0,
         "Toshiko Hillyard_Santa Kerfien@MVC.com",
         0.64,
         "Nigeria"
        ],
        [
         "29",
         "Male",
         "Naoma Fritts",
         "DB",
         "931295",
         89.0,
         "Hubert Oliveras_Sheryll Towler@DSA.com",
         0.89,
         "Nigeria"
        ],
        [
         "28",
         "Female",
         "Santa Kerfien",
         "MVC",
         "941783",
         104.0,
         "Paris Hutton_Naoma Fritts@DB.com",
         1.04,
         "Nigeria"
        ],
        [
         "28",
         "Female",
         "Lawanda Wohlwend",
         "DSA",
         "951686",
         70.0,
         "Loris Crossett_Nicole Harwood@DSA.com",
         0.7,
         "Nigeria"
        ],
        [
         "29",
         "Male",
         "Abram Nagao",
         "MVC",
         "962235",
         42.0,
         "Jenna Montague_Gonzalo Ferebee@DSA.com",
         0.42,
         "Nigeria"
        ],
        [
         "28",
         "Female",
         "Jc Andrepont",
         "PF",
         "972733",
         30.0,
         "Eda Neathery_Eda Neathery@MVC.com",
         0.3,
         "Nigeria"
        ],
        [
         "29",
         "Male",
         "Niki Klimek",
         "PF",
         "982443",
         104.0,
         "Santa Kerfien_Kizzy Brenner@DB.com",
         1.04,
         "Nigeria"
        ],
        [
         "28",
         "Female",
         "Marylee Capasso",
         "OOP",
         "991770",
         96.0,
         "Margene Moores_Clementina Menke@DB.com",
         0.96,
         "Nigeria"
        ],
        [
         "28",
         "Male",
         "Jenna Montague",
         "DSA",
         "1002103",
         46.0,
         "Melani Engberg_Hubert Oliveras@PF.com",
         0.46,
         "Nigeria"
        ],
        [
         "29",
         "Female",
         "Eda Neathery",
         "Cloud",
         "1011971",
         101.0,
         "Margene Moores_Elenore Choy@MVC.com",
         1.01,
         "Nigeria"
        ],
        [
         "29",
         "Male",
         "Michelle Ruggiero",
         "DSA",
         "1022971",
         109.0,
         "Cordie Harnois_Clementina Menke@OOP.com",
         1.09,
         "Nigeria"
        ],
        [
         "28",
         "Male",
         "Annika Hoffman",
         "DB",
         "1031544",
         54.0,
         "Dustin Feagins_Somer Stoecker@DB.com",
         0.54,
         "Nigeria"
        ],
        [
         "29",
         "Female",
         "Hubert Oliveras",
         "DSA",
         "1041483",
         38.0,
         "Billi Clore_Santa Kerfien@DSA.com",
         0.38,
         "Nigeria"
        ],
        [
         "28",
         "Male",
         "Billi Clore",
         "MVC",
         "1052566",
         88.0,
         "Naoma Fritts_Margene Moores@DSA.com",
         0.88,
         "Nigeria"
        ],
        [
         "28",
         "Female",
         "Nicole Harwood",
         "MVC",
         "1061068",
         92.0,
         "Santa Kerfien_Hubert Oliveras@MVC.com",
         0.92,
         "Nigeria"
        ],
        [
         "29",
         "Male",
         "Clementina Menke",
         "PF",
         "1071717",
         64.0,
         "Celeste Lollis_Leontine Phillips@OOP.com",
         0.64,
         "Nigeria"
        ],
        [
         "28",
         "Female",
         "Claude Panos",
         "OOP",
         "1081294",
         104.0,
         "Kizzy Brenner_Anna Santos@OOP.com",
         1.04,
         "Nigeria"
        ],
        [
         "29",
         "Male",
         "Donna Yerby",
         "DSA",
         "1092702",
         89.0,
         "Marylee Capasso_Alberta Freund@OOP.com",
         0.89,
         "Nigeria"
        ],
        [
         "29",
         "Female",
         "Maybell Duguay",
         "MVC",
         "1102536",
         32.0,
         "Somer Stoecker_Marylee Capasso@OOP.com",
         0.32,
         "Nigeria"
        ],
        [
         "29",
         "Male",
         "Abram Nagao",
         "PF",
         "1112161",
         52.0,
         "Nicole Harwood_Niki Klimek@DB.com",
         0.52,
         "Nigeria"
        ],
        [
         "28",
         "Female",
         "Bonita Higuera",
         "DSA",
         "1122348",
         61.0,
         "Somer Stoecker_Jenna Montague@DB.com",
         0.61,
         "Nigeria"
        ],
        [
         "29",
         "Female",
         "Melani Engberg",
         "OOP",
         "1132093",
         86.0,
         "Kena Wild_Neda Briski@Cloud.com",
         0.86,
         "Nigeria"
        ],
        [
         "29",
         "Female",
         "Marylee Capasso",
         "OOP",
         "1142653",
         71.0,
         "Cordie Harnois_Alberta Freund@DSA.com",
         0.71,
         "Nigeria"
        ],
        [
         "29",
         "Male",
         "Nicole Harwood",
         "Cloud",
         "1152571",
         72.0,
         "Latia Vanhoose_Maybell Duguay@PF.com",
         0.72,
         "Nigeria"
        ],
        [
         "29",
         "Female",
         "Dustin Feagins",
         "OOP",
         "1161607",
         47.0,
         "Eda Neathery_Marylee Capasso@MVC.com",
         0.47,
         "Nigeria"
        ],
        [
         "28",
         "Female",
         "Niki Klimek",
         "PF",
         "1172784",
         34.0,
         "Jeannetta Golden_Abram Nagao@MVC.com",
         0.34,
         "Nigeria"
        ],
        [
         "29",
         "Female",
         "Abram Nagao",
         "DSA",
         "1181007",
         67.0,
         "Anna Santos_Anna Santos@DSA.com",
         0.67,
         "Nigeria"
        ],
        [
         "28",
         "Male",
         "Jalisa Swenson",
         "PF",
         "1192555",
         87.0,
         "Marylee Capasso_Celeste Lollis@Cloud.com",
         0.87,
         "Nigeria"
        ],
        [
         "29",
         "Female",
         "Ernest Rossbach",
         "MVC",
         "1201427",
         90.0,
         "Elenore Choy_Jenna Montague@OOP.com",
         0.9,
         "Nigeria"
        ],
        [
         "28",
         "Male",
         "Nicole Harwood",
         "DB",
         "1211495",
         38.0,
         "Melani Engberg_Jc Andrepont@Cloud.com",
         0.38,
         "Nigeria"
        ],
        [
         "29",
         "Female",
         "Claude Panos",
         "DB",
         "1222887",
         85.0,
         "Hubert Oliveras_Somer Stoecker@Cloud.com",
         0.85,
         "Nigeria"
        ],
        [
         "28",
         "Female",
         "Cordie Harnois",
         "OOP",
         "1231943",
         78.0,
         "Mickey Cortright_Kizzy Brenner@OOP.com",
         0.78,
         "Nigeria"
        ],
        [
         "28",
         "Male",
         "Nicole Harwood",
         "OOP",
         "1242426",
         81.0,
         "Billi Clore_Loris Crossett@Cloud.com",
         0.81,
         "Nigeria"
        ],
        [
         "28",
         "Male",
         "Gonzalo Ferebee",
         "Cloud",
         "1251176",
         70.0,
         "Santa Kerfien_Tamera Blakley@PF.com",
         0.7,
         "Nigeria"
        ],
        [
         "29",
         "Male",
         "Jalisa Swenson",
         "Cloud",
         "1261533",
         80.0,
         "Dustin Feagins_Nicole Harwood@PF.com",
         0.8,
         "Nigeria"
        ],
        [
         "28",
         "Female",
         "Eda Neathery",
         "Cloud",
         "1272870",
         79.0,
         "Somer Stoecker_Dustin Feagins@DB.com",
         0.79,
         "Nigeria"
        ],
        [
         "28",
         "Female",
         "Toshiko Hillyard",
         "DSA",
         "1282835",
         89.0,
         "Somer Stoecker_Toshiko Hillyard@OOP.com",
         0.89,
         "Nigeria"
        ],
        [
         "28",
         "Male",
         "Paris Hutton",
         "MVC",
         "1292279",
         36.0,
         "Paris Hutton_Eda Neathery@DSA.com",
         0.36,
         "Nigeria"
        ],
        [
         "29",
         "Female",
         "Niki Klimek",
         "DB",
         "1301784",
         34.0,
         "Celeste Lollis_Tamera Blakley@DB.com",
         0.34,
         "Nigeria"
        ],
        [
         "28",
         "Male",
         "Bonita Higuera",
         "Cloud",
         "1312294",
         104.0,
         "Eda Neathery_Priscila Tavernier@PF.com",
         1.04,
         "Nigeria"
        ],
        [
         "28",
         "Female",
         "Leontine Phillips",
         "MVC",
         "1322629",
         97.0,
         "Judie Chipps_Michelle Ruggiero@Cloud.com",
         0.97,
         "Nigeria"
        ],
        [
         "29",
         "Male",
         "Jalisa Swenson",
         "PF",
         "1332072",
         98.0,
         "Billi Clore_Kizzy Brenner@Cloud.com",
         0.98,
         "Nigeria"
        ],
        [
         "28",
         "Male",
         "Clementina Menke",
         "OOP",
         "1341574",
         56.0,
         "Elenore Choy_Mickey Cortright@DB.com",
         0.56,
         "Nigeria"
        ],
        [
         "28",
         "Male",
         "Gonzalo Ferebee",
         "PF",
         "1352348",
         105.0,
         "Neda Briski_Somer Stoecker@DB.com",
         1.05,
         "Nigeria"
        ],
        [
         "29",
         "Female",
         "Jalisa Swenson",
         "DSA",
         "1362151",
         61.0,
         "Lawanda Wohlwend_Jenna Montague@PF.com",
         0.61,
         "Nigeria"
        ],
        [
         "28",
         "Male",
         "Lawanda Wohlwend",
         "PF",
         "1372552",
         98.0,
         "Hubert Oliveras_Tijuana Kropf@DSA.com",
         0.98,
         "Nigeria"
        ],
        [
         "28",
         "Male",
         "Abram Nagao",
         "DSA",
         "1382959",
         76.0,
         "Michelle Ruggiero_Kena Wild@OOP.com",
         0.76,
         "Nigeria"
        ],
        [
         "29",
         "Female",
         "Hubert Oliveras",
         "Cloud",
         "1392791",
         104.0,
         "Anna Santos_Alberta Freund@Cloud.com",
         1.04,
         "Nigeria"
        ],
        [
         "28",
         "Male",
         "Bonita Higuera",
         "Cloud",
         "1401526",
         34.0,
         "Jc Andrepont_Cheri Kenney@Cloud.com",
         0.34,
         "Nigeria"
        ],
        [
         "29",
         "Female",
         "Clementina Menke",
         "OOP",
         "1412376",
         75.0,
         "Elenore Choy_Latia Vanhoose@DSA.com",
         0.75,
         "Nigeria"
        ],
        [
         "29",
         "Female",
         "Mickey Cortright",
         "Cloud",
         "1421542",
         81.0,
         "Latia Vanhoose_Kena Wild@OOP.com",
         0.81,
         "Nigeria"
        ],
        [
         "29",
         "Female",
         "Leontine Phillips",
         "DB",
         "1432252",
         77.0,
         "Billi Clore_Sheryll Towler@DB.com",
         0.77,
         "Nigeria"
        ],
        [
         "28",
         "Female",
         "Nicole Harwood",
         "PF",
         "1441367",
         105.0,
         "Jc Andrepont_Anna Santos@DSA.com",
         1.05,
         "Nigeria"
        ],
        [
         "28",
         "Female",
         "Gonzalo Ferebee",
         "DB",
         "1451513",
         79.0,
         "Claude Panos_Tamera Blakley@PF.com",
         0.79,
         "Nigeria"
        ],
        [
         "29",
         "Female",
         "Judie Chipps",
         "DB",
         "1461078",
         41.0,
         "Tijuana Kropf_Billi Clore@OOP.com",
         0.41,
         "Nigeria"
        ],
        [
         "29",
         "Male",
         "Niki Klimek",
         "MVC",
         "1472917",
         46.0,
         "Sebrina Maresca_Sheryll Towler@MVC.com",
         0.46,
         "Nigeria"
        ],
        [
         "29",
         "Female",
         "Lawanda Wohlwend",
         "MVC",
         "1482889",
         75.0,
         "Gonzalo Ferebee_Dustin Feagins@PF.com",
         0.75,
         "Nigeria"
        ],
        [
         "28",
         "Male",
         "Jc Andrepont",
         "DSA",
         "1492828",
         88.0,
         "Celeste Lollis_Kizzy Brenner@MVC.com",
         0.88,
         "Nigeria"
        ],
        [
         "28",
         "Female",
         "Cordie Harnois",
         "MVC",
         "1501333",
         104.0,
         "Gonzalo Ferebee_Tijuana Kropf@OOP.com",
         1.04,
         "Nigeria"
        ],
        [
         "29",
         "Female",
         "Taryn Brownlee",
         "OOP",
         "1511213",
         82.0,
         "Cheri Kenney_Donna Yerby@DSA.com",
         0.82,
         "Nigeria"
        ],
        [
         "28",
         "Male",
         "Hubert Oliveras",
         "PF",
         "1521724",
         101.0,
         "Eda Neathery_Jeannetta Golden@MVC.com",
         1.01,
         "Nigeria"
        ],
        [
         "29",
         "Female",
         "Naoma Fritts",
         "MVC",
         "1532260",
         83.0,
         "Elenore Choy_Judie Chipps@DSA.com",
         0.83,
         "Nigeria"
        ],
        [
         "28",
         "Female",
         "Marylee Capasso",
         "Cloud",
         "1541030",
         68.0,
         "Cordie Harnois_Celeste Lollis@PF.com",
         0.68,
         "Nigeria"
        ],
        [
         "29",
         "Female",
         "Annika Hoffman",
         "OOP",
         "1551846",
         60.0,
         "Paris Hutton_Melani Engberg@DB.com",
         0.6,
         "Nigeria"
        ],
        [
         "28",
         "Female",
         "Jeannetta Golden",
         "OOP",
         "1562758",
         50.0,
         "Jeannetta Golden_Billi Clore@Cloud.com",
         0.5,
         "Nigeria"
        ],
        [
         "29",
         "Female",
         "Cheri Kenney",
         "MVC",
         "1571310",
         98.0,
         "Cordie Harnois_Lawanda Wohlwend@MVC.com",
         0.98,
         "Nigeria"
        ],
        [
         "29",
         "Female",
         "Jeannetta Golden",
         "PF",
         "1581770",
         49.0,
         "Bonita Higuera_Santa Kerfien@OOP.com",
         0.49,
         "Nigeria"
        ],
        [
         "28",
         "Female",
         "Tamera Blakley",
         "PF",
         "1591554",
         88.0,
         "Sebrina Maresca_Tijuana Kropf@OOP.com",
         0.88,
         "Nigeria"
        ],
        [
         "28",
         "Male",
         "Paris Hutton",
         "MVC",
         "1602777",
         63.0,
         "Sheryll Towler_Loris Crossett@DSA.com",
         0.63,
         "Nigeria"
        ],
        [
         "28",
         "Male",
         "Marylee Capasso",
         "DB",
         "1611411",
         106.0,
         "Annika Hoffman_Loris Crossett@PF.com",
         1.06,
         "Nigeria"
        ],
        [
         "28",
         "Male",
         "Anna Santos",
         "OOP",
         "1621905",
         34.0,
         "Elenore Choy_Santa Kerfien@DB.com",
         0.34,
         "Nigeria"
        ],
        [
         "28",
         "Male",
         "Neda Briski",
         "DSA",
         "1632185",
         103.0,
         "Clementina Menke_Toshiko Hillyard@Cloud.com",
         1.03,
         "Nigeria"
        ],
        [
         "29",
         "Female",
         "Michelle Ruggiero",
         "DB",
         "1642509",
         55.0,
         "Hubert Oliveras_Marylee Capasso@DB.com",
         0.55,
         "Nigeria"
        ],
        [
         "28",
         "Female",
         "Neda Briski",
         "Cloud",
         "1651303",
         84.0,
         "Ernest Rossbach_Donna Yerby@OOP.com",
         0.84,
         "Nigeria"
        ],
        [
         "28",
         "Female",
         "Loris Crossett",
         "DSA",
         "1662549",
         96.0,
         "Paris Hutton_Latia Vanhoose@Cloud.com",
         0.96,
         "Nigeria"
        ],
        [
         "29",
         "Male",
         "Alberta Freund",
         "DB",
         "1671638",
         108.0,
         "Clementina Menke_Jalisa Swenson@Cloud.com",
         1.08,
         "Nigeria"
        ],
        [
         "28",
         "Female",
         "Sebrina Maresca",
         "MVC",
         "1681804",
         37.0,
         "Celeste Lollis_Ernest Rossbach@MVC.com",
         0.37,
         "Nigeria"
        ],
        [
         "28",
         "Male",
         "Celeste Lollis",
         "DB",
         "1692106",
         46.0,
         "Neda Briski_Abram Nagao@MVC.com",
         0.46,
         "Nigeria"
        ],
        [
         "29",
         "Female",
         "Anna Santos",
         "DSA",
         "1702439",
         74.0,
         "Naoma Fritts_Toshiko Hillyard@DB.com",
         0.74,
         "Nigeria"
        ],
        [
         "28",
         "Female",
         "Margene Moores",
         "DSA",
         "1712967",
         51.0,
         "Tijuana Kropf_Sheryll Towler@DB.com",
         0.51,
         "Nigeria"
        ],
        [
         "28",
         "Female",
         "Priscila Tavernier",
         "DB",
         "1722388",
         96.0,
         "Lawanda Wohlwend_Loris Crossett@DSA.com",
         0.96,
         "Nigeria"
        ],
        [
         "29",
         "Female",
         "Jc Andrepont",
         "MVC",
         "1731652",
         84.0,
         "Hubert Oliveras_Michelle Ruggiero@DSA.com",
         0.84,
         "Nigeria"
        ],
        [
         "28",
         "Female",
         "Anna Santos",
         "DSA",
         "1741879",
         99.0,
         "Nicole Harwood_Lawanda Wohlwend@DB.com",
         0.99,
         "Nigeria"
        ],
        [
         "29",
         "Female",
         "Lawanda Wohlwend",
         "MVC",
         "1751381",
         85.0,
         "Jalisa Swenson_Nicole Harwood@OOP.com",
         0.85,
         "Nigeria"
        ],
        [
         "29",
         "Male",
         "Nicole Harwood",
         "MVC",
         "1761454",
         44.0,
         "Taryn Brownlee_Billi Clore@DSA.com",
         0.44,
         "Nigeria"
        ],
        [
         "29",
         "Male",
         "Claude Panos",
         "DSA",
         "1771605",
         60.0,
         "Claude Panos_Tamera Blakley@OOP.com",
         0.6,
         "Nigeria"
        ],
        [
         "29",
         "Male",
         "Dustin Feagins",
         "DB",
         "1782045",
         91.0,
         "Cordie Harnois_Toshiko Hillyard@OOP.com",
         0.91,
         "Nigeria"
        ],
        [
         "29",
         "Male",
         "Toshiko Hillyard",
         "DSA",
         "1791364",
         60.0,
         "Jc Andrepont_Nicole Harwood@MVC.com",
         0.6,
         "Nigeria"
        ],
        [
         "28",
         "Male",
         "Alberta Freund",
         "Cloud",
         "1802934",
         34.0,
         "Maybell Duguay_Paris Hutton@PF.com",
         0.34,
         "Nigeria"
        ],
        [
         "29",
         "Female",
         "Tijuana Kropf",
         "MVC",
         "1811192",
         61.0,
         "Anna Santos_Latia Vanhoose@DSA.com",
         0.61,
         "Nigeria"
        ],
        [
         "29",
         "Female",
         "Ernest Rossbach",
         "Cloud",
         "1821977",
         38.0,
         "Annika Hoffman_Kizzy Brenner@DSA.com",
         0.38,
         "Nigeria"
        ],
        [
         "29",
         "Male",
         "Latia Vanhoose",
         "Cloud",
         "1832268",
         70.0,
         "Marylee Capasso_Santa Kerfien@MVC.com",
         0.7,
         "Nigeria"
        ],
        [
         "29",
         "Male",
         "Alberta Freund",
         "OOP",
         "1841931",
         47.0,
         "Jenna Montague_Taryn Brownlee@Cloud.com",
         0.47,
         "Nigeria"
        ],
        [
         "28",
         "Female",
         "Lawanda Wohlwend",
         "DB",
         "1852072",
         40.0,
         "Bonita Higuera_Jenna Montague@DB.com",
         0.4,
         "Nigeria"
        ],
        [
         "29",
         "Male",
         "Celeste Lollis",
         "PF",
         "1861656",
         77.0,
         "Niki Klimek_Lawanda Wohlwend@DB.com",
         0.77,
         "Nigeria"
        ],
        [
         "28",
         "Female",
         "Melani Engberg",
         "Cloud",
         "1872667",
         109.0,
         "Alberta Freund_Nicole Harwood@DB.com",
         1.09,
         "Nigeria"
        ],
        [
         "29",
         "Male",
         "Tijuana Kropf",
         "DB",
         "1882795",
         102.0,
         "Hubert Oliveras_Elenore Choy@Cloud.com",
         1.02,
         "Nigeria"
        ],
        [
         "28",
         "Male",
         "Somer Stoecker",
         "Cloud",
         "1891261",
         40.0,
         "Taryn Brownlee_Sheryll Towler@PF.com",
         0.4,
         "Nigeria"
        ],
        [
         "28",
         "Male",
         "Ernest Rossbach",
         "DB",
         "1901492",
         64.0,
         "Latia Vanhoose_Jc Andrepont@MVC.com",
         0.64,
         "Nigeria"
        ],
        [
         "28",
         "Female",
         "Anna Santos",
         "PF",
         "1911870",
         102.0,
         "Sebrina Maresca_Clementina Menke@OOP.com",
         1.02,
         "Nigeria"
        ],
        [
         "28",
         "Female",
         "Melani Engberg",
         "PF",
         "1922525",
         93.0,
         "Marylee Capasso_Celeste Lollis@PF.com",
         0.93,
         "Nigeria"
        ],
        [
         "29",
         "Male",
         "Sebrina Maresca",
         "PF",
         "1932455",
         33.0,
         "Tijuana Kropf_Naoma Fritts@Cloud.com",
         0.33,
         "Nigeria"
        ],
        [
         "29",
         "Male",
         "Marylee Capasso",
         "DSA",
         "1942185",
         47.0,
         "Tijuana Kropf_Latia Vanhoose@DSA.com",
         0.47,
         "Nigeria"
        ],
        [
         "29",
         "Male",
         "Jeannetta Golden",
         "Cloud",
         "1952763",
         77.0,
         "Jenna Montague_Jeannetta Golden@OOP.com",
         0.77,
         "Nigeria"
        ],
        [
         "29",
         "Male",
         "Niki Klimek",
         "MVC",
         "1962371",
         88.0,
         "Marylee Capasso_Mickey Cortright@PF.com",
         0.88,
         "Nigeria"
        ],
        [
         "29",
         "Female",
         "Leontine Phillips",
         "DB",
         "1972893",
         74.0,
         "Marylee Capasso_Elenore Choy@OOP.com",
         0.74,
         "Nigeria"
        ],
        [
         "29",
         "Male",
         "Tamera Blakley",
         "OOP",
         "1981124",
         56.0,
         "Taryn Brownlee_Eda Neathery@DB.com",
         0.56,
         "Nigeria"
        ],
        [
         "28",
         "Male",
         "Santa Kerfien",
         "MVC",
         "1992202",
         33.0,
         "Annika Hoffman_Tamera Blakley@OOP.com",
         0.33,
         "Nigeria"
        ],
        [
         "29",
         "Female",
         "Donna Yerby",
         "OOP",
         "2002040",
         95.0,
         "Jeannetta Golden_Clementina Menke@OOP.com",
         0.95,
         "Nigeria"
        ],
        [
         "29",
         "Male",
         "Somer Stoecker",
         "OOP",
         "2011301",
         57.0,
         "Somer Stoecker_Anna Santos@MVC.com",
         0.57,
         "Nigeria"
        ],
        [
         "28",
         "Male",
         "Billi Clore",
         "PF",
         "2022282",
         87.0,
         "Anna Santos_Claude Panos@Cloud.com",
         0.87,
         "Nigeria"
        ],
        [
         "28",
         "Male",
         "Kena Wild",
         "DB",
         "2031530",
         103.0,
         "Jc Andrepont_Jc Andrepont@PF.com",
         1.03,
         "Nigeria"
        ],
        [
         "29",
         "Female",
         "Abram Nagao",
         "DSA",
         "2041248",
         82.0,
         "Latia Vanhoose_Kena Wild@DSA.com",
         0.82,
         "Nigeria"
        ],
        [
         "28",
         "Female",
         "Paris Hutton",
         "Cloud",
         "2051881",
         89.0,
         "Melani Engberg_Marylee Capasso@PF.com",
         0.89,
         "Nigeria"
        ],
        [
         "28",
         "Female",
         "Claude Panos",
         "OOP",
         "2061187",
         68.0,
         "Cheri Kenney_Cordie Harnois@PF.com",
         0.68,
         "Nigeria"
        ],
        [
         "28",
         "Female",
         "Eda Neathery",
         "Cloud",
         "2071302",
         105.0,
         "Latia Vanhoose_Donna Yerby@Cloud.com",
         1.05,
         "Nigeria"
        ],
        [
         "28",
         "Male",
         "Marylee Capasso",
         "DSA",
         "2081560",
         30.0,
         "Sheryll Towler_Donna Yerby@Cloud.com",
         0.3,
         "Nigeria"
        ],
        [
         "28",
         "Male",
         "Neda Briski",
         "Cloud",
         "2092176",
         91.0,
         "Celeste Lollis_Maybell Duguay@PF.com",
         0.91,
         "Nigeria"
        ],
        [
         "29",
         "Male",
         "Donna Yerby",
         "DSA",
         "2102495",
         107.0,
         "Paris Hutton_Celeste Lollis@PF.com",
         1.07,
         "Nigeria"
        ],
        [
         "29",
         "Male",
         "Judie Chipps",
         "DB",
         "2112234",
         104.0,
         "Dustin Feagins_Tamera Blakley@PF.com",
         1.04,
         "Nigeria"
        ],
        [
         "28",
         "Female",
         "Tijuana Kropf",
         "Cloud",
         "2121632",
         88.0,
         "Michelle Ruggiero_Anna Santos@OOP.com",
         0.88,
         "Nigeria"
        ],
        [
         "29",
         "Male",
         "Jeannetta Golden",
         "MVC",
         "2132781",
         103.0,
         "Kizzy Brenner_Cheri Kenney@MVC.com",
         1.03,
         "Nigeria"
        ],
        [
         "29",
         "Male",
         "Naoma Fritts",
         "PF",
         "2141246",
         101.0,
         "Mitzi Seldon_Cordie Harnois@Cloud.com",
         1.01,
         "Nigeria"
        ],
        [
         "29",
         "Male",
         "Somer Stoecker",
         "MVC",
         "2151024",
         46.0,
         "Loris Crossett_Tamera Blakley@DB.com",
         0.46,
         "Nigeria"
        ],
        [
         "28",
         "Male",
         "Toshiko Hillyard",
         "PF",
         "2162776",
         64.0,
         "Jenna Montague_Niki Klimek@MVC.com",
         0.64,
         "Nigeria"
        ],
        [
         "28",
         "Male",
         "Jeannetta Golden",
         "DB",
         "2171387",
         86.0,
         "Cheri Kenney_Billi Clore@DB.com",
         0.86,
         "Nigeria"
        ],
        [
         "28",
         "Female",
         "Billi Clore",
         "DB",
         "2181375",
         68.0,
         "Latia Vanhoose_Eda Neathery@DSA.com",
         0.68,
         "Nigeria"
        ],
        [
         "29",
         "Female",
         "Annika Hoffman",
         "PF",
         "2192313",
         59.0,
         "Naoma Fritts_Tijuana Kropf@DB.com",
         0.59,
         "Nigeria"
        ],
        [
         "29",
         "Male",
         "Mitzi Seldon",
         "Cloud",
         "2202649",
         53.0,
         "Santa Kerfien_Loris Crossett@Cloud.com",
         0.53,
         "Nigeria"
        ],
        [
         "29",
         "Female",
         "Niki Klimek",
         "DB",
         "2211319",
         71.0,
         "Celeste Lollis_Sheryll Towler@DB.com",
         0.71,
         "Nigeria"
        ],
        [
         "28",
         "Male",
         "Jalisa Swenson",
         "DSA",
         "2222704",
         101.0,
         "Judie Chipps_Jalisa Swenson@Cloud.com",
         1.01,
         "Nigeria"
        ],
        [
         "28",
         "Male",
         "Priscila Tavernier",
         "OOP",
         "2232863",
         70.0,
         "Bonita Higuera_Lawanda Wohlwend@MVC.com",
         0.7,
         "Nigeria"
        ],
        [
         "29",
         "Male",
         "Margene Moores",
         "Cloud",
         "2241434",
         81.0,
         "Mitzi Seldon_Michelle Ruggiero@Cloud.com",
         0.81,
         "Nigeria"
        ],
        [
         "28",
         "Female",
         "Jc Andrepont",
         "MVC",
         "2251960",
         106.0,
         "Somer Stoecker_Melani Engberg@DSA.com",
         1.06,
         "Nigeria"
        ],
        [
         "29",
         "Female",
         "Gonzalo Ferebee",
         "OOP",
         "2262603",
         31.0,
         "Bonita Higuera_Cheri Kenney@PF.com",
         0.31,
         "Nigeria"
        ],
        [
         "29",
         "Female",
         "Bonita Higuera",
         "OOP",
         "2272587",
         56.0,
         "Gonzalo Ferebee_Toshiko Hillyard@DB.com",
         0.56,
         "Nigeria"
        ],
        [
         "28",
         "Female",
         "Cheri Kenney",
         "Cloud",
         "2281771",
         32.0,
         "Tamera Blakley_Abram Nagao@OOP.com",
         0.32,
         "Nigeria"
        ],
        [
         "28",
         "Female",
         "Marylee Capasso",
         "Cloud",
         "2291595",
         46.0,
         "Ernest Rossbach_Mickey Cortright@MVC.com",
         0.46,
         "Nigeria"
        ],
        [
         "29",
         "Male",
         "Annika Hoffman",
         "PF",
         "2301940",
         91.0,
         "Jenna Montague_Sheryll Towler@Cloud.com",
         0.91,
         "Nigeria"
        ],
        [
         "29",
         "Female",
         "Bonita Higuera",
         "DSA",
         "2312783",
         87.0,
         "Melani Engberg_Mitzi Seldon@DSA.com",
         0.87,
         "Nigeria"
        ],
        [
         "28",
         "Male",
         "Kizzy Brenner",
         "DB",
         "2322537",
         66.0,
         "Jenna Montague_Latia Vanhoose@MVC.com",
         0.66,
         "Nigeria"
        ],
        [
         "29",
         "Male",
         "Michelle Ruggiero",
         "Cloud",
         "2332207",
         82.0,
         "Gonzalo Ferebee_Melani Engberg@OOP.com",
         0.82,
         "Nigeria"
        ],
        [
         "29",
         "Male",
         "Alberta Freund",
         "DSA",
         "2341989",
         78.0,
         "Jeannetta Golden_Priscila Tavernier@PF.com",
         0.78,
         "Nigeria"
        ],
        [
         "29",
         "Female",
         "Somer Stoecker",
         "OOP",
         "2352466",
         77.0,
         "Jenna Montague_Mitzi Seldon@MVC.com",
         0.77,
         "Nigeria"
        ],
        [
         "29",
         "Male",
         "Mickey Cortright",
         "OOP",
         "2361202",
         69.0,
         "Kizzy Brenner_Eda Neathery@MVC.com",
         0.69,
         "Nigeria"
        ],
        [
         "29",
         "Male",
         "Latia Vanhoose",
         "OOP",
         "2372748",
         104.0,
         "Latia Vanhoose_Latia Vanhoose@OOP.com",
         1.04,
         "Nigeria"
        ],
        [
         "29",
         "Male",
         "Naoma Fritts",
         "OOP",
         "2382829",
         47.0,
         "Ernest Rossbach_Celeste Lollis@PF.com",
         0.47,
         "Nigeria"
        ],
        [
         "28",
         "Female",
         "Taryn Brownlee",
         "DSA",
         "2392929",
         101.0,
         "Sebrina Maresca_Jenna Montague@Cloud.com",
         1.01,
         "Nigeria"
        ],
        [
         "28",
         "Female",
         "Jenna Montague",
         "Cloud",
         "2402240",
         106.0,
         "Annika Hoffman_Dustin Feagins@Cloud.com",
         1.06,
         "Nigeria"
        ],
        [
         "28",
         "Male",
         "Melani Engberg",
         "MVC",
         "2412019",
         64.0,
         "Latia Vanhoose_Melani Engberg@DSA.com",
         0.64,
         "Nigeria"
        ],
        [
         "29",
         "Female",
         "Dustin Feagins",
         "Cloud",
         "2421900",
         99.0,
         "Niki Klimek_Latia Vanhoose@Cloud.com",
         0.99,
         "Nigeria"
        ],
        [
         "28",
         "Female",
         "Santa Kerfien",
         "Cloud",
         "2431828",
         36.0,
         "Margene Moores_Somer Stoecker@PF.com",
         0.36,
         "Nigeria"
        ],
        [
         "28",
         "Female",
         "Jenna Montague",
         "MVC",
         "2441637",
         82.0,
         "Cordie Harnois_Alberta Freund@OOP.com",
         0.82,
         "Nigeria"
        ],
        [
         "28",
         "Male",
         "Sebrina Maresca",
         "Cloud",
         "2452108",
         51.0,
         "Billi Clore_Loris Crossett@DSA.com",
         0.51,
         "Nigeria"
        ],
        [
         "28",
         "Male",
         "Judie Chipps",
         "DB",
         "2461986",
         63.0,
         "Niki Klimek_Judie Chipps@MVC.com",
         0.63,
         "Nigeria"
        ],
        [
         "29",
         "Male",
         "Jenna Montague",
         "DSA",
         "2472773",
         91.0,
         "Margene Moores_Bonita Higuera@DSA.com",
         0.91,
         "Nigeria"
        ],
        [
         "29",
         "Female",
         "Nicole Harwood",
         "MVC",
         "2481418",
         101.0,
         "Kizzy Brenner_Priscila Tavernier@DB.com",
         1.01,
         "Nigeria"
        ],
        [
         "29",
         "Male",
         "Cheri Kenney",
         "Cloud",
         "2491705",
         74.0,
         "Toshiko Hillyard_Mickey Cortright@PF.com",
         0.74,
         "Nigeria"
        ],
        [
         "28",
         "Female",
         "Bonita Higuera",
         "DSA",
         "2501639",
         76.0,
         "Paris Hutton_Naoma Fritts@PF.com",
         0.76,
         "Nigeria"
        ],
        [
         "29",
         "Female",
         "Marylee Capasso",
         "DSA",
         "2512456",
         85.0,
         "Mitzi Seldon_Donna Yerby@Cloud.com",
         0.85,
         "Nigeria"
        ],
        [
         "28",
         "Female",
         "Jeannetta Golden",
         "DB",
         "2522775",
         93.0,
         "Kizzy Brenner_Bonita Higuera@DB.com",
         0.93,
         "Nigeria"
        ],
        [
         "29",
         "Female",
         "Annika Hoffman",
         "PF",
         "2532233",
         84.0,
         "Somer Stoecker_Annika Hoffman@MVC.com",
         0.84,
         "Nigeria"
        ],
        [
         "28",
         "Female",
         "Kizzy Brenner",
         "OOP",
         "2542257",
         106.0,
         "Eda Neathery_Lawanda Wohlwend@Cloud.com",
         1.06,
         "Nigeria"
        ],
        [
         "28",
         "Male",
         "Priscila Tavernier",
         "Cloud",
         "2552194",
         52.0,
         "Jeannetta Golden_Abram Nagao@PF.com",
         0.52,
         "Nigeria"
        ],
        [
         "28",
         "Male",
         "Claude Panos",
         "OOP",
         "2562357",
         60.0,
         "Naoma Fritts_Anna Santos@Cloud.com",
         0.6,
         "Nigeria"
        ],
        [
         "28",
         "Male",
         "Gonzalo Ferebee",
         "MVC",
         "2572197",
         53.0,
         "Marylee Capasso_Jc Andrepont@DB.com",
         0.53,
         "Nigeria"
        ],
        [
         "29",
         "Male",
         "Nicole Harwood",
         "Cloud",
         "2581369",
         36.0,
         "Paris Hutton_Alberta Freund@MVC.com",
         0.36,
         "Nigeria"
        ],
        [
         "28",
         "Male",
         "Paris Hutton",
         "OOP",
         "2592369",
         70.0,
         "Taryn Brownlee_Sheryll Towler@OOP.com",
         0.7,
         "Nigeria"
        ],
        [
         "28",
         "Female",
         "Ernest Rossbach",
         "Cloud",
         "2602027",
         93.0,
         "Alberta Freund_Gonzalo Ferebee@MVC.com",
         0.93,
         "Nigeria"
        ],
        [
         "28",
         "Male",
         "Sheryll Towler",
         "DSA",
         "2612360",
         37.0,
         "Celeste Lollis_Paris Hutton@OOP.com",
         0.37,
         "Nigeria"
        ],
        [
         "28",
         "Male",
         "Mitzi Seldon",
         "DB",
         "2622118",
         65.0,
         "Mickey Cortright_Mitzi Seldon@MVC.com",
         0.65,
         "Nigeria"
        ],
        [
         "28",
         "Female",
         "Abram Nagao",
         "DB",
         "2632057",
         35.0,
         "Margene Moores_Somer Stoecker@DB.com",
         0.35,
         "Nigeria"
        ],
        [
         "28",
         "Male",
         "Billi Clore",
         "PF",
         "2642909",
         68.0,
         "Loris Crossett_Sebrina Maresca@OOP.com",
         0.68,
         "Nigeria"
        ],
        [
         "28",
         "Male",
         "Abram Nagao",
         "Cloud",
         "2652463",
         31.0,
         "Eda Neathery_Annika Hoffman@Cloud.com",
         0.31,
         "Nigeria"
        ],
        [
         "29",
         "Male",
         "Tamera Blakley",
         "DSA",
         "2661934",
         33.0,
         "Alberta Freund_Tijuana Kropf@Cloud.com",
         0.33,
         "Nigeria"
        ],
        [
         "29",
         "Female",
         "Naoma Fritts",
         "PF",
         "2672130",
         59.0,
         "Kizzy Brenner_Alberta Freund@Cloud.com",
         0.59,
         "Nigeria"
        ],
        [
         "28",
         "Female",
         "Maybell Duguay",
         "Cloud",
         "2682466",
         46.0,
         "Priscila Tavernier_Mitzi Seldon@PF.com",
         0.46,
         "Nigeria"
        ],
        [
         "28",
         "Female",
         "Loris Crossett",
         "OOP",
         "2691881",
         39.0,
         "Maybell Duguay_Niki Klimek@OOP.com",
         0.39,
         "Nigeria"
        ],
        [
         "28",
         "Male",
         "Mitzi Seldon",
         "PF",
         "2701239",
         86.0,
         "Alberta Freund_Cordie Harnois@Cloud.com",
         0.86,
         "Nigeria"
        ],
        [
         "29",
         "Male",
         "Sebrina Maresca",
         "PF",
         "2712040",
         33.0,
         "Jeannetta Golden_Judie Chipps@DB.com",
         0.33,
         "Nigeria"
        ],
        [
         "29",
         "Male",
         "Somer Stoecker",
         "PF",
         "2721652",
         46.0,
         "Tijuana Kropf_Michelle Ruggiero@Cloud.com",
         0.46,
         "Nigeria"
        ],
        [
         "28",
         "Male",
         "Santa Kerfien",
         "DB",
         "2732421",
         89.0,
         "Claude Panos_Alberta Freund@DB.com",
         0.89,
         "Nigeria"
        ],
        [
         "28",
         "Female",
         "Billi Clore",
         "MVC",
         "2741290",
         42.0,
         "Abram Nagao_Elenore Choy@MVC.com",
         0.42,
         "Nigeria"
        ],
        [
         "29",
         "Female",
         "Nicole Harwood",
         "DSA",
         "2751838",
         57.0,
         "Donna Yerby_Lawanda Wohlwend@MVC.com",
         0.57,
         "Nigeria"
        ],
        [
         "29",
         "Female",
         "Sheryll Towler",
         "DSA",
         "2762045",
         98.0,
         "Eda Neathery_Priscila Tavernier@DSA.com",
         0.98,
         "Nigeria"
        ],
        [
         "28",
         "Male",
         "Clementina Menke",
         "DSA",
         "2772189",
         108.0,
         "Donna Yerby_Judie Chipps@PF.com",
         1.08,
         "Nigeria"
        ],
        [
         "29",
         "Male",
         "Tijuana Kropf",
         "Cloud",
         "2781801",
         78.0,
         "Alberta Freund_Cordie Harnois@Cloud.com",
         0.78,
         "Nigeria"
        ],
        [
         "28",
         "Female",
         "Billi Clore",
         "PF",
         "2792977",
         81.0,
         "Jalisa Swenson_Nicole Harwood@MVC.com",
         0.81,
         "Nigeria"
        ],
        [
         "29",
         "Female",
         "Eda Neathery",
         "DB",
         "2802988",
         82.0,
         "Jenna Montague_Toshiko Hillyard@Cloud.com",
         0.82,
         "Nigeria"
        ],
        [
         "28",
         "Female",
         "Abram Nagao",
         "Cloud",
         "2811189",
         64.0,
         "Kena Wild_Donna Yerby@DSA.com",
         0.64,
         "Nigeria"
        ],
        [
         "29",
         "Female",
         "Eda Neathery",
         "MVC",
         "2821243",
         107.0,
         "Tamera Blakley_Eda Neathery@DB.com",
         1.07,
         "Nigeria"
        ],
        [
         "29",
         "Male",
         "Leontine Phillips",
         "PF",
         "2832158",
         36.0,
         "Margene Moores_Claude Panos@MVC.com",
         0.36,
         "Nigeria"
        ],
        [
         "29",
         "Male",
         "Abram Nagao",
         "DB",
         "2841061",
         35.0,
         "Leontine Phillips_Toshiko Hillyard@Cloud.com",
         0.35,
         "Nigeria"
        ],
        [
         "28",
         "Male",
         "Loris Crossett",
         "OOP",
         "2852490",
         35.0,
         "Loris Crossett_Donna Yerby@DSA.com",
         0.35,
         "Nigeria"
        ],
        [
         "29",
         "Female",
         "Latia Vanhoose",
         "PF",
         "2861854",
         52.0,
         "Claude Panos_Nicole Harwood@DSA.com",
         0.52,
         "Nigeria"
        ],
        [
         "28",
         "Female",
         "Michelle Ruggiero",
         "PF",
         "2872130",
         80.0,
         "Cheri Kenney_Lawanda Wohlwend@DSA.com",
         0.8,
         "Nigeria"
        ],
        [
         "28",
         "Female",
         "Alberta Freund",
         "OOP",
         "2881304",
         72.0,
         "Loris Crossett_Jc Andrepont@Cloud.com",
         0.72,
         "Nigeria"
        ],
        [
         "28",
         "Male",
         "Michelle Ruggiero",
         "DB",
         "2891164",
         70.0,
         "Gonzalo Ferebee_Priscila Tavernier@DSA.com",
         0.7,
         "Nigeria"
        ],
        [
         "29",
         "Female",
         "Naoma Fritts",
         "MVC",
         "2902779",
         70.0,
         "Sebrina Maresca_Niki Klimek@PF.com",
         0.7,
         "Nigeria"
        ],
        [
         "29",
         "Male",
         "Niki Klimek",
         "DB",
         "2912538",
         77.0,
         "Jc Andrepont_Mitzi Seldon@DSA.com",
         0.77,
         "Nigeria"
        ],
        [
         "28",
         "Male",
         "Gonzalo Ferebee",
         "Cloud",
         "2922041",
         48.0,
         "Clementina Menke_Taryn Brownlee@OOP.com",
         0.48,
         "Nigeria"
        ],
        [
         "28",
         "Female",
         "Kena Wild",
         "PF",
         "2931712",
         62.0,
         "Melani Engberg_Leontine Phillips@PF.com",
         0.62,
         "Nigeria"
        ],
        [
         "29",
         "Male",
         "Melani Engberg",
         "DB",
         "2941257",
         108.0,
         "Claude Panos_Kena Wild@DB.com",
         1.08,
         "Nigeria"
        ],
        [
         "29",
         "Male",
         "Billi Clore",
         "DSA",
         "2952091",
         62.0,
         "Jenna Montague_Mickey Cortright@DB.com",
         0.62,
         "Nigeria"
        ],
        [
         "29",
         "Male",
         "Claude Panos",
         "PF",
         "2961015",
         43.0,
         "Elenore Choy_Santa Kerfien@DSA.com",
         0.43,
         "Nigeria"
        ],
        [
         "29",
         "Female",
         "Jenna Montague",
         "DSA",
         "2972673",
         81.0,
         "Toshiko Hillyard_Naoma Fritts@DB.com",
         0.81,
         "Nigeria"
        ],
        [
         "28",
         "Female",
         "Dustin Feagins",
         "PF",
         "2981342",
         96.0,
         "Somer Stoecker_Neda Briski@Cloud.com",
         0.96,
         "Nigeria"
        ],
        [
         "29",
         "Male",
         "Latia Vanhoose",
         "MVC",
         "2992281",
         100.0,
         "Elenore Choy_Cordie Harnois@DSA.com",
         1.0,
         "Nigeria"
        ],
        [
         "29",
         "Male",
         "Margene Moores",
         "PF",
         "3002277",
         42.0,
         "Somer Stoecker_Maybell Duguay@DSA.com",
         0.42,
         "Nigeria"
        ],
        [
         "28",
         "Male",
         "Leontine Phillips",
         "Cloud",
         "3011586",
         86.0,
         "Dustin Feagins_Alberta Freund@DB.com",
         0.86,
         "Nigeria"
        ],
        [
         "29",
         "Male",
         "Naoma Fritts",
         "MVC",
         "3021768",
         44.0,
         "Bonita Higuera_Anna Santos@Cloud.com",
         0.44,
         "Nigeria"
        ],
        [
         "29",
         "Female",
         "Neda Briski",
         "DSA",
         "3031196",
         37.0,
         "Jc Andrepont_Abram Nagao@DSA.com",
         0.37,
         "Nigeria"
        ],
        [
         "29",
         "Female",
         "Alberta Freund",
         "DB",
         "3041340",
         70.0,
         "Celeste Lollis_Abram Nagao@PF.com",
         0.7,
         "Nigeria"
        ],
        [
         "29",
         "Male",
         "Annika Hoffman",
         "Cloud",
         "3051363",
         67.0,
         "Paris Hutton_Leontine Phillips@Cloud.com",
         0.67,
         "Nigeria"
        ],
        [
         "29",
         "Male",
         "Anna Santos",
         "Cloud",
         "3061386",
         67.0,
         "Michelle Ruggiero_Abram Nagao@Cloud.com",
         0.67,
         "Nigeria"
        ],
        [
         "29",
         "Female",
         "Anna Santos",
         "DSA",
         "3072690",
         46.0,
         "Sheryll Towler_Latia Vanhoose@PF.com",
         0.46,
         "Nigeria"
        ],
        [
         "29",
         "Female",
         "Judie Chipps",
         "MVC",
         "3082254",
         88.0,
         "Kena Wild_Anna Santos@MVC.com",
         0.88,
         "Nigeria"
        ],
        [
         "29",
         "Female",
         "Latia Vanhoose",
         "MVC",
         "3091650",
         40.0,
         "Cordie Harnois_Sebrina Maresca@PF.com",
         0.4,
         "Nigeria"
        ],
        [
         "28",
         "Female",
         "Mitzi Seldon",
         "Cloud",
         "3101372",
         64.0,
         "Gonzalo Ferebee_Cordie Harnois@MVC.com",
         0.64,
         "Nigeria"
        ],
        [
         "28",
         "Male",
         "Tijuana Kropf",
         "DB",
         "3111175",
         80.0,
         "Latia Vanhoose_Somer Stoecker@DSA.com",
         0.8,
         "Nigeria"
        ],
        [
         "28",
         "Male",
         "Kizzy Brenner",
         "MVC",
         "3121184",
         39.0,
         "Tijuana Kropf_Elenore Choy@DB.com",
         0.39,
         "Nigeria"
        ],
        [
         "29",
         "Male",
         "Nicole Harwood",
         "OOP",
         "3132620",
         98.0,
         "Jeannetta Golden_Lawanda Wohlwend@PF.com",
         0.98,
         "Nigeria"
        ],
        [
         "29",
         "Male",
         "Gonzalo Ferebee",
         "DSA",
         "3141791",
         72.0,
         "Ernest Rossbach_Sheryll Towler@MVC.com",
         0.72,
         "Nigeria"
        ],
        [
         "29",
         "Male",
         "Billi Clore",
         "MVC",
         "3152247",
         106.0,
         "Ernest Rossbach_Clementina Menke@PF.com",
         1.06,
         "Nigeria"
        ],
        [
         "29",
         "Male",
         "Elenore Choy",
         "Cloud",
         "3161233",
         55.0,
         "Dustin Feagins_Dustin Feagins@Cloud.com",
         0.55,
         "Nigeria"
        ],
        [
         "29",
         "Male",
         "Judie Chipps",
         "MVC",
         "3172827",
         77.0,
         "Eda Neathery_Eda Neathery@DSA.com",
         0.77,
         "Nigeria"
        ],
        [
         "28",
         "Male",
         "Lawanda Wohlwend",
         "Cloud",
         "3181337",
         49.0,
         "Sebrina Maresca_Billi Clore@MVC.com",
         0.49,
         "Nigeria"
        ],
        [
         "29",
         "Male",
         "Jalisa Swenson",
         "DB",
         "3192192",
         84.0,
         "Ernest Rossbach_Cordie Harnois@DB.com",
         0.84,
         "Nigeria"
        ],
        [
         "29",
         "Male",
         "Cordie Harnois",
         "PF",
         "3201624",
         51.0,
         "Maybell Duguay_Somer Stoecker@PF.com",
         0.51,
         "Nigeria"
        ],
        [
         "28",
         "Male",
         "Tijuana Kropf",
         "MVC",
         "3212517",
         58.0,
         "Somer Stoecker_Mickey Cortright@PF.com",
         0.58,
         "Nigeria"
        ],
        [
         "28",
         "Female",
         "Billi Clore",
         "DB",
         "3221997",
         71.0,
         "Taryn Brownlee_Santa Kerfien@PF.com",
         0.71,
         "Nigeria"
        ],
        [
         "29",
         "Female",
         "Margene Moores",
         "Cloud",
         "3232893",
         34.0,
         "Elenore Choy_Niki Klimek@MVC.com",
         0.34,
         "Nigeria"
        ],
        [
         "29",
         "Female",
         "Paris Hutton",
         "DB",
         "3241324",
         82.0,
         "Abram Nagao_Cordie Harnois@DSA.com",
         0.82,
         "Nigeria"
        ],
        [
         "28",
         "Female",
         "Neda Briski",
         "PF",
         "3251377",
         33.0,
         "Kizzy Brenner_Mickey Cortright@DSA.com",
         0.33,
         "Nigeria"
        ],
        [
         "29",
         "Female",
         "Sebrina Maresca",
         "Cloud",
         "3261159",
         107.0,
         "Maybell Duguay_Jalisa Swenson@Cloud.com",
         1.07,
         "Nigeria"
        ],
        [
         "28",
         "Female",
         "Sebrina Maresca",
         "PF",
         "3272192",
         40.0,
         "Jeannetta Golden_Cordie Harnois@PF.com",
         0.4,
         "Nigeria"
        ],
        [
         "29",
         "Male",
         "Donna Yerby",
         "PF",
         "3282057",
         97.0,
         "Kizzy Brenner_Loris Crossett@DB.com",
         0.97,
         "Nigeria"
        ],
        [
         "28",
         "Female",
         "Kena Wild",
         "PF",
         "3291691",
         106.0,
         "Tamera Blakley_Naoma Fritts@Cloud.com",
         1.06,
         "Nigeria"
        ],
        [
         "29",
         "Male",
         "Tijuana Kropf",
         "PF",
         "3301891",
         70.0,
         "Tamera Blakley_Neda Briski@DSA.com",
         0.7,
         "Nigeria"
        ],
        [
         "28",
         "Female",
         "Marylee Capasso",
         "MVC",
         "3312606",
         67.0,
         "Marylee Capasso_Gonzalo Ferebee@MVC.com",
         0.67,
         "Nigeria"
        ],
        [
         "28",
         "Male",
         "Sheryll Towler",
         "OOP",
         "3322308",
         42.0,
         "Clementina Menke_Naoma Fritts@OOP.com",
         0.42,
         "Nigeria"
        ],
        [
         "28",
         "Male",
         "Jenna Montague",
         "OOP",
         "3331161",
         108.0,
         "Leontine Phillips_Judie Chipps@DSA.com",
         1.08,
         "Nigeria"
        ],
        [
         "28",
         "Male",
         "Mitzi Seldon",
         "PF",
         "3342819",
         78.0,
         "Cheri Kenney_Naoma Fritts@PF.com",
         0.78,
         "Nigeria"
        ],
        [
         "28",
         "Male",
         "Clementina Menke",
         "Cloud",
         "3352508",
         105.0,
         "Naoma Fritts_Mickey Cortright@Cloud.com",
         1.05,
         "Nigeria"
        ],
        [
         "28",
         "Female",
         "Niki Klimek",
         "DB",
         "3361932",
         37.0,
         "Nicole Harwood_Bonita Higuera@DB.com",
         0.37,
         "Nigeria"
        ],
        [
         "29",
         "Male",
         "Sebrina Maresca",
         "DB",
         "3371719",
         96.0,
         "Marylee Capasso_Margene Moores@DSA.com",
         0.96,
         "Nigeria"
        ],
        [
         "28",
         "Male",
         "Niki Klimek",
         "PF",
         "3381919",
         107.0,
         "Hubert Oliveras_Latia Vanhoose@DB.com",
         1.07,
         "Nigeria"
        ],
        [
         "29",
         "Female",
         "Cordie Harnois",
         "MVC",
         "3391820",
         65.0,
         "Paris Hutton_Alberta Freund@DB.com",
         0.65,
         "Nigeria"
        ],
        [
         "29",
         "Female",
         "Jenna Montague",
         "DSA",
         "3402028",
         50.0,
         "Ernest Rossbach_Alberta Freund@DSA.com",
         0.5,
         "Nigeria"
        ],
        [
         "29",
         "Male",
         "Dustin Feagins",
         "OOP",
         "3412915",
         72.0,
         "Toshiko Hillyard_Priscila Tavernier@MVC.com",
         0.72,
         "Nigeria"
        ],
        [
         "28",
         "Female",
         "Naoma Fritts",
         "DSA",
         "3422822",
         64.0,
         "Nicole Harwood_Anna Santos@PF.com",
         0.64,
         "Nigeria"
        ],
        [
         "29",
         "Female",
         "Celeste Lollis",
         "MVC",
         "3431117",
         94.0,
         "Dustin Feagins_Melani Engberg@DSA.com",
         0.94,
         "Nigeria"
        ],
        [
         "29",
         "Female",
         "Niki Klimek",
         "DB",
         "3441033",
         103.0,
         "Hubert Oliveras_Tijuana Kropf@Cloud.com",
         1.03,
         "Nigeria"
        ],
        [
         "29",
         "Female",
         "Dustin Feagins",
         "PF",
         "3451343",
         98.0,
         "Cordie Harnois_Abram Nagao@Cloud.com",
         0.98,
         "Nigeria"
        ],
        [
         "29",
         "Female",
         "Celeste Lollis",
         "DSA",
         "3461783",
         60.0,
         "Loris Crossett_Ernest Rossbach@Cloud.com",
         0.6,
         "Nigeria"
        ],
        [
         "29",
         "Male",
         "Annika Hoffman",
         "DSA",
         "3471063",
         52.0,
         "Bonita Higuera_Cordie Harnois@Cloud.com",
         0.52,
         "Nigeria"
        ],
        [
         "28",
         "Female",
         "Sebrina Maresca",
         "PF",
         "3481728",
         83.0,
         "Billi Clore_Billi Clore@OOP.com",
         0.83,
         "Nigeria"
        ],
        [
         "28",
         "Male",
         "Taryn Brownlee",
         "PF",
         "3491666",
         86.0,
         "Neda Briski_Priscila Tavernier@DB.com",
         0.86,
         "Nigeria"
        ],
        [
         "28",
         "Female",
         "Loris Crossett",
         "OOP",
         "3502780",
         40.0,
         "Jenna Montague_Cordie Harnois@MVC.com",
         0.4,
         "Nigeria"
        ],
        [
         "29",
         "Male",
         "Kizzy Brenner",
         "PF",
         "3512215",
         60.0,
         "Naoma Fritts_Melani Engberg@Cloud.com",
         0.6,
         "Nigeria"
        ],
        [
         "28",
         "Female",
         "Elenore Choy",
         "OOP",
         "3521960",
         100.0,
         "Sebrina Maresca_Tijuana Kropf@PF.com",
         1.0,
         "Nigeria"
        ],
        [
         "28",
         "Female",
         "Loris Crossett",
         "PF",
         "3531684",
         94.0,
         "Dustin Feagins_Tamera Blakley@DSA.com",
         0.94,
         "Nigeria"
        ],
        [
         "29",
         "Female",
         "Leontine Phillips",
         "OOP",
         "3541954",
         75.0,
         "Margene Moores_Jeannetta Golden@MVC.com",
         0.75,
         "Nigeria"
        ],
        [
         "29",
         "Female",
         "Billi Clore",
         "OOP",
         "3551532",
         91.0,
         "Dustin Feagins_Annika Hoffman@PF.com",
         0.91,
         "Nigeria"
        ],
        [
         "28",
         "Female",
         "Neda Briski",
         "Cloud",
         "3562470",
         36.0,
         "Gonzalo Ferebee_Kizzy Brenner@DB.com",
         0.36,
         "Nigeria"
        ],
        [
         "29",
         "Female",
         "Eda Neathery",
         "MVC",
         "3572648",
         87.0,
         "Melani Engberg_Margene Moores@DB.com",
         0.87,
         "Nigeria"
        ],
        [
         "28",
         "Male",
         "Kizzy Brenner",
         "Cloud",
         "3581303",
         90.0,
         "Margene Moores_Tamera Blakley@PF.com",
         0.9,
         "Nigeria"
        ],
        [
         "29",
         "Male",
         "Loris Crossett",
         "OOP",
         "3592529",
         90.0,
         "Annika Hoffman_Toshiko Hillyard@PF.com",
         0.9,
         "Nigeria"
        ],
        [
         "28",
         "Female",
         "Toshiko Hillyard",
         "DB",
         "3602005",
         64.0,
         "Loris Crossett_Annika Hoffman@DB.com",
         0.64,
         "Nigeria"
        ],
        [
         "28",
         "Male",
         "Mickey Cortright",
         "Cloud",
         "3612300",
         102.0,
         "Cordie Harnois_Sheryll Towler@OOP.com",
         1.02,
         "Nigeria"
        ],
        [
         "28",
         "Female",
         "Sebrina Maresca",
         "OOP",
         "3621436",
         91.0,
         "Maybell Duguay_Marylee Capasso@DSA.com",
         0.91,
         "Nigeria"
        ],
        [
         "28",
         "Male",
         "Hubert Oliveras",
         "Cloud",
         "3632954",
         44.0,
         "Ernest Rossbach_Annika Hoffman@OOP.com",
         0.44,
         "Nigeria"
        ],
        [
         "29",
         "Female",
         "Taryn Brownlee",
         "MVC",
         "3641757",
         57.0,
         "Alberta Freund_Dustin Feagins@OOP.com",
         0.57,
         "Nigeria"
        ],
        [
         "29",
         "Male",
         "Elenore Choy",
         "DB",
         "3652057",
         30.0,
         "Jc Andrepont_Gonzalo Ferebee@DB.com",
         0.3,
         "Nigeria"
        ],
        [
         "29",
         "Female",
         "Clementina Menke",
         "Cloud",
         "3662734",
         68.0,
         "Jc Andrepont_Lawanda Wohlwend@MVC.com",
         0.68,
         "Nigeria"
        ],
        [
         "29",
         "Female",
         "Donna Yerby",
         "PF",
         "3672856",
         44.0,
         "Alberta Freund_Claude Panos@MVC.com",
         0.44,
         "Nigeria"
        ],
        [
         "28",
         "Male",
         "Jalisa Swenson",
         "PF",
         "3681989",
         98.0,
         "Toshiko Hillyard_Ernest Rossbach@DB.com",
         0.98,
         "Nigeria"
        ],
        [
         "28",
         "Female",
         "Leontine Phillips",
         "PF",
         "3691377",
         38.0,
         "Tamera Blakley_Alberta Freund@Cloud.com",
         0.38,
         "Nigeria"
        ],
        [
         "29",
         "Male",
         "Marylee Capasso",
         "MVC",
         "3702018",
         98.0,
         "Somer Stoecker_Latia Vanhoose@Cloud.com",
         0.98,
         "Nigeria"
        ],
        [
         "29",
         "Female",
         "Bonita Higuera",
         "Cloud",
         "3711664",
         45.0,
         "Sheryll Towler_Kizzy Brenner@OOP.com",
         0.45,
         "Nigeria"
        ],
        [
         "28",
         "Male",
         "Jenna Montague",
         "DSA",
         "3721359",
         106.0,
         "Naoma Fritts_Kizzy Brenner@MVC.com",
         1.06,
         "Nigeria"
        ],
        [
         "28",
         "Female",
         "Gonzalo Ferebee",
         "MVC",
         "3732535",
         74.0,
         "Somer Stoecker_Ernest Rossbach@DB.com",
         0.74,
         "Nigeria"
        ],
        [
         "28",
         "Male",
         "Niki Klimek",
         "OOP",
         "3742031",
         92.0,
         "Leontine Phillips_Toshiko Hillyard@Cloud.com",
         0.92,
         "Nigeria"
        ],
        [
         "28",
         "Male",
         "Claude Panos",
         "DB",
         "3752819",
         88.0,
         "Toshiko Hillyard_Mickey Cortright@DB.com",
         0.88,
         "Nigeria"
        ],
        [
         "29",
         "Male",
         "Priscila Tavernier",
         "PF",
         "3762231",
         97.0,
         "Celeste Lollis_Loris Crossett@Cloud.com",
         0.97,
         "Nigeria"
        ],
        [
         "29",
         "Female",
         "Margene Moores",
         "PF",
         "3772294",
         39.0,
         "Melani Engberg_Kizzy Brenner@PF.com",
         0.39,
         "Nigeria"
        ],
        [
         "28",
         "Male",
         "Abram Nagao",
         "DSA",
         "3781521",
         55.0,
         "Taryn Brownlee_Michelle Ruggiero@OOP.com",
         0.55,
         "Nigeria"
        ],
        [
         "28",
         "Male",
         "Maybell Duguay",
         "Cloud",
         "3791855",
         43.0,
         "Tijuana Kropf_Lawanda Wohlwend@PF.com",
         0.43,
         "Nigeria"
        ],
        [
         "28",
         "Male",
         "Bonita Higuera",
         "DB",
         "3802569",
         87.0,
         "Kena Wild_Kena Wild@OOP.com",
         0.87,
         "Nigeria"
        ],
        [
         "28",
         "Female",
         "Gonzalo Ferebee",
         "DSA",
         "3811667",
         76.0,
         "Neda Briski_Abram Nagao@OOP.com",
         0.76,
         "Nigeria"
        ],
        [
         "29",
         "Male",
         "Tijuana Kropf",
         "DB",
         "3821650",
         70.0,
         "Maybell Duguay_Donna Yerby@MVC.com",
         0.7,
         "Nigeria"
        ],
        [
         "28",
         "Male",
         "Eda Neathery",
         "Cloud",
         "3831006",
         85.0,
         "Donna Yerby_Loris Crossett@DSA.com",
         0.85,
         "Nigeria"
        ],
        [
         "29",
         "Female",
         "Latia Vanhoose",
         "OOP",
         "3841395",
         36.0,
         "Kizzy Brenner_Eda Neathery@Cloud.com",
         0.36,
         "Nigeria"
        ],
        [
         "29",
         "Female",
         "Judie Chipps",
         "DSA",
         "3852601",
         102.0,
         "Donna Yerby_Margene Moores@OOP.com",
         1.02,
         "Nigeria"
        ],
        [
         "28",
         "Female",
         "Loris Crossett",
         "PF",
         "3861248",
         104.0,
         "Dustin Feagins_Cheri Kenney@Cloud.com",
         1.04,
         "Nigeria"
        ],
        [
         "29",
         "Female",
         "Donna Yerby",
         "DSA",
         "3872735",
         81.0,
         "Eda Neathery_Latia Vanhoose@Cloud.com",
         0.81,
         "Nigeria"
        ],
        [
         "29",
         "Female",
         "Paris Hutton",
         "Cloud",
         "3882188",
         98.0,
         "Claude Panos_Loris Crossett@DB.com",
         0.98,
         "Nigeria"
        ],
        [
         "29",
         "Male",
         "Jc Andrepont",
         "MVC",
         "3892788",
         104.0,
         "Alberta Freund_Eda Neathery@DSA.com",
         1.04,
         "Nigeria"
        ],
        [
         "29",
         "Female",
         "Priscila Tavernier",
         "OOP",
         "3902993",
         109.0,
         "Celeste Lollis_Billi Clore@DB.com",
         1.09,
         "Nigeria"
        ],
        [
         "29",
         "Female",
         "Tamera Blakley",
         "DSA",
         "3911247",
         30.0,
         "Donna Yerby_Bonita Higuera@DB.com",
         0.3,
         "Nigeria"
        ],
        [
         "29",
         "Male",
         "Dustin Feagins",
         "PF",
         "3921585",
         42.0,
         "Dustin Feagins_Jalisa Swenson@OOP.com",
         0.42,
         "Nigeria"
        ],
        [
         "28",
         "Female",
         "Santa Kerfien",
         "OOP",
         "3931948",
         34.0,
         "Jeannetta Golden_Jenna Montague@DSA.com",
         0.34,
         "Nigeria"
        ],
        [
         "29",
         "Male",
         "Margene Moores",
         "DSA",
         "3942449",
         32.0,
         "Tijuana Kropf_Naoma Fritts@DSA.com",
         0.32,
         "Nigeria"
        ],
        [
         "29",
         "Female",
         "Ernest Rossbach",
         "DSA",
         "3951575",
         84.0,
         "Marylee Capasso_Kizzy Brenner@PF.com",
         0.84,
         "Nigeria"
        ],
        [
         "28",
         "Male",
         "Santa Kerfien",
         "PF",
         "3961803",
         104.0,
         "Jeannetta Golden_Latia Vanhoose@PF.com",
         1.04,
         "Nigeria"
        ],
        [
         "29",
         "Male",
         "Jalisa Swenson",
         "OOP",
         "3972823",
         102.0,
         "Tamera Blakley_Elenore Choy@Cloud.com",
         1.02,
         "Nigeria"
        ],
        [
         "29",
         "Female",
         "Clementina Menke",
         "DSA",
         "3982381",
         108.0,
         "Tamera Blakley_Kizzy Brenner@OOP.com",
         1.08,
         "Nigeria"
        ],
        [
         "28",
         "Male",
         "Cordie Harnois",
         "PF",
         "3991186",
         79.0,
         "Loris Crossett_Somer Stoecker@PF.com",
         0.79,
         "Nigeria"
        ],
        [
         "29",
         "Male",
         "Bonita Higuera",
         "Cloud",
         "4001493",
         46.0,
         "Priscila Tavernier_Niki Klimek@PF.com",
         0.46,
         "Nigeria"
        ],
        [
         "29",
         "Female",
         "Annika Hoffman",
         "Cloud",
         "4012967",
         75.0,
         "Santa Kerfien_Elenore Choy@OOP.com",
         0.75,
         "Nigeria"
        ],
        [
         "28",
         "Male",
         "Jeannetta Golden",
         "PF",
         "4021336",
         73.0,
         "Latia Vanhoose_Loris Crossett@PF.com",
         0.73,
         "Nigeria"
        ],
        [
         "29",
         "Female",
         "Toshiko Hillyard",
         "PF",
         "4032043",
         38.0,
         "Naoma Fritts_Cheri Kenney@DB.com",
         0.38,
         "Nigeria"
        ],
        [
         "29",
         "Male",
         "Sheryll Towler",
         "MVC",
         "4041358",
         44.0,
         "Sheryll Towler_Claude Panos@DSA.com",
         0.44,
         "Nigeria"
        ],
        [
         "28",
         "Female",
         "Alberta Freund",
         "OOP",
         "4052753",
         52.0,
         "Marylee Capasso_Jenna Montague@OOP.com",
         0.52,
         "Nigeria"
        ],
        [
         "29",
         "Female",
         "Taryn Brownlee",
         "PF",
         "4062876",
         77.0,
         "Claude Panos_Niki Klimek@OOP.com",
         0.77,
         "Nigeria"
        ],
        [
         "28",
         "Male",
         "Margene Moores",
         "DSA",
         "4071164",
         52.0,
         "Billi Clore_Lawanda Wohlwend@DB.com",
         0.52,
         "Nigeria"
        ],
        [
         "29",
         "Male",
         "Ernest Rossbach",
         "DB",
         "4081940",
         51.0,
         "Tamera Blakley_Abram Nagao@MVC.com",
         0.51,
         "Nigeria"
        ],
        [
         "28",
         "Female",
         "Jenna Montague",
         "PF",
         "4092419",
         64.0,
         "Donna Yerby_Taryn Brownlee@MVC.com",
         0.64,
         "Nigeria"
        ],
        [
         "28",
         "Female",
         "Elenore Choy",
         "OOP",
         "4102729",
         45.0,
         "Jenna Montague_Bonita Higuera@DB.com",
         0.45,
         "Nigeria"
        ],
        [
         "29",
         "Male",
         "Maybell Duguay",
         "Cloud",
         "4112714",
         64.0,
         "Cordie Harnois_Mitzi Seldon@DB.com",
         0.64,
         "Nigeria"
        ],
        [
         "29",
         "Female",
         "Leontine Phillips",
         "PF",
         "4122317",
         41.0,
         "Hubert Oliveras_Lawanda Wohlwend@PF.com",
         0.41,
         "Nigeria"
        ],
        [
         "28",
         "Female",
         "Mickey Cortright",
         "OOP",
         "4132027",
         59.0,
         "Santa Kerfien_Nicole Harwood@DSA.com",
         0.59,
         "Nigeria"
        ],
        [
         "28",
         "Male",
         "Paris Hutton",
         "OOP",
         "4141149",
         92.0,
         "Maybell Duguay_Marylee Capasso@DB.com",
         0.92,
         "Nigeria"
        ],
        [
         "29",
         "Female",
         "Alberta Freund",
         "DSA",
         "4152288",
         88.0,
         "Elenore Choy_Lawanda Wohlwend@MVC.com",
         0.88,
         "Nigeria"
        ],
        [
         "28",
         "Female",
         "Annika Hoffman",
         "DSA",
         "4162718",
         73.0,
         "Gonzalo Ferebee_Billi Clore@PF.com",
         0.73,
         "Nigeria"
        ],
        [
         "28",
         "Female",
         "Jc Andrepont",
         "Cloud",
         "4171613",
         75.0,
         "Somer Stoecker_Paris Hutton@Cloud.com",
         0.75,
         "Nigeria"
        ],
        [
         "29",
         "Female",
         "Ernest Rossbach",
         "Cloud",
         "4182371",
         49.0,
         "Jalisa Swenson_Cheri Kenney@DSA.com",
         0.49,
         "Nigeria"
        ],
        [
         "29",
         "Male",
         "Anna Santos",
         "DB",
         "4192955",
         59.0,
         "Clementina Menke_Judie Chipps@Cloud.com",
         0.59,
         "Nigeria"
        ],
        [
         "28",
         "Male",
         "Celeste Lollis",
         "DSA",
         "4201845",
         56.0,
         "Gonzalo Ferebee_Clementina Menke@MVC.com",
         0.56,
         "Nigeria"
        ],
        [
         "28",
         "Female",
         "Tamera Blakley",
         "MVC",
         "4212111",
         89.0,
         "Clementina Menke_Elenore Choy@PF.com",
         0.89,
         "Nigeria"
        ],
        [
         "29",
         "Male",
         "Michelle Ruggiero",
         "OOP",
         "4222829",
         106.0,
         "Kena Wild_Jalisa Swenson@Cloud.com",
         1.06,
         "Nigeria"
        ],
        [
         "29",
         "Male",
         "Clementina Menke",
         "DSA",
         "4231581",
         76.0,
         "Annika Hoffman_Tamera Blakley@DSA.com",
         0.76,
         "Nigeria"
        ],
        [
         "28",
         "Female",
         "Michelle Ruggiero",
         "DSA",
         "4242536",
         51.0,
         "Alberta Freund_Billi Clore@DSA.com",
         0.51,
         "Nigeria"
        ],
        [
         "29",
         "Female",
         "Claude Panos",
         "Cloud",
         "4251762",
         60.0,
         "Gonzalo Ferebee_Eda Neathery@OOP.com",
         0.6,
         "Nigeria"
        ],
        [
         "28",
         "Female",
         "Mickey Cortright",
         "OOP",
         "4261803",
         80.0,
         "Leontine Phillips_Melani Engberg@Cloud.com",
         0.8,
         "Nigeria"
        ],
        [
         "28",
         "Female",
         "Bonita Higuera",
         "Cloud",
         "4271366",
         67.0,
         "Elenore Choy_Gonzalo Ferebee@DB.com",
         0.67,
         "Nigeria"
        ],
        [
         "29",
         "Male",
         "Hubert Oliveras",
         "Cloud",
         "4282001",
         80.0,
         "Billi Clore_Elenore Choy@Cloud.com",
         0.8,
         "Nigeria"
        ],
        [
         "29",
         "Male",
         "Elenore Choy",
         "DB",
         "4291907",
         101.0,
         "Hubert Oliveras_Tamera Blakley@OOP.com",
         1.01,
         "Nigeria"
        ],
        [
         "28",
         "Female",
         "Clementina Menke",
         "OOP",
         "4301606",
         87.0,
         "Naoma Fritts_Leontine Phillips@MVC.com",
         0.87,
         "Nigeria"
        ],
        [
         "28",
         "Male",
         "Santa Kerfien",
         "DB",
         "4311493",
         100.0,
         "Tijuana Kropf_Anna Santos@PF.com",
         1.0,
         "Nigeria"
        ],
        [
         "29",
         "Female",
         "Mitzi Seldon",
         "Cloud",
         "4321178",
         87.0,
         "Kena Wild_Annika Hoffman@PF.com",
         0.87,
         "Nigeria"
        ],
        [
         "29",
         "Female",
         "Kizzy Brenner",
         "PF",
         "4331609",
         79.0,
         "Taryn Brownlee_Paris Hutton@DSA.com",
         0.79,
         "Nigeria"
        ],
        [
         "28",
         "Male",
         "Clementina Menke",
         "PF",
         "4341575",
         99.0,
         "Cordie Harnois_Marylee Capasso@DB.com",
         0.99,
         "Nigeria"
        ],
        [
         "29",
         "Male",
         "Billi Clore",
         "Cloud",
         "4351588",
         86.0,
         "Loris Crossett_Gonzalo Ferebee@DB.com",
         0.86,
         "Nigeria"
        ],
        [
         "29",
         "Female",
         "Niki Klimek",
         "DSA",
         "4362808",
         79.0,
         "Lawanda Wohlwend_Billi Clore@Cloud.com",
         0.79,
         "Nigeria"
        ],
        [
         "29",
         "Male",
         "Celeste Lollis",
         "PF",
         "4372710",
         73.0,
         "Latia Vanhoose_Loris Crossett@MVC.com",
         0.73,
         "Nigeria"
        ],
        [
         "28",
         "Male",
         "Toshiko Hillyard",
         "Cloud",
         "4381862",
         65.0,
         "Anna Santos_Melani Engberg@MVC.com",
         0.65,
         "Nigeria"
        ],
        [
         "28",
         "Female",
         "Donna Yerby",
         "Cloud",
         "4392575",
         32.0,
         "Leontine Phillips_Jenna Montague@DSA.com",
         0.32,
         "Nigeria"
        ],
        [
         "29",
         "Male",
         "Margene Moores",
         "OOP",
         "4401841",
         55.0,
         "Naoma Fritts_Eda Neathery@Cloud.com",
         0.55,
         "Nigeria"
        ],
        [
         "29",
         "Male",
         "Ernest Rossbach",
         "DB",
         "4411585",
         60.0,
         "Marylee Capasso_Lawanda Wohlwend@Cloud.com",
         0.6,
         "Nigeria"
        ],
        [
         "28",
         "Female",
         "Paris Hutton",
         "PF",
         "4421530",
         99.0,
         "Sebrina Maresca_Latia Vanhoose@MVC.com",
         0.99,
         "Nigeria"
        ],
        [
         "28",
         "Female",
         "Kena Wild",
         "DB",
         "4431030",
         69.0,
         "Paris Hutton_Cheri Kenney@Cloud.com",
         0.69,
         "Nigeria"
        ],
        [
         "29",
         "Male",
         "Maybell Duguay",
         "DSA",
         "4441473",
         33.0,
         "Billi Clore_Clementina Menke@OOP.com",
         0.33,
         "Nigeria"
        ],
        [
         "29",
         "Male",
         "Cheri Kenney",
         "Cloud",
         "4451117",
         83.0,
         "Jenna Montague_Kena Wild@Cloud.com",
         0.83,
         "Nigeria"
        ],
        [
         "28",
         "Female",
         "Kizzy Brenner",
         "Cloud",
         "4462249",
         103.0,
         "Naoma Fritts_Taryn Brownlee@PF.com",
         1.03,
         "Nigeria"
        ],
        [
         "28",
         "Female",
         "Jeannetta Golden",
         "Cloud",
         "4472760",
         89.0,
         "Clementina Menke_Tamera Blakley@OOP.com",
         0.89,
         "Nigeria"
        ],
        [
         "28",
         "Female",
         "Mitzi Seldon",
         "DSA",
         "4481503",
         91.0,
         "Jc Andrepont_Claude Panos@DB.com",
         0.91,
         "Nigeria"
        ],
        [
         "29",
         "Male",
         "Paris Hutton",
         "DB",
         "4492478",
         94.0,
         "Paris Hutton_Jenna Montague@PF.com",
         0.94,
         "Nigeria"
        ],
        [
         "29",
         "Female",
         "Alberta Freund",
         "OOP",
         "4501424",
         31.0,
         "Toshiko Hillyard_Celeste Lollis@MVC.com",
         0.31,
         "Nigeria"
        ],
        [
         "29",
         "Male",
         "Melani Engberg",
         "MVC",
         "4511004",
         81.0,
         "Nicole Harwood_Melani Engberg@Cloud.com",
         0.81,
         "Nigeria"
        ],
        [
         "28",
         "Female",
         "Margene Moores",
         "MVC",
         "4521977",
         71.0,
         "Jeannetta Golden_Jc Andrepont@MVC.com",
         0.71,
         "Nigeria"
        ],
        [
         "29",
         "Male",
         "Abram Nagao",
         "Cloud",
         "4531204",
         60.0,
         "Loris Crossett_Sebrina Maresca@DB.com",
         0.6,
         "Nigeria"
        ],
        [
         "29",
         "Male",
         "Judie Chipps",
         "DB",
         "4542925",
         49.0,
         "Jenna Montague_Priscila Tavernier@PF.com",
         0.49,
         "Nigeria"
        ],
        [
         "29",
         "Female",
         "Ernest Rossbach",
         "DSA",
         "4551917",
         89.0,
         "Somer Stoecker_Eda Neathery@PF.com",
         0.89,
         "Nigeria"
        ],
        [
         "29",
         "Female",
         "Nicole Harwood",
         "DSA",
         "4562217",
         50.0,
         "Anna Santos_Cheri Kenney@OOP.com",
         0.5,
         "Nigeria"
        ],
        [
         "29",
         "Female",
         "Sheryll Towler",
         "DB",
         "4571866",
         77.0,
         "Leontine Phillips_Kizzy Brenner@Cloud.com",
         0.77,
         "Nigeria"
        ],
        [
         "29",
         "Female",
         "Naoma Fritts",
         "DSA",
         "4582052",
         33.0,
         "Kena Wild_Jenna Montague@DSA.com",
         0.33,
         "Nigeria"
        ],
        [
         "29",
         "Female",
         "Cheri Kenney",
         "PF",
         "4591235",
         76.0,
         "Annika Hoffman_Annika Hoffman@OOP.com",
         0.76,
         "Nigeria"
        ],
        [
         "28",
         "Female",
         "Celeste Lollis",
         "OOP",
         "4602002",
         71.0,
         "Nicole Harwood_Abram Nagao@MVC.com",
         0.71,
         "Nigeria"
        ],
        [
         "28",
         "Female",
         "Judie Chipps",
         "Cloud",
         "4612245",
         36.0,
         "Somer Stoecker_Naoma Fritts@Cloud.com",
         0.36,
         "Nigeria"
        ],
        [
         "28",
         "Male",
         "Kizzy Brenner",
         "Cloud",
         "4622328",
         31.0,
         "Leontine Phillips_Marylee Capasso@PF.com",
         0.31,
         "Nigeria"
        ],
        [
         "28",
         "Female",
         "Judie Chipps",
         "DSA",
         "4631068",
         108.0,
         "Toshiko Hillyard_Abram Nagao@MVC.com",
         1.08,
         "Nigeria"
        ],
        [
         "28",
         "Male",
         "Marylee Capasso",
         "PF",
         "4642202",
         104.0,
         "Marylee Capasso_Elenore Choy@Cloud.com",
         1.04,
         "Nigeria"
        ],
        [
         "28",
         "Male",
         "Eda Neathery",
         "DB",
         "4651622",
         53.0,
         "Priscila Tavernier_Hubert Oliveras@DSA.com",
         0.53,
         "Nigeria"
        ],
        [
         "29",
         "Male",
         "Latia Vanhoose",
         "Cloud",
         "4661276",
         50.0,
         "Jc Andrepont_Annika Hoffman@DB.com",
         0.5,
         "Nigeria"
        ],
        [
         "29",
         "Male",
         "Kizzy Brenner",
         "Cloud",
         "4671045",
         91.0,
         "Lawanda Wohlwend_Judie Chipps@OOP.com",
         0.91,
         "Nigeria"
        ],
        [
         "28",
         "Male",
         "Elenore Choy",
         "MVC",
         "4681842",
         98.0,
         "Paris Hutton_Toshiko Hillyard@DB.com",
         0.98,
         "Nigeria"
        ],
        [
         "29",
         "Male",
         "Dustin Feagins",
         "MVC",
         "4692399",
         42.0,
         "Gonzalo Ferebee_Somer Stoecker@OOP.com",
         0.42,
         "Nigeria"
        ],
        [
         "28",
         "Female",
         "Claude Panos",
         "DB",
         "4701534",
         57.0,
         "Somer Stoecker_Naoma Fritts@DSA.com",
         0.57,
         "Nigeria"
        ],
        [
         "28",
         "Female",
         "Elenore Choy",
         "Cloud",
         "4711825",
         64.0,
         "Alberta Freund_Tijuana Kropf@DSA.com",
         0.64,
         "Nigeria"
        ],
        [
         "28",
         "Female",
         "Mitzi Seldon",
         "OOP",
         "4722700",
         57.0,
         "Naoma Fritts_Ernest Rossbach@DB.com",
         0.57,
         "Nigeria"
        ],
        [
         "28",
         "Female",
         "Tijuana Kropf",
         "DSA",
         "4732921",
         62.0,
         "Jenna Montague_Gonzalo Ferebee@DB.com",
         0.62,
         "Nigeria"
        ],
        [
         "29",
         "Male",
         "Judie Chipps",
         "OOP",
         "4742632",
         104.0,
         "Judie Chipps_Kena Wild@OOP.com",
         1.04,
         "Nigeria"
        ],
        [
         "29",
         "Male",
         "Jalisa Swenson",
         "OOP",
         "4751515",
         30.0,
         "Annika Hoffman_Hubert Oliveras@Cloud.com",
         0.3,
         "Nigeria"
        ],
        [
         "29",
         "Male",
         "Marylee Capasso",
         "MVC",
         "4762368",
         90.0,
         "Sebrina Maresca_Annika Hoffman@Cloud.com",
         0.9,
         "Nigeria"
        ],
        [
         "28",
         "Female",
         "Niki Klimek",
         "DSA",
         "4772918",
         61.0,
         "Loris Crossett_Leontine Phillips@MVC.com",
         0.61,
         "Nigeria"
        ],
        [
         "28",
         "Female",
         "Priscila Tavernier",
         "OOP",
         "4781044",
         46.0,
         "Dustin Feagins_Naoma Fritts@OOP.com",
         0.46,
         "Nigeria"
        ],
        [
         "28",
         "Female",
         "Latia Vanhoose",
         "OOP",
         "4792828",
         82.0,
         "Tamera Blakley_Mitzi Seldon@DSA.com",
         0.82,
         "Nigeria"
        ],
        [
         "28",
         "Male",
         "Alberta Freund",
         "DB",
         "4802967",
         90.0,
         "Naoma Fritts_Elenore Choy@DSA.com",
         0.9,
         "Nigeria"
        ],
        [
         "28",
         "Female",
         "Santa Kerfien",
         "DB",
         "4811069",
         95.0,
         "Dustin Feagins_Maybell Duguay@MVC.com",
         0.95,
         "Nigeria"
        ],
        [
         "29",
         "Male",
         "Jalisa Swenson",
         "OOP",
         "4822653",
         80.0,
         "Anna Santos_Abram Nagao@MVC.com",
         0.8,
         "Nigeria"
        ],
        [
         "29",
         "Male",
         "Elenore Choy",
         "DSA",
         "4831059",
         34.0,
         "Abram Nagao_Kena Wild@Cloud.com",
         0.34,
         "Nigeria"
        ],
        [
         "28",
         "Male",
         "Cheri Kenney",
         "PF",
         "4841631",
         94.0,
         "Abram Nagao_Naoma Fritts@MVC.com",
         0.94,
         "Nigeria"
        ],
        [
         "29",
         "Female",
         "Lawanda Wohlwend",
         "DSA",
         "4851930",
         74.0,
         "Jeannetta Golden_Sheryll Towler@OOP.com",
         0.74,
         "Nigeria"
        ],
        [
         "28",
         "Male",
         "Cheri Kenney",
         "OOP",
         "4862694",
         78.0,
         "Leontine Phillips_Taryn Brownlee@DB.com",
         0.78,
         "Nigeria"
        ],
        [
         "28",
         "Female",
         "Jeannetta Golden",
         "OOP",
         "4872604",
         68.0,
         "Somer Stoecker_Celeste Lollis@MVC.com",
         0.68,
         "Nigeria"
        ],
        [
         "28",
         "Female",
         "Billi Clore",
         "DSA",
         "4881063",
         96.0,
         "Eda Neathery_Cordie Harnois@MVC.com",
         0.96,
         "Nigeria"
        ],
        [
         "28",
         "Male",
         "Clementina Menke",
         "DSA",
         "4891815",
         54.0,
         "Kena Wild_Judie Chipps@PF.com",
         0.54,
         "Nigeria"
        ],
        [
         "29",
         "Male",
         "Anna Santos",
         "MVC",
         "4901235",
         87.0,
         "Gonzalo Ferebee_Sebrina Maresca@DB.com",
         0.87,
         "Nigeria"
        ],
        [
         "29",
         "Male",
         "Elenore Choy",
         "DSA",
         "4911667",
         62.0,
         "Priscila Tavernier_Sheryll Towler@PF.com",
         0.62,
         "Nigeria"
        ],
        [
         "29",
         "Female",
         "Mitzi Seldon",
         "DB",
         "4922367",
         74.0,
         "Annika Hoffman_Annika Hoffman@MVC.com",
         0.74,
         "Nigeria"
        ],
        [
         "28",
         "Male",
         "Santa Kerfien",
         "DB",
         "4932764",
         86.0,
         "Nicole Harwood_Loris Crossett@PF.com",
         0.86,
         "Nigeria"
        ],
        [
         "28",
         "Male",
         "Mitzi Seldon",
         "MVC",
         "4942910",
         101.0,
         "Tamera Blakley_Jenna Montague@DSA.com",
         1.01,
         "Nigeria"
        ],
        [
         "29",
         "Female",
         "Dustin Feagins",
         "Cloud",
         "4952697",
         56.0,
         "Annika Hoffman_Elenore Choy@MVC.com",
         0.56,
         "Nigeria"
        ],
        [
         "29",
         "Female",
         "Paris Hutton",
         "OOP",
         "4962584",
         47.0,
         "Anna Santos_Alberta Freund@DB.com",
         0.47,
         "Nigeria"
        ],
        [
         "28",
         "Female",
         "Santa Kerfien",
         "DB",
         "4971408",
         50.0,
         "Mitzi Seldon_Naoma Fritts@PF.com",
         0.5,
         "Nigeria"
        ],
        [
         "28",
         "Female",
         "Toshiko Hillyard",
         "Cloud",
         "4982864",
         56.0,
         "Michelle Ruggiero_Cordie Harnois@DB.com",
         0.56,
         "Nigeria"
        ],
        [
         "28",
         "Female",
         "Donna Yerby",
         "DB",
         "4991657",
         63.0,
         "Ernest Rossbach_Somer Stoecker@DSA.com",
         0.63,
         "Nigeria"
        ],
        [
         "28",
         "Female",
         "Kena Wild",
         "DB",
         "5001412",
         63.0,
         "Annika Hoffman_Jalisa Swenson@PF.com",
         0.63,
         "Nigeria"
        ],
        [
         "29",
         "Male",
         "Jc Andrepont",
         "DB",
         "5012482",
         70.0,
         "Jalisa Swenson_Somer Stoecker@Cloud.com",
         0.7,
         "Nigeria"
        ],
        [
         "29",
         "Male",
         "Abram Nagao",
         "DSA",
         "5022738",
         52.0,
         "Margene Moores_Latia Vanhoose@OOP.com",
         0.52,
         "Nigeria"
        ],
        [
         "29",
         "Female",
         "Alberta Freund",
         "OOP",
         "5032356",
         76.0,
         "Paris Hutton_Gonzalo Ferebee@MVC.com",
         0.76,
         "Nigeria"
        ],
        [
         "29",
         "Male",
         "Sebrina Maresca",
         "Cloud",
         "5042394",
         31.0,
         "Donna Yerby_Michelle Ruggiero@PF.com",
         0.31,
         "Nigeria"
        ],
        [
         "29",
         "Male",
         "Jeannetta Golden",
         "PF",
         "5051485",
         85.0,
         "Neda Briski_Annika Hoffman@Cloud.com",
         0.85,
         "Nigeria"
        ],
        [
         "29",
         "Male",
         "Jalisa Swenson",
         "OOP",
         "5061737",
         94.0,
         "Somer Stoecker_Latia Vanhoose@MVC.com",
         0.94,
         "Nigeria"
        ],
        [
         "28",
         "Male",
         "Gonzalo Ferebee",
         "MVC",
         "5071004",
         82.0,
         "Mitzi Seldon_Taryn Brownlee@DSA.com",
         0.82,
         "Nigeria"
        ],
        [
         "28",
         "Male",
         "Eda Neathery",
         "PF",
         "5082430",
         32.0,
         "Leontine Phillips_Lawanda Wohlwend@MVC.com",
         0.32,
         "Nigeria"
        ],
        [
         "28",
         "Male",
         "Tijuana Kropf",
         "DSA",
         "5092243",
         95.0,
         "Jenna Montague_Loris Crossett@OOP.com",
         0.95,
         "Nigeria"
        ],
        [
         "29",
         "Female",
         "Leontine Phillips",
         "OOP",
         "5102782",
         96.0,
         "Lawanda Wohlwend_Mitzi Seldon@Cloud.com",
         0.96,
         "Nigeria"
        ],
        [
         "29",
         "Male",
         "Alberta Freund",
         "PF",
         "5112625",
         78.0,
         "Abram Nagao_Celeste Lollis@DSA.com",
         0.78,
         "Nigeria"
        ],
        [
         "29",
         "Female",
         "Niki Klimek",
         "MVC",
         "5122968",
         52.0,
         "Jenna Montague_Hubert Oliveras@MVC.com",
         0.52,
         "Nigeria"
        ],
        [
         "28",
         "Female",
         "Neda Briski",
         "Cloud",
         "5131604",
         68.0,
         "Mickey Cortright_Niki Klimek@DB.com",
         0.68,
         "Nigeria"
        ],
        [
         "29",
         "Female",
         "Anna Santos",
         "DB",
         "5142808",
         91.0,
         "Donna Yerby_Naoma Fritts@DB.com",
         0.91,
         "Nigeria"
        ],
        [
         "29",
         "Male",
         "Gonzalo Ferebee",
         "Cloud",
         "5151742",
         56.0,
         "Jeannetta Golden_Ernest Rossbach@DSA.com",
         0.56,
         "Nigeria"
        ],
        [
         "29",
         "Male",
         "Mickey Cortright",
         "MVC",
         "5162191",
         38.0,
         "Eda Neathery_Tijuana Kropf@DB.com",
         0.38,
         "Nigeria"
        ],
        [
         "28",
         "Male",
         "Niki Klimek",
         "DSA",
         "5172507",
         109.0,
         "Marylee Capasso_Elenore Choy@MVC.com",
         1.09,
         "Nigeria"
        ],
        [
         "29",
         "Male",
         "Elenore Choy",
         "PF",
         "5181004",
         68.0,
         "Jc Andrepont_Loris Crossett@OOP.com",
         0.68,
         "Nigeria"
        ],
        [
         "29",
         "Male",
         "Loris Crossett",
         "MVC",
         "5192208",
         88.0,
         "Tamera Blakley_Abram Nagao@DB.com",
         0.88,
         "Nigeria"
        ],
        [
         "28",
         "Male",
         "Jc Andrepont",
         "Cloud",
         "5202136",
         107.0,
         "Jc Andrepont_Kena Wild@PF.com",
         1.07,
         "Nigeria"
        ],
        [
         "29",
         "Female",
         "Marylee Capasso",
         "PF",
         "5212694",
         74.0,
         "Loris Crossett_Niki Klimek@Cloud.com",
         0.74,
         "Nigeria"
        ],
        [
         "28",
         "Female",
         "Latia Vanhoose",
         "PF",
         "5222171",
         83.0,
         "Toshiko Hillyard_Mickey Cortright@Cloud.com",
         0.83,
         "Nigeria"
        ],
        [
         "28",
         "Male",
         "Eda Neathery",
         "MVC",
         "5231777",
         66.0,
         "Judie Chipps_Jalisa Swenson@OOP.com",
         0.66,
         "Nigeria"
        ],
        [
         "28",
         "Male",
         "Elenore Choy",
         "MVC",
         "5241419",
         91.0,
         "Sebrina Maresca_Taryn Brownlee@PF.com",
         0.91,
         "Nigeria"
        ],
        [
         "29",
         "Female",
         "Marylee Capasso",
         "OOP",
         "5252441",
         57.0,
         "Maybell Duguay_Mickey Cortright@MVC.com",
         0.57,
         "Nigeria"
        ],
        [
         "28",
         "Female",
         "Taryn Brownlee",
         "OOP",
         "5262828",
         35.0,
         "Elenore Choy_Gonzalo Ferebee@DB.com",
         0.35,
         "Nigeria"
        ],
        [
         "28",
         "Male",
         "Clementina Menke",
         "DSA",
         "5272838",
         37.0,
         "Clementina Menke_Eda Neathery@MVC.com",
         0.37,
         "Nigeria"
        ],
        [
         "29",
         "Male",
         "Santa Kerfien",
         "DB",
         "5282657",
         91.0,
         "Judie Chipps_Mickey Cortright@MVC.com",
         0.91,
         "Nigeria"
        ],
        [
         "29",
         "Female",
         "Lawanda Wohlwend",
         "OOP",
         "5292220",
         56.0,
         "Loris Crossett_Alberta Freund@MVC.com",
         0.56,
         "Nigeria"
        ],
        [
         "28",
         "Female",
         "Abram Nagao",
         "Cloud",
         "5301859",
         60.0,
         "Elenore Choy_Claude Panos@Cloud.com",
         0.6,
         "Nigeria"
        ],
        [
         "28",
         "Male",
         "Taryn Brownlee",
         "DB",
         "5311449",
         35.0,
         "Santa Kerfien_Lawanda Wohlwend@OOP.com",
         0.35,
         "Nigeria"
        ],
        [
         "28",
         "Male",
         "Donna Yerby",
         "DB",
         "5321010",
         75.0,
         "Jc Andrepont_Tijuana Kropf@DB.com",
         0.75,
         "Nigeria"
        ],
        [
         "29",
         "Female",
         "Celeste Lollis",
         "Cloud",
         "5331415",
         85.0,
         "Leontine Phillips_Kena Wild@DB.com",
         0.85,
         "Nigeria"
        ],
        [
         "28",
         "Female",
         "Hubert Oliveras",
         "DSA",
         "5342918",
         92.0,
         "Judie Chipps_Annika Hoffman@OOP.com",
         0.92,
         "Nigeria"
        ],
        [
         "28",
         "Male",
         "Tamera Blakley",
         "DSA",
         "5352713",
         90.0,
         "Jeannetta Golden_Neda Briski@Cloud.com",
         0.9,
         "Nigeria"
        ],
        [
         "29",
         "Male",
         "Sheryll Towler",
         "PF",
         "5362217",
         46.0,
         "Ernest Rossbach_Eda Neathery@Cloud.com",
         0.46,
         "Nigeria"
        ],
        [
         "28",
         "Female",
         "Ernest Rossbach",
         "PF",
         "5372045",
         97.0,
         "Maybell Duguay_Melani Engberg@PF.com",
         0.97,
         "Nigeria"
        ],
        [
         "28",
         "Male",
         "Lawanda Wohlwend",
         "OOP",
         "5382684",
         44.0,
         "Jc Andrepont_Kena Wild@Cloud.com",
         0.44,
         "Nigeria"
        ],
        [
         "29",
         "Male",
         "Santa Kerfien",
         "OOP",
         "5391590",
         99.0,
         "Somer Stoecker_Loris Crossett@DB.com",
         0.99,
         "Nigeria"
        ],
        [
         "29",
         "Female",
         "Tamera Blakley",
         "MVC",
         "5401559",
         78.0,
         "Alberta Freund_Jeannetta Golden@MVC.com",
         0.78,
         "Nigeria"
        ],
        [
         "28",
         "Female",
         "Maybell Duguay",
         "Cloud",
         "5411090",
         63.0,
         "Jeannetta Golden_Mickey Cortright@DB.com",
         0.63,
         "Nigeria"
        ],
        [
         "28",
         "Male",
         "Jc Andrepont",
         "DSA",
         "5421958",
         43.0,
         "Lawanda Wohlwend_Leontine Phillips@DB.com",
         0.43,
         "Nigeria"
        ],
        [
         "28",
         "Female",
         "Somer Stoecker",
         "DSA",
         "5432767",
         105.0,
         "Mitzi Seldon_Paris Hutton@MVC.com",
         1.05,
         "Nigeria"
        ],
        [
         "29",
         "Female",
         "Jeannetta Golden",
         "OOP",
         "5442294",
         62.0,
         "Elenore Choy_Sebrina Maresca@MVC.com",
         0.62,
         "Nigeria"
        ],
        [
         "28",
         "Female",
         "Judie Chipps",
         "OOP",
         "5451977",
         109.0,
         "Tamera Blakley_Mickey Cortright@PF.com",
         1.09,
         "Nigeria"
        ],
        [
         "28",
         "Female",
         "Maybell Duguay",
         "Cloud",
         "5461402",
         39.0,
         "Cheri Kenney_Annika Hoffman@Cloud.com",
         0.39,
         "Nigeria"
        ],
        [
         "28",
         "Female",
         "Jeannetta Golden",
         "Cloud",
         "5472189",
         102.0,
         "Naoma Fritts_Annika Hoffman@DB.com",
         1.02,
         "Nigeria"
        ],
        [
         "29",
         "Female",
         "Lawanda Wohlwend",
         "Cloud",
         "5482981",
         47.0,
         "Billi Clore_Eda Neathery@DB.com",
         0.47,
         "Nigeria"
        ],
        [
         "29",
         "Female",
         "Eda Neathery",
         "Cloud",
         "5492989",
         53.0,
         "Cordie Harnois_Latia Vanhoose@DB.com",
         0.53,
         "Nigeria"
        ],
        [
         "28",
         "Male",
         "Anna Santos",
         "DSA",
         "5502368",
         94.0,
         "Sebrina Maresca_Jc Andrepont@Cloud.com",
         0.94,
         "Nigeria"
        ],
        [
         "28",
         "Female",
         "Neda Briski",
         "MVC",
         "5512387",
         64.0,
         "Jenna Montague_Melani Engberg@Cloud.com",
         0.64,
         "Nigeria"
        ],
        [
         "29",
         "Female",
         "Claude Panos",
         "Cloud",
         "5521752",
         104.0,
         "Sebrina Maresca_Sheryll Towler@MVC.com",
         1.04,
         "Nigeria"
        ],
        [
         "29",
         "Female",
         "Judie Chipps",
         "Cloud",
         "5532421",
         90.0,
         "Sebrina Maresca_Donna Yerby@Cloud.com",
         0.9,
         "Nigeria"
        ],
        [
         "29",
         "Female",
         "Hubert Oliveras",
         "DSA",
         "5542363",
         33.0,
         "Priscila Tavernier_Niki Klimek@DSA.com",
         0.33,
         "Nigeria"
        ],
        [
         "28",
         "Male",
         "Gonzalo Ferebee",
         "PF",
         "5552593",
         65.0,
         "Jeannetta Golden_Dustin Feagins@Cloud.com",
         0.65,
         "Nigeria"
        ],
        [
         "28",
         "Female",
         "Mickey Cortright",
         "OOP",
         "5561955",
         48.0,
         "Jenna Montague_Hubert Oliveras@DSA.com",
         0.48,
         "Nigeria"
        ],
        [
         "28",
         "Male",
         "Abram Nagao",
         "OOP",
         "5571082",
         95.0,
         "Santa Kerfien_Jalisa Swenson@PF.com",
         0.95,
         "Nigeria"
        ],
        [
         "29",
         "Female",
         "Dustin Feagins",
         "DB",
         "5581136",
         42.0,
         "Alberta Freund_Celeste Lollis@Cloud.com",
         0.42,
         "Nigeria"
        ],
        [
         "29",
         "Male",
         "Sheryll Towler",
         "DSA",
         "5591018",
         66.0,
         "Tijuana Kropf_Dustin Feagins@DSA.com",
         0.66,
         "Nigeria"
        ],
        [
         "28",
         "Female",
         "Mitzi Seldon",
         "DB",
         "5602986",
         75.0,
         "Toshiko Hillyard_Elenore Choy@MVC.com",
         0.75,
         "Nigeria"
        ],
        [
         "28",
         "Male",
         "Michelle Ruggiero",
         "PF",
         "5612879",
         74.0,
         "Tijuana Kropf_Maybell Duguay@PF.com",
         0.74,
         "Nigeria"
        ],
        [
         "29",
         "Male",
         "Margene Moores",
         "OOP",
         "5621072",
         107.0,
         "Sheryll Towler_Margene Moores@MVC.com",
         1.07,
         "Nigeria"
        ],
        [
         "29",
         "Female",
         "Gonzalo Ferebee",
         "DSA",
         "5631172",
         30.0,
         "Jeannetta Golden_Hubert Oliveras@MVC.com",
         0.3,
         "Nigeria"
        ],
        [
         "28",
         "Male",
         "Cheri Kenney",
         "Cloud",
         "5641528",
         104.0,
         "Sebrina Maresca_Leontine Phillips@OOP.com",
         1.04,
         "Nigeria"
        ],
        [
         "29",
         "Female",
         "Niki Klimek",
         "DSA",
         "5651181",
         48.0,
         "Dustin Feagins_Naoma Fritts@OOP.com",
         0.48,
         "Nigeria"
        ],
        [
         "28",
         "Male",
         "Tamera Blakley",
         "DB",
         "5661433",
         86.0,
         "Abram Nagao_Leontine Phillips@MVC.com",
         0.86,
         "Nigeria"
        ],
        [
         "28",
         "Male",
         "Annika Hoffman",
         "OOP",
         "5672977",
         48.0,
         "Paris Hutton_Latia Vanhoose@DB.com",
         0.48,
         "Nigeria"
        ],
        [
         "29",
         "Male",
         "Judie Chipps",
         "OOP",
         "5682469",
         34.0,
         "Tamera Blakley_Maybell Duguay@DSA.com",
         0.34,
         "Nigeria"
        ],
        [
         "29",
         "Male",
         "Cordie Harnois",
         "PF",
         "5691278",
         34.0,
         "Paris Hutton_Hubert Oliveras@MVC.com",
         0.34,
         "Nigeria"
        ],
        [
         "29",
         "Male",
         "Cheri Kenney",
         "OOP",
         "5702560",
         42.0,
         "Lawanda Wohlwend_Naoma Fritts@Cloud.com",
         0.42,
         "Nigeria"
        ],
        [
         "28",
         "Female",
         "Jalisa Swenson",
         "MVC",
         "5712033",
         109.0,
         "Dustin Feagins_Hubert Oliveras@DSA.com",
         1.09,
         "Nigeria"
        ],
        [
         "29",
         "Male",
         "Tamera Blakley",
         "OOP",
         "5722341",
         78.0,
         "Jalisa Swenson_Santa Kerfien@OOP.com",
         0.78,
         "Nigeria"
        ],
        [
         "29",
         "Male",
         "Bonita Higuera",
         "OOP",
         "5732408",
         92.0,
         "Mitzi Seldon_Claude Panos@PF.com",
         0.92,
         "Nigeria"
        ],
        [
         "28",
         "Female",
         "Sebrina Maresca",
         "PF",
         "5742239",
         31.0,
         "Bonita Higuera_Sebrina Maresca@DB.com",
         0.31,
         "Nigeria"
        ],
        [
         "29",
         "Female",
         "Leontine Phillips",
         "OOP",
         "5752610",
         40.0,
         "Jeannetta Golden_Mitzi Seldon@MVC.com",
         0.4,
         "Nigeria"
        ],
        [
         "28",
         "Female",
         "Sebrina Maresca",
         "DSA",
         "5761415",
         99.0,
         "Margene Moores_Kena Wild@DSA.com",
         0.99,
         "Nigeria"
        ],
        [
         "29",
         "Male",
         "Gonzalo Ferebee",
         "MVC",
         "5772006",
         109.0,
         "Niki Klimek_Margene Moores@MVC.com",
         1.09,
         "Nigeria"
        ],
        [
         "28",
         "Female",
         "Melani Engberg",
         "Cloud",
         "5782064",
         74.0,
         "Ernest Rossbach_Ernest Rossbach@Cloud.com",
         0.74,
         "Nigeria"
        ],
        [
         "28",
         "Male",
         "Naoma Fritts",
         "OOP",
         "5791890",
         55.0,
         "Billi Clore_Jenna Montague@Cloud.com",
         0.55,
         "Nigeria"
        ],
        [
         "28",
         "Female",
         "Somer Stoecker",
         "MVC",
         "5801302",
         44.0,
         "Cheri Kenney_Bonita Higuera@OOP.com",
         0.44,
         "Nigeria"
        ],
        [
         "28",
         "Male",
         "Mickey Cortright",
         "PF",
         "5812370",
         49.0,
         "Jenna Montague_Sheryll Towler@OOP.com",
         0.49,
         "Nigeria"
        ],
        [
         "29",
         "Male",
         "Eda Neathery",
         "PF",
         "5821087",
         65.0,
         "Nicole Harwood_Paris Hutton@DSA.com",
         0.65,
         "Nigeria"
        ],
        [
         "29",
         "Male",
         "Priscila Tavernier",
         "OOP",
         "5831872",
         73.0,
         "Somer Stoecker_Kena Wild@OOP.com",
         0.73,
         "Nigeria"
        ],
        [
         "28",
         "Female",
         "Alberta Freund",
         "MVC",
         "5842912",
         61.0,
         "Cordie Harnois_Margene Moores@OOP.com",
         0.61,
         "Nigeria"
        ],
        [
         "29",
         "Female",
         "Paris Hutton",
         "PF",
         "5852476",
         76.0,
         "Loris Crossett_Mickey Cortright@MVC.com",
         0.76,
         "Nigeria"
        ],
        [
         "28",
         "Female",
         "Nicole Harwood",
         "DB",
         "5862606",
         87.0,
         "Clementina Menke_Donna Yerby@DB.com",
         0.87,
         "Nigeria"
        ],
        [
         "28",
         "Female",
         "Judie Chipps",
         "DB",
         "5872939",
         34.0,
         "Mitzi Seldon_Paris Hutton@OOP.com",
         0.34,
         "Nigeria"
        ],
        [
         "28",
         "Female",
         "Somer Stoecker",
         "PF",
         "5882098",
         108.0,
         "Judie Chipps_Clementina Menke@PF.com",
         1.08,
         "Nigeria"
        ],
        [
         "29",
         "Female",
         "Jenna Montague",
         "Cloud",
         "5892993",
         96.0,
         "Jeannetta Golden_Marylee Capasso@MVC.com",
         0.96,
         "Nigeria"
        ],
        [
         "28",
         "Male",
         "Sebrina Maresca",
         "PF",
         "5902730",
         44.0,
         "Michelle Ruggiero_Claude Panos@DSA.com",
         0.44,
         "Nigeria"
        ],
        [
         "29",
         "Female",
         "Melani Engberg",
         "DSA",
         "5911007",
         64.0,
         "Kizzy Brenner_Tamera Blakley@OOP.com",
         0.64,
         "Nigeria"
        ],
        [
         "29",
         "Female",
         "Gonzalo Ferebee",
         "MVC",
         "5922869",
         90.0,
         "Toshiko Hillyard_Naoma Fritts@OOP.com",
         0.9,
         "Nigeria"
        ],
        [
         "29",
         "Male",
         "Donna Yerby",
         "DB",
         "5932345",
         88.0,
         "Leontine Phillips_Sheryll Towler@PF.com",
         0.88,
         "Nigeria"
        ],
        [
         "28",
         "Female",
         "Somer Stoecker",
         "DSA",
         "5942293",
         98.0,
         "Nicole Harwood_Tamera Blakley@DB.com",
         0.98,
         "Nigeria"
        ],
        [
         "28",
         "Female",
         "Anna Santos",
         "OOP",
         "5952812",
         66.0,
         "Jeannetta Golden_Eda Neathery@DB.com",
         0.66,
         "Nigeria"
        ],
        [
         "28",
         "Female",
         "Cheri Kenney",
         "OOP",
         "5961043",
         47.0,
         "Bonita Higuera_Marylee Capasso@PF.com",
         0.47,
         "Nigeria"
        ],
        [
         "28",
         "Female",
         "Tamera Blakley",
         "DSA",
         "5972030",
         38.0,
         "Leontine Phillips_Annika Hoffman@DSA.com",
         0.38,
         "Nigeria"
        ],
        [
         "29",
         "Female",
         "Dustin Feagins",
         "Cloud",
         "5982620",
         82.0,
         "Kena Wild_Cheri Kenney@OOP.com",
         0.82,
         "Nigeria"
        ],
        [
         "28",
         "Male",
         "Toshiko Hillyard",
         "DSA",
         "5992644",
         87.0,
         "Jenna Montague_Tijuana Kropf@Cloud.com",
         0.87,
         "Nigeria"
        ],
        [
         "29",
         "Male",
         "Michelle Ruggiero",
         "PF",
         "6001585",
         30.0,
         "Paris Hutton_Margene Moores@PF.com",
         0.3,
         "Nigeria"
        ],
        [
         "29",
         "Male",
         "Kizzy Brenner",
         "DSA",
         "6012402",
         81.0,
         "Elenore Choy_Alberta Freund@PF.com",
         0.81,
         "Nigeria"
        ],
        [
         "29",
         "Female",
         "Tijuana Kropf",
         "Cloud",
         "6021281",
         52.0,
         "Alberta Freund_Sheryll Towler@PF.com",
         0.52,
         "Nigeria"
        ],
        [
         "28",
         "Male",
         "Gonzalo Ferebee",
         "MVC",
         "6032264",
         81.0,
         "Jeannetta Golden_Claude Panos@Cloud.com",
         0.81,
         "Nigeria"
        ],
        [
         "29",
         "Male",
         "Cheri Kenney",
         "DB",
         "6041254",
         69.0,
         "Gonzalo Ferebee_Margene Moores@PF.com",
         0.69,
         "Nigeria"
        ],
        [
         "29",
         "Female",
         "Paris Hutton",
         "DB",
         "6052159",
         44.0,
         "Priscila Tavernier_Maybell Duguay@PF.com",
         0.44,
         "Nigeria"
        ],
        [
         "28",
         "Female",
         "Bonita Higuera",
         "Cloud",
         "6061881",
         33.0,
         "Dustin Feagins_Lawanda Wohlwend@PF.com",
         0.33,
         "Nigeria"
        ],
        [
         "29",
         "Female",
         "Alberta Freund",
         "DSA",
         "6071316",
         109.0,
         "Dustin Feagins_Sebrina Maresca@DB.com",
         1.09,
         "Nigeria"
        ],
        [
         "28",
         "Male",
         "Priscila Tavernier",
         "DSA",
         "6082520",
         99.0,
         "Clementina Menke_Hubert Oliveras@DSA.com",
         0.99,
         "Nigeria"
        ],
        [
         "29",
         "Male",
         "Kena Wild",
         "DSA",
         "6092008",
         86.0,
         "Sheryll Towler_Anna Santos@PF.com",
         0.86,
         "Nigeria"
        ],
        [
         "29",
         "Female",
         "Billi Clore",
         "Cloud",
         "6101096",
         37.0,
         "Maybell Duguay_Claude Panos@PF.com",
         0.37,
         "Nigeria"
        ],
        [
         "29",
         "Female",
         "Alberta Freund",
         "PF",
         "6111594",
         99.0,
         "Celeste Lollis_Anna Santos@Cloud.com",
         0.99,
         "Nigeria"
        ],
        [
         "29",
         "Female",
         "Jalisa Swenson",
         "Cloud",
         "6121309",
         69.0,
         "Kizzy Brenner_Dustin Feagins@PF.com",
         0.69,
         "Nigeria"
        ],
        [
         "28",
         "Male",
         "Paris Hutton",
         "DB",
         "6131084",
         82.0,
         "Tijuana Kropf_Abram Nagao@MVC.com",
         0.82,
         "Nigeria"
        ],
        [
         "29",
         "Male",
         "Jalisa Swenson",
         "DB",
         "6141407",
         107.0,
         "Ernest Rossbach_Alberta Freund@DB.com",
         1.07,
         "Nigeria"
        ],
        [
         "28",
         "Female",
         "Jenna Montague",
         "DSA",
         "6152830",
         91.0,
         "Gonzalo Ferebee_Lawanda Wohlwend@DB.com",
         0.91,
         "Nigeria"
        ],
        [
         "29",
         "Female",
         "Jalisa Swenson",
         "Cloud",
         "6161884",
         50.0,
         "Bonita Higuera_Latia Vanhoose@OOP.com",
         0.5,
         "Nigeria"
        ],
        [
         "29",
         "Male",
         "Jc Andrepont",
         "Cloud",
         "6171781",
         98.0,
         "Gonzalo Ferebee_Claude Panos@DB.com",
         0.98,
         "Nigeria"
        ],
        [
         "29",
         "Female",
         "Abram Nagao",
         "PF",
         "6182152",
         60.0,
         "Santa Kerfien_Claude Panos@DB.com",
         0.6,
         "Nigeria"
        ],
        [
         "28",
         "Female",
         "Cheri Kenney",
         "Cloud",
         "6192920",
         50.0,
         "Maybell Duguay_Neda Briski@OOP.com",
         0.5,
         "Nigeria"
        ],
        [
         "28",
         "Female",
         "Kena Wild",
         "DSA",
         "6201485",
         95.0,
         "Niki Klimek_Clementina Menke@MVC.com",
         0.95,
         "Nigeria"
        ],
        [
         "29",
         "Female",
         "Loris Crossett",
         "DB",
         "6212990",
         49.0,
         "Melani Engberg_Paris Hutton@Cloud.com",
         0.49,
         "Nigeria"
        ],
        [
         "29",
         "Female",
         "Kizzy Brenner",
         "DB",
         "6222425",
         79.0,
         "Margene Moores_Sebrina Maresca@MVC.com",
         0.79,
         "Nigeria"
        ],
        [
         "29",
         "Male",
         "Neda Briski",
         "DSA",
         "6231956",
         85.0,
         "Nicole Harwood_Santa Kerfien@Cloud.com",
         0.85,
         "Nigeria"
        ],
        [
         "28",
         "Female",
         "Billi Clore",
         "DSA",
         "6242097",
         107.0,
         "Jeannetta Golden_Maybell Duguay@DSA.com",
         1.07,
         "Nigeria"
        ],
        [
         "29",
         "Male",
         "Melani Engberg",
         "PF",
         "6252274",
         74.0,
         "Latia Vanhoose_Paris Hutton@OOP.com",
         0.74,
         "Nigeria"
        ],
        [
         "28",
         "Female",
         "Judie Chipps",
         "Cloud",
         "6261948",
         90.0,
         "Eda Neathery_Priscila Tavernier@MVC.com",
         0.9,
         "Nigeria"
        ],
        [
         "28",
         "Female",
         "Sheryll Towler",
         "DB",
         "6271754",
         53.0,
         "Elenore Choy_Melani Engberg@MVC.com",
         0.53,
         "Nigeria"
        ],
        [
         "28",
         "Male",
         "Tijuana Kropf",
         "Cloud",
         "6281730",
         93.0,
         "Mickey Cortright_Celeste Lollis@Cloud.com",
         0.93,
         "Nigeria"
        ],
        [
         "28",
         "Male",
         "Alberta Freund",
         "PF",
         "6291431",
         78.0,
         "Clementina Menke_Billi Clore@PF.com",
         0.78,
         "Nigeria"
        ],
        [
         "28",
         "Female",
         "Maybell Duguay",
         "DB",
         "6301666",
         98.0,
         "Latia Vanhoose_Jc Andrepont@Cloud.com",
         0.98,
         "Nigeria"
        ],
        [
         "29",
         "Male",
         "Eda Neathery",
         "DB",
         "6311969",
         93.0,
         "Clementina Menke_Neda Briski@DB.com",
         0.93,
         "Nigeria"
        ],
        [
         "29",
         "Male",
         "Claude Panos",
         "OOP",
         "6321119",
         45.0,
         "Bonita Higuera_Eda Neathery@DSA.com",
         0.45,
         "Nigeria"
        ],
        [
         "29",
         "Female",
         "Dustin Feagins",
         "PF",
         "6331469",
         61.0,
         "Melani Engberg_Margene Moores@MVC.com",
         0.61,
         "Nigeria"
        ],
        [
         "28",
         "Female",
         "Dustin Feagins",
         "OOP",
         "6341113",
         35.0,
         "Latia Vanhoose_Jenna Montague@OOP.com",
         0.35,
         "Nigeria"
        ],
        [
         "28",
         "Male",
         "Alberta Freund",
         "PF",
         "6352910",
         62.0,
         "Judie Chipps_Maybell Duguay@Cloud.com",
         0.62,
         "Nigeria"
        ],
        [
         "28",
         "Female",
         "Michelle Ruggiero",
         "Cloud",
         "6362263",
         76.0,
         "Sheryll Towler_Donna Yerby@Cloud.com",
         0.76,
         "Nigeria"
        ],
        [
         "29",
         "Male",
         "Toshiko Hillyard",
         "DSA",
         "6371328",
         101.0,
         "Somer Stoecker_Maybell Duguay@OOP.com",
         1.01,
         "Nigeria"
        ],
        [
         "28",
         "Male",
         "Annika Hoffman",
         "MVC",
         "6381719",
         58.0,
         "Ernest Rossbach_Jc Andrepont@DSA.com",
         0.58,
         "Nigeria"
        ],
        [
         "28",
         "Male",
         "Lawanda Wohlwend",
         "Cloud",
         "6391977",
         49.0,
         "Marylee Capasso_Melani Engberg@MVC.com",
         0.49,
         "Nigeria"
        ],
        [
         "28",
         "Female",
         "Eda Neathery",
         "PF",
         "6402146",
         88.0,
         "Sheryll Towler_Somer Stoecker@PF.com",
         0.88,
         "Nigeria"
        ],
        [
         "29",
         "Female",
         "Eda Neathery",
         "DSA",
         "6412002",
         105.0,
         "Sebrina Maresca_Hubert Oliveras@Cloud.com",
         1.05,
         "Nigeria"
        ],
        [
         "28",
         "Male",
         "Naoma Fritts",
         "DB",
         "6422790",
         105.0,
         "Sheryll Towler_Ernest Rossbach@DSA.com",
         1.05,
         "Nigeria"
        ],
        [
         "29",
         "Male",
         "Elenore Choy",
         "PF",
         "6431645",
         63.0,
         "Loris Crossett_Kena Wild@MVC.com",
         0.63,
         "Nigeria"
        ],
        [
         "28",
         "Male",
         "Leontine Phillips",
         "PF",
         "6442094",
         88.0,
         "Michelle Ruggiero_Paris Hutton@OOP.com",
         0.88,
         "Nigeria"
        ],
        [
         "29",
         "Female",
         "Maybell Duguay",
         "MVC",
         "6451082",
         43.0,
         "Lawanda Wohlwend_Mitzi Seldon@DB.com",
         0.43,
         "Nigeria"
        ],
        [
         "29",
         "Female",
         "Niki Klimek",
         "PF",
         "6462485",
         94.0,
         "Tamera Blakley_Niki Klimek@Cloud.com",
         0.94,
         "Nigeria"
        ],
        [
         "28",
         "Male",
         "Taryn Brownlee",
         "PF",
         "6471481",
         86.0,
         "Annika Hoffman_Donna Yerby@OOP.com",
         0.86,
         "Nigeria"
        ],
        [
         "29",
         "Female",
         "Claude Panos",
         "Cloud",
         "6482574",
         77.0,
         "Eda Neathery_Billi Clore@Cloud.com",
         0.77,
         "Nigeria"
        ],
        [
         "29",
         "Male",
         "Bonita Higuera",
         "MVC",
         "6491656",
         55.0,
         "Neda Briski_Naoma Fritts@DB.com",
         0.55,
         "Nigeria"
        ],
        [
         "28",
         "Male",
         "Jalisa Swenson",
         "MVC",
         "6501571",
         81.0,
         "Naoma Fritts_Niki Klimek@MVC.com",
         0.81,
         "Nigeria"
        ],
        [
         "29",
         "Male",
         "Judie Chipps",
         "Cloud",
         "6511826",
         84.0,
         "Clementina Menke_Judie Chipps@DSA.com",
         0.84,
         "Nigeria"
        ],
        [
         "28",
         "Female",
         "Nicole Harwood",
         "DB",
         "6522046",
         89.0,
         "Naoma Fritts_Margene Moores@DSA.com",
         0.89,
         "Nigeria"
        ],
        [
         "29",
         "Male",
         "Somer Stoecker",
         "DSA",
         "6531094",
         91.0,
         "Dustin Feagins_Kena Wild@MVC.com",
         0.91,
         "Nigeria"
        ],
        [
         "28",
         "Female",
         "Priscila Tavernier",
         "Cloud",
         "6542640",
         37.0,
         "Kizzy Brenner_Loris Crossett@Cloud.com",
         0.37,
         "Nigeria"
        ],
        [
         "29",
         "Male",
         "Neda Briski",
         "MVC",
         "6552886",
         93.0,
         "Abram Nagao_Marylee Capasso@OOP.com",
         0.93,
         "Nigeria"
        ],
        [
         "28",
         "Male",
         "Cheri Kenney",
         "Cloud",
         "6562808",
         102.0,
         "Donna Yerby_Dustin Feagins@PF.com",
         1.02,
         "Nigeria"
        ],
        [
         "29",
         "Male",
         "Tijuana Kropf",
         "PF",
         "6572639",
         81.0,
         "Sheryll Towler_Latia Vanhoose@PF.com",
         0.81,
         "Nigeria"
        ],
        [
         "28",
         "Female",
         "Kizzy Brenner",
         "DB",
         "6582931",
         67.0,
         "Alberta Freund_Jc Andrepont@PF.com",
         0.67,
         "Nigeria"
        ],
        [
         "29",
         "Female",
         "Melani Engberg",
         "Cloud",
         "6592152",
         40.0,
         "Gonzalo Ferebee_Hubert Oliveras@MVC.com",
         0.4,
         "Nigeria"
        ],
        [
         "28",
         "Male",
         "Tamera Blakley",
         "Cloud",
         "6601939",
         44.0,
         "Jenna Montague_Clementina Menke@Cloud.com",
         0.44,
         "Nigeria"
        ],
        [
         "29",
         "Male",
         "Gonzalo Ferebee",
         "DSA",
         "6611648",
         76.0,
         "Tijuana Kropf_Elenore Choy@OOP.com",
         0.76,
         "Nigeria"
        ],
        [
         "29",
         "Female",
         "Jeannetta Golden",
         "DSA",
         "6621600",
         42.0,
         "Dustin Feagins_Sheryll Towler@MVC.com",
         0.42,
         "Nigeria"
        ],
        [
         "28",
         "Male",
         "Neda Briski",
         "DB",
         "6632463",
         58.0,
         "Sheryll Towler_Dustin Feagins@Cloud.com",
         0.58,
         "Nigeria"
        ],
        [
         "28",
         "Male",
         "Maybell Duguay",
         "MVC",
         "6642438",
         66.0,
         "Margene Moores_Bonita Higuera@DB.com",
         0.66,
         "Nigeria"
        ],
        [
         "28",
         "Male",
         "Naoma Fritts",
         "OOP",
         "6652677",
         87.0,
         "Lawanda Wohlwend_Billi Clore@MVC.com",
         0.87,
         "Nigeria"
        ],
        [
         "29",
         "Female",
         "Margene Moores",
         "OOP",
         "6662414",
         70.0,
         "Hubert Oliveras_Margene Moores@DSA.com",
         0.7,
         "Nigeria"
        ],
        [
         "29",
         "Female",
         "Sheryll Towler",
         "OOP",
         "6672653",
         33.0,
         "Jenna Montague_Santa Kerfien@PF.com",
         0.33,
         "Nigeria"
        ],
        [
         "29",
         "Male",
         "Paris Hutton",
         "PF",
         "6682291",
         88.0,
         "Margene Moores_Hubert Oliveras@PF.com",
         0.88,
         "Nigeria"
        ],
        [
         "28",
         "Female",
         "Taryn Brownlee",
         "Cloud",
         "6692958",
         41.0,
         "Cordie Harnois_Cheri Kenney@OOP.com",
         0.41,
         "Nigeria"
        ],
        [
         "28",
         "Female",
         "Latia Vanhoose",
         "Cloud",
         "6701628",
         43.0,
         "Abram Nagao_Cheri Kenney@DB.com",
         0.43,
         "Nigeria"
        ],
        [
         "28",
         "Female",
         "Kizzy Brenner",
         "Cloud",
         "6711773",
         94.0,
         "Leontine Phillips_Donna Yerby@DSA.com",
         0.94,
         "Nigeria"
        ],
        [
         "28",
         "Male",
         "Paris Hutton",
         "PF",
         "6722224",
         100.0,
         "Niki Klimek_Gonzalo Ferebee@Cloud.com",
         1.0,
         "Nigeria"
        ],
        [
         "29",
         "Female",
         "Anna Santos",
         "DB",
         "6732334",
         55.0,
         "Gonzalo Ferebee_Alberta Freund@DSA.com",
         0.55,
         "Nigeria"
        ],
        [
         "29",
         "Female",
         "Judie Chipps",
         "PF",
         "6742197",
         72.0,
         "Eda Neathery_Elenore Choy@MVC.com",
         0.72,
         "Nigeria"
        ],
        [
         "28",
         "Male",
         "Donna Yerby",
         "MVC",
         "6752737",
         36.0,
         "Mickey Cortright_Gonzalo Ferebee@DSA.com",
         0.36,
         "Nigeria"
        ],
        [
         "28",
         "Male",
         "Anna Santos",
         "OOP",
         "6762411",
         91.0,
         "Bonita Higuera_Annika Hoffman@Cloud.com",
         0.91,
         "Nigeria"
        ],
        [
         "29",
         "Female",
         "Latia Vanhoose",
         "MVC",
         "6771882",
         59.0,
         "Alberta Freund_Latia Vanhoose@DB.com",
         0.59,
         "Nigeria"
        ],
        [
         "29",
         "Female",
         "Ernest Rossbach",
         "PF",
         "6782099",
         69.0,
         "Claude Panos_Annika Hoffman@DSA.com",
         0.69,
         "Nigeria"
        ],
        [
         "28",
         "Male",
         "Paris Hutton",
         "MVC",
         "6791398",
         73.0,
         "Bonita Higuera_Billi Clore@OOP.com",
         0.73,
         "Nigeria"
        ],
        [
         "29",
         "Male",
         "Billi Clore",
         "Cloud",
         "6802170",
         62.0,
         "Dustin Feagins_Sebrina Maresca@DSA.com",
         0.62,
         "Nigeria"
        ],
        [
         "29",
         "Male",
         "Tamera Blakley",
         "DB",
         "6811165",
         72.0,
         "Annika Hoffman_Bonita Higuera@PF.com",
         0.72,
         "Nigeria"
        ],
        [
         "29",
         "Male",
         "Tamera Blakley",
         "Cloud",
         "6822429",
         77.0,
         "Donna Yerby_Cheri Kenney@DB.com",
         0.77,
         "Nigeria"
        ],
        [
         "28",
         "Female",
         "Kena Wild",
         "DSA",
         "6831241",
         104.0,
         "Loris Crossett_Leontine Phillips@OOP.com",
         1.04,
         "Nigeria"
        ],
        [
         "29",
         "Male",
         "Neda Briski",
         "OOP",
         "6842985",
         90.0,
         "Toshiko Hillyard_Cordie Harnois@MVC.com",
         0.9,
         "Nigeria"
        ],
        [
         "29",
         "Female",
         "Donna Yerby",
         "PF",
         "6851744",
         69.0,
         "Maybell Duguay_Hubert Oliveras@Cloud.com",
         0.69,
         "Nigeria"
        ],
        [
         "29",
         "Female",
         "Mitzi Seldon",
         "DB",
         "6862019",
         88.0,
         "Kena Wild_Celeste Lollis@DSA.com",
         0.88,
         "Nigeria"
        ],
        [
         "29",
         "Male",
         "Margene Moores",
         "DSA",
         "6872276",
         99.0,
         "Leontine Phillips_Annika Hoffman@PF.com",
         0.99,
         "Nigeria"
        ],
        [
         "28",
         "Female",
         "Billi Clore",
         "Cloud",
         "6882495",
         56.0,
         "Claude Panos_Latia Vanhoose@DSA.com",
         0.56,
         "Nigeria"
        ],
        [
         "28",
         "Female",
         "Kizzy Brenner",
         "DB",
         "6892057",
         80.0,
         "Priscila Tavernier_Judie Chipps@OOP.com",
         0.8,
         "Nigeria"
        ],
        [
         "28",
         "Male",
         "Leontine Phillips",
         "MVC",
         "6902478",
         42.0,
         "Melani Engberg_Ernest Rossbach@MVC.com",
         0.42,
         "Nigeria"
        ],
        [
         "29",
         "Female",
         "Kena Wild",
         "DB",
         "6911600",
         83.0,
         "Maybell Duguay_Latia Vanhoose@PF.com",
         0.83,
         "Nigeria"
        ],
        [
         "28",
         "Female",
         "Paris Hutton",
         "Cloud",
         "6922359",
         56.0,
         "Neda Briski_Dustin Feagins@DB.com",
         0.56,
         "Nigeria"
        ],
        [
         "29",
         "Female",
         "Maybell Duguay",
         "OOP",
         "6931378",
         65.0,
         "Toshiko Hillyard_Latia Vanhoose@DSA.com",
         0.65,
         "Nigeria"
        ],
        [
         "29",
         "Female",
         "Sebrina Maresca",
         "MVC",
         "6941692",
         95.0,
         "Billi Clore_Jc Andrepont@Cloud.com",
         0.95,
         "Nigeria"
        ],
        [
         "28",
         "Female",
         "Tamera Blakley",
         "DSA",
         "6951836",
         91.0,
         "Somer Stoecker_Donna Yerby@OOP.com",
         0.91,
         "Nigeria"
        ],
        [
         "29",
         "Male",
         "Loris Crossett",
         "MVC",
         "6962740",
         105.0,
         "Jeannetta Golden_Ernest Rossbach@OOP.com",
         1.05,
         "Nigeria"
        ],
        [
         "28",
         "Female",
         "Niki Klimek",
         "DSA",
         "6971140",
         37.0,
         "Leontine Phillips_Gonzalo Ferebee@MVC.com",
         0.37,
         "Nigeria"
        ],
        [
         "28",
         "Male",
         "Elenore Choy",
         "MVC",
         "6982740",
         51.0,
         "Latia Vanhoose_Leontine Phillips@PF.com",
         0.51,
         "Nigeria"
        ],
        [
         "29",
         "Male",
         "Donna Yerby",
         "DSA",
         "6991370",
         101.0,
         "Dustin Feagins_Abram Nagao@PF.com",
         1.01,
         "Nigeria"
        ],
        [
         "29",
         "Male",
         "Santa Kerfien",
         "OOP",
         "7001706",
         87.0,
         "Bonita Higuera_Nicole Harwood@DSA.com",
         0.87,
         "Nigeria"
        ],
        [
         "28",
         "Female",
         "Judie Chipps",
         "PF",
         "7012144",
         98.0,
         "Nicole Harwood_Tamera Blakley@PF.com",
         0.98,
         "Nigeria"
        ],
        [
         "28",
         "Female",
         "Neda Briski",
         "PF",
         "7021987",
         72.0,
         "Elenore Choy_Jenna Montague@DSA.com",
         0.72,
         "Nigeria"
        ],
        [
         "29",
         "Male",
         "Tamera Blakley",
         "DSA",
         "7031305",
         67.0,
         "Clementina Menke_Toshiko Hillyard@PF.com",
         0.67,
         "Nigeria"
        ],
        [
         "29",
         "Male",
         "Cordie Harnois",
         "DSA",
         "7041544",
         107.0,
         "Kizzy Brenner_Jalisa Swenson@OOP.com",
         1.07,
         "Nigeria"
        ],
        [
         "28",
         "Male",
         "Leontine Phillips",
         "Cloud",
         "7051293",
         87.0,
         "Bonita Higuera_Cheri Kenney@Cloud.com",
         0.87,
         "Nigeria"
        ],
        [
         "29",
         "Male",
         "Margene Moores",
         "MVC",
         "7062262",
         69.0,
         "Nicole Harwood_Michelle Ruggiero@Cloud.com",
         0.69,
         "Nigeria"
        ],
        [
         "28",
         "Female",
         "Mickey Cortright",
         "MVC",
         "7071556",
         46.0,
         "Priscila Tavernier_Nicole Harwood@OOP.com",
         0.46,
         "Nigeria"
        ],
        [
         "29",
         "Female",
         "Annika Hoffman",
         "MVC",
         "7081972",
         105.0,
         "Judie Chipps_Mitzi Seldon@OOP.com",
         1.05,
         "Nigeria"
        ],
        [
         "28",
         "Female",
         "Ernest Rossbach",
         "MVC",
         "7091785",
         67.0,
         "Loris Crossett_Billi Clore@PF.com",
         0.67,
         "Nigeria"
        ],
        [
         "29",
         "Male",
         "Hubert Oliveras",
         "OOP",
         "7102834",
         54.0,
         "Hubert Oliveras_Celeste Lollis@Cloud.com",
         0.54,
         "Nigeria"
        ],
        [
         "29",
         "Male",
         "Eda Neathery",
         "MVC",
         "7111575",
         57.0,
         "Anna Santos_Tamera Blakley@DSA.com",
         0.57,
         "Nigeria"
        ],
        [
         "28",
         "Female",
         "Nicole Harwood",
         "DSA",
         "7121730",
         63.0,
         "Michelle Ruggiero_Marylee Capasso@MVC.com",
         0.63,
         "Nigeria"
        ],
        [
         "28",
         "Female",
         "Anna Santos",
         "PF",
         "7132856",
         40.0,
         "Elenore Choy_Paris Hutton@DSA.com",
         0.4,
         "Nigeria"
        ],
        [
         "29",
         "Male",
         "Cordie Harnois",
         "Cloud",
         "7141186",
         84.0,
         "Paris Hutton_Marylee Capasso@PF.com",
         0.84,
         "Nigeria"
        ],
        [
         "28",
         "Female",
         "Bonita Higuera",
         "OOP",
         "7151179",
         63.0,
         "Taryn Brownlee_Sheryll Towler@Cloud.com",
         0.63,
         "Nigeria"
        ],
        [
         "28",
         "Male",
         "Gonzalo Ferebee",
         "OOP",
         "7162059",
         33.0,
         "Melani Engberg_Melani Engberg@DSA.com",
         0.33,
         "Nigeria"
        ],
        [
         "28",
         "Male",
         "Clementina Menke",
         "DB",
         "7172058",
         72.0,
         "Mitzi Seldon_Clementina Menke@MVC.com",
         0.72,
         "Nigeria"
        ],
        [
         "29",
         "Female",
         "Jeannetta Golden",
         "Cloud",
         "7182144",
         80.0,
         "Naoma Fritts_Niki Klimek@PF.com",
         0.8,
         "Nigeria"
        ],
        [
         "28",
         "Female",
         "Melani Engberg",
         "OOP",
         "7192072",
         102.0,
         "Cheri Kenney_Ernest Rossbach@DSA.com",
         1.02,
         "Nigeria"
        ],
        [
         "29",
         "Male",
         "Sebrina Maresca",
         "DSA",
         "7202414",
         61.0,
         "Ernest Rossbach_Jalisa Swenson@MVC.com",
         0.61,
         "Nigeria"
        ],
        [
         "28",
         "Male",
         "Dustin Feagins",
         "DSA",
         "7212606",
         61.0,
         "Cheri Kenney_Eda Neathery@DB.com",
         0.61,
         "Nigeria"
        ],
        [
         "29",
         "Female",
         "Lawanda Wohlwend",
         "Cloud",
         "7222880",
         108.0,
         "Sheryll Towler_Anna Santos@DB.com",
         1.08,
         "Nigeria"
        ],
        [
         "28",
         "Female",
         "Clementina Menke",
         "DSA",
         "7231357",
         52.0,
         "Judie Chipps_Cordie Harnois@MVC.com",
         0.52,
         "Nigeria"
        ],
        [
         "28",
         "Male",
         "Leontine Phillips",
         "DB",
         "7242704",
         82.0,
         "Maybell Duguay_Toshiko Hillyard@PF.com",
         0.82,
         "Nigeria"
        ],
        [
         "28",
         "Male",
         "Taryn Brownlee",
         "PF",
         "7252400",
         87.0,
         "Marylee Capasso_Jeannetta Golden@DB.com",
         0.87,
         "Nigeria"
        ],
        [
         "28",
         "Female",
         "Lawanda Wohlwend",
         "DB",
         "7261840",
         91.0,
         "Donna Yerby_Kizzy Brenner@Cloud.com",
         0.91,
         "Nigeria"
        ],
        [
         "29",
         "Female",
         "Bonita Higuera",
         "Cloud",
         "7272043",
         82.0,
         "Alberta Freund_Latia Vanhoose@PF.com",
         0.82,
         "Nigeria"
        ],
        [
         "29",
         "Male",
         "Neda Briski",
         "DSA",
         "7282511",
         52.0,
         "Jalisa Swenson_Naoma Fritts@MVC.com",
         0.52,
         "Nigeria"
        ],
        [
         "28",
         "Female",
         "Clementina Menke",
         "Cloud",
         "7291419",
         56.0,
         "Bonita Higuera_Naoma Fritts@OOP.com",
         0.56,
         "Nigeria"
        ],
        [
         "28",
         "Male",
         "Sheryll Towler",
         "Cloud",
         "7301966",
         73.0,
         "Jalisa Swenson_Leontine Phillips@DSA.com",
         0.73,
         "Nigeria"
        ],
        [
         "28",
         "Male",
         "Taryn Brownlee",
         "PF",
         "7311546",
         37.0,
         "Clementina Menke_Melani Engberg@MVC.com",
         0.37,
         "Nigeria"
        ],
        [
         "28",
         "Male",
         "Cheri Kenney",
         "OOP",
         "7321040",
         93.0,
         "Sheryll Towler_Judie Chipps@PF.com",
         0.93,
         "Nigeria"
        ],
        [
         "28",
         "Male",
         "Marylee Capasso",
         "DSA",
         "7331984",
         80.0,
         "Bonita Higuera_Melani Engberg@PF.com",
         0.8,
         "Nigeria"
        ],
        [
         "29",
         "Male",
         "Tamera Blakley",
         "OOP",
         "7341268",
         31.0,
         "Anna Santos_Naoma Fritts@OOP.com",
         0.31,
         "Nigeria"
        ],
        [
         "29",
         "Female",
         "Jc Andrepont",
         "OOP",
         "7351315",
         94.0,
         "Judie Chipps_Margene Moores@OOP.com",
         0.94,
         "Nigeria"
        ],
        [
         "29",
         "Male",
         "Claude Panos",
         "PF",
         "7362772",
         102.0,
         "Clementina Menke_Naoma Fritts@OOP.com",
         1.02,
         "Nigeria"
        ],
        [
         "29",
         "Male",
         "Annika Hoffman",
         "MVC",
         "7372375",
         45.0,
         "Sheryll Towler_Taryn Brownlee@MVC.com",
         0.45,
         "Nigeria"
        ],
        [
         "28",
         "Female",
         "Latia Vanhoose",
         "MVC",
         "7381991",
         104.0,
         "Eda Neathery_Michelle Ruggiero@MVC.com",
         1.04,
         "Nigeria"
        ],
        [
         "29",
         "Male",
         "Margene Moores",
         "MVC",
         "7391087",
         69.0,
         "Jc Andrepont_Latia Vanhoose@DSA.com",
         0.69,
         "Nigeria"
        ],
        [
         "29",
         "Female",
         "Claude Panos",
         "PF",
         "7402827",
         92.0,
         "Kizzy Brenner_Kena Wild@MVC.com",
         0.92,
         "Nigeria"
        ],
        [
         "29",
         "Female",
         "Santa Kerfien",
         "PF",
         "7412168",
         34.0,
         "Eda Neathery_Abram Nagao@Cloud.com",
         0.34,
         "Nigeria"
        ],
        [
         "29",
         "Male",
         "Celeste Lollis",
         "PF",
         "7421417",
         93.0,
         "Jc Andrepont_Maybell Duguay@PF.com",
         0.93,
         "Nigeria"
        ],
        [
         "28",
         "Female",
         "Lawanda Wohlwend",
         "DSA",
         "7431179",
         101.0,
         "Anna Santos_Neda Briski@DB.com",
         1.01,
         "Nigeria"
        ],
        [
         "28",
         "Female",
         "Loris Crossett",
         "Cloud",
         "7441605",
         82.0,
         "Sheryll Towler_Kena Wild@DB.com",
         0.82,
         "Nigeria"
        ],
        [
         "28",
         "Female",
         "Taryn Brownlee",
         "MVC",
         "7452944",
         43.0,
         "Elenore Choy_Jenna Montague@MVC.com",
         0.43,
         "Nigeria"
        ],
        [
         "28",
         "Male",
         "Tijuana Kropf",
         "MVC",
         "7462328",
         42.0,
         "Toshiko Hillyard_Tamera Blakley@DSA.com",
         0.42,
         "Nigeria"
        ],
        [
         "29",
         "Female",
         "Melani Engberg",
         "DB",
         "7471313",
         87.0,
         "Cheri Kenney_Celeste Lollis@PF.com",
         0.87,
         "Nigeria"
        ],
        [
         "29",
         "Female",
         "Dustin Feagins",
         "MVC",
         "7481997",
         47.0,
         "Mickey Cortright_Gonzalo Ferebee@MVC.com",
         0.47,
         "Nigeria"
        ],
        [
         "28",
         "Female",
         "Eda Neathery",
         "MVC",
         "7491443",
         56.0,
         "Neda Briski_Margene Moores@OOP.com",
         0.56,
         "Nigeria"
        ],
        [
         "28",
         "Male",
         "Priscila Tavernier",
         "MVC",
         "7502427",
         107.0,
         "Alberta Freund_Niki Klimek@OOP.com",
         1.07,
         "Nigeria"
        ],
        [
         "28",
         "Male",
         "Hubert Oliveras",
         "MVC",
         "7512833",
         57.0,
         "Loris Crossett_Jenna Montague@OOP.com",
         0.57,
         "Nigeria"
        ],
        [
         "29",
         "Female",
         "Leontine Phillips",
         "PF",
         "7522221",
         62.0,
         "Hubert Oliveras_Dustin Feagins@Cloud.com",
         0.62,
         "Nigeria"
        ],
        [
         "28",
         "Female",
         "Melani Engberg",
         "Cloud",
         "7531661",
         35.0,
         "Gonzalo Ferebee_Dustin Feagins@MVC.com",
         0.35,
         "Nigeria"
        ],
        [
         "29",
         "Female",
         "Jalisa Swenson",
         "DB",
         "7542285",
         69.0,
         "Maybell Duguay_Billi Clore@PF.com",
         0.69,
         "Nigeria"
        ],
        [
         "28",
         "Female",
         "Cheri Kenney",
         "DB",
         "7551469",
         43.0,
         "Paris Hutton_Annika Hoffman@OOP.com",
         0.43,
         "Nigeria"
        ],
        [
         "28",
         "Female",
         "Santa Kerfien",
         "MVC",
         "7561491",
         78.0,
         "Niki Klimek_Nicole Harwood@MVC.com",
         0.78,
         "Nigeria"
        ],
        [
         "28",
         "Male",
         "Kizzy Brenner",
         "MVC",
         "7572603",
         70.0,
         "Nicole Harwood_Sheryll Towler@MVC.com",
         0.7,
         "Nigeria"
        ],
        [
         "28",
         "Female",
         "Taryn Brownlee",
         "Cloud",
         "7582853",
         86.0,
         "Sebrina Maresca_Annika Hoffman@Cloud.com",
         0.86,
         "Nigeria"
        ],
        [
         "28",
         "Male",
         "Melani Engberg",
         "Cloud",
         "7591331",
         93.0,
         "Billi Clore_Neda Briski@DSA.com",
         0.93,
         "Nigeria"
        ],
        [
         "28",
         "Male",
         "Michelle Ruggiero",
         "OOP",
         "7601079",
         92.0,
         "Jenna Montague_Donna Yerby@DSA.com",
         0.92,
         "Nigeria"
        ],
        [
         "29",
         "Female",
         "Anna Santos",
         "DSA",
         "7611959",
         47.0,
         "Gonzalo Ferebee_Claude Panos@DB.com",
         0.47,
         "Nigeria"
        ],
        [
         "29",
         "Female",
         "Kena Wild",
         "DSA",
         "7621891",
         79.0,
         "Marylee Capasso_Marylee Capasso@DSA.com",
         0.79,
         "Nigeria"
        ],
        [
         "29",
         "Male",
         "Lawanda Wohlwend",
         "MVC",
         "7631030",
         67.0,
         "Mitzi Seldon_Sebrina Maresca@OOP.com",
         0.67,
         "Nigeria"
        ],
        [
         "29",
         "Male",
         "Santa Kerfien",
         "MVC",
         "7642624",
         107.0,
         "Santa Kerfien_Elenore Choy@Cloud.com",
         1.07,
         "Nigeria"
        ],
        [
         "29",
         "Female",
         "Paris Hutton",
         "MVC",
         "7652057",
         77.0,
         "Michelle Ruggiero_Anna Santos@PF.com",
         0.77,
         "Nigeria"
        ],
        [
         "29",
         "Male",
         "Taryn Brownlee",
         "MVC",
         "7662789",
         70.0,
         "Elenore Choy_Anna Santos@OOP.com",
         0.7,
         "Nigeria"
        ],
        [
         "28",
         "Male",
         "Bonita Higuera",
         "Cloud",
         "7671835",
         31.0,
         "Taryn Brownlee_Sebrina Maresca@PF.com",
         0.31,
         "Nigeria"
        ],
        [
         "28",
         "Female",
         "Judie Chipps",
         "DB",
         "7682333",
         91.0,
         "Toshiko Hillyard_Claude Panos@DB.com",
         0.91,
         "Nigeria"
        ],
        [
         "29",
         "Female",
         "Celeste Lollis",
         "Cloud",
         "7691188",
         92.0,
         "Mitzi Seldon_Jenna Montague@PF.com",
         0.92,
         "Nigeria"
        ],
        [
         "28",
         "Male",
         "Mickey Cortright",
         "DB",
         "7702338",
         79.0,
         "Latia Vanhoose_Jeannetta Golden@OOP.com",
         0.79,
         "Nigeria"
        ],
        [
         "28",
         "Female",
         "Billi Clore",
         "DB",
         "7711330",
         74.0,
         "Maybell Duguay_Ernest Rossbach@Cloud.com",
         0.74,
         "Nigeria"
        ],
        [
         "29",
         "Male",
         "Latia Vanhoose",
         "Cloud",
         "7721956",
         55.0,
         "Jalisa Swenson_Annika Hoffman@DB.com",
         0.55,
         "Nigeria"
        ],
        [
         "29",
         "Male",
         "Sebrina Maresca",
         "PF",
         "7731207",
         79.0,
         "Leontine Phillips_Kena Wild@DSA.com",
         0.79,
         "Nigeria"
        ],
        [
         "28",
         "Male",
         "Latia Vanhoose",
         "OOP",
         "7741757",
         76.0,
         "Loris Crossett_Naoma Fritts@DSA.com",
         0.76,
         "Nigeria"
        ],
        [
         "28",
         "Male",
         "Anna Santos",
         "DSA",
         "7752196",
         102.0,
         "Latia Vanhoose_Tamera Blakley@OOP.com",
         1.02,
         "Nigeria"
        ],
        [
         "29",
         "Female",
         "Margene Moores",
         "PF",
         "7761927",
         42.0,
         "Annika Hoffman_Taryn Brownlee@OOP.com",
         0.42,
         "Nigeria"
        ],
        [
         "29",
         "Female",
         "Judie Chipps",
         "DSA",
         "7772671",
         61.0,
         "Jenna Montague_Dustin Feagins@DB.com",
         0.61,
         "Nigeria"
        ],
        [
         "28",
         "Female",
         "Kena Wild",
         "MVC",
         "7781364",
         85.0,
         "Claude Panos_Sebrina Maresca@DB.com",
         0.85,
         "Nigeria"
        ],
        [
         "28",
         "Male",
         "Latia Vanhoose",
         "DSA",
         "7792270",
         47.0,
         "Eda Neathery_Donna Yerby@DSA.com",
         0.47,
         "Nigeria"
        ],
        [
         "29",
         "Female",
         "Cordie Harnois",
         "Cloud",
         "7801136",
         67.0,
         "Nicole Harwood_Neda Briski@DSA.com",
         0.67,
         "Nigeria"
        ],
        [
         "29",
         "Male",
         "Niki Klimek",
         "DSA",
         "7811347",
         52.0,
         "Kena Wild_Maybell Duguay@DB.com",
         0.52,
         "Nigeria"
        ],
        [
         "29",
         "Female",
         "Jalisa Swenson",
         "Cloud",
         "7821333",
         95.0,
         "Priscila Tavernier_Clementina Menke@PF.com",
         0.95,
         "Nigeria"
        ],
        [
         "28",
         "Female",
         "Marylee Capasso",
         "Cloud",
         "7831780",
         83.0,
         "Ernest Rossbach_Michelle Ruggiero@DB.com",
         0.83,
         "Nigeria"
        ],
        [
         "28",
         "Female",
         "Sebrina Maresca",
         "PF",
         "7841496",
         42.0,
         "Alberta Freund_Mitzi Seldon@PF.com",
         0.42,
         "Nigeria"
        ],
        [
         "29",
         "Male",
         "Niki Klimek",
         "PF",
         "7852889",
         58.0,
         "Taryn Brownlee_Elenore Choy@PF.com",
         0.58,
         "Nigeria"
        ],
        [
         "29",
         "Male",
         "Kena Wild",
         "PF",
         "7862418",
         66.0,
         "Clementina Menke_Jalisa Swenson@DB.com",
         0.66,
         "Nigeria"
        ],
        [
         "29",
         "Male",
         "Clementina Menke",
         "DB",
         "7872434",
         78.0,
         "Jalisa Swenson_Alberta Freund@OOP.com",
         0.78,
         "Nigeria"
        ],
        [
         "28",
         "Male",
         "Taryn Brownlee",
         "Cloud",
         "7881046",
         91.0,
         "Eda Neathery_Dustin Feagins@MVC.com",
         0.91,
         "Nigeria"
        ],
        [
         "29",
         "Male",
         "Alberta Freund",
         "DSA",
         "7891322",
         96.0,
         "Maybell Duguay_Loris Crossett@PF.com",
         0.96,
         "Nigeria"
        ],
        [
         "28",
         "Male",
         "Tamera Blakley",
         "PF",
         "7901879",
         67.0,
         "Taryn Brownlee_Gonzalo Ferebee@PF.com",
         0.67,
         "Nigeria"
        ],
        [
         "29",
         "Female",
         "Toshiko Hillyard",
         "MVC",
         "7912392",
         48.0,
         "Kena Wild_Alberta Freund@Cloud.com",
         0.48,
         "Nigeria"
        ],
        [
         "28",
         "Male",
         "Marylee Capasso",
         "Cloud",
         "7922051",
         102.0,
         "Sebrina Maresca_Dustin Feagins@OOP.com",
         1.02,
         "Nigeria"
        ],
        [
         "29",
         "Female",
         "Margene Moores",
         "MVC",
         "7932894",
         88.0,
         "Mickey Cortright_Niki Klimek@OOP.com",
         0.88,
         "Nigeria"
        ],
        [
         "29",
         "Male",
         "Celeste Lollis",
         "MVC",
         "7941313",
         99.0,
         "Eda Neathery_Neda Briski@OOP.com",
         0.99,
         "Nigeria"
        ],
        [
         "29",
         "Male",
         "Santa Kerfien",
         "PF",
         "7951241",
         41.0,
         "Kena Wild_Niki Klimek@OOP.com",
         0.41,
         "Nigeria"
        ],
        [
         "29",
         "Male",
         "Leontine Phillips",
         "Cloud",
         "7961043",
         36.0,
         "Paris Hutton_Marylee Capasso@MVC.com",
         0.36,
         "Nigeria"
        ],
        [
         "28",
         "Male",
         "Michelle Ruggiero",
         "Cloud",
         "7972167",
         79.0,
         "Paris Hutton_Leontine Phillips@DB.com",
         0.79,
         "Nigeria"
        ],
        [
         "28",
         "Male",
         "Margene Moores",
         "MVC",
         "7982164",
         94.0,
         "Neda Briski_Celeste Lollis@Cloud.com",
         0.94,
         "Nigeria"
        ],
        [
         "29",
         "Male",
         "Billi Clore",
         "DB",
         "7992784",
         68.0,
         "Tamera Blakley_Dustin Feagins@MVC.com",
         0.68,
         "Nigeria"
        ],
        [
         "29",
         "Male",
         "Ernest Rossbach",
         "DB",
         "8002285",
         86.0,
         "Marylee Capasso_Naoma Fritts@DSA.com",
         0.86,
         "Nigeria"
        ],
        [
         "28",
         "Male",
         "Santa Kerfien",
         "OOP",
         "8011750",
         57.0,
         "Mitzi Seldon_Somer Stoecker@PF.com",
         0.57,
         "Nigeria"
        ],
        [
         "29",
         "Male",
         "Jc Andrepont",
         "OOP",
         "8022618",
         107.0,
         "Cordie Harnois_Jalisa Swenson@OOP.com",
         1.07,
         "Nigeria"
        ],
        [
         "29",
         "Female",
         "Mickey Cortright",
         "DB",
         "8031057",
         76.0,
         "Dustin Feagins_Tijuana Kropf@DB.com",
         0.76,
         "Nigeria"
        ],
        [
         "29",
         "Female",
         "Eda Neathery",
         "DSA",
         "8042646",
         65.0,
         "Abram Nagao_Donna Yerby@DB.com",
         0.65,
         "Nigeria"
        ],
        [
         "28",
         "Male",
         "Jeannetta Golden",
         "PF",
         "8052474",
         48.0,
         "Tamera Blakley_Sheryll Towler@DSA.com",
         0.48,
         "Nigeria"
        ],
        [
         "29",
         "Female",
         "Lawanda Wohlwend",
         "DSA",
         "8061577",
         37.0,
         "Anna Santos_Elenore Choy@MVC.com",
         0.37,
         "Nigeria"
        ],
        [
         "28",
         "Male",
         "Cheri Kenney",
         "Cloud",
         "8071605",
         82.0,
         "Maybell Duguay_Eda Neathery@MVC.com",
         0.82,
         "Nigeria"
        ],
        [
         "29",
         "Male",
         "Celeste Lollis",
         "MVC",
         "8081881",
         97.0,
         "Jenna Montague_Dustin Feagins@MVC.com",
         0.97,
         "Nigeria"
        ],
        [
         "28",
         "Male",
         "Sebrina Maresca",
         "DB",
         "8092398",
         52.0,
         "Claude Panos_Jc Andrepont@DB.com",
         0.52,
         "Nigeria"
        ],
        [
         "28",
         "Male",
         "Bonita Higuera",
         "Cloud",
         "8101902",
         94.0,
         "Jc Andrepont_Neda Briski@OOP.com",
         0.94,
         "Nigeria"
        ],
        [
         "29",
         "Male",
         "Loris Crossett",
         "PF",
         "8111334",
         41.0,
         "Jeannetta Golden_Mickey Cortright@DSA.com",
         0.41,
         "Nigeria"
        ],
        [
         "29",
         "Female",
         "Nicole Harwood",
         "PF",
         "8121198",
         31.0,
         "Bonita Higuera_Priscila Tavernier@Cloud.com",
         0.31,
         "Nigeria"
        ],
        [
         "28",
         "Female",
         "Somer Stoecker",
         "PF",
         "8131896",
         50.0,
         "Melani Engberg_Sheryll Towler@DSA.com",
         0.5,
         "Nigeria"
        ],
        [
         "28",
         "Male",
         "Elenore Choy",
         "OOP",
         "8141533",
         38.0,
         "Anna Santos_Dustin Feagins@MVC.com",
         0.38,
         "Nigeria"
        ],
        [
         "28",
         "Male",
         "Annika Hoffman",
         "MVC",
         "8152949",
         72.0,
         "Annika Hoffman_Naoma Fritts@MVC.com",
         0.72,
         "Nigeria"
        ],
        [
         "29",
         "Male",
         "Leontine Phillips",
         "Cloud",
         "8162392",
         33.0,
         "Clementina Menke_Neda Briski@Cloud.com",
         0.33,
         "Nigeria"
        ],
        [
         "28",
         "Male",
         "Loris Crossett",
         "OOP",
         "8172914",
         108.0,
         "Paris Hutton_Paris Hutton@OOP.com",
         1.08,
         "Nigeria"
        ],
        [
         "28",
         "Female",
         "Nicole Harwood",
         "DB",
         "8181552",
         47.0,
         "Hubert Oliveras_Gonzalo Ferebee@Cloud.com",
         0.47,
         "Nigeria"
        ],
        [
         "29",
         "Male",
         "Hubert Oliveras",
         "Cloud",
         "8191045",
         39.0,
         "Toshiko Hillyard_Leontine Phillips@DSA.com",
         0.39,
         "Nigeria"
        ],
        [
         "29",
         "Male",
         "Eda Neathery",
         "MVC",
         "8202489",
         40.0,
         "Jc Andrepont_Maybell Duguay@PF.com",
         0.4,
         "Nigeria"
        ],
        [
         "28",
         "Female",
         "Leontine Phillips",
         "OOP",
         "8212555",
         61.0,
         "Jenna Montague_Cheri Kenney@Cloud.com",
         0.61,
         "Nigeria"
        ],
        [
         "29",
         "Male",
         "Melani Engberg",
         "PF",
         "8222832",
         54.0,
         "Niki Klimek_Billi Clore@PF.com",
         0.54,
         "Nigeria"
        ],
        [
         "29",
         "Male",
         "Loris Crossett",
         "DSA",
         "8232415",
         87.0,
         "Priscila Tavernier_Kena Wild@DB.com",
         0.87,
         "Nigeria"
        ],
        [
         "28",
         "Male",
         "Jeannetta Golden",
         "Cloud",
         "8242650",
         72.0,
         "Dustin Feagins_Annika Hoffman@OOP.com",
         0.72,
         "Nigeria"
        ],
        [
         "28",
         "Female",
         "Clementina Menke",
         "OOP",
         "8251736",
         58.0,
         "Tamera Blakley_Loris Crossett@OOP.com",
         0.58,
         "Nigeria"
        ],
        [
         "29",
         "Female",
         "Ernest Rossbach",
         "DSA",
         "8262618",
         44.0,
         "Billi Clore_Clementina Menke@Cloud.com",
         0.44,
         "Nigeria"
        ],
        [
         "28",
         "Female",
         "Sheryll Towler",
         "DB",
         "8271000",
         47.0,
         "Neda Briski_Anna Santos@Cloud.com",
         0.47,
         "Nigeria"
        ],
        [
         "29",
         "Male",
         "Billi Clore",
         "OOP",
         "8282116",
         82.0,
         "Elenore Choy_Clementina Menke@PF.com",
         0.82,
         "Nigeria"
        ],
        [
         "28",
         "Male",
         "Bonita Higuera",
         "MVC",
         "8291218",
         81.0,
         "Jeannetta Golden_Sebrina Maresca@PF.com",
         0.81,
         "Nigeria"
        ],
        [
         "29",
         "Female",
         "Tamera Blakley",
         "OOP",
         "8301646",
         73.0,
         "Abram Nagao_Mitzi Seldon@DB.com",
         0.73,
         "Nigeria"
        ],
        [
         "28",
         "Female",
         "Judie Chipps",
         "DSA",
         "8312884",
         98.0,
         "Kena Wild_Clementina Menke@DB.com",
         0.98,
         "Nigeria"
        ],
        [
         "28",
         "Male",
         "Paris Hutton",
         "PF",
         "8321357",
         87.0,
         "Abram Nagao_Tamera Blakley@OOP.com",
         0.87,
         "Nigeria"
        ],
        [
         "29",
         "Male",
         "Kena Wild",
         "PF",
         "8331264",
         56.0,
         "Marylee Capasso_Celeste Lollis@DSA.com",
         0.56,
         "Nigeria"
        ],
        [
         "29",
         "Female",
         "Elenore Choy",
         "DSA",
         "8342105",
         51.0,
         "Abram Nagao_Nicole Harwood@Cloud.com",
         0.51,
         "Nigeria"
        ],
        [
         "29",
         "Female",
         "Gonzalo Ferebee",
         "Cloud",
         "8352347",
         79.0,
         "Neda Briski_Ernest Rossbach@Cloud.com",
         0.79,
         "Nigeria"
        ],
        [
         "28",
         "Male",
         "Dustin Feagins",
         "MVC",
         "8361501",
         63.0,
         "Billi Clore_Kizzy Brenner@MVC.com",
         0.63,
         "Nigeria"
        ],
        [
         "28",
         "Male",
         "Clementina Menke",
         "Cloud",
         "8372528",
         53.0,
         "Tamera Blakley_Somer Stoecker@MVC.com",
         0.53,
         "Nigeria"
        ],
        [
         "28",
         "Male",
         "Priscila Tavernier",
         "OOP",
         "8382954",
         103.0,
         "Jeannetta Golden_Kizzy Brenner@Cloud.com",
         1.03,
         "Nigeria"
        ],
        [
         "29",
         "Female",
         "Gonzalo Ferebee",
         "MVC",
         "8392287",
         91.0,
         "Santa Kerfien_Neda Briski@OOP.com",
         0.91,
         "Nigeria"
        ],
        [
         "28",
         "Female",
         "Paris Hutton",
         "PF",
         "8401106",
         61.0,
         "Maybell Duguay_Michelle Ruggiero@DB.com",
         0.61,
         "Nigeria"
        ],
        [
         "28",
         "Male",
         "Mickey Cortright",
         "DB",
         "8411430",
         80.0,
         "Hubert Oliveras_Ernest Rossbach@PF.com",
         0.8,
         "Nigeria"
        ],
        [
         "28",
         "Female",
         "Bonita Higuera",
         "DSA",
         "8421653",
         106.0,
         "Annika Hoffman_Bonita Higuera@Cloud.com",
         1.06,
         "Nigeria"
        ],
        [
         "28",
         "Female",
         "Taryn Brownlee",
         "OOP",
         "8431353",
         73.0,
         "Neda Briski_Cordie Harnois@Cloud.com",
         0.73,
         "Nigeria"
        ],
        [
         "28",
         "Female",
         "Eda Neathery",
         "DSA",
         "8441503",
         88.0,
         "Jalisa Swenson_Mitzi Seldon@MVC.com",
         0.88,
         "Nigeria"
        ],
        [
         "29",
         "Female",
         "Cordie Harnois",
         "OOP",
         "8452121",
         94.0,
         "Kena Wild_Dustin Feagins@DB.com",
         0.94,
         "Nigeria"
        ],
        [
         "29",
         "Female",
         "Mickey Cortright",
         "OOP",
         "8462156",
         87.0,
         "Elenore Choy_Tijuana Kropf@Cloud.com",
         0.87,
         "Nigeria"
        ],
        [
         "28",
         "Male",
         "Kena Wild",
         "DB",
         "8471833",
         46.0,
         "Tamera Blakley_Jeannetta Golden@OOP.com",
         0.46,
         "Nigeria"
        ],
        [
         "28",
         "Male",
         "Anna Santos",
         "MVC",
         "8482305",
         63.0,
         "Sheryll Towler_Kizzy Brenner@PF.com",
         0.63,
         "Nigeria"
        ],
        [
         "28",
         "Female",
         "Ernest Rossbach",
         "DSA",
         "8492768",
         71.0,
         "Jenna Montague_Elenore Choy@DSA.com",
         0.71,
         "Nigeria"
        ],
        [
         "29",
         "Female",
         "Annika Hoffman",
         "MVC",
         "8502572",
         81.0,
         "Sebrina Maresca_Jeannetta Golden@Cloud.com",
         0.81,
         "Nigeria"
        ],
        [
         "29",
         "Female",
         "Mickey Cortright",
         "OOP",
         "8511805",
         57.0,
         "Latia Vanhoose_Somer Stoecker@OOP.com",
         0.57,
         "Nigeria"
        ],
        [
         "28",
         "Male",
         "Tijuana Kropf",
         "DB",
         "8522175",
         97.0,
         "Mickey Cortright_Claude Panos@MVC.com",
         0.97,
         "Nigeria"
        ],
        [
         "28",
         "Female",
         "Elenore Choy",
         "MVC",
         "8532574",
         86.0,
         "Tijuana Kropf_Loris Crossett@Cloud.com",
         0.86,
         "Nigeria"
        ],
        [
         "28",
         "Male",
         "Loris Crossett",
         "MVC",
         "8541796",
         100.0,
         "Clementina Menke_Michelle Ruggiero@Cloud.com",
         1.0,
         "Nigeria"
        ],
        [
         "28",
         "Female",
         "Leontine Phillips",
         "MVC",
         "8551036",
         41.0,
         "Celeste Lollis_Anna Santos@MVC.com",
         0.41,
         "Nigeria"
        ],
        [
         "29",
         "Female",
         "Dustin Feagins",
         "DB",
         "8561099",
         42.0,
         "Margene Moores_Margene Moores@Cloud.com",
         0.42,
         "Nigeria"
        ],
        [
         "28",
         "Male",
         "Anna Santos",
         "Cloud",
         "8571411",
         104.0,
         "Jc Andrepont_Cordie Harnois@OOP.com",
         1.04,
         "Nigeria"
        ],
        [
         "29",
         "Female",
         "Loris Crossett",
         "DSA",
         "8581552",
         96.0,
         "Taryn Brownlee_Elenore Choy@Cloud.com",
         0.96,
         "Nigeria"
        ],
        [
         "29",
         "Male",
         "Cordie Harnois",
         "MVC",
         "8592355",
         105.0,
         "Ernest Rossbach_Tijuana Kropf@OOP.com",
         1.05,
         "Nigeria"
        ],
        [
         "29",
         "Female",
         "Taryn Brownlee",
         "OOP",
         "8602786",
         50.0,
         "Elenore Choy_Ernest Rossbach@DB.com",
         0.5,
         "Nigeria"
        ],
        [
         "28",
         "Male",
         "Naoma Fritts",
         "DB",
         "8611528",
         99.0,
         "Nicole Harwood_Clementina Menke@MVC.com",
         0.99,
         "Nigeria"
        ],
        [
         "29",
         "Male",
         "Marylee Capasso",
         "Cloud",
         "8622148",
         39.0,
         "Hubert Oliveras_Claude Panos@Cloud.com",
         0.39,
         "Nigeria"
        ],
        [
         "29",
         "Female",
         "Clementina Menke",
         "PF",
         "8632774",
         43.0,
         "Dustin Feagins_Latia Vanhoose@PF.com",
         0.43,
         "Nigeria"
        ],
        [
         "29",
         "Female",
         "Sheryll Towler",
         "Cloud",
         "8641804",
         41.0,
         "Somer Stoecker_Marylee Capasso@PF.com",
         0.41,
         "Nigeria"
        ],
        [
         "29",
         "Male",
         "Cheri Kenney",
         "DB",
         "8652382",
         46.0,
         "Santa Kerfien_Cordie Harnois@Cloud.com",
         0.46,
         "Nigeria"
        ],
        [
         "28",
         "Female",
         "Loris Crossett",
         "OOP",
         "8661474",
         82.0,
         "Neda Briski_Jeannetta Golden@DB.com",
         0.82,
         "Nigeria"
        ],
        [
         "29",
         "Male",
         "Alberta Freund",
         "Cloud",
         "8671926",
         95.0,
         "Paris Hutton_Somer Stoecker@PF.com",
         0.95,
         "Nigeria"
        ],
        [
         "28",
         "Male",
         "Neda Briski",
         "OOP",
         "8681708",
         44.0,
         "Jenna Montague_Lawanda Wohlwend@OOP.com",
         0.44,
         "Nigeria"
        ],
        [
         "28",
         "Male",
         "Nicole Harwood",
         "MVC",
         "8692811",
         73.0,
         "Neda Briski_Kena Wild@Cloud.com",
         0.73,
         "Nigeria"
        ],
        [
         "29",
         "Male",
         "Donna Yerby",
         "DB",
         "8701973",
         43.0,
         "Priscila Tavernier_Mitzi Seldon@DB.com",
         0.43,
         "Nigeria"
        ],
        [
         "28",
         "Female",
         "Melani Engberg",
         "DSA",
         "8712604",
         79.0,
         "Celeste Lollis_Claude Panos@MVC.com",
         0.79,
         "Nigeria"
        ],
        [
         "29",
         "Female",
         "Neda Briski",
         "DB",
         "8722464",
         40.0,
         "Mickey Cortright_Anna Santos@OOP.com",
         0.4,
         "Nigeria"
        ],
        [
         "28",
         "Female",
         "Somer Stoecker",
         "OOP",
         "8732476",
         75.0,
         "Annika Hoffman_Anna Santos@DB.com",
         0.75,
         "Nigeria"
        ],
        [
         "29",
         "Male",
         "Maybell Duguay",
         "PF",
         "8741191",
         89.0,
         "Judie Chipps_Niki Klimek@OOP.com",
         0.89,
         "Nigeria"
        ],
        [
         "29",
         "Male",
         "Cheri Kenney",
         "MVC",
         "8752460",
         94.0,
         "Cordie Harnois_Jeannetta Golden@PF.com",
         0.94,
         "Nigeria"
        ],
        [
         "29",
         "Male",
         "Celeste Lollis",
         "MVC",
         "8762292",
         45.0,
         "Clementina Menke_Tijuana Kropf@DB.com",
         0.45,
         "Nigeria"
        ],
        [
         "29",
         "Female",
         "Annika Hoffman",
         "OOP",
         "8772154",
         89.0,
         "Tijuana Kropf_Cordie Harnois@DSA.com",
         0.89,
         "Nigeria"
        ],
        [
         "29",
         "Male",
         "Niki Klimek",
         "Cloud",
         "8782036",
         82.0,
         "Clementina Menke_Taryn Brownlee@MVC.com",
         0.82,
         "Nigeria"
        ],
        [
         "29",
         "Male",
         "Billi Clore",
         "MVC",
         "8792432",
         89.0,
         "Anna Santos_Jalisa Swenson@Cloud.com",
         0.89,
         "Nigeria"
        ],
        [
         "28",
         "Female",
         "Toshiko Hillyard",
         "MVC",
         "8801160",
         96.0,
         "Neda Briski_Donna Yerby@DB.com",
         0.96,
         "Nigeria"
        ],
        [
         "29",
         "Male",
         "Mitzi Seldon",
         "DB",
         "8811681",
         56.0,
         "Ernest Rossbach_Eda Neathery@MVC.com",
         0.56,
         "Nigeria"
        ],
        [
         "28",
         "Male",
         "Tijuana Kropf",
         "Cloud",
         "8822597",
         41.0,
         "Lawanda Wohlwend_Eda Neathery@MVC.com",
         0.41,
         "Nigeria"
        ],
        [
         "28",
         "Female",
         "Nicole Harwood",
         "MVC",
         "8831173",
         37.0,
         "Gonzalo Ferebee_Dustin Feagins@OOP.com",
         0.37,
         "Nigeria"
        ],
        [
         "29",
         "Female",
         "Claude Panos",
         "OOP",
         "8842014",
         40.0,
         "Annika Hoffman_Jenna Montague@Cloud.com",
         0.4,
         "Nigeria"
        ],
        [
         "28",
         "Male",
         "Annika Hoffman",
         "Cloud",
         "8852570",
         92.0,
         "Kizzy Brenner_Claude Panos@MVC.com",
         0.92,
         "Nigeria"
        ],
        [
         "28",
         "Female",
         "Nicole Harwood",
         "Cloud",
         "8862840",
         77.0,
         "Claude Panos_Claude Panos@DSA.com",
         0.77,
         "Nigeria"
        ],
        [
         "28",
         "Male",
         "Dustin Feagins",
         "DB",
         "8871049",
         108.0,
         "Jenna Montague_Claude Panos@DSA.com",
         1.08,
         "Nigeria"
        ],
        [
         "29",
         "Male",
         "Nicole Harwood",
         "MVC",
         "8882981",
         42.0,
         "Santa Kerfien_Eda Neathery@OOP.com",
         0.42,
         "Nigeria"
        ],
        [
         "29",
         "Male",
         "Marylee Capasso",
         "OOP",
         "8891960",
         39.0,
         "Mickey Cortright_Billi Clore@PF.com",
         0.39,
         "Nigeria"
        ],
        [
         "28",
         "Male",
         "Somer Stoecker",
         "DSA",
         "8902098",
         83.0,
         "Nicole Harwood_Paris Hutton@PF.com",
         0.83,
         "Nigeria"
        ],
        [
         "28",
         "Male",
         "Celeste Lollis",
         "PF",
         "8911713",
         103.0,
         "Hubert Oliveras_Mitzi Seldon@DB.com",
         1.03,
         "Nigeria"
        ],
        [
         "28",
         "Male",
         "Mitzi Seldon",
         "Cloud",
         "8922149",
         75.0,
         "Maybell Duguay_Hubert Oliveras@PF.com",
         0.75,
         "Nigeria"
        ],
        [
         "28",
         "Male",
         "Billi Clore",
         "OOP",
         "8932725",
         69.0,
         "Kizzy Brenner_Latia Vanhoose@PF.com",
         0.69,
         "Nigeria"
        ],
        [
         "29",
         "Female",
         "Gonzalo Ferebee",
         "Cloud",
         "8942812",
         97.0,
         "Michelle Ruggiero_Neda Briski@Cloud.com",
         0.97,
         "Nigeria"
        ],
        [
         "29",
         "Female",
         "Annika Hoffman",
         "DSA",
         "8951068",
         104.0,
         "Neda Briski_Abram Nagao@OOP.com",
         1.04,
         "Nigeria"
        ],
        [
         "28",
         "Female",
         "Leontine Phillips",
         "Cloud",
         "8962531",
         94.0,
         "Tamera Blakley_Marylee Capasso@Cloud.com",
         0.94,
         "Nigeria"
        ],
        [
         "28",
         "Male",
         "Ernest Rossbach",
         "MVC",
         "8972546",
         72.0,
         "Sheryll Towler_Jeannetta Golden@PF.com",
         0.72,
         "Nigeria"
        ],
        [
         "28",
         "Male",
         "Kizzy Brenner",
         "OOP",
         "8981887",
         37.0,
         "Naoma Fritts_Mitzi Seldon@DB.com",
         0.37,
         "Nigeria"
        ],
        [
         "28",
         "Male",
         "Elenore Choy",
         "DSA",
         "8991321",
         67.0,
         "Celeste Lollis_Margene Moores@DB.com",
         0.67,
         "Nigeria"
        ],
        [
         "29",
         "Male",
         "Santa Kerfien",
         "DSA",
         "9002004",
         37.0,
         "Jeannetta Golden_Clementina Menke@MVC.com",
         0.37,
         "Nigeria"
        ],
        [
         "28",
         "Female",
         "Lawanda Wohlwend",
         "OOP",
         "9011862",
         58.0,
         "Jalisa Swenson_Gonzalo Ferebee@OOP.com",
         0.58,
         "Nigeria"
        ],
        [
         "29",
         "Male",
         "Elenore Choy",
         "DB",
         "9021601",
         56.0,
         "Clementina Menke_Mickey Cortright@PF.com",
         0.56,
         "Nigeria"
        ],
        [
         "28",
         "Male",
         "Alberta Freund",
         "DSA",
         "9031966",
         66.0,
         "Niki Klimek_Alberta Freund@PF.com",
         0.66,
         "Nigeria"
        ],
        [
         "29",
         "Male",
         "Celeste Lollis",
         "Cloud",
         "9042870",
         62.0,
         "Bonita Higuera_Jeannetta Golden@PF.com",
         0.62,
         "Nigeria"
        ],
        [
         "29",
         "Male",
         "Sheryll Towler",
         "MVC",
         "9052132",
         98.0,
         "Jeannetta Golden_Donna Yerby@DB.com",
         0.98,
         "Nigeria"
        ],
        [
         "29",
         "Female",
         "Jalisa Swenson",
         "DSA",
         "9061384",
         51.0,
         "Jenna Montague_Melani Engberg@DSA.com",
         0.51,
         "Nigeria"
        ],
        [
         "29",
         "Male",
         "Celeste Lollis",
         "Cloud",
         "9072506",
         91.0,
         "Celeste Lollis_Cordie Harnois@Cloud.com",
         0.91,
         "Nigeria"
        ],
        [
         "29",
         "Female",
         "Ernest Rossbach",
         "Cloud",
         "9082371",
         89.0,
         "Jalisa Swenson_Mitzi Seldon@DB.com",
         0.89,
         "Nigeria"
        ],
        [
         "29",
         "Female",
         "Annika Hoffman",
         "OOP",
         "9091099",
         99.0,
         "Kizzy Brenner_Jeannetta Golden@MVC.com",
         0.99,
         "Nigeria"
        ],
        [
         "29",
         "Male",
         "Gonzalo Ferebee",
         "Cloud",
         "9102078",
         55.0,
         "Tamera Blakley_Melani Engberg@MVC.com",
         0.55,
         "Nigeria"
        ],
        [
         "29",
         "Female",
         "Marylee Capasso",
         "DSA",
         "9112909",
         48.0,
         "Priscila Tavernier_Hubert Oliveras@Cloud.com",
         0.48,
         "Nigeria"
        ],
        [
         "29",
         "Female",
         "Lawanda Wohlwend",
         "DSA",
         "9122250",
         56.0,
         "Jeannetta Golden_Sheryll Towler@DB.com",
         0.56,
         "Nigeria"
        ],
        [
         "29",
         "Female",
         "Judie Chipps",
         "MVC",
         "9131672",
         45.0,
         "Tijuana Kropf_Taryn Brownlee@DSA.com",
         0.45,
         "Nigeria"
        ],
        [
         "28",
         "Female",
         "Taryn Brownlee",
         "MVC",
         "9142398",
         69.0,
         "Lawanda Wohlwend_Billi Clore@Cloud.com",
         0.69,
         "Nigeria"
        ],
        [
         "28",
         "Male",
         "Billi Clore",
         "DB",
         "9151306",
         31.0,
         "Latia Vanhoose_Ernest Rossbach@DB.com",
         0.31,
         "Nigeria"
        ],
        [
         "28",
         "Female",
         "Nicole Harwood",
         "PF",
         "9162701",
         71.0,
         "Jc Andrepont_Jeannetta Golden@Cloud.com",
         0.71,
         "Nigeria"
        ],
        [
         "28",
         "Male",
         "Claude Panos",
         "OOP",
         "9172978",
         70.0,
         "Cordie Harnois_Tamera Blakley@DSA.com",
         0.7,
         "Nigeria"
        ],
        [
         "28",
         "Male",
         "Cheri Kenney",
         "DSA",
         "9181598",
         54.0,
         "Jc Andrepont_Maybell Duguay@OOP.com",
         0.54,
         "Nigeria"
        ],
        [
         "29",
         "Female",
         "Melani Engberg",
         "DB",
         "9192452",
         62.0,
         "Niki Klimek_Niki Klimek@OOP.com",
         0.62,
         "Nigeria"
        ],
        [
         "29",
         "Male",
         "Ernest Rossbach",
         "MVC",
         "9201305",
         63.0,
         "Gonzalo Ferebee_Billi Clore@DB.com",
         0.63,
         "Nigeria"
        ],
        [
         "28",
         "Female",
         "Cheri Kenney",
         "PF",
         "9211167",
         40.0,
         "Mitzi Seldon_Somer Stoecker@PF.com",
         0.4,
         "Nigeria"
        ],
        [
         "29",
         "Female",
         "Eda Neathery",
         "PF",
         "9222608",
         109.0,
         "Kena Wild_Lawanda Wohlwend@OOP.com",
         1.09,
         "Nigeria"
        ],
        [
         "29",
         "Female",
         "Michelle Ruggiero",
         "DB",
         "9232210",
         30.0,
         "Donna Yerby_Latia Vanhoose@DB.com",
         0.3,
         "Nigeria"
        ],
        [
         "29",
         "Male",
         "Cordie Harnois",
         "DSA",
         "9242198",
         82.0,
         "Maybell Duguay_Tamera Blakley@Cloud.com",
         0.82,
         "Nigeria"
        ],
        [
         "29",
         "Female",
         "Melani Engberg",
         "DSA",
         "9252365",
         107.0,
         "Naoma Fritts_Melani Engberg@OOP.com",
         1.07,
         "Nigeria"
        ],
        [
         "28",
         "Female",
         "Taryn Brownlee",
         "OOP",
         "9262265",
         53.0,
         "Cordie Harnois_Elenore Choy@DB.com",
         0.53,
         "Nigeria"
        ],
        [
         "28",
         "Female",
         "Jalisa Swenson",
         "Cloud",
         "9272149",
         49.0,
         "Gonzalo Ferebee_Nicole Harwood@MVC.com",
         0.49,
         "Nigeria"
        ],
        [
         "29",
         "Female",
         "Jalisa Swenson",
         "DB",
         "9282374",
         43.0,
         "Judie Chipps_Annika Hoffman@OOP.com",
         0.43,
         "Nigeria"
        ],
        [
         "29",
         "Male",
         "Mickey Cortright",
         "Cloud",
         "9291579",
         96.0,
         "Margene Moores_Priscila Tavernier@MVC.com",
         0.96,
         "Nigeria"
        ],
        [
         "29",
         "Male",
         "Gonzalo Ferebee",
         "Cloud",
         "9302691",
         50.0,
         "Niki Klimek_Alberta Freund@MVC.com",
         0.5,
         "Nigeria"
        ],
        [
         "29",
         "Male",
         "Niki Klimek",
         "DSA",
         "9311407",
         100.0,
         "Marylee Capasso_Ernest Rossbach@PF.com",
         1.0,
         "Nigeria"
        ],
        [
         "28",
         "Female",
         "Cheri Kenney",
         "DSA",
         "9322391",
         81.0,
         "Cheri Kenney_Claude Panos@OOP.com",
         0.81,
         "Nigeria"
        ],
        [
         "29",
         "Male",
         "Gonzalo Ferebee",
         "PF",
         "9331055",
         106.0,
         "Kizzy Brenner_Alberta Freund@Cloud.com",
         1.06,
         "Nigeria"
        ],
        [
         "28",
         "Female",
         "Clementina Menke",
         "DSA",
         "9342400",
         47.0,
         "Claude Panos_Ernest Rossbach@DSA.com",
         0.47,
         "Nigeria"
        ],
        [
         "29",
         "Female",
         "Michelle Ruggiero",
         "DSA",
         "9352759",
         107.0,
         "Kena Wild_Nicole Harwood@DSA.com",
         1.07,
         "Nigeria"
        ],
        [
         "28",
         "Male",
         "Mitzi Seldon",
         "PF",
         "9362744",
         36.0,
         "Somer Stoecker_Santa Kerfien@DSA.com",
         0.36,
         "Nigeria"
        ],
        [
         "29",
         "Female",
         "Ernest Rossbach",
         "DB",
         "9371629",
         106.0,
         "Melani Engberg_Latia Vanhoose@PF.com",
         1.06,
         "Nigeria"
        ],
        [
         "28",
         "Female",
         "Paris Hutton",
         "OOP",
         "9382928",
         38.0,
         "Kena Wild_Gonzalo Ferebee@PF.com",
         0.38,
         "Nigeria"
        ],
        [
         "28",
         "Female",
         "Jc Andrepont",
         "Cloud",
         "9391046",
         44.0,
         "Latia Vanhoose_Taryn Brownlee@MVC.com",
         0.44,
         "Nigeria"
        ],
        [
         "28",
         "Female",
         "Kena Wild",
         "MVC",
         "9401194",
         34.0,
         "Niki Klimek_Michelle Ruggiero@DB.com",
         0.34,
         "Nigeria"
        ],
        [
         "28",
         "Male",
         "Jenna Montague",
         "DB",
         "9411416",
         45.0,
         "Latia Vanhoose_Paris Hutton@DSA.com",
         0.45,
         "Nigeria"
        ],
        [
         "29",
         "Female",
         "Abram Nagao",
         "Cloud",
         "9422898",
         48.0,
         "Cheri Kenney_Santa Kerfien@OOP.com",
         0.48,
         "Nigeria"
        ],
        [
         "29",
         "Female",
         "Tijuana Kropf",
         "Cloud",
         "9431799",
         98.0,
         "Lawanda Wohlwend_Cordie Harnois@MVC.com",
         0.98,
         "Nigeria"
        ],
        [
         "28",
         "Male",
         "Latia Vanhoose",
         "DSA",
         "9442974",
         39.0,
         "Jc Andrepont_Celeste Lollis@DB.com",
         0.39,
         "Nigeria"
        ],
        [
         "28",
         "Female",
         "Judie Chipps",
         "DB",
         "9451237",
         59.0,
         "Michelle Ruggiero_Sheryll Towler@MVC.com",
         0.59,
         "Nigeria"
        ],
        [
         "29",
         "Female",
         "Gonzalo Ferebee",
         "MVC",
         "9461441",
         41.0,
         "Michelle Ruggiero_Elenore Choy@DSA.com",
         0.41,
         "Nigeria"
        ],
        [
         "28",
         "Female",
         "Latia Vanhoose",
         "Cloud",
         "9471888",
         66.0,
         "Naoma Fritts_Kena Wild@DB.com",
         0.66,
         "Nigeria"
        ],
        [
         "29",
         "Female",
         "Annika Hoffman",
         "OOP",
         "9482135",
         106.0,
         "Somer Stoecker_Somer Stoecker@OOP.com",
         1.06,
         "Nigeria"
        ],
        [
         "28",
         "Male",
         "Sebrina Maresca",
         "PF",
         "9492805",
         60.0,
         "Neda Briski_Neda Briski@OOP.com",
         0.6,
         "Nigeria"
        ],
        [
         "28",
         "Male",
         "Toshiko Hillyard",
         "DB",
         "9502901",
         79.0,
         "Kena Wild_Leontine Phillips@DSA.com",
         0.79,
         "Nigeria"
        ],
        [
         "29",
         "Male",
         "Kizzy Brenner",
         "PF",
         "9512850",
         62.0,
         "Elenore Choy_Anna Santos@DB.com",
         0.62,
         "Nigeria"
        ],
        [
         "28",
         "Female",
         "Jalisa Swenson",
         "OOP",
         "9522521",
         60.0,
         "Leontine Phillips_Cheri Kenney@DB.com",
         0.6,
         "Nigeria"
        ],
        [
         "29",
         "Male",
         "Celeste Lollis",
         "Cloud",
         "9531936",
         66.0,
         "Cheri Kenney_Margene Moores@MVC.com",
         0.66,
         "Nigeria"
        ],
        [
         "29",
         "Female",
         "Mickey Cortright",
         "MVC",
         "9542973",
         38.0,
         "Sebrina Maresca_Eda Neathery@MVC.com",
         0.38,
         "Nigeria"
        ],
        [
         "29",
         "Male",
         "Taryn Brownlee",
         "PF",
         "9551574",
         101.0,
         "Jenna Montague_Billi Clore@MVC.com",
         1.01,
         "Nigeria"
        ],
        [
         "29",
         "Male",
         "Maybell Duguay",
         "DB",
         "9562208",
         54.0,
         "Celeste Lollis_Anna Santos@DSA.com",
         0.54,
         "Nigeria"
        ],
        [
         "28",
         "Female",
         "Sheryll Towler",
         "MVC",
         "9571308",
         67.0,
         "Margene Moores_Naoma Fritts@PF.com",
         0.67,
         "Nigeria"
        ],
        [
         "28",
         "Female",
         "Naoma Fritts",
         "MVC",
         "9581172",
         80.0,
         "Taryn Brownlee_Cheri Kenney@Cloud.com",
         0.8,
         "Nigeria"
        ],
        [
         "29",
         "Female",
         "Annika Hoffman",
         "OOP",
         "9592635",
         50.0,
         "Kena Wild_Margene Moores@Cloud.com",
         0.5,
         "Nigeria"
        ],
        [
         "28",
         "Male",
         "Melani Engberg",
         "DB",
         "9602880",
         52.0,
         "Niki Klimek_Mickey Cortright@DB.com",
         0.52,
         "Nigeria"
        ],
        [
         "29",
         "Male",
         "Kena Wild",
         "MVC",
         "9611287",
         86.0,
         "Cordie Harnois_Michelle Ruggiero@PF.com",
         0.86,
         "Nigeria"
        ],
        [
         "28",
         "Female",
         "Leontine Phillips",
         "DB",
         "9622410",
         56.0,
         "Kena Wild_Donna Yerby@Cloud.com",
         0.56,
         "Nigeria"
        ],
        [
         "28",
         "Male",
         "Claude Panos",
         "Cloud",
         "9631836",
         83.0,
         "Clementina Menke_Judie Chipps@DSA.com",
         0.83,
         "Nigeria"
        ],
        [
         "29",
         "Male",
         "Celeste Lollis",
         "DSA",
         "9642293",
         85.0,
         "Maybell Duguay_Tijuana Kropf@OOP.com",
         0.85,
         "Nigeria"
        ],
        [
         "28",
         "Male",
         "Jc Andrepont",
         "MVC",
         "9652535",
         83.0,
         "Michelle Ruggiero_Lawanda Wohlwend@DB.com",
         0.83,
         "Nigeria"
        ],
        [
         "29",
         "Male",
         "Kena Wild",
         "DSA",
         "9662661",
         51.0,
         "Latia Vanhoose_Sebrina Maresca@DB.com",
         0.51,
         "Nigeria"
        ],
        [
         "29",
         "Male",
         "Leontine Phillips",
         "DB",
         "9671707",
         36.0,
         "Sebrina Maresca_Jalisa Swenson@MVC.com",
         0.36,
         "Nigeria"
        ],
        [
         "28",
         "Female",
         "Clementina Menke",
         "DSA",
         "9682190",
         34.0,
         "Clementina Menke_Dustin Feagins@DB.com",
         0.34,
         "Nigeria"
        ],
        [
         "28",
         "Male",
         "Loris Crossett",
         "OOP",
         "9692316",
         109.0,
         "Judie Chipps_Michelle Ruggiero@Cloud.com",
         1.09,
         "Nigeria"
        ],
        [
         "29",
         "Male",
         "Paris Hutton",
         "DSA",
         "9702829",
         32.0,
         "Hubert Oliveras_Cheri Kenney@OOP.com",
         0.32,
         "Nigeria"
        ],
        [
         "29",
         "Female",
         "Abram Nagao",
         "PF",
         "9711154",
         33.0,
         "Judie Chipps_Naoma Fritts@DSA.com",
         0.33,
         "Nigeria"
        ],
        [
         "28",
         "Female",
         "Niki Klimek",
         "MVC",
         "9722763",
         87.0,
         "Taryn Brownlee_Jalisa Swenson@OOP.com",
         0.87,
         "Nigeria"
        ],
        [
         "29",
         "Male",
         "Neda Briski",
         "Cloud",
         "9732604",
         87.0,
         "Kena Wild_Hubert Oliveras@Cloud.com",
         0.87,
         "Nigeria"
        ],
        [
         "29",
         "Female",
         "Mickey Cortright",
         "Cloud",
         "9741291",
         87.0,
         "Melani Engberg_Donna Yerby@MVC.com",
         0.87,
         "Nigeria"
        ],
        [
         "28",
         "Female",
         "Somer Stoecker",
         "PF",
         "9751163",
         46.0,
         "Nicole Harwood_Margene Moores@MVC.com",
         0.46,
         "Nigeria"
        ],
        [
         "28",
         "Female",
         "Loris Crossett",
         "OOP",
         "9761188",
         49.0,
         "Alberta Freund_Bonita Higuera@DSA.com",
         0.49,
         "Nigeria"
        ],
        [
         "28",
         "Male",
         "Anna Santos",
         "DB",
         "9772185",
         32.0,
         "Kizzy Brenner_Annika Hoffman@PF.com",
         0.32,
         "Nigeria"
        ],
        [
         "28",
         "Female",
         "Celeste Lollis",
         "DB",
         "9782472",
         54.0,
         "Kena Wild_Hubert Oliveras@DSA.com",
         0.54,
         "Nigeria"
        ],
        [
         "29",
         "Female",
         "Toshiko Hillyard",
         "DSA",
         "9792504",
         78.0,
         "Nicole Harwood_Somer Stoecker@DB.com",
         0.78,
         "Nigeria"
        ],
        [
         "29",
         "Male",
         "Donna Yerby",
         "MVC",
         "9802357",
         51.0,
         "Tamera Blakley_Jalisa Swenson@MVC.com",
         0.51,
         "Nigeria"
        ],
        [
         "29",
         "Male",
         "Santa Kerfien",
         "DB",
         "9811489",
         41.0,
         "Abram Nagao_Melani Engberg@Cloud.com",
         0.41,
         "Nigeria"
        ],
        [
         "29",
         "Male",
         "Hubert Oliveras",
         "DB",
         "9822797",
         61.0,
         "Lawanda Wohlwend_Jalisa Swenson@DB.com",
         0.61,
         "Nigeria"
        ],
        [
         "28",
         "Male",
         "Paris Hutton",
         "DB",
         "9832215",
         46.0,
         "Niki Klimek_Tijuana Kropf@PF.com",
         0.46,
         "Nigeria"
        ],
        [
         "29",
         "Male",
         "Mitzi Seldon",
         "PF",
         "9842669",
         40.0,
         "Jalisa Swenson_Sebrina Maresca@MVC.com",
         0.4,
         "Nigeria"
        ],
        [
         "28",
         "Female",
         "Donna Yerby",
         "OOP",
         "9851840",
         73.0,
         "Ernest Rossbach_Mitzi Seldon@Cloud.com",
         0.73,
         "Nigeria"
        ],
        [
         "29",
         "Female",
         "Marylee Capasso",
         "DB",
         "9862444",
         70.0,
         "Bonita Higuera_Kena Wild@OOP.com",
         0.7,
         "Nigeria"
        ],
        [
         "29",
         "Female",
         "Annika Hoffman",
         "PF",
         "9871120",
         94.0,
         "Ernest Rossbach_Billi Clore@MVC.com",
         0.94,
         "Nigeria"
        ],
        [
         "28",
         "Male",
         "Sheryll Towler",
         "MVC",
         "9881953",
         86.0,
         "Ernest Rossbach_Santa Kerfien@DB.com",
         0.86,
         "Nigeria"
        ],
        [
         "28",
         "Male",
         "Kena Wild",
         "DSA",
         "9891274",
         95.0,
         "Donna Yerby_Leontine Phillips@Cloud.com",
         0.95,
         "Nigeria"
        ],
        [
         "29",
         "Male",
         "Tijuana Kropf",
         "DB",
         "9902560",
         76.0,
         "Tijuana Kropf_Abram Nagao@Cloud.com",
         0.76,
         "Nigeria"
        ],
        [
         "28",
         "Male",
         "Neda Briski",
         "PF",
         "9912790",
         75.0,
         "Hubert Oliveras_Taryn Brownlee@PF.com",
         0.75,
         "Nigeria"
        ],
        [
         "29",
         "Female",
         "Marylee Capasso",
         "OOP",
         "9922554",
         60.0,
         "Naoma Fritts_Paris Hutton@DSA.com",
         0.6,
         "Nigeria"
        ],
        [
         "29",
         "Male",
         "Cordie Harnois",
         "PF",
         "9931081",
         107.0,
         "Toshiko Hillyard_Abram Nagao@Cloud.com",
         1.07,
         "Nigeria"
        ],
        [
         "29",
         "Female",
         "Anna Santos",
         "Cloud",
         "9942543",
         97.0,
         "Somer Stoecker_Mickey Cortright@DB.com",
         0.97,
         "Nigeria"
        ],
        [
         "28",
         "Female",
         "Celeste Lollis",
         "DB",
         "9952416",
         69.0,
         "Gonzalo Ferebee_Jalisa Swenson@DB.com",
         0.69,
         "Nigeria"
        ],
        [
         "29",
         "Female",
         "Somer Stoecker",
         "Cloud",
         "9962277",
         94.0,
         "Clementina Menke_Paris Hutton@OOP.com",
         0.94,
         "Nigeria"
        ],
        [
         "28",
         "Male",
         "Tamera Blakley",
         "DSA",
         "9971217",
         36.0,
         "Anna Santos_Claude Panos@PF.com",
         0.36,
         "Nigeria"
        ],
        [
         "28",
         "Female",
         "Tamera Blakley",
         "MVC",
         "9982779",
         81.0,
         "Toshiko Hillyard_Anna Santos@DSA.com",
         0.81,
         "Nigeria"
        ],
        [
         "29",
         "Female",
         "Jenna Montague",
         "PF",
         "9991617",
         33.0,
         "Anna Santos_Jenna Montague@DB.com",
         0.33,
         "Nigeria"
        ]
       ],
       "datasetInfos": [],
       "dbfsResultPath": null,
       "isJsonSchema": true,
       "metadata": {},
       "overflow": false,
       "plotOptions": {
        "customPlotOptions": {},
        "displayType": "table",
        "pivotAggregation": null,
        "pivotColumns": null,
        "xColumns": null,
        "yColumns": null
       },
       "removedWidgets": [],
       "schema": [
        {
         "metadata": "{}",
         "name": "age",
         "type": "\"string\""
        },
        {
         "metadata": "{}",
         "name": "sex",
         "type": "\"string\""
        },
        {
         "metadata": "{}",
         "name": "name",
         "type": "\"string\""
        },
        {
         "metadata": "{}",
         "name": "course",
         "type": "\"string\""
        },
        {
         "metadata": "{}",
         "name": "roll number",
         "type": "\"string\""
        },
        {
         "metadata": "{}",
         "name": "marks",
         "type": "\"double\""
        },
        {
         "metadata": "{}",
         "name": "email",
         "type": "\"string\""
        },
        {
         "metadata": "{}",
         "name": "percentage",
         "type": "\"double\""
        },
        {
         "metadata": "{}",
         "name": "country name",
         "type": "\"string\""
        }
       ],
       "type": "table"
      }
     },
     "output_type": "display_data"
    }
   ],
   "source": [
    "%sql select * from student_data "
   ]
  },
  {
   "cell_type": "code",
   "execution_count": 0,
   "metadata": {
    "application/vnd.databricks.v1+cell": {
     "cellMetadata": {},
     "inputWidgets": {},
     "nuid": "62732a5e-daa1-4c4d-8f11-328b97b9c5e0",
     "showTitle": false,
     "title": ""
    }
   },
   "outputs": [],
   "source": [
    "%sql select * from student_data where email like 'a_'"
   ]
  },
  {
   "cell_type": "code",
   "execution_count": 0,
   "metadata": {
    "application/vnd.databricks.v1+cell": {
     "cellMetadata": {},
     "inputWidgets": {},
     "nuid": "015ae5f1-6605-43e3-b178-6b186f14d40d",
     "showTitle": false,
     "title": ""
    }
   },
   "outputs": [],
   "source": []
  }
 ],
 "metadata": {
  "application/vnd.databricks.v1+notebook": {
   "dashboards": [],
   "language": "python",
   "notebookMetadata": {
    "mostRecentlyExecutedCommandWithImplicitDF": {
     "commandId": 1526197702305887,
     "dataframes": [
      "_sqldf"
     ]
    },
    "pythonIndentUnit": 4
   },
   "notebookName": "Final PySpark Dataframe",
   "widgets": {}
  },
  "kernelspec": {
   "display_name": "Python 3 (ipykernel)",
   "language": "python",
   "name": "python3"
  },
  "language_info": {
   "codemirror_mode": {
    "name": "ipython",
    "version": 3
   },
   "file_extension": ".py",
   "mimetype": "text/x-python",
   "name": "python",
   "nbconvert_exporter": "python",
   "pygments_lexer": "ipython3",
   "version": "3.10.9"
  }
 },
 "nbformat": 4,
 "nbformat_minor": 0
}
