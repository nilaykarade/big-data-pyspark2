{
 "cells": [
  {
   "cell_type": "code",
   "execution_count": 0,
   "metadata": {
    "application/vnd.databricks.v1+cell": {
     "cellMetadata": {
      "byteLimit": 2048000,
      "rowLimit": 10000
     },
     "inputWidgets": {},
     "nuid": "73016072-e50d-42a0-9771-3c5603cbc2da",
     "showTitle": true,
     "title": "read csv"
    }
   },
   "outputs": [
    {
     "output_type": "stream",
     "name": "stdout",
     "output_type": "stream",
     "text": [
      "+---+------+----------------+------+------+-----+--------------------+\n|age|gender|            name|course|  roll|marks|               email|\n+---+------+----------------+------+------+-----+--------------------+\n| 28|Female| Hubert Oliveras|    DB| 02984|   59|Annika Hoffman_Na...|\n| 29|Female|Toshiko Hillyard| Cloud| 12899|   62|Margene Moores_Ma...|\n| 28|  Male|  Celeste Lollis|    PF| 21267|   45|Jeannetta Golden_...|\n| 29|Female|    Elenore Choy|    DB| 32877|   29|Billi Clore_Mitzi...|\n| 28|  Male|  Sheryll Towler|   DSA| 41487|   41|Claude Panos_Judi...|\n| 28|  Male|  Margene Moores|   MVC| 52771|   32|Toshiko Hillyard_...|\n| 28|  Male|     Neda Briski|   OOP| 61973|   69|Alberta Freund_El...|\n| 28|Female|    Claude Panos| Cloud| 72409|   85|Sheryll Towler_Al...|\n| 28|  Male|  Celeste Lollis|   MVC| 81492|   64|Nicole Harwood_Cl...|\n| 29|  Male|  Cordie Harnois|   OOP| 92882|   51|Judie Chipps_Clem...|\n| 29|Female|       Kena Wild|   DSA|102285|   35|Dustin Feagins_Ma...|\n| 29|  Male| Ernest Rossbach|    DB|111449|   53|Maybell Duguay_Ab...|\n| 28|Female|  Latia Vanhoose|    DB|122502|   27|Latia Vanhoose_Mi...|\n| 29|Female|  Latia Vanhoose|   MVC|132110|   55|Eda Neathery_Nico...|\n| 29|  Male|     Neda Briski|    PF|141770|   42|Margene Moores_Mi...|\n| 29|Female|  Latia Vanhoose|    DB|152159|   27|Claude Panos_Sant...|\n| 29|  Male|  Loris Crossett|   MVC|161771|   36|Mitzi Seldon_Jenn...|\n| 29|  Male|  Annika Hoffman|   OOP|171660|   22|Taryn Brownlee_Mi...|\n| 29|  Male|   Santa Kerfien|    PF|182129|   56|Judie Chipps_Tary...|\n| 28|Female|Mickey Cortright|    DB|192537|   62|Ernest Rossbach_M...|\n+---+------+----------------+------+------+-----+--------------------+\nonly showing top 20 rows\n\n"
     ]
    }
   ],
   "source": [
    "df = spark.read.format(\"csv\").option(\"header\", \"true\").load(\"dbfs:/FileStore/shared_uploads/nilay.k.meera@gmail.com/StudentData-2.csv\")\n",
    "df.show()"
   ]
  },
  {
   "cell_type": "code",
   "execution_count": 0,
   "metadata": {
    "application/vnd.databricks.v1+cell": {
     "cellMetadata": {
      "byteLimit": 2048000,
      "rowLimit": 10000
     },
     "inputWidgets": {},
     "nuid": "0c5de8af-76c1-4c2b-841e-83e5d2d3eb9e",
     "showTitle": false,
     "title": ""
    }
   },
   "outputs": [
    {
     "output_type": "display_data",
     "data": {
      "text/plain": [
       "\u001B[0;31m---------------------------------------------------------------------------\u001B[0m\n",
       "\u001B[0;31mAnalysisException\u001B[0m                         Traceback (most recent call last)\n",
       "File \u001B[0;32m<command-3563007807652913>:1\u001B[0m\n",
       "\u001B[0;32m----> 1\u001B[0m df\u001B[38;5;241m=\u001B[39mspark\u001B[38;5;241m.\u001B[39mread\u001B[38;5;241m.\u001B[39moption(\u001B[38;5;124m'\u001B[39m\u001B[38;5;124mheader\u001B[39m\u001B[38;5;124m'\u001B[39m,\u001B[38;5;28;01mTrue\u001B[39;00m)\u001B[38;5;241m.\u001B[39moption(\u001B[38;5;124m'\u001B[39m\u001B[38;5;124minferSchema\u001B[39m\u001B[38;5;124m'\u001B[39m,\u001B[38;5;28;01mTrue\u001B[39;00m)\u001B[38;5;241m.\u001B[39mcsv(\u001B[38;5;124m'\u001B[39m\u001B[38;5;124m/FileStore/shared_uploads/oshiotserowland@gmail.com/StudentData-1.csv\u001B[39m\u001B[38;5;124m'\u001B[39m)\n",
       "\u001B[1;32m      2\u001B[0m df\u001B[38;5;241m.\u001B[39mshow()\n",
       "\n",
       "File \u001B[0;32m/databricks/spark/python/pyspark/instrumentation_utils.py:48\u001B[0m, in \u001B[0;36m_wrap_function.<locals>.wrapper\u001B[0;34m(*args, **kwargs)\u001B[0m\n",
       "\u001B[1;32m     46\u001B[0m start \u001B[38;5;241m=\u001B[39m time\u001B[38;5;241m.\u001B[39mperf_counter()\n",
       "\u001B[1;32m     47\u001B[0m \u001B[38;5;28;01mtry\u001B[39;00m:\n",
       "\u001B[0;32m---> 48\u001B[0m     res \u001B[38;5;241m=\u001B[39m \u001B[43mfunc\u001B[49m\u001B[43m(\u001B[49m\u001B[38;5;241;43m*\u001B[39;49m\u001B[43margs\u001B[49m\u001B[43m,\u001B[49m\u001B[43m \u001B[49m\u001B[38;5;241;43m*\u001B[39;49m\u001B[38;5;241;43m*\u001B[39;49m\u001B[43mkwargs\u001B[49m\u001B[43m)\u001B[49m\n",
       "\u001B[1;32m     49\u001B[0m     logger\u001B[38;5;241m.\u001B[39mlog_success(\n",
       "\u001B[1;32m     50\u001B[0m         module_name, class_name, function_name, time\u001B[38;5;241m.\u001B[39mperf_counter() \u001B[38;5;241m-\u001B[39m start, signature\n",
       "\u001B[1;32m     51\u001B[0m     )\n",
       "\u001B[1;32m     52\u001B[0m     \u001B[38;5;28;01mreturn\u001B[39;00m res\n",
       "\n",
       "File \u001B[0;32m/databricks/spark/python/pyspark/sql/readwriter.py:729\u001B[0m, in \u001B[0;36mDataFrameReader.csv\u001B[0;34m(self, path, schema, sep, encoding, quote, escape, comment, header, inferSchema, ignoreLeadingWhiteSpace, ignoreTrailingWhiteSpace, nullValue, nanValue, positiveInf, negativeInf, dateFormat, timestampFormat, maxColumns, maxCharsPerColumn, maxMalformedLogPerPartition, mode, columnNameOfCorruptRecord, multiLine, charToEscapeQuoteEscaping, samplingRatio, enforceSchema, emptyValue, locale, lineSep, pathGlobFilter, recursiveFileLookup, modifiedBefore, modifiedAfter, unescapedQuoteHandling)\u001B[0m\n",
       "\u001B[1;32m    727\u001B[0m \u001B[38;5;28;01mif\u001B[39;00m \u001B[38;5;28mtype\u001B[39m(path) \u001B[38;5;241m==\u001B[39m \u001B[38;5;28mlist\u001B[39m:\n",
       "\u001B[1;32m    728\u001B[0m     \u001B[38;5;28;01massert\u001B[39;00m \u001B[38;5;28mself\u001B[39m\u001B[38;5;241m.\u001B[39m_spark\u001B[38;5;241m.\u001B[39m_sc\u001B[38;5;241m.\u001B[39m_jvm \u001B[38;5;129;01mis\u001B[39;00m \u001B[38;5;129;01mnot\u001B[39;00m \u001B[38;5;28;01mNone\u001B[39;00m\n",
       "\u001B[0;32m--> 729\u001B[0m     \u001B[38;5;28;01mreturn\u001B[39;00m \u001B[38;5;28mself\u001B[39m\u001B[38;5;241m.\u001B[39m_df(\u001B[38;5;28;43mself\u001B[39;49m\u001B[38;5;241;43m.\u001B[39;49m\u001B[43m_jreader\u001B[49m\u001B[38;5;241;43m.\u001B[39;49m\u001B[43mcsv\u001B[49m\u001B[43m(\u001B[49m\u001B[38;5;28;43mself\u001B[39;49m\u001B[38;5;241;43m.\u001B[39;49m\u001B[43m_spark\u001B[49m\u001B[38;5;241;43m.\u001B[39;49m\u001B[43m_sc\u001B[49m\u001B[38;5;241;43m.\u001B[39;49m\u001B[43m_jvm\u001B[49m\u001B[38;5;241;43m.\u001B[39;49m\u001B[43mPythonUtils\u001B[49m\u001B[38;5;241;43m.\u001B[39;49m\u001B[43mtoSeq\u001B[49m\u001B[43m(\u001B[49m\u001B[43mpath\u001B[49m\u001B[43m)\u001B[49m\u001B[43m)\u001B[49m)\n",
       "\u001B[1;32m    730\u001B[0m \u001B[38;5;28;01melif\u001B[39;00m \u001B[38;5;28misinstance\u001B[39m(path, RDD):\n",
       "\u001B[1;32m    732\u001B[0m     \u001B[38;5;28;01mdef\u001B[39;00m \u001B[38;5;21mfunc\u001B[39m(iterator):\n",
       "\n",
       "File \u001B[0;32m/databricks/spark/python/lib/py4j-0.10.9.5-src.zip/py4j/java_gateway.py:1321\u001B[0m, in \u001B[0;36mJavaMember.__call__\u001B[0;34m(self, *args)\u001B[0m\n",
       "\u001B[1;32m   1315\u001B[0m command \u001B[38;5;241m=\u001B[39m proto\u001B[38;5;241m.\u001B[39mCALL_COMMAND_NAME \u001B[38;5;241m+\u001B[39m\\\n",
       "\u001B[1;32m   1316\u001B[0m     \u001B[38;5;28mself\u001B[39m\u001B[38;5;241m.\u001B[39mcommand_header \u001B[38;5;241m+\u001B[39m\\\n",
       "\u001B[1;32m   1317\u001B[0m     args_command \u001B[38;5;241m+\u001B[39m\\\n",
       "\u001B[1;32m   1318\u001B[0m     proto\u001B[38;5;241m.\u001B[39mEND_COMMAND_PART\n",
       "\u001B[1;32m   1320\u001B[0m answer \u001B[38;5;241m=\u001B[39m \u001B[38;5;28mself\u001B[39m\u001B[38;5;241m.\u001B[39mgateway_client\u001B[38;5;241m.\u001B[39msend_command(command)\n",
       "\u001B[0;32m-> 1321\u001B[0m return_value \u001B[38;5;241m=\u001B[39m \u001B[43mget_return_value\u001B[49m\u001B[43m(\u001B[49m\n",
       "\u001B[1;32m   1322\u001B[0m \u001B[43m    \u001B[49m\u001B[43manswer\u001B[49m\u001B[43m,\u001B[49m\u001B[43m \u001B[49m\u001B[38;5;28;43mself\u001B[39;49m\u001B[38;5;241;43m.\u001B[39;49m\u001B[43mgateway_client\u001B[49m\u001B[43m,\u001B[49m\u001B[43m \u001B[49m\u001B[38;5;28;43mself\u001B[39;49m\u001B[38;5;241;43m.\u001B[39;49m\u001B[43mtarget_id\u001B[49m\u001B[43m,\u001B[49m\u001B[43m \u001B[49m\u001B[38;5;28;43mself\u001B[39;49m\u001B[38;5;241;43m.\u001B[39;49m\u001B[43mname\u001B[49m\u001B[43m)\u001B[49m\n",
       "\u001B[1;32m   1324\u001B[0m \u001B[38;5;28;01mfor\u001B[39;00m temp_arg \u001B[38;5;129;01min\u001B[39;00m temp_args:\n",
       "\u001B[1;32m   1325\u001B[0m     temp_arg\u001B[38;5;241m.\u001B[39m_detach()\n",
       "\n",
       "File \u001B[0;32m/databricks/spark/python/pyspark/errors/exceptions.py:234\u001B[0m, in \u001B[0;36mcapture_sql_exception.<locals>.deco\u001B[0;34m(*a, **kw)\u001B[0m\n",
       "\u001B[1;32m    230\u001B[0m converted \u001B[38;5;241m=\u001B[39m convert_exception(e\u001B[38;5;241m.\u001B[39mjava_exception)\n",
       "\u001B[1;32m    231\u001B[0m \u001B[38;5;28;01mif\u001B[39;00m \u001B[38;5;129;01mnot\u001B[39;00m \u001B[38;5;28misinstance\u001B[39m(converted, UnknownException):\n",
       "\u001B[1;32m    232\u001B[0m     \u001B[38;5;66;03m# Hide where the exception came from that shows a non-Pythonic\u001B[39;00m\n",
       "\u001B[1;32m    233\u001B[0m     \u001B[38;5;66;03m# JVM exception message.\u001B[39;00m\n",
       "\u001B[0;32m--> 234\u001B[0m     \u001B[38;5;28;01mraise\u001B[39;00m converted \u001B[38;5;28;01mfrom\u001B[39;00m \u001B[38;5;28mNone\u001B[39m\n",
       "\u001B[1;32m    235\u001B[0m \u001B[38;5;28;01melse\u001B[39;00m:\n",
       "\u001B[1;32m    236\u001B[0m     \u001B[38;5;28;01mraise\u001B[39;00m\n",
       "\n",
       "\u001B[0;31mAnalysisException\u001B[0m: [PATH_NOT_FOUND] Path does not exist: dbfs:/FileStore/shared_uploads/oshiotserowland@gmail.com/StudentData-1.csv."
      ]
     },
     "metadata": {
      "application/vnd.databricks.v1+output": {
       "arguments": {},
       "data": "\u001B[0;31m---------------------------------------------------------------------------\u001B[0m\n\u001B[0;31mAnalysisException\u001B[0m                         Traceback (most recent call last)\nFile \u001B[0;32m<command-3563007807652913>:1\u001B[0m\n\u001B[0;32m----> 1\u001B[0m df\u001B[38;5;241m=\u001B[39mspark\u001B[38;5;241m.\u001B[39mread\u001B[38;5;241m.\u001B[39moption(\u001B[38;5;124m'\u001B[39m\u001B[38;5;124mheader\u001B[39m\u001B[38;5;124m'\u001B[39m,\u001B[38;5;28;01mTrue\u001B[39;00m)\u001B[38;5;241m.\u001B[39moption(\u001B[38;5;124m'\u001B[39m\u001B[38;5;124minferSchema\u001B[39m\u001B[38;5;124m'\u001B[39m,\u001B[38;5;28;01mTrue\u001B[39;00m)\u001B[38;5;241m.\u001B[39mcsv(\u001B[38;5;124m'\u001B[39m\u001B[38;5;124m/FileStore/shared_uploads/oshiotserowland@gmail.com/StudentData-1.csv\u001B[39m\u001B[38;5;124m'\u001B[39m)\n\u001B[1;32m      2\u001B[0m df\u001B[38;5;241m.\u001B[39mshow()\n\nFile \u001B[0;32m/databricks/spark/python/pyspark/instrumentation_utils.py:48\u001B[0m, in \u001B[0;36m_wrap_function.<locals>.wrapper\u001B[0;34m(*args, **kwargs)\u001B[0m\n\u001B[1;32m     46\u001B[0m start \u001B[38;5;241m=\u001B[39m time\u001B[38;5;241m.\u001B[39mperf_counter()\n\u001B[1;32m     47\u001B[0m \u001B[38;5;28;01mtry\u001B[39;00m:\n\u001B[0;32m---> 48\u001B[0m     res \u001B[38;5;241m=\u001B[39m \u001B[43mfunc\u001B[49m\u001B[43m(\u001B[49m\u001B[38;5;241;43m*\u001B[39;49m\u001B[43margs\u001B[49m\u001B[43m,\u001B[49m\u001B[43m \u001B[49m\u001B[38;5;241;43m*\u001B[39;49m\u001B[38;5;241;43m*\u001B[39;49m\u001B[43mkwargs\u001B[49m\u001B[43m)\u001B[49m\n\u001B[1;32m     49\u001B[0m     logger\u001B[38;5;241m.\u001B[39mlog_success(\n\u001B[1;32m     50\u001B[0m         module_name, class_name, function_name, time\u001B[38;5;241m.\u001B[39mperf_counter() \u001B[38;5;241m-\u001B[39m start, signature\n\u001B[1;32m     51\u001B[0m     )\n\u001B[1;32m     52\u001B[0m     \u001B[38;5;28;01mreturn\u001B[39;00m res\n\nFile \u001B[0;32m/databricks/spark/python/pyspark/sql/readwriter.py:729\u001B[0m, in \u001B[0;36mDataFrameReader.csv\u001B[0;34m(self, path, schema, sep, encoding, quote, escape, comment, header, inferSchema, ignoreLeadingWhiteSpace, ignoreTrailingWhiteSpace, nullValue, nanValue, positiveInf, negativeInf, dateFormat, timestampFormat, maxColumns, maxCharsPerColumn, maxMalformedLogPerPartition, mode, columnNameOfCorruptRecord, multiLine, charToEscapeQuoteEscaping, samplingRatio, enforceSchema, emptyValue, locale, lineSep, pathGlobFilter, recursiveFileLookup, modifiedBefore, modifiedAfter, unescapedQuoteHandling)\u001B[0m\n\u001B[1;32m    727\u001B[0m \u001B[38;5;28;01mif\u001B[39;00m \u001B[38;5;28mtype\u001B[39m(path) \u001B[38;5;241m==\u001B[39m \u001B[38;5;28mlist\u001B[39m:\n\u001B[1;32m    728\u001B[0m     \u001B[38;5;28;01massert\u001B[39;00m \u001B[38;5;28mself\u001B[39m\u001B[38;5;241m.\u001B[39m_spark\u001B[38;5;241m.\u001B[39m_sc\u001B[38;5;241m.\u001B[39m_jvm \u001B[38;5;129;01mis\u001B[39;00m \u001B[38;5;129;01mnot\u001B[39;00m \u001B[38;5;28;01mNone\u001B[39;00m\n\u001B[0;32m--> 729\u001B[0m     \u001B[38;5;28;01mreturn\u001B[39;00m \u001B[38;5;28mself\u001B[39m\u001B[38;5;241m.\u001B[39m_df(\u001B[38;5;28;43mself\u001B[39;49m\u001B[38;5;241;43m.\u001B[39;49m\u001B[43m_jreader\u001B[49m\u001B[38;5;241;43m.\u001B[39;49m\u001B[43mcsv\u001B[49m\u001B[43m(\u001B[49m\u001B[38;5;28;43mself\u001B[39;49m\u001B[38;5;241;43m.\u001B[39;49m\u001B[43m_spark\u001B[49m\u001B[38;5;241;43m.\u001B[39;49m\u001B[43m_sc\u001B[49m\u001B[38;5;241;43m.\u001B[39;49m\u001B[43m_jvm\u001B[49m\u001B[38;5;241;43m.\u001B[39;49m\u001B[43mPythonUtils\u001B[49m\u001B[38;5;241;43m.\u001B[39;49m\u001B[43mtoSeq\u001B[49m\u001B[43m(\u001B[49m\u001B[43mpath\u001B[49m\u001B[43m)\u001B[49m\u001B[43m)\u001B[49m)\n\u001B[1;32m    730\u001B[0m \u001B[38;5;28;01melif\u001B[39;00m \u001B[38;5;28misinstance\u001B[39m(path, RDD):\n\u001B[1;32m    732\u001B[0m     \u001B[38;5;28;01mdef\u001B[39;00m \u001B[38;5;21mfunc\u001B[39m(iterator):\n\nFile \u001B[0;32m/databricks/spark/python/lib/py4j-0.10.9.5-src.zip/py4j/java_gateway.py:1321\u001B[0m, in \u001B[0;36mJavaMember.__call__\u001B[0;34m(self, *args)\u001B[0m\n\u001B[1;32m   1315\u001B[0m command \u001B[38;5;241m=\u001B[39m proto\u001B[38;5;241m.\u001B[39mCALL_COMMAND_NAME \u001B[38;5;241m+\u001B[39m\\\n\u001B[1;32m   1316\u001B[0m     \u001B[38;5;28mself\u001B[39m\u001B[38;5;241m.\u001B[39mcommand_header \u001B[38;5;241m+\u001B[39m\\\n\u001B[1;32m   1317\u001B[0m     args_command \u001B[38;5;241m+\u001B[39m\\\n\u001B[1;32m   1318\u001B[0m     proto\u001B[38;5;241m.\u001B[39mEND_COMMAND_PART\n\u001B[1;32m   1320\u001B[0m answer \u001B[38;5;241m=\u001B[39m \u001B[38;5;28mself\u001B[39m\u001B[38;5;241m.\u001B[39mgateway_client\u001B[38;5;241m.\u001B[39msend_command(command)\n\u001B[0;32m-> 1321\u001B[0m return_value \u001B[38;5;241m=\u001B[39m \u001B[43mget_return_value\u001B[49m\u001B[43m(\u001B[49m\n\u001B[1;32m   1322\u001B[0m \u001B[43m    \u001B[49m\u001B[43manswer\u001B[49m\u001B[43m,\u001B[49m\u001B[43m \u001B[49m\u001B[38;5;28;43mself\u001B[39;49m\u001B[38;5;241;43m.\u001B[39;49m\u001B[43mgateway_client\u001B[49m\u001B[43m,\u001B[49m\u001B[43m \u001B[49m\u001B[38;5;28;43mself\u001B[39;49m\u001B[38;5;241;43m.\u001B[39;49m\u001B[43mtarget_id\u001B[49m\u001B[43m,\u001B[49m\u001B[43m \u001B[49m\u001B[38;5;28;43mself\u001B[39;49m\u001B[38;5;241;43m.\u001B[39;49m\u001B[43mname\u001B[49m\u001B[43m)\u001B[49m\n\u001B[1;32m   1324\u001B[0m \u001B[38;5;28;01mfor\u001B[39;00m temp_arg \u001B[38;5;129;01min\u001B[39;00m temp_args:\n\u001B[1;32m   1325\u001B[0m     temp_arg\u001B[38;5;241m.\u001B[39m_detach()\n\nFile \u001B[0;32m/databricks/spark/python/pyspark/errors/exceptions.py:234\u001B[0m, in \u001B[0;36mcapture_sql_exception.<locals>.deco\u001B[0;34m(*a, **kw)\u001B[0m\n\u001B[1;32m    230\u001B[0m converted \u001B[38;5;241m=\u001B[39m convert_exception(e\u001B[38;5;241m.\u001B[39mjava_exception)\n\u001B[1;32m    231\u001B[0m \u001B[38;5;28;01mif\u001B[39;00m \u001B[38;5;129;01mnot\u001B[39;00m \u001B[38;5;28misinstance\u001B[39m(converted, UnknownException):\n\u001B[1;32m    232\u001B[0m     \u001B[38;5;66;03m# Hide where the exception came from that shows a non-Pythonic\u001B[39;00m\n\u001B[1;32m    233\u001B[0m     \u001B[38;5;66;03m# JVM exception message.\u001B[39;00m\n\u001B[0;32m--> 234\u001B[0m     \u001B[38;5;28;01mraise\u001B[39;00m converted \u001B[38;5;28;01mfrom\u001B[39;00m \u001B[38;5;28mNone\u001B[39m\n\u001B[1;32m    235\u001B[0m \u001B[38;5;28;01melse\u001B[39;00m:\n\u001B[1;32m    236\u001B[0m     \u001B[38;5;28;01mraise\u001B[39;00m\n\n\u001B[0;31mAnalysisException\u001B[0m: [PATH_NOT_FOUND] Path does not exist: dbfs:/FileStore/shared_uploads/oshiotserowland@gmail.com/StudentData-1.csv.",
       "errorSummary": "<span class='ansi-red-fg'>AnalysisException</span>: [PATH_NOT_FOUND] Path does not exist: dbfs:/FileStore/shared_uploads/oshiotserowland@gmail.com/StudentData-1.csv.",
       "errorTraceType": "ansi",
       "metadata": {},
       "type": "ipynbError"
      }
     },
     "output_type": "display_data"
    }
   ],
   "source": [
    "df=spark.read.option('header',True).option('inferSchema',True).csv('/FileStore/shared_uploads/oshiotserowland@gmail.com/StudentData-1.csv')\n",
    "df.show()"
   ]
  },
  {
   "cell_type": "code",
   "execution_count": 0,
   "metadata": {
    "application/vnd.databricks.v1+cell": {
     "cellMetadata": {
      "byteLimit": 2048000,
      "rowLimit": 10000
     },
     "inputWidgets": {},
     "nuid": "c0118e19-c60f-4bd7-97a0-770a2140d904",
     "showTitle": false,
     "title": ""
    }
   },
   "outputs": [
    {
     "output_type": "stream",
     "name": "stdout",
     "output_type": "stream",
     "text": [
      "root\n |-- age: string (nullable = true)\n |-- gender: string (nullable = true)\n |-- name: string (nullable = true)\n |-- course: string (nullable = true)\n |-- roll: string (nullable = true)\n |-- marks: string (nullable = true)\n |-- email: string (nullable = true)\n\n"
     ]
    }
   ],
   "source": [
    "#displays structure of dataframe\n",
    "df.printSchema()"
   ]
  },
  {
   "cell_type": "code",
   "execution_count": 0,
   "metadata": {
    "application/vnd.databricks.v1+cell": {
     "cellMetadata": {
      "byteLimit": 2048000,
      "rowLimit": 10000
     },
     "inputWidgets": {},
     "nuid": "fdb862f1-e4fe-414e-a9c8-7e02a7de0ffe",
     "showTitle": false,
     "title": ""
    }
   },
   "outputs": [
    {
     "output_type": "stream",
     "name": "stdout",
     "output_type": "stream",
     "text": [
      "root\n |-- age: integer (nullable = true)\n |-- gender: string (nullable = true)\n |-- name: string (nullable = true)\n |-- course: string (nullable = true)\n |-- roll: integer (nullable = true)\n |-- marks: integer (nullable = true)\n |-- email: string (nullable = true)\n\n"
     ]
    }
   ],
   "source": [
    "df=spark.read.options(header=True,inferSchema=True).csv('dbfs:/FileStore/shared_uploads/nilay.k.meera@gmail.com/StudentData-2.csv')\n",
    "df.printSchema()"
   ]
  },
  {
   "cell_type": "code",
   "execution_count": 0,
   "metadata": {
    "application/vnd.databricks.v1+cell": {
     "cellMetadata": {
      "byteLimit": 2048000,
      "rowLimit": 10000
     },
     "inputWidgets": {},
     "nuid": "173bcf16-92f1-486b-9bca-5009d843b439",
     "showTitle": false,
     "title": ""
    }
   },
   "outputs": [],
   "source": [
    "from pyspark.sql.types import StructType, StructField, StringType, IntegerType\n",
    " \n",
    "my_schema = StructType([\n",
    "                    StructField(\"age\", IntegerType(), True),\n",
    "                    StructField(\"gender\", StringType(), True),\n",
    "                    StructField(\"name\", StringType(), True),\n",
    "                    StructField(\"course\", StringType(), True),\n",
    "                    StructField(\"roll\", StringType(), True),\n",
    "                    StructField(\"marks\", IntegerType(), True),\n",
    "                    StructField(\"email\", StringType(), True)\n",
    "])"
   ]
  },
  {
   "cell_type": "code",
   "execution_count": 0,
   "metadata": {
    "application/vnd.databricks.v1+cell": {
     "cellMetadata": {
      "byteLimit": 2048000,
      "rowLimit": 10000
     },
     "inputWidgets": {},
     "nuid": "c4903451-6f30-4a88-b6f3-9bb2ae0dc578",
     "showTitle": false,
     "title": ""
    }
   },
   "outputs": [
    {
     "output_type": "stream",
     "name": "stdout",
     "output_type": "stream",
     "text": [
      "root\n |-- age: integer (nullable = true)\n |-- gender: string (nullable = true)\n |-- name: string (nullable = true)\n |-- course: string (nullable = true)\n |-- roll: string (nullable = true)\n |-- marks: integer (nullable = true)\n |-- email: string (nullable = true)\n\n"
     ]
    }
   ],
   "source": [
    "df=spark.read.options(header=True).schema(my_schema).csv('dbfs:/FileStore/shared_uploads/nilay.k.meera@gmail.com/StudentData-2.csv')\n",
    "df.printSchema()"
   ]
  },
  {
   "cell_type": "code",
   "execution_count": 0,
   "metadata": {
    "application/vnd.databricks.v1+cell": {
     "cellMetadata": {
      "byteLimit": 2048000,
      "rowLimit": 10000
     },
     "inputWidgets": {},
     "nuid": "b77bde9c-06ad-408f-acaa-1141811539f7",
     "showTitle": false,
     "title": ""
    }
   },
   "outputs": [],
   "source": [
    "from pyspark.sql.functions import col, lit"
   ]
  },
  {
   "cell_type": "code",
   "execution_count": 0,
   "metadata": {
    "application/vnd.databricks.v1+cell": {
     "cellMetadata": {
      "byteLimit": 2048000,
      "rowLimit": 10000
     },
     "inputWidgets": {},
     "nuid": "785ce239-834a-4a64-b10b-1840a171517c",
     "showTitle": false,
     "title": ""
    }
   },
   "outputs": [
    {
     "output_type": "stream",
     "name": "stdout",
     "output_type": "stream",
     "text": [
      "root\n |-- age: integer (nullable = true)\n |-- gender: string (nullable = true)\n |-- name: string (nullable = true)\n |-- course: string (nullable = true)\n |-- roll: string (nullable = true)\n |-- marks: integer (nullable = true)\n |-- email: string (nullable = true)\n\n+---+------+----------------+------+------+-----+--------------------+\n|age|gender|            name|course|  roll|marks|               email|\n+---+------+----------------+------+------+-----+--------------------+\n| 28|Female| Hubert Oliveras|    DB| 02984|   69|Annika Hoffman_Na...|\n| 29|Female|Toshiko Hillyard| Cloud| 12899|   72|Margene Moores_Ma...|\n| 28|  Male|  Celeste Lollis|    PF| 21267|   55|Jeannetta Golden_...|\n| 29|Female|    Elenore Choy|    DB| 32877|   39|Billi Clore_Mitzi...|\n| 28|  Male|  Sheryll Towler|   DSA| 41487|   51|Claude Panos_Judi...|\n| 28|  Male|  Margene Moores|   MVC| 52771|   42|Toshiko Hillyard_...|\n| 28|  Male|     Neda Briski|   OOP| 61973|   79|Alberta Freund_El...|\n| 28|Female|    Claude Panos| Cloud| 72409|   95|Sheryll Towler_Al...|\n| 28|  Male|  Celeste Lollis|   MVC| 81492|   74|Nicole Harwood_Cl...|\n| 29|  Male|  Cordie Harnois|   OOP| 92882|   61|Judie Chipps_Clem...|\n| 29|Female|       Kena Wild|   DSA|102285|   45|Dustin Feagins_Ma...|\n| 29|  Male| Ernest Rossbach|    DB|111449|   63|Maybell Duguay_Ab...|\n| 28|Female|  Latia Vanhoose|    DB|122502|   37|Latia Vanhoose_Mi...|\n| 29|Female|  Latia Vanhoose|   MVC|132110|   65|Eda Neathery_Nico...|\n| 29|  Male|     Neda Briski|    PF|141770|   52|Margene Moores_Mi...|\n| 29|Female|  Latia Vanhoose|    DB|152159|   37|Claude Panos_Sant...|\n| 29|  Male|  Loris Crossett|   MVC|161771|   46|Mitzi Seldon_Jenn...|\n| 29|  Male|  Annika Hoffman|   OOP|171660|   32|Taryn Brownlee_Mi...|\n| 29|  Male|   Santa Kerfien|    PF|182129|   66|Judie Chipps_Tary...|\n| 28|Female|Mickey Cortright|    DB|192537|   72|Ernest Rossbach_M...|\n+---+------+----------------+------+------+-----+--------------------+\nonly showing top 20 rows\n\n+---+------+----------------+------+------+-----+--------------------+----------+\n|age|gender|            name|course|  roll|marks|               email|percentage|\n+---+------+----------------+------+------+-----+--------------------+----------+\n| 28|Female| Hubert Oliveras|    DB| 02984|   69|Annika Hoffman_Na...|      0.69|\n| 29|Female|Toshiko Hillyard| Cloud| 12899|   72|Margene Moores_Ma...|      0.72|\n| 28|  Male|  Celeste Lollis|    PF| 21267|   55|Jeannetta Golden_...|      0.55|\n| 29|Female|    Elenore Choy|    DB| 32877|   39|Billi Clore_Mitzi...|      0.39|\n| 28|  Male|  Sheryll Towler|   DSA| 41487|   51|Claude Panos_Judi...|      0.51|\n| 28|  Male|  Margene Moores|   MVC| 52771|   42|Toshiko Hillyard_...|      0.42|\n| 28|  Male|     Neda Briski|   OOP| 61973|   79|Alberta Freund_El...|      0.79|\n| 28|Female|    Claude Panos| Cloud| 72409|   95|Sheryll Towler_Al...|      0.95|\n| 28|  Male|  Celeste Lollis|   MVC| 81492|   74|Nicole Harwood_Cl...|      0.74|\n| 29|  Male|  Cordie Harnois|   OOP| 92882|   61|Judie Chipps_Clem...|      0.61|\n| 29|Female|       Kena Wild|   DSA|102285|   45|Dustin Feagins_Ma...|      0.45|\n| 29|  Male| Ernest Rossbach|    DB|111449|   63|Maybell Duguay_Ab...|      0.63|\n| 28|Female|  Latia Vanhoose|    DB|122502|   37|Latia Vanhoose_Mi...|      0.37|\n| 29|Female|  Latia Vanhoose|   MVC|132110|   65|Eda Neathery_Nico...|      0.65|\n| 29|  Male|     Neda Briski|    PF|141770|   52|Margene Moores_Mi...|      0.52|\n| 29|Female|  Latia Vanhoose|    DB|152159|   37|Claude Panos_Sant...|      0.37|\n| 29|  Male|  Loris Crossett|   MVC|161771|   46|Mitzi Seldon_Jenn...|      0.46|\n| 29|  Male|  Annika Hoffman|   OOP|171660|   32|Taryn Brownlee_Mi...|      0.32|\n| 29|  Male|   Santa Kerfien|    PF|182129|   66|Judie Chipps_Tary...|      0.66|\n| 28|Female|Mickey Cortright|    DB|192537|   72|Ernest Rossbach_M...|      0.72|\n+---+------+----------------+------+------+-----+--------------------+----------+\nonly showing top 20 rows\n\n+---+------+----------------+------+------+-----+--------------------+----------+------------+\n|age|gender|            name|course|  roll|marks|               email|percentage|country name|\n+---+------+----------------+------+------+-----+--------------------+----------+------------+\n| 28|Female| Hubert Oliveras|    DB| 02984|   69|Annika Hoffman_Na...|      0.69|     Nigeria|\n| 29|Female|Toshiko Hillyard| Cloud| 12899|   72|Margene Moores_Ma...|      0.72|     Nigeria|\n| 28|  Male|  Celeste Lollis|    PF| 21267|   55|Jeannetta Golden_...|      0.55|     Nigeria|\n| 29|Female|    Elenore Choy|    DB| 32877|   39|Billi Clore_Mitzi...|      0.39|     Nigeria|\n| 28|  Male|  Sheryll Towler|   DSA| 41487|   51|Claude Panos_Judi...|      0.51|     Nigeria|\n| 28|  Male|  Margene Moores|   MVC| 52771|   42|Toshiko Hillyard_...|      0.42|     Nigeria|\n| 28|  Male|     Neda Briski|   OOP| 61973|   79|Alberta Freund_El...|      0.79|     Nigeria|\n| 28|Female|    Claude Panos| Cloud| 72409|   95|Sheryll Towler_Al...|      0.95|     Nigeria|\n| 28|  Male|  Celeste Lollis|   MVC| 81492|   74|Nicole Harwood_Cl...|      0.74|     Nigeria|\n| 29|  Male|  Cordie Harnois|   OOP| 92882|   61|Judie Chipps_Clem...|      0.61|     Nigeria|\n| 29|Female|       Kena Wild|   DSA|102285|   45|Dustin Feagins_Ma...|      0.45|     Nigeria|\n| 29|  Male| Ernest Rossbach|    DB|111449|   63|Maybell Duguay_Ab...|      0.63|     Nigeria|\n| 28|Female|  Latia Vanhoose|    DB|122502|   37|Latia Vanhoose_Mi...|      0.37|     Nigeria|\n| 29|Female|  Latia Vanhoose|   MVC|132110|   65|Eda Neathery_Nico...|      0.65|     Nigeria|\n| 29|  Male|     Neda Briski|    PF|141770|   52|Margene Moores_Mi...|      0.52|     Nigeria|\n| 29|Female|  Latia Vanhoose|    DB|152159|   37|Claude Panos_Sant...|      0.37|     Nigeria|\n| 29|  Male|  Loris Crossett|   MVC|161771|   46|Mitzi Seldon_Jenn...|      0.46|     Nigeria|\n| 29|  Male|  Annika Hoffman|   OOP|171660|   32|Taryn Brownlee_Mi...|      0.32|     Nigeria|\n| 29|  Male|   Santa Kerfien|    PF|182129|   66|Judie Chipps_Tary...|      0.66|     Nigeria|\n| 28|Female|Mickey Cortright|    DB|192537|   72|Ernest Rossbach_M...|      0.72|     Nigeria|\n+---+------+----------------+------+------+-----+--------------------+----------+------------+\nonly showing top 20 rows\n\n"
     ]
    }
   ],
   "source": [
    " \n",
    "# COMMAND ----------\n",
    " \n",
    "df = df.withColumn(\"roll\", col(\"roll\").cast(\"String\"))\n",
    " \n",
    "# COMMAND ----------\n",
    " \n",
    "df.printSchema()\n",
    " \n",
    "# COMMAND ----------\n",
    " \n",
    "df = df.withColumn(\"marks\", col('marks') + 10)\n",
    "df.show()\n",
    " \n",
    "# COMMAND ----------\n",
    " \n",
    "df = df.withColumn(\"percentage\", col('marks') / 100)\n",
    "df.show()\n",
    " \n",
    "# COMMAND ----------\n",
    " \n",
    "df = df.withColumn(\"country name\", lit(\"Nigeria\"))\n",
    "df.show()"
   ]
  },
  {
   "cell_type": "code",
   "execution_count": 0,
   "metadata": {
    "application/vnd.databricks.v1+cell": {
     "cellMetadata": {
      "byteLimit": 2048000,
      "rowLimit": 10000
     },
     "inputWidgets": {},
     "nuid": "62a6a138-d0d9-4253-ae11-6bb5165cfd16",
     "showTitle": false,
     "title": ""
    }
   },
   "outputs": [
    {
     "output_type": "stream",
     "name": "stdout",
     "output_type": "stream",
     "text": [
      "+---+------+----------------+------+-----------+-----+--------------------+----------+------------+\n|age|   sex|            name|course|roll number|marks|               email|percentage|country name|\n+---+------+----------------+------+-----------+-----+--------------------+----------+------------+\n| 28|Female| Hubert Oliveras|    DB|       2984|   69|Annika Hoffman_Na...|      0.69|     Nigeria|\n| 29|Female|Toshiko Hillyard| Cloud|      12899|   72|Margene Moores_Ma...|      0.72|     Nigeria|\n| 28|  Male|  Celeste Lollis|    PF|      21267|   55|Jeannetta Golden_...|      0.55|     Nigeria|\n| 29|Female|    Elenore Choy|    DB|      32877|   39|Billi Clore_Mitzi...|      0.39|     Nigeria|\n| 28|  Male|  Sheryll Towler|   DSA|      41487|   51|Claude Panos_Judi...|      0.51|     Nigeria|\n| 28|  Male|  Margene Moores|   MVC|      52771|   42|Toshiko Hillyard_...|      0.42|     Nigeria|\n| 28|  Male|     Neda Briski|   OOP|      61973|   79|Alberta Freund_El...|      0.79|     Nigeria|\n| 28|Female|    Claude Panos| Cloud|      72409|   95|Sheryll Towler_Al...|      0.95|     Nigeria|\n| 28|  Male|  Celeste Lollis|   MVC|      81492|   74|Nicole Harwood_Cl...|      0.74|     Nigeria|\n| 29|  Male|  Cordie Harnois|   OOP|      92882|   61|Judie Chipps_Clem...|      0.61|     Nigeria|\n| 29|Female|       Kena Wild|   DSA|     102285|   45|Dustin Feagins_Ma...|      0.45|     Nigeria|\n| 29|  Male| Ernest Rossbach|    DB|     111449|   63|Maybell Duguay_Ab...|      0.63|     Nigeria|\n| 28|Female|  Latia Vanhoose|    DB|     122502|   37|Latia Vanhoose_Mi...|      0.37|     Nigeria|\n| 29|Female|  Latia Vanhoose|   MVC|     132110|   65|Eda Neathery_Nico...|      0.65|     Nigeria|\n| 29|  Male|     Neda Briski|    PF|     141770|   52|Margene Moores_Mi...|      0.52|     Nigeria|\n| 29|Female|  Latia Vanhoose|    DB|     152159|   37|Claude Panos_Sant...|      0.37|     Nigeria|\n| 29|  Male|  Loris Crossett|   MVC|     161771|   46|Mitzi Seldon_Jenn...|      0.46|     Nigeria|\n| 29|  Male|  Annika Hoffman|   OOP|     171660|   32|Taryn Brownlee_Mi...|      0.32|     Nigeria|\n| 29|  Male|   Santa Kerfien|    PF|     182129|   66|Judie Chipps_Tary...|      0.66|     Nigeria|\n| 28|Female|Mickey Cortright|    DB|     192537|   72|Ernest Rossbach_M...|      0.72|     Nigeria|\n+---+------+----------------+------+-----------+-----+--------------------+----------+------------+\nonly showing top 20 rows\n\n+----------------+\n|       Full Name|\n+----------------+\n| Hubert Oliveras|\n|Toshiko Hillyard|\n|  Celeste Lollis|\n|    Elenore Choy|\n|  Sheryll Towler|\n|  Margene Moores|\n|     Neda Briski|\n|    Claude Panos|\n|  Celeste Lollis|\n|  Cordie Harnois|\n|       Kena Wild|\n| Ernest Rossbach|\n|  Latia Vanhoose|\n|  Latia Vanhoose|\n|     Neda Briski|\n|  Latia Vanhoose|\n|  Loris Crossett|\n|  Annika Hoffman|\n|   Santa Kerfien|\n|Mickey Cortright|\n+----------------+\nonly showing top 20 rows\n\n+---+------+----------------+------+-----------+-----+--------------------+----------+------------+\n|age|   sex|            name|course|roll number|marks|               email|percentage|country name|\n+---+------+----------------+------+-----------+-----+--------------------+----------+------------+\n| 28|Female| Hubert Oliveras|    DB|       2984|   69|Annika Hoffman_Na...|      0.69|     Nigeria|\n| 29|Female|Toshiko Hillyard| Cloud|      12899|   72|Margene Moores_Ma...|      0.72|     Nigeria|\n| 28|  Male|  Celeste Lollis|    PF|      21267|   55|Jeannetta Golden_...|      0.55|     Nigeria|\n| 29|Female|    Elenore Choy|    DB|      32877|   39|Billi Clore_Mitzi...|      0.39|     Nigeria|\n| 28|  Male|  Sheryll Towler|   DSA|      41487|   51|Claude Panos_Judi...|      0.51|     Nigeria|\n| 28|  Male|  Margene Moores|   MVC|      52771|   42|Toshiko Hillyard_...|      0.42|     Nigeria|\n| 28|  Male|     Neda Briski|   OOP|      61973|   79|Alberta Freund_El...|      0.79|     Nigeria|\n| 28|Female|    Claude Panos| Cloud|      72409|   95|Sheryll Towler_Al...|      0.95|     Nigeria|\n| 28|  Male|  Celeste Lollis|   MVC|      81492|   74|Nicole Harwood_Cl...|      0.74|     Nigeria|\n| 29|  Male|  Cordie Harnois|   OOP|      92882|   61|Judie Chipps_Clem...|      0.61|     Nigeria|\n| 29|Female|       Kena Wild|   DSA|     102285|   45|Dustin Feagins_Ma...|      0.45|     Nigeria|\n| 29|  Male| Ernest Rossbach|    DB|     111449|   63|Maybell Duguay_Ab...|      0.63|     Nigeria|\n| 28|Female|  Latia Vanhoose|    DB|     122502|   37|Latia Vanhoose_Mi...|      0.37|     Nigeria|\n| 29|Female|  Latia Vanhoose|   MVC|     132110|   65|Eda Neathery_Nico...|      0.65|     Nigeria|\n| 29|  Male|     Neda Briski|    PF|     141770|   52|Margene Moores_Mi...|      0.52|     Nigeria|\n| 29|Female|  Latia Vanhoose|    DB|     152159|   37|Claude Panos_Sant...|      0.37|     Nigeria|\n| 29|  Male|  Loris Crossett|   MVC|     161771|   46|Mitzi Seldon_Jenn...|      0.46|     Nigeria|\n| 29|  Male|  Annika Hoffman|   OOP|     171660|   32|Taryn Brownlee_Mi...|      0.32|     Nigeria|\n| 29|  Male|   Santa Kerfien|    PF|     182129|   66|Judie Chipps_Tary...|      0.66|     Nigeria|\n| 28|Female|Mickey Cortright|    DB|     192537|   72|Ernest Rossbach_M...|      0.72|     Nigeria|\n+---+------+----------------+------+-----------+-----+--------------------+----------+------------+\nonly showing top 20 rows\n\n"
     ]
    }
   ],
   "source": [
    "df = df.withColumnRenamed(\"gender\",\"sex\").withColumnRenamed(\"roll\", \"roll number\")\n",
    "df.show()\n",
    " \n",
    "# COMMAND ----------\n",
    " \n",
    "df.select(col(\"name\").alias(\"Full Name\")).show()\n",
    " \n",
    "# COMMAND ----------\n",
    " \n",
    "df.show()"
   ]
  },
  {
   "cell_type": "code",
   "execution_count": 0,
   "metadata": {
    "application/vnd.databricks.v1+cell": {
     "cellMetadata": {},
     "inputWidgets": {},
     "nuid": "e85f617b-e18e-4917-8ce6-46cc7a9b6391",
     "showTitle": false,
     "title": ""
    }
   },
   "outputs": [],
   "source": [
    "# COMMAND ----------\n",
    " \n",
    "df.filter(df.course == \"DB\").show()\n",
    " \n",
    "# COMMAND ----------\n",
    " \n",
    "df.filter(col(\"course\") == \"DB\").show()\n",
    " \n",
    "# COMMAND ----------\n",
    " \n",
    "df.filter( (df.course == \"DB\") & (df.marks > 50) ).show()\n",
    " \n",
    "# COMMAND ----------\n",
    " \n",
    "courses = [\"DB\", \"Cloud\", \"OOP\", \"DSA\"]\n",
    "df.filter(df.course.isin(courses)).show()\n",
    " \n",
    "# COMMAND ----------\n",
    " \n",
    "df.filter(df.course.startswith(\"DS\")).show()\n",
    " \n",
    "# COMMAND ----------\n",
    " \n",
    "df.filter(df.name.endswith(\"se\")).show()\n",
    " \n",
    "# COMMAND ----------\n",
    " \n",
    "df.filter(df.name.contains(\"se\")).show()\n",
    " "
   ]
  },
  {
   "cell_type": "code",
   "execution_count": 0,
   "metadata": {
    "application/vnd.databricks.v1+cell": {
     "cellMetadata": {
      "byteLimit": 2048000,
      "rowLimit": 10000
     },
     "inputWidgets": {},
     "nuid": "60a674f8-3316-451e-a0c1-363947dc4590",
     "showTitle": false,
     "title": ""
    }
   },
   "outputs": [
    {
     "output_type": "stream",
     "name": "stdout",
     "output_type": "stream",
     "text": [
      "+---+------+-----------------+------+-----------+-----+--------------------+----------+------------+\n|age|   sex|             name|course|roll number|marks|               email|percentage|country name|\n+---+------+-----------------+------+-----------+-----+--------------------+----------+------------+\n| 28|Female|  Hubert Oliveras|    DB|       2984|   69|Annika Hoffman_Na...|      0.69|     Nigeria|\n| 29|Female|     Elenore Choy|    DB|      32877|   39|Billi Clore_Mitzi...|      0.39|     Nigeria|\n| 29|  Male|  Ernest Rossbach|    DB|     111449|   63|Maybell Duguay_Ab...|      0.63|     Nigeria|\n| 28|Female|   Latia Vanhoose|    DB|     122502|   37|Latia Vanhoose_Mi...|      0.37|     Nigeria|\n| 29|Female|   Latia Vanhoose|    DB|     152159|   37|Claude Panos_Sant...|      0.37|     Nigeria|\n| 28|Female| Mickey Cortright|    DB|     192537|   72|Ernest Rossbach_M...|      0.72|     Nigeria|\n| 28|Female|      Anna Santos|    DB|     311589|   89|Celeste Lollis_Mi...|      0.89|     Nigeria|\n| 28|  Male|    Kizzy Brenner|    DB|     381712|   46|Paris Hutton_Kena...|      0.46|     Nigeria|\n| 28|  Male| Toshiko Hillyard|    DB|     392218|   57|Leontine Phillips...|      0.57|     Nigeria|\n| 29|  Male|     Paris Hutton|    DB|     481229|   67|Clementina Menke_...|      0.67|     Nigeria|\n| 28|Female| Mickey Cortright|    DB|     551389|   53|Tijuana Kropf_Jen...|      0.53|     Nigeria|\n| 28|Female|Leontine Phillips|    DB|     602404|   58|Neda Briski_Cheri...|      0.58|     Nigeria|\n| 28|Female|  Hubert Oliveras|    DB|     771081|   89|Kizzy Brenner_Dus...|      0.89|     Nigeria|\n| 29|Female|     Elenore Choy|    DB|     811824|   65|Maybell Duguay_Me...|      0.65|     Nigeria|\n| 29|  Male| Clementina Menke|    DB|     882200|   86|Michelle Ruggiero...|      0.86|     Nigeria|\n| 29|Female|  Sebrina Maresca|    DB|     922210|   64|Toshiko Hillyard_...|      0.64|     Nigeria|\n| 29|  Male|     Naoma Fritts|    DB|     931295|   89|Hubert Oliveras_S...|      0.89|     Nigeria|\n| 28|  Male|   Annika Hoffman|    DB|    1031544|   54|Dustin Feagins_So...|      0.54|     Nigeria|\n| 28|  Male|   Nicole Harwood|    DB|    1211495|   38|Melani Engberg_Jc...|      0.38|     Nigeria|\n| 29|Female|     Claude Panos|    DB|    1222887|   85|Hubert Oliveras_S...|      0.85|     Nigeria|\n+---+------+-----------------+------+-----------+-----+--------------------+----------+------------+\nonly showing top 20 rows\n\n"
     ]
    }
   ],
   "source": [
    "df.filter(df.course == \"DB\").show()"
   ]
  },
  {
   "cell_type": "code",
   "execution_count": 0,
   "metadata": {
    "application/vnd.databricks.v1+cell": {
     "cellMetadata": {
      "byteLimit": 2048000,
      "rowLimit": 10000
     },
     "inputWidgets": {},
     "nuid": "f277c0b0-91d3-4136-a77a-e27145df0f69",
     "showTitle": false,
     "title": ""
    }
   },
   "outputs": [
    {
     "output_type": "stream",
     "name": "stdout",
     "output_type": "stream",
     "text": [
      "+---+------+-----------------+------+-----------+-----+--------------------+----------+------------+\n|age|   sex|             name|course|roll number|marks|               email|percentage|country name|\n+---+------+-----------------+------+-----------+-----+--------------------+----------+------------+\n| 28|Female|  Hubert Oliveras|    DB|       2984|   69|Annika Hoffman_Na...|      0.69|     Nigeria|\n| 29|  Male|  Ernest Rossbach|    DB|     111449|   63|Maybell Duguay_Ab...|      0.63|     Nigeria|\n| 28|Female| Mickey Cortright|    DB|     192537|   72|Ernest Rossbach_M...|      0.72|     Nigeria|\n| 28|Female|      Anna Santos|    DB|     311589|   89|Celeste Lollis_Mi...|      0.89|     Nigeria|\n| 28|  Male| Toshiko Hillyard|    DB|     392218|   57|Leontine Phillips...|      0.57|     Nigeria|\n| 29|  Male|     Paris Hutton|    DB|     481229|   67|Clementina Menke_...|      0.67|     Nigeria|\n| 28|Female| Mickey Cortright|    DB|     551389|   53|Tijuana Kropf_Jen...|      0.53|     Nigeria|\n| 28|Female|Leontine Phillips|    DB|     602404|   58|Neda Briski_Cheri...|      0.58|     Nigeria|\n| 28|Female|  Hubert Oliveras|    DB|     771081|   89|Kizzy Brenner_Dus...|      0.89|     Nigeria|\n| 29|Female|     Elenore Choy|    DB|     811824|   65|Maybell Duguay_Me...|      0.65|     Nigeria|\n| 29|  Male| Clementina Menke|    DB|     882200|   86|Michelle Ruggiero...|      0.86|     Nigeria|\n| 29|Female|  Sebrina Maresca|    DB|     922210|   64|Toshiko Hillyard_...|      0.64|     Nigeria|\n| 29|  Male|     Naoma Fritts|    DB|     931295|   89|Hubert Oliveras_S...|      0.89|     Nigeria|\n| 28|  Male|   Annika Hoffman|    DB|    1031544|   54|Dustin Feagins_So...|      0.54|     Nigeria|\n| 29|Female|     Claude Panos|    DB|    1222887|   85|Hubert Oliveras_S...|      0.85|     Nigeria|\n| 29|Female|Leontine Phillips|    DB|    1432252|   77|Billi Clore_Shery...|      0.77|     Nigeria|\n| 28|Female|  Gonzalo Ferebee|    DB|    1451513|   79|Claude Panos_Tame...|      0.79|     Nigeria|\n| 28|  Male|  Marylee Capasso|    DB|    1611411|  106|Annika Hoffman_Lo...|      1.06|     Nigeria|\n| 29|Female|Michelle Ruggiero|    DB|    1642509|   55|Hubert Oliveras_M...|      0.55|     Nigeria|\n| 29|  Male|   Alberta Freund|    DB|    1671638|  108|Clementina Menke_...|      1.08|     Nigeria|\n+---+------+-----------------+------+-----------+-----+--------------------+----------+------------+\nonly showing top 20 rows\n\n"
     ]
    }
   ],
   "source": [
    "df.filter( (df.course == \"DB\") & (df.marks > 50) ).show()"
   ]
  },
  {
   "cell_type": "code",
   "execution_count": 0,
   "metadata": {
    "application/vnd.databricks.v1+cell": {
     "cellMetadata": {
      "byteLimit": 2048000,
      "rowLimit": 10000
     },
     "inputWidgets": {},
     "nuid": "33e3617d-c9ea-4616-9f74-4f1ff6b6efae",
     "showTitle": false,
     "title": ""
    }
   },
   "outputs": [
    {
     "output_type": "stream",
     "name": "stdout",
     "output_type": "stream",
     "text": [
      "+---+------+----------------+------+-----------+-----+--------------------+----------+------------+\n|age|   sex|            name|course|roll number|marks|               email|percentage|country name|\n+---+------+----------------+------+-----------+-----+--------------------+----------+------------+\n| 28|Female| Hubert Oliveras|    DB|       2984|   69|Annika Hoffman_Na...|      0.69|     Nigeria|\n| 29|Female|Toshiko Hillyard| Cloud|      12899|   72|Margene Moores_Ma...|      0.72|     Nigeria|\n| 29|Female|    Elenore Choy|    DB|      32877|   39|Billi Clore_Mitzi...|      0.39|     Nigeria|\n| 28|  Male|  Sheryll Towler|   DSA|      41487|   51|Claude Panos_Judi...|      0.51|     Nigeria|\n| 28|  Male|     Neda Briski|   OOP|      61973|   79|Alberta Freund_El...|      0.79|     Nigeria|\n| 28|Female|    Claude Panos| Cloud|      72409|   95|Sheryll Towler_Al...|      0.95|     Nigeria|\n| 29|  Male|  Cordie Harnois|   OOP|      92882|   61|Judie Chipps_Clem...|      0.61|     Nigeria|\n| 29|Female|       Kena Wild|   DSA|     102285|   45|Dustin Feagins_Ma...|      0.45|     Nigeria|\n| 29|  Male| Ernest Rossbach|    DB|     111449|   63|Maybell Duguay_Ab...|      0.63|     Nigeria|\n| 28|Female|  Latia Vanhoose|    DB|     122502|   37|Latia Vanhoose_Mi...|      0.37|     Nigeria|\n| 29|Female|  Latia Vanhoose|    DB|     152159|   37|Claude Panos_Sant...|      0.37|     Nigeria|\n| 29|  Male|  Annika Hoffman|   OOP|     171660|   32|Taryn Brownlee_Mi...|      0.32|     Nigeria|\n| 28|Female|Mickey Cortright|    DB|     192537|   72|Ernest Rossbach_M...|      0.72|     Nigeria|\n| 28|Female|       Kena Wild| Cloud|     221750|   70|Mitzi Seldon_Jenn...|       0.7|     Nigeria|\n| 28|Female|    Jc Andrepont|   DSA|     232060|   68|Billi Clore_Abram...|      0.68|     Nigeria|\n| 29|Female|     Anna Santos| Cloud|     242254|   78|Jc Andrepont_Hube...|      0.78|     Nigeria|\n| 28|Female|  Alberta Freund|   OOP|     251805|   93|Annika Hoffman_Sh...|      0.93|     Nigeria|\n| 28|Female|  Maybell Duguay| Cloud|     261439|   30|Nicole Harwood_Ju...|       0.3|     Nigeria|\n| 29|Female|    Paris Hutton|   DSA|     271472|  109|Sheryll Towler_Al...|      1.09|     Nigeria|\n| 29|Female|    Cheri Kenney| Cloud|     281408|   53|Annika Hoffman_Me...|      0.53|     Nigeria|\n+---+------+----------------+------+-----------+-----+--------------------+----------+------------+\nonly showing top 20 rows\n\n"
     ]
    }
   ],
   "source": [
    "courses = [\"DB\", \"Cloud\", \"OOP\", \"DSA\"]\n",
    "df.filter(df.course.isin(courses)).show()"
   ]
  },
  {
   "cell_type": "code",
   "execution_count": 0,
   "metadata": {
    "application/vnd.databricks.v1+cell": {
     "cellMetadata": {
      "byteLimit": 2048000,
      "rowLimit": 10000
     },
     "inputWidgets": {},
     "nuid": "a975e8dd-2fc7-477b-ae58-78b1b58575f9",
     "showTitle": false,
     "title": ""
    }
   },
   "outputs": [
    {
     "output_type": "stream",
     "name": "stdout",
     "output_type": "stream",
     "text": [
      "+---+------+--------------+------+-----------+-----+--------------------+----------+------------+\n|age|   sex|          name|course|roll number|marks|               email|percentage|country name|\n+---+------+--------------+------+-----------+-----+--------------------+----------+------------+\n| 28|Female|Latia Vanhoose|    DB|     122502|   37|Latia Vanhoose_Mi...|      0.37|     Nigeria|\n| 29|Female|Latia Vanhoose|   MVC|     132110|   65|Eda Neathery_Nico...|      0.65|     Nigeria|\n| 29|Female|Latia Vanhoose|    DB|     152159|   37|Claude Panos_Sant...|      0.37|     Nigeria|\n| 29|  Male|Latia Vanhoose| Cloud|    1832268|   70|Marylee Capasso_S...|       0.7|     Nigeria|\n| 29|  Male|Latia Vanhoose|   OOP|    2372748|  104|Latia Vanhoose_La...|      1.04|     Nigeria|\n| 29|Female|Latia Vanhoose|    PF|    2861854|   52|Claude Panos_Nico...|      0.52|     Nigeria|\n| 29|  Male|Latia Vanhoose|   MVC|    2992281|  100|Elenore Choy_Cord...|       1.0|     Nigeria|\n| 29|Female|Latia Vanhoose|   MVC|    3091650|   40|Cordie Harnois_Se...|       0.4|     Nigeria|\n| 29|Female|Latia Vanhoose|   OOP|    3841395|   36|Kizzy Brenner_Eda...|      0.36|     Nigeria|\n| 29|  Male|Latia Vanhoose| Cloud|    4661276|   50|Jc Andrepont_Anni...|       0.5|     Nigeria|\n| 28|Female|Latia Vanhoose|   OOP|    4792828|   82|Tamera Blakley_Mi...|      0.82|     Nigeria|\n| 28|Female|Latia Vanhoose|    PF|    5222171|   83|Toshiko Hillyard_...|      0.83|     Nigeria|\n| 28|Female|Latia Vanhoose| Cloud|    6701628|   43|Abram Nagao_Cheri...|      0.43|     Nigeria|\n| 29|Female|Latia Vanhoose|   MVC|    6771882|   59|Alberta Freund_La...|      0.59|     Nigeria|\n| 28|Female|Latia Vanhoose|   MVC|    7381991|  104|Eda Neathery_Mich...|      1.04|     Nigeria|\n| 29|  Male|Latia Vanhoose| Cloud|    7721956|   55|Jalisa Swenson_An...|      0.55|     Nigeria|\n| 28|  Male|Latia Vanhoose|   OOP|    7741757|   76|Loris Crossett_Na...|      0.76|     Nigeria|\n| 28|  Male|Latia Vanhoose|   DSA|    7792270|   47|Eda Neathery_Donn...|      0.47|     Nigeria|\n| 28|  Male|Latia Vanhoose|   DSA|    9442974|   39|Jc Andrepont_Cele...|      0.39|     Nigeria|\n| 28|Female|Latia Vanhoose| Cloud|    9471888|   66|Naoma Fritts_Kena...|      0.66|     Nigeria|\n+---+------+--------------+------+-----------+-----+--------------------+----------+------------+\n\n"
     ]
    }
   ],
   "source": [
    "df.filter(df.name.endswith(\"se\")).show()"
   ]
  },
  {
   "cell_type": "code",
   "execution_count": 0,
   "metadata": {
    "application/vnd.databricks.v1+cell": {
     "cellMetadata": {
      "byteLimit": 2048000,
      "rowLimit": 10000
     },
     "inputWidgets": {},
     "nuid": "18d6404e-0131-4de2-9f5c-99496498f9c6",
     "showTitle": false,
     "title": ""
    }
   },
   "outputs": [
    {
     "output_type": "stream",
     "name": "stdout",
     "output_type": "stream",
     "text": [
      "+---+------+--------------+------+-----------+-----+--------------------+----------+------------+\n|age|   sex|          name|course|roll number|marks|               email|percentage|country name|\n+---+------+--------------+------+-----------+-----+--------------------+----------+------------+\n| 28|Female|Latia Vanhoose|    DB|     122502|   37|Latia Vanhoose_Mi...|      0.37|     Nigeria|\n| 29|Female|Latia Vanhoose|   MVC|     132110|   65|Eda Neathery_Nico...|      0.65|     Nigeria|\n| 29|Female|Latia Vanhoose|    DB|     152159|   37|Claude Panos_Sant...|      0.37|     Nigeria|\n| 29|  Male|Loris Crossett|   MVC|     161771|   46|Mitzi Seldon_Jenn...|      0.46|     Nigeria|\n| 29|Female|Loris Crossett|    PF|     201487|  106|Elenore Choy_Lati...|      1.06|     Nigeria|\n| 28|Female|Loris Crossett|    PF|     332739|   72|Michelle Ruggiero...|      0.72|     Nigeria|\n| 29|  Male|Loris Crossett|    PF|     911593|   56|Gonzalo Ferebee_M...|      0.56|     Nigeria|\n| 28|Female|Loris Crossett|   DSA|    1662549|   96|Paris Hutton_Lati...|      0.96|     Nigeria|\n| 29|  Male|Latia Vanhoose| Cloud|    1832268|   70|Marylee Capasso_S...|       0.7|     Nigeria|\n| 29|  Male|Latia Vanhoose|   OOP|    2372748|  104|Latia Vanhoose_La...|      1.04|     Nigeria|\n| 28|Female|Loris Crossett|   OOP|    2691881|   39|Maybell Duguay_Ni...|      0.39|     Nigeria|\n| 28|  Male|Loris Crossett|   OOP|    2852490|   35|Loris Crossett_Do...|      0.35|     Nigeria|\n| 29|Female|Latia Vanhoose|    PF|    2861854|   52|Claude Panos_Nico...|      0.52|     Nigeria|\n| 29|  Male|Latia Vanhoose|   MVC|    2992281|  100|Elenore Choy_Cord...|       1.0|     Nigeria|\n| 29|Female|Latia Vanhoose|   MVC|    3091650|   40|Cordie Harnois_Se...|       0.4|     Nigeria|\n| 28|Female|Loris Crossett|   OOP|    3502780|   40|Jenna Montague_Co...|       0.4|     Nigeria|\n| 28|Female|Loris Crossett|    PF|    3531684|   94|Dustin Feagins_Ta...|      0.94|     Nigeria|\n| 29|  Male|Loris Crossett|   OOP|    3592529|   90|Annika Hoffman_To...|       0.9|     Nigeria|\n| 29|Female|Latia Vanhoose|   OOP|    3841395|   36|Kizzy Brenner_Eda...|      0.36|     Nigeria|\n| 28|Female|Loris Crossett|    PF|    3861248|  104|Dustin Feagins_Ch...|      1.04|     Nigeria|\n+---+------+--------------+------+-----------+-----+--------------------+----------+------------+\nonly showing top 20 rows\n\n"
     ]
    }
   ],
   "source": [
    "df.filter(df.name.contains(\"se\")).show()"
   ]
  },
  {
   "cell_type": "code",
   "execution_count": 0,
   "metadata": {
    "application/vnd.databricks.v1+cell": {
     "cellMetadata": {
      "byteLimit": 2048000,
      "rowLimit": 10000
     },
     "inputWidgets": {},
     "nuid": "90faea02-bfa3-4552-bf80-eb818ad58d17",
     "showTitle": false,
     "title": ""
    }
   },
   "outputs": [
    {
     "output_type": "stream",
     "name": "stdout",
     "output_type": "stream",
     "text": [
      "+---+---+----+------+-----------+-----+-----+----------+------------+\n|age|sex|name|course|roll number|marks|email|percentage|country name|\n+---+---+----+------+-----------+-----+-----+----------+------------+\n+---+---+----+------+-----------+-----+-----+----------+------------+\n\n"
     ]
    }
   ],
   "source": [
    "df.filter(df.name.startswith(\"se\")).show()"
   ]
  },
  {
   "cell_type": "code",
   "execution_count": 0,
   "metadata": {
    "application/vnd.databricks.v1+cell": {
     "cellMetadata": {
      "byteLimit": 2048000,
      "rowLimit": 10000
     },
     "inputWidgets": {},
     "nuid": "192ba500-570e-4e0d-b0ab-46cbc73c2eaa",
     "showTitle": false,
     "title": ""
    }
   },
   "outputs": [
    {
     "output_type": "stream",
     "name": "stdout",
     "output_type": "stream",
     "text": [
      "+------+\n|   sex|\n+------+\n|Female|\n|  Male|\n+------+\n\n"
     ]
    }
   ],
   "source": [
    "df.select('sex').distinct().show()"
   ]
  },
  {
   "cell_type": "code",
   "execution_count": 0,
   "metadata": {
    "application/vnd.databricks.v1+cell": {
     "cellMetadata": {
      "byteLimit": 2048000,
      "rowLimit": 10000
     },
     "inputWidgets": {},
     "nuid": "bed40127-50be-4295-bc9c-776d41e2851c",
     "showTitle": false,
     "title": ""
    }
   },
   "outputs": [
    {
     "output_type": "stream",
     "name": "stdout",
     "output_type": "stream",
     "text": [
      "+---+\n|age|\n+---+\n| 28|\n| 29|\n+---+\n\n"
     ]
    }
   ],
   "source": [
    "df.select('age').distinct().show()"
   ]
  },
  {
   "cell_type": "code",
   "execution_count": 0,
   "metadata": {
    "application/vnd.databricks.v1+cell": {
     "cellMetadata": {
      "byteLimit": 2048000,
      "rowLimit": 10000
     },
     "inputWidgets": {},
     "nuid": "be2b91af-608b-4566-9ff9-89dd1d2d0291",
     "showTitle": false,
     "title": ""
    }
   },
   "outputs": [
    {
     "output_type": "stream",
     "name": "stdout",
     "output_type": "stream",
     "text": [
      "Out[58]: 157"
     ]
    }
   ],
   "source": [
    "df.filter(df.course == \"DB\").count()"
   ]
  },
  {
   "cell_type": "code",
   "execution_count": 0,
   "metadata": {
    "application/vnd.databricks.v1+cell": {
     "cellMetadata": {
      "byteLimit": 2048000,
      "rowLimit": 10000
     },
     "inputWidgets": {},
     "nuid": "076b7b92-7e8f-4075-b2c4-b5e4031d4472",
     "showTitle": false,
     "title": ""
    }
   },
   "outputs": [
    {
     "output_type": "stream",
     "name": "stdout",
     "output_type": "stream",
     "text": [
      "+---+------+-----------------+------+-----------+-----+--------------------+----------+------------+\n|age|   sex|             name|course|roll number|marks|               email|percentage|country name|\n+---+------+-----------------+------+-----------+-----+--------------------+----------+------------+\n| 28|Female|   Maybell Duguay| Cloud|     261439|   30|Nicole Harwood_Ju...|       0.3|     Nigeria|\n| 29|  Male|   Jalisa Swenson|   OOP|    4751515|   30|Annika Hoffman_Hu...|       0.3|     Nigeria|\n| 28|  Male|  Marylee Capasso|   DSA|    2081560|   30|Sheryll Towler_Do...|       0.3|     Nigeria|\n| 29|Female|  Gonzalo Ferebee|   DSA|    5631172|   30|Jeannetta Golden_...|       0.3|     Nigeria|\n| 29|  Male|Michelle Ruggiero|    PF|    6001585|   30|Paris Hutton_Marg...|       0.3|     Nigeria|\n| 29|  Male|     Elenore Choy|    DB|    3652057|   30|Jc Andrepont_Gonz...|       0.3|     Nigeria|\n| 29|Female|Michelle Ruggiero|    DB|    9232210|   30|Donna Yerby_Latia...|       0.3|     Nigeria|\n| 29|Female|   Tamera Blakley|   DSA|    3911247|   30|Donna Yerby_Bonit...|       0.3|     Nigeria|\n| 28|Female|     Jc Andrepont|    PF|     972733|   30|Eda Neathery_Eda ...|       0.3|     Nigeria|\n| 28|  Male|      Abram Nagao| Cloud|    2652463|   31|Eda Neathery_Anni...|      0.31|     Nigeria|\n| 29|  Male|   Tamera Blakley|   OOP|    7341268|   31|Anna Santos_Naoma...|      0.31|     Nigeria|\n| 29|Female|  Gonzalo Ferebee|   OOP|    2262603|   31|Bonita Higuera_Ch...|      0.31|     Nigeria|\n| 28|  Male|    Kizzy Brenner| Cloud|    4622328|   31|Leontine Phillips...|      0.31|     Nigeria|\n| 29|  Male|  Sebrina Maresca| Cloud|    5042394|   31|Donna Yerby_Miche...|      0.31|     Nigeria|\n| 28|  Male|   Bonita Higuera| Cloud|    7671835|   31|Taryn Brownlee_Se...|      0.31|     Nigeria|\n| 29|Female|   Nicole Harwood|    PF|    8121198|   31|Bonita Higuera_Pr...|      0.31|     Nigeria|\n| 29|Female|   Alberta Freund|   OOP|    4501424|   31|Toshiko Hillyard_...|      0.31|     Nigeria|\n| 28|Female|  Sebrina Maresca|    PF|    5742239|   31|Bonita Higuera_Se...|      0.31|     Nigeria|\n| 28|  Male|      Billi Clore|    DB|    9151306|   31|Latia Vanhoose_Er...|      0.31|     Nigeria|\n| 29|  Male|     Paris Hutton|   MVC|     752504|   32|Elenore Choy_Elen...|      0.32|     Nigeria|\n+---+------+-----------------+------+-----------+-----+--------------------+----------+------------+\nonly showing top 20 rows\n\n"
     ]
    }
   ],
   "source": [
    "df.sort(df.marks).show()"
   ]
  },
  {
   "cell_type": "code",
   "execution_count": 0,
   "metadata": {
    "application/vnd.databricks.v1+cell": {
     "cellMetadata": {
      "byteLimit": 2048000,
      "rowLimit": 10000
     },
     "inputWidgets": {},
     "nuid": "cdeb31c5-7b04-4a2e-98be-c40cd80b7958",
     "showTitle": false,
     "title": ""
    }
   },
   "outputs": [
    {
     "output_type": "stream",
     "name": "stdout",
     "output_type": "stream",
     "text": [
      "+---+------+---------------+------+-----------+-----+--------------------+----------+------------+\n|age|   sex|           name|course|roll number|marks|               email|percentage|country name|\n+---+------+---------------+------+-----------+-----+--------------------+----------+------------+\n| 28|  Male|Marylee Capasso|   DSA|    2081560|   30|Sheryll Towler_Do...|       0.3|     Nigeria|\n| 28|Female| Maybell Duguay| Cloud|     261439|   30|Nicole Harwood_Ju...|       0.3|     Nigeria|\n| 28|Female|   Jc Andrepont|    PF|     972733|   30|Eda Neathery_Eda ...|       0.3|     Nigeria|\n| 28|Female|Sebrina Maresca|    PF|    5742239|   31|Bonita Higuera_Se...|      0.31|     Nigeria|\n| 28|  Male|  Kizzy Brenner| Cloud|    4622328|   31|Leontine Phillips...|      0.31|     Nigeria|\n| 28|  Male| Bonita Higuera| Cloud|    7671835|   31|Taryn Brownlee_Se...|      0.31|     Nigeria|\n| 28|  Male|    Abram Nagao| Cloud|    2652463|   31|Eda Neathery_Anni...|      0.31|     Nigeria|\n| 28|  Male|    Billi Clore|    DB|    9151306|   31|Latia Vanhoose_Er...|      0.31|     Nigeria|\n| 28|  Male|    Anna Santos|    DB|    9772185|   32|Kizzy Brenner_Ann...|      0.32|     Nigeria|\n| 28|Female|    Donna Yerby| Cloud|    4392575|   32|Leontine Phillips...|      0.32|     Nigeria|\n| 28|Female|   Cheri Kenney| Cloud|    2281771|   32|Tamera Blakley_Ab...|      0.32|     Nigeria|\n| 28|  Male|   Eda Neathery|    PF|    5082430|   32|Leontine Phillips...|      0.32|     Nigeria|\n| 28|Female|    Neda Briski|    PF|    3251377|   33|Kizzy Brenner_Mic...|      0.33|     Nigeria|\n| 28|Female| Bonita Higuera| Cloud|    6061881|   33|Dustin Feagins_La...|      0.33|     Nigeria|\n| 28|  Male|  Santa Kerfien|   MVC|    1992202|   33|Annika Hoffman_Ta...|      0.33|     Nigeria|\n| 28|  Male|Gonzalo Ferebee|   OOP|    7162059|   33|Melani Engberg_Me...|      0.33|     Nigeria|\n| 28|Female|  Santa Kerfien|   OOP|    3931948|   34|Jeannetta Golden_...|      0.34|     Nigeria|\n| 28|  Male| Bonita Higuera| Cloud|    1401526|   34|Jc Andrepont_Cher...|      0.34|     Nigeria|\n| 28|  Male|    Anna Santos|   OOP|    1621905|   34|Elenore Choy_Sant...|      0.34|     Nigeria|\n| 28|  Male| Alberta Freund| Cloud|    1802934|   34|Maybell Duguay_Pa...|      0.34|     Nigeria|\n+---+------+---------------+------+-----------+-----+--------------------+----------+------------+\nonly showing top 20 rows\n\n"
     ]
    }
   ],
   "source": [
    "df.sort(df.age,df.marks).show()"
   ]
  },
  {
   "cell_type": "code",
   "execution_count": 0,
   "metadata": {
    "application/vnd.databricks.v1+cell": {
     "cellMetadata": {
      "byteLimit": 2048000,
      "rowLimit": 10000
     },
     "inputWidgets": {},
     "nuid": "41c11e09-baea-4b4b-bdae-a95bd1dd7b63",
     "showTitle": false,
     "title": ""
    }
   },
   "outputs": [
    {
     "output_type": "stream",
     "name": "stdout",
     "output_type": "stream",
     "text": [
      "+---+------+-----------------+------+-----------+-----+--------------------+----------+------------+\n|age|   sex|             name|course|roll number|marks|               email|percentage|country name|\n+---+------+-----------------+------+-----------+-----+--------------------+----------+------------+\n| 28|Female|   Maybell Duguay| Cloud|     261439|   30|Nicole Harwood_Ju...|       0.3|     Nigeria|\n| 29|  Male|   Jalisa Swenson|   OOP|    4751515|   30|Annika Hoffman_Hu...|       0.3|     Nigeria|\n| 28|  Male|  Marylee Capasso|   DSA|    2081560|   30|Sheryll Towler_Do...|       0.3|     Nigeria|\n| 29|Female|  Gonzalo Ferebee|   DSA|    5631172|   30|Jeannetta Golden_...|       0.3|     Nigeria|\n| 29|  Male|Michelle Ruggiero|    PF|    6001585|   30|Paris Hutton_Marg...|       0.3|     Nigeria|\n| 29|  Male|     Elenore Choy|    DB|    3652057|   30|Jc Andrepont_Gonz...|       0.3|     Nigeria|\n| 29|Female|Michelle Ruggiero|    DB|    9232210|   30|Donna Yerby_Latia...|       0.3|     Nigeria|\n| 29|Female|   Tamera Blakley|   DSA|    3911247|   30|Donna Yerby_Bonit...|       0.3|     Nigeria|\n| 28|Female|     Jc Andrepont|    PF|     972733|   30|Eda Neathery_Eda ...|       0.3|     Nigeria|\n| 28|  Male|      Abram Nagao| Cloud|    2652463|   31|Eda Neathery_Anni...|      0.31|     Nigeria|\n| 29|  Male|   Tamera Blakley|   OOP|    7341268|   31|Anna Santos_Naoma...|      0.31|     Nigeria|\n| 29|Female|  Gonzalo Ferebee|   OOP|    2262603|   31|Bonita Higuera_Ch...|      0.31|     Nigeria|\n| 28|  Male|    Kizzy Brenner| Cloud|    4622328|   31|Leontine Phillips...|      0.31|     Nigeria|\n| 29|  Male|  Sebrina Maresca| Cloud|    5042394|   31|Donna Yerby_Miche...|      0.31|     Nigeria|\n| 28|  Male|   Bonita Higuera| Cloud|    7671835|   31|Taryn Brownlee_Se...|      0.31|     Nigeria|\n| 29|Female|   Nicole Harwood|    PF|    8121198|   31|Bonita Higuera_Pr...|      0.31|     Nigeria|\n| 29|Female|   Alberta Freund|   OOP|    4501424|   31|Toshiko Hillyard_...|      0.31|     Nigeria|\n| 28|Female|  Sebrina Maresca|    PF|    5742239|   31|Bonita Higuera_Se...|      0.31|     Nigeria|\n| 28|  Male|      Billi Clore|    DB|    9151306|   31|Latia Vanhoose_Er...|      0.31|     Nigeria|\n| 29|  Male|     Paris Hutton|   MVC|     752504|   32|Elenore Choy_Elen...|      0.32|     Nigeria|\n+---+------+-----------------+------+-----------+-----+--------------------+----------+------------+\nonly showing top 20 rows\n\n"
     ]
    }
   ],
   "source": [
    "df.orderBy(df.marks).show()"
   ]
  },
  {
   "cell_type": "code",
   "execution_count": 0,
   "metadata": {
    "application/vnd.databricks.v1+cell": {
     "cellMetadata": {
      "byteLimit": 2048000,
      "rowLimit": 10000
     },
     "inputWidgets": {},
     "nuid": "47fc5af6-603b-4e57-a831-dbd3e886632d",
     "showTitle": false,
     "title": ""
    }
   },
   "outputs": [
    {
     "output_type": "stream",
     "name": "stdout",
     "output_type": "stream",
     "text": [
      "+---+------+-----------------+------+-----------+-----+--------------------+----------+------------+\n|age|   sex|             name|course|roll number|marks|               email|percentage|country name|\n+---+------+-----------------+------+-----------+-----+--------------------+----------+------------+\n| 29|Female|   Tamera Blakley|   DSA|    3911247|   30|Donna Yerby_Bonit...|       0.3|     Nigeria|\n| 28|Female|     Jc Andrepont|    PF|     972733|   30|Eda Neathery_Eda ...|       0.3|     Nigeria|\n| 29|Female|  Gonzalo Ferebee|   DSA|    5631172|   30|Jeannetta Golden_...|       0.3|     Nigeria|\n| 28|Female|   Maybell Duguay| Cloud|     261439|   30|Nicole Harwood_Ju...|       0.3|     Nigeria|\n| 29|Female|Michelle Ruggiero|    DB|    9232210|   30|Donna Yerby_Latia...|       0.3|     Nigeria|\n| 28|Female|  Sebrina Maresca|    PF|    5742239|   31|Bonita Higuera_Se...|      0.31|     Nigeria|\n| 29|Female|   Alberta Freund|   OOP|    4501424|   31|Toshiko Hillyard_...|      0.31|     Nigeria|\n| 29|Female|   Nicole Harwood|    PF|    8121198|   31|Bonita Higuera_Pr...|      0.31|     Nigeria|\n| 29|Female|  Gonzalo Ferebee|   OOP|    2262603|   31|Bonita Higuera_Ch...|      0.31|     Nigeria|\n| 28|Female|      Donna Yerby| Cloud|    4392575|   32|Leontine Phillips...|      0.32|     Nigeria|\n| 28|Female|     Cheri Kenney| Cloud|    2281771|   32|Tamera Blakley_Ab...|      0.32|     Nigeria|\n| 29|Female|   Maybell Duguay|   MVC|    1102536|   32|Somer Stoecker_Ma...|      0.32|     Nigeria|\n| 29|Female|      Niki Klimek|    PF|     211508|   33|Cordie Harnois_Ju...|      0.33|     Nigeria|\n| 28|Female|   Bonita Higuera| Cloud|    6061881|   33|Dustin Feagins_La...|      0.33|     Nigeria|\n| 29|Female|  Hubert Oliveras|   DSA|    5542363|   33|Priscila Tavernie...|      0.33|     Nigeria|\n| 29|Female|     Naoma Fritts|   DSA|    4582052|   33|Kena Wild_Jenna M...|      0.33|     Nigeria|\n| 28|Female|      Neda Briski|    PF|    3251377|   33|Kizzy Brenner_Mic...|      0.33|     Nigeria|\n| 29|Female|   Sheryll Towler|   OOP|    6672653|   33|Jenna Montague_Sa...|      0.33|     Nigeria|\n| 29|Female|   Jenna Montague|    PF|    9991617|   33|Anna Santos_Jenna...|      0.33|     Nigeria|\n| 29|Female|      Abram Nagao|    PF|    9711154|   33|Judie Chipps_Naom...|      0.33|     Nigeria|\n+---+------+-----------------+------+-----------+-----+--------------------+----------+------------+\nonly showing top 20 rows\n\n"
     ]
    }
   ],
   "source": [
    "df.orderBy(df.sex,df.marks).show()"
   ]
  },
  {
   "cell_type": "code",
   "execution_count": 0,
   "metadata": {
    "application/vnd.databricks.v1+cell": {
     "cellMetadata": {
      "byteLimit": 2048000,
      "rowLimit": 10000
     },
     "inputWidgets": {},
     "nuid": "14773959-f708-49a7-94f3-bc16ac6c6052",
     "showTitle": false,
     "title": ""
    }
   },
   "outputs": [
    {
     "output_type": "stream",
     "name": "stdout",
     "output_type": "stream",
     "text": [
      "+---+------+------------------+------+-----------+-----+--------------------+----------+------------+\n|age|   sex|              name|course|roll number|marks|               email|percentage|country name|\n+---+------+------------------+------+-----------+-----+--------------------+----------+------------+\n| 29|  Male|    Maybell Duguay|    PF|     701486|  109|Clementina Menke_...|      1.09|     Nigeria|\n| 28|  Male|    Loris Crossett|   OOP|    9692316|  109|Judie Chipps_Mich...|      1.09|     Nigeria|\n| 29|  Male|   Gonzalo Ferebee|   MVC|    5772006|  109|Niki Klimek_Marge...|      1.09|     Nigeria|\n| 29|Female|    Alberta Freund|   DSA|    6071316|  109|Dustin Feagins_Se...|      1.09|     Nigeria|\n| 29|Female|Priscila Tavernier|   OOP|    3902993|  109|Celeste Lollis_Bi...|      1.09|     Nigeria|\n| 29|Female|      Paris Hutton|   DSA|     271472|  109|Sheryll Towler_Al...|      1.09|     Nigeria|\n| 28|  Male|       Niki Klimek|   DSA|    5172507|  109|Marylee Capasso_E...|      1.09|     Nigeria|\n| 29|  Male| Michelle Ruggiero|   DSA|    1022971|  109|Cordie Harnois_Cl...|      1.09|     Nigeria|\n| 29|Female|      Eda Neathery|    PF|    9222608|  109|Kena Wild_Lawanda...|      1.09|     Nigeria|\n| 28|Female|    Melani Engberg| Cloud|    1872667|  109|Alberta Freund_Ni...|      1.09|     Nigeria|\n| 28|Female|    Jalisa Swenson|   MVC|    5712033|  109|Dustin Feagins_Hu...|      1.09|     Nigeria|\n| 28|Female|      Judie Chipps|   OOP|    5451977|  109|Tamera Blakley_Mi...|      1.09|     Nigeria|\n| 29|  Male|    Melani Engberg|    DB|    2941257|  108|Claude Panos_Kena...|      1.08|     Nigeria|\n| 28|  Male|  Clementina Menke|   DSA|    2772189|  108|Donna Yerby_Judie...|      1.08|     Nigeria|\n| 28|  Male|    Jenna Montague|   OOP|    3331161|  108|Leontine Phillips...|      1.08|     Nigeria|\n| 28|  Male|    Loris Crossett|   OOP|    8172914|  108|Paris Hutton_Pari...|      1.08|     Nigeria|\n| 29|  Male|    Alberta Freund|    DB|    1671638|  108|Clementina Menke_...|      1.08|     Nigeria|\n| 29|Female|  Lawanda Wohlwend| Cloud|    7222880|  108|Sheryll Towler_An...|      1.08|     Nigeria|\n| 28|Female|      Judie Chipps|   DSA|    4631068|  108|Toshiko Hillyard_...|      1.08|     Nigeria|\n| 28|Female|    Somer Stoecker|    PF|    5882098|  108|Judie Chipps_Clem...|      1.08|     Nigeria|\n+---+------+------------------+------+-----------+-----+--------------------+----------+------------+\nonly showing top 20 rows\n\n"
     ]
    }
   ],
   "source": [
    "df.orderBy(df.marks.desc()).show()"
   ]
  },
  {
   "cell_type": "code",
   "execution_count": 0,
   "metadata": {
    "application/vnd.databricks.v1+cell": {
     "cellMetadata": {
      "byteLimit": 2048000,
      "rowLimit": 10000
     },
     "inputWidgets": {},
     "nuid": "9d6d1c8a-77a1-4782-88de-f97d7e0143c8",
     "showTitle": false,
     "title": ""
    }
   },
   "outputs": [
    {
     "output_type": "stream",
     "name": "stdout",
     "output_type": "stream",
     "text": [
      "+---+----+-----------------+------+-----------+-----+--------------------+----------+------------+\n|age| sex|             name|course|roll number|marks|               email|percentage|country name|\n+---+----+-----------------+------+-----------+-----+--------------------+----------+------------+\n| 29|Male|   Jalisa Swenson|   OOP|    4751515|   30|Annika Hoffman_Hu...|       0.3|     Nigeria|\n| 29|Male|Michelle Ruggiero|    PF|    6001585|   30|Paris Hutton_Marg...|       0.3|     Nigeria|\n| 29|Male|     Elenore Choy|    DB|    3652057|   30|Jc Andrepont_Gonz...|       0.3|     Nigeria|\n| 28|Male|  Marylee Capasso|   DSA|    2081560|   30|Sheryll Towler_Do...|       0.3|     Nigeria|\n| 29|Male|   Tamera Blakley|   OOP|    7341268|   31|Anna Santos_Naoma...|      0.31|     Nigeria|\n| 28|Male|      Billi Clore|    DB|    9151306|   31|Latia Vanhoose_Er...|      0.31|     Nigeria|\n| 28|Male|      Abram Nagao| Cloud|    2652463|   31|Eda Neathery_Anni...|      0.31|     Nigeria|\n| 28|Male|   Bonita Higuera| Cloud|    7671835|   31|Taryn Brownlee_Se...|      0.31|     Nigeria|\n| 29|Male|  Sebrina Maresca| Cloud|    5042394|   31|Donna Yerby_Miche...|      0.31|     Nigeria|\n| 28|Male|    Kizzy Brenner| Cloud|    4622328|   31|Leontine Phillips...|      0.31|     Nigeria|\n| 29|Male|     Paris Hutton|   MVC|     752504|   32|Elenore Choy_Elen...|      0.32|     Nigeria|\n| 29|Male|   Margene Moores|   DSA|    3942449|   32|Tijuana Kropf_Nao...|      0.32|     Nigeria|\n| 28|Male|     Eda Neathery|    PF|    5082430|   32|Leontine Phillips...|      0.32|     Nigeria|\n| 29|Male|   Annika Hoffman|   OOP|     171660|   32|Taryn Brownlee_Mi...|      0.32|     Nigeria|\n| 29|Male|     Paris Hutton|   DSA|    9702829|   32|Hubert Oliveras_C...|      0.32|     Nigeria|\n| 28|Male|      Anna Santos|    DB|    9772185|   32|Kizzy Brenner_Ann...|      0.32|     Nigeria|\n| 29|Male|   Maybell Duguay|   DSA|    4441473|   33|Billi Clore_Cleme...|      0.33|     Nigeria|\n| 28|Male|    Santa Kerfien|   MVC|    1992202|   33|Annika Hoffman_Ta...|      0.33|     Nigeria|\n| 29|Male|   Tamera Blakley|   DSA|    2661934|   33|Alberta Freund_Ti...|      0.33|     Nigeria|\n| 29|Male|  Sebrina Maresca|    PF|    2712040|   33|Jeannetta Golden_...|      0.33|     Nigeria|\n+---+----+-----------------+------+-----------+-----+--------------------+----------+------------+\nonly showing top 20 rows\n\n"
     ]
    }
   ],
   "source": [
    "df.orderBy(df.sex.desc(),df.marks.asc()).show()"
   ]
  },
  {
   "cell_type": "code",
   "execution_count": 0,
   "metadata": {
    "application/vnd.databricks.v1+cell": {
     "cellMetadata": {
      "byteLimit": 2048000,
      "rowLimit": 10000
     },
     "inputWidgets": {},
     "nuid": "8ef20a5f-6d9c-42f4-9cfb-336fa45ffeb8",
     "showTitle": false,
     "title": ""
    }
   },
   "outputs": [
    {
     "output_type": "stream",
     "name": "stdout",
     "output_type": "stream",
     "text": [
      "Out[67]: <pyspark.sql.group.GroupedData at 0x7fd5d9e87fd0>"
     ]
    }
   ],
   "source": [
    "df.groupBy('sex')"
   ]
  },
  {
   "cell_type": "code",
   "execution_count": 0,
   "metadata": {
    "application/vnd.databricks.v1+cell": {
     "cellMetadata": {
      "byteLimit": 2048000,
      "rowLimit": 10000
     },
     "inputWidgets": {},
     "nuid": "d55bc7e5-878f-44f7-9dee-2dfaec11ef62",
     "showTitle": false,
     "title": ""
    }
   },
   "outputs": [
    {
     "output_type": "stream",
     "name": "stdout",
     "output_type": "stream",
     "text": [
      "+------+-----+\n|   sex|count|\n+------+-----+\n|Female|  501|\n|  Male|  499|\n+------+-----+\n\n"
     ]
    }
   ],
   "source": [
    "df.groupBy('sex').count().show()"
   ]
  },
  {
   "cell_type": "code",
   "execution_count": 0,
   "metadata": {
    "application/vnd.databricks.v1+cell": {
     "cellMetadata": {
      "byteLimit": 2048000,
      "rowLimit": 10000
     },
     "inputWidgets": {},
     "nuid": "eef8249e-68d7-486b-947c-5ee58829499e",
     "showTitle": false,
     "title": ""
    }
   },
   "outputs": [
    {
     "output_type": "stream",
     "name": "stdout",
     "output_type": "stream",
     "text": [
      "+------+-----+\n|course|count|\n+------+-----+\n|    PF|  166|\n|    DB|  157|\n|   MVC|  157|\n|   DSA|  176|\n| Cloud|  192|\n|   OOP|  152|\n+------+-----+\n\n"
     ]
    }
   ],
   "source": [
    "df.groupBy('course').count().show()"
   ]
  },
  {
   "cell_type": "code",
   "execution_count": 0,
   "metadata": {
    "application/vnd.databricks.v1+cell": {
     "cellMetadata": {
      "byteLimit": 2048000,
      "rowLimit": 10000
     },
     "inputWidgets": {},
     "nuid": "4acbf088-667b-4dd2-b098-6221ae1c9337",
     "showTitle": false,
     "title": ""
    }
   },
   "outputs": [
    {
     "output_type": "stream",
     "name": "stdout",
     "output_type": "stream",
     "text": [
      "+------+----------+\n|   sex|max(marks)|\n+------+----------+\n|Female|       109|\n|  Male|       109|\n+------+----------+\n\n"
     ]
    }
   ],
   "source": [
    "df.groupBy('sex').max('marks').show()"
   ]
  },
  {
   "cell_type": "code",
   "execution_count": 0,
   "metadata": {
    "application/vnd.databricks.v1+cell": {
     "cellMetadata": {
      "byteLimit": 2048000,
      "rowLimit": 10000
     },
     "inputWidgets": {},
     "nuid": "5b8ad0f1-6bed-47c1-b266-e6fc4137d892",
     "showTitle": false,
     "title": ""
    }
   },
   "outputs": [
    {
     "output_type": "stream",
     "name": "stdout",
     "output_type": "stream",
     "text": [
      "+------+----------+\n|   sex|min(marks)|\n+------+----------+\n|Female|        30|\n|  Male|        30|\n+------+----------+\n\n"
     ]
    }
   ],
   "source": [
    "df.groupBy('sex').min('marks').show()"
   ]
  },
  {
   "cell_type": "code",
   "execution_count": 0,
   "metadata": {
    "application/vnd.databricks.v1+cell": {
     "cellMetadata": {
      "byteLimit": 2048000,
      "rowLimit": 10000
     },
     "inputWidgets": {},
     "nuid": "60e72c61-fb2d-44cc-b9cf-8cb0afd0a145",
     "showTitle": false,
     "title": ""
    }
   },
   "outputs": [
    {
     "output_type": "stream",
     "name": "stdout",
     "output_type": "stream",
     "text": [
      "+------+-----------------+\n|   sex|       avg(marks)|\n+------+-----------------+\n|Female|69.15369261477046|\n|  Male| 71.0440881763527|\n+------+-----------------+\n\n"
     ]
    }
   ],
   "source": [
    "df.groupBy('sex').avg('marks').show()"
   ]
  },
  {
   "cell_type": "code",
   "execution_count": 0,
   "metadata": {
    "application/vnd.databricks.v1+cell": {
     "cellMetadata": {},
     "inputWidgets": {},
     "nuid": "f7921dea-577c-451f-bfdd-6090beb055d4",
     "showTitle": false,
     "title": ""
    }
   },
   "outputs": [],
   "source": []
  }
 ],
 "metadata": {
  "application/vnd.databricks.v1+notebook": {
   "dashboards": [],
   "language": "python",
   "notebookMetadata": {
    "pythonIndentUnit": 4
   },
   "notebookName": "Final PySpark Dataframe",
   "widgets": {}
  },
  "kernelspec": {
   "display_name": "Python 3 (ipykernel)",
   "language": "python",
   "name": "python3"
  },
  "language_info": {
   "codemirror_mode": {
    "name": "ipython",
    "version": 3
   },
   "file_extension": ".py",
   "mimetype": "text/x-python",
   "name": "python",
   "nbconvert_exporter": "python",
   "pygments_lexer": "ipython3",
   "version": "3.10.9"
  }
 },
 "nbformat": 4,
 "nbformat_minor": 0
}
